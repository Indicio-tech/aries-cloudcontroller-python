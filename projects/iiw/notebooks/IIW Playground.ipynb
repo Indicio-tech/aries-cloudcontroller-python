{
 "cells": [
  {
   "cell_type": "markdown",
   "metadata": {},
   "source": [
    "# IIW Agent Playground"
   ]
  },
  {
   "cell_type": "markdown",
   "metadata": {},
   "source": [
    "Welcome to the OpenMined Aries ACA-Py Juypter notebook playground. Using these notebooks you will be able to control your ACA-Py instance to interact with other agents being used at IIW. This should include mobile agents, other agent instances of this playground, trinsic agents and PICO agent applications. Basically any agent that supports the same aries-rfs as ACA-Py.\n",
    "\n",
    "This is an experiment and might not work but hopefully it will be fun!\n",
    "\n",
    "It is a playground because we have only created the skeleton to get you started. You can customise your \"SSI Application\" however you see fit by writing custom code right here within the notebooks. We have developed a python wrapper for the ACA-Py swagger api called the [aries-basic-controller](https://pypi.org/project/aries-basic-controller/) and a full tutorial series explaining how to use it to interact with your agent to perform basic agent flows [here](https://github.com/OpenMined/PyDentity/tree/master/tutorials/aries-basic-controller) if you get stuck.\n",
    "\n",
    "Your agent is currently pointing at the Sovrin StagingNet and is using default storage for an indy wallet which is mapped using docker volumes so it should persist across multiple ./manage up's. Additionally the agents endpoint is exposed using ngrok, however this has a timelimit and will be a different url every time the docker is restarted. This *might* mess up the ability to communicate over connections, so the best advice is just to leave it running. Currently the agent is configured with all the --accept flags set that ACA-Py supports, feel free to change this. See the docker-compose.yml for more details.\n",
    "\n",
    "We also included an attachment protocol so if you need to send files securely during IIW give it a try.\n",
    "\n",
    "\n"
   ]
  },
  {
   "cell_type": "markdown",
   "metadata": {},
   "source": [
    "## Initialise your controller"
   ]
  },
  {
   "cell_type": "code",
   "execution_count": 7,
   "metadata": {},
   "outputs": [
    {
     "name": "stdout",
     "output_type": "stream",
     "text": [
      "IPython autoawait is `on`, and set to use `asyncio`\n"
     ]
    }
   ],
   "source": [
    "%autoawait\n",
    "import time\n",
    "import qrcode\n",
    "from aiohttp import FormData\n",
    "import asyncio\n",
    "from IPython.display import Image\n",
    "\n",
    "from termcolor import colored,cprint\n",
    "from attachment_controller.attachment_controller import AttachmentController\n",
    "    \n",
    "# Anyone know how to get env variables into juypter notebooks through docker easily?\n",
    "WEBHOOK_HOST = \"0.0.0.0\"\n",
    "WEBHOOK_PORT = 8022\n",
    "WEBHOOK_BASE = \"\"\n",
    "ADMIN_URL = \"http://iiw-agent:8021\"\n",
    "# You may have changed us\n",
    "API_KEY = \"iiw_api_123456789\"\n",
    "\n",
    "# Note AttachmentController just extends the basic controller to include the new attachment endpoint\n",
    "agent_controller = AttachmentController(webhook_host=WEBHOOK_HOST, webhook_port=WEBHOOK_PORT,\n",
    "                                       webhook_base=WEBHOOK_BASE, admin_url=ADMIN_URL, api_key=API_KEY)"
   ]
  },
  {
   "cell_type": "markdown",
   "metadata": {},
   "source": [
    "## Do you intend to issue credentials? If so execute this block to write a DID to the Sovrin StagingNet.\n",
    "\n",
    "Note: Because the volume of the indy wallet storage is being mapped you should only need to do this **one time**"
   ]
  },
  {
   "cell_type": "code",
   "execution_count": 3,
   "metadata": {},
   "outputs": [
    {
     "name": "stdout",
     "output_type": "stream",
     "text": [
      "{'result': None}\n"
     ]
    }
   ],
   "source": [
    "# Check if you have a public DID\n",
    "response = await agent_controller.wallet.get_public_did()\n",
    "print(response)"
   ]
  },
  {
   "cell_type": "code",
   "execution_count": 4,
   "metadata": {},
   "outputs": [
    {
     "name": "stdout",
     "output_type": "stream",
     "text": [
      "New DID {'did': '8hW4QYSJKUdwEwoidcV9DC', 'verkey': '5CMn5broUxK1RGWVbNLY5sdTNFykN57mHthmk3GVJqgr', 'public': False}\n",
      "Your new public DID:  8hW4QYSJKUdwEwoidcV9DC\n"
     ]
    }
   ],
   "source": [
    "import requests\n",
    "import json \n",
    "\n",
    "# generate new DID\n",
    "response = await agent_controller.wallet.create_did()\n",
    "\n",
    "did_object = response['result']\n",
    "print(\"New DID\", did_object)\n",
    "\n",
    "# write new DID to Sovrin Stagingnet\n",
    "url = 'https://selfserve.sovrin.org/nym'\n",
    "\n",
    "payload = {\"network\":\"stagingnet\",\"did\": did_object[\"did\"],\"verkey\":did_object[\"verkey\"],\"paymentaddr\":\"\"}\n",
    "\n",
    "# Adding empty header as parameters are being sent in payload\n",
    "headers = {}\n",
    "\n",
    "r = requests.post(url, data=json.dumps(payload), headers=headers)\n",
    "\n",
    "# Accept the TAA\n",
    "response = await agent_controller.ledger.get_taa()\n",
    "TAA = response['result']['taa_record']\n",
    "TAA['mechanism'] = \"service_agreement\"\n",
    "\n",
    "await agent_controller.ledger.accept_taa(TAA)\n",
    "\n",
    "response = await agent_controller.wallet.assign_public_did(did_object[\"did\"])\n",
    "print(\"Your new public DID: \", response[\"result\"][\"did\"])"
   ]
  },
  {
   "cell_type": "markdown",
   "metadata": {},
   "source": [
    "## What Credentials do you intend to issue if any?\n",
    "\n",
    "You could define your own scheme and write them to the ledger or write a credential definition for a schema that already exists on the ledger. Check out [IndyScan](https://indyscan.io/txs/SOVRIN_STAGINGNET/domain?page=1&pageSize=50&filterTxNames=[%22SCHEMA%22]&sortFromRecent=true) for some ideas."
   ]
  },
  {
   "cell_type": "code",
   "execution_count": null,
   "metadata": {},
   "outputs": [],
   "source": [
    "# Define you schema name - must be unique on the ledger\n",
    "schema_name = \"IIW Encounter\"\n",
    "# Can version the schema if you wish to update it\n",
    "schema_version = \"0.0.1\"\n",
    "# Define any list of attributes you wish to include in your schema\n",
    "attributes = [\"name\"]\n",
    "\n",
    "response = await agent_controller.schema.write_schema(schema_name, attributes, schema_version)\n",
    "schema_id = response[\"schema_id\"]\n",
    "print(schema_id)\n"
   ]
  },
  {
   "cell_type": "code",
   "execution_count": null,
   "metadata": {},
   "outputs": [],
   "source": [
    "# Write as many credential definitions as you like.\n",
    "# Remember to save the cred_def_id's though. You will need these to issue credentials\n",
    "response = await agent_controller.definitions.write_cred_def(schema_id)\n",
    "\n",
    "cred_def_id = response[\"credential_definition_id\"]\n",
    "print(cred_def_id)"
   ]
  },
  {
   "cell_type": "markdown",
   "metadata": {},
   "source": [
    "## Configure your handlers\n",
    "\n",
    "This is how you respond to messages that your ACA-Py instance receives. Probably a good place to start if you want to customise your application."
   ]
  },
  {
   "cell_type": "code",
   "execution_count": 8,
   "metadata": {},
   "outputs": [],
   "source": [
    "# Receive basic messages\n",
    "def messages_handler(payload):\n",
    "    connection_id = payload[\"connection_id\"]\n",
    "    print(\"Handle message\", payload, connection_id)\n",
    "    \n",
    "\n",
    "\n",
    "message_listener = {\n",
    "    \"handler\": messages_handler,\n",
    "    \"topic\": \"basicmessages\"\n",
    "}\n",
    "\n",
    "# Receive attachments\n",
    "def attach_handler(payload):\n",
    "    connection_id = payload['connection_id']\n",
    "    print(\"Handle Attachment\", payload, connection_id)\n",
    "    print(\"Attachment Received\")\n",
    "    data = payload['content']\n",
    "    filename = payload['filename']\n",
    "    file_content = base64.b64decode(data)\n",
    "    filepath = f\"received_files/{filename}\"\n",
    "    f = open(filepath,'wb')\n",
    "    f.write(file_content)\n",
    "    f.close()\n",
    "\n",
    "attach_listener = {\n",
    "    \"handler\": attach_handler,\n",
    "    \"topic\": \"attachment\"\n",
    "}\n",
    "\n",
    "# Issue credential messages\n",
    "def cred_handler(payload):\n",
    "    print(\"Handle Credentials\")\n",
    "    exchange_id = payload['credential_exchange_id']\n",
    "    state = payload['state']\n",
    "    role = payload['role']\n",
    "    attributes = payload['credential_proposal_dict']['credential_proposal']['attributes']\n",
    "    print(f\"Credential exchange {exchange_id}, role: {role}, state: {state}\")\n",
    "    print(f\"Offering: {attributes}\")\n",
    "    \n",
    "cred_listener = {\n",
    "    \"topic\": \"issue_credential\",\n",
    "    \"handler\": cred_handler\n",
    "}\n",
    "\n",
    "# Receive connection messages\n",
    "def connections_handler(payload):\n",
    "    global STATE\n",
    "    connection_id = payload[\"connection_id\"]\n",
    "    print(\"Connection message\", payload, connection_id)\n",
    "    STATE = payload['state']\n",
    "    if STATE == \"response\":\n",
    "\n",
    "        # Ensures connections moved to active\n",
    "        loop = asyncio.get_event_loop()\n",
    "        time.sleep(2)\n",
    "        print(colored(\"Trust ping send to ConnectionId {0} to activate connection\".format(connection_id), \"blue\", attrs=[\"bold\"]))\n",
    "        loop.create_task(agent_controller.messaging.trust_ping(connection_id, 'hello!'))\n",
    "\n",
    "    if STATE == 'active':\n",
    "#         print('Connection {0} changed state to active'.format(connection_id))\n",
    "        print(colored(\"ConnectionId: {0} is now active.\".format(connection_id), \"green\", attrs=[\"bold\"]))\n",
    "\n",
    "\n",
    "\n",
    "# Note: You could have more than one listener & handler for the same topic\n",
    "connection_listener = {\n",
    "    \"handler\": connections_handler,\n",
    "    \"topic\": \"connections\"\n",
    "}\n",
    "\n",
    "# Receive proof messages\n",
    "def proof_handler(payload):\n",
    "    print(\"Handle present proof\")\n",
    "    print(payload)\n",
    "\n",
    "proof_listener = {\n",
    "    \"topic\": \"present_proof\",\n",
    "    \"handler\": proof_handler\n",
    "}\n",
    "\n",
    "\n",
    "\n",
    "loop = asyncio.get_event_loop()\n",
    "loop.create_task(agent_controller.listen_webhooks())\n",
    "\n",
    "agent_controller.register_listeners([message_listener, attach_listener, cred_listener, proof_listener, connection_listener], defaults=False)"
   ]
  },
  {
   "cell_type": "markdown",
   "metadata": {},
   "source": [
    "## Create an Invitation\n",
    "\n",
    "You may want to set an alias so you know who your connection represents.\n",
    "\n",
    "Additionally if you are sharing this url in a chat for others to connect you might want to make it multi_use.\n"
   ]
  },
  {
   "cell_type": "code",
   "execution_count": 7,
   "metadata": {},
   "outputs": [
    {
     "name": "stdout",
     "output_type": "stream",
     "text": [
      "Connection ID 5dd1f462-a9e9-4383-835a-7c8edc10bf3f\n",
      "Invitation\n",
      "http://172.17.0.1:8020?c_i=eyJAdHlwZSI6ICJkaWQ6c292OkJ6Q2JzTlloTXJqSGlxWkRUVUFTSGc7c3BlYy9jb25uZWN0aW9ucy8xLjAvaW52aXRhdGlvbiIsICJAaWQiOiAiNTlhMDM1YmYtODQxYy00ZjZjLWJjMjMtMzk0MGZjMGE4MGY4IiwgInNlcnZpY2VFbmRwb2ludCI6ICJodHRwOi8vMTcyLjE3LjAuMTo4MDIwIiwgImxhYmVsIjogIklJVyIsICJyZWNpcGllbnRLZXlzIjogWyI4eFRCWkF6UFRyM3o0dzdDczJ3M2VxU1RzTUREUGhhY3VTMmM2cUZtNjI0ayJdfQ==\n",
      "{'@type': 'did:sov:BzCbsNYhMrjHiqZDTUASHg;spec/connections/1.0/invitation', '@id': '59a035bf-841c-4f6c-bc23-3940fc0a80f8', 'serviceEndpoint': 'http://172.17.0.1:8020', 'label': 'IIW', 'recipientKeys': ['8xTBZAzPTr3z4w7Cs2w3eqSTsMDDPhacuS2c6qFm624k']}\n",
      "Connection message {'accept': 'auto', 'connection_id': '5dd1f462-a9e9-4383-835a-7c8edc10bf3f', 'state': 'invitation', 'updated_at': '2020-10-19 13:58:40.282451Z', 'initiator': 'self', 'invitation_mode': 'multi', 'created_at': '2020-10-19 13:58:40.282451Z', 'routing_state': 'none', 'invitation_key': '8xTBZAzPTr3z4w7Cs2w3eqSTsMDDPhacuS2c6qFm624k', 'alias': 'OM IIW Playground Connection'} 5dd1f462-a9e9-4383-835a-7c8edc10bf3f\n"
     ]
    }
   ],
   "source": [
    "# Config\n",
    "alias = \"OM IIW Playground Connection\"\n",
    "multi_use = \"true\"\n",
    "\n",
    "# Create Invitation\n",
    "invite = await agent_controller.connections.create_invitation(alias=alias, multi_use=multi_use)\n",
    "# invite = await agent_controller.connections.create_invitation()\n",
    "connection_id = invite[\"connection_id\"]\n",
    "print(\"Connection ID\", connection_id)\n",
    "print(\"Invitation\")\n",
    "print(invite['invitation_url'])\n",
    "inviteURL = invite['invitation_url']\n",
    "print(invite[\"invitation\"])"
   ]
  },
  {
   "cell_type": "markdown",
   "metadata": {},
   "source": [
    "## Accept Invitation\n",
    "Copy in an invitation from someone else and create a connection"
   ]
  },
  {
   "cell_type": "code",
   "execution_count": 9,
   "metadata": {},
   "outputs": [
    {
     "name": "stdout",
     "output_type": "stream",
     "text": [
      "Connection message {'accept': 'manual', 'routing_state': 'none', 'invitation_key': '8kQUfRtd33zXVCgLqgxmPmd6pS2PvbDrNisN6kRNVFmZ', 'connection_id': '8b4c70ee-0baa-4dd5-9d7e-f2fb7a7e7c7f', 'created_at': '2020-10-19 14:39:59.022530Z', 'invitation_mode': 'once', 'their_label': 'Root Pico', 'updated_at': '2020-10-19 14:39:59.022530Z', 'initiator': 'external', 'state': 'invitation'} 8b4c70ee-0baa-4dd5-9d7e-f2fb7a7e7c7f\n",
      "Connection message {'accept': 'manual', 'my_did': 'UnVT5E5B8LZwqtMzRYJFSb', 'request_id': 'c4567adf-3df8-4a05-9505-8bb2f16072b4', 'routing_state': 'none', 'invitation_key': '8kQUfRtd33zXVCgLqgxmPmd6pS2PvbDrNisN6kRNVFmZ', 'connection_id': '8b4c70ee-0baa-4dd5-9d7e-f2fb7a7e7c7f', 'created_at': '2020-10-19 14:39:59.022530Z', 'invitation_mode': 'once', 'their_label': 'Root Pico', 'updated_at': '2020-10-19 14:39:59.033912Z', 'initiator': 'external', 'state': 'request'} 8b4c70ee-0baa-4dd5-9d7e-f2fb7a7e7c7f\n"
     ]
    },
    {
     "data": {
      "text/plain": [
       "{'accept': 'manual',\n",
       " 'my_did': 'UnVT5E5B8LZwqtMzRYJFSb',\n",
       " 'request_id': 'c4567adf-3df8-4a05-9505-8bb2f16072b4',\n",
       " 'routing_state': 'none',\n",
       " 'invitation_key': '8kQUfRtd33zXVCgLqgxmPmd6pS2PvbDrNisN6kRNVFmZ',\n",
       " 'connection_id': '8b4c70ee-0baa-4dd5-9d7e-f2fb7a7e7c7f',\n",
       " 'created_at': '2020-10-19 14:39:59.022530Z',\n",
       " 'invitation_mode': 'once',\n",
       " 'their_label': 'Root Pico',\n",
       " 'updated_at': '2020-10-19 14:39:59.033912Z',\n",
       " 'initiator': 'external',\n",
       " 'state': 'request'}"
      ]
     },
     "execution_count": 9,
     "metadata": {},
     "output_type": "execute_result"
    },
    {
     "name": "stdout",
     "output_type": "stream",
     "text": [
      "Connection message {'their_did': 'Xc27XaVXBiNsaQzKZQpryB', 'accept': 'manual', 'my_did': 'UnVT5E5B8LZwqtMzRYJFSb', 'request_id': 'c4567adf-3df8-4a05-9505-8bb2f16072b4', 'routing_state': 'none', 'invitation_key': '8kQUfRtd33zXVCgLqgxmPmd6pS2PvbDrNisN6kRNVFmZ', 'connection_id': '8b4c70ee-0baa-4dd5-9d7e-f2fb7a7e7c7f', 'created_at': '2020-10-19 14:39:59.022530Z', 'invitation_mode': 'once', 'their_label': 'Root Pico', 'updated_at': '2020-10-19 14:39:59.131689Z', 'initiator': 'external', 'state': 'response'} 8b4c70ee-0baa-4dd5-9d7e-f2fb7a7e7c7f\n",
      "\u001b[1m\u001b[34mTrust ping send to ConnectionId 8b4c70ee-0baa-4dd5-9d7e-f2fb7a7e7c7f to activate connection\u001b[0m\n",
      "Connection message {'their_did': 'Xc27XaVXBiNsaQzKZQpryB', 'accept': 'manual', 'my_did': 'UnVT5E5B8LZwqtMzRYJFSb', 'request_id': 'c4567adf-3df8-4a05-9505-8bb2f16072b4', 'routing_state': 'none', 'invitation_key': '8kQUfRtd33zXVCgLqgxmPmd6pS2PvbDrNisN6kRNVFmZ', 'connection_id': '8b4c70ee-0baa-4dd5-9d7e-f2fb7a7e7c7f', 'created_at': '2020-10-19 14:39:59.022530Z', 'invitation_mode': 'once', 'their_label': 'Root Pico', 'updated_at': '2020-10-19 14:40:01.205351Z', 'initiator': 'external', 'state': 'active'} 8b4c70ee-0baa-4dd5-9d7e-f2fb7a7e7c7f\n",
      "\u001b[1m\u001b[32mConnectionId: 8b4c70ee-0baa-4dd5-9d7e-f2fb7a7e7c7f is now active.\u001b[0m\n"
     ]
    }
   ],
   "source": [
    "invitation = {\n",
    "  \"@type\": \"https://didcomm.org/connections/1.0/invitation\",\n",
    "  \"label\": \"Root Pico\",\n",
    "  \"recipientKeys\": [\n",
    "    \"8kQUfRtd33zXVCgLqgxmPmd6pS2PvbDrNisN6kRNVFmZ\"\n",
    "  ],\n",
    "  \"serviceEndpoint\": \"http://192.168.0.19:8080/sky/event/ABQmx2x9moL7eVDRuHdNk1/null/sovrin/new_message\"\n",
    "}\n",
    "connection = await agent_controller.connections.accept_connection(invitation)\n",
    "connection_id = connection[\"connection_id\"]"
   ]
  },
  {
   "cell_type": "code",
   "execution_count": 13,
   "metadata": {},
   "outputs": [
    {
     "name": "stdout",
     "output_type": "stream",
     "text": [
      "{'results': [{'their_did': '6goiFg2bQPbv8J6zSUsNX9', 'accept': 'manual', 'my_did': 'NX9EaX76JZccVaii1JwvfJ', 'request_id': '00ed25c6-00f3-4e4f-89ad-ae3018de52ba', 'routing_state': 'none', 'invitation_key': '8kQUfRtd33zXVCgLqgxmPmd6pS2PvbDrNisN6kRNVFmZ', 'connection_id': 'ea612b83-6c07-41e8-87d2-a540b62036a2', 'created_at': '2020-10-19 14:38:10.101981Z', 'invitation_mode': 'once', 'their_label': 'Root Pico', 'updated_at': '2020-10-19 14:38:10.257388Z', 'initiator': 'external', 'state': 'response'}, {'their_did': 'Xc27XaVXBiNsaQzKZQpryB', 'accept': 'manual', 'my_did': 'UnVT5E5B8LZwqtMzRYJFSb', 'request_id': 'c4567adf-3df8-4a05-9505-8bb2f16072b4', 'routing_state': 'none', 'invitation_key': '8kQUfRtd33zXVCgLqgxmPmd6pS2PvbDrNisN6kRNVFmZ', 'connection_id': '8b4c70ee-0baa-4dd5-9d7e-f2fb7a7e7c7f', 'created_at': '2020-10-19 14:39:59.022530Z', 'invitation_mode': 'once', 'their_label': 'Root Pico', 'updated_at': '2020-10-19 14:40:01.205351Z', 'initiator': 'external', 'state': 'active'}]}\n",
      "Connection message {'their_did': '6goiFg2bQPbv8J6zSUsNX9', 'accept': 'manual', 'my_did': 'NX9EaX76JZccVaii1JwvfJ', 'request_id': '00ed25c6-00f3-4e4f-89ad-ae3018de52ba', 'routing_state': 'none', 'invitation_key': '8kQUfRtd33zXVCgLqgxmPmd6pS2PvbDrNisN6kRNVFmZ', 'connection_id': 'ea612b83-6c07-41e8-87d2-a540b62036a2', 'created_at': '2020-10-19 14:38:10.101981Z', 'invitation_mode': 'once', 'their_label': 'Root Pico', 'updated_at': '2020-10-19 14:46:01.767273Z', 'initiator': 'external', 'state': 'active'} ea612b83-6c07-41e8-87d2-a540b62036a2\n",
      "\u001b[1m\u001b[32mConnectionId: ea612b83-6c07-41e8-87d2-a540b62036a2 is now active.\u001b[0m\n",
      "Handle message {'connection_id': 'ea612b83-6c07-41e8-87d2-a540b62036a2', 'message_id': '7c529b73-c7e6-4ed3-8fd3-edcbbed9cfea', 'content': 'zxc', 'state': 'received'} ea612b83-6c07-41e8-87d2-a540b62036a2\n"
     ]
    }
   ],
   "source": [
    "connections = await agent_controller.connections.get_connections()\n",
    "print(connections)"
   ]
  },
  {
   "cell_type": "markdown",
   "metadata": {},
   "source": [
    "## Optionally generate a QrCode from url"
   ]
  },
  {
   "cell_type": "code",
   "execution_count": 17,
   "metadata": {},
   "outputs": [
    {
     "data": {
      "image/png": "[encoded data removed]",
      "text/plain": [
       "<IPython.core.display.Image object>"
      ]
     },
     "execution_count": 17,
     "metadata": {
      "image/png": {
       "width": 400
      }
     },
     "output_type": "execute_result"
    }
   ],
   "source": [
    "# Link for connection invitation\n",
    "input_data = inviteURL\n",
    "# Creating an instance of qrcode\n",
    "qr = qrcode.QRCode(\n",
    "        version=1,\n",
    "        box_size=10,\n",
    "        border=5)\n",
    "qr.add_data(input_data)\n",
    "qr.make(fit=True)\n",
    "img = qr.make_image(fill='black', back_color='white')\n",
    "img.save('issuer_agent_invite_QRcode.png')\n",
    "\n",
    "Image(width=400, filename='./issuer_agent_invite_QRcode.png')"
   ]
  },
  {
   "cell_type": "markdown",
   "metadata": {},
   "source": [
    "## Send a Message"
   ]
  },
  {
   "cell_type": "code",
   "execution_count": 15,
   "metadata": {},
   "outputs": [
    {
     "name": "stdout",
     "output_type": "stream",
     "text": [
      "BASIC MESSAGE - Alice -> Bob\n",
      "{}\n"
     ]
    }
   ],
   "source": [
    "basic_message = \"hello from Will\"\n",
    "response = await agent_controller.messaging.send_message('ea612b83-6c07-41e8-87d2-a540b62036a2', basic_message)\n",
    "print(\"BASIC MESSAGE - Alice -> Bob\")\n",
    "print(response)"
   ]
  },
  {
   "cell_type": "markdown",
   "metadata": {},
   "source": [
    "## Send Attachment\n",
    "\n",
    "Will only work if you are communicating with an agent that has this protocol installed. Basically anyone running this demo.\n",
    "\n",
    "You must have the file you want to send accessible from this notebook. Upload it into the home page - https://localhost:8888. Or just send the IIW image that is already there."
   ]
  },
  {
   "cell_type": "code",
   "execution_count": 12,
   "metadata": {},
   "outputs": [
    {
     "ename": "NameError",
     "evalue": "name 'FormData' is not defined",
     "output_type": "error",
     "traceback": [
      "\u001b[0;31m---------------------------------------------------------------------------\u001b[0m",
      "\u001b[0;31mNameError\u001b[0m                                 Traceback (most recent call last)",
      "\u001b[0;32m<ipython-input-12-6f844e1f42af>\u001b[0m in \u001b[0;36masync-def-wrapper\u001b[0;34m()\u001b[0m\n\u001b[1;32m      4\u001b[0m data.add_field('file',\n\u001b[1;32m      5\u001b[0m                \u001b[0mopen\u001b[0m\u001b[0;34m(\u001b[0m\u001b[0mfile\u001b[0m\u001b[0;34m,\u001b[0m \u001b[0;34m'rb'\u001b[0m\u001b[0;34m)\u001b[0m\u001b[0;34m,\u001b[0m\u001b[0;34m\u001b[0m\u001b[0;34m\u001b[0m\u001b[0m\n\u001b[0;32m----> 6\u001b[0;31m                \u001b[0mfilename\u001b[0m\u001b[0;34m=\u001b[0m\u001b[0mfile\u001b[0m\u001b[0;34m,\u001b[0m\u001b[0;34m\u001b[0m\u001b[0;34m\u001b[0m\u001b[0m\n\u001b[0m\u001b[1;32m      7\u001b[0m                content_type=content_type)\n\u001b[1;32m      8\u001b[0m \u001b[0mresponse\u001b[0m \u001b[0;34m=\u001b[0m \u001b[0;32mawait\u001b[0m \u001b[0mattach_controller\u001b[0m\u001b[0;34m.\u001b[0m\u001b[0mprotocol\u001b[0m\u001b[0;34m.\u001b[0m\u001b[0msend_attachment\u001b[0m\u001b[0;34m(\u001b[0m\u001b[0mconnection_id\u001b[0m\u001b[0;34m,\u001b[0m \u001b[0mdata\u001b[0m\u001b[0;34m)\u001b[0m\u001b[0;34m\u001b[0m\u001b[0;34m\u001b[0m\u001b[0m\n",
      "\u001b[0;31mNameError\u001b[0m: name 'FormData' is not defined"
     ]
    }
   ],
   "source": [
    "file = \"iiw.png\"\n",
    "content_type = \"image/png\"\n",
    "data = FormData()\n",
    "data.add_field('file',\n",
    "               open(file, 'rb'),\n",
    "               filename=file,\n",
    "               content_type=content_type)\n",
    "response = await attach_controller.protocol.send_attachment(connection_id, data)\n",
    "print('Attachment- Alice-> Bob')\n",
    "print(response)"
   ]
  },
  {
   "cell_type": "markdown",
   "metadata": {},
   "source": [
    "## Issue Credential\n",
    "\n",
    "Customise this however you like. "
   ]
  },
  {
   "cell_type": "code",
   "execution_count": null,
   "metadata": {},
   "outputs": [],
   "source": [
    "name=input(\"Please enter your name: \")\n",
    "credential_attributes = [\n",
    "    {\"name\": \"name\", \"value\": name},\n",
    "]\n",
    "\n",
    "record = await agent_controller.issuer.send_credential(connection_id, schema_id, cred_def_id, credential_attributes, trace=False)\n",
    "record_id = record['credential_exchange_id']\n",
    "state = record['state']\n",
    "role = record['role']\n",
    "print(f\"Credential exchange {record_id}, role: {role}, state: {state}\")"
   ]
  },
  {
   "cell_type": "markdown",
   "metadata": {},
   "source": [
    "## Request a Presentation\n",
    "\n",
    "You will need to know the schema_id you wish to verify attributes from\n"
   ]
  },
  {
   "cell_type": "code",
   "execution_count": null,
   "metadata": {},
   "outputs": [],
   "source": [
    "schema_id = 'EuEtnVakYFyBtGFT1nHYtH:2:SSI PyDentity Tutorial:0.0.1'\n",
    "\n",
    "print(\"Request proof of Fullname and Age range from Identity Holder\")\n",
    "#Set some variables\n",
    "\n",
    "revocation = False\n",
    "exchange_tracing = False\n",
    "\n",
    "#Enable this to ask for attributes to identity a user\n",
    "#TODO - change restriction to schemaId or credentialId\n",
    "\n",
    "req_attrs = [\n",
    "    {\"name\": \"name\", \"restrictions\": []},\n",
    "]\n",
    "\n",
    "# if revocation:\n",
    "#     req_attrs.append(\n",
    "#         {\n",
    "#             \"name\": \"skill\",\n",
    "#             \"restrictions\": [{\"schema_id\": schema_id}],\n",
    "#             \"non_revoked\": {\"to\": int(time.time() - 1)},\n",
    "#         },\n",
    "#     )\n",
    "\n",
    "\n",
    "#Set predicates for Zero Knowledge Proofs\n",
    "# req_preds = [\n",
    "#     # test zero-knowledge proofs\n",
    "#     {\n",
    "#         \"name\": \"age\",\n",
    "#         \"p_type\": \">=\",\n",
    "#         \"p_value\": 21,\n",
    "#         \"restrictions\": [{\"schema_id\": schema_id}],\n",
    "#     }\n",
    "# ]\n",
    "\n",
    "indy_proof_request = {\n",
    "    \"name\": \"Proof of Name\",\n",
    "    \"version\": \"1.0\",\n",
    "    \"requested_attributes\": {\n",
    "        f\"0_{req_attr['name']}_uuid\":\n",
    "        req_attr for req_attr in req_attrs\n",
    "    },\n",
    "#     \"requested_predicates\": {\n",
    "#         f\"0_{req_pred['name']}_GE_uuid\":\n",
    "#         req_pred for req_pred in req_preds\n",
    "#     },\n",
    "}\n",
    "\n",
    "# if revocation:\n",
    "#     indy_proof_request[\"non_revoked\"] = {\"to\": int(time.time())}\n",
    "\n",
    "#proof_request = indy_proof_request\n",
    "exchange_tracing_id = exchange_tracing\n",
    "proof_request_web_request = {\n",
    "    \"connection_id\": connection_id,\n",
    "    \"proof_request\": indy_proof_request,\n",
    "    \"trace\": exchange_tracing,\n",
    "}"
   ]
  },
  {
   "cell_type": "code",
   "execution_count": null,
   "metadata": {},
   "outputs": [],
   "source": [
    "response = await agent_controller.proofs.send_request(proof_request_web_request)\n",
    "print(response)\n",
    "presentation_exchange_id = response['presentation_exchange_id']\n",
    "print(\"\\n\")\n",
    "print(presentation_exchange_id)"
   ]
  },
  {
   "cell_type": "markdown",
   "metadata": {},
   "source": [
    "## 6. Verify Proof Presentation\n",
    "\n",
    "This is checking the signatures on the credentials presented against the credential schema and definition id stored and resolvable on the ledger. It is a bit of a big complicated object, so we show the common pattern for breaking it down, checking it's verified and accessing the data that has been presented."
   ]
  },
  {
   "cell_type": "code",
   "execution_count": null,
   "metadata": {},
   "outputs": [],
   "source": [
    "verify = await agent_controller.proofs.verify_presentation(presentation_exchange_id)\n",
    "print(verify)"
   ]
  },
  {
   "cell_type": "markdown",
   "metadata": {},
   "source": [
    "### Verifying the State\n",
    "\n",
    "Once verified through the agent framework api, the state should be 'verified', otherwise the presentation is invalid."
   ]
  },
  {
   "cell_type": "markdown",
   "metadata": {},
   "source": [
    "### Accessing the revealed attributes"
   ]
  },
  {
   "cell_type": "code",
   "execution_count": null,
   "metadata": {},
   "outputs": [],
   "source": [
    "for (name, val) in verify['presentation']['requested_proof']['revealed_attrs'].items():\n",
    "    ## This is the actual data that you want. It's a little hidden\n",
    "    print(val['raw'])"
   ]
  },
  {
   "cell_type": "markdown",
   "metadata": {},
   "source": [
    "### Accessing the self-attested attributes"
   ]
  },
  {
   "cell_type": "code",
   "execution_count": null,
   "metadata": {},
   "outputs": [],
   "source": [
    "for (name, val) in verify['presentation']['requested_proof']['self_attested_attrs'].items():\n",
    "    print(name)\n",
    "    ## Slightly different for self attested attrs\n",
    "    print(val)"
   ]
  },
  {
   "cell_type": "code",
   "execution_count": 6,
   "metadata": {},
   "outputs": [],
   "source": [
    "await agent_controller.terminate()"
   ]
  },
  {
   "cell_type": "code",
   "execution_count": null,
   "metadata": {},
   "outputs": [],
   "source": []
  }
 ],
 "metadata": {
  "kernelspec": {
   "display_name": "Python 3",
   "language": "python",
   "name": "python3"
  },
  "language_info": {
   "codemirror_mode": {
    "name": "ipython",
    "version": 3
   },
   "file_extension": ".py",
   "mimetype": "text/x-python",
   "name": "python",
   "nbconvert_exporter": "python",
   "pygments_lexer": "ipython3",
   "version": "3.7.6"
  }
 },
 "nbformat": 4,
 "nbformat_minor": 4
}
