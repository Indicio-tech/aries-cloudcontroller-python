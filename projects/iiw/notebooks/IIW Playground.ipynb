{
 "cells": [
  {
   "cell_type": "markdown",
   "metadata": {},
   "source": [
    "# IIW Agent Playground"
   ]
  },
  {
   "cell_type": "markdown",
   "metadata": {},
   "source": [
    "Welcome to the OpenMined Aries ACA-Py Juypter notebook playground. Using these notebooks you will be able to control your ACA-Py instance to interact with other agents being used at IIW. This should include mobile agents, other agent instances of this playground, trinsic agents and PICO agent applications. Basically any agent that supports the same aries-rfs as ACA-Py.\n",
    "\n",
    "This is an experiment and might not work but hopefully it will be fun!\n",
    "\n",
    "It is a playground because we have only created the skeleton to get you started. You can customise your \"SSI Application\" however you see fit by writing custom code right here within the notebooks. We have developed a python wrapper for the ACA-Py swagger api called the [aries-basic-controller](https://pypi.org/project/aries-basic-controller/) and a full tutorial series explaining how to use it to interact with your agent to perform basic agent flows [here](https://github.com/OpenMined/PyDentity/tree/master/tutorials/aries-basic-controller) if you get stuck.\n",
    "\n",
    "Your agent is currently pointing at the Sovrin StagingNet and is using default storage for an indy wallet which is mapped using docker volumes so it should persist across multiple ./manage up's. Additionally the agents endpoint is exposed using ngrok, however this has a timelimit and will be a different url every time the docker is restarted. This *might* mess up the ability to communicate over connections, so the best advice is just to leave it running. Currently the agent is configured with all the --accept flags set that ACA-Py supports, feel free to change this. See the docker-compose.yml and the startup.sh script for more details.\n",
    "\n",
    "We also included an attachment protocol so if you need to send files securely during IIW give it a try.\n",
    "\n",
    "\n"
   ]
  },
  {
   "cell_type": "markdown",
   "metadata": {},
   "source": [
    "## Initialise your controller"
   ]
  },
  {
   "cell_type": "code",
   "execution_count": 1,
   "metadata": {},
   "outputs": [
    {
     "name": "stdout",
     "output_type": "stream",
     "text": [
      "IPython autoawait is `on`, and set to use `asyncio`\n"
     ]
    }
   ],
   "source": [
    "%autoawait\n",
    "import time\n",
    "import qrcode\n",
    "from aiohttp import FormData\n",
    "import asyncio\n",
    "import base64\n",
    "from IPython.display import Image\n",
    "import requests\n",
    "import json\n",
    "\n",
    "from termcolor import colored,cprint\n",
    "from attachment_controller.attachment_controller import AttachmentController\n",
    "    \n",
    "# Anyone know how to get env variables into juypter notebooks through docker easily?\n",
    "WEBHOOK_HOST = \"0.0.0.0\"\n",
    "WEBHOOK_PORT = 8022\n",
    "WEBHOOK_BASE = \"\"\n",
    "ADMIN_URL = \"http://iiw-agent:8021\"\n",
    "# You may have changed this\n",
    "API_KEY = \"iiw_api_123456789\"\n",
    "\n",
    "# Note AttachmentController just extends the basic controller to include the new attachment endpoint\n",
    "agent_controller = AttachmentController(webhook_host=WEBHOOK_HOST, webhook_port=WEBHOOK_PORT,\n",
    "                                       webhook_base=WEBHOOK_BASE, admin_url=ADMIN_URL, api_key=API_KEY)"
   ]
  },
  {
   "cell_type": "markdown",
   "metadata": {},
   "source": [
    "## Configure your handlers\n",
    "\n",
    "This is how you respond to messages that your ACA-Py instance receives. Probably a good place to start if you want to customise your application."
   ]
  },
  {
   "cell_type": "code",
   "execution_count": 2,
   "metadata": {},
   "outputs": [],
   "source": [
    "# Receive basic messages\n",
    "def messages_handler(payload):\n",
    "    connection_id = payload[\"connection_id\"]\n",
    "    print(\"Handle message\", payload, connection_id)\n",
    "    \n",
    "\n",
    "\n",
    "message_listener = {\n",
    "    \"handler\": messages_handler,\n",
    "    \"topic\": \"basicmessages\"\n",
    "}\n",
    "\n",
    "# Receive attachments\n",
    "def attach_handler(payload):\n",
    "    connection_id = payload['connection_id']\n",
    "    print(\"Handle Attachment\", payload, connection_id)\n",
    "    print(\"Attachment Received\")\n",
    "    data = payload['content']\n",
    "    filename = payload['filename']\n",
    "    file_content = base64.b64decode(data)\n",
    "    filepath = f\"received_files/{filename}\"\n",
    "    f = open(filepath,'wb')\n",
    "    f.write(file_content)\n",
    "    f.close()\n",
    "\n",
    "attach_listener = {\n",
    "    \"handler\": attach_handler,\n",
    "    \"topic\": \"attachment\"\n",
    "}\n",
    "\n",
    "# Issue credential messages\n",
    "def cred_handler(payload):\n",
    "    print(\"Handle Credentials\")\n",
    "    exchange_id = payload['credential_exchange_id']\n",
    "    state = payload['state']\n",
    "    role = payload['role']\n",
    "    attributes = payload['credential_proposal_dict']['credential_proposal']['attributes']\n",
    "    print(f\"Credential exchange {exchange_id}, role: {role}, state: {state}\")\n",
    "    print(f\"Offering: {attributes}\")\n",
    "    \n",
    "cred_listener = {\n",
    "    \"topic\": \"issue_credential\",\n",
    "    \"handler\": cred_handler\n",
    "}\n",
    "\n",
    "# Receive connection messages\n",
    "def connections_handler(payload):\n",
    "    global STATE\n",
    "    connection_id = payload[\"connection_id\"]\n",
    "    print(\"Connection message\", payload, connection_id)\n",
    "    STATE = payload['state']\n",
    "    if STATE == \"response\":\n",
    "\n",
    "        # Ensures connections moved to active\n",
    "        loop = asyncio.get_event_loop()\n",
    "        time.sleep(2)\n",
    "        print(colored(\"Trust ping send to ConnectionId {0} to activate connection\".format(connection_id), \"blue\", attrs=[\"bold\"]))\n",
    "        loop.create_task(agent_controller.messaging.trust_ping(connection_id, 'hello!'))\n",
    "\n",
    "    if STATE == 'active':\n",
    "#         print('Connection {0} changed state to active'.format(connection_id))\n",
    "        print(colored(\"ConnectionId: {0} is now active.\".format(connection_id), \"green\", attrs=[\"bold\"]))\n",
    "\n",
    "\n",
    "\n",
    "# Note: You could have more than one listener & handler for the same topic\n",
    "connection_listener = {\n",
    "    \"handler\": connections_handler,\n",
    "    \"topic\": \"connections\"\n",
    "}\n",
    "\n",
    "# Receive proof messages\n",
    "def proof_handler(payload):\n",
    "    print(\"Handle present proof\")\n",
    "    print(payload)\n",
    "\n",
    "proof_listener = {\n",
    "    \"topic\": \"present_proof\",\n",
    "    \"handler\": proof_handler\n",
    "}\n",
    "\n",
    "\n",
    "\n",
    "loop = asyncio.get_event_loop()\n",
    "loop.create_task(agent_controller.listen_webhooks())\n",
    "\n",
    "agent_controller.register_listeners([message_listener, attach_listener, cred_listener, proof_listener, connection_listener], defaults=False)"
   ]
  },
  {
   "cell_type": "markdown",
   "metadata": {},
   "source": [
    "## Do you intend to issue credentials? If so execute this block to write a DID to the Sovrin StagingNet."
   ]
  },
  {
   "cell_type": "code",
   "execution_count": 3,
   "metadata": {},
   "outputs": [
    {
     "name": "stdout",
     "output_type": "stream",
     "text": [
      "{'result': {'did': '7Rm6HjjfY3VZGkHFPFtFNC', 'verkey': '4WAghpfvEpZhzFy5BmRwC7jsUd4jeU79ngX7hP7E9s25', 'public': True}}\n",
      "Public DID already exists 7Rm6HjjfY3VZGkHFPFtFNC\n"
     ]
    }
   ],
   "source": [
    "# Check if you have a public DID\n",
    "response = await agent_controller.wallet.get_public_did()\n",
    "print(response)\n",
    "result = response['result']\n",
    "\n",
    "if  result == None:\n",
    "    # generate new DID\n",
    "    response = await agent_controller.wallet.create_did()\n",
    "\n",
    "    did_object = response['result']\n",
    "    print(\"New DID\", did_object)\n",
    "\n",
    "    # write new DID to Sovrin Stagingnet\n",
    "    url = 'https://selfserve.sovrin.org/nym'\n",
    "\n",
    "    payload = {\"network\":\"stagingnet\",\"did\": did_object[\"did\"],\"verkey\":did_object[\"verkey\"],\"paymentaddr\":\"\"}\n",
    "\n",
    "    # Adding empty header as parameters are being sent in payload\n",
    "    headers = {}\n",
    "\n",
    "    r = requests.post(url, data=json.dumps(payload), headers=headers)\n",
    "\n",
    "    # Accept the TAA\n",
    "    response = await agent_controller.ledger.get_taa()\n",
    "    TAA = response['result']['taa_record']\n",
    "    TAA['mechanism'] = \"service_agreement\"\n",
    "\n",
    "    await agent_controller.ledger.accept_taa(TAA)\n",
    "\n",
    "    response = await agent_controller.wallet.assign_public_did(did_object[\"did\"])\n",
    "    print(\"Your new public DID: \", response[\"result\"][\"did\"])\n",
    "else:\n",
    "    print(\"Public DID already exists {}\".format(result[\"did\"]))"
   ]
  },
  {
   "cell_type": "markdown",
   "metadata": {},
   "source": [
    "## What Credentials do you intend to issue if any?\n",
    "\n",
    "You could define your own scheme and write them to the ledger or write a credential definition for a schema that already exists on the ledger. Check out [IndyScan](https://indyscan.io/txs/SOVRIN_STAGINGNET/domain?page=1&pageSize=50&filterTxNames=[%22SCHEMA%22]&sortFromRecent=true) for some ideas.\n",
    "\n",
    "We have already written a schema IIW Encounter to the ledger. Feel free to create a credential definition and start issuing these credentials to your connections. You can view it [here](https://indyscan.io/tx/SOVRIN_STAGINGNET/domain/152586)."
   ]
  },
  {
   "cell_type": "code",
   "execution_count": 8,
   "metadata": {},
   "outputs": [
    {
     "name": "stdout",
     "output_type": "stream",
     "text": [
      "7Rm6HjjfY3VZGkHFPFtFNC:3:CL:152586:default\n"
     ]
    }
   ],
   "source": [
    "#pre-ledgered IIW Encounter schema ID\n",
    "# Attributes: name\n",
    "iiw_schema_id = '7Rm6HjjfY3VZGkHFPFtFNC:2:IIW Encounter:0.0.1'\n",
    "response = await agent_controller.definitions.write_cred_def(iiw_schema_id)\n",
    "\n",
    "cred_def_id = response[\"credential_definition_id\"]\n",
    "print(cred_def_id)"
   ]
  },
  {
   "cell_type": "markdown",
   "metadata": {},
   "source": [
    "##  OPTIONAL - You can also define whatever schema you like and start issuing these\n",
    "\n",
    "Go crazy, just make sure you save your schema_id and credential_definintion_id's for later use"
   ]
  },
  {
   "cell_type": "code",
   "execution_count": 6,
   "metadata": {},
   "outputs": [
    {
     "name": "stdout",
     "output_type": "stream",
     "text": [
      "7Rm6HjjfY3VZGkHFPFtFNC:2:<YOUR SCHEMA NAME>:0.0.1\n"
     ]
    }
   ],
   "source": [
    "# Define you schema name - must be unique on the ledger\n",
    "schema_name = \"<YOUR CUSTOM SCHEMA NAME>\"\n",
    "# Can version the schema if you wish to update it\n",
    "schema_version = \"0.0.1\"\n",
    "# Define any list of attributes you wish to include in your schema\n",
    "attributes = [\"<CUSTOMISE THIS>\"]\n",
    "\n",
    "response = await agent_controller.schema.write_schema(schema_name, attributes, schema_version)\n",
    "schema_id = response[\"schema_id\"]\n",
    "print(schema_id)\n",
    "\n",
    "response = await agent_controller.definitions.write_cred_def(schema_id)\n",
    "cred_def_id = response[\"credential_definition_id\"]\n",
    "print(cred_def_id)"
   ]
  },
  {
   "cell_type": "markdown",
   "metadata": {},
   "source": [
    "## OPTIONAL - Or write a credential definition for an existing schema of your choice\n",
    "\n",
    "It must be on the Sovrin StagingNet"
   ]
  },
  {
   "cell_type": "code",
   "execution_count": null,
   "metadata": {},
   "outputs": [],
   "source": [
    "# Write as many credential definitions as you like.\n",
    "# Remember to save the cred_def_id's though. You will need these to issue credentials\n",
    "some_indy_schema_id = input(\"Enter the StagingNet schema id you wish to issue\")\n",
    "\n",
    "response = await agent_controller.definitions.write_cred_def(schema_id)\n",
    "some_cred_def_id = response[\"credential_definition_id\"]\n",
    "print(some_cred_def_id)\n",
    "    "
   ]
  },
  {
   "cell_type": "markdown",
   "metadata": {},
   "source": [
    "## Create an Invitation\n",
    "\n",
    "You may want to set an alias so you know who your connection represents.\n",
    "\n",
    "Additionally if you are sharing this url in a chat for others to connect you might want to make it multi_use.\n"
   ]
  },
  {
   "cell_type": "code",
   "execution_count": 4,
   "metadata": {},
   "outputs": [
    {
     "name": "stdout",
     "output_type": "stream",
     "text": [
      "Connection ID 33d779fd-8d4c-447b-9e8f-bbf4b3f26216\n",
      "Invitation\n",
      "http://e97658dbefee.ngrok.io?c_i=eyJAdHlwZSI6ICJkaWQ6c292OkJ6Q2JzTlloTXJqSGlxWkRUVUFTSGc7c3BlYy9jb25uZWN0aW9ucy8xLjAvaW52aXRhdGlvbiIsICJAaWQiOiAiZTZiY2JjMTEtN2Q1My00ZWE4LThkOTktN2VhZjlhMmRkZDI5IiwgInNlcnZpY2VFbmRwb2ludCI6ICJodHRwOi8vZTk3NjU4ZGJlZmVlLm5ncm9rLmlvIiwgImxhYmVsIjogIklJVyIsICJyZWNpcGllbnRLZXlzIjogWyI1QXBpRVhLNUxIZDkyVTRVd0dRc2N3NE1DRHBkZ1pWZ1d1RGFLb3JvWXNHSCJdfQ==\n",
      "{'@type': 'did:sov:BzCbsNYhMrjHiqZDTUASHg;spec/connections/1.0/invitation', '@id': 'e6bcbc11-7d53-4ea8-8d99-7eaf9a2ddd29', 'serviceEndpoint': 'http://e97658dbefee.ngrok.io', 'label': 'IIW', 'recipientKeys': ['5ApiEXK5LHd92U4UwGQscw4MCDpdgZVgWuDaKoroYsGH']}\n",
      "Connection message {'created_at': '2020-10-20 13:18:46.202422Z', 'updated_at': '2020-10-20 13:18:46.202422Z', 'invitation_mode': 'multi', 'state': 'invitation', 'invitation_key': '5ApiEXK5LHd92U4UwGQscw4MCDpdgZVgWuDaKoroYsGH', 'accept': 'auto', 'routing_state': 'none', 'alias': 'OM IIW Playground Connection', 'connection_id': '33d779fd-8d4c-447b-9e8f-bbf4b3f26216', 'initiator': 'self'} 33d779fd-8d4c-447b-9e8f-bbf4b3f26216\n"
     ]
    }
   ],
   "source": [
    "# Config\n",
    "alias = \"OM IIW Playground Connection\"\n",
    "multi_use = \"true\"\n",
    "\n",
    "# Create Invitation\n",
    "invite = await agent_controller.connections.create_invitation(alias=alias, multi_use=multi_use)\n",
    "# invite = await agent_controller.connections.create_invitation()\n",
    "connection_id = invite[\"connection_id\"]\n",
    "print(\"Connection ID\", connection_id)\n",
    "print(\"Invitation\")\n",
    "print(invite['invitation_url'])\n",
    "inviteURL = invite['invitation_url']\n",
    "print(invite[\"invitation\"])"
   ]
  },
  {
   "cell_type": "markdown",
   "metadata": {},
   "source": [
    "## Accept Invitation\n",
    "Copy in an invitation from someone else and create a connection"
   ]
  },
  {
   "cell_type": "code",
   "execution_count": 9,
   "metadata": {},
   "outputs": [
    {
     "name": "stdout",
     "output_type": "stream",
     "text": [
      "Connection message {'accept': 'manual', 'routing_state': 'none', 'invitation_key': '8kQUfRtd33zXVCgLqgxmPmd6pS2PvbDrNisN6kRNVFmZ', 'connection_id': '8b4c70ee-0baa-4dd5-9d7e-f2fb7a7e7c7f', 'created_at': '2020-10-19 14:39:59.022530Z', 'invitation_mode': 'once', 'their_label': 'Root Pico', 'updated_at': '2020-10-19 14:39:59.022530Z', 'initiator': 'external', 'state': 'invitation'} 8b4c70ee-0baa-4dd5-9d7e-f2fb7a7e7c7f\n",
      "Connection message {'accept': 'manual', 'my_did': 'UnVT5E5B8LZwqtMzRYJFSb', 'request_id': 'c4567adf-3df8-4a05-9505-8bb2f16072b4', 'routing_state': 'none', 'invitation_key': '8kQUfRtd33zXVCgLqgxmPmd6pS2PvbDrNisN6kRNVFmZ', 'connection_id': '8b4c70ee-0baa-4dd5-9d7e-f2fb7a7e7c7f', 'created_at': '2020-10-19 14:39:59.022530Z', 'invitation_mode': 'once', 'their_label': 'Root Pico', 'updated_at': '2020-10-19 14:39:59.033912Z', 'initiator': 'external', 'state': 'request'} 8b4c70ee-0baa-4dd5-9d7e-f2fb7a7e7c7f\n"
     ]
    },
    {
     "data": {
      "text/plain": [
       "{'accept': 'manual',\n",
       " 'my_did': 'UnVT5E5B8LZwqtMzRYJFSb',\n",
       " 'request_id': 'c4567adf-3df8-4a05-9505-8bb2f16072b4',\n",
       " 'routing_state': 'none',\n",
       " 'invitation_key': '8kQUfRtd33zXVCgLqgxmPmd6pS2PvbDrNisN6kRNVFmZ',\n",
       " 'connection_id': '8b4c70ee-0baa-4dd5-9d7e-f2fb7a7e7c7f',\n",
       " 'created_at': '2020-10-19 14:39:59.022530Z',\n",
       " 'invitation_mode': 'once',\n",
       " 'their_label': 'Root Pico',\n",
       " 'updated_at': '2020-10-19 14:39:59.033912Z',\n",
       " 'initiator': 'external',\n",
       " 'state': 'request'}"
      ]
     },
     "execution_count": 9,
     "metadata": {},
     "output_type": "execute_result"
    },
    {
     "name": "stdout",
     "output_type": "stream",
     "text": [
      "Connection message {'their_did': 'Xc27XaVXBiNsaQzKZQpryB', 'accept': 'manual', 'my_did': 'UnVT5E5B8LZwqtMzRYJFSb', 'request_id': 'c4567adf-3df8-4a05-9505-8bb2f16072b4', 'routing_state': 'none', 'invitation_key': '8kQUfRtd33zXVCgLqgxmPmd6pS2PvbDrNisN6kRNVFmZ', 'connection_id': '8b4c70ee-0baa-4dd5-9d7e-f2fb7a7e7c7f', 'created_at': '2020-10-19 14:39:59.022530Z', 'invitation_mode': 'once', 'their_label': 'Root Pico', 'updated_at': '2020-10-19 14:39:59.131689Z', 'initiator': 'external', 'state': 'response'} 8b4c70ee-0baa-4dd5-9d7e-f2fb7a7e7c7f\n",
      "\u001b[1m\u001b[34mTrust ping send to ConnectionId 8b4c70ee-0baa-4dd5-9d7e-f2fb7a7e7c7f to activate connection\u001b[0m\n",
      "Connection message {'their_did': 'Xc27XaVXBiNsaQzKZQpryB', 'accept': 'manual', 'my_did': 'UnVT5E5B8LZwqtMzRYJFSb', 'request_id': 'c4567adf-3df8-4a05-9505-8bb2f16072b4', 'routing_state': 'none', 'invitation_key': '8kQUfRtd33zXVCgLqgxmPmd6pS2PvbDrNisN6kRNVFmZ', 'connection_id': '8b4c70ee-0baa-4dd5-9d7e-f2fb7a7e7c7f', 'created_at': '2020-10-19 14:39:59.022530Z', 'invitation_mode': 'once', 'their_label': 'Root Pico', 'updated_at': '2020-10-19 14:40:01.205351Z', 'initiator': 'external', 'state': 'active'} 8b4c70ee-0baa-4dd5-9d7e-f2fb7a7e7c7f\n",
      "\u001b[1m\u001b[32mConnectionId: 8b4c70ee-0baa-4dd5-9d7e-f2fb7a7e7c7f is now active.\u001b[0m\n"
     ]
    }
   ],
   "source": [
    "invitation=input(\"Please enter invitation data: \")\n",
    "\n",
    "connection = await agent_controller.connections.accept_connection(invitation)\n",
    "connection_id = connection[\"connection_id\"]"
   ]
  },
  {
   "cell_type": "code",
   "execution_count": 7,
   "metadata": {},
   "outputs": [
    {
     "name": "stdout",
     "output_type": "stream",
     "text": [
      "{'results': [{'initiator': 'self', 'created_at': '2020-10-20 13:00:06.630388Z', 'state': 'invitation', 'alias': 'OM IIW Playground Connection', 'invitation_mode': 'multi', 'updated_at': '2020-10-20 13:00:06.630388Z', 'routing_state': 'none', 'invitation_key': 'CvBynsDey1wwjPqAd1QLprRbDnbFhJk6xQ2zF8M2ypt8', 'connection_id': 'a33dad60-724b-40de-b75a-f23b2c586cf0', 'accept': 'auto'}, {'initiator': 'self', 'created_at': '2020-10-20 13:00:11.963023Z', 'state': 'invitation', 'alias': 'OM IIW Playground Connection', 'invitation_mode': 'multi', 'updated_at': '2020-10-20 13:00:11.963023Z', 'routing_state': 'none', 'invitation_key': 'BW2EUcuYbDcdghvCSUwhdpnEgkfErUek1b6SwVn2xCUC', 'connection_id': '820aefd8-5d3e-46cb-b0e9-361538bf9494', 'accept': 'auto'}, {'initiator': 'self', 'created_at': '2020-10-20 13:10:16.225775Z', 'state': 'invitation', 'alias': 'OM IIW Playground Connection', 'invitation_mode': 'multi', 'updated_at': '2020-10-20 13:10:16.225775Z', 'routing_state': 'none', 'invitation_key': '5URWZtVZN8zDRjwELDBjTBbqY6mu5TcEZxRhx1J2aqev', 'connection_id': '353ad73d-5d92-46f1-bee6-8df1dd6e7e95', 'accept': 'auto'}]}\n"
     ]
    }
   ],
   "source": [
    "connections = await agent_controller.connections.get_connections()\n",
    "print(connections)"
   ]
  },
  {
   "cell_type": "markdown",
   "metadata": {},
   "source": [
    "## Optionally generate a QrCode from url"
   ]
  },
  {
   "cell_type": "code",
   "execution_count": 8,
   "metadata": {},
   "outputs": [
    {
     "data": {
      "image/png": "[encoded data removed]",
      "text/plain": [
       "<IPython.core.display.Image object>"
      ]
     },
     "execution_count": 8,
     "metadata": {
      "image/png": {
       "width": 400
      }
     },
     "output_type": "execute_result"
    }
   ],
   "source": [
    "# Link for connection invitation\n",
    "input_data = inviteURL\n",
    "# Creating an instance of qrcode\n",
    "qr = qrcode.QRCode(\n",
    "        version=1,\n",
    "        box_size=10,\n",
    "        border=5)\n",
    "qr.add_data(input_data)\n",
    "qr.make(fit=True)\n",
    "img = qr.make_image(fill='black', back_color='white')\n",
    "img.save('issuer_agent_invite_QRcode.png')\n",
    "\n",
    "Image(width=400, filename='./issuer_agent_invite_QRcode.png')"
   ]
  },
  {
   "cell_type": "markdown",
   "metadata": {},
   "source": [
    "## Send a Message"
   ]
  },
  {
   "cell_type": "code",
   "execution_count": 7,
   "metadata": {},
   "outputs": [
    {
     "name": "stdout",
     "output_type": "stream",
     "text": [
      "BASIC MESSAGE - Alice -> Bob\n",
      "{}\n",
      "Handle message {'connection_id': 'aef4f5b1-f66f-4d6c-94f5-942b398c44a6', 'message_id': 'af16c40d-f619-4ac0-a0ee-e818b566a475', 'content': 'hello from Lohan', 'state': 'received'} aef4f5b1-f66f-4d6c-94f5-942b398c44a6\n"
     ]
    }
   ],
   "source": [
    "basic_message = \"hello from Will\"\n",
    "response = await agent_controller.messaging.send_message('aef4f5b1-f66f-4d6c-94f5-942b398c44a6', basic_message)\n",
    "print(\"BASIC MESSAGE - Alice -> Bob\")\n",
    "print(response)"
   ]
  },
  {
   "cell_type": "markdown",
   "metadata": {},
   "source": [
    "## Send Attachment\n",
    "\n",
    "Will only work if you are communicating with an agent that has this protocol installed. Basically anyone running this demo.\n",
    "\n",
    "You must have the file you want to send accessible from this notebook. Upload it into the home page - https://localhost:8888. Or just send the IIW image that is already there."
   ]
  },
  {
   "cell_type": "code",
   "execution_count": 12,
   "metadata": {},
   "outputs": [
    {
     "name": "stdout",
     "output_type": "stream",
     "text": [
      "Attachment- Alice-> Bob\n",
      "{'thread_id': '6ca2fd7e-e178-4a86-a251-77cfcbea2c63'}\n",
      "Connection message {'routing_state': 'none', 'connection_id': '071544f2-209b-4f68-9759-3884d40a511a', 'initiator': 'multiuse', 'invitation_key': '6RkAEsKTHHaNGUfufBYR2MHkC2rETCSKekdLWRBaB9ho', 'state': 'invitation', 'accept': 'auto', 'invitation_mode': 'once', 'my_did': 'F2kCfeejvvbUYAryNQQrhb', 'created_at': '2020-10-19 15:56:23.733713Z', 'updated_at': '2020-10-19 15:56:23.733713Z'} 071544f2-209b-4f68-9759-3884d40a511a\n",
      "Connection message {'routing_state': 'none', 'connection_id': '071544f2-209b-4f68-9759-3884d40a511a', 'initiator': 'multiuse', 'invitation_key': '6RkAEsKTHHaNGUfufBYR2MHkC2rETCSKekdLWRBaB9ho', 'state': 'request', 'accept': 'auto', 'their_label': 'IIW', 'invitation_mode': 'once', 'their_did': '48dfQFRtpVszF95jvGh1U8', 'my_did': 'F2kCfeejvvbUYAryNQQrhb', 'created_at': '2020-10-19 15:56:23.733713Z', 'updated_at': '2020-10-19 15:56:23.749484Z'} 071544f2-209b-4f68-9759-3884d40a511a\n",
      "Connection message {'routing_state': 'none', 'connection_id': '071544f2-209b-4f68-9759-3884d40a511a', 'initiator': 'multiuse', 'invitation_key': '6RkAEsKTHHaNGUfufBYR2MHkC2rETCSKekdLWRBaB9ho', 'state': 'response', 'accept': 'auto', 'their_label': 'IIW', 'invitation_mode': 'once', 'their_did': '48dfQFRtpVszF95jvGh1U8', 'my_did': 'F2kCfeejvvbUYAryNQQrhb', 'created_at': '2020-10-19 15:56:23.733713Z', 'updated_at': '2020-10-19 15:56:23.765809Z'} 071544f2-209b-4f68-9759-3884d40a511a\n",
      "\u001b[1m\u001b[34mTrust ping send to ConnectionId 071544f2-209b-4f68-9759-3884d40a511a to activate connection\u001b[0m\n",
      "Connection message {'routing_state': 'none', 'connection_id': '071544f2-209b-4f68-9759-3884d40a511a', 'initiator': 'multiuse', 'invitation_key': '6RkAEsKTHHaNGUfufBYR2MHkC2rETCSKekdLWRBaB9ho', 'state': 'active', 'accept': 'auto', 'their_label': 'IIW', 'invitation_mode': 'once', 'their_did': '48dfQFRtpVszF95jvGh1U8', 'my_did': 'F2kCfeejvvbUYAryNQQrhb', 'created_at': '2020-10-19 15:56:23.733713Z', 'updated_at': '2020-10-19 15:56:26.204970Z'} 071544f2-209b-4f68-9759-3884d40a511a\n",
      "\u001b[1m\u001b[32mConnectionId: 071544f2-209b-4f68-9759-3884d40a511a is now active.\u001b[0m\n"
     ]
    },
    {
     "name": "stderr",
     "output_type": "stream",
     "text": [
      "ERROR:aiohttp.server:Error handling request\n",
      "Traceback (most recent call last):\n",
      "  File \"/opt/conda/lib/python3.7/site-packages/aiohttp/web_protocol.py\", line 418, in start\n",
      "    resp = await task\n",
      "  File \"/opt/conda/lib/python3.7/site-packages/aiohttp/web_app.py\", line 458, in _handle\n",
      "    resp = await handler(request)\n",
      "  File \"/opt/conda/lib/python3.7/site-packages/aries_basic_controller/aries_controller.py\", line 88, in _receive_webhook\n",
      "    await self.handle_webhook(topic, payload)\n",
      "  File \"/opt/conda/lib/python3.7/site-packages/aries_basic_controller/aries_controller.py\", line 93, in handle_webhook\n",
      "    pub.sendMessage(topic, payload=payload)\n",
      "  File \"/opt/conda/lib/python3.7/site-packages/pubsub/core/publisher.py\", line 216, in sendMessage\n",
      "    topicObj.publish(**msgData)\n",
      "  File \"/opt/conda/lib/python3.7/site-packages/pubsub/core/topicobj.py\", line 452, in publish\n",
      "    self.__sendMessage(msgData, topicObj, msgDataSubset)\n",
      "  File \"/opt/conda/lib/python3.7/site-packages/pubsub/core/topicobj.py\", line 482, in __sendMessage\n",
      "    listener(data, self, allData)\n",
      "  File \"/opt/conda/lib/python3.7/site-packages/pubsub/core/listener.py\", line 237, in __call__\n",
      "    cb(**kwargs)\n",
      "  File \"<ipython-input-2-f59d1ff6392e>\", line 20, in attach_handler\n",
      "    file_content = base64.b64decode(data)\n",
      "NameError: name 'base64' is not defined\n"
     ]
    },
    {
     "name": "stdout",
     "output_type": "stream",
     "text": [
      "Handle Attachment {'connection_id': '071544f2-209b-4f68-9759-3884d40a511a', 'message_id': 'e9280d9a-5000-4325-86ae-61385c503005', 'attachment_message': 'Here is the data you wanted', 'content': 'iVBORw0KGgoAAAANSUhEUgAAAO0AAADVCAMAAACMuod9AAAB4FBMVEX////ZojAAAAAtLCyIakX79LjNzc00MjKzsrLQ0NApKCg7OjqsrKwpKiuLbEYmJSUcGhpgTzrd3d0iICD5+fmnfj7UnzInKCxnVTXYoTD//em7nX8wJxOTcEd7enojJiyuiGna7Pfv7+/gpzAYMT27u7umpqZObYnn9v9HRkb//ff0/P8pQk+RkJDZ2dmQby7ayKv+6tcNDQ2RqMRWVVXIlzRtbGyRfVlrkaYgBgC+q4j/8eNPOSBhYGCwhjCWlpaPc1a71eUIICtWeY2lw9Xy67KEg4O/kDdIMBJlQRFJKwBBX3AAABwAABWRssaFaC5LSUDg2qfAu5BNQi7Y0qGYdUFKPjR3dGCyromifD84PWRjaIgAACzn3Ml9VysYEwkhAAB5YDCTjnJoZVWJhWqjfjBXVEhcTj4aGiRrVj5RRSxuWS83Oj5/gpeXmqxvXkpjb3lMLgCmlI1+j5knGQOss8KDdnGtiYZAXIhnPBcAADpXOiZAAAAAJFxWQkIXLltaKAAAKkyTl7nNwbQvQF+Rc2dzVUVDJxsvX4dwhI8ADDdAT1akwdsqSl6sloVcgqIiRXfEq6s0EQAuJA5CHQ1rcZW9qpouL1wQGzI8SmcAEQF6e5q2nJpscYgTMUhfNiNUaR5QAAAZXUlEQVR4nO1d+2Pa1r2XEUEgGQsjGey2hkYEGnDADRWsnYupc2vTe5vUju3Y8dasdRISx3YaL6/tbnfr2rR3zbI0bdebpfc27b96z/d7jh68bATCLivfH2IhpMP56Ps439dROG5AAxrQgAY0oAENqD8pkDvqGRwmxcRi+ecDOKbIslDyq0c9j8OhmMzzvMxnh8M/B8CIlueVkFT0B456Mj0nhpbnRVnhs+Gjno67FM7qeg0kEy1QSCil/lUAa75kWpRlxW+eUTW1Bi3RYFmMJbUjnKRLpPrSckgEQCXDHmklXZcoymg0aAAmKpzqb4ul5sppSTTwDNOT4aIi4rn4ZmFzXIibeEU+nfX1LYNzWZ1XREtaY3hWKynsRHwxMRSpTK9FoyZeOZTuR59DzSVjglKjnGIa+KZmzROAdmhoorK5LZgCrRT7j7maf4FXZJOt7EAEu+uX69ASilQ31wTK/3TfgdVKaVkxMYlyfGn5MkIhVjlJ1TgKZKIdSgwVduJ4df/JcdhjcFUUo1tLly+fP7YqEFGVi5yWBtYG+Z3pRUKzQyYtwgV8qHzUc3dOqsDQyktL68vnjxE6f4VYIlHylagcb0YSQBbYWQEslRLrxyVoAeVY3lpanT/G6OIW5TWK8bYNJ1XccQArSn2ntECpEIBdXz1/zKSLcVORoyuVOrATVWqP+1COCYWBt+I1G9hj568Zuhxcma0DO1RFpQW97kdS0wAtftmG9thF5kIEhVlTjiMT9M8K+05JHvXMO6IyMDd+1Y52NRikYKcjFGphtrpToKw1fKk+ZW4YVlX5So0oX0FzHNykmjq2uRKPjyLaWbIiMV8q5DvqmXdEMQVW1WU7cy+DVY6OF8jCU5jdhGAgimgj4/F4cGUTrbKSPeqJd0TDoLjRGlFeBlMU35woLO4E4xj4ULSLZ8anq4lEZQ1OKf3nSxHS0E4JdrTz14B7wvZK0FiMEO3s9Cywe2gCmSsX+9G/0HTQ0vi8He4VNEZmtBMMxrcLpl0eSlTjZuTQd1TGNeiijbXnLwtm3A5g11a2Zydsi25lHL6WF/qRuTlklGTaqeUrwvJ63GRrNC5VI5FaH6MAT0MU+lFzNfT/kbnz88tX16XgVeYrE6xrK5vVeu+R0A5qbl+aZWaVz68uX5GEqBK8Ok/DPp5fGZ+NTDRiJQYLQ4N0P2ouOhhB6Rq/BTmM+DoYrCVAK1TqIyDTkUTmKv3oUOEaFFyi/qK8hAp8Dd2p2VZoE9Og2KLQh8wNQKIpevkqsCsYX6WmagtjoEILtExzlYWjnrtzSgEfty6iZdpi0dAqLrZBG3MTtXyuUs3tu0VIRZscXV4m6isbHuT8OqCNT5uKSuKgGkbTHEao7wK/MArylfPz61FqoagoSxgZRAhLJwrVjY0L3gs1aBPTfF+a5QDP4vll/ootFFoSMZ6vVqvTk16gOpNVwNggdLSaqzrWpBR6jiTAPb9uj3LRaPFrxG6tIdiNOn9qaBqz6EdqlpPpkkO4VG3jqKw1GQxEGwQ3GcCO1INloVDIf/BP9IiSWUnhHSYV6GobPVZPq0ZkQNFuNC5Ci/wRBn5aVpAVkVdiDm8DtOKVBrTzV2Qb2rEmS25hG59Hqjdw9qVcTKAlSaehSZKvC/gMWo/a0DZ1MzDOFaXD1lwtR/hqhKMO10BMOkaXG9GuLrG88lpTOR6CIgmmbMqHK8taSeAZXwXQJEdVC8jC8cLl+Ua4RtHguneyhQdZpWa5eKj5xzDWrkRZ0LNFUEInZQualuKl9Yur5+sQL9MgVxgdaSgZMGLJdFkYPsSykIq1q3Qs5QskJXuTSBuUpOIqRnlBWLp60Q54lRZwhfGxpjEummXKflFMlw8PbzIEAhwI+Hy+Iuivg5Y1qz8oGBTjLAJiVpnaKaG5iaJmWWDSLirFQ+uEBHEUSwSrLwBFO2W47TvVdMhqLiG2ucZaXQUoQam5iUJKLI7zbFlWQrHDMs5FIsqSn/A2kCQ6LOvt3xlYEBTF7DGpXXcvA2+j261ZS+BGpiUjE6scljhDQK5kkbll+GFHRlINp3QxhKt1kK8xylIQ46B90IKpqlriLB2KH6lmQ7yoJylzyc869Kc4NZDKonEOrjag3TkALYG7E2T8FYXsYbDXpwBGMFM+XIQ6WAGHsXC9NF8nyfHNg9AOJSYqO8JhirNKVgtRp6IMJcoOwk4fLjhbtqgPrZSVv9iPJqbXDPYqxd5bK1xyUyjKOgEuOR9Bw8Vry7LKtCUhXm2VeKyl2XGjTU7We74YgSjLMWQuiLLcQdUigMkZW7IGl9t20Q5FKuNMnGWx1OMmdfAexTTaqbLQWfOWqoPGXzPQzq/LjtDCahRn1lkWe5ye88OvlNFOLcidpcdSUKYXjOCPljUdoEVx5uldotxj46wDRvQw/MTedJLY9mPHCcsoX2XhbbxVSNCcqttG143U0zC/TARPTCFzS3JH3WoBsMpUcecvmokaZ2gTFZO9Qi+NVUA07BSGBrJzzaEJOf4ipB+NVqGg1KSguS9FplcM49zDtQjnKqCd8oud9V1ijUReP7++ZPaYR7cPdC4aqLDIQoVeSnMW1C6LogxLbgeN8DT/eG09bsVF0R0KwBHmyHSQSXNouFfSrAFGHdGmyNKpdOCh4wMLGhER5GHigDZSbZWraUGJyqbhSfYsDgRPV/AHmObKunM75Q+ZTBWVEqy/BG2iMOkdcYaWrL07THkVvUftGWF029CfysodpfHDgoE1JCXDJTDROxOzI17HaInnPLtGd9TIUo8cK3CWJbBTvqTcWXMe6ziXIXILgxZHty+MeDtBOzRkBEai0JvS2LBs2inI3XSQ1warLCpiCaSP2ixa8+oELSTpKNzeNG9jfoqK8gIsue3np8wRQiExnWU7bYvYhj/aOdrIxhq1zUKpF7aqHGL+VMBPTIyjVCujbNnakghpEOI43+gYLTjOzFaVeuA2QyRk5KfErivn1LdCWR5x6lExSlRWWD9zqgdwYwrBmPKx/FQnzLUTTWfw3TB3qLBJW5N6wV0fuqfIXMiLdxLU22nBZG7LWtCBFFlkcN3f96einUrikss7LAk1oTBuC0LN9Y45d5gpTWxSP7IHfZHgDcksPwVxX5duapI6Vwj3QqfcHZrFjhQ+5HodP5eHjCPNTynd72TRaF1Y8rboRmiTps/QhdftkAjsqJhGUfanO0th1BA1VMEb4FB5q50Kc2QauSsKbld6sWtxwbBT3fcJlC1D5R1p1n7RJnfRi5Td7iaj/hQG9VmMuLocL0BTGAxuh8suIew3IobZZdWF8AeTjyyP3q3dx1YFXkC0TXtr2qMKhcu7nHrNmUUSX1bsLKivIc226Hpbl+kPpAJmI12PECAHJ6DiQpuB0rUdDNAoEA1VF2gT1Mtwe799ykq1urHkGrK8VsfbSMUp8kWquu5Gu1pJNLxHv+CoL6EF5fCdCcHrNWgnxrwbDvFOsGSVu6tuEvJTZTOo7150sohWGB+xo50kJro64aBsAl2+qLqiq6kbmnykdgpCg66fpYrFTpBlC20Bu5Y3nDkcdB+6y5t3QdEE9KeAzXL3sZbPcJcttFW6JHkvOFmCE9PUYe5auewExTo5a6RaeRe2oGHShqxCJtrEGEPrnRxzEC0URtEuuxrrajykaag/5YooE0OFzL1u8XbD67XwNt8R1oxoJ6i7Xc2Q86eLUDLtgvfImS+t2TBgFUa8dmpbnBP0vS+uyjKkglnclwK3r3t3TcVtutFNY9aVGrDeSRL8tmeeC3THo6uJDGCuQJmrO+9Hb0YBzKWbrWJj3noaa2/1TdDNJq46kAFod1wIYNynkLjShScJhspEGyGLbQPeSnurEcqyqzuJVCwJ0aYT3p03GMTsaKv82o0GtN7JtlbfClZ3FTe3Zpv9U/AaPzf8qRq0icV4ULjehL0bswfjjdB3Njnd3LIfQf8UX6J9Cbwrb1qxoy1AsBptxl5vO6svGqpu86G1kzPzU5B8dMFO2dHO0ne7NBXnkYPx0q3ZUkunx7mMw+Z/Ef2pAEh1929asaOtsi4wgreJOB8YBU+gWZb1pqjUcNZ5nV2TRIO5w4IbdsqOdtPsQgmujTbBe0DXEd2a3WQPoG84FdOVDtqBaINM2Wo66dbi29BS3jC4tAhYtxYdIMoF9sYMc3BVyyWL6bQYUhS5I18oKZlNJ5BZ6npjsA0tvu+CvUzNSq5bdHBVoYDJdCOtEsimyWgiG7Aj66XiZgMUZcgJd+2IW2gnMG4TF3TFeDsiiLNNnjcO9Kro1mw5pebKsWJRst4TKiodvuLVj8KCS+4CHHYpyhZaVtbxacPFkGmtRttX2yFjazYvpAVZtr08E8qxHTIFiiQsP4WborqM+0y0iar5bg81xiuG+q7dMNjbTq23QreJ2bfnYGzU+STLmJ/ymXaqO3/K4u101DIxgZhs7FwVRmm1qL0U+2KUbyS5i9dE5tBnNPunusujYyM+oqWbqkXmG6jJoqG9BC+1yO3EfhXTrgejQWGNcrab7Z6YPBOGA4FkCrcUd9OXEI7BdBAt26toSopW5E28xLkaaa9YNIHuYzQe51e2Ny8g2i7fBAM9YnI2WWY9X0LZX0fJJlR/DVJWkk20mGyp8VZ8CyFDnPnrNy60FfiRwCIeD44uTo9VZr005O0yW4Vva5Qk0WjTVEKdElsiAC11hOraCsPmi6WD7F2BRAbGmpAVI1XGNyuFSCIy5r1Bdy137cqXrdcFu0DBYHxzApgCc6vzu8NZwVDeKkVTaExvgL3eqBo5jsIEdENeGLlBvebuG8g0qd7EdwNW2Ia3t2CtrrE3CVL2eNUarj+R6mQzsAj4wliBJikj1QtexllZdyGXUax9/T4Ra6dkYo0KtKsGX/zQWLqC6hMQbVaPNGWsSZOQ5ZioEKzeUZQJd17elMvLsmSBFVL+YUfkT1EBjUbXpmnaKYLNbY1et4E2CDvhZi/sCxZ96Y0N6AQexZtkyZ0itq6Xc+aCCNsOHBL2OvLBlR0jgxpBLWtM6zG00ZVCIlJtEvM2JyrGYtql9DK8tyYZsqH1OaIA6+wsmA5Dhb0pvBXa7aHIwYxlNDJKHSpXX9ykLoTY/7LQKdrRhEl0/Wl0Zw1JXqxMEgejLfLewDtEFyo3NXD9sXRa6lySg2vTJqHb2KTvyUA76oAoWMH9bTSatiCCN+XMSA0Pl6nexk2iRasmP2BYKQeEN3TfGNKMsnWLURfUrHXCQOuUevSCUxfRNmvhN7wLx0P1ZnuUe2jFZq/XDXfitomu98aZaHnBLWqW7w13NFLP/meWXNNQriNqluTXOhko2XfvgxzQgAY0oAENaEADGtCABjSgAQ1oQANqk1TtsDIfav3/FKBqmpMUk7Orm9Mvd/XSzSbn1YbJOaX6EV4mv/SR7fPMLUl6dLztYS5JaelOtxN70ePx/LPxdOZLvaTPdTwqjPCWru/ZwUySX/q17fPMf3g8Jw5EO3OLDHOSHFwit78yxXFk2FLHEwO0v2o2V3K+O7T/7vGc2RftO22hNZ6Jlqdof9PNxPoGLaf5klDFdBOtoRN1aBtURW28hX0wPu2LFq6qQdv4A+zEzG/rnokbaLVisTh3aUHyeB6BKbhdeomcf1S6SUQH3oXt8exm6QMulmJzmduC5w6XLBVvag9iIY9n7202w1SR3LV3Dw7vl+56PHm7XbLQ+sllu2XNRBvO6uTJLNCSZ6xUvJcpkxMn7hzntPulD8gwJTKMFiuWXldvl/6BE3t+O7awQEtLvyuViu3CZ2jBBpQ+9CD9nsv8Jz3y/OE4l7nPjj2ACa67+Ufyz0Pussdz9gr76j0YKvAG+/TuSU77L3b8p6l6tNqf6TenXmJobxs/AM85Q/7uvkk/f3zyEpuS5ytqpbS/GMN+Tf75BKxXhjyOsx2gJZTHf+c4A+G7UxTsFn4RMK+DmV32WPSYYMrBwbkt+HdvKnOLffOwgbfX8YdC+C2gfYr34WciFS/YJ/Je5rr5c9Qmf84+72W+Zc//Afn73VRLfE3RvorYcurXRP48n5KFH/T2baI8MNhnAVW7jdgZ2hOxrI+7irPQNJjA+2TWo2TONzX10l9x2qoGejtn00eGFgZ89p6mPniDop2Bz/c09Sn5/Ix+9Jy4p+bewctVaqVUYwVS1d+wicHEXyHDfkn+vtYmWDtamDIHc//IZqVusfPwBREY+lTwxC/Yz2VAaHOI4gnHHvavW1up/zZm90uKFmb7d45N+1OKFngGLH/XZpON9dawUqfJ3x/IF+ThfnKwj9KI9gvj80MLrbZGnniK0PAtZBlcd5YO/gtjmvT3YXbPh8mVt4munTrZCm2GDPg3PH36G8SxTkTiDrlvGFTmOYJAfTxNeP1oqjVafGxv4+n/aResHS0wCg/+zUJ76Vubdnpet56KDe0k/uzL9gufzbVCO0Ns6mNAw73wJuAwDSLSu1OA9rGBljy01mgf4JS/ZKLgAO0Uoni9Gdpv7JN5Yj0VinbOQvuW/cL320G7jWh/a7/v8cnTiLkdtDPfgCj/SMzKSbfQzhDBOxU2SLOua0ALkvyeeeVUS0mWDD07TXHcAmNm3se1jxae77nsh+Z8XECr/tlQMy7sy6n7oE16mJXi1ECAxGaZHYDRgJaD1RaXZ5BEgoOo6zlUCE4L5LRGtO/UofWaaB9QeTjbto1qiRbXlyfE0APLXiGiAksSMc6t0WaIs/AMF8C7FPYNcvq1xhXIDyBBav5K0QKKx8ch6sLHUI82s0Lw3CPDmDEQzACHzfwR0ba92O6DtgwDyd+dBBvqObFwnyd/bnL7oMXncm5v4ZqH+TbolihWHMDQZgDlmb37sLAj18DYb+0twO98d7IBLQfj5ZVXuDBDe5tNjKNrFhOULtFSMSGeYyBkmBCYxD5ouZhpbMBT5r7Hw48bPMcAu+h/8xStljZu2z3O2dDShYz5lV+ZaOnEULvQhD5zIMgEbZ6izRto84iWe6rn8/mPyVDh++jGnbipsq9NtPk8Q5uni4B/CWfyiLr3mdvpfN7zlQ1tnkYFPh3H8xPn6xRGrlkQHM+Z55CJOf1BnqG9m0e0mQUJhiEPRfoA0HK306E8NXQZWHKfOwDLaWgJORUtLoxgHOAp+i7ZcCCZzFknNevOqZoDTs35kr5w/di2T5pxmY+Mp5nfajnyA+zYPpFwzRQ1+8Twkj96ugzC+4bC5RREYLtHPY/Doa9tJuJfn742LefPgdRYsRjru/8neUADGtCABjSgVqSZrjE5UM1z4X0Ki5ZP3EiZGu/5p0bhN/J5mr649E5I3kJXbeYGCWj2yeK+vM/XL7yUz59qP5V02KSw+JWGlpiN0b7ZP/qABGRLtP+ggetPlN4yMGIS9U9wBEH9H/a5ZV+0L/2k0UJ+DQo9tIJzDoT6dx4z0dqU+hjtpTdodeQ0zS3/nRiaWyYaNRcwzRVNuYV9mg2tUdAN5wyzxtDab6wdho4TDuxnBntIPFVcltEkQq1BBQF4HChKEFGX0HT5BGl37tI1iDkNtA90SYA91U8hh5Pf1e9NMbTh+wLkdGhqlfOV4NPuHlqCjC5JNx/ADbtFJzknt2iSYiT6m8+j4l4ifz7mbJVXLMWQp3Eu9iFmARlaLFbOcWaBFNNwgDa4Rj/Swqv19f8BWjL4Ofb5/SPIw4DifoZq+93nyFRIbT5kAfWujjN/nWEDGmZoMef6Nk18b93x338DZQTQkvO6YFj4723DkEf0wgeYk9MxpffD4Ufrp+9CkWMGihCvouLep+oLmeEnUzTv/cNxLFF6PHv+JNNbAHvmbQYHYD34EOAg2lNznAq2/p9sNfuUDANP8vFJihby6XD5UWRioJoxB2p7TwPIM99iGhdYhlnsjBenhWhpnwWg1cmsT+A6DTLwwz0NDJhPRbTnsKuBjBWforU6YGFmHOUe0J7F++ApfnX4aLH+/SUUKjOjZAJgpL+bMllGZfgJomVlCqO8SdNGmgzH8dKdHFhZQAtlZizxxE/iavaa+TOfIlpaBYTs+CeHjxZ7G64jFiJuz65SHpbNaUJXwe8RLUVvFXPp936Ffdy9Z0f7JlYBY4SV1DY/RTsFaB/hU4LHcebwFXfmJTrZJ+hFQUkDRK0Z2tfr0LK6hTa8xAB/ZHkXP1W0WPWnJkOjR9As8D1bMug0Kdr3LLTnkpDK/8IYQk3iQnNqqh7t/pL87JCRAr1orn5oSqhZueQxpvWjaaVsaF+j7ggB8rmuP8fGTGLbfzhZj/aBod+ZH00rRVscXjwaK8Xqcp/BnD639BH85r3jWNoFZjegxWuJX/05uwHQNvIWCr+ehxodhvwEov3bHJd56jmaFYibWfEYJgh7iJ7Nmc/gjC6yWTWixYr0F7RJ7lG2eBfHqEeLzovnhH6XDZNB78LzaI0K/hGgpRzF54yK+ysawzwwbK0HXi7SiJa6V69xX39gXKdrVnxroOWe5tm3Z+EXAK3hWe4eTZLjgZCWdISYubWbThu9muH7kpyXpT2s2L66mxZYM8+LUloC1cvcJwd7HJeLSYIiS4/AxXjhmiRhf7XVfB5Yx2Ee4n8mAmjfJQMLgtSz//b3ILIa3Gtb3VUSmWnWNbar1doDzUxqmQPYRtKsYTJ0BXK466BfKWOutz8HQrRHPYlDI+hQ/vmg5VKp1KAuO6ABDWhAA+pb+n8UcTwb+SSeyAAAAABJRU5ErkJggg==', 'filename': 'iiw.png', 'state': 'received'} 071544f2-209b-4f68-9759-3884d40a511a\n",
      "Attachment Received\n"
     ]
    },
    {
     "name": "stderr",
     "output_type": "stream",
     "text": [
      "ERROR:aiohttp.server:Error handling request\n",
      "Traceback (most recent call last):\n",
      "  File \"/opt/conda/lib/python3.7/site-packages/aiohttp/web_protocol.py\", line 418, in start\n",
      "    resp = await task\n",
      "  File \"/opt/conda/lib/python3.7/site-packages/aiohttp/web_app.py\", line 458, in _handle\n",
      "    resp = await handler(request)\n",
      "  File \"/opt/conda/lib/python3.7/site-packages/aries_basic_controller/aries_controller.py\", line 88, in _receive_webhook\n",
      "    await self.handle_webhook(topic, payload)\n",
      "  File \"/opt/conda/lib/python3.7/site-packages/aries_basic_controller/aries_controller.py\", line 93, in handle_webhook\n",
      "    pub.sendMessage(topic, payload=payload)\n",
      "  File \"/opt/conda/lib/python3.7/site-packages/pubsub/core/publisher.py\", line 216, in sendMessage\n",
      "    topicObj.publish(**msgData)\n",
      "  File \"/opt/conda/lib/python3.7/site-packages/pubsub/core/topicobj.py\", line 452, in publish\n",
      "    self.__sendMessage(msgData, topicObj, msgDataSubset)\n",
      "  File \"/opt/conda/lib/python3.7/site-packages/pubsub/core/topicobj.py\", line 482, in __sendMessage\n",
      "    listener(data, self, allData)\n",
      "  File \"/opt/conda/lib/python3.7/site-packages/pubsub/core/listener.py\", line 237, in __call__\n",
      "    cb(**kwargs)\n",
      "  File \"<ipython-input-2-f59d1ff6392e>\", line 20, in attach_handler\n",
      "    file_content = base64.b64decode(data)\n",
      "NameError: name 'base64' is not defined\n"
     ]
    },
    {
     "name": "stdout",
     "output_type": "stream",
     "text": [
      "Handle Attachment {'connection_id': '071544f2-209b-4f68-9759-3884d40a511a', 'message_id': 'e9280d9a-5000-4325-86ae-61385c503005', 'attachment_message': 'Here is the data you wanted', 'content': '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', 'filename': 'iiw.png', 'state': 'received'} 071544f2-209b-4f68-9759-3884d40a511a\n",
      "Attachment Received\n"
     ]
    },
    {
     "name": "stderr",
     "output_type": "stream",
     "text": [
      "ERROR:aiohttp.server:Error handling request\n",
      "Traceback (most recent call last):\n",
      "  File \"/opt/conda/lib/python3.7/site-packages/aiohttp/web_protocol.py\", line 418, in start\n",
      "    resp = await task\n",
      "  File \"/opt/conda/lib/python3.7/site-packages/aiohttp/web_app.py\", line 458, in _handle\n",
      "    resp = await handler(request)\n",
      "  File \"/opt/conda/lib/python3.7/site-packages/aries_basic_controller/aries_controller.py\", line 88, in _receive_webhook\n",
      "    await self.handle_webhook(topic, payload)\n",
      "  File \"/opt/conda/lib/python3.7/site-packages/aries_basic_controller/aries_controller.py\", line 93, in handle_webhook\n",
      "    pub.sendMessage(topic, payload=payload)\n",
      "  File \"/opt/conda/lib/python3.7/site-packages/pubsub/core/publisher.py\", line 216, in sendMessage\n",
      "    topicObj.publish(**msgData)\n",
      "  File \"/opt/conda/lib/python3.7/site-packages/pubsub/core/topicobj.py\", line 452, in publish\n",
      "    self.__sendMessage(msgData, topicObj, msgDataSubset)\n",
      "  File \"/opt/conda/lib/python3.7/site-packages/pubsub/core/topicobj.py\", line 482, in __sendMessage\n",
      "    listener(data, self, allData)\n",
      "  File \"/opt/conda/lib/python3.7/site-packages/pubsub/core/listener.py\", line 237, in __call__\n",
      "    cb(**kwargs)\n",
      "  File \"<ipython-input-2-f59d1ff6392e>\", line 20, in attach_handler\n",
      "    file_content = base64.b64decode(data)\n",
      "NameError: name 'base64' is not defined\n"
     ]
    },
    {
     "name": "stdout",
     "output_type": "stream",
     "text": [
      "Handle Attachment {'connection_id': '071544f2-209b-4f68-9759-3884d40a511a', 'message_id': 'e9280d9a-5000-4325-86ae-61385c503005', 'attachment_message': 'Here is the data you wanted', 'content': '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', 'filename': 'iiw.png', 'state': 'received'} 071544f2-209b-4f68-9759-3884d40a511a\n",
      "Attachment Received\n"
     ]
    },
    {
     "name": "stderr",
     "output_type": "stream",
     "text": [
      "ERROR:aiohttp.server:Error handling request\n",
      "Traceback (most recent call last):\n",
      "  File \"/opt/conda/lib/python3.7/site-packages/aiohttp/web_protocol.py\", line 418, in start\n",
      "    resp = await task\n",
      "  File \"/opt/conda/lib/python3.7/site-packages/aiohttp/web_app.py\", line 458, in _handle\n",
      "    resp = await handler(request)\n",
      "  File \"/opt/conda/lib/python3.7/site-packages/aries_basic_controller/aries_controller.py\", line 88, in _receive_webhook\n",
      "    await self.handle_webhook(topic, payload)\n",
      "  File \"/opt/conda/lib/python3.7/site-packages/aries_basic_controller/aries_controller.py\", line 93, in handle_webhook\n",
      "    pub.sendMessage(topic, payload=payload)\n",
      "  File \"/opt/conda/lib/python3.7/site-packages/pubsub/core/publisher.py\", line 216, in sendMessage\n",
      "    topicObj.publish(**msgData)\n",
      "  File \"/opt/conda/lib/python3.7/site-packages/pubsub/core/topicobj.py\", line 452, in publish\n",
      "    self.__sendMessage(msgData, topicObj, msgDataSubset)\n",
      "  File \"/opt/conda/lib/python3.7/site-packages/pubsub/core/topicobj.py\", line 482, in __sendMessage\n",
      "    listener(data, self, allData)\n",
      "  File \"/opt/conda/lib/python3.7/site-packages/pubsub/core/listener.py\", line 237, in __call__\n",
      "    cb(**kwargs)\n",
      "  File \"<ipython-input-2-f59d1ff6392e>\", line 20, in attach_handler\n",
      "    file_content = base64.b64decode(data)\n",
      "NameError: name 'base64' is not defined\n"
     ]
    },
    {
     "name": "stdout",
     "output_type": "stream",
     "text": [
      "Handle Attachment {'connection_id': '071544f2-209b-4f68-9759-3884d40a511a', 'message_id': 'e9280d9a-5000-4325-86ae-61385c503005', 'attachment_message': 'Here is the data you wanted', 'content': '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', 'filename': 'iiw.png', 'state': 'received'} 071544f2-209b-4f68-9759-3884d40a511a\n",
      "Attachment Received\n"
     ]
    },
    {
     "name": "stderr",
     "output_type": "stream",
     "text": [
      "ERROR:aiohttp.server:Error handling request\n",
      "Traceback (most recent call last):\n",
      "  File \"/opt/conda/lib/python3.7/site-packages/aiohttp/web_protocol.py\", line 418, in start\n",
      "    resp = await task\n",
      "  File \"/opt/conda/lib/python3.7/site-packages/aiohttp/web_app.py\", line 458, in _handle\n",
      "    resp = await handler(request)\n",
      "  File \"/opt/conda/lib/python3.7/site-packages/aries_basic_controller/aries_controller.py\", line 88, in _receive_webhook\n",
      "    await self.handle_webhook(topic, payload)\n",
      "  File \"/opt/conda/lib/python3.7/site-packages/aries_basic_controller/aries_controller.py\", line 93, in handle_webhook\n",
      "    pub.sendMessage(topic, payload=payload)\n",
      "  File \"/opt/conda/lib/python3.7/site-packages/pubsub/core/publisher.py\", line 216, in sendMessage\n",
      "    topicObj.publish(**msgData)\n",
      "  File \"/opt/conda/lib/python3.7/site-packages/pubsub/core/topicobj.py\", line 452, in publish\n",
      "    self.__sendMessage(msgData, topicObj, msgDataSubset)\n",
      "  File \"/opt/conda/lib/python3.7/site-packages/pubsub/core/topicobj.py\", line 482, in __sendMessage\n",
      "    listener(data, self, allData)\n",
      "  File \"/opt/conda/lib/python3.7/site-packages/pubsub/core/listener.py\", line 237, in __call__\n",
      "    cb(**kwargs)\n",
      "  File \"<ipython-input-2-f59d1ff6392e>\", line 20, in attach_handler\n",
      "    file_content = base64.b64decode(data)\n",
      "NameError: name 'base64' is not defined\n"
     ]
    },
    {
     "name": "stdout",
     "output_type": "stream",
     "text": [
      "Handle Attachment {'connection_id': '071544f2-209b-4f68-9759-3884d40a511a', 'message_id': 'e9280d9a-5000-4325-86ae-61385c503005', 'attachment_message': 'Here is the data you wanted', 'content': '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', 'filename': 'iiw.png', 'state': 'received'} 071544f2-209b-4f68-9759-3884d40a511a\n",
      "Attachment Received\n"
     ]
    }
   ],
   "source": [
    "file = \"iiw.png\"\n",
    "content_type = \"image/png\"\n",
    "data = FormData()\n",
    "data.add_field('file',\n",
    "               open(file, 'rb'),\n",
    "               filename=file,\n",
    "               content_type=content_type)\n",
    "response = await agent_controller.protocol.send_attachment('aef4f5b1-f66f-4d6c-94f5-942b398c44a6', data)\n",
    "print('Attachment- Alice-> Bob')\n",
    "print(response)"
   ]
  },
  {
   "cell_type": "markdown",
   "metadata": {},
   "source": [
    "## Issue Credential\n",
    "\n",
    "Customise this however you like. "
   ]
  },
  {
   "cell_type": "code",
   "execution_count": null,
   "metadata": {},
   "outputs": [],
   "source": [
    "name=input(\"Please enter your name: \")\n",
    "credential_attributes = [\n",
    "    {\"name\": \"name\", \"value\": name},\n",
    "]\n",
    "\n",
    "record = await agent_controller.issuer.send_credential(connection_id, schema_id, cred_def_id, credential_attributes, trace=False)\n",
    "record_id = record['credential_exchange_id']\n",
    "state = record['state']\n",
    "role = record['role']\n",
    "print(f\"Credential exchange {record_id}, role: {role}, state: {state}\")"
   ]
  },
  {
   "cell_type": "markdown",
   "metadata": {},
   "source": [
    "## Request a Presentation\n",
    "\n",
    "You will need to know the schema_id you wish to verify attributes from\n"
   ]
  },
  {
   "cell_type": "code",
   "execution_count": 13,
   "metadata": {},
   "outputs": [
    {
     "name": "stdout",
     "output_type": "stream",
     "text": [
      "Request proof of Fullname and Age range from Identity Holder\n"
     ]
    }
   ],
   "source": [
    "schema_id = 'EuEtnVakYFyBtGFT1nHYtH:2:SSI PyDentity Tutorial:0.0.1'\n",
    "\n",
    "print(\"Request proof of Fullname and Age range from Identity Holder\")\n",
    "#Set some variables\n",
    "\n",
    "revocation = False\n",
    "exchange_tracing = False\n",
    "\n",
    "#Enable this to ask for attributes to identity a user\n",
    "#TODO - change restriction to schemaId or credentialId\n",
    "\n",
    "req_attrs = [\n",
    "    {\"name\": \"name\", \"restrictions\": []},\n",
    "]\n",
    "\n",
    "# if revocation:\n",
    "#     req_attrs.append(\n",
    "#         {\n",
    "#             \"name\": \"skill\",\n",
    "#             \"restrictions\": [{\"schema_id\": schema_id}],\n",
    "#             \"non_revoked\": {\"to\": int(time.time() - 1)},\n",
    "#         },\n",
    "#     )\n",
    "\n",
    "\n",
    "#Set predicates for Zero Knowledge Proofs\n",
    "# req_preds = [\n",
    "#     # test zero-knowledge proofs\n",
    "#     {\n",
    "#         \"name\": \"age\",\n",
    "#         \"p_type\": \">=\",\n",
    "#         \"p_value\": 21,\n",
    "#         \"restrictions\": [{\"schema_id\": schema_id}],\n",
    "#     }\n",
    "# ]\n",
    "\n",
    "indy_proof_request = {\n",
    "    \"name\": \"Proof of Name\",\n",
    "    \"version\": \"1.0\",\n",
    "    \"requested_attributes\": {\n",
    "        f\"0_{req_attr['name']}_uuid\":\n",
    "        req_attr for req_attr in req_attrs\n",
    "    },\n",
    "#     \"requested_predicates\": {\n",
    "#         f\"0_{req_pred['name']}_GE_uuid\":\n",
    "#         req_pred for req_pred in req_preds\n",
    "#     },\n",
    "}\n",
    "\n",
    "# if revocation:\n",
    "#     indy_proof_request[\"non_revoked\"] = {\"to\": int(time.time())}\n",
    "\n",
    "#proof_request = indy_proof_request\n",
    "exchange_tracing_id = exchange_tracing\n",
    "proof_request_web_request = {\n",
    "    \"connection_id\": connection_id,\n",
    "    \"proof_request\": indy_proof_request,\n",
    "    \"trace\": exchange_tracing,\n",
    "}"
   ]
  },
  {
   "cell_type": "code",
   "execution_count": 14,
   "metadata": {},
   "outputs": [
    {
     "ename": "ClientResponseError",
     "evalue": "422, message='Unprocessable Entity', url=URL('http://iiw-agent:8021/present-proof/send-request')",
     "output_type": "error",
     "traceback": [
      "\u001b[0;31m---------------------------------------------------------------------------\u001b[0m",
      "\u001b[0;31mClientResponseError\u001b[0m                       Traceback (most recent call last)",
      "\u001b[0;32m<ipython-input-14-95d0f23db783>\u001b[0m in \u001b[0;36masync-def-wrapper\u001b[0;34m()\u001b[0m\n\u001b[1;32m      2\u001b[0m \u001b[0mprint\u001b[0m\u001b[0;34m(\u001b[0m\u001b[0mresponse\u001b[0m\u001b[0;34m)\u001b[0m\u001b[0;34m\u001b[0m\u001b[0;34m\u001b[0m\u001b[0m\n\u001b[1;32m      3\u001b[0m \u001b[0mpresentation_exchange_id\u001b[0m \u001b[0;34m=\u001b[0m \u001b[0mresponse\u001b[0m\u001b[0;34m[\u001b[0m\u001b[0;34m'presentation_exchange_id'\u001b[0m\u001b[0;34m]\u001b[0m\u001b[0;34m\u001b[0m\u001b[0;34m\u001b[0m\u001b[0m\n\u001b[0;32m----> 4\u001b[0;31m \u001b[0mprint\u001b[0m\u001b[0;34m(\u001b[0m\u001b[0;34m\"\\n\"\u001b[0m\u001b[0;34m)\u001b[0m\u001b[0;34m\u001b[0m\u001b[0;34m\u001b[0m\u001b[0m\n\u001b[0m\u001b[1;32m      5\u001b[0m \u001b[0mprint\u001b[0m\u001b[0;34m(\u001b[0m\u001b[0mpresentation_exchange_id\u001b[0m\u001b[0;34m)\u001b[0m\u001b[0;34m\u001b[0m\u001b[0;34m\u001b[0m\u001b[0m\n",
      "\u001b[0;32m/opt/conda/lib/python3.7/site-packages/aries_basic_controller/controllers/proof.py\u001b[0m in \u001b[0;36msend_request\u001b[0;34m(self, request)\u001b[0m\n\u001b[1;32m     64\u001b[0m     \u001b[0;31m# Sends a free presentation request not bound to any proposal\u001b[0m\u001b[0;34m\u001b[0m\u001b[0;34m\u001b[0m\u001b[0;34m\u001b[0m\u001b[0m\n\u001b[1;32m     65\u001b[0m     \u001b[0;32masync\u001b[0m \u001b[0;32mdef\u001b[0m \u001b[0msend_request\u001b[0m\u001b[0;34m(\u001b[0m\u001b[0mself\u001b[0m\u001b[0;34m,\u001b[0m \u001b[0mrequest\u001b[0m\u001b[0;34m)\u001b[0m\u001b[0;34m:\u001b[0m\u001b[0;34m\u001b[0m\u001b[0;34m\u001b[0m\u001b[0m\n\u001b[0;32m---> 66\u001b[0;31m         \u001b[0;32mreturn\u001b[0m \u001b[0;32mawait\u001b[0m \u001b[0mself\u001b[0m\u001b[0;34m.\u001b[0m\u001b[0madmin_POST\u001b[0m\u001b[0;34m(\u001b[0m\u001b[0;34mf\"{self.base_url}/send-request\"\u001b[0m\u001b[0;34m,\u001b[0m \u001b[0mjson_data\u001b[0m\u001b[0;34m=\u001b[0m\u001b[0mrequest\u001b[0m\u001b[0;34m)\u001b[0m\u001b[0;34m\u001b[0m\u001b[0;34m\u001b[0m\u001b[0m\n\u001b[0m\u001b[1;32m     67\u001b[0m \u001b[0;34m\u001b[0m\u001b[0m\n\u001b[1;32m     68\u001b[0m     \u001b[0;32masync\u001b[0m \u001b[0;32mdef\u001b[0m \u001b[0msend_request_for_proposal\u001b[0m\u001b[0;34m(\u001b[0m\u001b[0mself\u001b[0m\u001b[0;34m,\u001b[0m \u001b[0mpres_ex_id\u001b[0m\u001b[0;34m,\u001b[0m \u001b[0mproposal_request\u001b[0m\u001b[0;34m)\u001b[0m\u001b[0;34m:\u001b[0m\u001b[0;34m\u001b[0m\u001b[0;34m\u001b[0m\u001b[0m\n",
      "\u001b[0;32m/opt/conda/lib/python3.7/site-packages/aries_basic_controller/controllers/base.py\u001b[0m in \u001b[0;36madmin_POST\u001b[0;34m(self, path, json_data, text, params, data)\u001b[0m\n\u001b[1;32m     94\u001b[0m                 \u001b[0;34m(\u001b[0m\u001b[0;34m\" with data: \\n{}\"\u001b[0m\u001b[0;34m.\u001b[0m\u001b[0mformat\u001b[0m\u001b[0;34m(\u001b[0m\u001b[0mrepr_json\u001b[0m\u001b[0;34m(\u001b[0m\u001b[0mjson_data\u001b[0m\u001b[0;34m)\u001b[0m\u001b[0;34m)\u001b[0m \u001b[0;32mif\u001b[0m \u001b[0mjson_data\u001b[0m \u001b[0;32melse\u001b[0m \u001b[0;34m\"\"\u001b[0m\u001b[0;34m)\u001b[0m\u001b[0;34m,\u001b[0m\u001b[0;34m\u001b[0m\u001b[0;34m\u001b[0m\u001b[0m\n\u001b[1;32m     95\u001b[0m             )\n\u001b[0;32m---> 96\u001b[0;31m             \u001b[0mresponse\u001b[0m \u001b[0;34m=\u001b[0m \u001b[0;32mawait\u001b[0m \u001b[0mself\u001b[0m\u001b[0;34m.\u001b[0m\u001b[0madmin_request\u001b[0m\u001b[0;34m(\u001b[0m\u001b[0;34m\"POST\"\u001b[0m\u001b[0;34m,\u001b[0m \u001b[0mpath\u001b[0m\u001b[0;34m,\u001b[0m \u001b[0mjson_data\u001b[0m\u001b[0;34m,\u001b[0m \u001b[0mtext\u001b[0m\u001b[0;34m,\u001b[0m \u001b[0mparams\u001b[0m\u001b[0;34m,\u001b[0m \u001b[0mdata\u001b[0m\u001b[0;34m)\u001b[0m\u001b[0;34m\u001b[0m\u001b[0;34m\u001b[0m\u001b[0m\n\u001b[0m\u001b[1;32m     97\u001b[0m             EVENT_LOGGER.debug(\n\u001b[1;32m     98\u001b[0m                 \u001b[0;34m\"Response from POST %s received: \\n%s\"\u001b[0m\u001b[0;34m,\u001b[0m \u001b[0mpath\u001b[0m\u001b[0;34m,\u001b[0m \u001b[0mrepr_json\u001b[0m\u001b[0;34m(\u001b[0m\u001b[0mresponse\u001b[0m\u001b[0;34m)\u001b[0m\u001b[0;34m,\u001b[0m\u001b[0;34m\u001b[0m\u001b[0;34m\u001b[0m\u001b[0m\n",
      "\u001b[0;32m/opt/conda/lib/python3.7/site-packages/aries_basic_controller/controllers/base.py\u001b[0m in \u001b[0;36madmin_request\u001b[0;34m(self, method, path, json_data, text, params, data)\u001b[0m\n\u001b[1;32m     61\u001b[0m             \u001b[0mmethod\u001b[0m\u001b[0;34m,\u001b[0m \u001b[0mself\u001b[0m\u001b[0;34m.\u001b[0m\u001b[0madmin_url\u001b[0m \u001b[0;34m+\u001b[0m \u001b[0mpath\u001b[0m\u001b[0;34m,\u001b[0m \u001b[0mjson\u001b[0m\u001b[0;34m=\u001b[0m\u001b[0mjson_data\u001b[0m\u001b[0;34m,\u001b[0m \u001b[0mparams\u001b[0m\u001b[0;34m=\u001b[0m\u001b[0mparams\u001b[0m\u001b[0;34m,\u001b[0m \u001b[0mdata\u001b[0m\u001b[0;34m=\u001b[0m\u001b[0mdata\u001b[0m\u001b[0;34m\u001b[0m\u001b[0;34m\u001b[0m\u001b[0m\n\u001b[1;32m     62\u001b[0m         ) as resp:\n\u001b[0;32m---> 63\u001b[0;31m             \u001b[0mresp\u001b[0m\u001b[0;34m.\u001b[0m\u001b[0mraise_for_status\u001b[0m\u001b[0;34m(\u001b[0m\u001b[0;34m)\u001b[0m\u001b[0;34m\u001b[0m\u001b[0;34m\u001b[0m\u001b[0m\n\u001b[0m\u001b[1;32m     64\u001b[0m             \u001b[0mresp_text\u001b[0m \u001b[0;34m=\u001b[0m \u001b[0;32mawait\u001b[0m \u001b[0mresp\u001b[0m\u001b[0;34m.\u001b[0m\u001b[0mtext\u001b[0m\u001b[0;34m(\u001b[0m\u001b[0;34m)\u001b[0m\u001b[0;34m\u001b[0m\u001b[0;34m\u001b[0m\u001b[0m\n\u001b[1;32m     65\u001b[0m             \u001b[0;32mif\u001b[0m \u001b[0;32mnot\u001b[0m \u001b[0mresp_text\u001b[0m \u001b[0;32mand\u001b[0m \u001b[0;32mnot\u001b[0m \u001b[0mtext\u001b[0m\u001b[0;34m:\u001b[0m\u001b[0;34m\u001b[0m\u001b[0;34m\u001b[0m\u001b[0m\n",
      "\u001b[0;32m/opt/conda/lib/python3.7/site-packages/aiohttp/client_reqrep.py\u001b[0m in \u001b[0;36mraise_for_status\u001b[0;34m(self)\u001b[0m\n\u001b[1;32m    944\u001b[0m                 \u001b[0mstatus\u001b[0m\u001b[0;34m=\u001b[0m\u001b[0mself\u001b[0m\u001b[0;34m.\u001b[0m\u001b[0mstatus\u001b[0m\u001b[0;34m,\u001b[0m\u001b[0;34m\u001b[0m\u001b[0;34m\u001b[0m\u001b[0m\n\u001b[1;32m    945\u001b[0m                 \u001b[0mmessage\u001b[0m\u001b[0;34m=\u001b[0m\u001b[0mself\u001b[0m\u001b[0;34m.\u001b[0m\u001b[0mreason\u001b[0m\u001b[0;34m,\u001b[0m\u001b[0;34m\u001b[0m\u001b[0;34m\u001b[0m\u001b[0m\n\u001b[0;32m--> 946\u001b[0;31m                 headers=self.headers)\n\u001b[0m\u001b[1;32m    947\u001b[0m \u001b[0;34m\u001b[0m\u001b[0m\n\u001b[1;32m    948\u001b[0m     \u001b[0;32mdef\u001b[0m \u001b[0m_cleanup_writer\u001b[0m\u001b[0;34m(\u001b[0m\u001b[0mself\u001b[0m\u001b[0;34m)\u001b[0m \u001b[0;34m->\u001b[0m \u001b[0;32mNone\u001b[0m\u001b[0;34m:\u001b[0m\u001b[0;34m\u001b[0m\u001b[0;34m\u001b[0m\u001b[0m\n",
      "\u001b[0;31mClientResponseError\u001b[0m: 422, message='Unprocessable Entity', url=URL('http://iiw-agent:8021/present-proof/send-request')"
     ]
    },
    {
     "name": "stderr",
     "output_type": "stream",
     "text": [
      "ERROR:asyncio:Task exception was never retrieved\n",
      "future: <Task finished coro=<run_in_terminal.<locals>.run() done, defined at /opt/conda/lib/python3.7/site-packages/prompt_toolkit/application/run_in_terminal.py:50> exception=UnsupportedOperation('fileno')>\n",
      "Traceback (most recent call last):\n",
      "  File \"/opt/conda/lib/python3.7/site-packages/prompt_toolkit/application/run_in_terminal.py\", line 55, in run\n",
      "    return func()\n",
      "  File \"/opt/conda/lib/python3.7/site-packages/aries_basic_controller/helpers/utils.py\", line 120, in <lambda>\n",
      "    run_in_terminal(lambda: print_ext(*msg, color=color, **kwargs))\n",
      "  File \"/opt/conda/lib/python3.7/site-packages/aries_basic_controller/helpers/utils.py\", line 103, in print_ext\n",
      "    print_formatted(FormattedText(msg), **kwargs)\n",
      "  File \"/opt/conda/lib/python3.7/site-packages/aries_basic_controller/helpers/utils.py\", line 83, in print_formatted\n",
      "    prompt_toolkit.print_formatted_text(*args, **kwargs)\n",
      "  File \"/opt/conda/lib/python3.7/site-packages/prompt_toolkit/shortcuts/utils.py\", line 112, in print_formatted_text\n",
      "    output = get_app_session().output\n",
      "  File \"/opt/conda/lib/python3.7/site-packages/prompt_toolkit/application/current.py\", line 65, in output\n",
      "    self._output = create_output()\n",
      "  File \"/opt/conda/lib/python3.7/site-packages/prompt_toolkit/output/defaults.py\", line 62, in create_output\n",
      "    return Vt100_Output.from_pty(stdout, term=get_term_environment_variable())\n",
      "  File \"/opt/conda/lib/python3.7/site-packages/prompt_toolkit/output/vt100.py\", line 449, in from_pty\n",
      "    fd = stdout.fileno()\n",
      "io.UnsupportedOperation: fileno\n"
     ]
    }
   ],
   "source": [
    "response = await agent_controller.proofs.send_request(proof_request_web_request)\n",
    "print(response)\n",
    "presentation_exchange_id = response['presentation_exchange_id']\n",
    "print(\"\\n\")\n",
    "print(presentation_exchange_id)"
   ]
  },
  {
   "cell_type": "markdown",
   "metadata": {},
   "source": [
    "## 6. Verify Proof Presentation\n",
    "\n",
    "This is checking the signatures on the credentials presented against the credential schema and definition id stored and resolvable on the ledger. It is a bit of a big complicated object, so we show the common pattern for breaking it down, checking it's verified and accessing the data that has been presented."
   ]
  },
  {
   "cell_type": "code",
   "execution_count": null,
   "metadata": {},
   "outputs": [],
   "source": [
    "verify = await agent_controller.proofs.verify_presentation(presentation_exchange_id)\n",
    "print(verify)"
   ]
  },
  {
   "cell_type": "markdown",
   "metadata": {},
   "source": [
    "### Verifying the State\n",
    "\n",
    "Once verified through the agent framework api, the state should be 'verified', otherwise the presentation is invalid."
   ]
  },
  {
   "cell_type": "markdown",
   "metadata": {},
   "source": [
    "### Accessing the revealed attributes"
   ]
  },
  {
   "cell_type": "code",
   "execution_count": null,
   "metadata": {},
   "outputs": [],
   "source": [
    "for (name, val) in verify['presentation']['requested_proof']['revealed_attrs'].items():\n",
    "    ## This is the actual data that you want. It's a little hidden\n",
    "    print(val['raw'])"
   ]
  },
  {
   "cell_type": "markdown",
   "metadata": {},
   "source": [
    "### Accessing the self-attested attributes"
   ]
  },
  {
   "cell_type": "code",
   "execution_count": null,
   "metadata": {},
   "outputs": [],
   "source": [
    "for (name, val) in verify['presentation']['requested_proof']['self_attested_attrs'].items():\n",
    "    print(name)\n",
    "    ## Slightly different for self attested attrs\n",
    "    print(val)"
   ]
  },
  {
   "cell_type": "code",
   "execution_count": 5,
   "metadata": {},
   "outputs": [],
   "source": [
    "await agent_controller.terminate()"
   ]
  },
  {
   "cell_type": "code",
   "execution_count": null,
   "metadata": {},
   "outputs": [],
   "source": []
  }
 ],
 "metadata": {
  "kernelspec": {
   "display_name": "Python 3",
   "language": "python",
   "name": "python3"
  },
  "language_info": {
   "codemirror_mode": {
    "name": "ipython",
    "version": 3
   },
   "file_extension": ".py",
   "mimetype": "text/x-python",
   "name": "python",
   "nbconvert_exporter": "python",
   "pygments_lexer": "ipython3",
   "version": "3.7.6"
  }
 },
 "nbformat": 4,
 "nbformat_minor": 4
}
