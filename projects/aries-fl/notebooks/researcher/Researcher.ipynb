{
 "cells": [
  {
   "cell_type": "code",
   "execution_count": 1,
   "id": "functional-coaching",
   "metadata": {},
   "outputs": [],
   "source": [
    "from researcher import Researcher\n",
    "import asyncio\n",
    "import nest_asyncio\n",
    "\n",
    "nest_asyncio.apply()"
   ]
  },
  {
   "cell_type": "code",
   "execution_count": 2,
   "id": "hybrid-groove",
   "metadata": {},
   "outputs": [],
   "source": [
    "    \n",
    "WEBHOOK_HOST = \"0.0.0.0\"\n",
    "WEBHOOK_PORT = 8042\n",
    "WEBHOOK_BASE = \"\"\n",
    "ADMIN_URL = \"http://researcher-agent:8041\"\n",
    "# ADMIN_URL = \"http://0.0.0.0:8041\"\n",
    "\n",
    "agent_config = {\n",
    "    \"webhook_host\": WEBHOOK_HOST,\n",
    "    \"webhook_port\": WEBHOOK_PORT,\n",
    "    \"webhook_base\": WEBHOOK_BASE,\n",
    "    \"admin_url\": ADMIN_URL\n",
    "}\n",
    "\n"
   ]
  },
  {
   "cell_type": "code",
   "execution_count": 3,
   "id": "ambient-polyester",
   "metadata": {},
   "outputs": [],
   "source": [
    "import torch\n",
    "\n",
    "# models\n",
    "from torch import nn\n",
    "from torch import optim\n",
    "from torch.autograd import Variable\n",
    "import os\n",
    "import sys\n",
    "\n",
    "from opacus import PrivacyEngine\n",
    "\n",
    "# The Researcher generates the model\n",
    "\n",
    "model = nn.Sequential(\n",
    "            nn.Linear(8, 4),\n",
    "            nn.Sigmoid(),\n",
    "            nn.Linear(4, 2),\n",
    "            nn.Sigmoid(),\n",
    "            nn.Linear(2, 1),\n",
    "            nn.Sigmoid()\n",
    ")"
   ]
  },
  {
   "cell_type": "code",
   "execution_count": 4,
   "id": "sensitive-camera",
   "metadata": {},
   "outputs": [],
   "source": [
    "validation_data_path = 'data/coordinator_validation_data.csv'"
   ]
  },
  {
   "cell_type": "code",
   "execution_count": 5,
   "id": "loaded-interview",
   "metadata": {},
   "outputs": [
    {
     "name": "stdout",
     "output_type": "stream",
     "text": [
      "CLEANING THE VALIDATION SET\n",
      "VALIDATION SET HAS BEEN CLEANED\n"
     ]
    }
   ],
   "source": [
    "researcher = Researcher(agent_config, validation_data_path, model)"
   ]
  },
  {
   "cell_type": "markdown",
   "id": "accessory-homeless",
   "metadata": {},
   "source": [
    "## Request Authorised Research Credential\n",
    "\n",
    "Copy invite from the [Health Research Authority Notebook](http://localhost:8889/notebooks/Health%20Research%20Regulator.ipynb)"
   ]
  },
  {
   "cell_type": "code",
   "execution_count": null,
   "id": "comprehensive-shoot",
   "metadata": {},
   "outputs": [],
   "source": [
    "invite = {'@type': 'did:sov:BzCbsNYhMrjHiqZDTUASHg;spec/connections/1.0/invitation', '@id': '48db8bb7-0543-4102-a391-1c4f1ed7dfde', 'label': 'NHS Health Research Authority', 'recipientKeys': ['5GbdLanjtXFE5anxYHwTAy9iAZm1bgLoxpz1va3xPmfC'], 'serviceEndpoint': 'http://172.17.0.1:8030'}"
   ]
  },
  {
   "cell_type": "code",
   "execution_count": null,
   "id": "mexican-charter",
   "metadata": {},
   "outputs": [],
   "source": [
    "await researcher.agent_controller.connections.accept_connection(invite)"
   ]
  },
  {
   "cell_type": "markdown",
   "id": "alien-topic",
   "metadata": {},
   "source": [
    "## Configure Authentication Policy\n",
    "\n",
    "Note: Normally we would specify the credential definition here specifying which entities we trust to issue this schema, but this changes every time because it's a demo.\n",
    "\n",
    "Feel free to copy yours across from the NHS Trust though."
   ]
  },
  {
   "cell_type": "code",
   "execution_count": 6,
   "id": "polish-ceiling",
   "metadata": {},
   "outputs": [],
   "source": [
    "\n",
    "\n",
    "schema_id = \"BvRKFu1fdzGdJzQcKb8e8p:2:NHS Hosptial:0.0.1\"\n",
    "# cred_def = \"WfntKNFwXMQfgmU9ofbxPM:3:CL:156569:default\"\n",
    "\n",
    "revocation = False\n",
    "exchange_tracing = False\n",
    "\n",
    "#Enable this to ask for attributes to identity a user\n",
    "#TODO - change restriction to schemaId or credentialId\n",
    "\n",
    "req_attrs = [\n",
    "    {\"name\": \"name\", \"restrictions\": [{\"schema_id\": schema_id}]},#, \"cred_def_id\": cred_def}]},\n",
    "]\n",
    "\n",
    "global indy_proof_request\n",
    "indy_proof_request = {\n",
    "    \"name\": \"Proof of Hospital\",\n",
    "    \"version\": \"1.0\",\n",
    "    \"requested_attributes\": {\n",
    "        f\"0_{req_attr['name']}_uuid\":\n",
    "        req_attr for req_attr in req_attrs\n",
    "    },\n",
    "    \"requested_predicates\": {\n",
    "#         f\"0_{req_pred['name']}_GE_uuid\":\n",
    "#         req_pred for req_pred in req_preds\n",
    "    },\n",
    "}\n",
    "\n"
   ]
  },
  {
   "cell_type": "code",
   "execution_count": 7,
   "id": "spanish-johnston",
   "metadata": {},
   "outputs": [],
   "source": [
    "researcher.set_authentication_policy(indy_proof_request)"
   ]
  },
  {
   "cell_type": "markdown",
   "id": "returning-clerk",
   "metadata": {},
   "source": [
    "## Send Invite to Hospital 1\n",
    "\n",
    "Option: We could make this a multiuse invite."
   ]
  },
  {
   "cell_type": "code",
   "execution_count": 8,
   "id": "whole-place",
   "metadata": {
    "scrolled": true
   },
   "outputs": [
    {
     "name": "stdout",
     "output_type": "stream",
     "text": [
      "Connection Handler Called\n",
      "Connection 3ea74793-7ae8-4d8c-a596-95f04ba14feb in State invitation\n",
      "\n",
      "♫♫♫ > STEP 1: Send the aries invitation to the data owner\n",
      "\n",
      "{\"@type\": \"did:sov:BzCbsNYhMrjHiqZDTUASHg;spec/connections/1.0/invitation\", \"@id\": \"df76459d-7a65-462e-ae5d-bc1f96a7674f\", \"serviceEndpoint\": \"http://172.17.0.1:8040\", \"label\": \"Health Researcher\", \"recipientKeys\": [\"9QkEnGGQHUNp95rRdsf2GxyGzGniuApqGmoQuXT5UvCC\"]}\n",
      "\n",
      "Connection Handler Called\n",
      "Connection 3ea74793-7ae8-4d8c-a596-95f04ba14feb in State request\n",
      "Accepting request  3ea74793-7ae8-4d8c-a596-95f04ba14feb\n",
      "Connection Handler Called\n",
      "Connection 3ea74793-7ae8-4d8c-a596-95f04ba14feb in State response\n",
      "Sending trust ping 3ea74793-7ae8-4d8c-a596-95f04ba14feb\n",
      "Connection Handler Called\n",
      "Connection 3ea74793-7ae8-4d8c-a596-95f04ba14feb in State active\n",
      "Pending dataowner connection moved to active. Challenging with auth policy if set\n",
      "Handle present proof\n",
      "Role verifier, Exchange 09167e7a-a761-46a0-ad35-31dc25725a89 in state request_sent\n",
      "Handle present proof\n",
      "Role prover, Exchange 24c6da26-aff7-4e54-a1bf-7754472803dd in state request_received\n",
      "Received Authentication Challenge\n",
      "Credentials [{'cred_info': {'referent': 'Research Authority 8c8ad868-1cf0-40ef-a71f-e2dd77bcdc68', 'attrs': {'scope': 'diabetes'}, 'schema_id': 'FWyJ74b38bCF1QbYF7tWMM:2:Authorised Research:0.0.1', 'cred_def_id': 'CFiSw2SSYoL9UZvkVV7GWP:3:CL:181335:default', 'rev_reg_id': None, 'cred_rev_id': None}, 'interval': None, 'presentation_referents': ['0_scope_uuid']}, {'cred_info': {'referent': 'Research Authority 822d9fde-0bc7-41cc-be52-f7693fca988f', 'attrs': {'scope': 'diabetes'}, 'schema_id': 'FWyJ74b38bCF1QbYF7tWMM:2:Authorised Research:0.0.1', 'cred_def_id': 'CFiSw2SSYoL9UZvkVV7GWP:3:CL:181335:default', 'rev_reg_id': None, 'cred_rev_id': None}, 'interval': None, 'presentation_referents': ['0_scope_uuid']}, {'cred_info': {'referent': 'Research Authority df402b9b-b499-4abd-bb71-f5092f847f51', 'attrs': {'scope': 'diabetes'}, 'schema_id': 'FWyJ74b38bCF1QbYF7tWMM:2:Authorised Research:0.0.1', 'cred_def_id': 'CFiSw2SSYoL9UZvkVV7GWP:3:CL:181335:default', 'rev_reg_id': None, 'cred_rev_id': None}, 'interval': None, 'presentation_referents': ['0_scope_uuid']}, {'cred_info': {'referent': 'Research Authority 72ee79f0-ce4b-415a-a013-3e0e62b89e2a', 'attrs': {'scope': 'diabetes'}, 'schema_id': 'FWyJ74b38bCF1QbYF7tWMM:2:Authorised Research:0.0.1', 'cred_def_id': 'CFiSw2SSYoL9UZvkVV7GWP:3:CL:181335:default', 'rev_reg_id': None, 'cred_rev_id': None}, 'interval': None, 'presentation_referents': ['0_scope_uuid']}]\n",
      "Revealed Credential\n",
      "\n",
      "Generate the proof\n",
      "{'requested_predicates': {}, 'requested_attributes': {'0_scope_uuid': {'cred_id': 'Research Authority 8c8ad868-1cf0-40ef-a71f-e2dd77bcdc68', 'revealed': True}}, 'self_attested_attributes': {}}\n",
      "\n",
      "XXX\n",
      "{}\n",
      "{'0_scope_uuid': {'cred_id': 'Research Authority 8c8ad868-1cf0-40ef-a71f-e2dd77bcdc68', 'revealed': True}}\n",
      "{}\n",
      "Handle present proof\n",
      "Role prover, Exchange 24c6da26-aff7-4e54-a1bf-7754472803dd in state presentation_sent\n",
      "Handle present proof\n",
      "Role verifier, Exchange 09167e7a-a761-46a0-ad35-31dc25725a89 in state presentation_received\n",
      "Verifying DataOwner Presentation\n",
      "Handle present proof\n",
      "Role verifier, Exchange 09167e7a-a761-46a0-ad35-31dc25725a89 in state verified\n",
      "New Data Owner Connection Trusted:  3ea74793-7ae8-4d8c-a596-95f04ba14feb\n",
      "Handle present proof\n",
      "Role prover, Exchange 24c6da26-aff7-4e54-a1bf-7754472803dd in state presentation_acked\n"
     ]
    }
   ],
   "source": [
    "researcher.new_dataowner_invite()"
   ]
  },
  {
   "cell_type": "markdown",
   "id": "handy-allah",
   "metadata": {},
   "source": [
    "## Send Invite to Hospital 2"
   ]
  },
  {
   "cell_type": "code",
   "execution_count": 10,
   "id": "administrative-messaging",
   "metadata": {},
   "outputs": [
    {
     "name": "stdout",
     "output_type": "stream",
     "text": [
      "Connection Handler Called\n",
      "Connection bfd3dc93-e8bb-4562-9785-be2d487bebcd in State invitation\n",
      "\n",
      "♫♫♫ > STEP 1: Send the aries invitation to the data owner\n",
      "\n",
      "{\"@type\": \"did:sov:BzCbsNYhMrjHiqZDTUASHg;spec/connections/1.0/invitation\", \"@id\": \"e3165dfa-535e-4004-a64d-46b3eed5c90f\", \"serviceEndpoint\": \"http://172.17.0.1:8040\", \"label\": \"Health Researcher\", \"recipientKeys\": [\"AWeZ4ZRfZnEHwhxHFFxJWE2JkdVmw9CCRnWDRSWVH2nF\"]}\n",
      "\n",
      "Connection Handler Called\n",
      "Connection bfd3dc93-e8bb-4562-9785-be2d487bebcd in State request\n",
      "Accepting request  bfd3dc93-e8bb-4562-9785-be2d487bebcd\n",
      "Connection Handler Called\n",
      "Connection bfd3dc93-e8bb-4562-9785-be2d487bebcd in State response\n",
      "Sending trust ping bfd3dc93-e8bb-4562-9785-be2d487bebcd\n",
      "Connection Handler Called\n",
      "Connection bfd3dc93-e8bb-4562-9785-be2d487bebcd in State active\n",
      "Pending dataowner connection moved to active. Challenging with auth policy if set\n",
      "Handle present proof\n",
      "Role verifier, Exchange 876b5ba5-5de5-47f8-92e6-98627e3805ae in state request_sent\n",
      "Handle present proof\n",
      "Role prover, Exchange 6b175c45-352f-498e-b512-d4b113aeb48c in state request_received\n",
      "Received Authentication Challenge\n",
      "Credentials [{'cred_info': {'referent': 'Research Authority 8c8ad868-1cf0-40ef-a71f-e2dd77bcdc68', 'attrs': {'scope': 'diabetes'}, 'schema_id': 'FWyJ74b38bCF1QbYF7tWMM:2:Authorised Research:0.0.1', 'cred_def_id': 'CFiSw2SSYoL9UZvkVV7GWP:3:CL:181335:default', 'rev_reg_id': None, 'cred_rev_id': None}, 'interval': None, 'presentation_referents': ['0_scope_uuid']}, {'cred_info': {'referent': 'Research Authority 822d9fde-0bc7-41cc-be52-f7693fca988f', 'attrs': {'scope': 'diabetes'}, 'schema_id': 'FWyJ74b38bCF1QbYF7tWMM:2:Authorised Research:0.0.1', 'cred_def_id': 'CFiSw2SSYoL9UZvkVV7GWP:3:CL:181335:default', 'rev_reg_id': None, 'cred_rev_id': None}, 'interval': None, 'presentation_referents': ['0_scope_uuid']}, {'cred_info': {'referent': 'Research Authority df402b9b-b499-4abd-bb71-f5092f847f51', 'attrs': {'scope': 'diabetes'}, 'schema_id': 'FWyJ74b38bCF1QbYF7tWMM:2:Authorised Research:0.0.1', 'cred_def_id': 'CFiSw2SSYoL9UZvkVV7GWP:3:CL:181335:default', 'rev_reg_id': None, 'cred_rev_id': None}, 'interval': None, 'presentation_referents': ['0_scope_uuid']}, {'cred_info': {'referent': 'Research Authority 72ee79f0-ce4b-415a-a013-3e0e62b89e2a', 'attrs': {'scope': 'diabetes'}, 'schema_id': 'FWyJ74b38bCF1QbYF7tWMM:2:Authorised Research:0.0.1', 'cred_def_id': 'CFiSw2SSYoL9UZvkVV7GWP:3:CL:181335:default', 'rev_reg_id': None, 'cred_rev_id': None}, 'interval': None, 'presentation_referents': ['0_scope_uuid']}]\n",
      "Revealed Credential\n",
      "\n",
      "Generate the proof\n",
      "{'requested_predicates': {}, 'requested_attributes': {'0_scope_uuid': {'cred_id': 'Research Authority 8c8ad868-1cf0-40ef-a71f-e2dd77bcdc68', 'revealed': True}}, 'self_attested_attributes': {}}\n",
      "\n",
      "XXX\n",
      "{}\n",
      "{'0_scope_uuid': {'cred_id': 'Research Authority 8c8ad868-1cf0-40ef-a71f-e2dd77bcdc68', 'revealed': True}}\n",
      "{}\n",
      "Handle present proof\n",
      "Role prover, Exchange 6b175c45-352f-498e-b512-d4b113aeb48c in state presentation_sent\n",
      "Handle present proof\n",
      "Role verifier, Exchange 876b5ba5-5de5-47f8-92e6-98627e3805ae in state presentation_received\n",
      "Verifying DataOwner Presentation\n",
      "Handle present proof\n",
      "Role prover, Exchange 6b175c45-352f-498e-b512-d4b113aeb48c in state presentation_acked\n",
      "Handle present proof\n",
      "Role verifier, Exchange 876b5ba5-5de5-47f8-92e6-98627e3805ae in state verified\n",
      "New Data Owner Connection Trusted:  bfd3dc93-e8bb-4562-9785-be2d487bebcd\n"
     ]
    }
   ],
   "source": [
    "researcher.new_dataowner_invite()"
   ]
  },
  {
   "cell_type": "markdown",
   "id": "subtle-stations",
   "metadata": {},
   "source": [
    "## Send Invite to Hospital 3"
   ]
  },
  {
   "cell_type": "code",
   "execution_count": null,
   "id": "spare-flour",
   "metadata": {},
   "outputs": [],
   "source": [
    "researcher.new_dataowner_invite()"
   ]
  },
  {
   "cell_type": "markdown",
   "id": "packed-corner",
   "metadata": {},
   "source": [
    "## Initiate Learning\n",
    "\n",
    "PPML Learning messages are sent over DIDComm using the basic message protocol. You will be able to see the encrypted message in the terminal you initialised this project."
   ]
  },
  {
   "cell_type": "code",
   "execution_count": 11,
   "id": "accepted-webcam",
   "metadata": {},
   "outputs": [
    {
     "name": "stdout",
     "output_type": "stream",
     "text": [
      "MODEL OPENED FOR TRANSPORT\n",
      "Training model with 2 DataOwners\n",
      "Still learning\n",
      "Continue Learning bfd3dc93-e8bb-4562-9785-be2d487bebcd\n",
      "HOSPITAL MODEL LOADED\n",
      "\n",
      "PRINTING PARAMETERS:\n",
      "\n",
      "\n",
      "Sequential(\n",
      "  (0): Linear(in_features=8, out_features=4, bias=True)\n",
      "  (1): Sigmoid()\n",
      "  (2): Linear(in_features=4, out_features=2, bias=True)\n",
      "  (3): Sigmoid()\n",
      "  (4): Linear(in_features=2, out_features=1, bias=True)\n",
      "  (5): Sigmoid()\n",
      ")\n",
      "\n",
      "\n",
      "0.weight tensor([[-0.0071,  0.9379, -0.1551,  1.0665,  0.1179,  0.5294, -0.5972, -3.4125],\n",
      "        [-0.4067, -2.0534,  1.7080, -1.6800,  0.3804,  2.2666, -0.4622,  0.8771],\n",
      "        [ 0.9054, -1.2353,  0.4089,  3.3475,  0.0547, -1.5822,  0.4324, -1.7091],\n",
      "        [ 0.0552,  0.1231, -0.0514,  1.2591,  0.3860, -0.8143, -1.4579,  3.4421]])\n",
      "0.bias tensor([ 1.7992, -2.8332, -0.8909, -1.1692])\n",
      "2.weight tensor([[-3.4769,  2.6372,  2.3429,  2.3349],\n",
      "        [ 2.4076, -2.0967, -1.6529, -1.4950]])\n",
      "2.bias tensor([-2.7266,  1.7754])\n",
      "4.weight tensor([[ 6.8013, -4.5238]])\n",
      "4.bias tensor([-1.1125])\n",
      "\n",
      "\n",
      "\n",
      "HOSPITAL IS VALIDATING\n",
      "Model loss on validation set:  tensor(-4.2906, grad_fn=<SumBackward0>)\n",
      "Confusion Matrix:\n",
      "                Actual_True, Actual_False \n",
      " Predicted_True     110    |      30     \n",
      " Predicted_False    34      |       84     \n",
      "\n",
      "Learning complete\n",
      "HOSPITAL MODEL LOADED\n",
      "\n",
      "PRINTING PARAMETERS:\n",
      "\n",
      "\n",
      "Sequential(\n",
      "  (0): Linear(in_features=8, out_features=4, bias=True)\n",
      "  (1): Sigmoid()\n",
      "  (2): Linear(in_features=4, out_features=2, bias=True)\n",
      "  (3): Sigmoid()\n",
      "  (4): Linear(in_features=2, out_features=1, bias=True)\n",
      "  (5): Sigmoid()\n",
      ")\n",
      "\n",
      "\n",
      "0.weight tensor([[-1.9374,  1.0792,  1.5041,  1.7357, -0.1824, -0.8415,  0.5722, -5.0503],\n",
      "        [-1.0381, -0.0936,  2.8372, -0.8332, -0.5732,  1.8124,  0.1787, -0.0318],\n",
      "        [ 0.7518, -2.5488, -1.4140,  3.1384,  1.5220, -2.6405,  1.8658, -1.9204],\n",
      "        [-0.6001,  1.0761,  0.8058,  2.3135, -0.7748,  0.2650, -2.3784,  3.5992]])\n",
      "0.bias tensor([ 2.2742, -3.7435, -0.8105, -1.7364])\n",
      "2.weight tensor([[-5.2050,  2.1947,  2.8809,  3.1130],\n",
      "        [ 3.5847, -1.7455, -1.9299, -2.0608]])\n",
      "2.bias tensor([-3.0739,  2.0446])\n",
      "4.weight tensor([[ 8.1695, -5.5207]])\n",
      "4.bias tensor([-1.2372])\n",
      "\n",
      "\n",
      "\n",
      "HOSPITAL IS VALIDATING\n",
      "Model loss on validation set:  tensor(6.8538, grad_fn=<SumBackward0>)\n",
      "Confusion Matrix:\n",
      "                Actual_True, Actual_False \n",
      " Predicted_True     132    |      46     \n",
      " Predicted_False    12      |       68     \n",
      "\n",
      "LEARNING COMPLETE\n"
     ]
    }
   ],
   "source": [
    "researcher.initiate_learning()"
   ]
  },
  {
   "cell_type": "code",
   "execution_count": null,
   "id": "enhanced-fellowship",
   "metadata": {},
   "outputs": [],
   "source": []
  },
  {
   "cell_type": "code",
   "execution_count": null,
   "id": "mineral-income",
   "metadata": {},
   "outputs": [],
   "source": []
  },
  {
   "cell_type": "code",
   "execution_count": null,
   "id": "moderate-envelope",
   "metadata": {},
   "outputs": [],
   "source": []
  }
 ],
 "metadata": {
  "kernelspec": {
   "display_name": "Python 3",
   "language": "python",
   "name": "python3"
  },
  "language_info": {
   "codemirror_mode": {
    "name": "ipython",
    "version": 3
   },
   "file_extension": ".py",
   "mimetype": "text/x-python",
   "name": "python",
   "nbconvert_exporter": "python",
   "pygments_lexer": "ipython3",
   "version": "3.7.6"
  }
 },
 "nbformat": 4,
 "nbformat_minor": 5
}
