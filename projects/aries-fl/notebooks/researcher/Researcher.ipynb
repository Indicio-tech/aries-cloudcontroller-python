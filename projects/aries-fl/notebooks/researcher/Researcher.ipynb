{
 "cells": [
  {
   "cell_type": "code",
   "execution_count": 1,
   "id": "distinct-escape",
   "metadata": {},
   "outputs": [],
   "source": [
    "from researcher import Researcher\n",
    "import asyncio\n",
    "import nest_asyncio\n",
    "\n",
    "nest_asyncio.apply()"
   ]
  },
  {
   "cell_type": "code",
   "execution_count": 2,
   "id": "stretch-behalf",
   "metadata": {},
   "outputs": [],
   "source": [
    "    \n",
    "WEBHOOK_HOST = \"0.0.0.0\"\n",
    "WEBHOOK_PORT = 8042\n",
    "WEBHOOK_BASE = \"\"\n",
    "ADMIN_URL = \"http://researcher-agent:8041\"\n",
    "# ADMIN_URL = \"http://0.0.0.0:8041\"\n",
    "\n",
    "agent_config = {\n",
    "    \"webhook_host\": WEBHOOK_HOST,\n",
    "    \"webhook_port\": WEBHOOK_PORT,\n",
    "    \"webhook_base\": WEBHOOK_BASE,\n",
    "    \"admin_url\": ADMIN_URL\n",
    "}\n",
    "\n"
   ]
  },
  {
   "cell_type": "code",
   "execution_count": 3,
   "id": "animal-trinity",
   "metadata": {},
   "outputs": [],
   "source": [
    "import torch\n",
    "\n",
    "# models\n",
    "from torch import nn\n",
    "from torch import optim\n",
    "from torch.autograd import Variable\n",
    "import os\n",
    "import sys\n",
    "\n",
    "from opacus import PrivacyEngine\n",
    "\n",
    "# The Researcher generates the model\n",
    "\n",
    "model = nn.Sequential(\n",
    "            nn.Linear(8, 4),\n",
    "            nn.Sigmoid(),\n",
    "            nn.Linear(4, 2),\n",
    "            nn.Sigmoid(),\n",
    "            nn.Linear(2, 1),\n",
    "            nn.Sigmoid()\n",
    ")"
   ]
  },
  {
   "cell_type": "code",
   "execution_count": 4,
   "id": "boring-deviation",
   "metadata": {},
   "outputs": [],
   "source": [
    "validation_data_path = 'coordinator_validation_data.csv'"
   ]
  },
  {
   "cell_type": "code",
   "execution_count": 5,
   "id": "mediterranean-allowance",
   "metadata": {},
   "outputs": [
    {
     "name": "stdout",
     "output_type": "stream",
     "text": [
      "CLEANING THE VALIDATION SET\n",
      "VALIDATION DATA                Timestamp  Age  Gender         Country state self_employed  \\\n",
      "0    2014-08-29 09:29:37   25    Male   United States    PA            No   \n",
      "1    2014-08-29 09:31:37   42    male   United States    IN            No   \n",
      "2    2014-08-29 09:31:49   34    male   United States    PA            No   \n",
      "3    2014-08-29 09:33:43   26  female   United States    OH            No   \n",
      "4    2014-08-29 09:35:46   35    Male  United Kingdom   NaN            No   \n",
      "..                   ...  ...     ...             ...   ...           ...   \n",
      "254  2015-09-12 11:17:21   26    male  United Kingdom   NaN            No   \n",
      "255  2015-09-26 01:07:35   32    Male   United States    IL            No   \n",
      "256  2015-11-07 12:36:58   34    male   United States    CA            No   \n",
      "257  2015-11-30 21:25:06   46       f   United States    NC            No   \n",
      "258  2016-02-01 23:04:31   25    Male   United States    IL            No   \n",
      "\n",
      "    family_history treatment work_interfere    no_employees  ...  \\\n",
      "0              Yes       Yes          Often            6-25  ...   \n",
      "1              Yes       Yes      Sometimes            6-25  ...   \n",
      "2              Yes       Yes          Often         100-500  ...   \n",
      "3               No       Yes      Sometimes          26-100  ...   \n",
      "4              Yes       Yes      Sometimes             1-5  ...   \n",
      "..             ...       ...            ...             ...  ...   \n",
      "254             No       Yes            NaN          26-100  ...   \n",
      "255            Yes       Yes          Often          26-100  ...   \n",
      "256            Yes       Yes      Sometimes  More than 1000  ...   \n",
      "257             No        No            NaN         100-500  ...   \n",
      "258            Yes       Yes      Sometimes          26-100  ...   \n",
      "\n",
      "                  leave mental_health_consequence phys_health_consequence  \\\n",
      "0         Somewhat easy                        No                      No   \n",
      "1            Don't know                     Maybe                      No   \n",
      "2             Very easy                        No                      No   \n",
      "3            Don't know                     Maybe                      No   \n",
      "4             Very easy                       Yes                     Yes   \n",
      "..                  ...                       ...                     ...   \n",
      "254       Somewhat easy                        No                      No   \n",
      "255  Somewhat difficult                        No                      No   \n",
      "256  Somewhat difficult                       Yes                     Yes   \n",
      "257          Don't know                       Yes                      No   \n",
      "258          Don't know                     Maybe                      No   \n",
      "\n",
      "        coworkers    supervisor mental_health_interview phys_health_interview  \\\n",
      "0             Yes           Yes                   Maybe                 Maybe   \n",
      "1    Some of them           Yes                      No                 Maybe   \n",
      "2             Yes           Yes                   Maybe                 Maybe   \n",
      "3    Some of them            No                   Maybe                 Maybe   \n",
      "4    Some of them  Some of them                      No                 Maybe   \n",
      "..            ...           ...                     ...                   ...   \n",
      "254  Some of them  Some of them                      No                    No   \n",
      "255  Some of them           Yes                      No                    No   \n",
      "256            No            No                      No                    No   \n",
      "257            No            No                      No                    No   \n",
      "258  Some of them            No                      No                    No   \n",
      "\n",
      "    mental_vs_physical obs_consequence comments  \n",
      "0           Don't know              No      NaN  \n",
      "1           Don't know              No      NaN  \n",
      "2           Don't know              No      NaN  \n",
      "3           Don't know             Yes      NaN  \n",
      "4                  Yes             Yes      NaN  \n",
      "..                 ...             ...      ...  \n",
      "254         Don't know              No      NaN  \n",
      "255                Yes              No      NaN  \n",
      "256                 No              No      NaN  \n",
      "257                 No              No      NaN  \n",
      "258         Don't know              No      NaN  \n",
      "\n",
      "[259 rows x 27 columns]\n",
      "VALIDATION SET HAS BEEN CLEANED\n"
     ]
    }
   ],
   "source": [
    "researcher = Researcher(agent_config, validation_data_path, model)"
   ]
  },
  {
   "cell_type": "code",
   "execution_count": 6,
   "id": "contemporary-productivity",
   "metadata": {},
   "outputs": [
    {
     "name": "stdout",
     "output_type": "stream",
     "text": [
      "Connection Handler Called\n",
      "Connection 36664c0b-743b-4cf4-9a0e-88be9a0bacf0 in State invitation\n",
      "\n",
      "♫♫♫ > STEP 1: Send the aries invitation to the data owner\n",
      "\n",
      "{\"@type\": \"did:sov:BzCbsNYhMrjHiqZDTUASHg;spec/connections/1.0/invitation\", \"@id\": \"06fa0413-825f-4600-8bec-a582e5d75acc\", \"label\": \"Health Researcher\", \"serviceEndpoint\": \"http://172.17.0.1:8040\", \"recipientKeys\": [\"HrC95BgohtYLsTHjn6g4UspCx8tWzviGAg7PbvnRWHjZ\"]}\n",
      "\n",
      "Connection Handler Called\n",
      "Connection 36664c0b-743b-4cf4-9a0e-88be9a0bacf0 in State request\n",
      "Connection Handler Called\n",
      "Connection 36664c0b-743b-4cf4-9a0e-88be9a0bacf0 in State response\n",
      "Sending trust ping\n",
      "Connection Handler Called\n",
      "Connection 36664c0b-743b-4cf4-9a0e-88be9a0bacf0 in State active\n",
      "Pending dataowner connection moved to active. Challenging with auth policy if set\n",
      "New Data Owner Connection Trusted:  36664c0b-743b-4cf4-9a0e-88be9a0bacf0\n"
     ]
    }
   ],
   "source": [
    "researcher.new_dataowner_invite()"
   ]
  },
  {
   "cell_type": "code",
   "execution_count": 7,
   "id": "broke-congo",
   "metadata": {},
   "outputs": [
    {
     "name": "stdout",
     "output_type": "stream",
     "text": [
      "MODEL OPENED FOR TRANSPORT\n",
      "Training model with 1 DataOwners\n",
      "Learning complete\n",
      "HOSPITAL MODEL LOADED\n",
      "\n",
      "PRINTING PARAMETERS:\n",
      "\n",
      "\n",
      "Sequential(\n",
      "  (0): Linear(in_features=8, out_features=4, bias=True)\n",
      "  (1): Sigmoid()\n",
      "  (2): Linear(in_features=4, out_features=2, bias=True)\n",
      "  (3): Sigmoid()\n",
      "  (4): Linear(in_features=2, out_features=1, bias=True)\n",
      "  (5): Sigmoid()\n",
      ")\n",
      "\n",
      "\n",
      "0.weight tensor([[-0.1212,  0.1136,  0.3568, -0.9579, -0.5084,  0.8033,  1.3451, -3.6525],\n",
      "        [ 1.3194,  1.8830, -1.5112,  1.6072, -0.4462, -2.0272,  0.5234, -0.8558],\n",
      "        [-0.8285,  1.2369, -0.3038, -3.5067, -0.0068,  1.7024, -0.5098,  1.7324],\n",
      "        [ 0.1150, -1.2705,  0.7026, -1.4973, -0.5301, -0.3975,  1.1200,  3.6395]])\n",
      "0.bias tensor([ 1.2668,  2.1884,  1.0719, -1.2152])\n",
      "2.weight tensor([[ 3.1507,  2.6122,  2.5642, -3.5326],\n",
      "        [-2.6410, -1.9873, -1.7260,  2.9631]])\n",
      "2.bias tensor([-0.6667,  0.4549])\n",
      "4.weight tensor([[-6.0951,  5.3997]])\n",
      "4.bias tensor([1.0856])\n",
      "\n",
      "\n",
      "\n",
      "HOSPITAL IS VALIDATING\n",
      "Model loss on validation set:  tensor(-7.0011, grad_fn=<SumBackward0>)\n",
      "Confusion Matrix:\n",
      "                Actual_True, Actual_False \n",
      " Predicted_True     108    |      30     \n",
      " Predicted_False    36      |       84     \n",
      "\n",
      "LEARNING COMPLETE\n"
     ]
    }
   ],
   "source": [
    "researcher.initiate_learning()"
   ]
  },
  {
   "cell_type": "code",
   "execution_count": null,
   "id": "instrumental-mainland",
   "metadata": {},
   "outputs": [],
   "source": []
  },
  {
   "cell_type": "code",
   "execution_count": null,
   "id": "mineral-anchor",
   "metadata": {},
   "outputs": [],
   "source": []
  }
 ],
 "metadata": {
  "kernelspec": {
   "display_name": "Python 3",
   "language": "python",
   "name": "python3"
  },
  "language_info": {
   "codemirror_mode": {
    "name": "ipython",
    "version": 3
   },
   "file_extension": ".py",
   "mimetype": "text/x-python",
   "name": "python",
   "nbconvert_exporter": "python",
   "pygments_lexer": "ipython3",
   "version": "3.7.6"
  }
 },
 "nbformat": 4,
 "nbformat_minor": 5
}
