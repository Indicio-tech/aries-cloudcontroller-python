{
 "cells": [
  {
   "cell_type": "code",
   "execution_count": 1,
   "id": "coastal-assembly",
   "metadata": {},
   "outputs": [
    {
     "name": "stdout",
     "output_type": "stream",
     "text": [
      "IPython autoawait is `on`, and set to use `asyncio`\n"
     ]
    }
   ],
   "source": [
    "%autoawait\n",
    "import time\n",
    "import asyncio\n",
    "from aries_basic_controller.aries_controller import AriesAgentController\n",
    "    \n",
    "WEBHOOK_HOST = \"0.0.0.0\"\n",
    "WEBHOOK_PORT = 8042\n",
    "WEBHOOK_BASE = \"\"\n",
    "ADMIN_URL = \"http://researcher-agent:8041\"\n",
    "\n",
    "\n",
    "# Based on the aca-py agent you wish to control\n",
    "agent_controller = AriesAgentController(webhook_host=WEBHOOK_HOST, webhook_port=WEBHOOK_PORT,\n",
    "                                       webhook_base=WEBHOOK_BASE, admin_url=ADMIN_URL)"
   ]
  },
  {
   "cell_type": "code",
   "execution_count": 2,
   "id": "opposed-nerve",
   "metadata": {},
   "outputs": [],
   "source": [
    "\n",
    "loop = asyncio.get_event_loop()\n",
    "loop.create_task(agent_controller.listen_webhooks())\n",
    "\n",
    "def messages_handler(payload):\n",
    "    connection_id = payload[\"connection_id\"]\n",
    "    asyncio.get_event_loop().create_task(agent_controller.messaging.send_message(connection_id, \"This is a response from Bob\"))\n",
    "    print(\"Handle message\", payload, connection_id)\n",
    "\n",
    "\n",
    "message_listener = {\n",
    "    \"handler\": messages_handler,\n",
    "    \"topic\": \"basicmessages\"\n",
    "}\n",
    "\n",
    "\n",
    "def connection_handler(payload):\n",
    "    print(\"Connection Handler Called\")\n",
    "    connection_id = payload[\"connection_id\"]\n",
    "    state = payload[\"state\"]\n",
    "    print(f\"Connection {connection_id} in State {state}\")\n",
    "    \n",
    "connection_listener = {\n",
    "    \"handler\": connection_handler,\n",
    "    \"topic\": \"connections\"\n",
    "}\n",
    "\n",
    "agent_controller.register_listeners([connection_listener, message_listener], defaults=True)"
   ]
  },
  {
   "cell_type": "code",
   "execution_count": 3,
   "id": "secret-saskatchewan",
   "metadata": {},
   "outputs": [
    {
     "name": "stdout",
     "output_type": "stream",
     "text": [
      "Connection Handler Called\n",
      "Connection 10bf00c7-fe28-4f15-ac2c-f598e3e60257 in State invitation\n",
      "Connection ID 10bf00c7-fe28-4f15-ac2c-f598e3e60257\n",
      "Invitation\n",
      "{'@type': 'did:sov:BzCbsNYhMrjHiqZDTUASHg;spec/connections/1.0/invitation', '@id': '31d22c96-b531-467a-8637-867f0e9199ac', 'label': 'Health Researcher', 'serviceEndpoint': 'http://172.17.0.1:8040', 'recipientKeys': ['Hu8va1kwBxycxKa731q6FeenAmhk5s3x2X3MXXR7CckE']}\n",
      "Connection Handler Called\n",
      "Connection 10bf00c7-fe28-4f15-ac2c-f598e3e60257 in State request\n"
     ]
    }
   ],
   "source": [
    "# Create Invitation\n",
    "invite = await agent_controller.connections.create_invitation()\n",
    "connection_id = invite[\"connection_id\"]\n",
    "invite_message = invite['invitation']\n",
    "print(\"Connection ID\", connection_id)\n",
    "print(\"Invitation\")\n",
    "print(invite_message)"
   ]
  },
  {
   "cell_type": "markdown",
   "id": "forward-coordinate",
   "metadata": {},
   "source": [
    "## Copy the invitation output from 4 and to the hospital notebook you are connecting to."
   ]
  },
  {
   "cell_type": "code",
   "execution_count": 4,
   "id": "requested-water",
   "metadata": {},
   "outputs": [
    {
     "name": "stdout",
     "output_type": "stream",
     "text": [
      "Connection Handler Called\n",
      "Connection 10bf00c7-fe28-4f15-ac2c-f598e3e60257 in State response\n",
      "ACCEPT REQUEST\n",
      "{'created_at': '2021-01-23 14:21:34.771903Z', 'routing_state': 'none', 'accept': 'manual', 'invitation_key': 'Hu8va1kwBxycxKa731q6FeenAmhk5s3x2X3MXXR7CckE', 'initiator': 'self', 'my_did': '8wvYweJAFRYr4LZA77hYqa', 'invitation_mode': 'once', 'updated_at': '2021-01-23 14:22:26.279182Z', 'connection_id': '10bf00c7-fe28-4f15-ac2c-f598e3e60257', 'their_label': 'Royal Infirmary of Edinburgh', 'state': 'response', 'their_did': 'ALrPXCqEuqa5wYFUDDkfeo'}\n",
      "state response\n"
     ]
    }
   ],
   "source": [
    "# Accept Request for Invite created\n",
    "connection = await agent_controller.connections.accept_request(connection_id)\n",
    "print(\"ACCEPT REQUEST\")\n",
    "print(connection)\n",
    "print(\"state\", connection[\"state\"])"
   ]
  },
  {
   "cell_type": "code",
   "execution_count": 5,
   "id": "confirmed-atlantic",
   "metadata": {},
   "outputs": [
    {
     "name": "stdout",
     "output_type": "stream",
     "text": [
      "Trust Ping {'thread_id': 'fed59ad7-f56e-4724-832d-00a9234dfa6b'}\n",
      "Connection Handler Called\n",
      "Connection 10bf00c7-fe28-4f15-ac2c-f598e3e60257 in State active\n"
     ]
    }
   ],
   "source": [
    "trust_ping = await agent_controller.messaging.trust_ping(connection_id, \"hello\")\n",
    "print(\"Trust Ping\", trust_ping)"
   ]
  },
  {
   "cell_type": "code",
   "execution_count": null,
   "id": "democratic-glossary",
   "metadata": {},
   "outputs": [],
   "source": [
    "trust_ping = await agent_controller.messaging.trust_ping(connection_id, \"hello\")"
   ]
  },
  {
   "cell_type": "code",
   "execution_count": null,
   "id": "welcome-haiti",
   "metadata": {},
   "outputs": [],
   "source": [
    "response = await agent_controller.terminate()\n",
    "print(response)"
   ]
  }
 ],
 "metadata": {
  "kernelspec": {
   "display_name": "Python 3",
   "language": "python",
   "name": "python3"
  },
  "language_info": {
   "codemirror_mode": {
    "name": "ipython",
    "version": 3
   },
   "file_extension": ".py",
   "mimetype": "text/x-python",
   "name": "python",
   "nbconvert_exporter": "python",
   "pygments_lexer": "ipython3",
   "version": "3.7.6"
  }
 },
 "nbformat": 4,
 "nbformat_minor": 5
}
