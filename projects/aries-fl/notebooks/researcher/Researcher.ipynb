{
 "cells": [
  {
   "cell_type": "code",
   "execution_count": 1,
   "id": "fresh-partner",
   "metadata": {},
   "outputs": [],
   "source": [
    "from researcher import Researcher\n",
    "import asyncio\n",
    "import nest_asyncio\n",
    "\n",
    "nest_asyncio.apply()"
   ]
  },
  {
   "cell_type": "code",
   "execution_count": 2,
   "id": "static-longitude",
   "metadata": {},
   "outputs": [],
   "source": [
    "    \n",
    "WEBHOOK_HOST = \"0.0.0.0\"\n",
    "WEBHOOK_PORT = 8042\n",
    "WEBHOOK_BASE = \"\"\n",
    "ADMIN_URL = \"http://researcher-agent:8041\"\n",
    "# ADMIN_URL = \"http://0.0.0.0:8041\"\n",
    "\n",
    "agent_config = {\n",
    "    \"webhook_host\": WEBHOOK_HOST,\n",
    "    \"webhook_port\": WEBHOOK_PORT,\n",
    "    \"webhook_base\": WEBHOOK_BASE,\n",
    "    \"admin_url\": ADMIN_URL\n",
    "}\n",
    "\n"
   ]
  },
  {
   "cell_type": "code",
   "execution_count": 3,
   "id": "wanted-campaign",
   "metadata": {},
   "outputs": [],
   "source": [
    "import torch\n",
    "\n",
    "# models\n",
    "from torch import nn\n",
    "from torch import optim\n",
    "from torch.autograd import Variable\n",
    "import os\n",
    "import sys\n",
    "\n",
    "from opacus import PrivacyEngine\n",
    "\n",
    "# The Researcher generates the model\n",
    "\n",
    "model = nn.Sequential(\n",
    "            nn.Linear(8, 4),\n",
    "            nn.Sigmoid(),\n",
    "            nn.Linear(4, 2),\n",
    "            nn.Sigmoid(),\n",
    "            nn.Linear(2, 1),\n",
    "            nn.Sigmoid()\n",
    ")"
   ]
  },
  {
   "cell_type": "code",
   "execution_count": 4,
   "id": "moderate-suspect",
   "metadata": {},
   "outputs": [],
   "source": [
    "validation_data_path = 'data/coordinator_validation_data.csv'"
   ]
  },
  {
   "cell_type": "code",
   "execution_count": 5,
   "id": "micro-backing",
   "metadata": {},
   "outputs": [
    {
     "name": "stdout",
     "output_type": "stream",
     "text": [
      "CLEANING THE VALIDATION SET\n",
      "VALIDATION SET HAS BEEN CLEANED\n"
     ]
    }
   ],
   "source": [
    "researcher = Researcher(agent_config, validation_data_path, model)"
   ]
  },
  {
   "cell_type": "markdown",
   "id": "moving-cinema",
   "metadata": {},
   "source": [
    "## Send Invite to Hospital 1\n",
    "\n",
    "Option: We could make this a multiuse invite."
   ]
  },
  {
   "cell_type": "code",
   "execution_count": 6,
   "id": "rolled-breach",
   "metadata": {},
   "outputs": [
    {
     "name": "stdout",
     "output_type": "stream",
     "text": [
      "\n",
      "♫♫♫ > STEP 1: Send the aries invitation to the data owner\n",
      "\n",
      "{\"@type\": \"did:sov:BzCbsNYhMrjHiqZDTUASHg;spec/connections/1.0/invitation\", \"@id\": \"200407a5-068c-4064-afe2-ef43d31dcd25\", \"serviceEndpoint\": \"http://172.17.0.1:8040\", \"recipientKeys\": [\"7vtM4totFusGjo2H7AYE3dZkxcw2tMWCtHSnwFXqGKmQ\"], \"label\": \"Health Researcher\"}\n",
      "\n",
      "Connection Handler Called\n",
      "Connection 5e4516b1-aadc-4edc-807e-bd4f30ae48b4 in State invitation\n",
      "Connection Handler Called\n",
      "Connection 5e4516b1-aadc-4edc-807e-bd4f30ae48b4 in State request\n",
      "Accepting request  5e4516b1-aadc-4edc-807e-bd4f30ae48b4\n",
      "Connection Handler Called\n",
      "Connection 5e4516b1-aadc-4edc-807e-bd4f30ae48b4 in State response\n",
      "Sending trust ping 5e4516b1-aadc-4edc-807e-bd4f30ae48b4\n",
      "Connection Handler Called\n",
      "Connection 5e4516b1-aadc-4edc-807e-bd4f30ae48b4 in State active\n",
      "Pending dataowner connection moved to active. Challenging with auth policy if set\n",
      "New Data Owner Connection Trusted:  5e4516b1-aadc-4edc-807e-bd4f30ae48b4\n"
     ]
    }
   ],
   "source": [
    "researcher.new_dataowner_invite()"
   ]
  },
  {
   "cell_type": "markdown",
   "id": "pregnant-penguin",
   "metadata": {},
   "source": [
    "## Send Invite to Hospital 2"
   ]
  },
  {
   "cell_type": "code",
   "execution_count": 7,
   "id": "exposed-atlas",
   "metadata": {},
   "outputs": [
    {
     "name": "stdout",
     "output_type": "stream",
     "text": [
      "Connection Handler Called\n",
      "Connection 3af4c9e0-aaea-4096-95d5-db7fc1bdebed in State invitation\n",
      "\n",
      "♫♫♫ > STEP 1: Send the aries invitation to the data owner\n",
      "\n",
      "{\"@type\": \"did:sov:BzCbsNYhMrjHiqZDTUASHg;spec/connections/1.0/invitation\", \"@id\": \"ca2e758b-8d93-4971-9a32-af1be8aeba03\", \"serviceEndpoint\": \"http://172.17.0.1:8040\", \"recipientKeys\": [\"9hCMomXdphv5iPt7qfTSKox91x3TJQ3eLjeugcLatQMw\"], \"label\": \"Health Researcher\"}\n",
      "\n",
      "Connection Handler Called\n",
      "Connection 3af4c9e0-aaea-4096-95d5-db7fc1bdebed in State request\n",
      "Accepting request  3af4c9e0-aaea-4096-95d5-db7fc1bdebed\n",
      "Connection Handler Called\n",
      "Connection 3af4c9e0-aaea-4096-95d5-db7fc1bdebed in State response\n",
      "Sending trust ping 3af4c9e0-aaea-4096-95d5-db7fc1bdebed\n",
      "Connection Handler Called\n",
      "Connection 3af4c9e0-aaea-4096-95d5-db7fc1bdebed in State active\n",
      "Pending dataowner connection moved to active. Challenging with auth policy if set\n",
      "New Data Owner Connection Trusted:  3af4c9e0-aaea-4096-95d5-db7fc1bdebed\n"
     ]
    }
   ],
   "source": [
    "researcher.new_dataowner_invite()"
   ]
  },
  {
   "cell_type": "markdown",
   "id": "human-lotus",
   "metadata": {},
   "source": [
    "## Send Invite to Hospital 3"
   ]
  },
  {
   "cell_type": "code",
   "execution_count": 8,
   "id": "restricted-knitting",
   "metadata": {},
   "outputs": [
    {
     "name": "stdout",
     "output_type": "stream",
     "text": [
      "Connection Handler Called\n",
      "Connection 4213daed-6dff-45a5-a1cf-96720394606d in State invitation\n",
      "\n",
      "♫♫♫ > STEP 1: Send the aries invitation to the data owner\n",
      "\n",
      "{\"@type\": \"did:sov:BzCbsNYhMrjHiqZDTUASHg;spec/connections/1.0/invitation\", \"@id\": \"720c990c-c8c7-49c0-8bd8-1889305b146d\", \"serviceEndpoint\": \"http://172.17.0.1:8040\", \"recipientKeys\": [\"DBg5f8rjfhaV6Vm8RSafs5m6wDnsc9VRYTUadEi5Z97G\"], \"label\": \"Health Researcher\"}\n",
      "\n",
      "Connection Handler Called\n",
      "Connection 4213daed-6dff-45a5-a1cf-96720394606d in State request\n",
      "Accepting request  4213daed-6dff-45a5-a1cf-96720394606d\n",
      "Connection Handler Called\n",
      "Connection 4213daed-6dff-45a5-a1cf-96720394606d in State response\n",
      "Sending trust ping 4213daed-6dff-45a5-a1cf-96720394606d\n",
      "Connection Handler Called\n",
      "Connection 4213daed-6dff-45a5-a1cf-96720394606d in State active\n",
      "Pending dataowner connection moved to active. Challenging with auth policy if set\n",
      "New Data Owner Connection Trusted:  4213daed-6dff-45a5-a1cf-96720394606d\n"
     ]
    }
   ],
   "source": [
    "researcher.new_dataowner_invite()"
   ]
  },
  {
   "cell_type": "markdown",
   "id": "multiple-formula",
   "metadata": {},
   "source": [
    "## Initiate Learning"
   ]
  },
  {
   "cell_type": "code",
   "execution_count": 9,
   "id": "damaged-investigation",
   "metadata": {},
   "outputs": [
    {
     "name": "stdout",
     "output_type": "stream",
     "text": [
      "MODEL OPENED FOR TRANSPORT\n",
      "Training model with 3 DataOwners\n",
      "Still learning\n",
      "Continue Learning 3af4c9e0-aaea-4096-95d5-db7fc1bdebed\n",
      "HOSPITAL MODEL LOADED\n",
      "\n",
      "PRINTING PARAMETERS:\n",
      "\n",
      "\n",
      "Sequential(\n",
      "  (0): Linear(in_features=8, out_features=4, bias=True)\n",
      "  (1): Sigmoid()\n",
      "  (2): Linear(in_features=4, out_features=2, bias=True)\n",
      "  (3): Sigmoid()\n",
      "  (4): Linear(in_features=2, out_features=1, bias=True)\n",
      "  (5): Sigmoid()\n",
      ")\n",
      "\n",
      "\n",
      "0.weight tensor([[ 0.9598,  1.1691,  0.4478,  0.4304, -0.9584, -1.1090,  0.9224, -1.4145],\n",
      "        [ 0.2367,  1.0705, -0.4386,  0.1520, -0.2957,  0.2250, -0.0692, -4.0365],\n",
      "        [ 0.6670, -1.2041,  0.8856,  2.6508,  1.3104, -1.1291, -0.6029, -0.3647],\n",
      "        [ 1.1412,  1.4918, -0.5767,  2.3912, -0.0099, -2.1220,  0.4982, -0.9995]])\n",
      "0.bias tensor([ 0.8864,  3.3451, -1.1282,  0.5234])\n",
      "2.weight tensor([[-1.5553,  3.4881, -2.0318,  1.9624],\n",
      "        [ 2.5858, -4.4433,  2.6078, -3.4225]])\n",
      "2.bias tensor([-0.0915,  0.5750])\n",
      "4.weight tensor([[-4.8934,  7.2463]])\n",
      "4.bias tensor([-0.5728])\n",
      "\n",
      "\n",
      "\n",
      "HOSPITAL IS VALIDATING\n",
      "Model loss on validation set:  tensor(1.0212, grad_fn=<SumBackward0>)\n",
      "Confusion Matrix:\n",
      "                Actual_True, Actual_False \n",
      " Predicted_True     117    |      37     \n",
      " Predicted_False    27      |       77     \n",
      "\n",
      "Still learning\n",
      "Continue Learning 4213daed-6dff-45a5-a1cf-96720394606d\n",
      "HOSPITAL MODEL LOADED\n",
      "\n",
      "PRINTING PARAMETERS:\n",
      "\n",
      "\n",
      "Sequential(\n",
      "  (0): Linear(in_features=8, out_features=4, bias=True)\n",
      "  (1): Sigmoid()\n",
      "  (2): Linear(in_features=4, out_features=2, bias=True)\n",
      "  (3): Sigmoid()\n",
      "  (4): Linear(in_features=2, out_features=1, bias=True)\n",
      "  (5): Sigmoid()\n",
      ")\n",
      "\n",
      "\n",
      "0.weight tensor([[ 2.0238e+00,  3.1414e+00,  9.1007e-01,  2.3950e+00, -2.7358e+00,\n",
      "         -2.1453e+00,  8.0690e-01, -1.9852e+00],\n",
      "        [ 1.0720e+00,  5.9493e-02,  2.8115e-01,  5.3279e-01, -9.8023e-02,\n",
      "         -4.3599e-03, -2.7907e-01, -4.7204e+00],\n",
      "        [ 1.8586e+00,  2.5251e-01,  1.5141e+00,  4.2074e-01,  1.2645e+00,\n",
      "         -1.0926e+00, -4.2447e-01, -2.7645e-01],\n",
      "        [ 1.2032e+00,  2.6782e+00,  3.2723e-01,  1.1669e+00,  6.6978e-01,\n",
      "         -3.2115e+00,  1.2390e-02, -1.5246e+00]])\n",
      "0.bias tensor([-0.0489,  3.4388, -1.2782,  1.8318])\n",
      "2.weight tensor([[-1.2286,  3.6028, -3.4529,  2.2884],\n",
      "        [ 3.0023, -5.1452,  4.4881, -3.2665]])\n",
      "2.bias tensor([0.1192, 0.0726])\n",
      "4.weight tensor([[-6.0911,  7.5261]])\n",
      "4.bias tensor([-1.7582])\n",
      "\n",
      "\n",
      "\n",
      "HOSPITAL IS VALIDATING\n",
      "Model loss on validation set:  tensor(8.3793, grad_fn=<SumBackward0>)\n",
      "Confusion Matrix:\n",
      "                Actual_True, Actual_False \n",
      " Predicted_True     123    |      37     \n",
      " Predicted_False    21      |       77     \n",
      "\n",
      "Learning complete\n",
      "HOSPITAL MODEL LOADED\n",
      "\n",
      "PRINTING PARAMETERS:\n",
      "\n",
      "\n",
      "Sequential(\n",
      "  (0): Linear(in_features=8, out_features=4, bias=True)\n",
      "  (1): Sigmoid()\n",
      "  (2): Linear(in_features=4, out_features=2, bias=True)\n",
      "  (3): Sigmoid()\n",
      "  (4): Linear(in_features=2, out_features=1, bias=True)\n",
      "  (5): Sigmoid()\n",
      ")\n",
      "\n",
      "\n",
      "0.weight tensor([[ 1.3259,  4.9376,  1.2152,  3.0931, -0.3332, -1.0782,  2.2636, -4.2918],\n",
      "        [ 1.3082,  0.6098,  1.2193,  0.5005,  0.2874, -0.8275,  1.0622, -5.8055],\n",
      "        [ 4.3159, -1.0084,  2.5622, -0.2512,  1.5236, -2.1154, -1.0735,  1.4263],\n",
      "        [ 2.3420,  2.7117, -1.4502, -0.5314,  1.8016, -2.4806, -0.7929, -0.3909]])\n",
      "0.bias tensor([-0.3915,  3.5977, -1.0389,  3.1573])\n",
      "2.weight tensor([[-2.2707,  4.7722, -3.3834,  2.7022],\n",
      "        [ 3.8800, -6.5023,  4.3608, -4.1893]])\n",
      "2.bias tensor([ 0.0737, -0.2765])\n",
      "4.weight tensor([[-6.9640,  9.2665]])\n",
      "4.bias tensor([-1.4456])\n",
      "\n",
      "\n",
      "\n",
      "HOSPITAL IS VALIDATING\n",
      "Model loss on validation set:  tensor(9.8705, grad_fn=<SumBackward0>)\n",
      "Confusion Matrix:\n",
      "                Actual_True, Actual_False \n",
      " Predicted_True     130    |      45     \n",
      " Predicted_False    14      |       69     \n",
      "\n",
      "LEARNING COMPLETE\n"
     ]
    }
   ],
   "source": [
    "researcher.initiate_learning()"
   ]
  },
  {
   "cell_type": "code",
   "execution_count": null,
   "id": "common-monkey",
   "metadata": {},
   "outputs": [],
   "source": []
  },
  {
   "cell_type": "code",
   "execution_count": null,
   "id": "seventh-voice",
   "metadata": {},
   "outputs": [],
   "source": []
  },
  {
   "cell_type": "code",
   "execution_count": null,
   "id": "sustainable-blackjack",
   "metadata": {},
   "outputs": [],
   "source": []
  }
 ],
 "metadata": {
  "kernelspec": {
   "display_name": "Python 3",
   "language": "python",
   "name": "python3"
  },
  "language_info": {
   "codemirror_mode": {
    "name": "ipython",
    "version": 3
   },
   "file_extension": ".py",
   "mimetype": "text/x-python",
   "name": "python",
   "nbconvert_exporter": "python",
   "pygments_lexer": "ipython3",
   "version": "3.7.6"
  }
 },
 "nbformat": 4,
 "nbformat_minor": 5
}
