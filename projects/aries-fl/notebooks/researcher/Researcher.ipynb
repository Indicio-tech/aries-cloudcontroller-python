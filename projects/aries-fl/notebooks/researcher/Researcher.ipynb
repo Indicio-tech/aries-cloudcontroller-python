{
 "cells": [
  {
   "cell_type": "code",
   "execution_count": 3,
   "id": "integral-subscriber",
   "metadata": {},
   "outputs": [],
   "source": [
    "from researcher import Researcher\n",
    "import asyncio\n",
    "import nest_asyncio\n",
    "\n",
    "nest_asyncio.apply()"
   ]
  },
  {
   "cell_type": "code",
   "execution_count": 4,
   "id": "controlling-sight",
   "metadata": {},
   "outputs": [],
   "source": [
    "    \n",
    "WEBHOOK_HOST = \"0.0.0.0\"\n",
    "WEBHOOK_PORT = 8042\n",
    "WEBHOOK_BASE = \"\"\n",
    "ADMIN_URL = \"http://researcher-agent:8041\"\n",
    "# ADMIN_URL = \"http://0.0.0.0:8041\"\n",
    "\n",
    "agent_config = {\n",
    "    \"webhook_host\": WEBHOOK_HOST,\n",
    "    \"webhook_port\": WEBHOOK_PORT,\n",
    "    \"webhook_base\": WEBHOOK_BASE,\n",
    "    \"admin_url\": ADMIN_URL\n",
    "}\n",
    "\n"
   ]
  },
  {
   "cell_type": "code",
   "execution_count": 5,
   "id": "immediate-timing",
   "metadata": {},
   "outputs": [],
   "source": [
    "import torch\n",
    "\n",
    "# models\n",
    "from torch import nn\n",
    "from torch import optim\n",
    "from torch.autograd import Variable\n",
    "import os\n",
    "import sys\n",
    "\n",
    "from opacus import PrivacyEngine\n",
    "\n",
    "# The Researcher generates the model\n",
    "\n",
    "model = nn.Sequential(\n",
    "            nn.Linear(8, 4),\n",
    "            nn.Sigmoid(),\n",
    "            nn.Linear(4, 2),\n",
    "            nn.Sigmoid(),\n",
    "            nn.Linear(2, 1),\n",
    "            nn.Sigmoid()\n",
    ")"
   ]
  },
  {
   "cell_type": "code",
   "execution_count": 6,
   "id": "thorough-denial",
   "metadata": {},
   "outputs": [],
   "source": [
    "validation_data_path = 'data/coordinator_validation_data.csv'"
   ]
  },
  {
   "cell_type": "code",
   "execution_count": 7,
   "id": "raising-conspiracy",
   "metadata": {},
   "outputs": [
    {
     "name": "stdout",
     "output_type": "stream",
     "text": [
      "CLEANING THE VALIDATION SET\n",
      "VALIDATION SET HAS BEEN CLEANED\n"
     ]
    }
   ],
   "source": [
    "researcher = Researcher(agent_config, validation_data_path, model)"
   ]
  },
  {
   "cell_type": "markdown",
   "id": "sound-honolulu",
   "metadata": {},
   "source": [
    "## Request Authorised Research Credential\n",
    "\n",
    "Copy invite from the [Health Research Authority Notebook](http://localhost:8889/notebooks/Health%20Research%20Regulator.ipynb)"
   ]
  },
  {
   "cell_type": "code",
   "execution_count": 8,
   "id": "connected-woman",
   "metadata": {},
   "outputs": [],
   "source": [
    "invite = {'@type': 'did:sov:BzCbsNYhMrjHiqZDTUASHg;spec/connections/1.0/invitation', '@id': 'a96950af-88b8-49a6-be0a-35f8b808caab', 'serviceEndpoint': 'http://172.17.0.1:8030', 'label': 'NHS Health Research Authority', 'recipientKeys': ['5JEH56xJaB9DGQ2DNTBDMjmvFqV58vKnU1p2WdFndwo1']}"
   ]
  },
  {
   "cell_type": "code",
   "execution_count": 9,
   "id": "short-providence",
   "metadata": {},
   "outputs": [
    {
     "name": "stdout",
     "output_type": "stream",
     "text": [
      "Connection Handler Called\n",
      "Connection d6907cc9-a7f3-4bcb-99f9-9304a11ff840 in State invitation\n",
      "Connection Handler Called\n",
      "Connection d6907cc9-a7f3-4bcb-99f9-9304a11ff840 in State request\n"
     ]
    },
    {
     "data": {
      "text/plain": [
       "{'invitation_key': '5JEH56xJaB9DGQ2DNTBDMjmvFqV58vKnU1p2WdFndwo1',\n",
       " 'updated_at': '2021-02-19 14:47:19.987939Z',\n",
       " 'my_did': 'GPuks4W4pKmqa7p73hiXNC',\n",
       " 'created_at': '2021-02-19 14:47:19.970611Z',\n",
       " 'connection_id': 'd6907cc9-a7f3-4bcb-99f9-9304a11ff840',\n",
       " 'state': 'request',\n",
       " 'their_label': 'NHS Health Research Authority',\n",
       " 'initiator': 'external',\n",
       " 'routing_state': 'none',\n",
       " 'invitation_mode': 'once',\n",
       " 'accept': 'manual',\n",
       " 'request_id': '7c41742f-7a10-44e8-a278-ad9415678c9c'}"
      ]
     },
     "execution_count": 9,
     "metadata": {},
     "output_type": "execute_result"
    },
    {
     "name": "stdout",
     "output_type": "stream",
     "text": [
      "Connection Handler Called\n",
      "Connection d6907cc9-a7f3-4bcb-99f9-9304a11ff840 in State response\n",
      "Connection Handler Called\n",
      "Connection d6907cc9-a7f3-4bcb-99f9-9304a11ff840 in State active\n",
      "Handle Credentials\n",
      "Credential exchange bf99cdf0-f5f7-46e3-b77a-19cb1f199cf1, role: holder, state: offer_received\n",
      "Offering: [{'name': 'scope', 'value': 'diabetes'}]\n",
      "Requesting credential\n",
      "Handle Credentials\n",
      "Credential exchange bf99cdf0-f5f7-46e3-b77a-19cb1f199cf1, role: holder, state: request_sent\n",
      "Handle Credentials\n",
      "Credential exchange bf99cdf0-f5f7-46e3-b77a-19cb1f199cf1, role: holder, state: credential_received\n",
      "Storing Credential\n",
      "Handle Credentials\n",
      "Credential exchange bf99cdf0-f5f7-46e3-b77a-19cb1f199cf1, role: holder, state: credential_acked\n"
     ]
    }
   ],
   "source": [
    "await researcher.agent_controller.connections.accept_connection(invite)"
   ]
  },
  {
   "cell_type": "markdown",
   "id": "rough-mechanics",
   "metadata": {},
   "source": [
    "## Configure Authentication Policy\n",
    "\n",
    "Note: Normally we would specify the credential definition here specifying which entities we trust to issue this schema, but this changes every time because it's a demo.\n",
    "\n",
    "Feel free to copy yours across from the NHS Trust though."
   ]
  },
  {
   "cell_type": "code",
   "execution_count": 10,
   "id": "western-northwest",
   "metadata": {},
   "outputs": [],
   "source": [
    "\n",
    "\n",
    "schema_id = \"BvRKFu1fdzGdJzQcKb8e8p:2:NHS Hosptial:0.0.1\"\n",
    "# cred_def = \"WfntKNFwXMQfgmU9ofbxPM:3:CL:156569:default\"\n",
    "\n",
    "revocation = False\n",
    "exchange_tracing = False\n",
    "\n",
    "#Enable this to ask for attributes to identity a user\n",
    "#TODO - change restriction to schemaId or credentialId\n",
    "\n",
    "req_attrs = [\n",
    "    {\"name\": \"name\", \"restrictions\": [{\"schema_id\": schema_id}]},#, \"cred_def_id\": cred_def}]},\n",
    "]\n",
    "\n",
    "global indy_proof_request\n",
    "indy_proof_request = {\n",
    "    \"name\": \"Proof of Hospital\",\n",
    "    \"version\": \"1.0\",\n",
    "    \"requested_attributes\": {\n",
    "        f\"0_{req_attr['name']}_uuid\":\n",
    "        req_attr for req_attr in req_attrs\n",
    "    },\n",
    "    \"requested_predicates\": {\n",
    "#         f\"0_{req_pred['name']}_GE_uuid\":\n",
    "#         req_pred for req_pred in req_preds\n",
    "    },\n",
    "}\n",
    "\n"
   ]
  },
  {
   "cell_type": "code",
   "execution_count": 11,
   "id": "balanced-rough",
   "metadata": {},
   "outputs": [],
   "source": [
    "researcher.set_authentication_policy(indy_proof_request)"
   ]
  },
  {
   "cell_type": "markdown",
   "id": "aware-command",
   "metadata": {},
   "source": [
    "## Send Invite to Hospital 1\n",
    "\n",
    "Option: We could make this a multiuse invite."
   ]
  },
  {
   "cell_type": "code",
   "execution_count": 12,
   "id": "reserved-palace",
   "metadata": {
    "scrolled": true
   },
   "outputs": [
    {
     "name": "stdout",
     "output_type": "stream",
     "text": [
      "Connection Handler Called\n",
      "Connection 9ae6ede7-4132-4c0d-925f-d34958e62c2d in State invitation\n",
      "\n",
      "♫♫♫ > STEP 1: Send the aries invitation to the data owner\n",
      "\n",
      "{\"@type\": \"did:sov:BzCbsNYhMrjHiqZDTUASHg;spec/connections/1.0/invitation\", \"@id\": \"696b6287-63d5-49a0-8dea-2657fee2d826\", \"label\": \"Health Researcher\", \"recipientKeys\": [\"BU36Z9DJcNcT2XopUXgK29VF4y43xy4t4MQsPXbsuGyH\"], \"serviceEndpoint\": \"http://172.17.0.1:8040\"}\n",
      "\n",
      "Connection Handler Called\n",
      "Connection 9ae6ede7-4132-4c0d-925f-d34958e62c2d in State request\n",
      "Accepting request  9ae6ede7-4132-4c0d-925f-d34958e62c2d\n",
      "Connection Handler Called\n",
      "Connection 9ae6ede7-4132-4c0d-925f-d34958e62c2d in State response\n",
      "Sending trust ping 9ae6ede7-4132-4c0d-925f-d34958e62c2d\n",
      "Connection Handler Called\n",
      "Connection 9ae6ede7-4132-4c0d-925f-d34958e62c2d in State active\n",
      "Pending dataowner connection moved to active. Challenging with auth policy if set\n",
      "Handle present proof\n",
      "Role verifier, Exchange d379a7a1-d051-446e-9ed1-f93ccdb30319 in state request_sent\n",
      "Handle present proof\n",
      "Role prover, Exchange ed7c68b0-91ae-45b7-8d7f-ac2d07973c05 in state request_received\n",
      "Received Authentication Challenge\n",
      "Credentials [{'cred_info': {'referent': 'Research Authority bf99cdf0-f5f7-46e3-b77a-19cb1f199cf1', 'attrs': {'scope': 'diabetes'}, 'schema_id': 'FWyJ74b38bCF1QbYF7tWMM:2:Authorised Research:0.0.1', 'cred_def_id': 'MZ56axFJHPfP8aJBbW2pRJ:3:CL:181335:default', 'rev_reg_id': None, 'cred_rev_id': None}, 'interval': None, 'presentation_referents': ['0_scope_uuid']}]\n",
      "Revealed Credential\n",
      "\n",
      "Generate the proof\n",
      "{'requested_predicates': {}, 'requested_attributes': {'0_scope_uuid': {'cred_id': 'Research Authority bf99cdf0-f5f7-46e3-b77a-19cb1f199cf1', 'revealed': True}}, 'self_attested_attributes': {}}\n",
      "\n",
      "XXX\n",
      "{}\n",
      "{'0_scope_uuid': {'cred_id': 'Research Authority bf99cdf0-f5f7-46e3-b77a-19cb1f199cf1', 'revealed': True}}\n",
      "{}\n",
      "Handle present proof\n",
      "Role prover, Exchange ed7c68b0-91ae-45b7-8d7f-ac2d07973c05 in state presentation_sent\n",
      "Handle present proof\n",
      "Role verifier, Exchange d379a7a1-d051-446e-9ed1-f93ccdb30319 in state presentation_received\n",
      "Verifying DataOwner Presentation\n",
      "Handle present proof\n",
      "Role verifier, Exchange d379a7a1-d051-446e-9ed1-f93ccdb30319 in state verified\n",
      "New Data Owner Connection Trusted:  9ae6ede7-4132-4c0d-925f-d34958e62c2d\n",
      "Handle present proof\n",
      "Role prover, Exchange ed7c68b0-91ae-45b7-8d7f-ac2d07973c05 in state presentation_acked\n"
     ]
    }
   ],
   "source": [
    "researcher.new_dataowner_invite()"
   ]
  },
  {
   "cell_type": "markdown",
   "id": "valuable-flash",
   "metadata": {},
   "source": [
    "## Send Invite to Hospital 2"
   ]
  },
  {
   "cell_type": "code",
   "execution_count": 13,
   "id": "worth-swift",
   "metadata": {},
   "outputs": [
    {
     "name": "stdout",
     "output_type": "stream",
     "text": [
      "Connection Handler Called\n",
      "Connection 2fdd0e61-0b94-428d-bff7-f18f5dac8230 in State invitation\n",
      "\n",
      "♫♫♫ > STEP 1: Send the aries invitation to the data owner\n",
      "\n",
      "{\"@type\": \"did:sov:BzCbsNYhMrjHiqZDTUASHg;spec/connections/1.0/invitation\", \"@id\": \"af4ca1f7-7070-42cc-943d-e7af24bef5c4\", \"label\": \"Health Researcher\", \"recipientKeys\": [\"DLbK5vsixEqenNevKHRxgK3jMZHApHHQZ12ix5FsM15Y\"], \"serviceEndpoint\": \"http://172.17.0.1:8040\"}\n",
      "\n",
      "Connection Handler Called\n",
      "Connection 2fdd0e61-0b94-428d-bff7-f18f5dac8230 in State request\n",
      "Accepting request  2fdd0e61-0b94-428d-bff7-f18f5dac8230\n",
      "Connection Handler Called\n",
      "Connection 2fdd0e61-0b94-428d-bff7-f18f5dac8230 in State response\n",
      "Sending trust ping 2fdd0e61-0b94-428d-bff7-f18f5dac8230\n",
      "Connection Handler Called\n",
      "Connection 2fdd0e61-0b94-428d-bff7-f18f5dac8230 in State active\n",
      "Pending dataowner connection moved to active. Challenging with auth policy if set\n",
      "Handle present proof\n",
      "Role verifier, Exchange 464cb34f-1daa-4107-a9d2-9ed7af092919 in state request_sent\n",
      "Handle present proof\n",
      "Role prover, Exchange 0d6b9831-919d-4c7a-a727-5a69ca788d20 in state request_received\n",
      "Received Authentication Challenge\n",
      "Credentials [{'cred_info': {'referent': 'Research Authority bf99cdf0-f5f7-46e3-b77a-19cb1f199cf1', 'attrs': {'scope': 'diabetes'}, 'schema_id': 'FWyJ74b38bCF1QbYF7tWMM:2:Authorised Research:0.0.1', 'cred_def_id': 'MZ56axFJHPfP8aJBbW2pRJ:3:CL:181335:default', 'rev_reg_id': None, 'cred_rev_id': None}, 'interval': None, 'presentation_referents': ['0_scope_uuid']}]\n",
      "Revealed Credential\n",
      "\n",
      "Generate the proof\n",
      "{'requested_predicates': {}, 'requested_attributes': {'0_scope_uuid': {'cred_id': 'Research Authority bf99cdf0-f5f7-46e3-b77a-19cb1f199cf1', 'revealed': True}}, 'self_attested_attributes': {}}\n",
      "\n",
      "XXX\n",
      "{}\n",
      "{'0_scope_uuid': {'cred_id': 'Research Authority bf99cdf0-f5f7-46e3-b77a-19cb1f199cf1', 'revealed': True}}\n",
      "{}\n",
      "Handle present proof\n",
      "Role prover, Exchange 0d6b9831-919d-4c7a-a727-5a69ca788d20 in state presentation_sent\n",
      "Handle present proof\n",
      "Role verifier, Exchange 464cb34f-1daa-4107-a9d2-9ed7af092919 in state presentation_received\n",
      "Verifying DataOwner Presentation\n",
      "Handle present proof\n",
      "Role verifier, Exchange 464cb34f-1daa-4107-a9d2-9ed7af092919 in state verified\n",
      "New Data Owner Connection Trusted:  2fdd0e61-0b94-428d-bff7-f18f5dac8230\n",
      "Handle present proof\n",
      "Role prover, Exchange 0d6b9831-919d-4c7a-a727-5a69ca788d20 in state presentation_acked\n"
     ]
    }
   ],
   "source": [
    "researcher.new_dataowner_invite()"
   ]
  },
  {
   "cell_type": "markdown",
   "id": "norwegian-navigation",
   "metadata": {},
   "source": [
    "## Send Invite to Hospital 3"
   ]
  },
  {
   "cell_type": "code",
   "execution_count": null,
   "id": "fifteen-musical",
   "metadata": {},
   "outputs": [],
   "source": [
    "researcher.new_dataowner_invite()"
   ]
  },
  {
   "cell_type": "markdown",
   "id": "silver-milton",
   "metadata": {},
   "source": [
    "## Initiate Learning\n",
    "\n",
    "PPML Learning messages are sent over DIDComm using the basic message protocol. You will be able to see the encrypted message in the terminal you initialised this project."
   ]
  },
  {
   "cell_type": "code",
   "execution_count": 14,
   "id": "united-exchange",
   "metadata": {},
   "outputs": [
    {
     "name": "stdout",
     "output_type": "stream",
     "text": [
      "MODEL OPENED FOR TRANSPORT\n",
      "Training model with 2 DataOwners\n",
      "Still learning\n",
      "Continue Learning 2fdd0e61-0b94-428d-bff7-f18f5dac8230\n",
      "HOSPITAL MODEL LOADED\n",
      "\n",
      "PRINTING PARAMETERS:\n",
      "\n",
      "\n",
      "Sequential(\n",
      "  (0): Linear(in_features=8, out_features=4, bias=True)\n",
      "  (1): Sigmoid()\n",
      "  (2): Linear(in_features=4, out_features=2, bias=True)\n",
      "  (3): Sigmoid()\n",
      "  (4): Linear(in_features=2, out_features=1, bias=True)\n",
      "  (5): Sigmoid()\n",
      ")\n",
      "\n",
      "\n",
      "0.weight tensor([[-0.0407, -2.7445, -0.5781,  1.4727,  0.9153,  0.9233,  2.1776,  0.1872],\n",
      "        [ 1.3477, -0.8946,  1.9262, -1.6329, -0.3836, -0.7956, -1.6785,  0.8979],\n",
      "        [-2.0327,  0.7583, -0.4663, -0.1193, -0.0782, -0.6535, -0.0044,  3.8578],\n",
      "        [-2.2942, -0.9636, -1.6302, -0.8692, -0.2579, -0.3502,  0.5492,  0.5564]])\n",
      "0.bias tensor([-2.0306, -1.5065, -2.8781,  2.0966])\n",
      "2.weight tensor([[-2.3666, -2.4208, -3.4018,  3.0841],\n",
      "        [ 1.9018,  2.4939,  2.5090, -2.9655]])\n",
      "2.bias tensor([ 2.3059, -1.4538])\n",
      "4.weight tensor([[-6.8204,  5.3866]])\n",
      "4.bias tensor([-0.4698])\n",
      "\n",
      "\n",
      "\n",
      "HOSPITAL IS VALIDATING\n",
      "Model loss on validation set:  tensor(4.2943, grad_fn=<SumBackward0>)\n",
      "Confusion Matrix:\n",
      "                Actual_True, Actual_False \n",
      " Predicted_True     119    |      38     \n",
      " Predicted_False    25      |       76     \n",
      "\n",
      "Learning complete\n",
      "HOSPITAL MODEL LOADED\n",
      "\n",
      "PRINTING PARAMETERS:\n",
      "\n",
      "\n",
      "Sequential(\n",
      "  (0): Linear(in_features=8, out_features=4, bias=True)\n",
      "  (1): Sigmoid()\n",
      "  (2): Linear(in_features=4, out_features=2, bias=True)\n",
      "  (3): Sigmoid()\n",
      "  (4): Linear(in_features=2, out_features=1, bias=True)\n",
      "  (5): Sigmoid()\n",
      ")\n",
      "\n",
      "\n",
      "0.weight tensor([[-0.8283, -3.9135, -3.4222,  0.3664,  3.4436, -0.4247,  2.7652, -0.1832],\n",
      "        [-2.4444,  0.4470,  0.9953, -3.2108, -0.3643,  1.9067, -1.0779,  1.0319],\n",
      "        [-1.8634, -1.7290,  1.4670, -0.0512, -0.4118, -0.7586, -0.1515,  5.3113],\n",
      "        [-1.6937,  0.4598, -1.0639, -2.8215,  0.2467,  0.8201,  0.3374,  0.8959]])\n",
      "0.bias tensor([-3.1717, -0.0041, -3.5533,  0.2696])\n",
      "2.weight tensor([[-2.7000, -3.7685, -3.9125,  3.9630],\n",
      "        [ 2.1122,  3.6125,  3.0555, -3.5391]])\n",
      "2.bias tensor([ 3.4521, -2.4407])\n",
      "4.weight tensor([[-8.2745,  6.9083]])\n",
      "4.bias tensor([-0.1110])\n",
      "\n",
      "\n",
      "\n",
      "HOSPITAL IS VALIDATING\n",
      "Model loss on validation set:  tensor(-12.0831, grad_fn=<SumBackward0>)\n",
      "Confusion Matrix:\n",
      "                Actual_True, Actual_False \n",
      " Predicted_True     108    |      33     \n",
      " Predicted_False    36      |       81     \n",
      "\n",
      "LEARNING COMPLETE\n"
     ]
    }
   ],
   "source": [
    "researcher.initiate_learning()"
   ]
  },
  {
   "cell_type": "code",
   "execution_count": null,
   "id": "worse-deployment",
   "metadata": {},
   "outputs": [],
   "source": []
  },
  {
   "cell_type": "code",
   "execution_count": null,
   "id": "beautiful-classic",
   "metadata": {},
   "outputs": [],
   "source": []
  },
  {
   "cell_type": "code",
   "execution_count": null,
   "id": "wrong-homework",
   "metadata": {},
   "outputs": [],
   "source": []
  }
 ],
 "metadata": {
  "kernelspec": {
   "display_name": "Python 3",
   "language": "python",
   "name": "python3"
  },
  "language_info": {
   "codemirror_mode": {
    "name": "ipython",
    "version": 3
   },
   "file_extension": ".py",
   "mimetype": "text/x-python",
   "name": "python",
   "nbconvert_exporter": "python",
   "pygments_lexer": "ipython3",
   "version": "3.7.6"
  }
 },
 "nbformat": 4,
 "nbformat_minor": 5
}
