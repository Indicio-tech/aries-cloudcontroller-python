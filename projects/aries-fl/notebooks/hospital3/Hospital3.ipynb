{
 "cells": [
  {
   "cell_type": "markdown",
   "id": "rural-actor",
   "metadata": {},
   "source": [
    "# Hospital 3\n",
    "\n",
    "See hospital.py for full code"
   ]
  },
  {
   "cell_type": "code",
   "execution_count": 1,
   "id": "little-newsletter",
   "metadata": {},
   "outputs": [],
   "source": [
    "from hospital.hospital import Hospital\n",
    "import nest_asyncio\n",
    "\n",
    "nest_asyncio.apply()"
   ]
  },
  {
   "cell_type": "code",
   "execution_count": 2,
   "id": "unlimited-plaintiff",
   "metadata": {},
   "outputs": [],
   "source": [
    "data_location = 'data/hospital3.csv'"
   ]
  },
  {
   "cell_type": "code",
   "execution_count": 3,
   "id": "atomic-conducting",
   "metadata": {},
   "outputs": [],
   "source": [
    "WEBHOOK_HOST = \"0.0.0.0\"\n",
    "WEBHOOK_PORT = 8072\n",
    "WEBHOOK_BASE = \"\"\n",
    "ADMIN_URL = \"http://hospital3-agent:8071\"\n",
    "\n",
    "agent_config = {\n",
    "    \"webhook_host\": WEBHOOK_HOST,\n",
    "    \"webhook_port\": WEBHOOK_PORT,\n",
    "    \"webhook_base\": WEBHOOK_BASE,\n",
    "    \"admin_url\": ADMIN_URL\n",
    "}"
   ]
  },
  {
   "cell_type": "code",
   "execution_count": 4,
   "id": "absent-causing",
   "metadata": {},
   "outputs": [
    {
     "name": "stdout",
     "output_type": "stream",
     "text": [
      "Data Processed\n"
     ]
    }
   ],
   "source": [
    "hospital3 = Hospital(agent_config, data_location)"
   ]
  },
  {
   "cell_type": "markdown",
   "id": "strong-equipment",
   "metadata": {},
   "source": [
    "## Copy from Researcher"
   ]
  },
  {
   "cell_type": "code",
   "execution_count": 6,
   "id": "touched-timing",
   "metadata": {},
   "outputs": [],
   "source": [
    "research_invite = {\"@type\": \"did:sov:BzCbsNYhMrjHiqZDTUASHg;spec/connections/1.0/invitation\", \"@id\": \"720c990c-c8c7-49c0-8bd8-1889305b146d\", \"serviceEndpoint\": \"http://172.17.0.1:8040\", \"recipientKeys\": [\"DBg5f8rjfhaV6Vm8RSafs5m6wDnsc9VRYTUadEi5Z97G\"], \"label\": \"Health Researcher\"}"
   ]
  },
  {
   "cell_type": "code",
   "execution_count": 7,
   "id": "fatal-smith",
   "metadata": {},
   "outputs": [
    {
     "name": "stdout",
     "output_type": "stream",
     "text": [
      "Connection Handler Called\n",
      "Connection 01c74bc5-d003-431e-a042-d21b1bb134c8 in State invitation\n",
      "Connection Handler Called\n",
      "Connection 01c74bc5-d003-431e-a042-d21b1bb134c8 in State request\n",
      "Establishing connection\n",
      "Connection Handler Called\n",
      "Connection 01c74bc5-d003-431e-a042-d21b1bb134c8 in State response\n",
      "Connection Handler Called\n",
      "Connection 01c74bc5-d003-431e-a042-d21b1bb134c8 in State active\n",
      "Pending connection moved to active. Challenging with auth policy if set\n",
      "No Auth Policy set\n",
      "Trusted Research Connection Established - 01c74bc5-d003-431e-a042-d21b1bb134c8\n",
      "ML Message from 01c74bc5-d003-431e-a042-d21b1bb134c8\n",
      "Open file\n",
      "learning\n",
      "untrained_model.pt\n",
      "HOSPITAL MODEL LOADED\n",
      "HOSPITAL IS TRAINING\n",
      "loss at epoch  0 :  tensor(0.1529)\n"
     ]
    },
    {
     "name": "stderr",
     "output_type": "stream",
     "text": [
      "/opt/conda/lib/python3.7/site-packages/torch/autograd/__init__.py:132: UserWarning: CUDA initialization: Found no NVIDIA driver on your system. Please check that you have an NVIDIA GPU and installed a driver from http://www.nvidia.com/Download/index.aspx (Triggered internally at  /pytorch/c10/cuda/CUDAFunctions.cpp:100.)\n",
      "  allow_unreachable=True)  # allow_unreachable flag\n"
     ]
    },
    {
     "name": "stdout",
     "output_type": "stream",
     "text": [
      "loss at epoch  5000 :  tensor(0.1002)\n",
      "loss at epoch  10000 :  tensor(0.0945)\n",
      "loss at epoch  15000 :  tensor(0.0873)\n",
      "loss at epoch  20000 :  tensor(0.0849)\n",
      "loss at epoch  25000 :  tensor(0.0836)\n",
      "loss at epoch  30000 :  tensor(0.0825)\n",
      "loss at epoch  35000 :  tensor(0.0808)\n",
      "loss at epoch  40000 :  tensor(0.0795)\n",
      "loss at epoch  45000 :  tensor(0.0784)\n",
      "Learnt \n",
      "Trained file open\n",
      "connection ID 01c74bc5-d003-431e-a042-d21b1bb134c8\n"
     ]
    }
   ],
   "source": [
    "hospital3.establish_research_connection(research_invite)"
   ]
  },
  {
   "cell_type": "code",
   "execution_count": null,
   "id": "engaged-senior",
   "metadata": {},
   "outputs": [],
   "source": []
  }
 ],
 "metadata": {
  "kernelspec": {
   "display_name": "Python 3",
   "language": "python",
   "name": "python3"
  },
  "language_info": {
   "codemirror_mode": {
    "name": "ipython",
    "version": 3
   },
   "file_extension": ".py",
   "mimetype": "text/x-python",
   "name": "python",
   "nbconvert_exporter": "python",
   "pygments_lexer": "ipython3",
   "version": "3.7.6"
  }
 },
 "nbformat": 4,
 "nbformat_minor": 5
}
