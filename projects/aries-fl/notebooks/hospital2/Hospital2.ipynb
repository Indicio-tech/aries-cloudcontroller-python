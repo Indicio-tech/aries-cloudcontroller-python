{
 "cells": [
  {
   "cell_type": "markdown",
   "id": "square-potter",
   "metadata": {},
   "source": [
    "# Hospital 2\n",
    "\n",
    "See hospital.py for full code"
   ]
  },
  {
   "cell_type": "code",
   "execution_count": 1,
   "id": "coordinated-reflection",
   "metadata": {},
   "outputs": [],
   "source": [
    "from hospital.hospital import Hospital\n",
    "import nest_asyncio\n",
    "\n",
    "nest_asyncio.apply()"
   ]
  },
  {
   "cell_type": "code",
   "execution_count": 2,
   "id": "dense-lottery",
   "metadata": {},
   "outputs": [],
   "source": [
    "data_location = 'data/hospital2.csv'"
   ]
  },
  {
   "cell_type": "code",
   "execution_count": 3,
   "id": "popular-disco",
   "metadata": {},
   "outputs": [],
   "source": [
    "WEBHOOK_HOST = \"0.0.0.0\"\n",
    "WEBHOOK_PORT = 8062\n",
    "WEBHOOK_BASE = \"\"\n",
    "ADMIN_URL = \"http://hospital2-agent:8061\"\n",
    "\n",
    "agent_config = {\n",
    "    \"webhook_host\": WEBHOOK_HOST,\n",
    "    \"webhook_port\": WEBHOOK_PORT,\n",
    "    \"webhook_base\": WEBHOOK_BASE,\n",
    "    \"admin_url\": ADMIN_URL\n",
    "}"
   ]
  },
  {
   "cell_type": "code",
   "execution_count": 4,
   "id": "impressed-nebraska",
   "metadata": {},
   "outputs": [
    {
     "name": "stdout",
     "output_type": "stream",
     "text": [
      "Data Processed\n"
     ]
    }
   ],
   "source": [
    "hospital2 = Hospital(agent_config, data_location)"
   ]
  },
  {
   "cell_type": "markdown",
   "id": "public-happiness",
   "metadata": {},
   "source": [
    "## Copy from Researcher"
   ]
  },
  {
   "cell_type": "code",
   "execution_count": 5,
   "id": "private-duration",
   "metadata": {},
   "outputs": [],
   "source": [
    "research_invite = {\"@type\": \"did:sov:BzCbsNYhMrjHiqZDTUASHg;spec/connections/1.0/invitation\", \"@id\": \"ca2e758b-8d93-4971-9a32-af1be8aeba03\", \"serviceEndpoint\": \"http://172.17.0.1:8040\", \"recipientKeys\": [\"9hCMomXdphv5iPt7qfTSKox91x3TJQ3eLjeugcLatQMw\"], \"label\": \"Health Researcher\"}"
   ]
  },
  {
   "cell_type": "code",
   "execution_count": 6,
   "id": "complete-institution",
   "metadata": {},
   "outputs": [
    {
     "name": "stdout",
     "output_type": "stream",
     "text": [
      "Connection Handler Called\n",
      "Connection bb416d79-f48e-4457-bdad-5a7aeea260ff in State invitation\n",
      "Connection Handler Called\n",
      "Connection bb416d79-f48e-4457-bdad-5a7aeea260ff in State request\n",
      "Establishing connection\n",
      "Connection Handler Called\n",
      "Connection bb416d79-f48e-4457-bdad-5a7aeea260ff in State response\n",
      "Connection Handler Called\n",
      "Connection bb416d79-f48e-4457-bdad-5a7aeea260ff in State active\n",
      "Pending connection moved to active. Challenging with auth policy if set\n",
      "No Auth Policy set\n",
      "Trusted Research Connection Established - bb416d79-f48e-4457-bdad-5a7aeea260ff\n",
      "ML Message from bb416d79-f48e-4457-bdad-5a7aeea260ff\n",
      "Open file\n",
      "learning\n",
      "untrained_model.pt\n",
      "HOSPITAL MODEL LOADED\n",
      "HOSPITAL IS TRAINING\n",
      "loss at epoch  0 :  tensor(0.1492)\n"
     ]
    },
    {
     "name": "stderr",
     "output_type": "stream",
     "text": [
      "/opt/conda/lib/python3.7/site-packages/torch/autograd/__init__.py:132: UserWarning: CUDA initialization: Found no NVIDIA driver on your system. Please check that you have an NVIDIA GPU and installed a driver from http://www.nvidia.com/Download/index.aspx (Triggered internally at  /pytorch/c10/cuda/CUDAFunctions.cpp:100.)\n",
      "  allow_unreachable=True)  # allow_unreachable flag\n"
     ]
    },
    {
     "name": "stdout",
     "output_type": "stream",
     "text": [
      "loss at epoch  5000 :  tensor(0.1066)\n",
      "loss at epoch  10000 :  tensor(0.1028)\n",
      "loss at epoch  15000 :  tensor(0.1008)\n",
      "loss at epoch  20000 :  tensor(0.0995)\n",
      "loss at epoch  25000 :  tensor(0.0979)\n",
      "loss at epoch  30000 :  tensor(0.0969)\n",
      "loss at epoch  35000 :  tensor(0.0963)\n",
      "loss at epoch  40000 :  tensor(0.0959)\n",
      "loss at epoch  45000 :  tensor(0.0955)\n",
      "Learnt \n",
      "Trained file open\n",
      "connection ID bb416d79-f48e-4457-bdad-5a7aeea260ff\n"
     ]
    }
   ],
   "source": [
    "hospital2.establish_research_connection(research_invite)"
   ]
  },
  {
   "cell_type": "code",
   "execution_count": null,
   "id": "hungarian-irrigation",
   "metadata": {},
   "outputs": [],
   "source": []
  }
 ],
 "metadata": {
  "kernelspec": {
   "display_name": "Python 3",
   "language": "python",
   "name": "python3"
  },
  "language_info": {
   "codemirror_mode": {
    "name": "ipython",
    "version": 3
   },
   "file_extension": ".py",
   "mimetype": "text/x-python",
   "name": "python",
   "nbconvert_exporter": "python",
   "pygments_lexer": "ipython3",
   "version": "3.7.6"
  }
 },
 "nbformat": 4,
 "nbformat_minor": 5
}
