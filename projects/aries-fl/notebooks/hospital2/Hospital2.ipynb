{
 "cells": [
  {
   "cell_type": "markdown",
   "id": "proper-insulin",
   "metadata": {},
   "source": [
    "# Hospital 2\n",
    "\n",
    "See hospital.py for full code"
   ]
  },
  {
   "cell_type": "code",
   "execution_count": 1,
   "id": "compact-hunger",
   "metadata": {},
   "outputs": [],
   "source": [
    "from hospital.hospital import Hospital\n",
    "import nest_asyncio\n",
    "\n",
    "nest_asyncio.apply()"
   ]
  },
  {
   "cell_type": "code",
   "execution_count": 2,
   "id": "incorporate-concrete",
   "metadata": {},
   "outputs": [],
   "source": [
    "data_location = 'data/hospital2.csv'"
   ]
  },
  {
   "cell_type": "code",
   "execution_count": 3,
   "id": "civil-diamond",
   "metadata": {},
   "outputs": [],
   "source": [
    "WEBHOOK_HOST = \"0.0.0.0\"\n",
    "WEBHOOK_PORT = 8062\n",
    "WEBHOOK_BASE = \"\"\n",
    "ADMIN_URL = \"http://hospital2-agent:8061\"\n",
    "\n",
    "agent_config = {\n",
    "    \"webhook_host\": WEBHOOK_HOST,\n",
    "    \"webhook_port\": WEBHOOK_PORT,\n",
    "    \"webhook_base\": WEBHOOK_BASE,\n",
    "    \"admin_url\": ADMIN_URL\n",
    "}"
   ]
  },
  {
   "cell_type": "code",
   "execution_count": 4,
   "id": "burning-calibration",
   "metadata": {},
   "outputs": [
    {
     "name": "stdout",
     "output_type": "stream",
     "text": [
      "Data Processed\n"
     ]
    }
   ],
   "source": [
    "hospital2 = Hospital(agent_config, data_location)"
   ]
  },
  {
   "cell_type": "markdown",
   "id": "cordless-houston",
   "metadata": {},
   "source": [
    "## Get Hospital Credential\n",
    "\n",
    "Copy connection invite from the NHS trust to receive the hospital credential. [NHS Trust Notebooks are here](http://localhost:8888/tree)"
   ]
  },
  {
   "cell_type": "code",
   "execution_count": 7,
   "id": "running-string",
   "metadata": {},
   "outputs": [],
   "source": [
    "nhs_invite = {'@type': 'did:sov:BzCbsNYhMrjHiqZDTUASHg;spec/connections/1.0/invitation', '@id': 'df4381ca-79e2-476f-916b-743b24a77144', 'label': 'NHS Lothian', 'serviceEndpoint': 'http://172.17.0.1:8020', 'recipientKeys': ['7adLaVm5LjUkGsh8jMu5DnQpLHteaC17HrEgMKi5uUPW']}"
   ]
  },
  {
   "cell_type": "code",
   "execution_count": 8,
   "id": "cordless-extent",
   "metadata": {},
   "outputs": [
    {
     "name": "stdout",
     "output_type": "stream",
     "text": [
      "Connection Handler Called\n",
      "Connection 56e31ffc-32c4-43c6-b1a3-e2fedd67adf3 in State invitation\n",
      "Connection Handler Called\n",
      "Connection 56e31ffc-32c4-43c6-b1a3-e2fedd67adf3 in State request\n",
      "Connection Handler Called\n",
      "Connection 56e31ffc-32c4-43c6-b1a3-e2fedd67adf3 in State response\n",
      "Connection Handler Called\n",
      "Connection 56e31ffc-32c4-43c6-b1a3-e2fedd67adf3 in State active\n",
      "Handle Credentials\n",
      "Credential exchange 51d95e07-076b-4ede-8117-b83185260aa4, role: holder, state: offer_received\n",
      "Offering: [{'name': 'name', 'value': 'Royal Edinburgh Hospital'}]\n",
      "Requesting credential\n",
      "Handle Credentials\n",
      "Credential exchange 51d95e07-076b-4ede-8117-b83185260aa4, role: holder, state: request_sent\n",
      "Handle Credentials\n",
      "Credential exchange 51d95e07-076b-4ede-8117-b83185260aa4, role: holder, state: credential_received\n",
      "Storing Credential\n",
      "Handle Credentials\n",
      "Credential exchange 51d95e07-076b-4ede-8117-b83185260aa4, role: holder, state: credential_acked\n"
     ]
    }
   ],
   "source": [
    "response =await  hospital2.agent_controller.connections.accept_connection(nhs_invite)\n"
   ]
  },
  {
   "cell_type": "markdown",
   "id": "covered-flower",
   "metadata": {},
   "source": [
    "## Optional: Configure Research Authentication Policy\n",
    "\n",
    "This is a proof request that the hospital will automatically challenge the researcher for"
   ]
  },
  {
   "cell_type": "code",
   "execution_count": null,
   "id": "ongoing-popularity",
   "metadata": {},
   "outputs": [],
   "source": [
    "schema_id = \"FWyJ74b38bCF1QbYF7tWMM:2:Authorised Research:0.0.1\"\n",
    "# cred_def = \"WfntKNFwXMQfgmU9ofbxPM:3:CL:156569:default\"\n",
    "\n",
    "revocation = False\n",
    "exchange_tracing = False\n",
    "\n",
    "#Enable this to ask for attributes to identity a user\n",
    "#TODO - change restriction to schemaId or credentialId\n",
    "\n",
    "req_attrs = [\n",
    "    {\"name\": \"scope\", \"restrictions\": [{\"schema_id\": schema_id}]},#, \"cred_def_id\": cred_def}]},\n",
    "]\n",
    "\n",
    "global indy_proof_request\n",
    "indy_proof_request = {\n",
    "    \"name\": \"Proof of Hospital\",\n",
    "    \"version\": \"1.0\",\n",
    "    \"requested_attributes\": {\n",
    "        f\"0_{req_attr['name']}_uuid\":\n",
    "        req_attr for req_attr in req_attrs\n",
    "    },\n",
    "    \"requested_predicates\": {\n",
    "#         f\"0_{req_pred['name']}_GE_uuid\":\n",
    "#         req_pred for req_pred in req_preds\n",
    "    },\n",
    "}\n"
   ]
  },
  {
   "cell_type": "code",
   "execution_count": null,
   "id": "reverse-pipeline",
   "metadata": {},
   "outputs": [],
   "source": [
    "hospital2.set_authentication_policy(indy_proof_request)"
   ]
  },
  {
   "cell_type": "markdown",
   "id": "third-moral",
   "metadata": {},
   "source": [
    "## Copy from Invite Researcher"
   ]
  },
  {
   "cell_type": "code",
   "execution_count": 9,
   "id": "classical-prairie",
   "metadata": {},
   "outputs": [],
   "source": [
    "research_invite = {\"@type\": \"did:sov:BzCbsNYhMrjHiqZDTUASHg;spec/connections/1.0/invitation\", \"@id\": \"8988d85a-94bc-47ce-8f5e-493f006c3a2a\", \"serviceEndpoint\": \"http://172.17.0.1:8040\", \"label\": \"Health Researcher\", \"recipientKeys\": [\"9h4v74WHM94RWNfnem8ezyJ7QeeHQAxP4BwaRmQXw6Ka\"]}"
   ]
  },
  {
   "cell_type": "code",
   "execution_count": 10,
   "id": "wooden-shakespeare",
   "metadata": {},
   "outputs": [
    {
     "name": "stdout",
     "output_type": "stream",
     "text": [
      "Connection Handler Called\n",
      "Connection 7684fefd-a461-423a-8461-63e90c4d372f in State invitation\n",
      "Connection Handler Called\n",
      "Connection 7684fefd-a461-423a-8461-63e90c4d372f in State request\n",
      "Establishing connection\n",
      "Connection Handler Called\n",
      "Connection 7684fefd-a461-423a-8461-63e90c4d372f in State response\n",
      "Connection Handler Called\n",
      "Connection 7684fefd-a461-423a-8461-63e90c4d372f in State active\n",
      "Pending connection moved to active. Challenging with auth policy if set\n",
      "No Auth Policy set\n",
      "Trusted Research Connection Established - 7684fefd-a461-423a-8461-63e90c4d372f\n",
      "Handle present proof\n",
      "Role prover, Exchange 81fef765-4a9c-43fd-b1a0-9431ac931513 in state request_received\n",
      "Received Authentication Challenge\n",
      "Credentials [{'cred_info': {'referent': 'NHS Hosptial 51d95e07-076b-4ede-8117-b83185260aa4', 'attrs': {'name': 'Royal Edinburgh Hospital'}, 'schema_id': 'BvRKFu1fdzGdJzQcKb8e8p:2:NHS Hosptial:0.0.1', 'cred_def_id': 'RiUq77qGfmFmAHxj1NQcSY:3:CL:156569:default', 'rev_reg_id': None, 'cred_rev_id': None}, 'interval': None, 'presentation_referents': ['0_name_uuid']}]\n",
      "Revealed Credential\n",
      "\n",
      "Generate the proof\n",
      "{'requested_predicates': {}, 'requested_attributes': {'0_name_uuid': {'cred_id': 'NHS Hosptial 51d95e07-076b-4ede-8117-b83185260aa4', 'revealed': True}}, 'self_attested_attributes': {}}\n",
      "\n",
      "XXX\n",
      "{}\n",
      "{'0_name_uuid': {'cred_id': 'NHS Hosptial 51d95e07-076b-4ede-8117-b83185260aa4', 'revealed': True}}\n",
      "{}\n",
      "Handle present proof\n",
      "Role prover, Exchange 81fef765-4a9c-43fd-b1a0-9431ac931513 in state presentation_sent\n",
      "Handle present proof\n",
      "Role prover, Exchange 81fef765-4a9c-43fd-b1a0-9431ac931513 in state presentation_acked\n",
      "ML Message from 7684fefd-a461-423a-8461-63e90c4d372f\n",
      "Open file\n",
      "learning\n",
      "untrained_model.pt\n",
      "HOSPITAL MODEL LOADED\n",
      "HOSPITAL IS TRAINING\n",
      "loss at epoch  0 :  tensor(0.1272)\n"
     ]
    },
    {
     "name": "stderr",
     "output_type": "stream",
     "text": [
      "/opt/conda/lib/python3.7/site-packages/torch/autograd/__init__.py:132: UserWarning: CUDA initialization: Found no NVIDIA driver on your system. Please check that you have an NVIDIA GPU and installed a driver from http://www.nvidia.com/Download/index.aspx (Triggered internally at  /pytorch/c10/cuda/CUDAFunctions.cpp:100.)\n",
      "  allow_unreachable=True)  # allow_unreachable flag\n"
     ]
    },
    {
     "name": "stdout",
     "output_type": "stream",
     "text": [
      "loss at epoch  5000 :  tensor(0.1102)\n",
      "loss at epoch  10000 :  tensor(0.1091)\n",
      "loss at epoch  15000 :  tensor(0.1083)\n",
      "loss at epoch  20000 :  tensor(0.1075)\n",
      "loss at epoch  25000 :  tensor(0.1064)\n",
      "loss at epoch  30000 :  tensor(0.1054)\n",
      "loss at epoch  35000 :  tensor(0.1046)\n",
      "loss at epoch  40000 :  tensor(0.1038)\n",
      "loss at epoch  45000 :  tensor(0.1031)\n",
      "Learnt \n",
      "Trained file open\n",
      "connection ID 7684fefd-a461-423a-8461-63e90c4d372f\n"
     ]
    }
   ],
   "source": [
    "hospital2.establish_research_connection(research_invite)"
   ]
  },
  {
   "cell_type": "code",
   "execution_count": null,
   "id": "toxic-temple",
   "metadata": {},
   "outputs": [],
   "source": []
  }
 ],
 "metadata": {
  "kernelspec": {
   "display_name": "Python 3",
   "language": "python",
   "name": "python3"
  },
  "language_info": {
   "codemirror_mode": {
    "name": "ipython",
    "version": 3
   },
   "file_extension": ".py",
   "mimetype": "text/x-python",
   "name": "python",
   "nbconvert_exporter": "python",
   "pygments_lexer": "ipython3",
   "version": "3.7.6"
  }
 },
 "nbformat": 4,
 "nbformat_minor": 5
}
