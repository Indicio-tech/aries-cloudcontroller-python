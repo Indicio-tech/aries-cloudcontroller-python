{
 "cells": [
  {
   "cell_type": "markdown",
   "id": "strategic-easter",
   "metadata": {},
   "source": [
    "# Health Research Regulator\n",
    "\n",
    "Researchers must apply to this authority before they can do research on healthcare data. The regulator then issues them a credential that data owners (Hospital's) can verify. Providing hospitals an easy way to authenticate access to sensitive but useful healthcare data."
   ]
  },
  {
   "cell_type": "code",
   "execution_count": 1,
   "id": "accepting-carrier",
   "metadata": {},
   "outputs": [
    {
     "name": "stdout",
     "output_type": "stream",
     "text": [
      "IPython autoawait is `on`, and set to use `asyncio`\n"
     ]
    }
   ],
   "source": [
    "%autoawait\n",
    "import time\n",
    "import asyncio\n",
    "import nest_asyncio\n",
    "from termcolor import colored, cprint\n",
    "nest_asyncio.apply()\n",
    "from aries_basic_controller.aries_controller import AriesAgentController\n",
    "    \n",
    "WEBHOOK_HOST = \"0.0.0.0\"\n",
    "WEBHOOK_BASE = \"\"\n",
    "\n",
    "WEBHOOK_PORT = 8032\n",
    "ADMIN_URL = \"http://regulator-agent:8031\"\n",
    "\n",
    "# Based on the aca-py agent you wish to control\n",
    "agent_controller = AriesAgentController(webhook_host=WEBHOOK_HOST, webhook_port=WEBHOOK_PORT,\n",
    "                                       webhook_base=WEBHOOK_BASE, admin_url=ADMIN_URL)"
   ]
  },
  {
   "cell_type": "markdown",
   "id": "advisory-harmony",
   "metadata": {},
   "source": [
    "## Generate a new DID"
   ]
  },
  {
   "cell_type": "code",
   "execution_count": 2,
   "id": "desirable-longer",
   "metadata": {},
   "outputs": [
    {
     "name": "stdout",
     "output_type": "stream",
     "text": [
      "New DID {'did': 'CFiSw2SSYoL9UZvkVV7GWP', 'verkey': '78kbXzRKsBbqJoP8pmEdatn5pLS4Grc4qtP7PxqWHGuG', 'posture': 'wallet_only'}\n"
     ]
    }
   ],
   "source": [
    "# generate new DID\n",
    "response = await agent_controller.wallet.create_did()\n",
    "\n",
    "did_object = response['result']\n",
    "print(\"New DID\", did_object)"
   ]
  },
  {
   "cell_type": "code",
   "execution_count": 3,
   "id": "increasing-rates",
   "metadata": {},
   "outputs": [],
   "source": [
    "## Write DID to Sovrin StagingNet"
   ]
  },
  {
   "cell_type": "code",
   "execution_count": 4,
   "id": "balanced-lightweight",
   "metadata": {},
   "outputs": [
    {
     "name": "stdout",
     "output_type": "stream",
     "text": [
      "{'statusCode': 200, 'headers': {'Access-Control-Allow-Origin': '*'}, 'body': '{\"statusCode\": 200, \"CFiSw2SSYoL9UZvkVV7GWP\": {\"status\": \"Success\", \"statusCode\": 200, \"reason\": \"Successfully wrote NYM identified by CFiSw2SSYoL9UZvkVV7GWP to the ledger with role ENDORSER\"}}'}\n",
      "200\n"
     ]
    }
   ],
   "source": [
    "# write new DID to Sovrin Stagingnet\n",
    "import requests\n",
    "import json \n",
    "\n",
    "url = 'https://selfserve.sovrin.org/nym'\n",
    "\n",
    "payload = {\"network\":\"stagingnet\",\"did\": did_object[\"did\"],\"verkey\":did_object[\"verkey\"],\"paymentaddr\":\"\"}\n",
    "\n",
    "# Adding empty header as parameters are being sent in payload\n",
    "headers = {}\n",
    "\n",
    "r = requests.post(url, data=json.dumps(payload), headers=headers)\n",
    "print(r.json())\n",
    "print(r.status_code)"
   ]
  },
  {
   "cell_type": "markdown",
   "id": "middle-cigarette",
   "metadata": {},
   "source": [
    "## Accept Transaction Author Agreement"
   ]
  },
  {
   "cell_type": "code",
   "execution_count": 5,
   "id": "prescribed-yacht",
   "metadata": {},
   "outputs": [
    {
     "name": "stdout",
     "output_type": "stream",
     "text": [
      "{}\n"
     ]
    }
   ],
   "source": [
    "response = await agent_controller.ledger.get_taa()\n",
    "TAA_text = response['result']['taa_record']['text']\n",
    "TAA_version = response['result']['taa_record']['version']\n",
    "TAA_digest = response['result']['taa_record']['digest']\n",
    "\n",
    "\n",
    "taa_record = {\n",
    "            \"version\": TAA_version,\n",
    "            \"mechanism\": \"service_agreement\",\n",
    "            'text': TAA_text\n",
    "}\n",
    "\n",
    "response = await agent_controller.ledger.accept_taa(taa_record)\n",
    "## Will return {} if successful\n",
    "print(response)"
   ]
  },
  {
   "cell_type": "markdown",
   "id": "established-chart",
   "metadata": {},
   "source": [
    "## Assign public DID"
   ]
  },
  {
   "cell_type": "code",
   "execution_count": 6,
   "id": "fitting-attempt",
   "metadata": {},
   "outputs": [
    {
     "name": "stdout",
     "output_type": "stream",
     "text": [
      "{'result': {'did': 'CFiSw2SSYoL9UZvkVV7GWP', 'verkey': '78kbXzRKsBbqJoP8pmEdatn5pLS4Grc4qtP7PxqWHGuG', 'posture': 'public'}}\n"
     ]
    }
   ],
   "source": [
    "response = await agent_controller.wallet.assign_public_did(did_object[\"did\"])\n",
    "print(response)"
   ]
  },
  {
   "cell_type": "markdown",
   "id": "wooden-packaging",
   "metadata": {},
   "source": [
    "### Optional Write Schema\n",
    "\n",
    "You will need to change the proof request configuration for hosptials if you do this."
   ]
  },
  {
   "cell_type": "code",
   "execution_count": 7,
   "id": "manual-glenn",
   "metadata": {},
   "outputs": [],
   "source": [
    "\n",
    "# Or feel free to define your own schema\n",
    "\n",
    "# Define you schema name - must be unique on the ledger\n",
    "# schema_name = \"Authorised Research\"\n",
    "# # Can version the schema if you wish to update it\n",
    "# schema_version = \"0.0.1\"\n",
    "# # Define any list of attributes you wish to include in your schema\n",
    "# attributes = [\"scope\"]\n",
    "\n",
    "# response = await agent_controller.schema.write_schema(schema_name, attributes, schema_version)\n",
    "# schema_id = response[\"schema_id\"]\n",
    "# print(schema_id)"
   ]
  },
  {
   "cell_type": "code",
   "execution_count": 8,
   "id": "imperial-request",
   "metadata": {},
   "outputs": [],
   "source": [
    "schema_id = \"FWyJ74b38bCF1QbYF7tWMM:2:Authorised Research:0.0.1\"\n",
    "response = await agent_controller.definitions.write_cred_def(schema_id)\n",
    "cred_def_id = response[\"credential_definition_id\"]"
   ]
  },
  {
   "cell_type": "markdown",
   "id": "enabling-universal",
   "metadata": {},
   "source": [
    "## Register Listeners\n",
    "\n",
    "These handlers ensure that whoever connects to this agent automatically get's issued a credential for the scope of diabetes. Clearly in the real world a more thorough application and research regulation process would be enforced here."
   ]
  },
  {
   "cell_type": "code",
   "execution_count": 9,
   "id": "accepting-parliament",
   "metadata": {},
   "outputs": [],
   "source": [
    "loop = asyncio.get_event_loop()\n",
    "loop.create_task(agent_controller.listen_webhooks())\n",
    "\n",
    "def cred_handler(payload):\n",
    "    print(\"Handle Credentials\")\n",
    "    exchange_id = payload['credential_exchange_id']\n",
    "    state = payload['state']\n",
    "    role = payload['role']\n",
    "    attributes = payload['credential_proposal_dict']['credential_proposal']['attributes']\n",
    "    print(f\"Credential exchange {exchange_id}, role: {role}, state: {state}\")\n",
    "    print(f\"Offering: {attributes}\")\n",
    "    \n",
    "cred_listener = {\n",
    "    \"topic\": \"issue_credential\",\n",
    "    \"handler\": cred_handler\n",
    "}\n",
    "\n",
    "def connections_handler(payload):\n",
    "    global STATE\n",
    "    connection_id = payload[\"connection_id\"]\n",
    "    print(\"Connection message\", payload, connection_id)\n",
    "    STATE = payload['state']\n",
    "    loop = asyncio.get_event_loop()\n",
    "    if STATE == 'request':\n",
    "        print(\"ACCEPTING REQUEST\")\n",
    "\n",
    "        loop.run_until_complete(agent_controller.connections.accept_request(connection_id))\n",
    "    elif STATE == 'response':\n",
    "        print(\"SEND PING\")\n",
    "        time.sleep(2)\n",
    "        loop.run_until_complete(agent_controller.messaging.trust_ping(connection_id, \"hey\"))\n",
    "    elif STATE == 'active':\n",
    "#         print('Connection {0} changed state to active'.format(connection_id))\n",
    "        print(colored(\"Connection {0} changed state to active\".format(connection_id), \"red\", attrs=[\"bold\"]))\n",
    "        credential_attributes = [{\"name\": \"scope\", \"value\": \"diabetes\"}]\n",
    "        ## Offer credential\n",
    "        time.sleep(1)\n",
    "        loop.run_until_complete(agent_controller.issuer.send_credential(connection_id, schema_id, cred_def_id, credential_attributes, trace=False))\n",
    "\n",
    "connection_listener = {\n",
    "    \"handler\": connections_handler,\n",
    "    \"topic\": \"connections\"\n",
    "}\n",
    "\n",
    "agent_controller.register_listeners([cred_listener,connection_listener], defaults=True)"
   ]
  },
  {
   "cell_type": "code",
   "execution_count": 10,
   "id": "painful-practice",
   "metadata": {},
   "outputs": [
    {
     "name": "stdout",
     "output_type": "stream",
     "text": [
      "Connection message {'invitation_mode': 'multi', 'initiator': 'self', 'connection_id': '75f0430e-c639-4f28-93e1-82c57bbf6fde', 'accept': 'manual', 'routing_state': 'none', 'invitation_key': '5GbdLanjtXFE5anxYHwTAy9iAZm1bgLoxpz1va3xPmfC', 'created_at': '2021-02-01 17:18:42.603512Z', 'updated_at': '2021-02-01 17:18:42.603512Z', 'state': 'invitation'} 75f0430e-c639-4f28-93e1-82c57bbf6fde\n",
      "{'@type': 'did:sov:BzCbsNYhMrjHiqZDTUASHg;spec/connections/1.0/invitation', '@id': '48db8bb7-0543-4102-a391-1c4f1ed7dfde', 'label': 'NHS Health Research Authority', 'recipientKeys': ['5GbdLanjtXFE5anxYHwTAy9iAZm1bgLoxpz1va3xPmfC'], 'serviceEndpoint': 'http://172.17.0.1:8030'}\n",
      "Connection message {'my_did': 'WUdzYmrPyPw4h4c2Y8PCcd', 'invitation_mode': 'once', 'initiator': 'multiuse', 'connection_id': 'e02967e0-0f22-4727-b8f9-7ff147a8bb51', 'accept': 'manual', 'routing_state': 'none', 'invitation_key': '5GbdLanjtXFE5anxYHwTAy9iAZm1bgLoxpz1va3xPmfC', 'created_at': '2021-02-01 17:18:56.864158Z', 'updated_at': '2021-02-01 17:18:56.864158Z', 'state': 'invitation'} e02967e0-0f22-4727-b8f9-7ff147a8bb51\n",
      "Connection message {'my_did': 'WUdzYmrPyPw4h4c2Y8PCcd', 'invitation_mode': 'once', 'initiator': 'multiuse', 'their_did': '9qiFc5QNXhPRLATHDSZF67', 'their_label': 'Health Researcher', 'connection_id': 'e02967e0-0f22-4727-b8f9-7ff147a8bb51', 'accept': 'manual', 'routing_state': 'none', 'invitation_key': '5GbdLanjtXFE5anxYHwTAy9iAZm1bgLoxpz1va3xPmfC', 'created_at': '2021-02-01 17:18:56.864158Z', 'updated_at': '2021-02-01 17:18:56.875759Z', 'state': 'request'} e02967e0-0f22-4727-b8f9-7ff147a8bb51\n",
      "ACCEPTING REQUEST\n",
      "Connection message {'my_did': 'WUdzYmrPyPw4h4c2Y8PCcd', 'invitation_mode': 'once', 'initiator': 'multiuse', 'their_did': '9qiFc5QNXhPRLATHDSZF67', 'their_label': 'Health Researcher', 'connection_id': 'e02967e0-0f22-4727-b8f9-7ff147a8bb51', 'accept': 'manual', 'routing_state': 'none', 'invitation_key': '5GbdLanjtXFE5anxYHwTAy9iAZm1bgLoxpz1va3xPmfC', 'created_at': '2021-02-01 17:18:56.864158Z', 'updated_at': '2021-02-01 17:18:56.896254Z', 'state': 'response'} e02967e0-0f22-4727-b8f9-7ff147a8bb51\n",
      "SEND PING\n",
      "Connection message {'my_did': 'WUdzYmrPyPw4h4c2Y8PCcd', 'invitation_mode': 'once', 'initiator': 'multiuse', 'their_did': '9qiFc5QNXhPRLATHDSZF67', 'their_label': 'Health Researcher', 'connection_id': 'e02967e0-0f22-4727-b8f9-7ff147a8bb51', 'accept': 'manual', 'routing_state': 'none', 'invitation_key': '5GbdLanjtXFE5anxYHwTAy9iAZm1bgLoxpz1va3xPmfC', 'created_at': '2021-02-01 17:18:56.864158Z', 'updated_at': '2021-02-01 17:18:58.957875Z', 'state': 'active'} e02967e0-0f22-4727-b8f9-7ff147a8bb51\n",
      "\u001b[1m\u001b[31mConnection e02967e0-0f22-4727-b8f9-7ff147a8bb51 changed state to active\u001b[0m\n",
      "Handle Credentials\n",
      "Credential exchange 9612dcab-3c8e-46c1-87e8-bc58615eebd4, role: issuer, state: offer_sent\n",
      "Offering: [{'name': 'scope', 'value': 'diabetes'}]\n",
      "Connection message {'my_did': 'AaNKRGCfSk9YAa2TBvgzYN', 'invitation_mode': 'once', 'initiator': 'multiuse', 'connection_id': '2a623b6a-a0c2-41d7-bd3f-534ae7e1d800', 'accept': 'manual', 'routing_state': 'none', 'invitation_key': '5GbdLanjtXFE5anxYHwTAy9iAZm1bgLoxpz1va3xPmfC', 'created_at': '2021-02-01 17:22:24.226317Z', 'updated_at': '2021-02-01 17:22:24.226317Z', 'state': 'invitation'} 2a623b6a-a0c2-41d7-bd3f-534ae7e1d800\n",
      "Connection message {'my_did': 'AaNKRGCfSk9YAa2TBvgzYN', 'invitation_mode': 'once', 'initiator': 'multiuse', 'their_did': 'FYP6zGkkN68EgFRaSEJBEG', 'their_label': 'Health Researcher', 'connection_id': '2a623b6a-a0c2-41d7-bd3f-534ae7e1d800', 'accept': 'manual', 'routing_state': 'none', 'invitation_key': '5GbdLanjtXFE5anxYHwTAy9iAZm1bgLoxpz1va3xPmfC', 'created_at': '2021-02-01 17:22:24.226317Z', 'updated_at': '2021-02-01 17:22:24.239743Z', 'state': 'request'} 2a623b6a-a0c2-41d7-bd3f-534ae7e1d800\n",
      "ACCEPTING REQUEST\n",
      "Connection message {'my_did': 'AaNKRGCfSk9YAa2TBvgzYN', 'invitation_mode': 'once', 'initiator': 'multiuse', 'their_did': 'FYP6zGkkN68EgFRaSEJBEG', 'their_label': 'Health Researcher', 'connection_id': '2a623b6a-a0c2-41d7-bd3f-534ae7e1d800', 'accept': 'manual', 'routing_state': 'none', 'invitation_key': '5GbdLanjtXFE5anxYHwTAy9iAZm1bgLoxpz1va3xPmfC', 'created_at': '2021-02-01 17:22:24.226317Z', 'updated_at': '2021-02-01 17:22:24.260953Z', 'state': 'response'} 2a623b6a-a0c2-41d7-bd3f-534ae7e1d800\n",
      "SEND PING\n",
      "Connection message {'my_did': 'AaNKRGCfSk9YAa2TBvgzYN', 'invitation_mode': 'once', 'initiator': 'multiuse', 'their_did': 'FYP6zGkkN68EgFRaSEJBEG', 'their_label': 'Health Researcher', 'connection_id': '2a623b6a-a0c2-41d7-bd3f-534ae7e1d800', 'accept': 'manual', 'routing_state': 'none', 'invitation_key': '5GbdLanjtXFE5anxYHwTAy9iAZm1bgLoxpz1va3xPmfC', 'created_at': '2021-02-01 17:22:24.226317Z', 'updated_at': '2021-02-01 17:22:26.342196Z', 'state': 'active'} 2a623b6a-a0c2-41d7-bd3f-534ae7e1d800\n",
      "\u001b[1m\u001b[31mConnection 2a623b6a-a0c2-41d7-bd3f-534ae7e1d800 changed state to active\u001b[0m\n",
      "Handle Credentials\n",
      "Credential exchange ae23caa8-1980-4ed2-afc1-a04c5181cf37, role: issuer, state: offer_sent\n",
      "Offering: [{'name': 'scope', 'value': 'diabetes'}]\n",
      "Connection message {'my_did': 'TUUfLhwNXTbjzkCqRRzbWt', 'invitation_mode': 'once', 'initiator': 'multiuse', 'connection_id': '101240fb-2416-4ce3-81ed-6134f8e306b2', 'accept': 'manual', 'routing_state': 'none', 'invitation_key': '5GbdLanjtXFE5anxYHwTAy9iAZm1bgLoxpz1va3xPmfC', 'created_at': '2021-02-01 17:23:05.045226Z', 'updated_at': '2021-02-01 17:23:05.045226Z', 'state': 'invitation'} 101240fb-2416-4ce3-81ed-6134f8e306b2\n",
      "Connection message {'my_did': 'TUUfLhwNXTbjzkCqRRzbWt', 'invitation_mode': 'once', 'initiator': 'multiuse', 'their_did': 'sj1C3kfWDdp852dxGXFsZ', 'their_label': 'Health Researcher', 'connection_id': '101240fb-2416-4ce3-81ed-6134f8e306b2', 'accept': 'manual', 'routing_state': 'none', 'invitation_key': '5GbdLanjtXFE5anxYHwTAy9iAZm1bgLoxpz1va3xPmfC', 'created_at': '2021-02-01 17:23:05.045226Z', 'updated_at': '2021-02-01 17:23:05.058573Z', 'state': 'request'} 101240fb-2416-4ce3-81ed-6134f8e306b2\n",
      "ACCEPTING REQUEST\n",
      "Connection message {'my_did': 'TUUfLhwNXTbjzkCqRRzbWt', 'invitation_mode': 'once', 'initiator': 'multiuse', 'their_did': 'sj1C3kfWDdp852dxGXFsZ', 'their_label': 'Health Researcher', 'connection_id': '101240fb-2416-4ce3-81ed-6134f8e306b2', 'accept': 'manual', 'routing_state': 'none', 'invitation_key': '5GbdLanjtXFE5anxYHwTAy9iAZm1bgLoxpz1va3xPmfC', 'created_at': '2021-02-01 17:23:05.045226Z', 'updated_at': '2021-02-01 17:23:05.080643Z', 'state': 'response'} 101240fb-2416-4ce3-81ed-6134f8e306b2\n",
      "SEND PING\n",
      "Connection message {'my_did': 'TUUfLhwNXTbjzkCqRRzbWt', 'invitation_mode': 'once', 'initiator': 'multiuse', 'their_did': 'sj1C3kfWDdp852dxGXFsZ', 'their_label': 'Health Researcher', 'connection_id': '101240fb-2416-4ce3-81ed-6134f8e306b2', 'accept': 'manual', 'routing_state': 'none', 'invitation_key': '5GbdLanjtXFE5anxYHwTAy9iAZm1bgLoxpz1va3xPmfC', 'created_at': '2021-02-01 17:23:05.045226Z', 'updated_at': '2021-02-01 17:23:07.265148Z', 'state': 'active'} 101240fb-2416-4ce3-81ed-6134f8e306b2\n",
      "\u001b[1m\u001b[31mConnection 101240fb-2416-4ce3-81ed-6134f8e306b2 changed state to active\u001b[0m\n",
      "Handle Credentials\n",
      "Credential exchange ae23caa8-1980-4ed2-afc1-a04c5181cf37, role: issuer, state: request_received\n",
      "Offering: [{'name': 'scope', 'value': 'diabetes'}]\n",
      "Handle Credentials\n",
      "Credential exchange 9515f1ed-0bb4-4747-8e9b-5d52163abe93, role: issuer, state: offer_sent\n",
      "Offering: [{'name': 'scope', 'value': 'diabetes'}]\n",
      "Handle Credentials\n",
      "Credential exchange ae23caa8-1980-4ed2-afc1-a04c5181cf37, role: issuer, state: credential_issued\n",
      "Offering: [{'name': 'scope', 'value': 'diabetes'}]\n",
      "Handle Credentials\n",
      "Credential exchange 9515f1ed-0bb4-4747-8e9b-5d52163abe93, role: issuer, state: request_received\n",
      "Offering: [{'name': 'scope', 'value': 'diabetes'}]\n",
      "Handle Credentials\n",
      "Credential exchange 9515f1ed-0bb4-4747-8e9b-5d52163abe93, role: issuer, state: credential_issued\n",
      "Offering: [{'name': 'scope', 'value': 'diabetes'}]\n",
      "Handle Credentials\n",
      "Credential exchange ae23caa8-1980-4ed2-afc1-a04c5181cf37, role: issuer, state: credential_acked\n",
      "Offering: [{'name': 'scope', 'value': 'diabetes'}]\n",
      "Handle Credentials\n",
      "Credential exchange 9515f1ed-0bb4-4747-8e9b-5d52163abe93, role: issuer, state: credential_acked\n",
      "Offering: [{'name': 'scope', 'value': 'diabetes'}]\n"
     ]
    }
   ],
   "source": [
    "invite = await agent_controller.connections.create_invitation(multi_use=\"true\")\n",
    "print(invite['invitation'])"
   ]
  },
  {
   "cell_type": "code",
   "execution_count": null,
   "id": "oriented-necklace",
   "metadata": {},
   "outputs": [],
   "source": [
    "await agent_controller.terminate()"
   ]
  }
 ],
 "metadata": {
  "kernelspec": {
   "display_name": "Python 3",
   "language": "python",
   "name": "python3"
  },
  "language_info": {
   "codemirror_mode": {
    "name": "ipython",
    "version": 3
   },
   "file_extension": ".py",
   "mimetype": "text/x-python",
   "name": "python",
   "nbconvert_exporter": "python",
   "pygments_lexer": "ipython3",
   "version": "3.7.6"
  }
 },
 "nbformat": 4,
 "nbformat_minor": 5
}
