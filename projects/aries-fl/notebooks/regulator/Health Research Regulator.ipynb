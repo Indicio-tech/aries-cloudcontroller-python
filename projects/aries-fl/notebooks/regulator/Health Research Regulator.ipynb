{
 "cells": [
  {
   "cell_type": "markdown",
   "id": "broadband-chemistry",
   "metadata": {},
   "source": [
    "# Health Research Regulator\n",
    "\n",
    "Researchers must apply to this authority before they can do research on healthcare data. The regulator then issues them a credential that data owners (Hospital's) can verify. Providing hospitals an easy way to authenticate access to sensitive but useful healthcare data."
   ]
  },
  {
   "cell_type": "code",
   "execution_count": 1,
   "id": "manual-attachment",
   "metadata": {},
   "outputs": [
    {
     "name": "stdout",
     "output_type": "stream",
     "text": [
      "IPython autoawait is `on`, and set to use `asyncio`\n"
     ]
    }
   ],
   "source": [
    "%autoawait\n",
    "import time\n",
    "import asyncio\n",
    "import nest_asyncio\n",
    "from termcolor import colored, cprint\n",
    "nest_asyncio.apply()\n",
    "from aries_basic_controller.aries_controller import AriesAgentController\n",
    "    \n",
    "WEBHOOK_HOST = \"0.0.0.0\"\n",
    "WEBHOOK_BASE = \"\"\n",
    "\n",
    "WEBHOOK_PORT = 8032\n",
    "ADMIN_URL = \"http://regulator-agent:8031\"\n",
    "\n",
    "# Based on the aca-py agent you wish to control\n",
    "agent_controller = AriesAgentController(webhook_host=WEBHOOK_HOST, webhook_port=WEBHOOK_PORT,\n",
    "                                       webhook_base=WEBHOOK_BASE, admin_url=ADMIN_URL)"
   ]
  },
  {
   "cell_type": "markdown",
   "id": "sacred-edward",
   "metadata": {},
   "source": [
    "## Generate a new DID"
   ]
  },
  {
   "cell_type": "code",
   "execution_count": 2,
   "id": "activated-metadata",
   "metadata": {},
   "outputs": [
    {
     "name": "stdout",
     "output_type": "stream",
     "text": [
      "New DID {'did': 'MZ56axFJHPfP8aJBbW2pRJ', 'verkey': 'CCihkGC3uvqHvEw5CzrnCbGp8LmRGcchXdNiVNnSpKig', 'posture': 'wallet_only'}\n"
     ]
    }
   ],
   "source": [
    "# generate new DID\n",
    "response = await agent_controller.wallet.create_did()\n",
    "\n",
    "did_object = response['result']\n",
    "print(\"New DID\", did_object)"
   ]
  },
  {
   "cell_type": "code",
   "execution_count": 3,
   "id": "prompt-sharp",
   "metadata": {},
   "outputs": [],
   "source": [
    "## Write DID to Sovrin StagingNet"
   ]
  },
  {
   "cell_type": "code",
   "execution_count": 4,
   "id": "parallel-kentucky",
   "metadata": {},
   "outputs": [
    {
     "name": "stdout",
     "output_type": "stream",
     "text": [
      "{'statusCode': 200, 'headers': {'Access-Control-Allow-Origin': '*'}, 'body': '{\"statusCode\": 200, \"MZ56axFJHPfP8aJBbW2pRJ\": {\"status\": \"Success\", \"statusCode\": 200, \"reason\": \"Successfully wrote NYM identified by MZ56axFJHPfP8aJBbW2pRJ to the ledger with role ENDORSER\"}}'}\n",
      "200\n"
     ]
    }
   ],
   "source": [
    "# write new DID to Sovrin Stagingnet\n",
    "import requests\n",
    "import json \n",
    "\n",
    "url = 'https://selfserve.sovrin.org/nym'\n",
    "\n",
    "payload = {\"network\":\"stagingnet\",\"did\": did_object[\"did\"],\"verkey\":did_object[\"verkey\"],\"paymentaddr\":\"\"}\n",
    "\n",
    "# Adding empty header as parameters are being sent in payload\n",
    "headers = {}\n",
    "\n",
    "r = requests.post(url, data=json.dumps(payload), headers=headers)\n",
    "print(r.json())\n",
    "print(r.status_code)"
   ]
  },
  {
   "cell_type": "markdown",
   "id": "champion-sculpture",
   "metadata": {},
   "source": [
    "## Accept Transaction Author Agreement"
   ]
  },
  {
   "cell_type": "code",
   "execution_count": 5,
   "id": "three-handy",
   "metadata": {},
   "outputs": [
    {
     "name": "stdout",
     "output_type": "stream",
     "text": [
      "{}\n"
     ]
    }
   ],
   "source": [
    "response = await agent_controller.ledger.get_taa()\n",
    "TAA_text = response['result']['taa_record']['text']\n",
    "TAA_version = response['result']['taa_record']['version']\n",
    "TAA_digest = response['result']['taa_record']['digest']\n",
    "\n",
    "\n",
    "taa_record = {\n",
    "            \"version\": TAA_version,\n",
    "            \"mechanism\": \"service_agreement\",\n",
    "            'text': TAA_text\n",
    "}\n",
    "\n",
    "response = await agent_controller.ledger.accept_taa(taa_record)\n",
    "## Will return {} if successful\n",
    "print(response)"
   ]
  },
  {
   "cell_type": "markdown",
   "id": "native-setup",
   "metadata": {},
   "source": [
    "## Assign public DID"
   ]
  },
  {
   "cell_type": "code",
   "execution_count": 6,
   "id": "orange-zealand",
   "metadata": {},
   "outputs": [
    {
     "name": "stdout",
     "output_type": "stream",
     "text": [
      "{'result': {'did': 'MZ56axFJHPfP8aJBbW2pRJ', 'verkey': 'CCihkGC3uvqHvEw5CzrnCbGp8LmRGcchXdNiVNnSpKig', 'posture': 'public'}}\n"
     ]
    }
   ],
   "source": [
    "response = await agent_controller.wallet.assign_public_did(did_object[\"did\"])\n",
    "print(response)"
   ]
  },
  {
   "cell_type": "markdown",
   "id": "processed-poetry",
   "metadata": {},
   "source": [
    "### Optional Write Schema\n",
    "\n",
    "You will need to change the proof request configuration for hosptials if you do this."
   ]
  },
  {
   "cell_type": "code",
   "execution_count": 7,
   "id": "appointed-disease",
   "metadata": {},
   "outputs": [],
   "source": [
    "\n",
    "# Or feel free to define your own schema\n",
    "\n",
    "# Define you schema name - must be unique on the ledger\n",
    "# schema_name = \"Authorised Research\"\n",
    "# # Can version the schema if you wish to update it\n",
    "# schema_version = \"0.0.1\"\n",
    "# # Define any list of attributes you wish to include in your schema\n",
    "# attributes = [\"scope\"]\n",
    "\n",
    "# response = await agent_controller.schema.write_schema(schema_name, attributes, schema_version)\n",
    "# schema_id = response[\"schema_id\"]\n",
    "# print(schema_id)"
   ]
  },
  {
   "cell_type": "code",
   "execution_count": 8,
   "id": "clear-infrastructure",
   "metadata": {},
   "outputs": [],
   "source": [
    "schema_id = \"FWyJ74b38bCF1QbYF7tWMM:2:Authorised Research:0.0.1\"\n",
    "response = await agent_controller.definitions.write_cred_def(schema_id)\n",
    "cred_def_id = response[\"credential_definition_id\"]"
   ]
  },
  {
   "cell_type": "markdown",
   "id": "olympic-thesis",
   "metadata": {},
   "source": [
    "## Register Listeners\n",
    "\n",
    "These handlers ensure that whoever connects to this agent automatically get's issued a credential for the scope of diabetes. Clearly in the real world a more thorough application and research regulation process would be enforced here."
   ]
  },
  {
   "cell_type": "code",
   "execution_count": 9,
   "id": "informed-provincial",
   "metadata": {},
   "outputs": [],
   "source": [
    "loop = asyncio.get_event_loop()\n",
    "loop.create_task(agent_controller.listen_webhooks())\n",
    "\n",
    "def cred_handler(payload):\n",
    "    print(\"Handle Credentials\")\n",
    "    exchange_id = payload['credential_exchange_id']\n",
    "    state = payload['state']\n",
    "    role = payload['role']\n",
    "    attributes = payload['credential_proposal_dict']['credential_proposal']['attributes']\n",
    "    print(f\"Credential exchange {exchange_id}, role: {role}, state: {state}\")\n",
    "    print(f\"Offering: {attributes}\")\n",
    "    \n",
    "cred_listener = {\n",
    "    \"topic\": \"issue_credential\",\n",
    "    \"handler\": cred_handler\n",
    "}\n",
    "\n",
    "def connections_handler(payload):\n",
    "    global STATE\n",
    "    connection_id = payload[\"connection_id\"]\n",
    "    print(\"Connection message\", payload, connection_id)\n",
    "    STATE = payload['state']\n",
    "    loop = asyncio.get_event_loop()\n",
    "    if STATE == 'request':\n",
    "        print(\"ACCEPTING REQUEST\")\n",
    "\n",
    "        loop.run_until_complete(agent_controller.connections.accept_request(connection_id))\n",
    "    elif STATE == 'response':\n",
    "        print(\"SEND PING\")\n",
    "        time.sleep(2)\n",
    "        loop.run_until_complete(agent_controller.messaging.trust_ping(connection_id, \"hey\"))\n",
    "    elif STATE == 'active':\n",
    "#         print('Connection {0} changed state to active'.format(connection_id))\n",
    "        print(colored(\"Connection {0} changed state to active\".format(connection_id), \"red\", attrs=[\"bold\"]))\n",
    "        credential_attributes = [{\"name\": \"scope\", \"value\": \"diabetes\"}]\n",
    "        ## Offer credential\n",
    "        time.sleep(1)\n",
    "        loop.run_until_complete(agent_controller.issuer.send_credential(connection_id, schema_id, cred_def_id, credential_attributes, trace=False))\n",
    "\n",
    "connection_listener = {\n",
    "    \"handler\": connections_handler,\n",
    "    \"topic\": \"connections\"\n",
    "}\n",
    "\n",
    "agent_controller.register_listeners([cred_listener,connection_listener], defaults=True)"
   ]
  },
  {
   "cell_type": "code",
   "execution_count": 10,
   "id": "bound-japanese",
   "metadata": {},
   "outputs": [
    {
     "name": "stdout",
     "output_type": "stream",
     "text": [
      "Connection message {'initiator': 'self', 'updated_at': '2021-02-19 14:46:37.337482Z', 'invitation_key': '5JEH56xJaB9DGQ2DNTBDMjmvFqV58vKnU1p2WdFndwo1', 'created_at': '2021-02-19 14:46:37.337482Z', 'invitation_mode': 'multi', 'connection_id': 'f8f5ed59-6455-412b-8218-bf536a24efe4', 'accept': 'manual', 'state': 'invitation', 'routing_state': 'none'} f8f5ed59-6455-412b-8218-bf536a24efe4\n",
      "{'@type': 'did:sov:BzCbsNYhMrjHiqZDTUASHg;spec/connections/1.0/invitation', '@id': 'a96950af-88b8-49a6-be0a-35f8b808caab', 'serviceEndpoint': 'http://172.17.0.1:8030', 'label': 'NHS Health Research Authority', 'recipientKeys': ['5JEH56xJaB9DGQ2DNTBDMjmvFqV58vKnU1p2WdFndwo1']}\n",
      "Connection message {'my_did': '9ik3V7j25g27MF6GQWzXiD', 'initiator': 'multiuse', 'updated_at': '2021-02-19 14:47:20.028408Z', 'invitation_key': '5JEH56xJaB9DGQ2DNTBDMjmvFqV58vKnU1p2WdFndwo1', 'created_at': '2021-02-19 14:47:20.028408Z', 'invitation_mode': 'once', 'connection_id': 'c5bdb6a4-d367-4c8a-ae23-3f5be2c72a72', 'accept': 'manual', 'state': 'invitation', 'routing_state': 'none'} c5bdb6a4-d367-4c8a-ae23-3f5be2c72a72\n",
      "Connection message {'my_did': '9ik3V7j25g27MF6GQWzXiD', 'initiator': 'multiuse', 'updated_at': '2021-02-19 14:47:20.039926Z', 'invitation_key': '5JEH56xJaB9DGQ2DNTBDMjmvFqV58vKnU1p2WdFndwo1', 'created_at': '2021-02-19 14:47:20.028408Z', 'invitation_mode': 'once', 'connection_id': 'c5bdb6a4-d367-4c8a-ae23-3f5be2c72a72', 'their_did': 'GPuks4W4pKmqa7p73hiXNC', 'their_label': 'Health Researcher', 'accept': 'manual', 'state': 'request', 'routing_state': 'none'} c5bdb6a4-d367-4c8a-ae23-3f5be2c72a72\n",
      "ACCEPTING REQUEST\n",
      "Connection message {'my_did': '9ik3V7j25g27MF6GQWzXiD', 'initiator': 'multiuse', 'updated_at': '2021-02-19 14:47:20.064808Z', 'invitation_key': '5JEH56xJaB9DGQ2DNTBDMjmvFqV58vKnU1p2WdFndwo1', 'created_at': '2021-02-19 14:47:20.028408Z', 'invitation_mode': 'once', 'connection_id': 'c5bdb6a4-d367-4c8a-ae23-3f5be2c72a72', 'their_did': 'GPuks4W4pKmqa7p73hiXNC', 'their_label': 'Health Researcher', 'accept': 'manual', 'state': 'response', 'routing_state': 'none'} c5bdb6a4-d367-4c8a-ae23-3f5be2c72a72\n",
      "SEND PING\n",
      "Connection message {'my_did': '9ik3V7j25g27MF6GQWzXiD', 'initiator': 'multiuse', 'updated_at': '2021-02-19 14:47:22.212229Z', 'invitation_key': '5JEH56xJaB9DGQ2DNTBDMjmvFqV58vKnU1p2WdFndwo1', 'created_at': '2021-02-19 14:47:20.028408Z', 'invitation_mode': 'once', 'connection_id': 'c5bdb6a4-d367-4c8a-ae23-3f5be2c72a72', 'their_did': 'GPuks4W4pKmqa7p73hiXNC', 'their_label': 'Health Researcher', 'accept': 'manual', 'state': 'active', 'routing_state': 'none'} c5bdb6a4-d367-4c8a-ae23-3f5be2c72a72\n",
      "\u001b[1m\u001b[31mConnection c5bdb6a4-d367-4c8a-ae23-3f5be2c72a72 changed state to active\u001b[0m\n",
      "Handle Credentials\n",
      "Credential exchange ce63a806-fc37-45bd-a807-578a8021495e, role: issuer, state: offer_sent\n",
      "Offering: [{'name': 'scope', 'value': 'diabetes'}]\n",
      "Handle Credentials\n",
      "Credential exchange ce63a806-fc37-45bd-a807-578a8021495e, role: issuer, state: request_received\n",
      "Offering: [{'name': 'scope', 'value': 'diabetes'}]\n",
      "Handle Credentials\n",
      "Credential exchange ce63a806-fc37-45bd-a807-578a8021495e, role: issuer, state: credential_issued\n",
      "Offering: [{'name': 'scope', 'value': 'diabetes'}]\n",
      "Handle Credentials\n",
      "Credential exchange ce63a806-fc37-45bd-a807-578a8021495e, role: issuer, state: credential_acked\n",
      "Offering: [{'name': 'scope', 'value': 'diabetes'}]\n"
     ]
    }
   ],
   "source": [
    "invite = await agent_controller.connections.create_invitation(multi_use=\"true\")\n",
    "print(invite['invitation'])"
   ]
  },
  {
   "cell_type": "code",
   "execution_count": null,
   "id": "superb-bankruptcy",
   "metadata": {},
   "outputs": [],
   "source": [
    "await agent_controller.terminate()"
   ]
  }
 ],
 "metadata": {
  "kernelspec": {
   "display_name": "Python 3",
   "language": "python",
   "name": "python3"
  },
  "language_info": {
   "codemirror_mode": {
    "name": "ipython",
    "version": 3
   },
   "file_extension": ".py",
   "mimetype": "text/x-python",
   "name": "python",
   "nbconvert_exporter": "python",
   "pygments_lexer": "ipython3",
   "version": "3.7.6"
  }
 },
 "nbformat": 4,
 "nbformat_minor": 5
}
