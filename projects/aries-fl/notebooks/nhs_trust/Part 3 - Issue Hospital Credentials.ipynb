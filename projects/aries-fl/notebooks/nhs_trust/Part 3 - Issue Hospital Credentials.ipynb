{
 "cells": [
  {
   "cell_type": "markdown",
   "metadata": {},
   "source": [
    "# Issue Hospital Credentials\n",
    "## Role: NHS Trust\n",
    "\n",
    "You should have initialised your NHS Trust agent so that it has the public keys necessary to issue Hospital credentials.\n",
    "\n",
    "In this notebook you will connect with each of the hospital agents and issue them a Verifiable Credential attesting that they are a hospital within your Trust."
   ]
  },
  {
   "cell_type": "code",
   "execution_count": 1,
   "metadata": {},
   "outputs": [
    {
     "name": "stdout",
     "output_type": "stream",
     "text": [
      "IPython autoawait is `on`, and set to use `asyncio`\n"
     ]
    }
   ],
   "source": [
    "%autoawait\n",
    "import time\n",
    "import asyncio\n",
    "from aries_basic_controller.aries_controller import AriesAgentController\n",
    "import nest_asyncio\n",
    "from termcolor import colored, cprint\n",
    "\n",
    "nest_asyncio.apply()\n",
    "WEBHOOK_HOST = \"0.0.0.0\"\n",
    "WEBHOOK_BASE = \"\"\n",
    "\n",
    "WEBHOOK_PORT = 8022\n",
    "ADMIN_URL = \"http://nhstrust-agent:8021\"\n",
    "\n",
    "# Based on the aca-py agent you wish to control\n",
    "agent_controller = AriesAgentController(webhook_host=WEBHOOK_HOST, webhook_port=WEBHOOK_PORT,\n",
    "                                       webhook_base=WEBHOOK_BASE, admin_url=ADMIN_URL)"
   ]
  },
  {
   "cell_type": "markdown",
   "metadata": {},
   "source": [
    "## Fetch Schema and Cred Def ID's"
   ]
  },
  {
   "cell_type": "code",
   "execution_count": 2,
   "metadata": {},
   "outputs": [
    {
     "name": "stdout",
     "output_type": "stream",
     "text": [
      "RiUq77qGfmFmAHxj1NQcSY:3:CL:156569:default\n"
     ]
    }
   ],
   "source": [
    "%store -r cred_def_id\n",
    "%store -r schema_id\n",
    "print(cred_def_id)"
   ]
  },
  {
   "cell_type": "markdown",
   "metadata": {},
   "source": [
    "## Register Listeners"
   ]
  },
  {
   "cell_type": "code",
   "execution_count": 3,
   "metadata": {},
   "outputs": [],
   "source": [
    "loop = asyncio.get_event_loop()\n",
    "loop.create_task(agent_controller.listen_webhooks())\n",
    "\n",
    "def cred_handler(payload):\n",
    "    print(\"Handle Credentials\")\n",
    "    exchange_id = payload['credential_exchange_id']\n",
    "    state = payload['state']\n",
    "    role = payload['role']\n",
    "    attributes = payload['credential_proposal_dict']['credential_proposal']['attributes']\n",
    "    print(f\"Credential exchange {exchange_id}, role: {role}, state: {state}\")\n",
    "    print(f\"Offering: {attributes}\")\n",
    "    \n",
    "cred_listener = {\n",
    "    \"topic\": \"issue_credential\",\n",
    "    \"handler\": cred_handler\n",
    "}\n",
    "\n",
    "def connections_handler(payload):\n",
    "    global STATE\n",
    "    connection_id = payload[\"connection_id\"]\n",
    "    print(\"Connection message\", payload, connection_id)\n",
    "    STATE = payload['state']\n",
    "    loop = asyncio.get_event_loop()\n",
    "    if STATE == 'request':\n",
    "        print(\"ACCEPTING REQUEST\")\n",
    "\n",
    "        loop.run_until_complete(agent_controller.connections.accept_request(connection_id))\n",
    "    elif STATE == 'response':\n",
    "        print(\"SEND PING\")\n",
    "        time.sleep(2)\n",
    "        loop.run_until_complete(agent_controller.messaging.trust_ping(connection_id, \"hey\"))\n",
    "    elif STATE == 'active':\n",
    "#         print('Connection {0} changed state to active'.format(connection_id))\n",
    "        print(colored(\"Connection {0} changed state to active\".format(connection_id), \"red\", attrs=[\"bold\"]))\n",
    "        credential_attributes = [{\"name\": \"name\", \"value\": payload[\"their_label\"]}]\n",
    "        ## Offer credential\n",
    "        time.sleep(1)\n",
    "        loop.run_until_complete(agent_controller.issuer.send_credential(connection_id, schema_id, cred_def_id, credential_attributes, trace=False))\n",
    "\n",
    "connection_listener = {\n",
    "    \"handler\": connections_handler,\n",
    "    \"topic\": \"connections\"\n",
    "}\n",
    "\n",
    "agent_controller.register_listeners([cred_listener,connection_listener], defaults=True)\n"
   ]
  },
  {
   "cell_type": "code",
   "execution_count": 6,
   "metadata": {
    "scrolled": true
   },
   "outputs": [
    {
     "name": "stdout",
     "output_type": "stream",
     "text": [
      "Connection message {'routing_state': 'none', 'connection_id': 'e440806a-b642-461f-8c0d-613e310fe12d', 'updated_at': '2021-02-01 17:29:37.439682Z', 'initiator': 'self', 'invitation_key': 'E6rysFzG3TNo3Hz2ZdLqswA92TPgbdm7DUSuYyMzEuPh', 'created_at': '2021-02-01 17:29:37.439682Z', 'accept': 'manual', 'invitation_mode': 'multi', 'state': 'invitation'} e440806a-b642-461f-8c0d-613e310fe12d\n",
      "{'@type': 'did:sov:BzCbsNYhMrjHiqZDTUASHg;spec/connections/1.0/invitation', '@id': '21aaaf46-7526-448e-a692-1becf370e820', 'label': 'NHS Lothian', 'serviceEndpoint': 'http://172.17.0.1:8020', 'recipientKeys': ['E6rysFzG3TNo3Hz2ZdLqswA92TPgbdm7DUSuYyMzEuPh']}\n",
      "Connection message {'routing_state': 'none', 'connection_id': 'f0cb0935-a876-4dff-b7e7-d17fc016a4db', 'updated_at': '2021-02-01 17:29:48.199310Z', 'initiator': 'multiuse', 'invitation_key': 'E6rysFzG3TNo3Hz2ZdLqswA92TPgbdm7DUSuYyMzEuPh', 'my_did': '6im2Tid3F2uBR7aTUDujWz', 'created_at': '2021-02-01 17:29:48.199310Z', 'accept': 'manual', 'invitation_mode': 'once', 'state': 'invitation'} f0cb0935-a876-4dff-b7e7-d17fc016a4db\n",
      "Connection message {'routing_state': 'none', 'connection_id': 'f0cb0935-a876-4dff-b7e7-d17fc016a4db', 'updated_at': '2021-02-01 17:29:48.212964Z', 'their_did': 'Gknk5iKHzdZGcY3FjeFyPN', 'their_label': 'Royal Infirmary of Edinburgh', 'initiator': 'multiuse', 'invitation_key': 'E6rysFzG3TNo3Hz2ZdLqswA92TPgbdm7DUSuYyMzEuPh', 'my_did': '6im2Tid3F2uBR7aTUDujWz', 'created_at': '2021-02-01 17:29:48.199310Z', 'accept': 'manual', 'invitation_mode': 'once', 'state': 'request'} f0cb0935-a876-4dff-b7e7-d17fc016a4db\n",
      "ACCEPTING REQUEST\n",
      "Connection message {'routing_state': 'none', 'connection_id': 'f0cb0935-a876-4dff-b7e7-d17fc016a4db', 'updated_at': '2021-02-01 17:29:48.234625Z', 'their_did': 'Gknk5iKHzdZGcY3FjeFyPN', 'their_label': 'Royal Infirmary of Edinburgh', 'initiator': 'multiuse', 'invitation_key': 'E6rysFzG3TNo3Hz2ZdLqswA92TPgbdm7DUSuYyMzEuPh', 'my_did': '6im2Tid3F2uBR7aTUDujWz', 'created_at': '2021-02-01 17:29:48.199310Z', 'accept': 'manual', 'invitation_mode': 'once', 'state': 'response'} f0cb0935-a876-4dff-b7e7-d17fc016a4db\n",
      "SEND PING\n",
      "Connection message {'routing_state': 'none', 'connection_id': 'f0cb0935-a876-4dff-b7e7-d17fc016a4db', 'updated_at': '2021-02-01 17:29:50.335103Z', 'their_did': 'Gknk5iKHzdZGcY3FjeFyPN', 'their_label': 'Royal Infirmary of Edinburgh', 'initiator': 'multiuse', 'invitation_key': 'E6rysFzG3TNo3Hz2ZdLqswA92TPgbdm7DUSuYyMzEuPh', 'my_did': '6im2Tid3F2uBR7aTUDujWz', 'created_at': '2021-02-01 17:29:48.199310Z', 'accept': 'manual', 'invitation_mode': 'once', 'state': 'active'} f0cb0935-a876-4dff-b7e7-d17fc016a4db\n",
      "\u001b[1m\u001b[31mConnection f0cb0935-a876-4dff-b7e7-d17fc016a4db changed state to active\u001b[0m\n",
      "Handle Credentials\n",
      "Credential exchange be3506a1-550e-4180-8826-74e486718e2b, role: issuer, state: offer_sent\n",
      "Offering: [{'name': 'name', 'value': 'Royal Infirmary of Edinburgh'}]\n",
      "Handle Credentials\n",
      "Credential exchange be3506a1-550e-4180-8826-74e486718e2b, role: issuer, state: request_received\n",
      "Offering: [{'name': 'name', 'value': 'Royal Infirmary of Edinburgh'}]\n",
      "Handle Credentials\n",
      "Credential exchange be3506a1-550e-4180-8826-74e486718e2b, role: issuer, state: credential_issued\n",
      "Offering: [{'name': 'name', 'value': 'Royal Infirmary of Edinburgh'}]\n",
      "Handle Credentials\n",
      "Credential exchange be3506a1-550e-4180-8826-74e486718e2b, role: issuer, state: credential_acked\n",
      "Offering: [{'name': 'name', 'value': 'Royal Infirmary of Edinburgh'}]\n",
      "Connection message {'routing_state': 'none', 'connection_id': 'deb5794e-685e-4ca2-b251-77dd487a83dd', 'updated_at': '2021-02-01 18:21:25.890909Z', 'initiator': 'multiuse', 'invitation_key': 'E6rysFzG3TNo3Hz2ZdLqswA92TPgbdm7DUSuYyMzEuPh', 'my_did': 'Ruyu6eHEY76E8gVfdufVtN', 'created_at': '2021-02-01 18:21:25.890909Z', 'accept': 'manual', 'invitation_mode': 'once', 'state': 'invitation'} deb5794e-685e-4ca2-b251-77dd487a83dd\n",
      "Connection message {'routing_state': 'none', 'connection_id': 'deb5794e-685e-4ca2-b251-77dd487a83dd', 'updated_at': '2021-02-01 18:21:25.903602Z', 'their_did': '667yqSxCYbmQLdD2TzpGGY', 'their_label': 'Royal Infirmary of Edinburgh', 'initiator': 'multiuse', 'invitation_key': 'E6rysFzG3TNo3Hz2ZdLqswA92TPgbdm7DUSuYyMzEuPh', 'my_did': 'Ruyu6eHEY76E8gVfdufVtN', 'created_at': '2021-02-01 18:21:25.890909Z', 'accept': 'manual', 'invitation_mode': 'once', 'state': 'request'} deb5794e-685e-4ca2-b251-77dd487a83dd\n",
      "ACCEPTING REQUEST\n",
      "Connection message {'routing_state': 'none', 'connection_id': 'deb5794e-685e-4ca2-b251-77dd487a83dd', 'updated_at': '2021-02-01 18:21:25.924648Z', 'their_did': '667yqSxCYbmQLdD2TzpGGY', 'their_label': 'Royal Infirmary of Edinburgh', 'initiator': 'multiuse', 'invitation_key': 'E6rysFzG3TNo3Hz2ZdLqswA92TPgbdm7DUSuYyMzEuPh', 'my_did': 'Ruyu6eHEY76E8gVfdufVtN', 'created_at': '2021-02-01 18:21:25.890909Z', 'accept': 'manual', 'invitation_mode': 'once', 'state': 'response'} deb5794e-685e-4ca2-b251-77dd487a83dd\n",
      "SEND PING\n",
      "Connection message {'routing_state': 'none', 'connection_id': 'deb5794e-685e-4ca2-b251-77dd487a83dd', 'updated_at': '2021-02-01 18:21:28.014067Z', 'their_did': '667yqSxCYbmQLdD2TzpGGY', 'their_label': 'Royal Infirmary of Edinburgh', 'initiator': 'multiuse', 'invitation_key': 'E6rysFzG3TNo3Hz2ZdLqswA92TPgbdm7DUSuYyMzEuPh', 'my_did': 'Ruyu6eHEY76E8gVfdufVtN', 'created_at': '2021-02-01 18:21:25.890909Z', 'accept': 'manual', 'invitation_mode': 'once', 'state': 'active'} deb5794e-685e-4ca2-b251-77dd487a83dd\n",
      "\u001b[1m\u001b[31mConnection deb5794e-685e-4ca2-b251-77dd487a83dd changed state to active\u001b[0m\n",
      "Handle Credentials\n",
      "Credential exchange c8109a41-bde4-4322-b860-21b09cb65751, role: issuer, state: offer_sent\n",
      "Offering: [{'name': 'name', 'value': 'Royal Infirmary of Edinburgh'}]\n",
      "Handle Credentials\n",
      "Credential exchange c8109a41-bde4-4322-b860-21b09cb65751, role: issuer, state: request_received\n",
      "Offering: [{'name': 'name', 'value': 'Royal Infirmary of Edinburgh'}]\n",
      "Handle Credentials\n",
      "Credential exchange c8109a41-bde4-4322-b860-21b09cb65751, role: issuer, state: credential_issued\n",
      "Offering: [{'name': 'name', 'value': 'Royal Infirmary of Edinburgh'}]\n",
      "Handle Credentials\n",
      "Credential exchange c8109a41-bde4-4322-b860-21b09cb65751, role: issuer, state: credential_acked\n",
      "Offering: [{'name': 'name', 'value': 'Royal Infirmary of Edinburgh'}]\n"
     ]
    }
   ],
   "source": [
    "invite = await agent_controller.connections.create_invitation(multi_use=\"true\")\n",
    "print(invite['invitation'])"
   ]
  },
  {
   "cell_type": "code",
   "execution_count": null,
   "metadata": {},
   "outputs": [],
   "source": [
    "await agent_controller.terminate()"
   ]
  },
  {
   "cell_type": "code",
   "execution_count": null,
   "metadata": {},
   "outputs": [],
   "source": []
  }
 ],
 "metadata": {
  "kernelspec": {
   "display_name": "Python 3",
   "language": "python",
   "name": "python3"
  },
  "language_info": {
   "codemirror_mode": {
    "name": "ipython",
    "version": 3
   },
   "file_extension": ".py",
   "mimetype": "text/x-python",
   "name": "python",
   "nbconvert_exporter": "python",
   "pygments_lexer": "ipython3",
   "version": "3.7.6"
  }
 },
 "nbformat": 4,
 "nbformat_minor": 4
}
