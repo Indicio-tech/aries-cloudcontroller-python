{
 "cells": [
  {
   "cell_type": "markdown",
   "metadata": {},
   "source": [
    "# Issue Hospital Credentials\n",
    "## Role: NHS Trust\n",
    "\n",
    "You should have initialised your NHS Trust agent so that it has the public keys necessary to issue Hospital credentials.\n",
    "\n",
    "In this notebook you will connect with each of the hospital agents and issue them a Verifiable Credential attesting that they are a hospital within your Trust."
   ]
  },
  {
   "cell_type": "code",
   "execution_count": 1,
   "metadata": {},
   "outputs": [
    {
     "name": "stdout",
     "output_type": "stream",
     "text": [
      "IPython autoawait is `on`, and set to use `asyncio`\n"
     ]
    }
   ],
   "source": [
    "%autoawait\n",
    "import time\n",
    "import asyncio\n",
    "from aries_basic_controller.aries_controller import AriesAgentController\n",
    "import nest_asyncio\n",
    "from termcolor import colored, cprint\n",
    "\n",
    "nest_asyncio.apply()\n",
    "WEBHOOK_HOST = \"0.0.0.0\"\n",
    "WEBHOOK_BASE = \"\"\n",
    "\n",
    "WEBHOOK_PORT = 8022\n",
    "ADMIN_URL = \"http://nhstrust-agent:8021\"\n",
    "\n",
    "# Based on the aca-py agent you wish to control\n",
    "agent_controller = AriesAgentController(webhook_host=WEBHOOK_HOST, webhook_port=WEBHOOK_PORT,\n",
    "                                       webhook_base=WEBHOOK_BASE, admin_url=ADMIN_URL)"
   ]
  },
  {
   "cell_type": "markdown",
   "metadata": {},
   "source": [
    "## Fetch Schema and Cred Def ID's"
   ]
  },
  {
   "cell_type": "code",
   "execution_count": 2,
   "metadata": {},
   "outputs": [
    {
     "name": "stdout",
     "output_type": "stream",
     "text": [
      "2rRvzQRmx8c8p4s1Demt4Z:3:CL:156569:default\n"
     ]
    }
   ],
   "source": [
    "%store -r cred_def_id\n",
    "%store -r schema_id\n",
    "print(cred_def_id)"
   ]
  },
  {
   "cell_type": "markdown",
   "metadata": {},
   "source": [
    "## Register Listeners"
   ]
  },
  {
   "cell_type": "code",
   "execution_count": 3,
   "metadata": {},
   "outputs": [],
   "source": [
    "loop = asyncio.get_event_loop()\n",
    "loop.create_task(agent_controller.listen_webhooks())\n",
    "\n",
    "def cred_handler(payload):\n",
    "    print(\"Handle Credentials\")\n",
    "    exchange_id = payload['credential_exchange_id']\n",
    "    state = payload['state']\n",
    "    role = payload['role']\n",
    "    attributes = payload['credential_proposal_dict']['credential_proposal']['attributes']\n",
    "    print(f\"Credential exchange {exchange_id}, role: {role}, state: {state}\")\n",
    "    print(f\"Offering: {attributes}\")\n",
    "    \n",
    "cred_listener = {\n",
    "    \"topic\": \"issue_credential\",\n",
    "    \"handler\": cred_handler\n",
    "}\n",
    "\n",
    "def connections_handler(payload):\n",
    "    global STATE\n",
    "    connection_id = payload[\"connection_id\"]\n",
    "    print(\"Connection message\", payload, connection_id)\n",
    "    STATE = payload['state']\n",
    "    loop = asyncio.get_event_loop()\n",
    "    if STATE == 'request':\n",
    "        print(\"ACCEPTING REQUEST\")\n",
    "\n",
    "        loop.run_until_complete(agent_controller.connections.accept_request(connection_id))\n",
    "    elif STATE == 'response':\n",
    "        print(\"SEND PING\")\n",
    "        time.sleep(2)\n",
    "        loop.run_until_complete(agent_controller.messaging.trust_ping(connection_id, \"hey\"))\n",
    "    elif STATE == 'active':\n",
    "#         print('Connection {0} changed state to active'.format(connection_id))\n",
    "        print(colored(\"Connection {0} changed state to active\".format(connection_id), \"red\", attrs=[\"bold\"]))\n",
    "        credential_attributes = [{\"name\": \"name\", \"value\": payload[\"their_label\"]}]\n",
    "        ## Offer credential\n",
    "        time.sleep(1)\n",
    "        loop.run_until_complete(agent_controller.issuer.send_credential(connection_id, schema_id, cred_def_id, credential_attributes, trace=False))\n",
    "\n",
    "connection_listener = {\n",
    "    \"handler\": connections_handler,\n",
    "    \"topic\": \"connections\"\n",
    "}\n",
    "\n",
    "agent_controller.register_listeners([cred_listener,connection_listener], defaults=True)\n"
   ]
  },
  {
   "cell_type": "code",
   "execution_count": 4,
   "metadata": {
    "scrolled": true
   },
   "outputs": [
    {
     "name": "stdout",
     "output_type": "stream",
     "text": [
      "Connection message {'created_at': '2021-02-19 14:43:44.501234Z', 'updated_at': '2021-02-19 14:43:44.501234Z', 'connection_id': '7b54b08f-5552-44ee-9072-6dca019c75d8', 'accept': 'manual', 'state': 'invitation', 'invitation_mode': 'multi', 'routing_state': 'none', 'invitation_key': '3oTpbDd1Z3V5gdqAdKPq87k1mhi39PKE8ikhgFUPbB55', 'initiator': 'self'} 7b54b08f-5552-44ee-9072-6dca019c75d8\n",
      "{'@type': 'did:sov:BzCbsNYhMrjHiqZDTUASHg;spec/connections/1.0/invitation', '@id': 'c70c44db-91b6-4b16-b100-a98e65cfae95', 'serviceEndpoint': 'http://172.17.0.1:8020', 'recipientKeys': ['3oTpbDd1Z3V5gdqAdKPq87k1mhi39PKE8ikhgFUPbB55'], 'label': 'NHS Lothian'}\n",
      "Connection message {'my_did': 'C9sDcSifkWcrGWNhx4eL2i', 'created_at': '2021-02-19 14:45:27.294763Z', 'updated_at': '2021-02-19 14:45:27.294763Z', 'connection_id': '173c4264-a5b0-4ac4-ac9e-32211027fa77', 'accept': 'manual', 'state': 'invitation', 'invitation_mode': 'once', 'routing_state': 'none', 'invitation_key': '3oTpbDd1Z3V5gdqAdKPq87k1mhi39PKE8ikhgFUPbB55', 'initiator': 'multiuse'} 173c4264-a5b0-4ac4-ac9e-32211027fa77\n",
      "Connection message {'my_did': 'C9sDcSifkWcrGWNhx4eL2i', 'created_at': '2021-02-19 14:45:27.294763Z', 'updated_at': '2021-02-19 14:45:27.307700Z', 'connection_id': '173c4264-a5b0-4ac4-ac9e-32211027fa77', 'accept': 'manual', 'state': 'request', 'invitation_mode': 'once', 'their_label': 'Royal Infirmary of Edinburgh', 'routing_state': 'none', 'invitation_key': '3oTpbDd1Z3V5gdqAdKPq87k1mhi39PKE8ikhgFUPbB55', 'initiator': 'multiuse', 'their_did': 'Xjy7XvDHQHLzbArXiTh5Hs'} 173c4264-a5b0-4ac4-ac9e-32211027fa77\n",
      "ACCEPTING REQUEST\n",
      "Connection message {'my_did': 'C9sDcSifkWcrGWNhx4eL2i', 'created_at': '2021-02-19 14:45:27.294763Z', 'updated_at': '2021-02-19 14:45:27.331802Z', 'connection_id': '173c4264-a5b0-4ac4-ac9e-32211027fa77', 'accept': 'manual', 'state': 'response', 'invitation_mode': 'once', 'their_label': 'Royal Infirmary of Edinburgh', 'routing_state': 'none', 'invitation_key': '3oTpbDd1Z3V5gdqAdKPq87k1mhi39PKE8ikhgFUPbB55', 'initiator': 'multiuse', 'their_did': 'Xjy7XvDHQHLzbArXiTh5Hs'} 173c4264-a5b0-4ac4-ac9e-32211027fa77\n",
      "SEND PING\n",
      "Connection message {'my_did': 'C9sDcSifkWcrGWNhx4eL2i', 'created_at': '2021-02-19 14:45:27.294763Z', 'updated_at': '2021-02-19 14:45:29.453877Z', 'connection_id': '173c4264-a5b0-4ac4-ac9e-32211027fa77', 'accept': 'manual', 'state': 'active', 'invitation_mode': 'once', 'their_label': 'Royal Infirmary of Edinburgh', 'routing_state': 'none', 'invitation_key': '3oTpbDd1Z3V5gdqAdKPq87k1mhi39PKE8ikhgFUPbB55', 'initiator': 'multiuse', 'their_did': 'Xjy7XvDHQHLzbArXiTh5Hs'} 173c4264-a5b0-4ac4-ac9e-32211027fa77\n",
      "\u001b[1m\u001b[31mConnection 173c4264-a5b0-4ac4-ac9e-32211027fa77 changed state to active\u001b[0m\n",
      "Handle Credentials\n",
      "Credential exchange 0cb7baa6-2a8e-4a10-b18f-118948ea2c4e, role: issuer, state: offer_sent\n",
      "Offering: [{'name': 'name', 'value': 'Royal Infirmary of Edinburgh'}]\n",
      "Handle Credentials\n",
      "Credential exchange 0cb7baa6-2a8e-4a10-b18f-118948ea2c4e, role: issuer, state: request_received\n",
      "Offering: [{'name': 'name', 'value': 'Royal Infirmary of Edinburgh'}]\n",
      "Handle Credentials\n",
      "Credential exchange 0cb7baa6-2a8e-4a10-b18f-118948ea2c4e, role: issuer, state: credential_issued\n",
      "Offering: [{'name': 'name', 'value': 'Royal Infirmary of Edinburgh'}]\n",
      "Handle Credentials\n",
      "Credential exchange 0cb7baa6-2a8e-4a10-b18f-118948ea2c4e, role: issuer, state: credential_acked\n",
      "Offering: [{'name': 'name', 'value': 'Royal Infirmary of Edinburgh'}]\n",
      "Connection message {'my_did': 'SJUVHFbe7AFQHKX7sakGCf', 'created_at': '2021-02-19 14:46:02.464552Z', 'updated_at': '2021-02-19 14:46:02.464552Z', 'connection_id': '13225474-62c8-4a41-897f-673519590f54', 'accept': 'manual', 'state': 'invitation', 'invitation_mode': 'once', 'routing_state': 'none', 'invitation_key': '3oTpbDd1Z3V5gdqAdKPq87k1mhi39PKE8ikhgFUPbB55', 'initiator': 'multiuse'} 13225474-62c8-4a41-897f-673519590f54\n",
      "Connection message {'my_did': 'SJUVHFbe7AFQHKX7sakGCf', 'created_at': '2021-02-19 14:46:02.464552Z', 'updated_at': '2021-02-19 14:46:02.477805Z', 'connection_id': '13225474-62c8-4a41-897f-673519590f54', 'accept': 'manual', 'state': 'request', 'invitation_mode': 'once', 'their_label': 'Royal Edinburgh Hospital', 'routing_state': 'none', 'invitation_key': '3oTpbDd1Z3V5gdqAdKPq87k1mhi39PKE8ikhgFUPbB55', 'initiator': 'multiuse', 'their_did': 'EqZ9yHEmgiwtbvYzhXHV5o'} 13225474-62c8-4a41-897f-673519590f54\n",
      "ACCEPTING REQUEST\n",
      "Connection message {'my_did': 'SJUVHFbe7AFQHKX7sakGCf', 'created_at': '2021-02-19 14:46:02.464552Z', 'updated_at': '2021-02-19 14:46:02.501420Z', 'connection_id': '13225474-62c8-4a41-897f-673519590f54', 'accept': 'manual', 'state': 'response', 'invitation_mode': 'once', 'their_label': 'Royal Edinburgh Hospital', 'routing_state': 'none', 'invitation_key': '3oTpbDd1Z3V5gdqAdKPq87k1mhi39PKE8ikhgFUPbB55', 'initiator': 'multiuse', 'their_did': 'EqZ9yHEmgiwtbvYzhXHV5o'} 13225474-62c8-4a41-897f-673519590f54\n",
      "SEND PING\n",
      "Connection message {'my_did': 'SJUVHFbe7AFQHKX7sakGCf', 'created_at': '2021-02-19 14:46:02.464552Z', 'updated_at': '2021-02-19 14:46:04.561569Z', 'connection_id': '13225474-62c8-4a41-897f-673519590f54', 'accept': 'manual', 'state': 'active', 'invitation_mode': 'once', 'their_label': 'Royal Edinburgh Hospital', 'routing_state': 'none', 'invitation_key': '3oTpbDd1Z3V5gdqAdKPq87k1mhi39PKE8ikhgFUPbB55', 'initiator': 'multiuse', 'their_did': 'EqZ9yHEmgiwtbvYzhXHV5o'} 13225474-62c8-4a41-897f-673519590f54\n",
      "\u001b[1m\u001b[31mConnection 13225474-62c8-4a41-897f-673519590f54 changed state to active\u001b[0m\n",
      "Handle Credentials\n",
      "Credential exchange 39e2fe11-c16b-4c76-8630-8a149c89a6c1, role: issuer, state: offer_sent\n",
      "Offering: [{'name': 'name', 'value': 'Royal Edinburgh Hospital'}]\n",
      "Handle Credentials\n",
      "Credential exchange 39e2fe11-c16b-4c76-8630-8a149c89a6c1, role: issuer, state: request_received\n",
      "Offering: [{'name': 'name', 'value': 'Royal Edinburgh Hospital'}]\n",
      "Handle Credentials\n",
      "Credential exchange 39e2fe11-c16b-4c76-8630-8a149c89a6c1, role: issuer, state: credential_issued\n",
      "Offering: [{'name': 'name', 'value': 'Royal Edinburgh Hospital'}]\n",
      "Handle Credentials\n",
      "Credential exchange 39e2fe11-c16b-4c76-8630-8a149c89a6c1, role: issuer, state: credential_acked\n",
      "Offering: [{'name': 'name', 'value': 'Royal Edinburgh Hospital'}]\n"
     ]
    }
   ],
   "source": [
    "invite = await agent_controller.connections.create_invitation(multi_use=\"true\")\n",
    "print(invite['invitation'])"
   ]
  },
  {
   "cell_type": "code",
   "execution_count": null,
   "metadata": {},
   "outputs": [],
   "source": [
    "await agent_controller.terminate()"
   ]
  },
  {
   "cell_type": "code",
   "execution_count": null,
   "metadata": {},
   "outputs": [],
   "source": []
  }
 ],
 "metadata": {
  "kernelspec": {
   "display_name": "Python 3",
   "language": "python",
   "name": "python3"
  },
  "language_info": {
   "codemirror_mode": {
    "name": "ipython",
    "version": 3
   },
   "file_extension": ".py",
   "mimetype": "text/x-python",
   "name": "python",
   "nbconvert_exporter": "python",
   "pygments_lexer": "ipython3",
   "version": "3.7.6"
  }
 },
 "nbformat": 4,
 "nbformat_minor": 4
}
