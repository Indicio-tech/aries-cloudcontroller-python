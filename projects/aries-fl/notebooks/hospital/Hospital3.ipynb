{
 "cells": [
  {
   "cell_type": "markdown",
   "id": "professional-coordination",
   "metadata": {},
   "source": [
    "# Hospital 3\n",
    "\n",
    "See hospital.py for full code"
   ]
  },
  {
   "cell_type": "code",
   "execution_count": 1,
   "id": "engaged-circulation",
   "metadata": {},
   "outputs": [],
   "source": [
    "from hospital import Hospital\n",
    "import nest_asyncio\n",
    "\n",
    "nest_asyncio.apply()"
   ]
  },
  {
   "cell_type": "code",
   "execution_count": 2,
   "id": "intense-vermont",
   "metadata": {},
   "outputs": [],
   "source": [
    "data_location = 'data/hospital3.csv'"
   ]
  },
  {
   "cell_type": "code",
   "execution_count": 3,
   "id": "hundred-vintage",
   "metadata": {},
   "outputs": [],
   "source": [
    "WEBHOOK_HOST = \"0.0.0.0\"\n",
    "WEBHOOK_PORT = 8072\n",
    "WEBHOOK_BASE = \"\"\n",
    "ADMIN_URL = \"http://hospital3-agent:8071\"\n",
    "\n",
    "agent_config = {\n",
    "    \"webhook_host\": WEBHOOK_HOST,\n",
    "    \"webhook_port\": WEBHOOK_PORT,\n",
    "    \"webhook_base\": WEBHOOK_BASE,\n",
    "    \"admin_url\": ADMIN_URL\n",
    "}"
   ]
  },
  {
   "cell_type": "code",
   "execution_count": 4,
   "id": "legislative-hybrid",
   "metadata": {},
   "outputs": [],
   "source": [
    "hospital3 = Hospital(agent_config, data_location)"
   ]
  },
  {
   "cell_type": "markdown",
   "id": "average-secondary",
   "metadata": {},
   "source": [
    "## Copy from Researcher"
   ]
  },
  {
   "cell_type": "code",
   "execution_count": 1,
   "id": "overhead-convert",
   "metadata": {},
   "outputs": [],
   "source": [
    "research_invite = {\"@type\": \"did:sov:BzCbsNYhMrjHiqZDTUASHg;spec/connections/1.0/invitation\", \"@id\": \"54baf2e7-ae11-4dbc-ad9f-8b961bef9f32\", \"serviceEndpoint\": \"http://172.30.144.131:8040\", \"label\": \"Health Researcher\", \"recipientKeys\": [\"2Lcoozuz6ALtAkQmU7rQsAcjTa4TztpXvMdjf1Z7A4Vh\"]}"
   ]
  },
  {
   "cell_type": "code",
   "execution_count": 2,
   "id": "large-chair",
   "metadata": {},
   "outputs": [
    {
     "ename": "NameError",
     "evalue": "name 'hospital3' is not defined",
     "output_type": "error",
     "traceback": [
      "\u001b[0;31m---------------------------------------------------------------------------\u001b[0m",
      "\u001b[0;31mNameError\u001b[0m                                 Traceback (most recent call last)",
      "\u001b[0;32m<ipython-input-2-f26fac8c1d3c>\u001b[0m in \u001b[0;36m<module>\u001b[0;34m\u001b[0m\n\u001b[0;32m----> 1\u001b[0;31m \u001b[0mhospital3\u001b[0m\u001b[0;34m.\u001b[0m\u001b[0mestablish_research_connection\u001b[0m\u001b[0;34m(\u001b[0m\u001b[0mresearch_invite\u001b[0m\u001b[0;34m)\u001b[0m\u001b[0;34m\u001b[0m\u001b[0;34m\u001b[0m\u001b[0m\n\u001b[0m",
      "\u001b[0;31mNameError\u001b[0m: name 'hospital3' is not defined"
     ]
    }
   ],
   "source": [
    "hospital3.establish_research_connection(research_invite)"
   ]
  },
  {
   "cell_type": "code",
   "execution_count": null,
   "id": "satisfactory-consumption",
   "metadata": {},
   "outputs": [],
   "source": []
  }
 ],
 "metadata": {
  "kernelspec": {
   "display_name": "Python 3",
   "language": "python",
   "name": "python3"
  },
  "language_info": {
   "codemirror_mode": {
    "name": "ipython",
    "version": 3
   },
   "file_extension": ".py",
   "mimetype": "text/x-python",
   "name": "python",
   "nbconvert_exporter": "python",
   "pygments_lexer": "ipython3",
   "version": "3.7.6"
  }
 },
 "nbformat": 4,
 "nbformat_minor": 5
}
