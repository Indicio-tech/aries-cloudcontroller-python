{
 "cells": [
  {
   "cell_type": "markdown",
   "id": "indoor-valley",
   "metadata": {},
   "source": [
    "# Hospital 1\n",
    "\n",
    "See hospital.py for full code"
   ]
  },
  {
   "cell_type": "code",
   "execution_count": 1,
   "id": "heated-typing",
   "metadata": {},
   "outputs": [],
   "source": [
    "from hospital import Hospital\n",
    "import nest_asyncio\n",
    "\n",
    "nest_asyncio.apply()"
   ]
  },
  {
   "cell_type": "code",
   "execution_count": 2,
   "id": "enclosed-webmaster",
   "metadata": {},
   "outputs": [],
   "source": [
    "data_location = 'data/hospital1.csv'"
   ]
  },
  {
   "cell_type": "code",
   "execution_count": 3,
   "id": "massive-envelope",
   "metadata": {},
   "outputs": [],
   "source": [
    "WEBHOOK_HOST = \"0.0.0.0\"\n",
    "WEBHOOK_PORT = 8052\n",
    "WEBHOOK_BASE = \"\"\n",
    "ADMIN_URL = \"http://hospital1-agent:8051\"\n",
    "\n",
    "agent_config = {\n",
    "    \"webhook_host\": WEBHOOK_HOST,\n",
    "    \"webhook_port\": WEBHOOK_PORT,\n",
    "    \"webhook_base\": WEBHOOK_BASE,\n",
    "    \"admin_url\": ADMIN_URL\n",
    "}"
   ]
  },
  {
   "cell_type": "code",
   "execution_count": 4,
   "id": "colonial-quebec",
   "metadata": {},
   "outputs": [],
   "source": [
    "hospital1 = Hospital(agent_config, data_location)"
   ]
  },
  {
   "cell_type": "markdown",
   "id": "demanding-advice",
   "metadata": {},
   "source": [
    "## Copy from Researcher"
   ]
  },
  {
   "cell_type": "code",
   "execution_count": 6,
   "id": "accepted-chamber",
   "metadata": {},
   "outputs": [],
   "source": [
    "research_invite = {\"@type\": \"did:sov:BzCbsNYhMrjHiqZDTUASHg;spec/connections/1.0/invitation\", \"@id\": \"06fa0413-825f-4600-8bec-a582e5d75acc\", \"label\": \"Health Researcher\", \"serviceEndpoint\": \"http://172.17.0.1:8040\", \"recipientKeys\": [\"HrC95BgohtYLsTHjn6g4UspCx8tWzviGAg7PbvnRWHjZ\"]}"
   ]
  },
  {
   "cell_type": "code",
   "execution_count": 7,
   "id": "magnetic-announcement",
   "metadata": {},
   "outputs": [
    {
     "name": "stdout",
     "output_type": "stream",
     "text": [
      "Connection Handler Called\n",
      "Connection b16c712d-640e-4948-8ac6-ac767f3cddc2 in State invitation\n",
      "Connection Handler Called\n",
      "Connection b16c712d-640e-4948-8ac6-ac767f3cddc2 in State request\n",
      "Connection Handler Called\n",
      "Connection b16c712d-640e-4948-8ac6-ac767f3cddc2 in State response\n",
      "Connection Handler Called\n",
      "Connection b16c712d-640e-4948-8ac6-ac767f3cddc2 in State active\n",
      "Pending connection moved to active. Challenging with auth policy if set\n",
      "Trusted Research Connection Established - b16c712d-640e-4948-8ac6-ac767f3cddc2\n",
      "ML Message from b16c712d-640e-4948-8ac6-ac767f3cddc2\n",
      "Open file\n",
      "learning\n",
      "untrained_model.pt\n",
      "HOSPITAL MODEL LOADED\n",
      "HOSPITAL IS TRAINING\n",
      "loss at epoch  0 :  tensor(0.2577)\n"
     ]
    },
    {
     "name": "stderr",
     "output_type": "stream",
     "text": [
      "/opt/conda/lib/python3.7/site-packages/torch/autograd/__init__.py:132: UserWarning: CUDA initialization: Found no NVIDIA driver on your system. Please check that you have an NVIDIA GPU and installed a driver from http://www.nvidia.com/Download/index.aspx (Triggered internally at  /pytorch/c10/cuda/CUDAFunctions.cpp:100.)\n",
      "  allow_unreachable=True)  # allow_unreachable flag\n"
     ]
    },
    {
     "name": "stdout",
     "output_type": "stream",
     "text": [
      "loss at epoch  5000 :  tensor(0.1234)\n",
      "loss at epoch  10000 :  tensor(0.1123)\n",
      "loss at epoch  15000 :  tensor(0.1070)\n",
      "loss at epoch  20000 :  tensor(0.1005)\n",
      "loss at epoch  25000 :  tensor(0.0970)\n",
      "loss at epoch  30000 :  tensor(0.0950)\n",
      "loss at epoch  35000 :  tensor(0.0935)\n",
      "loss at epoch  40000 :  tensor(0.0925)\n",
      "loss at epoch  45000 :  tensor(0.0917)\n",
      "Learnt \n",
      "Trained file open\n",
      "connection ID b16c712d-640e-4948-8ac6-ac767f3cddc2\n"
     ]
    }
   ],
   "source": [
    "hospital1.establish_research_connection(research_invite)"
   ]
  },
  {
   "cell_type": "code",
   "execution_count": null,
   "id": "assumed-password",
   "metadata": {},
   "outputs": [],
   "source": []
  }
 ],
 "metadata": {
  "kernelspec": {
   "display_name": "Python 3",
   "language": "python",
   "name": "python3"
  },
  "language_info": {
   "codemirror_mode": {
    "name": "ipython",
    "version": 3
   },
   "file_extension": ".py",
   "mimetype": "text/x-python",
   "name": "python",
   "nbconvert_exporter": "python",
   "pygments_lexer": "ipython3",
   "version": "3.8.5"
  }
 },
 "nbformat": 4,
 "nbformat_minor": 5
}
