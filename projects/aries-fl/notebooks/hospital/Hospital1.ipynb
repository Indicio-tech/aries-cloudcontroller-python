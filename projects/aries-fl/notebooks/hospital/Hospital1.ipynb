{
 "cells": [
  {
   "cell_type": "markdown",
   "id": "alive-sucking",
   "metadata": {},
   "source": [
    "# Hospital 1\n",
    "\n",
    "See hospital.py for full code"
   ]
  },
  {
   "cell_type": "code",
   "execution_count": 1,
   "id": "unnecessary-composite",
   "metadata": {},
   "outputs": [],
   "source": [
    "from hospital import Hospital\n",
    "import nest_asyncio\n",
    "\n",
    "nest_asyncio.apply()"
   ]
  },
  {
   "cell_type": "code",
   "execution_count": 2,
   "id": "changing-stress",
   "metadata": {},
   "outputs": [],
   "source": [
    "data_location = 'data/hospital1.csv'"
   ]
  },
  {
   "cell_type": "code",
   "execution_count": 3,
   "id": "invalid-viking",
   "metadata": {},
   "outputs": [],
   "source": [
    "WEBHOOK_HOST = \"0.0.0.0\"\n",
    "WEBHOOK_PORT = 8052\n",
    "WEBHOOK_BASE = \"\"\n",
    "ADMIN_URL = \"http://hospital1-agent:8051\"\n",
    "\n",
    "agent_config = {\n",
    "    \"webhook_host\": WEBHOOK_HOST,\n",
    "    \"webhook_port\": WEBHOOK_PORT,\n",
    "    \"webhook_base\": WEBHOOK_BASE,\n",
    "    \"admin_url\": ADMIN_URL\n",
    "}"
   ]
  },
  {
   "cell_type": "code",
   "execution_count": 4,
   "id": "environmental-letters",
   "metadata": {},
   "outputs": [],
   "source": [
    "hospital1 = Hospital(agent_config, data_location)"
   ]
  },
  {
   "cell_type": "markdown",
   "id": "scheduled-blood",
   "metadata": {},
   "source": [
    "## Copy from Researcher"
   ]
  },
  {
   "cell_type": "code",
   "execution_count": 5,
   "id": "casual-market",
   "metadata": {},
   "outputs": [],
   "source": [
    "research_invite = {\"@type\": \"did:sov:BzCbsNYhMrjHiqZDTUASHg;spec/connections/1.0/invitation\", \"@id\": \"8adcb4ac-5b8c-4ccb-8586-7ec87d8da60a\", \"label\": \"Health Researcher\", \"recipientKeys\": [\"EVma5YcwgwHkZYQgpvenCW7BYq5EEdDFmdDEzBiSB4FX\"], \"serviceEndpoint\": \"http://172.30.144.131:8040\"}"
   ]
  },
  {
   "cell_type": "code",
   "execution_count": 6,
   "id": "buried-addition",
   "metadata": {},
   "outputs": [
    {
     "name": "stdout",
     "output_type": "stream",
     "text": [
      "Connection Handler Called\n",
      "Connection 16b3f361-870c-4864-8e54-f1862cc0304d in State invitation\n",
      "Connection Handler Called\n",
      "Connection 16b3f361-870c-4864-8e54-f1862cc0304d in State request\n",
      "Connection Handler Called\n",
      "Connection 16b3f361-870c-4864-8e54-f1862cc0304d in State response\n",
      "Connection Handler Called\n",
      "Connection 16b3f361-870c-4864-8e54-f1862cc0304d in State active\n",
      "Pending connection moved to active. Challenging with auth policy if set\n",
      "Trusted Research Connection Established - 16b3f361-870c-4864-8e54-f1862cc0304d\n",
      "Connection Handler Called\n",
      "Connection 10944e1d-1a53-46be-b0ec-3424a6d24273 in State invitation\n",
      "Connection Handler Called\n",
      "Connection 10944e1d-1a53-46be-b0ec-3424a6d24273 in State request\n",
      "ML Message from 16b3f361-870c-4864-8e54-f1862cc0304d\n",
      "Open file\n",
      "learning\n",
      "untrained_model.pt\n",
      "HOSPITAL MODEL LOADED\n",
      "HOSPITAL IS TRAINING\n",
      "loss at epoch  0 :  tensor(0.2499)\n"
     ]
    },
    {
     "name": "stderr",
     "output_type": "stream",
     "text": [
      "/opt/conda/lib/python3.7/site-packages/torch/autograd/__init__.py:132: UserWarning: CUDA initialization: Found no NVIDIA driver on your system. Please check that you have an NVIDIA GPU and installed a driver from http://www.nvidia.com/Download/index.aspx (Triggered internally at  /pytorch/c10/cuda/CUDAFunctions.cpp:100.)\n",
      "  allow_unreachable=True)  # allow_unreachable flag\n"
     ]
    },
    {
     "name": "stdout",
     "output_type": "stream",
     "text": [
      "loss at epoch  5000 :  tensor(0.1313)\n",
      "loss at epoch  10000 :  tensor(0.1146)\n",
      "loss at epoch  15000 :  tensor(0.1100)\n",
      "loss at epoch  20000 :  tensor(0.1043)\n",
      "loss at epoch  25000 :  tensor(0.0986)\n",
      "loss at epoch  30000 :  tensor(0.0958)\n",
      "loss at epoch  35000 :  tensor(0.0942)\n",
      "loss at epoch  40000 :  tensor(0.0931)\n",
      "loss at epoch  45000 :  tensor(0.0922)\n",
      "Learnt \n",
      "Trained file open\n",
      "connection ID 16b3f361-870c-4864-8e54-f1862cc0304d\n",
      "Connection Handler Called\n",
      "Connection 4feda1ac-0d66-42a7-9a42-cbb711efae97 in State invitation\n",
      "Connection Handler Called\n",
      "Connection 4feda1ac-0d66-42a7-9a42-cbb711efae97 in State request\n"
     ]
    }
   ],
   "source": [
    "hospital1.establish_research_connection(research_invite)"
   ]
  },
  {
   "cell_type": "code",
   "execution_count": null,
   "id": "amber-novel",
   "metadata": {},
   "outputs": [],
   "source": []
  }
 ],
 "metadata": {
  "kernelspec": {
   "display_name": "Python 3",
   "language": "python",
   "name": "python3"
  },
  "language_info": {
   "codemirror_mode": {
    "name": "ipython",
    "version": 3
   },
   "file_extension": ".py",
   "mimetype": "text/x-python",
   "name": "python",
   "nbconvert_exporter": "python",
   "pygments_lexer": "ipython3",
   "version": "3.7.6"
  }
 },
 "nbformat": 4,
 "nbformat_minor": 5
}
