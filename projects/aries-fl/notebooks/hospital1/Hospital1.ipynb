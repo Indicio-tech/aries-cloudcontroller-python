{
 "cells": [
  {
   "cell_type": "markdown",
   "id": "genetic-shanghai",
   "metadata": {},
   "source": [
    "# Hospital 1\n",
    "\n",
    "See hospital.py for full code"
   ]
  },
  {
   "cell_type": "code",
   "execution_count": 1,
   "id": "democratic-worthy",
   "metadata": {},
   "outputs": [],
   "source": [
    "from hospital.hospital import Hospital\n",
    "import nest_asyncio\n",
    "\n",
    "nest_asyncio.apply()"
   ]
  },
  {
   "cell_type": "code",
   "execution_count": 2,
   "id": "heard-coach",
   "metadata": {},
   "outputs": [],
   "source": [
    "data_location = 'data/hospital1.csv'"
   ]
  },
  {
   "cell_type": "code",
   "execution_count": 3,
   "id": "alien-checklist",
   "metadata": {},
   "outputs": [],
   "source": [
    "WEBHOOK_HOST = \"0.0.0.0\"\n",
    "WEBHOOK_PORT = 8052\n",
    "WEBHOOK_BASE = \"\"\n",
    "ADMIN_URL = \"http://hospital1-agent:8051\"\n",
    "\n",
    "agent_config = {\n",
    "    \"webhook_host\": WEBHOOK_HOST,\n",
    "    \"webhook_port\": WEBHOOK_PORT,\n",
    "    \"webhook_base\": WEBHOOK_BASE,\n",
    "    \"admin_url\": ADMIN_URL\n",
    "}"
   ]
  },
  {
   "cell_type": "code",
   "execution_count": 4,
   "id": "psychological-wrapping",
   "metadata": {},
   "outputs": [
    {
     "name": "stdout",
     "output_type": "stream",
     "text": [
      "Data Processed\n"
     ]
    }
   ],
   "source": [
    "hospital1 = Hospital(agent_config, data_location)"
   ]
  },
  {
   "cell_type": "markdown",
   "id": "oriented-heart",
   "metadata": {},
   "source": [
    "## Copy from Researcher"
   ]
  },
  {
   "cell_type": "code",
   "execution_count": 5,
   "id": "another-cosmetic",
   "metadata": {},
   "outputs": [],
   "source": [
    "research_invite = {\"@type\": \"did:sov:BzCbsNYhMrjHiqZDTUASHg;spec/connections/1.0/invitation\", \"@id\": \"200407a5-068c-4064-afe2-ef43d31dcd25\", \"serviceEndpoint\": \"http://172.17.0.1:8040\", \"recipientKeys\": [\"7vtM4totFusGjo2H7AYE3dZkxcw2tMWCtHSnwFXqGKmQ\"], \"label\": \"Health Researcher\"}"
   ]
  },
  {
   "cell_type": "code",
   "execution_count": 6,
   "id": "consolidated-broadcasting",
   "metadata": {},
   "outputs": [
    {
     "name": "stdout",
     "output_type": "stream",
     "text": [
      "Connection Handler Called\n",
      "Connection 5b995cd7-cdbf-44a5-951d-3ec538feeec9 in State invitation\n",
      "Connection Handler Called\n",
      "Connection 5b995cd7-cdbf-44a5-951d-3ec538feeec9 in State request\n",
      "Establishing connection\n",
      "Connection Handler Called\n",
      "Connection 5b995cd7-cdbf-44a5-951d-3ec538feeec9 in State response\n",
      "Connection Handler Called\n",
      "Connection 5b995cd7-cdbf-44a5-951d-3ec538feeec9 in State active\n",
      "Pending connection moved to active. Challenging with auth policy if set\n",
      "No Auth Policy set\n",
      "Trusted Research Connection Established - 5b995cd7-cdbf-44a5-951d-3ec538feeec9\n",
      "ML Message from 5b995cd7-cdbf-44a5-951d-3ec538feeec9\n",
      "Open file\n",
      "learning\n",
      "untrained_model.pt\n",
      "HOSPITAL MODEL LOADED\n",
      "HOSPITAL IS TRAINING\n",
      "loss at epoch  0 :  tensor(0.2495)\n"
     ]
    },
    {
     "name": "stderr",
     "output_type": "stream",
     "text": [
      "/opt/conda/lib/python3.7/site-packages/torch/autograd/__init__.py:132: UserWarning: CUDA initialization: Found no NVIDIA driver on your system. Please check that you have an NVIDIA GPU and installed a driver from http://www.nvidia.com/Download/index.aspx (Triggered internally at  /pytorch/c10/cuda/CUDAFunctions.cpp:100.)\n",
      "  allow_unreachable=True)  # allow_unreachable flag\n"
     ]
    },
    {
     "name": "stdout",
     "output_type": "stream",
     "text": [
      "loss at epoch  5000 :  tensor(0.1277)\n",
      "loss at epoch  10000 :  tensor(0.1135)\n",
      "loss at epoch  15000 :  tensor(0.1081)\n",
      "loss at epoch  20000 :  tensor(0.1011)\n",
      "loss at epoch  25000 :  tensor(0.0980)\n",
      "loss at epoch  30000 :  tensor(0.0955)\n",
      "loss at epoch  35000 :  tensor(0.0931)\n",
      "loss at epoch  40000 :  tensor(0.0911)\n",
      "loss at epoch  45000 :  tensor(0.0894)\n",
      "Learnt \n",
      "Trained file open\n",
      "connection ID 5b995cd7-cdbf-44a5-951d-3ec538feeec9\n"
     ]
    }
   ],
   "source": [
    "hospital1.establish_research_connection(research_invite)"
   ]
  },
  {
   "cell_type": "code",
   "execution_count": null,
   "id": "printable-rally",
   "metadata": {},
   "outputs": [],
   "source": []
  }
 ],
 "metadata": {
  "kernelspec": {
   "display_name": "Python 3",
   "language": "python",
   "name": "python3"
  },
  "language_info": {
   "codemirror_mode": {
    "name": "ipython",
    "version": 3
   },
   "file_extension": ".py",
   "mimetype": "text/x-python",
   "name": "python",
   "nbconvert_exporter": "python",
   "pygments_lexer": "ipython3",
   "version": "3.7.6"
  }
 },
 "nbformat": 4,
 "nbformat_minor": 5
}
