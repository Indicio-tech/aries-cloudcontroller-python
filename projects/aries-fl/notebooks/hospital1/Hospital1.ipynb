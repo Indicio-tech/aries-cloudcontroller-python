{
 "cells": [
  {
   "cell_type": "markdown",
   "id": "prostate-merit",
   "metadata": {},
   "source": [
    "# Hospital 1\n",
    "\n",
    "See hospital.py for full code"
   ]
  },
  {
   "cell_type": "code",
   "execution_count": 1,
   "id": "sonic-protocol",
   "metadata": {},
   "outputs": [],
   "source": [
    "from hospital.hospital import Hospital\n",
    "import nest_asyncio\n",
    "\n",
    "nest_asyncio.apply()"
   ]
  },
  {
   "cell_type": "code",
   "execution_count": 2,
   "id": "streaming-digest",
   "metadata": {},
   "outputs": [],
   "source": [
    "data_location = 'data/hospital1.csv'"
   ]
  },
  {
   "cell_type": "code",
   "execution_count": 3,
   "id": "historical-stationery",
   "metadata": {},
   "outputs": [],
   "source": [
    "WEBHOOK_HOST = \"0.0.0.0\"\n",
    "WEBHOOK_PORT = 8052\n",
    "WEBHOOK_BASE = \"\"\n",
    "ADMIN_URL = \"http://hospital1-agent:8051\"\n",
    "\n",
    "agent_config = {\n",
    "    \"webhook_host\": WEBHOOK_HOST,\n",
    "    \"webhook_port\": WEBHOOK_PORT,\n",
    "    \"webhook_base\": WEBHOOK_BASE,\n",
    "    \"admin_url\": ADMIN_URL\n",
    "}"
   ]
  },
  {
   "cell_type": "code",
   "execution_count": 4,
   "id": "french-duncan",
   "metadata": {},
   "outputs": [
    {
     "name": "stdout",
     "output_type": "stream",
     "text": [
      "Data Processed\n"
     ]
    }
   ],
   "source": [
    "hospital1 = Hospital(agent_config, data_location)"
   ]
  },
  {
   "cell_type": "markdown",
   "id": "micro-argument",
   "metadata": {},
   "source": [
    "## Get Hospital Credential\n",
    "\n",
    "Copy connection invite from the NHS trust to receive the hospital credential. [NHS Trust Notebooks are here](http://localhost:8888/tree)"
   ]
  },
  {
   "cell_type": "code",
   "execution_count": null,
   "id": "persistent-listing",
   "metadata": {},
   "outputs": [],
   "source": [
    "nhs_invite = {'@type': 'did:sov:BzCbsNYhMrjHiqZDTUASHg;spec/connections/1.0/invitation', '@id': '21aaaf46-7526-448e-a692-1becf370e820', 'label': 'NHS Lothian', 'serviceEndpoint': 'http://172.17.0.1:8020', 'recipientKeys': ['E6rysFzG3TNo3Hz2ZdLqswA92TPgbdm7DUSuYyMzEuPh']}"
   ]
  },
  {
   "cell_type": "code",
   "execution_count": null,
   "id": "round-folder",
   "metadata": {},
   "outputs": [],
   "source": [
    "response =await  hospital1.agent_controller.connections.accept_connection(nhs_invite)\n",
    "print(response)"
   ]
  },
  {
   "cell_type": "markdown",
   "id": "fourth-audit",
   "metadata": {},
   "source": [
    "## Optional: Configure Research Authentication Policy\n",
    "\n",
    "This is a proof request that the hospital will automatically challenge the researcher for"
   ]
  },
  {
   "cell_type": "code",
   "execution_count": 5,
   "id": "bulgarian-reasoning",
   "metadata": {},
   "outputs": [],
   "source": [
    "schema_id = \"FWyJ74b38bCF1QbYF7tWMM:2:Authorised Research:0.0.1\"\n",
    "# cred_def = \"WfntKNFwXMQfgmU9ofbxPM:3:CL:156569:default\"\n",
    "\n",
    "revocation = False\n",
    "exchange_tracing = False\n",
    "\n",
    "#Enable this to ask for attributes to identity a user\n",
    "#TODO - change restriction to schemaId or credentialId\n",
    "\n",
    "req_attrs = [\n",
    "    {\"name\": \"scope\", \"restrictions\": [{\"schema_id\": schema_id}]},#, \"cred_def_id\": cred_def}]},\n",
    "]\n",
    "\n",
    "global indy_proof_request\n",
    "indy_proof_request = {\n",
    "    \"name\": \"Proof of Hospital\",\n",
    "    \"version\": \"1.0\",\n",
    "    \"requested_attributes\": {\n",
    "        f\"0_{req_attr['name']}_uuid\":\n",
    "        req_attr for req_attr in req_attrs\n",
    "    },\n",
    "    \"requested_predicates\": {\n",
    "#         f\"0_{req_pred['name']}_GE_uuid\":\n",
    "#         req_pred for req_pred in req_preds\n",
    "    },\n",
    "}\n",
    "\n"
   ]
  },
  {
   "cell_type": "code",
   "execution_count": 6,
   "id": "statistical-electricity",
   "metadata": {},
   "outputs": [],
   "source": [
    "hospital1.set_authentication_policy(indy_proof_request)"
   ]
  },
  {
   "cell_type": "markdown",
   "id": "viral-diana",
   "metadata": {},
   "source": [
    "## Copy from Researcher"
   ]
  },
  {
   "cell_type": "code",
   "execution_count": 7,
   "id": "prerequisite-tablet",
   "metadata": {},
   "outputs": [],
   "source": [
    "research_invite ={\"@type\": \"did:sov:BzCbsNYhMrjHiqZDTUASHg;spec/connections/1.0/invitation\", \"@id\": \"df76459d-7a65-462e-ae5d-bc1f96a7674f\", \"serviceEndpoint\": \"http://172.17.0.1:8040\", \"label\": \"Health Researcher\", \"recipientKeys\": [\"9QkEnGGQHUNp95rRdsf2GxyGzGniuApqGmoQuXT5UvCC\"]}"
   ]
  },
  {
   "cell_type": "code",
   "execution_count": 8,
   "id": "accurate-education",
   "metadata": {},
   "outputs": [
    {
     "name": "stdout",
     "output_type": "stream",
     "text": [
      "Connection Handler Called\n",
      "Connection c49d22a1-d306-4278-b955-63c098ffc529 in State invitation\n",
      "Connection Handler Called\n",
      "Connection c49d22a1-d306-4278-b955-63c098ffc529 in State request\n",
      "Establishing connection\n",
      "Connection Handler Called\n",
      "Connection c49d22a1-d306-4278-b955-63c098ffc529 in State response\n",
      "Connection Handler Called\n",
      "Connection c49d22a1-d306-4278-b955-63c098ffc529 in State active\n",
      "Pending connection moved to active. Challenging with auth policy if set\n",
      "Handle present proof\n",
      "Role verifier, Exchange babbffa0-f5fc-49e3-ac20-c69eee1480ac in state request_sent\n",
      "Handle present proof\n",
      "Role prover, Exchange 62bb0164-6076-40ad-b269-87ec43ccdf85 in state request_received\n",
      "Received Authentication Challenge\n",
      "Credentials [{'cred_info': {'referent': 'NHS Hosptial 1e5044b7-e6c7-4ec6-88ea-49df91e19dd5', 'attrs': {'name': 'Royal Infirmary of Edinburgh'}, 'schema_id': 'BvRKFu1fdzGdJzQcKb8e8p:2:NHS Hosptial:0.0.1', 'cred_def_id': 'RiUq77qGfmFmAHxj1NQcSY:3:CL:156569:default', 'rev_reg_id': None, 'cred_rev_id': None}, 'interval': None, 'presentation_referents': ['0_name_uuid']}, {'cred_info': {'referent': 'NHS Hosptial 434e2d8f-89ad-4a4a-a77e-e6a3b33fac0f', 'attrs': {'name': 'Royal Infirmary of Edinburgh'}, 'schema_id': 'BvRKFu1fdzGdJzQcKb8e8p:2:NHS Hosptial:0.0.1', 'cred_def_id': 'RiUq77qGfmFmAHxj1NQcSY:3:CL:156569:default', 'rev_reg_id': None, 'cred_rev_id': None}, 'interval': None, 'presentation_referents': ['0_name_uuid']}, {'cred_info': {'referent': 'NHS Hosptial 9a85ecc2-936a-451e-bad1-995b7b23b21b', 'attrs': {'name': 'Royal Infirmary of Edinburgh'}, 'schema_id': 'BvRKFu1fdzGdJzQcKb8e8p:2:NHS Hosptial:0.0.1', 'cred_def_id': 'RiUq77qGfmFmAHxj1NQcSY:3:CL:156569:default', 'rev_reg_id': None, 'cred_rev_id': None}, 'interval': None, 'presentation_referents': ['0_name_uuid']}]\n",
      "Revealed Credential {'cred_info': {'referent': 'NHS Hosptial 1e5044b7-e6c7-4ec6-88ea-49df91e19dd5', 'attrs': {'name': 'Royal Infirmary of Edinburgh'}, 'schema_id': 'BvRKFu1fdzGdJzQcKb8e8p:2:NHS Hosptial:0.0.1', 'cred_def_id': 'RiUq77qGfmFmAHxj1NQcSY:3:CL:156569:default', 'rev_reg_id': None, 'cred_rev_id': None}, 'interval': None, 'presentation_referents': ['0_name_uuid']}\n",
      "\n",
      "Generate the proof\n",
      "{'requested_predicates': {}, 'requested_attributes': {'0_name_uuid': {'cred_id': 'NHS Hosptial 1e5044b7-e6c7-4ec6-88ea-49df91e19dd5', 'revealed': True}}, 'self_attested_attributes': {}}\n",
      "\n",
      "XXX\n",
      "{}\n",
      "{'0_name_uuid': {'cred_id': 'NHS Hosptial 1e5044b7-e6c7-4ec6-88ea-49df91e19dd5', 'revealed': True}}\n",
      "{}\n",
      "Handle present proof\n",
      "Role verifier, Exchange babbffa0-f5fc-49e3-ac20-c69eee1480ac in state presentation_received\n",
      "Verifying DataOwner Presentation\n",
      "Handle present proof\n",
      "Role prover, Exchange 62bb0164-6076-40ad-b269-87ec43ccdf85 in state presentation_sent\n",
      "Handle present proof\n",
      "Role prover, Exchange 62bb0164-6076-40ad-b269-87ec43ccdf85 in state presentation_acked\n",
      "Handle present proof\n",
      "Role verifier, Exchange babbffa0-f5fc-49e3-ac20-c69eee1480ac in state verified\n",
      "Trusted Research Connection Established - c49d22a1-d306-4278-b955-63c098ffc529\n",
      "ML Message from c49d22a1-d306-4278-b955-63c098ffc529\n",
      "Open file\n",
      "learning\n",
      "untrained_model.pt\n",
      "HOSPITAL MODEL LOADED\n",
      "HOSPITAL IS TRAINING\n",
      "loss at epoch  0 :  tensor(0.2652)\n"
     ]
    },
    {
     "name": "stderr",
     "output_type": "stream",
     "text": [
      "/opt/conda/lib/python3.7/site-packages/torch/autograd/__init__.py:132: UserWarning: CUDA initialization: Found no NVIDIA driver on your system. Please check that you have an NVIDIA GPU and installed a driver from http://www.nvidia.com/Download/index.aspx (Triggered internally at  /pytorch/c10/cuda/CUDAFunctions.cpp:100.)\n",
      "  allow_unreachable=True)  # allow_unreachable flag\n"
     ]
    },
    {
     "name": "stdout",
     "output_type": "stream",
     "text": [
      "loss at epoch  5000 :  tensor(0.1328)\n",
      "loss at epoch  10000 :  tensor(0.1152)\n",
      "loss at epoch  15000 :  tensor(0.1115)\n",
      "loss at epoch  20000 :  tensor(0.1068)\n",
      "loss at epoch  25000 :  tensor(0.1006)\n",
      "loss at epoch  30000 :  tensor(0.0973)\n",
      "loss at epoch  35000 :  tensor(0.0955)\n",
      "loss at epoch  40000 :  tensor(0.0943)\n",
      "loss at epoch  45000 :  tensor(0.0934)\n",
      "Learnt \n",
      "Trained file open\n",
      "connection ID c49d22a1-d306-4278-b955-63c098ffc529\n",
      "ML Message from c49d22a1-d306-4278-b955-63c098ffc529\n",
      "Open file\n",
      "learning\n",
      "untrained_model.pt\n",
      "HOSPITAL MODEL LOADED\n",
      "HOSPITAL IS TRAINING\n",
      "loss at epoch  0 :  tensor(0.2652)\n",
      "loss at epoch  5000 :  tensor(0.1328)\n",
      "loss at epoch  10000 :  tensor(0.1152)\n",
      "loss at epoch  15000 :  tensor(0.1115)\n",
      "loss at epoch  20000 :  tensor(0.1068)\n",
      "loss at epoch  25000 :  tensor(0.1006)\n",
      "loss at epoch  30000 :  tensor(0.0973)\n",
      "loss at epoch  35000 :  tensor(0.0955)\n",
      "loss at epoch  40000 :  tensor(0.0943)\n",
      "loss at epoch  45000 :  tensor(0.0934)\n",
      "Learnt \n",
      "Trained file open\n",
      "connection ID c49d22a1-d306-4278-b955-63c098ffc529\n"
     ]
    }
   ],
   "source": [
    "hospital1.establish_research_connection(research_invite)"
   ]
  },
  {
   "cell_type": "code",
   "execution_count": null,
   "id": "magnetic-firmware",
   "metadata": {},
   "outputs": [],
   "source": []
  }
 ],
 "metadata": {
  "kernelspec": {
   "display_name": "Python 3",
   "language": "python",
   "name": "python3"
  },
  "language_info": {
   "codemirror_mode": {
    "name": "ipython",
    "version": 3
   },
   "file_extension": ".py",
   "mimetype": "text/x-python",
   "name": "python",
   "nbconvert_exporter": "python",
   "pygments_lexer": "ipython3",
   "version": "3.7.6"
  }
 },
 "nbformat": 4,
 "nbformat_minor": 5
}
