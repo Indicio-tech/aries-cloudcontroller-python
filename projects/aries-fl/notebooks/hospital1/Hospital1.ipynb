{
 "cells": [
  {
   "cell_type": "markdown",
   "id": "heavy-imperial",
   "metadata": {},
   "source": [
    "# Hospital 1\n",
    "\n",
    "See hospital.py for full code"
   ]
  },
  {
   "cell_type": "code",
   "execution_count": 1,
   "id": "champion-setup",
   "metadata": {},
   "outputs": [],
   "source": [
    "from hospital.hospital import Hospital\n",
    "import nest_asyncio\n",
    "\n",
    "nest_asyncio.apply()"
   ]
  },
  {
   "cell_type": "code",
   "execution_count": 2,
   "id": "incoming-samuel",
   "metadata": {},
   "outputs": [],
   "source": [
    "data_location = 'data/hospital1.csv'"
   ]
  },
  {
   "cell_type": "code",
   "execution_count": 3,
   "id": "distinct-ribbon",
   "metadata": {},
   "outputs": [],
   "source": [
    "WEBHOOK_HOST = \"0.0.0.0\"\n",
    "WEBHOOK_PORT = 8052\n",
    "WEBHOOK_BASE = \"\"\n",
    "ADMIN_URL = \"http://hospital1-agent:8051\"\n",
    "\n",
    "agent_config = {\n",
    "    \"webhook_host\": WEBHOOK_HOST,\n",
    "    \"webhook_port\": WEBHOOK_PORT,\n",
    "    \"webhook_base\": WEBHOOK_BASE,\n",
    "    \"admin_url\": ADMIN_URL\n",
    "}"
   ]
  },
  {
   "cell_type": "code",
   "execution_count": 4,
   "id": "aware-furniture",
   "metadata": {},
   "outputs": [
    {
     "name": "stdout",
     "output_type": "stream",
     "text": [
      "Data Processed\n"
     ]
    }
   ],
   "source": [
    "hospital1 = Hospital(agent_config, data_location)"
   ]
  },
  {
   "cell_type": "markdown",
   "id": "stuck-attitude",
   "metadata": {},
   "source": [
    "## Get Hospital Credential\n",
    "\n",
    "Copy connection invite from the NHS trust to receive the hospital credential. [NHS Trust Notebooks are here](http://localhost:8888/tree)"
   ]
  },
  {
   "cell_type": "code",
   "execution_count": 5,
   "id": "stunning-aside",
   "metadata": {},
   "outputs": [],
   "source": [
    "nhs_invite = {'@type': 'did:sov:BzCbsNYhMrjHiqZDTUASHg;spec/connections/1.0/invitation', '@id': 'c70c44db-91b6-4b16-b100-a98e65cfae95', 'serviceEndpoint': 'http://172.17.0.1:8020', 'recipientKeys': ['3oTpbDd1Z3V5gdqAdKPq87k1mhi39PKE8ikhgFUPbB55'], 'label': 'NHS Lothian'}"
   ]
  },
  {
   "cell_type": "code",
   "execution_count": 6,
   "id": "animal-techno",
   "metadata": {},
   "outputs": [
    {
     "name": "stdout",
     "output_type": "stream",
     "text": [
      "Connection Handler Called\n",
      "Connection 0d6f5ddb-e464-48ce-91e9-cbe6a2f1e8e9 in State invitation\n",
      "Connection Handler Called\n",
      "Connection 0d6f5ddb-e464-48ce-91e9-cbe6a2f1e8e9 in State request\n",
      "{'request_id': '4e857752-355d-4246-9d69-29bc06418a2c', 'accept': 'manual', 'invitation_key': '3oTpbDd1Z3V5gdqAdKPq87k1mhi39PKE8ikhgFUPbB55', 'initiator': 'external', 'created_at': '2021-02-19 14:45:27.210226Z', 'state': 'request', 'invitation_mode': 'once', 'their_label': 'NHS Lothian', 'connection_id': '0d6f5ddb-e464-48ce-91e9-cbe6a2f1e8e9', 'routing_state': 'none', 'updated_at': '2021-02-19 14:45:27.249791Z', 'my_did': 'Xjy7XvDHQHLzbArXiTh5Hs'}\n",
      "Connection Handler Called\n",
      "Connection 0d6f5ddb-e464-48ce-91e9-cbe6a2f1e8e9 in State response\n",
      "Connection Handler Called\n",
      "Connection 0d6f5ddb-e464-48ce-91e9-cbe6a2f1e8e9 in State active\n",
      "Handle Credentials\n",
      "Credential exchange 39625b96-b28c-4a60-8f79-7a8945a42cd3, role: holder, state: offer_received\n",
      "Offering: [{'name': 'name', 'value': 'Royal Infirmary of Edinburgh'}]\n",
      "Requesting credential\n",
      "Handle Credentials\n",
      "Credential exchange 39625b96-b28c-4a60-8f79-7a8945a42cd3, role: holder, state: request_sent\n",
      "Handle Credentials\n",
      "Credential exchange 39625b96-b28c-4a60-8f79-7a8945a42cd3, role: holder, state: credential_received\n",
      "Storing Credential\n",
      "Handle Credentials\n",
      "Credential exchange 39625b96-b28c-4a60-8f79-7a8945a42cd3, role: holder, state: credential_acked\n"
     ]
    }
   ],
   "source": [
    "response =await  hospital1.agent_controller.connections.accept_connection(nhs_invite)\n",
    "print(response)"
   ]
  },
  {
   "cell_type": "markdown",
   "id": "happy-nebraska",
   "metadata": {},
   "source": [
    "## Optional: Configure Research Authentication Policy\n",
    "\n",
    "This is a proof request that the hospital will automatically challenge the researcher for"
   ]
  },
  {
   "cell_type": "code",
   "execution_count": 7,
   "id": "leading-steam",
   "metadata": {},
   "outputs": [],
   "source": [
    "schema_id = \"FWyJ74b38bCF1QbYF7tWMM:2:Authorised Research:0.0.1\"\n",
    "# cred_def = \"WfntKNFwXMQfgmU9ofbxPM:3:CL:156569:default\"\n",
    "\n",
    "revocation = False\n",
    "exchange_tracing = False\n",
    "\n",
    "#Enable this to ask for attributes to identity a user\n",
    "#TODO - change restriction to schemaId or credentialId\n",
    "\n",
    "req_attrs = [\n",
    "    {\"name\": \"scope\", \"restrictions\": [{\"schema_id\": schema_id}]},#, \"cred_def_id\": cred_def}]},\n",
    "]\n",
    "\n",
    "global indy_proof_request\n",
    "indy_proof_request = {\n",
    "    \"name\": \"Proof of Hospital\",\n",
    "    \"version\": \"1.0\",\n",
    "    \"requested_attributes\": {\n",
    "        f\"0_{req_attr['name']}_uuid\":\n",
    "        req_attr for req_attr in req_attrs\n",
    "    },\n",
    "    \"requested_predicates\": {\n",
    "#         f\"0_{req_pred['name']}_GE_uuid\":\n",
    "#         req_pred for req_pred in req_preds\n",
    "    },\n",
    "}\n",
    "\n"
   ]
  },
  {
   "cell_type": "code",
   "execution_count": 8,
   "id": "adopted-ordinance",
   "metadata": {},
   "outputs": [],
   "source": [
    "hospital1.set_authentication_policy(indy_proof_request)"
   ]
  },
  {
   "cell_type": "markdown",
   "id": "balanced-threat",
   "metadata": {},
   "source": [
    "## Copy from Researcher"
   ]
  },
  {
   "cell_type": "code",
   "execution_count": 9,
   "id": "verified-medication",
   "metadata": {},
   "outputs": [],
   "source": [
    "research_invite ={\"@type\": \"did:sov:BzCbsNYhMrjHiqZDTUASHg;spec/connections/1.0/invitation\", \"@id\": \"af4ca1f7-7070-42cc-943d-e7af24bef5c4\", \"label\": \"Health Researcher\", \"recipientKeys\": [\"DLbK5vsixEqenNevKHRxgK3jMZHApHHQZ12ix5FsM15Y\"], \"serviceEndpoint\": \"http://172.17.0.1:8040\"}"
   ]
  },
  {
   "cell_type": "code",
   "execution_count": 10,
   "id": "monthly-college",
   "metadata": {},
   "outputs": [
    {
     "name": "stdout",
     "output_type": "stream",
     "text": [
      "Connection Handler Called\n",
      "Connection 2f5686df-4eb4-4faa-a3d6-1b39b1c8eb4d in State invitation\n",
      "Connection Handler Called\n",
      "Connection 2f5686df-4eb4-4faa-a3d6-1b39b1c8eb4d in State request\n",
      "Establishing connection\n",
      "Connection Handler Called\n",
      "Connection 2f5686df-4eb4-4faa-a3d6-1b39b1c8eb4d in State response\n",
      "Connection Handler Called\n",
      "Connection 2f5686df-4eb4-4faa-a3d6-1b39b1c8eb4d in State active\n",
      "Pending connection moved to active. Challenging with auth policy if set\n",
      "Handle present proof\n",
      "Role verifier, Exchange b89c7f99-50b2-42e7-ba12-63e5f13a1625 in state request_sent\n",
      "Handle present proof\n",
      "Role prover, Exchange 029fba5d-c8f5-4b51-ac3c-d295db5f7e35 in state request_received\n",
      "Received Authentication Challenge\n",
      "Credentials [{'cred_info': {'referent': 'NHS Hosptial 39625b96-b28c-4a60-8f79-7a8945a42cd3', 'attrs': {'name': 'Royal Infirmary of Edinburgh'}, 'schema_id': 'BvRKFu1fdzGdJzQcKb8e8p:2:NHS Hosptial:0.0.1', 'cred_def_id': '2rRvzQRmx8c8p4s1Demt4Z:3:CL:156569:default', 'rev_reg_id': None, 'cred_rev_id': None}, 'interval': None, 'presentation_referents': ['0_name_uuid']}]\n",
      "Revealed Credential {'cred_info': {'referent': 'NHS Hosptial 39625b96-b28c-4a60-8f79-7a8945a42cd3', 'attrs': {'name': 'Royal Infirmary of Edinburgh'}, 'schema_id': 'BvRKFu1fdzGdJzQcKb8e8p:2:NHS Hosptial:0.0.1', 'cred_def_id': '2rRvzQRmx8c8p4s1Demt4Z:3:CL:156569:default', 'rev_reg_id': None, 'cred_rev_id': None}, 'interval': None, 'presentation_referents': ['0_name_uuid']}\n",
      "\n",
      "Generate the proof\n",
      "{'requested_predicates': {}, 'requested_attributes': {'0_name_uuid': {'cred_id': 'NHS Hosptial 39625b96-b28c-4a60-8f79-7a8945a42cd3', 'revealed': True}}, 'self_attested_attributes': {}}\n",
      "\n",
      "XXX\n",
      "{}\n",
      "{'0_name_uuid': {'cred_id': 'NHS Hosptial 39625b96-b28c-4a60-8f79-7a8945a42cd3', 'revealed': True}}\n",
      "{}\n",
      "Handle present proof\n",
      "Role verifier, Exchange b89c7f99-50b2-42e7-ba12-63e5f13a1625 in state presentation_received\n",
      "Verifying DataOwner Presentation\n",
      "Handle present proof\n",
      "Role prover, Exchange 029fba5d-c8f5-4b51-ac3c-d295db5f7e35 in state presentation_sent\n",
      "Handle present proof\n",
      "Role prover, Exchange 029fba5d-c8f5-4b51-ac3c-d295db5f7e35 in state presentation_acked\n",
      "Handle present proof\n",
      "Role verifier, Exchange b89c7f99-50b2-42e7-ba12-63e5f13a1625 in state verified\n",
      "Trusted Research Connection Established - 2f5686df-4eb4-4faa-a3d6-1b39b1c8eb4d\n",
      "ML Message from 2f5686df-4eb4-4faa-a3d6-1b39b1c8eb4d\n",
      "Open file\n",
      "learning\n",
      "untrained_model.pt\n",
      "HOSPITAL MODEL LOADED\n",
      "HOSPITAL IS TRAINING\n",
      "loss at epoch  0 :  tensor(0.1371)\n"
     ]
    },
    {
     "name": "stderr",
     "output_type": "stream",
     "text": [
      "/opt/conda/lib/python3.7/site-packages/torch/autograd/__init__.py:132: UserWarning: CUDA initialization: Found no NVIDIA driver on your system. Please check that you have an NVIDIA GPU and installed a driver from http://www.nvidia.com/Download/index.aspx (Triggered internally at  /pytorch/c10/cuda/CUDAFunctions.cpp:100.)\n",
      "  allow_unreachable=True)  # allow_unreachable flag\n"
     ]
    },
    {
     "name": "stdout",
     "output_type": "stream",
     "text": [
      "loss at epoch  5000 :  tensor(0.1095)\n",
      "loss at epoch  10000 :  tensor(0.1001)\n",
      "loss at epoch  15000 :  tensor(0.0936)\n",
      "loss at epoch  20000 :  tensor(0.0905)\n",
      "loss at epoch  25000 :  tensor(0.0882)\n",
      "loss at epoch  30000 :  tensor(0.0861)\n",
      "loss at epoch  35000 :  tensor(0.0845)\n",
      "loss at epoch  40000 :  tensor(0.0833)\n",
      "loss at epoch  45000 :  tensor(0.0824)\n",
      "Learnt \n",
      "Trained file open\n",
      "connection ID 2f5686df-4eb4-4faa-a3d6-1b39b1c8eb4d\n"
     ]
    }
   ],
   "source": [
    "hospital1.establish_research_connection(research_invite)"
   ]
  },
  {
   "cell_type": "code",
   "execution_count": null,
   "id": "floral-grain",
   "metadata": {},
   "outputs": [],
   "source": []
  }
 ],
 "metadata": {
  "kernelspec": {
   "display_name": "Python 3",
   "language": "python",
   "name": "python3"
  },
  "language_info": {
   "codemirror_mode": {
    "name": "ipython",
    "version": 3
   },
   "file_extension": ".py",
   "mimetype": "text/x-python",
   "name": "python",
   "nbconvert_exporter": "python",
   "pygments_lexer": "ipython3",
   "version": "3.7.6"
  }
 },
 "nbformat": 4,
 "nbformat_minor": 5
}
