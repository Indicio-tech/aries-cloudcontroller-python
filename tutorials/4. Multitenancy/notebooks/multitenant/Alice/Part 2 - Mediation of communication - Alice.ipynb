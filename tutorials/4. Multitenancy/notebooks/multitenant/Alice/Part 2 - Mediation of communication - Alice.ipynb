{
 "cells": [
  {
   "cell_type": "markdown",
   "id": "harmful-greensboro",
   "metadata": {},
   "source": [
    "# Part 2 - Setting up a mediation for Alice via a mediator"
   ]
  },
  {
   "cell_type": "markdown",
   "id": "split-nashville",
   "metadata": {},
   "source": [
    "### Initialise the multitenant controller"
   ]
  },
  {
   "cell_type": "code",
   "execution_count": null,
   "id": "ready-soundtrack",
   "metadata": {},
   "outputs": [],
   "source": [
    "%autoawait\n",
    "import time\n",
    "import asyncio\n",
    "import pprint\n",
    "\n",
    "from aries_basic_controller.aries_controller import AriesAgentController\n",
    "from aries_basic_controller.aries_multitenant_controller import AriesMultitenantController\n",
    "\n",
    "# Create a small utility to print json formatted outout more human-readable    \n",
    "pp = pprint.PrettyPrinter(indent=4)\n",
    "\n",
    "WEBHOOK_HOST = \"0.0.0.0\"\n",
    "WEBHOOK_BASE = \"\"\n",
    "\n",
    "WEBHOOK_PORT = 8022\n",
    "ADMIN_URL = \"http://multitenant-agent:8021\"\n"
   ]
  },
  {
   "cell_type": "code",
   "execution_count": null,
   "id": "soviet-bridges",
   "metadata": {},
   "outputs": [],
   "source": [
    "%store -r wallet_id_alice\n",
    "print(wallet_id_alice)"
   ]
  },
  {
   "cell_type": "code",
   "execution_count": null,
   "id": "technical-parks",
   "metadata": {},
   "outputs": [],
   "source": [
    "# Based on the aca-py agent you wish to control\n",
    "agent_controller = AriesMultitenantController(webhook_host=WEBHOOK_HOST, webhook_port=WEBHOOK_PORT,\n",
    "                                       webhook_base=WEBHOOK_BASE, admin_url=ADMIN_URL, mediation=True, wallet_id=wallet_id_alice)\n"
   ]
  },
  {
   "cell_type": "code",
   "execution_count": null,
   "id": "moved-queue",
   "metadata": {},
   "outputs": [],
   "source": [
    "await agent_controller.listen_webhooks()"
   ]
  },
  {
   "cell_type": "code",
   "execution_count": null,
   "id": "ignored-bangladesh",
   "metadata": {},
   "outputs": [],
   "source": [
    "def connection_handler(payload):\n",
    "    print(\"Connection Handler Called\")\n",
    "    connection_id = payload[\"connection_id\"]\n",
    "    state = payload[\"state\"]\n",
    "    print(f\"Connection {connection_id} in State {state}\")\n",
    "    \n",
    "connection_listener = {\n",
    "    \"handler\": connection_handler,\n",
    "    \"topic\": \"connections\"\n",
    "}\n",
    "\n",
    "agent_controller.register_listeners([connection_listener], defaults=True)"
   ]
  },
  {
   "cell_type": "markdown",
   "id": "whole-history",
   "metadata": {},
   "source": [
    "### Updating JWT of the agent controller"
   ]
  },
  {
   "cell_type": "markdown",
   "id": "affected-saver",
   "metadata": {},
   "source": [
    "Retrieve Alice's token we have stored previously"
   ]
  },
  {
   "cell_type": "code",
   "execution_count": null,
   "id": "nuclear-startup",
   "metadata": {},
   "outputs": [],
   "source": [
    "%store -r alice_jwt"
   ]
  },
  {
   "cell_type": "code",
   "execution_count": null,
   "id": "strange-night",
   "metadata": {},
   "outputs": [],
   "source": [
    "print(alice_jwt)"
   ]
  },
  {
   "cell_type": "markdown",
   "id": "aggressive-indie",
   "metadata": {},
   "source": [
    "Now we can update the agent controller with the JWT Token"
   ]
  },
  {
   "cell_type": "code",
   "execution_count": null,
   "id": "colonial-holocaust",
   "metadata": {},
   "outputs": [],
   "source": [
    "agent_controller.update_tenant_jwt(alice_jwt, wallet_id_alice)"
   ]
  },
  {
   "cell_type": "markdown",
   "id": "competent-smith",
   "metadata": {},
   "source": [
    "Let's check it's really there"
   ]
  },
  {
   "cell_type": "code",
   "execution_count": null,
   "id": "angry-pizza",
   "metadata": {},
   "outputs": [],
   "source": [
    "print(agent_controller.tenant_jwt)"
   ]
  },
  {
   "cell_type": "markdown",
   "id": "prospective-mailing",
   "metadata": {},
   "source": [
    "### Let's create an invitation"
   ]
  },
  {
   "cell_type": "code",
   "execution_count": null,
   "id": "stuck-angola",
   "metadata": {},
   "outputs": [],
   "source": [
    "# Create Invitation\n",
    "unmediated_invite = await agent_controller.connections.create_invitation()"
   ]
  },
  {
   "cell_type": "markdown",
   "id": "flying-tower",
   "metadata": {},
   "source": [
    "We have created an invitation now. Don't worry about this until the end of the notebook. Then you should worry. This will be used to demonstrate something relevant later on."
   ]
  },
  {
   "cell_type": "markdown",
   "id": "concrete-operation",
   "metadata": {},
   "source": [
    "### Go to the [mediation agent](http://localhost:8890/notebooks/Configure%20Mediator.ipynb) before you continue to generate and fetch the invitation\n",
    "\n"
   ]
  },
  {
   "cell_type": "markdown",
   "id": "classical-immunology",
   "metadata": {},
   "source": [
    "### Accept Invite From Mediator\n",
    "\n",
    "Replace the invitation object below with the one you have generated in the mediator notebook"
   ]
  },
  {
   "cell_type": "code",
   "execution_count": null,
   "id": "weighted-tumor",
   "metadata": {},
   "outputs": [],
   "source": [
    "mediator_invitation = {'@type': 'did:sov:BzCbsNYhMrjHiqZDTUASHg;spec/connections/1.0/invitation', '@id': '290a620f-39a9-4d59-8f80-7f1a66fab9ec', 'recipientKeys': ['6jZbv5zZp8pmsqrG66BwXzqrr3NpEReHgpxuwLcaoxiP'], 'serviceEndpoint': 'https://eb407795fda3.ngrok.io', 'label': 'MEDIATOR'}"
   ]
  },
  {
   "cell_type": "code",
   "execution_count": null,
   "id": "nutritional-territory",
   "metadata": {},
   "outputs": [],
   "source": [
    "response = await agent_controller.connections.accept_connection(mediator_invitation)\n",
    "pp.pprint(response)"
   ]
  },
  {
   "cell_type": "code",
   "execution_count": null,
   "id": "supported-western",
   "metadata": {},
   "outputs": [],
   "source": [
    "connection_id = response[\"connection_id\"]\n",
    "print(connection_id)"
   ]
  },
  {
   "cell_type": "markdown",
   "id": "processed-president",
   "metadata": {},
   "source": [
    "### Request mediation\n",
    "\n",
    "Now that we have successfully established a connection between Alice and the mediator agent we can proceed to request mediation from the mediator."
   ]
  },
  {
   "cell_type": "code",
   "execution_count": null,
   "id": "harmful-lending",
   "metadata": {},
   "outputs": [],
   "source": [
    "### check state of connection\n",
    "connection = await agent_controller.connections.get_connection(connection_id)\n",
    "print(connection['state'])"
   ]
  },
  {
   "cell_type": "code",
   "execution_count": null,
   "id": "imported-seeker",
   "metadata": {},
   "outputs": [],
   "source": [
    "# Let's check for the state\n",
    "if connection['state'] != 'active':\n",
    "    print(\"No active connection. \\n Please go back and ensure you have established an active connection between the mediator agent and Alice's subwallet agent\")    \n",
    "else:\n",
    "    ## request mediation\n",
    "    mediation_req = await agent_controller.mediation.request_mediation(connection_id)\n",
    "    print(mediation_req)\n"
   ]
  },
  {
   "cell_type": "markdown",
   "id": "religious-fantasy",
   "metadata": {},
   "source": [
    "### Let's have a look at the mediation records and we should see our mediation in there"
   ]
  },
  {
   "cell_type": "code",
   "execution_count": null,
   "id": "hourly-blame",
   "metadata": {},
   "outputs": [],
   "source": [
    "response = await agent_controller.mediation.get_mediation_records()\n",
    "print(response)"
   ]
  },
  {
   "cell_type": "markdown",
   "id": "valued-bradley",
   "metadata": {},
   "source": [
    "### Set a default mediator\n",
    "\n",
    "By setting a default mediator, all DIDComm connections we establish will be routed through this mediator. To do this we use the appropriate API endpoint via the agent controller and pass it the mediation ID of our mediated connection."
   ]
  },
  {
   "cell_type": "code",
   "execution_count": null,
   "id": "global-crystal",
   "metadata": {},
   "outputs": [],
   "source": [
    "default_mediation_res = await agent_controller.mediation.set_default_mediator(response[0]['mediation_id'])\n",
    "pp.pprint(default_mediation_res)"
   ]
  },
  {
   "cell_type": "markdown",
   "id": "convertible-canadian",
   "metadata": {},
   "source": [
    "### Check whether our default mediator is really there"
   ]
  },
  {
   "cell_type": "code",
   "execution_count": null,
   "id": "digital-delaware",
   "metadata": {},
   "outputs": [],
   "source": [
    "default_mediator = await agent_controller.mediation.get_default_mediator()\n",
    "pp.pprint(default_mediator)\n",
    "\n",
    "if default_mediator['connection_id'] != connection_id:\n",
    "    print(\"Oooops! Something went wrong setting the default mediator. Please, check above and try again\")\n",
    "else:\n",
    "    print(\"\\n\\n Hooray! We have succesfully set a default mediator.\")\n"
   ]
  },
  {
   "cell_type": "code",
   "execution_count": null,
   "id": "indoor-electric",
   "metadata": {},
   "outputs": [],
   "source": [
    "# Create Invitation\n",
    "invite = await agent_controller.connections.create_invitation()\n",
    "connection_id = invite[\"connection_id\"]\n",
    "invite_message = invite['invitation']\n",
    "print(\"Connection ID\", connection_id)\n",
    "print(\"Invitation\")\n",
    "print(invite_message)\n",
    "pp.pprint(\"\\n\" + invite_message['routingKeys'][0])"
   ]
  },
  {
   "cell_type": "markdown",
   "id": "proud-former",
   "metadata": {},
   "source": [
    "### Checking routing keys"
   ]
  },
  {
   "cell_type": "markdown",
   "id": "metric-cancellation",
   "metadata": {},
   "source": [
    "This routing key should be used from now on to encrypt all messages/comminucation. Below you'll see that going back our initially created invitation we don't have such key."
   ]
  },
  {
   "cell_type": "code",
   "execution_count": null,
   "id": "becoming-commodity",
   "metadata": {},
   "outputs": [],
   "source": [
    "unmediated_invite_message = unmediated_invite['invitation']\n",
    "pp.pprint(unmediated_invite_message)"
   ]
  },
  {
   "cell_type": "markdown",
   "id": "tamil-coating",
   "metadata": {},
   "source": [
    "As you can see, there is no routing key in there"
   ]
  },
  {
   "cell_type": "markdown",
   "id": "instrumental-coordinate",
   "metadata": {},
   "source": [
    "### Comparing endpoints"
   ]
  },
  {
   "cell_type": "markdown",
   "id": "fresh-cigarette",
   "metadata": {},
   "source": [
    "Let's check and see that the service endpoint of the mediated connection is now actually the one we got from the invitation from the mediator agent.\n",
    "\n",
    "We'll also see that this is not the endpoint for the unmediated invitation."
   ]
  },
  {
   "cell_type": "code",
   "execution_count": null,
   "id": "ruled-speed",
   "metadata": {},
   "outputs": [],
   "source": [
    "print(\"Unmediated endpoint: \" + unmediated_invite_message['serviceEndpoint'] + \"\\n\\n\")\n",
    "print(\"Mediated endpoint: \" + invite_message['serviceEndpoint'])\n",
    "print(\"Mediator Invitation Ednpoint: \" + mediator_invitation['serviceEndpoint'])"
   ]
  },
  {
   "cell_type": "markdown",
   "id": "entertaining-rwanda",
   "metadata": {},
   "source": [
    "### Great. You're done with this tutorial. Please move on part 3.."
   ]
  },
  {
   "cell_type": "code",
   "execution_count": null,
   "id": "played-segment",
   "metadata": {},
   "outputs": [],
   "source": [
    "await agent_controller.terminate()"
   ]
  },
  {
   "cell_type": "code",
   "execution_count": null,
   "id": "standing-solution",
   "metadata": {},
   "outputs": [],
   "source": []
  }
 ],
 "metadata": {
  "kernelspec": {
   "display_name": "Python 3",
   "language": "python",
   "name": "python3"
  },
  "language_info": {
   "codemirror_mode": {
    "name": "ipython",
    "version": 3
   },
   "file_extension": ".py",
   "mimetype": "text/x-python",
   "name": "python",
   "nbconvert_exporter": "python",
   "pygments_lexer": "ipython3",
   "version": "3.8.5"
  }
 },
 "nbformat": 4,
 "nbformat_minor": 5
}
