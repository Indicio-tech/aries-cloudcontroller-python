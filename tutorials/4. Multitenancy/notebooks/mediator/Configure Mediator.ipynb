{
 "cells": [
  {
   "cell_type": "markdown",
   "metadata": {
    "pycharm": {
     "name": "#%% md\n"
    }
   },
   "source": [
    "# Mediator\n",
    "\n",
    "A mediator is an agent that mediates DIDComm messages on behalf of other agents. Specifically Alice can request this agent act as a mediator for their messages, then when creating an invitation, she specifies the mediators endpoint as the place for messages to be sent and adds the mediators keys for routing of these messages. Anyone wishing to send Alice a DIDComm message must first encrypt under Alice's key then again under the Mediators key before sending the message to the endpoint specified by Alice. The mediators endpoint.\n",
    "\n",
    "### Useful Material\n",
    "\n",
    "* [Aries-RFC-046 Mediators and Relays](https://github.com/hyperledger/aries-rfcs/tree/master/concepts/0046-mediators-and-relays)\n",
    "* [Aries-RFC-094 Cross Domain Messaging](https://github.com/hyperledger/aries-rfcs/tree/master/concepts/0094-cross-domain-messaging)\n",
    "* [DIDComm Messaging Specification - Routing](https://identity.foundation/didcomm-messaging/spec/#routing)"
   ]
  },
  {
   "cell_type": "markdown",
   "metadata": {
    "pycharm": {
     "name": "#%% md\n"
    }
   },
   "source": [
    "### 1. Pull in dependencies"
   ]
  },
  {
   "cell_type": "code",
   "execution_count": 1,
   "metadata": {},
   "outputs": [
    {
     "name": "stdout",
     "output_type": "stream",
     "text": [
      "IPython autoawait is `on`, and set to use `asyncio`\n"
     ]
    }
   ],
   "source": [
    "%autoawait\n",
    "import time\n",
    "import asyncio"
   ]
  },
  {
   "cell_type": "markdown",
   "metadata": {
    "pycharm": {
     "name": "#%% md\n"
    }
   },
   "source": [
    "### 2. Instatiate the controller for our Agent\n",
    "\n",
    "The arguments depend on how the aca-py agent was initiated. See the manage and docker-compose.yml files for more details."
   ]
  },
  {
   "cell_type": "code",
   "execution_count": 2,
   "metadata": {},
   "outputs": [],
   "source": [
    "from aries_basic_controller.aries_controller import AriesAgentController\n",
    "    \n",
    "WEBHOOK_HOST = \"0.0.0.0\"\n",
    "WEBHOOK_PORT = 8042\n",
    "WEBHOOK_BASE = \"\"\n",
    "ADMIN_URL = \"http://mediator-agent:8041\"\n"
   ]
  },
  {
   "cell_type": "code",
   "execution_count": 3,
   "metadata": {},
   "outputs": [],
   "source": [
    "# Based on the aca-py agent you wish to control\n",
    "agent_controller = AriesAgentController(webhook_host=WEBHOOK_HOST, webhook_port=WEBHOOK_PORT,\n",
    "                                       webhook_base=WEBHOOK_BASE, admin_url=ADMIN_URL, mediation=True)"
   ]
  },
  {
   "cell_type": "markdown",
   "metadata": {
    "pycharm": {
     "name": "#%% md\n"
    }
   },
   "source": [
    "### 3. Listen for webhooks and register default listeners\n",
    "\n",
    "TODO: Implement mediator webhooks. These currently need to be implemented in ACA-Py first. We could even help do this. See issue - https://github.com/hyperledger/aries-cloudagent-python/issues/950 "
   ]
  },
  {
   "cell_type": "code",
   "execution_count": 4,
   "metadata": {},
   "outputs": [
    {
     "name": "stdout",
     "output_type": "stream",
     "text": [
      "Subscribing too: connections\n"
     ]
    }
   ],
   "source": [
    "\n",
    "loop = asyncio.get_event_loop()\n",
    "loop.create_task(agent_controller.webhook_listener.listen_webhooks())\n",
    "\n",
    "def connection_handler(payload):\n",
    "    print(\"Connection Handler Called\")\n",
    "    connection_id = payload[\"connection_id\"]\n",
    "    state = payload[\"state\"]\n",
    "    print(f\"Connection {connection_id} in State {state}\")\n",
    "    \n",
    "connection_listener = {\n",
    "    \"handler\": connection_handler,\n",
    "    \"topic\": \"connections\"\n",
    "}\n",
    "\n",
    "agent_controller.register_listeners([connection_listener], defaults=True)"
   ]
  },
  {
   "cell_type": "markdown",
   "metadata": {
    "pycharm": {
     "name": "#%% md\n"
    }
   },
   "source": [
    "### 4. Use the controller to create an invitation from our agent\n",
    "\n",
    "An invitation is a JSON object, as shown below, it contains the relevant information required for another agent to connect with it and exchange identifiers. This object must be passed to the agent Alice wishes to connect to out of band, in this instance we will just copy it across."
   ]
  },
  {
   "cell_type": "code",
   "execution_count": 5,
   "metadata": {},
   "outputs": [
    {
     "name": "stdout",
     "output_type": "stream",
     "text": [
      "Connection ID a347eb87-8018-4d3e-a051-a945fcf52ff1\n",
      "Invitation\n",
      "{'@type': 'did:sov:BzCbsNYhMrjHiqZDTUASHg;spec/connections/1.0/invitation', '@id': 'e08a7e80-d96b-43ba-9ea8-368e5e61eeb6', 'serviceEndpoint': 'https://7eceb3b5d5a4.ngrok.io', 'label': 'MEDIATOR', 'recipientKeys': ['69hmbswFgse281vL3Z7eAzv8mc6m5RwCYuTgZxhGk4GU']}\n",
      "wallet None\n",
      "Handle Webhook - connections {'connection_id': 'a347eb87-8018-4d3e-a051-a945fcf52ff1', 'accept': 'auto', 'invitation_key': '69hmbswFgse281vL3Z7eAzv8mc6m5RwCYuTgZxhGk4GU', 'created_at': '2021-03-31 17:42:19.462303Z', 'invitation_mode': 'multi', 'their_role': 'invitee', 'routing_state': 'none', 'state': 'invitation', 'updated_at': '2021-03-31 17:42:19.462303Z', 'rfc23_state': 'invitation-sent'}\n",
      "Connection Handler Called\n",
      "Connection a347eb87-8018-4d3e-a051-a945fcf52ff1 in State invitation\n",
      "wallet None\n",
      "Handle Webhook - connections {'connection_id': '49431565-9d12-42e9-8341-8699834fc785', 'accept': 'auto', 'invitation_key': '69hmbswFgse281vL3Z7eAzv8mc6m5RwCYuTgZxhGk4GU', 'created_at': '2021-03-31 17:43:17.833726Z', 'invitation_mode': 'once', 'their_role': 'invitee', 'routing_state': 'none', 'state': 'invitation', 'updated_at': '2021-03-31 17:43:17.833726Z', 'my_did': 'ArH29nQAn4GYa3RCTLJehD', 'rfc23_state': 'invitation-sent'}\n",
      "Connection Handler Called\n",
      "Connection 49431565-9d12-42e9-8341-8699834fc785 in State invitation\n",
      "wallet None\n",
      "Handle Webhook - connections {'connection_id': '49431565-9d12-42e9-8341-8699834fc785', 'accept': 'auto', 'invitation_key': '69hmbswFgse281vL3Z7eAzv8mc6m5RwCYuTgZxhGk4GU', 'created_at': '2021-03-31 17:43:17.833726Z', 'their_label': 'Alice', 'invitation_mode': 'once', 'their_role': 'invitee', 'routing_state': 'none', 'state': 'request', 'updated_at': '2021-03-31 17:43:17.851433Z', 'their_did': '9RUfRQwTJ68tZeuE38HXRj', 'my_did': 'ArH29nQAn4GYa3RCTLJehD', 'rfc23_state': 'request-received'}\n",
      "Connection Handler Called\n",
      "Connection 49431565-9d12-42e9-8341-8699834fc785 in State request\n",
      "wallet None\n",
      "Handle Webhook - connections {'connection_id': '49431565-9d12-42e9-8341-8699834fc785', 'accept': 'auto', 'invitation_key': '69hmbswFgse281vL3Z7eAzv8mc6m5RwCYuTgZxhGk4GU', 'created_at': '2021-03-31 17:43:17.833726Z', 'their_label': 'Alice', 'invitation_mode': 'once', 'their_role': 'invitee', 'routing_state': 'none', 'state': 'response', 'updated_at': '2021-03-31 17:43:17.866994Z', 'their_did': '9RUfRQwTJ68tZeuE38HXRj', 'my_did': 'ArH29nQAn4GYa3RCTLJehD', 'rfc23_state': 'response-sent'}\n",
      "Connection Handler Called\n",
      "Connection 49431565-9d12-42e9-8341-8699834fc785 in State response\n",
      "wallet None\n",
      "Handle Webhook - connections {'connection_id': '49431565-9d12-42e9-8341-8699834fc785', 'accept': 'auto', 'invitation_key': '69hmbswFgse281vL3Z7eAzv8mc6m5RwCYuTgZxhGk4GU', 'created_at': '2021-03-31 17:43:17.833726Z', 'their_label': 'Alice', 'invitation_mode': 'once', 'their_role': 'invitee', 'routing_state': 'none', 'state': 'active', 'updated_at': '2021-03-31 17:43:18.488996Z', 'their_did': '9RUfRQwTJ68tZeuE38HXRj', 'my_did': 'ArH29nQAn4GYa3RCTLJehD', 'rfc23_state': 'completed'}\n",
      "Connection Handler Called\n",
      "Connection 49431565-9d12-42e9-8341-8699834fc785 in State active\n"
     ]
    }
   ],
   "source": [
    "# Create Invitation\n",
    "invite = await agent_controller.connections.create_invitation(multi_use=\"true\")\n",
    "connection_id = invite[\"connection_id\"]\n",
    "invite_message = invite['invitation']\n",
    "print(\"Connection ID\", connection_id)\n",
    "print(\"Invitation\")\n",
    "print(invite_message)"
   ]
  },
  {
   "cell_type": "markdown",
   "metadata": {
    "pycharm": {
     "name": "#%% md\n"
    }
   },
   "source": [
    "### Copy the invitation output to any agent that you needs to establish a mediator. For example where you came from - [Alice](http://localhost:8888/lab/tree/Alice/Part%202%20-%20Mediation%20of%20communication%20-%20Alice.ipynb)\n",
    "\n",
    "**Example** invitation you're supposed to copy:\n",
    "\n",
    "{'@type': 'did:sov:BzCbsNYhMrjHiqZDTUASHg;spec/connections/1.0/invitation', '@id': 'fee0f080-88c2-49b1-9869-9117524f010c', 'label': 'MEDIATOR', 'serviceEndpoint': 'https://f6d0c3340147.ngrok.io', 'recipientKeys': ['53gFmaMTJXVy5xBKJKZeRJYs6dL7SNG55gR1W6WuAvpN']}"
   ]
  },
  {
   "cell_type": "markdown",
   "metadata": {
    "pycharm": {
     "name": "#%% md\n"
    }
   },
   "source": [
    "### Check Mediation Records\n",
    "\n",
    "If you do this before accepting the invitation in Alice's notebook, this should be empty.\n",
    "\n",
    "You can return here later (after accepting) and will find that this then shows the mediated conneciton we have established,"
   ]
  },
  {
   "cell_type": "code",
   "execution_count": 6,
   "metadata": {
    "pycharm": {
     "name": "#%%\n"
    }
   },
   "outputs": [
    {
     "name": "stdout",
     "output_type": "stream",
     "text": [
      "Mediation Record\n",
      "connection_id 49431565-9d12-42e9-8341-8699834fc785\n",
      "State request\n"
     ]
    }
   ],
   "source": [
    "response = await agent_controller.mediation.get_mediation_records()\n",
    "\n",
    "for record in response:\n",
    "    print(\"Mediation Record\")\n",
    "    print(\"connection_id\", record[\"connection_id\"])\n",
    "    print(\"State\", record[\"state\"])"
   ]
  },
  {
   "cell_type": "markdown",
   "metadata": {},
   "source": [
    "## Terminate Meditator Controller\n",
    "\n",
    "**Only do this when you have completed the full tutorial**"
   ]
  },
  {
   "cell_type": "code",
   "execution_count": null,
   "metadata": {},
   "outputs": [],
   "source": [
    "response = await agent_controller.terminate()\n",
    "print(response)"
   ]
  },
  {
   "cell_type": "code",
   "execution_count": null,
   "metadata": {},
   "outputs": [],
   "source": []
  }
 ],
 "metadata": {
  "kernelspec": {
   "display_name": "Python 3",
   "language": "python",
   "name": "python3"
  },
  "language_info": {
   "codemirror_mode": {
    "name": "ipython",
    "version": 3
   },
   "file_extension": ".py",
   "mimetype": "text/x-python",
   "name": "python",
   "nbconvert_exporter": "python",
   "pygments_lexer": "ipython3",
   "version": "3.7.6"
  },
  "pycharm": {
   "stem_cell": {
    "cell_type": "raw",
    "metadata": {
     "collapsed": false
    },
    "source": []
   }
  }
 },
 "nbformat": 4,
 "nbformat_minor": 4
}
