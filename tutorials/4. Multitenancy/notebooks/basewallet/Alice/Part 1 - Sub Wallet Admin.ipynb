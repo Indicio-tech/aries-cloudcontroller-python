{
 "cells": [
  {
   "cell_type": "markdown",
   "id": "premier-building",
   "metadata": {},
   "source": [
    "# Part 1 - Exploring Sub Wallet Management"
   ]
  },
  {
   "cell_type": "markdown",
   "id": "black-hurricane",
   "metadata": {},
   "source": [
    "### Initialise the basewallet controller"
   ]
  },
  {
   "cell_type": "code",
   "execution_count": null,
   "id": "guilty-warehouse",
   "metadata": {},
   "outputs": [],
   "source": [
    "%autoawait\n",
    "import time\n",
    "import asyncio\n",
    "import pprint\n",
    "\n",
    "from aries_basic_controller.aries_controller import AriesAgentController\n",
    "    \n",
    "pp = pprint.PrettyPrinter(indent=4)\n",
    "    \n",
    "WEBHOOK_HOST = \"0.0.0.0\"\n",
    "WEBHOOK_BASE = \"\"\n",
    "\n",
    "WEBHOOK_PORT = 8022\n",
    "ADMIN_URL = \"http://basewallet-agent:8021\"\n",
    "\n",
    "# Based on the aca-py agent you wish to control\n",
    "agent_controller = AriesAgentController(webhook_host=WEBHOOK_HOST, webhook_port=WEBHOOK_PORT,\n",
    "                                       webhook_base=WEBHOOK_BASE, admin_url=ADMIN_URL, multitenant=True, api_key=\"password\")"
   ]
  },
  {
   "cell_type": "markdown",
   "id": "after-bernard",
   "metadata": {},
   "source": [
    "### Check for subwallet on the agent\n",
    "\n",
    "This should yield an mepty result, but not error. That means we successfully asked the basewallet holder multitenant agent about subwallets."
   ]
  },
  {
   "cell_type": "code",
   "execution_count": null,
   "id": "visible-oregon",
   "metadata": {},
   "outputs": [],
   "source": [
    "response = await agent_controller.multitenant.query_subwallets()\n",
    "pp.pprint(response)\n"
   ]
  },
  {
   "cell_type": "markdown",
   "id": "generous-beaver",
   "metadata": {},
   "source": [
    "### Let's create a subwallet\n",
    "\n"
   ]
  },
  {
   "cell_type": "code",
   "execution_count": null,
   "id": "unknown-trash",
   "metadata": {},
   "outputs": [],
   "source": [
    "## First let's create the payload\n",
    "\n",
    "payload = {\n",
    "  \"image_url\": \"https://aries.ca/images/sample.png\",\n",
    "  \"key_management_mode\": \"managed\",\n",
    "  \"label\": \"Alice\",\n",
    "  \"wallet_dispatch_type\": \"default\",\n",
    "  \"wallet_key\": \"MySecretKey123\",\n",
    "  \"wallet_name\": \"AlicesWallet\",\n",
    "  \"wallet_type\": \"indy\",\n",
    "  \"wallet_webhook_urls\": [\n",
    "    \"http://localhost:8022/webhooks\"\n",
    "  ]\n",
    "}"
   ]
  },
  {
   "cell_type": "code",
   "execution_count": null,
   "id": "removed-swift",
   "metadata": {},
   "outputs": [],
   "source": [
    "## Now, we create the wallet on the agent \n",
    "response = await agent_controller.multitenant.create_subwallet(payload)\n",
    "pp.pprint(response)"
   ]
  },
  {
   "cell_type": "code",
   "execution_count": null,
   "id": "multiple-signature",
   "metadata": {},
   "outputs": [],
   "source": [
    "## First let's create the payload\n",
    "\n",
    "payload = {\n",
    "  \"image_url\": \"https://aries.ca/images/sample.png\",\n",
    "  \"key_management_mode\": \"managed\",\n",
    "  \"label\": \"Joe\",\n",
    "  \"wallet_dispatch_type\": \"default\",\n",
    "  \"wallet_key\": \"MySecretKey123\",\n",
    "  \"wallet_name\": \"JdsoesWallet\",\n",
    "  \"wallet_type\": \"indy\",\n",
    "  \"wallet_webhook_urls\": [\n",
    "    \"http://localhost:8022/webhooks\"\n",
    "  ]\n",
    "}"
   ]
  },
  {
   "cell_type": "code",
   "execution_count": null,
   "id": "figured-proposal",
   "metadata": {},
   "outputs": [],
   "source": [
    "## Now, we create the wallet on the agent \n",
    "\n",
    "response = await agent_controller.multitenant.create_subwallet(payload)\n",
    "print(response)"
   ]
  },
  {
   "cell_type": "markdown",
   "id": "productive-third",
   "metadata": {},
   "source": [
    "### Creating more subwallets\n",
    "\n",
    "head over to [Bob's notebook]() and initiate a subwallet for Bob as well. Note that you will have to create another controller for Bob that accesses the same agent that holds the base wallet but is specific to Bob, another client.\n",
    "\n",
    "Note we're doing this here again in order to explore mediation now so it will be handy to have two clients, Alice and Bob."
   ]
  },
  {
   "cell_type": "markdown",
   "id": "specialized-riding",
   "metadata": {},
   "source": [
    "### Extract the wallet ID"
   ]
  },
  {
   "cell_type": "code",
   "execution_count": null,
   "id": "technical-national",
   "metadata": {},
   "outputs": [],
   "source": [
    "wallet_id = response['wallet_id']\n",
    "print(wallet_id)"
   ]
  },
  {
   "cell_type": "code",
   "execution_count": null,
   "id": "mysterious-placement",
   "metadata": {},
   "outputs": [],
   "source": [
    "## Set the API-key\n",
    "jwt_token = \"Bearer \" + response[\"token\"]\n",
    "print(jwt_token)\n",
    "\n",
    "# agent_controller(api_key=api_key)"
   ]
  },
  {
   "cell_type": "code",
   "execution_count": null,
   "id": "exclusive-policy",
   "metadata": {},
   "outputs": [],
   "source": [
    "agent_controller.jwt_token = jwt_token"
   ]
  },
  {
   "cell_type": "code",
   "execution_count": null,
   "id": "precise-colony",
   "metadata": {},
   "outputs": [],
   "source": [
    "agent_controller.jwt_token"
   ]
  },
  {
   "cell_type": "code",
   "execution_count": null,
   "id": "fifty-group",
   "metadata": {},
   "outputs": [],
   "source": [
    "### Get the conection ID to the agent\n",
    "# response = await agent_controller.connections.get_connection()\n",
    "# pp.pprint(response)\n",
    "\n",
    "loop = asyncio.get_event_loop()\n",
    "loop.create_task(agent_controller.listen_webhooks())\n",
    "\n",
    "def connection_handler(payload):\n",
    "    print(\"Connection Handler Called\")\n",
    "    connection_id = payload[\"connection_id\"]\n",
    "    state = payload[\"state\"]\n",
    "    print(f\"Connection {connection_id} in State {state}\")\n",
    "    \n",
    "connection_listener = {\n",
    "    \"handler\": connection_handler,\n",
    "    \"topic\": \"connections\"\n",
    "}\n",
    "\n",
    "agent_controller.register_listeners([connection_listener], defaults=True)\n",
    "\n"
   ]
  },
  {
   "cell_type": "code",
   "execution_count": null,
   "id": "experienced-newfoundland",
   "metadata": {},
   "outputs": [],
   "source": [
    "## Create invitation to connect to Bob\n",
    "# Needs Bob to accept to obtain connection ID\n",
    "\n",
    "## !!! Didn't make it up to here without errors\n",
    "\n",
    "invite = await agent_controller.connections.create_invitation()\n",
    "connection_id = invite[\"connection_id\"]\n",
    "invite_message = invite['invitation']\n",
    "print(\"Connection ID\", connection_id)\n",
    "print(\"Invitation\")\n",
    "print(invite_message)"
   ]
  },
  {
   "cell_type": "code",
   "execution_count": null,
   "id": "pediatric-study",
   "metadata": {},
   "outputs": [],
   "source": [
    "response = await agent_controller.request_mediation({}, 'Connection_ID')"
   ]
  },
  {
   "cell_type": "markdown",
   "id": "mediterranean-feature",
   "metadata": {},
   "source": [
    "### Get default mediator"
   ]
  },
  {
   "cell_type": "code",
   "execution_count": null,
   "id": "humanitarian-alliance",
   "metadata": {},
   "outputs": [],
   "source": [
    "response = await agent_controller.mediation.get_default_mediator()\n",
    "print(response)"
   ]
  },
  {
   "cell_type": "markdown",
   "id": "manufactured-hawaii",
   "metadata": {},
   "source": [
    "\n",
    "### Update a single subwallet\n",
    "\n"
   ]
  },
  {
   "cell_type": "code",
   "execution_count": null,
   "id": "empirical-installation",
   "metadata": {},
   "outputs": [],
   "source": [
    "request_body = {\n",
    "  \"image_url\": \"https://aries.ca/images/sample.png\",\n",
    "  \"label\": \"Alice\",\n",
    "  \"wallet_dispatch_type\": \"default\",\n",
    "  \"wallet_webhook_urls\": [\n",
    "    \"http://localhost:8022/webhooks\"\n",
    "  ]\n",
    "}\n",
    "\n",
    "response = await agent_controller.multitenant.update_subwallet_by_id(request_body, wallet_id)\n",
    "print(response)"
   ]
  },
  {
   "cell_type": "markdown",
   "id": "complete-introduction",
   "metadata": {},
   "source": [
    "### Get the auth token for a  subwallet"
   ]
  },
  {
   "cell_type": "code",
   "execution_count": null,
   "id": "liquid-opera",
   "metadata": {},
   "outputs": [],
   "source": [
    "response = await agent_controller.multitenant.get_subwallet_authtoken_by_id(wallet_id)\n",
    "print(response)"
   ]
  },
  {
   "cell_type": "markdown",
   "id": "pregnant-vocabulary",
   "metadata": {},
   "source": [
    "### Remove the subwallet from the agent \n",
    "\n",
    "TODO: Determine whether th empty request body should be passed as empty request body or whether this should be handled in the controller class so it can be omitted if empty"
   ]
  },
  {
   "cell_type": "code",
   "execution_count": null,
   "id": "opening-hughes",
   "metadata": {},
   "outputs": [],
   "source": [
    "response = await agent_controller.multitenant.remove_subwallet_by_id(wallet_id)\n",
    "print(response)\n"
   ]
  },
  {
   "cell_type": "markdown",
   "id": "visible-double",
   "metadata": {},
   "source": [
    "### Check there is no more wallet for Alice\n",
    "\n",
    "TODO; Handle this gracefully. Now this either will give a result which is Bob's wallet from the other notebook, if one has followed the instructions and queries for Alice's wallet by ID. Or this will produce a 404 wallet not found error when querying"
   ]
  },
  {
   "cell_type": "code",
   "execution_count": null,
   "id": "contained-investing",
   "metadata": {},
   "outputs": [],
   "source": [
    "response_all_wallets = await agent_controller.multitenant.query_subwallets()\n",
    "# response_single_wallet = await agent_controller.multitenant.get_single_subwallet_by_id(wallet_id)\n",
    "\n",
    "# print(response_single_wallet)\n",
    "print(response_all_wallets)"
   ]
  },
  {
   "cell_type": "markdown",
   "id": "greek-front",
   "metadata": {},
   "source": [
    "### Terminate the controller"
   ]
  },
  {
   "cell_type": "code",
   "execution_count": null,
   "id": "introductory-equivalent",
   "metadata": {},
   "outputs": [],
   "source": [
    "responsense = await agent_controller.terminate()\n",
    "print(response)"
   ]
  },
  {
   "cell_type": "markdown",
   "id": "cloudy-garbage",
   "metadata": {},
   "source": [
    "### Head over to [Bob]() and remove the wallet and the controller"
   ]
  }
 ],
 "metadata": {
  "kernelspec": {
   "display_name": "Python 3",
   "language": "python",
   "name": "python3"
  },
  "language_info": {
   "codemirror_mode": {
    "name": "ipython",
    "version": 3
   },
   "file_extension": ".py",
   "mimetype": "text/x-python",
   "name": "python",
   "nbconvert_exporter": "python",
   "pygments_lexer": "ipython3",
   "version": "3.8.5"
  }
 },
 "nbformat": 4,
 "nbformat_minor": 5
}