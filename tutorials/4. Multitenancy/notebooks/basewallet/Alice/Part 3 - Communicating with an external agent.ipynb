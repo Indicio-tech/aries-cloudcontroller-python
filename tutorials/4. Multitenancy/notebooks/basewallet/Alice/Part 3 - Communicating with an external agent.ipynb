{
 "cells": [
  {
   "cell_type": "markdown",
   "id": "right-earth",
   "metadata": {},
   "source": [
    "# Part 3 - Communicating with an external agent"
   ]
  },
  {
   "cell_type": "markdown",
   "id": "coordinated-belarus",
   "metadata": {},
   "source": [
    "!!! You should start this part in the [external agent notebook](http://localhost:8889/lab/tree/Part%203%20-%20Issue%20Credential.ipynb) "
   ]
  },
  {
   "cell_type": "markdown",
   "id": "worldwide-tomorrow",
   "metadata": {},
   "source": [
    "### Initialise the basewallet controller"
   ]
  },
  {
   "cell_type": "code",
   "execution_count": null,
   "id": "careful-microwave",
   "metadata": {},
   "outputs": [],
   "source": [
    "%autoawait\n",
    "import time\n",
    "import asyncio\n",
    "import pprint\n",
    "from aiohttp import ClientResponseError\n",
    "\n",
    "from aries_basic_controller.aries_controller import AriesAgentController\n",
    "\n",
    "# Create a small utility to print json formatted outout more human-readable    \n",
    "pp = pprint.PrettyPrinter(indent=4)\n",
    "\n",
    "WEBHOOK_HOST = \"0.0.0.0\"\n",
    "WEBHOOK_BASE = \"\"\n",
    "\n",
    "WEBHOOK_PORT = 8022\n",
    "ADMIN_URL = \"http://basewallet-agent:8021\"\n"
   ]
  },
  {
   "cell_type": "code",
   "execution_count": null,
   "id": "intelligent-drawing",
   "metadata": {},
   "outputs": [],
   "source": [
    "# Based on the aca-py agent you wish to control\n",
    "agent_controller = AriesAgentController(webhook_host=WEBHOOK_HOST, webhook_port=WEBHOOK_PORT,\n",
    "                                       webhook_base=WEBHOOK_BASE, admin_url=ADMIN_URL, multitenant=True, mediation=True)\n"
   ]
  },
  {
   "cell_type": "markdown",
   "id": "affected-remains",
   "metadata": {},
   "source": [
    "### Updating JWT of the agent controller"
   ]
  },
  {
   "cell_type": "markdown",
   "id": "roman-entry",
   "metadata": {},
   "source": [
    "Retrieve Alice's token we have stored previously"
   ]
  },
  {
   "cell_type": "code",
   "execution_count": null,
   "id": "spanish-vintage",
   "metadata": {},
   "outputs": [],
   "source": [
    "%store -r alice_jwt"
   ]
  },
  {
   "cell_type": "code",
   "execution_count": null,
   "id": "wooden-jungle",
   "metadata": {},
   "outputs": [],
   "source": [
    "print(alice_jwt)"
   ]
  },
  {
   "cell_type": "markdown",
   "id": "induced-avatar",
   "metadata": {},
   "source": [
    "Now we can update the agent controller with the JWT Token"
   ]
  },
  {
   "cell_type": "code",
   "execution_count": null,
   "id": "corresponding-vacuum",
   "metadata": {},
   "outputs": [],
   "source": [
    "agent_controller.update_tennant_jwt(alice_jwt)"
   ]
  },
  {
   "cell_type": "markdown",
   "id": "constant-playback",
   "metadata": {},
   "source": [
    "Let's check it's really there"
   ]
  },
  {
   "cell_type": "code",
   "execution_count": null,
   "id": "willing-tanzania",
   "metadata": {},
   "outputs": [],
   "source": [
    "print(agent_controller.tennant_jwt)"
   ]
  },
  {
   "cell_type": "code",
   "execution_count": null,
   "id": "entire-spotlight",
   "metadata": {},
   "outputs": [],
   "source": [
    "loop = asyncio.get_event_loop()\n",
    "loop.create_task(agent_controller.listen_webhooks())\n",
    "\n",
    "def cred_handler(payload):\n",
    "    print(\"Handle Credentials\")\n",
    "    exchange_id = payload['credential_exchange_id']\n",
    "    state = payload['state']\n",
    "    role = payload['role']\n",
    "    attributes = payload['credential_proposal_dict']['credential_proposal']['attributes']\n",
    "    print(f\"Credential exchange {exchange_id}, role: {role}, state: {state}\")\n",
    "    print(f\"Offering: {attributes}\")\n",
    "    \n",
    "cred_listener = {\n",
    "    \"topic\": \"issue_credential\",\n",
    "    \"handler\": cred_handler\n",
    "}\n",
    "\n",
    "def connections_handler(payload):\n",
    "    global STATE\n",
    "    connection_id = payload[\"connection_id\"]\n",
    "    print(\"Connection message\", payload, connection_id)\n",
    "    STATE = payload['state']\n",
    "    if STATE == 'active':\n",
    "#         print('Connection {0} changed state to active'.format(connection_id))\n",
    "        print(colored(\"Connection {0} changed state to active\".format(connection_id), \"red\", attrs=[\"bold\"]))\n",
    "\n",
    "\n",
    "connection_listener = {\n",
    "    \"handler\": connections_handler,\n",
    "    \"topic\": \"connections\"\n",
    "}\n",
    "\n",
    "agent_controller.register_listeners([cred_listener,connection_listener], defaults=True)"
   ]
  },
  {
   "cell_type": "markdown",
   "id": "demonstrated-connection",
   "metadata": {},
   "source": [
    "### Go to the [external agent](http://localhost:8889/lab/tree/Part%203%20-%20Issue%20Credential.ipynb) before you continue, if you haven't already generated an invitation\n",
    "\n"
   ]
  },
  {
   "cell_type": "markdown",
   "id": "unexpected-wholesale",
   "metadata": {},
   "source": [
    "### Accept Invite From external agent\n",
    "\n",
    "Replace the invitation object below with the one you have generated in the mediator notebook"
   ]
  },
  {
   "cell_type": "code",
   "execution_count": null,
   "id": "accessible-checklist",
   "metadata": {},
   "outputs": [],
   "source": [
    "external_invitation = {'@type': 'did:sov:BzCbsNYhMrjHiqZDTUASHg;spec/connections/1.0/invitation', '@id': 'ed77c7c8-790a-42fd-88c1-8c97148e1edb', 'label': 'EXTERNAL', 'recipientKeys': ['9cXut3tbXbTcQB5Wm3WttjCnPyd5QsGPoSLjG4aPzjEY'], 'serviceEndpoint': 'https://2f17ad810362.ngrok.io'}"
   ]
  },
  {
   "cell_type": "code",
   "execution_count": null,
   "id": "electric-grammar",
   "metadata": {},
   "outputs": [],
   "source": [
    "response = await agent_controller.connections.accept_connection(external_invitation)\n",
    "pp.pprint(response)"
   ]
  },
  {
   "cell_type": "code",
   "execution_count": null,
   "id": "robust-concrete",
   "metadata": {},
   "outputs": [],
   "source": [
    "connection_id = response[\"connection_id\"]\n",
    "print(connection_id)"
   ]
  },
  {
   "cell_type": "code",
   "execution_count": null,
   "id": "informed-weekly",
   "metadata": {},
   "outputs": [],
   "source": [
    "### get the connection\n",
    "connection = await agent_controller.connections.get_connection(connection_id)\n",
    "print(connection)"
   ]
  },
  {
   "cell_type": "code",
   "execution_count": null,
   "id": "minimal-knife",
   "metadata": {},
   "outputs": [],
   "source": [
    "# Let's check for the state\n",
    "def check_connection(connection):\n",
    "    if connection['state'] != 'active':\n",
    "        print(\"No active connection. \\n\\nPlease go back and ensure you have established an active connection between the mediator agent and Alice's subwallet agent\\n\")    \n",
    "        print(\"State: \" + connection['state']+ \"\\n\")    \n",
    "    else:\n",
    "        print(\"Active connection established\\n\")\n",
    "        print(\"State: \" + connection['state']+ \"\\n\")    \n",
    "        pp.pprint(connection)\n",
    "\n",
    "check_connection(connection)"
   ]
  },
  {
   "cell_type": "markdown",
   "id": "institutional-assistant",
   "metadata": {},
   "source": [
    "#### Great! Well done, if you made it here. Head back to the notebook of the [external agent](http://localhost:8889/lab/tree/Part%203%20-%20Issue%20Credential.ipynb)"
   ]
  },
  {
   "cell_type": "markdown",
   "id": "useful-think",
   "metadata": {},
   "source": [
    "### Let's have a look at the records\n",
    "\n",
    "This should give us some results and our submitted record with the credentials for whomever you created in the external notebook should be in there. "
   ]
  },
  {
   "cell_type": "code",
   "execution_count": null,
   "id": "continuing-analysis",
   "metadata": {},
   "outputs": [],
   "source": [
    "response = await agent_controller.issuer.get_records()\n",
    "results = response[\"results\"]\n",
    "if len(results) == 0:\n",
    "    print(\"You need to first send a credential from the issuer notebook (external)\")\n",
    "else:\n",
    "    cred_record = results[0]\n",
    "    cred_ex_id = cred_record['credential_exchange_id']\n",
    "    state = cred_record['state']\n",
    "    role = cred_record['role']\n",
    "    attributes = results[0]['credential_proposal_dict']['credential_proposal']['attributes']\n",
    "    print(f\"Credential exchange {cred_ex_id}, role: {role}, state: {state}\")\n",
    "    print(f\"Being offered: {attributes}\")"
   ]
  },
  {
   "cell_type": "markdown",
   "id": "perceived-vacuum",
   "metadata": {},
   "source": [
    "### Request Credential from Issuer\n",
    "If happy with the attributes being offered in the credential, then the holder requests the credential from the issuer to proceed with the issuance.\n",
    "\n",
    "It is only possible to request a credential from an exchange when it is in the offer_received state"
   ]
  },
  {
   "cell_type": "code",
   "execution_count": null,
   "id": "mysterious-exception",
   "metadata": {},
   "outputs": [],
   "source": [
    "try:\n",
    "    record = await agent_controller.issuer.send_request_for_record(cred_ex_id)\n",
    "    state = record['state']\n",
    "    role = record['role']\n",
    "    print(f\"Credential exchange {cred_ex_id}, role: {role}, state: {state}\")\n",
    "except ClientResponseError as err:\n",
    "    print(err)"
   ]
  },
  {
   "cell_type": "markdown",
   "id": "beginning-charlotte",
   "metadata": {},
   "source": [
    "### Store the credential\n",
    "Once the issuer has responded to a request by sending the credential, the holder needs to store it to save the credential for later.\n",
    "\n",
    "First check that the credential record is in the credential_received state"
   ]
  },
  {
   "cell_type": "code",
   "execution_count": null,
   "id": "recreational-acceptance",
   "metadata": {},
   "outputs": [],
   "source": [
    "record = await agent_controller.issuer.get_record_by_id(cred_ex_id)\n",
    "state = record['state']\n",
    "role = record['role']\n",
    "print(f\"Credential exchange {cred_ex_id}, role: {role}, state: {state}\")"
   ]
  },
  {
   "cell_type": "code",
   "execution_count": null,
   "id": "injured-ground",
   "metadata": {},
   "outputs": [],
   "source": [
    "try:\n",
    "    response = await agent_controller.issuer.store_credential(cred_ex_id, \"My OM Credential\")\n",
    "    state = response['state']\n",
    "    role = response['role']\n",
    "    print(f\"Credential exchange {cred_ex_id}, role: {role}, state: {state}\")\n",
    "except ClientResponseError as err:\n",
    "    print(err)"
   ]
  },
  {
   "cell_type": "markdown",
   "id": "durable-poverty",
   "metadata": {},
   "source": [
    "### Great. You're done with this tutorial. \n",
    "\n",
    "Almost - just terminate the controller below."
   ]
  },
  {
   "cell_type": "code",
   "execution_count": null,
   "id": "beautiful-terror",
   "metadata": {},
   "outputs": [],
   "source": [
    "await agent_controller.terminate()"
   ]
  },
  {
   "cell_type": "code",
   "execution_count": null,
   "id": "different-demonstration",
   "metadata": {},
   "outputs": [],
   "source": []
  }
 ],
 "metadata": {
  "kernelspec": {
   "display_name": "Python 3",
   "language": "python",
   "name": "python3"
  },
  "language_info": {
   "codemirror_mode": {
    "name": "ipython",
    "version": 3
   },
   "file_extension": ".py",
   "mimetype": "text/x-python",
   "name": "python",
   "nbconvert_exporter": "python",
   "pygments_lexer": "ipython3",
   "version": "3.8.5"
  }
 },
 "nbformat": 4,
 "nbformat_minor": 5
}
