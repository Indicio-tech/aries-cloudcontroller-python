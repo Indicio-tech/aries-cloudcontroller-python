{
 "cells": [
  {
   "cell_type": "markdown",
   "id": "dense-collins",
   "metadata": {},
   "source": [
    "# Part 2 - Setting up a mediation for Alice via a mediator"
   ]
  },
  {
   "cell_type": "markdown",
   "id": "upper-payroll",
   "metadata": {},
   "source": [
    "### Initialise the basewallet controller"
   ]
  },
  {
   "cell_type": "code",
   "execution_count": null,
   "id": "previous-bedroom",
   "metadata": {},
   "outputs": [],
   "source": [
    "%autoawait\n",
    "import time\n",
    "import asyncio\n",
    "import pprint\n",
    "\n",
    "from aries_basic_controller.aries_controller import AriesAgentController\n",
    "\n",
    "# Create a small utility to print json formatted outout more human-readable    \n",
    "pp = pprint.PrettyPrinter(indent=4)\n",
    "\n",
    "WEBHOOK_HOST = \"0.0.0.0\"\n",
    "WEBHOOK_BASE = \"\"\n",
    "\n",
    "WEBHOOK_PORT = 8022\n",
    "ADMIN_URL = \"http://basewallet-agent:8021\"\n"
   ]
  },
  {
   "cell_type": "code",
   "execution_count": null,
   "id": "popular-underground",
   "metadata": {},
   "outputs": [],
   "source": [
    "# Based on the aca-py agent you wish to control\n",
    "agent_controller = AriesAgentController(webhook_host=WEBHOOK_HOST, webhook_port=WEBHOOK_PORT,\n",
    "                                       webhook_base=WEBHOOK_BASE, admin_url=ADMIN_URL, multitenant=True)\n"
   ]
  },
  {
   "cell_type": "markdown",
   "id": "presidential-capability",
   "metadata": {},
   "source": [
    "### Updating JWT of the agent controller"
   ]
  },
  {
   "cell_type": "markdown",
   "id": "civic-firewall",
   "metadata": {},
   "source": [
    "Retrieve Alice's token we have stored previously"
   ]
  },
  {
   "cell_type": "code",
   "execution_count": null,
   "id": "bright-anderson",
   "metadata": {},
   "outputs": [],
   "source": [
    "%store -r alice_jwt"
   ]
  },
  {
   "cell_type": "code",
   "execution_count": null,
   "id": "dressed-sauce",
   "metadata": {},
   "outputs": [],
   "source": [
    "print(alice_jwt)"
   ]
  },
  {
   "cell_type": "markdown",
   "id": "vocal-hudson",
   "metadata": {},
   "source": [
    "Now we can update the agent controller with the JWT Token"
   ]
  },
  {
   "cell_type": "code",
   "execution_count": null,
   "id": "sunset-tucson",
   "metadata": {},
   "outputs": [],
   "source": [
    "agent_controller.update_tennant_jwt(alice_jwt)"
   ]
  },
  {
   "cell_type": "markdown",
   "id": "continental-vacuum",
   "metadata": {},
   "source": [
    "Let's check it's really there"
   ]
  },
  {
   "cell_type": "code",
   "execution_count": null,
   "id": "induced-missouri",
   "metadata": {},
   "outputs": [],
   "source": [
    "print(agent_controller.tennant_jwt)"
   ]
  },
  {
   "cell_type": "markdown",
   "id": "super-royalty",
   "metadata": {},
   "source": [
    "Let's create an invitation"
   ]
  },
  {
   "cell_type": "code",
   "execution_count": null,
   "id": "reserved-mobile",
   "metadata": {},
   "outputs": [],
   "source": [
    "# Create Invitation\n",
    "unmediated_invite = await agent_controller.connections.create_invitation()"
   ]
  },
  {
   "cell_type": "markdown",
   "id": "ordinary-academy",
   "metadata": {},
   "source": [
    "We have created an invitation now. Don't worry about this until the end of the notebook. Then you should worry. This will be used to demonstrate something relevant later on."
   ]
  },
  {
   "cell_type": "markdown",
   "id": "cleared-township",
   "metadata": {},
   "source": [
    "### Go to the [mediation agent](http://localhost:8890/notebooks/Configure%20Mediator.ipynb) before you continue to generate and fetch the invitation\n",
    "\n"
   ]
  },
  {
   "cell_type": "markdown",
   "id": "fatty-miller",
   "metadata": {},
   "source": [
    "### Accept Invite From Mediator\n",
    "\n",
    "Replace the invitation object below with the one you have generated in the mediator notebook"
   ]
  },
  {
   "cell_type": "code",
   "execution_count": null,
   "id": "removed-comfort",
   "metadata": {},
   "outputs": [],
   "source": [
    "mediator_invitation = {'@type': 'did:sov:BzCbsNYhMrjHiqZDTUASHg;spec/connections/1.0/invitation', '@id': '75228776-5a0d-43a8-a465-15d5e6905a05', 'label': 'MEDIATOR', 'recipientKeys': ['8yaJtVwKsG6WkCuzDKgNWNvYsYzezXuyA73mRuugTSFA'], 'serviceEndpoint': 'https://b987c2f20b84.ngrok.io'}"
   ]
  },
  {
   "cell_type": "code",
   "execution_count": null,
   "id": "thousand-canadian",
   "metadata": {},
   "outputs": [],
   "source": [
    "response = await agent_controller.connections.accept_connection(mediator_invitation)\n",
    "pp.pprint(response)"
   ]
  },
  {
   "cell_type": "code",
   "execution_count": null,
   "id": "surgical-walnut",
   "metadata": {},
   "outputs": [],
   "source": [
    "connection_id = response[\"connection_id\"]\n",
    "print(connection_id)"
   ]
  },
  {
   "cell_type": "markdown",
   "id": "arranged-zimbabwe",
   "metadata": {},
   "source": [
    "### Request mediation\n",
    "\n",
    "Now that we have successfully established a connection between Alice and the mediator agent we can proceed to request mediation from the mediator."
   ]
  },
  {
   "cell_type": "code",
   "execution_count": null,
   "id": "cellular-stylus",
   "metadata": {},
   "outputs": [],
   "source": [
    "### check state of connection\n",
    "connection = await agent_controller.connections.get_connection(connection_id)\n",
    "print(connection['state'])"
   ]
  },
  {
   "cell_type": "code",
   "execution_count": null,
   "id": "modified-escape",
   "metadata": {},
   "outputs": [],
   "source": [
    "# Let's check for the state\n",
    "if connection['state'] != 'active':\n",
    "    print(\"No active connection. \\n Please go back and ensure you have established an active connection between the mediator agent and Alice's subwallet agent\")    \n",
    "else:\n",
    "    ## request mediation\n",
    "    mediation_req = await agent_controller.mediation.request_mediation(connection_id)\n",
    "    print(mediation_req)\n"
   ]
  },
  {
   "cell_type": "markdown",
   "id": "inclusive-wichita",
   "metadata": {},
   "source": [
    "### Let's have a look at the mediation records and we should see our mediation in there"
   ]
  },
  {
   "cell_type": "code",
   "execution_count": null,
   "id": "round-dispute",
   "metadata": {},
   "outputs": [],
   "source": [
    "response = await agent_controller.mediation.get_mediation_records()\n",
    "print(response)"
   ]
  },
  {
   "cell_type": "markdown",
   "id": "committed-drinking",
   "metadata": {},
   "source": [
    "### Set a default mediator\n",
    "\n",
    "To do this we use the appropriate API endpoint via the agent controller and pass it the mediation ID of our mediated connection"
   ]
  },
  {
   "cell_type": "code",
   "execution_count": null,
   "id": "given-locking",
   "metadata": {},
   "outputs": [],
   "source": [
    "default_mediation_res = await agent_controller.mediation.set_default_mediator(response[0]['mediation_id'])\n",
    "pp.pprint(default_mediation_res)"
   ]
  },
  {
   "cell_type": "markdown",
   "id": "assigned-phrase",
   "metadata": {},
   "source": [
    "### Check whether our default mediator is really there"
   ]
  },
  {
   "cell_type": "code",
   "execution_count": null,
   "id": "spoken-southwest",
   "metadata": {},
   "outputs": [],
   "source": [
    "default_mediator = await agent_controller.mediation.get_default_mediator()\n",
    "pp.pprint(default_mediator)\n",
    "\n",
    "if default_mediator['connection_id'] != connection_id:\n",
    "    print(\"Oooops! Something went wrong setting the default mediator. Please, check above and try again\")\n",
    "else:\n",
    "    print(\"\\n\\n Hooray! We have succesfully set a default mediator.\")\n"
   ]
  },
  {
   "cell_type": "code",
   "execution_count": null,
   "id": "major-power",
   "metadata": {},
   "outputs": [],
   "source": [
    "# Create Invitation\n",
    "invite = await agent_controller.connections.create_invitation()\n",
    "connection_id = invite[\"connection_id\"]\n",
    "invite_message = invite['invitation']\n",
    "print(\"Connection ID\", connection_id)\n",
    "print(\"Invitation\")\n",
    "print(invite_message)\n",
    "pp.pprint(\"\\n\" + invite_message['routingKeys'][0])"
   ]
  },
  {
   "cell_type": "markdown",
   "id": "loose-candidate",
   "metadata": {},
   "source": [
    "### Checking routing keys"
   ]
  },
  {
   "cell_type": "markdown",
   "id": "intimate-damage",
   "metadata": {},
   "source": [
    "This routing key should be used from now on to encrypt all messages/comminucation. Below you'll see that going back our initially created invitation we don't have such key."
   ]
  },
  {
   "cell_type": "code",
   "execution_count": null,
   "id": "christian-direction",
   "metadata": {},
   "outputs": [],
   "source": [
    "unmediated_invite_message = unmediated_invite['invitation']\n",
    "pp.pprint(unmediated_invite_message)"
   ]
  },
  {
   "cell_type": "markdown",
   "id": "reserved-penny",
   "metadata": {},
   "source": [
    "As you can see, there is no routing key in there"
   ]
  },
  {
   "cell_type": "markdown",
   "id": "crude-serum",
   "metadata": {},
   "source": [
    "### Comparing endpoints"
   ]
  },
  {
   "cell_type": "markdown",
   "id": "desirable-webster",
   "metadata": {},
   "source": [
    "Let's check and see that the service endpoint of the mediated connection is now actually the one we got from the invitation from the mediator agent.\n",
    "\n",
    "We'll also see that this is not the endpoint for the unmediated invitation."
   ]
  },
  {
   "cell_type": "code",
   "execution_count": null,
   "id": "valid-salvation",
   "metadata": {},
   "outputs": [],
   "source": [
    "print(\"Unmediated endpoint: \" + unmediated_invite_message['serviceEndpoint'] + \"\\n\\n\")\n",
    "print(\"Mediated endpoint: \" + invite_message['serviceEndpoint'] + \"\\n\\n\")"
   ]
  },
  {
   "cell_type": "markdown",
   "id": "normal-bleeding",
   "metadata": {},
   "source": [
    "### Great. You're done with this tutorial. Please move on to the next."
   ]
  },
  {
   "cell_type": "code",
   "execution_count": null,
   "id": "crude-catalyst",
   "metadata": {},
   "outputs": [],
   "source": [
    "await agent_controller.terminate()"
   ]
  },
  {
   "cell_type": "code",
   "execution_count": null,
   "id": "authorized-scholarship",
   "metadata": {},
   "outputs": [],
   "source": []
  }
 ],
 "metadata": {
  "kernelspec": {
   "display_name": "Python 3",
   "language": "python",
   "name": "python3"
  },
  "language_info": {
   "codemirror_mode": {
    "name": "ipython",
    "version": 3
   },
   "file_extension": ".py",
   "mimetype": "text/x-python",
   "name": "python",
   "nbconvert_exporter": "python",
   "pygments_lexer": "ipython3",
   "version": "3.8.5"
  }
 },
 "nbformat": 4,
 "nbformat_minor": 5
}
