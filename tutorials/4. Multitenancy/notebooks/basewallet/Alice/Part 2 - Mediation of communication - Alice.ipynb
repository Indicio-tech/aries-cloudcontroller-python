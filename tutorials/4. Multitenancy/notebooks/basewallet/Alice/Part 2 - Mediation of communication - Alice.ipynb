{
 "cells": [
  {
   "cell_type": "markdown",
   "id": "finite-stereo",
   "metadata": {},
   "source": [
    "# Part 1 - Setting up a subwallet for Alice"
   ]
  },
  {
   "cell_type": "markdown",
   "id": "alert-entry",
   "metadata": {},
   "source": [
    "### Initialise the basewallet controller"
   ]
  },
  {
   "cell_type": "code",
   "execution_count": null,
   "id": "hearing-somalia",
   "metadata": {
    "scrolled": true
   },
   "outputs": [],
   "source": [
    "%autoawait\n",
    "import time\n",
    "import asyncio\n",
    "import pprint\n",
    "\n",
    "from aries_basic_controller.aries_controller import AriesAgentController\n",
    "\n",
    "# Create a small utility to print json formatted outout more human-readable    \n",
    "pp = pprint.PrettyPrinter(indent=4)\n",
    "\n",
    "WEBHOOK_HOST = \"0.0.0.0\"\n",
    "WEBHOOK_BASE = \"\"\n",
    "\n",
    "WEBHOOK_PORT = 8022\n",
    "ADMIN_URL = \"http://basewallet-agent:8021\"\n",
    "\n",
    "# Based on the aca-py agent you wish to control\n",
    "agent_controller = AriesAgentController(webhook_host=WEBHOOK_HOST, webhook_port=WEBHOOK_PORT,\n",
    "                                       webhook_base=WEBHOOK_BASE, admin_url=ADMIN_URL, multitenant=True)\n"
   ]
  },
  {
   "cell_type": "markdown",
   "id": "helpful-tattoo",
   "metadata": {},
   "source": [
    "### Creating a subwallet (again)\n",
    "\n",
    "At the end of the previous notebook we have removed all subwallets. We have done so, in order to demonstrate how to achieve this. We'll need subwallets though so let's create a new one for Alice."
   ]
  },
  {
   "cell_type": "code",
   "execution_count": null,
   "id": "antique-lightweight",
   "metadata": {},
   "outputs": [],
   "source": [
    "## First let's create the payload\n",
    "\n",
    "payload = {\n",
    "  \"image_url\": \"https://aries.ca/images/sample.png\",\n",
    "  \"key_management_mode\": \"managed\",\n",
    "  \"label\": \"Alice\",\n",
    "  \"wallet_dispatch_type\": \"default\",\n",
    "  \"wallet_key\": \"MySecretKey123\",\n",
    "  \"wallet_name\": \"AlicesWallet\",\n",
    "  \"wallet_type\": \"indy\",\n",
    "  \"wallet_webhook_urls\": [\n",
    "    \"http://localhost:8022/webhooks\"\n",
    "  ]\n",
    "}"
   ]
  },
  {
   "cell_type": "code",
   "execution_count": null,
   "id": "fluid-holder",
   "metadata": {},
   "outputs": [],
   "source": [
    "## Now, we create the wallet on the agent \n",
    "response_alice = await agent_controller.multitenant.create_subwallet(payload)\n",
    "pp.pprint(response_alice)"
   ]
  },
  {
   "cell_type": "markdown",
   "id": "little-titanium",
   "metadata": {},
   "source": [
    "### Updating jwt_token of the agent controller"
   ]
  },
  {
   "cell_type": "markdown",
   "id": "cordless-bacteria",
   "metadata": {},
   "source": [
    "First we need to obtain the token from the wallet via the agent using the wallet id"
   ]
  },
  {
   "cell_type": "code",
   "execution_count": null,
   "id": "missing-copyright",
   "metadata": {},
   "outputs": [],
   "source": [
    "wallet_id_alice = response_alice['wallet_id']\n",
    "\n",
    "print(\"Alice's wallet ID: \" + wallet_id_alice)"
   ]
  },
  {
   "cell_type": "code",
   "execution_count": null,
   "id": "invisible-oriental",
   "metadata": {},
   "outputs": [],
   "source": [
    "jwt_token_response_alice = await agent_controller.multitenant.get_subwallet_authtoken_by_id(wallet_id_alice)\n",
    "jwt_token_alice = jwt_token_response_alice['token']\n",
    "print(\"JWT Token: \" + jwt_token_alice)"
   ]
  },
  {
   "cell_type": "markdown",
   "id": "biblical-revision",
   "metadata": {},
   "source": [
    "Now we can update the agent controller with the JWT Token"
   ]
  },
  {
   "cell_type": "code",
   "execution_count": null,
   "id": "processed-coral",
   "metadata": {},
   "outputs": [],
   "source": [
    "agent_controller.update_jwt_token(jwt_token_alice)"
   ]
  },
  {
   "cell_type": "code",
   "execution_count": null,
   "id": "later-engine",
   "metadata": {},
   "outputs": [],
   "source": [
    "# res = await agent_controller.terminate()\n",
    "# print(res)"
   ]
  },
  {
   "cell_type": "code",
   "execution_count": null,
   "id": "transparent-coordination",
   "metadata": {},
   "outputs": [],
   "source": [
    "# agent_controller = AriesAgentController(webhook_host=WEBHOOK_HOST, webhook_port=WEBHOOK_PORT,\n",
    "#                                        webhook_base=WEBHOOK_BASE, admin_url=ADMIN_URL, multitenant=True, jwt_token=jwt_token_alice['token'])\n"
   ]
  },
  {
   "cell_type": "markdown",
   "id": "arabic-republic",
   "metadata": {},
   "source": [
    "Let's check it's really there"
   ]
  },
  {
   "cell_type": "code",
   "execution_count": null,
   "id": "automotive-touch",
   "metadata": {},
   "outputs": [],
   "source": [
    "print(agent_controller.jwt_token)"
   ]
  },
  {
   "cell_type": "markdown",
   "id": "inner-illustration",
   "metadata": {},
   "source": [
    "### Accept Invite From Mediator\n",
    "\n"
   ]
  },
  {
   "cell_type": "code",
   "execution_count": null,
   "id": "liberal-politics",
   "metadata": {},
   "outputs": [],
   "source": [
    "mediator_invitation = {'@type': 'did:sov:BzCbsNYhMrjHiqZDTUASHg;spec/connections/1.0/invitation', '@id': 'ad421292-5b26-4f92-aeb9-64fc0864673d', 'recipientKeys': ['CjF811R3iFTn3fjRmuv3eg9BE7eDZEfgheocVenXFEdp'], 'label': 'MEDIATOR', 'serviceEndpoint': 'https://97ea36fd4863.ngrok.io'}"
   ]
  },
  {
   "cell_type": "code",
   "execution_count": null,
   "id": "controlling-playback",
   "metadata": {
    "scrolled": true
   },
   "outputs": [],
   "source": [
    "response = await agent_controller.connections.accept_connection(mediator_invitation)\n",
    "pp.pprint(response)"
   ]
  },
  {
   "cell_type": "code",
   "execution_count": null,
   "id": "dried-currency",
   "metadata": {},
   "outputs": [],
   "source": [
    "connection_id = response[\"connection_id\"]\n",
    "print(connection_id)"
   ]
  },
  {
   "cell_type": "code",
   "execution_count": null,
   "id": "comfortable-checklist",
   "metadata": {},
   "outputs": [],
   "source": [
    "response = await agent_controller.mediation.get_mediation_records()\n",
    "print(response)\n",
    "print('\\n')\n",
    "mediation_id = response[0]['mediation_id']"
   ]
  },
  {
   "cell_type": "markdown",
   "id": "ideal-bowling",
   "metadata": {},
   "source": [
    "### Mediation requested\n",
    "\n",
    "Notice in the output above that we have requested mediation so the `state` is now `requested`.\n",
    "\n",
    "We can now head back over to [Bob](http://localhost:8888/notebooks/Bob/Part%202%20-%20Mediation.ipynb) to accept the request."
   ]
  },
  {
   "cell_type": "markdown",
   "id": "satellite-design",
   "metadata": {},
   "source": [
    "### Use Bob as our default mediator\n",
    "\n",
    "Now that Bob has granted our request let's set him as our defautl mediator"
   ]
  },
  {
   "cell_type": "code",
   "execution_count": null,
   "id": "searching-missile",
   "metadata": {},
   "outputs": [],
   "source": [
    "response = await agent_controller.mediation.set_default_mediator(mediation_id)\n",
    "print(response)"
   ]
  },
  {
   "cell_type": "markdown",
   "id": "annoying-scope",
   "metadata": {},
   "source": [
    "### Set a default mediator"
   ]
  },
  {
   "cell_type": "code",
   "execution_count": null,
   "id": "athletic-domestic",
   "metadata": {},
   "outputs": [],
   "source": []
  },
  {
   "cell_type": "markdown",
   "id": "abroad-burst",
   "metadata": {},
   "source": [
    "### Check whether there really is our default mediator"
   ]
  },
  {
   "cell_type": "code",
   "execution_count": null,
   "id": "convinced-hours",
   "metadata": {},
   "outputs": [],
   "source": [
    "response = await agent_controller.mediation.get_default_mediator()\n",
    "print(response)"
   ]
  },
  {
   "cell_type": "code",
   "execution_count": null,
   "id": "mobile-tuner",
   "metadata": {},
   "outputs": [],
   "source": []
  },
  {
   "cell_type": "code",
   "execution_count": null,
   "id": "european-analyst",
   "metadata": {},
   "outputs": [],
   "source": [
    "await agent_controller.terminate()"
   ]
  },
  {
   "cell_type": "code",
   "execution_count": null,
   "id": "concerned-valve",
   "metadata": {},
   "outputs": [],
   "source": []
  },
  {
   "cell_type": "code",
   "execution_count": null,
   "id": "appreciated-transcript",
   "metadata": {},
   "outputs": [],
   "source": []
  }
 ],
 "metadata": {
  "kernelspec": {
   "display_name": "Python 3",
   "language": "python",
   "name": "python3"
  },
  "language_info": {
   "codemirror_mode": {
    "name": "ipython",
    "version": 3
   },
   "file_extension": ".py",
   "mimetype": "text/x-python",
   "name": "python",
   "nbconvert_exporter": "python",
   "pygments_lexer": "ipython3",
   "version": "3.8.5"
  }
 },
 "nbformat": 4,
 "nbformat_minor": 5
}
