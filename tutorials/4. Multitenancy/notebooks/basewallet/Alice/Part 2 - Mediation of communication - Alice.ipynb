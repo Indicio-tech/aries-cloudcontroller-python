{
 "cells": [
  {
   "cell_type": "markdown",
   "id": "potential-jumping",
   "metadata": {},
   "source": [
    "# Part 1 - Setting up a subwallet for Alice"
   ]
  },
  {
   "cell_type": "markdown",
   "id": "handed-purse",
   "metadata": {},
   "source": [
    "### Initialise the basewallet controller"
   ]
  },
  {
   "cell_type": "code",
   "execution_count": null,
   "id": "surprising-trunk",
   "metadata": {
    "scrolled": true
   },
   "outputs": [],
   "source": [
    "%autoawait\n",
    "import time\n",
    "import asyncio\n",
    "import pprint\n",
    "\n",
    "from aries_basic_controller.aries_controller import AriesAgentController\n",
    "\n",
    "# Create a small utility to print json formatted outout more human-readable    \n",
    "pp = pprint.PrettyPrinter(indent=4)\n",
    "\n",
    "WEBHOOK_HOST = \"0.0.0.0\"\n",
    "WEBHOOK_BASE = \"\"\n",
    "\n",
    "WEBHOOK_PORT = 8022\n",
    "ADMIN_URL = \"http://basewallet-agent:8021\"\n",
    "\n",
    "# Based on the aca-py agent you wish to control\n",
    "agent_controller = AriesAgentController(webhook_host=WEBHOOK_HOST, webhook_port=WEBHOOK_PORT,\n",
    "                                       webhook_base=WEBHOOK_BASE, admin_url=ADMIN_URL, multitenant=True)\n"
   ]
  },
  {
   "cell_type": "markdown",
   "id": "employed-texture",
   "metadata": {},
   "source": [
    "### Updating JWT of the agent controller"
   ]
  },
  {
   "cell_type": "markdown",
   "id": "desirable-criticism",
   "metadata": {},
   "source": [
    "Retrieve Alice's token we have stored previously"
   ]
  },
  {
   "cell_type": "code",
   "execution_count": null,
   "id": "designing-syracuse",
   "metadata": {},
   "outputs": [],
   "source": [
    "%store -r alice_jwt"
   ]
  },
  {
   "cell_type": "code",
   "execution_count": null,
   "id": "dominican-trash",
   "metadata": {},
   "outputs": [],
   "source": [
    "print(alice_jwt)"
   ]
  },
  {
   "cell_type": "markdown",
   "id": "insured-explorer",
   "metadata": {},
   "source": [
    "Now we can update the agent controller with the JWT Token"
   ]
  },
  {
   "cell_type": "code",
   "execution_count": null,
   "id": "everyday-milan",
   "metadata": {},
   "outputs": [],
   "source": [
    "agent_controller.update_jwt_token(alice_jwt)"
   ]
  },
  {
   "cell_type": "markdown",
   "id": "pediatric-difference",
   "metadata": {},
   "source": [
    "Let's check it's really there"
   ]
  },
  {
   "cell_type": "code",
   "execution_count": null,
   "id": "later-holocaust",
   "metadata": {},
   "outputs": [],
   "source": [
    "print(agent_controller.jwt_token)"
   ]
  },
  {
   "cell_type": "markdown",
   "id": "polished-transaction",
   "metadata": {},
   "source": [
    "Let's create an invitation"
   ]
  },
  {
   "cell_type": "code",
   "execution_count": null,
   "id": "colonial-nickname",
   "metadata": {},
   "outputs": [],
   "source": [
    "# Create Invitation\n",
    "unmediated_invite = await agent_controller.connections.create_invitation()"
   ]
  },
  {
   "cell_type": "markdown",
   "id": "steady-gallery",
   "metadata": {},
   "source": [
    "We have created an invitation now. Don't worry about this until the end of the notebook. Then you should worry. This will be used to demonstrate something relevant later on."
   ]
  },
  {
   "cell_type": "markdown",
   "id": "stable-heater",
   "metadata": {},
   "source": [
    "### Go to the [mediation agent](http://localhost:8890/notebooks/Configure%20Mediator.ipynb) before you continue to generate and fetch the invitation\n",
    "\n"
   ]
  },
  {
   "cell_type": "markdown",
   "id": "elementary-services",
   "metadata": {},
   "source": [
    "### Accept Invite From Mediator\n",
    "\n",
    "Replace the invitation object below with the one you have generated in the mediator notebook"
   ]
  },
  {
   "cell_type": "code",
   "execution_count": null,
   "id": "funny-phrase",
   "metadata": {},
   "outputs": [],
   "source": [
    "mediator_invitation = {'@type': 'did:sov:BzCbsNYhMrjHiqZDTUASHg;spec/connections/1.0/invitation', '@id': '17e1b589-6513-4ec8-9919-bfc9f434e674', 'serviceEndpoint': 'http://3e052d4a1f80.ngrok.io', 'recipientKeys': ['BJaCdqdPzZnSzFM3Rjk2N4NAEzvtSv7DVJNTJCZ7ArX2'], 'label': 'MEDIATOR'}"
   ]
  },
  {
   "cell_type": "code",
   "execution_count": null,
   "id": "liable-plastic",
   "metadata": {
    "scrolled": true
   },
   "outputs": [],
   "source": [
    "response = await agent_controller.connections.accept_connection(mediator_invitation)\n",
    "pp.pprint(response)"
   ]
  },
  {
   "cell_type": "code",
   "execution_count": null,
   "id": "forward-channel",
   "metadata": {},
   "outputs": [],
   "source": [
    "connection_id = response[\"connection_id\"]\n",
    "print(connection_id)"
   ]
  },
  {
   "cell_type": "markdown",
   "id": "prostate-graduate",
   "metadata": {},
   "source": [
    "### Request mediation\n",
    "\n",
    "Now that we have successfully established a connection between Alice and the mediator agent we can proceed to request mediation from the mediator."
   ]
  },
  {
   "cell_type": "code",
   "execution_count": null,
   "id": "democratic-anderson",
   "metadata": {},
   "outputs": [],
   "source": [
    "### check state of connection\n",
    "connection = await agent_controller.connections.get_connection(connection_id)\n",
    "print(connection['state'])"
   ]
  },
  {
   "cell_type": "code",
   "execution_count": null,
   "id": "geological-skill",
   "metadata": {},
   "outputs": [],
   "source": [
    "# Let's check ofr the state\n",
    "if connection['state'] != 'active':\n",
    "    print(\"No active connection. \\n Please go back and ensure you have established an active connection between the mediator agent and Alice's subwallet agent\")    \n",
    "else:\n",
    "    ## request mediation\n",
    "    mediation_req = await agent_controller.mediation.request_mediation(connection_id)\n",
    "    print(mediation_req)\n"
   ]
  },
  {
   "cell_type": "markdown",
   "id": "random-burden",
   "metadata": {},
   "source": [
    "### Let's have a look at the mediation records and we should see our mediation in there"
   ]
  },
  {
   "cell_type": "code",
   "execution_count": null,
   "id": "national-circuit",
   "metadata": {},
   "outputs": [],
   "source": [
    "response = await agent_controller.mediation.get_mediation_records()\n",
    "print(response)"
   ]
  },
  {
   "cell_type": "markdown",
   "id": "secure-selling",
   "metadata": {},
   "source": [
    "### Set a default mediator\n",
    "\n",
    "To do this we use the appropriate API endpoint via the agent controller and pass it the mediation ID of our mediated connection"
   ]
  },
  {
   "cell_type": "code",
   "execution_count": null,
   "id": "polish-chassis",
   "metadata": {},
   "outputs": [],
   "source": [
    "default_mediation_res = await agent_controller.mediation.set_default_mediator(response[0]['mediation_id'])\n",
    "print(default_mediation_res)"
   ]
  },
  {
   "cell_type": "markdown",
   "id": "provincial-stocks",
   "metadata": {},
   "source": [
    "### Check whether our default mediator is really there"
   ]
  },
  {
   "cell_type": "code",
   "execution_count": null,
   "id": "junior-scanning",
   "metadata": {},
   "outputs": [],
   "source": [
    "default_mediator = await agent_controller.mediation.get_default_mediator()\n",
    "print(default_mediator)\n",
    "\n",
    "if default_mediator['connection_id'] != connection_id:\n",
    "    print(\"Oooops! Something went wrong setting the default mediator. Please, check above and try again\")\n",
    "else:\n",
    "    print(\"\\n\\n Hooray! We have succesfully set a default mediator.\")\n"
   ]
  },
  {
   "cell_type": "code",
   "execution_count": null,
   "id": "twenty-practitioner",
   "metadata": {},
   "outputs": [],
   "source": [
    "# Create Invitation\n",
    "invite = await agent_controller.connections.create_invitation()\n",
    "connection_id = invite[\"connection_id\"]\n",
    "invite_message = invite['invitation']\n",
    "print(\"Connection ID\", connection_id)\n",
    "print(\"Invitation\")\n",
    "print(invite_message)\n",
    "pp.pprint(\"\\n\" + invite_message['routingKeys'][0])"
   ]
  },
  {
   "cell_type": "markdown",
   "id": "preceding-plain",
   "metadata": {},
   "source": [
    "### Checking routing keys"
   ]
  },
  {
   "cell_type": "markdown",
   "id": "listed-nebraska",
   "metadata": {},
   "source": [
    "This routing key should be used from now on to encrypt all messages/comminucation. Below you'll see that going back our initially created invitation we don't have such key."
   ]
  },
  {
   "cell_type": "code",
   "execution_count": null,
   "id": "existing-bishop",
   "metadata": {},
   "outputs": [],
   "source": [
    "unmediated_invite_message = unmediated_invite['invitation']\n",
    "pp.pprint(unmediated_invite_message)"
   ]
  },
  {
   "cell_type": "markdown",
   "id": "australian-noise",
   "metadata": {},
   "source": [
    "As you can see, there is no routing key in there"
   ]
  },
  {
   "cell_type": "markdown",
   "id": "aware-daniel",
   "metadata": {},
   "source": [
    "### Comparing endpoints"
   ]
  },
  {
   "cell_type": "markdown",
   "id": "legitimate-girlfriend",
   "metadata": {},
   "source": [
    "Let's check and see that the service endpoint of the mediated connection is now actually the one we got from the invitation from the mediator agent.\n",
    "\n",
    "We'll also see that this is not the endpoint for the unmediated invitation."
   ]
  },
  {
   "cell_type": "code",
   "execution_count": null,
   "id": "flying-workplace",
   "metadata": {},
   "outputs": [],
   "source": [
    "print(\"Unmediated endpoint: \" + unmediated_invite_message['serviceEndpoint'] + \"\\n\\n\")\n",
    "print(\"Mediated endpoint: \" + invite_message['serviceEndpoint'] + \"\\n\\n\")"
   ]
  },
  {
   "cell_type": "markdown",
   "id": "round-agreement",
   "metadata": {},
   "source": [
    "### Great. You're done with this tutorial. Please move on to the next."
   ]
  },
  {
   "cell_type": "code",
   "execution_count": null,
   "id": "verified-merit",
   "metadata": {},
   "outputs": [],
   "source": [
    "await agent_controller.terminate()"
   ]
  },
  {
   "cell_type": "code",
   "execution_count": null,
   "id": "explicit-average",
   "metadata": {},
   "outputs": [],
   "source": []
  }
 ],
 "metadata": {
  "kernelspec": {
   "display_name": "Python 3",
   "language": "python",
   "name": "python3"
  },
  "language_info": {
   "codemirror_mode": {
    "name": "ipython",
    "version": 3
   },
   "file_extension": ".py",
   "mimetype": "text/x-python",
   "name": "python",
   "nbconvert_exporter": "python",
   "pygments_lexer": "ipython3",
   "version": "3.8.5"
  }
 },
 "nbformat": 4,
 "nbformat_minor": 5
}
