{
 "cells": [
  {
   "cell_type": "markdown",
   "id": "graduate-chicago",
   "metadata": {},
   "source": [
    "# Part 1 - Setting up a subwallet for Alice"
   ]
  },
  {
   "cell_type": "markdown",
   "id": "crazy-beast",
   "metadata": {},
   "source": [
    "### Initialise the basewallet controller"
   ]
  },
  {
   "cell_type": "code",
   "execution_count": null,
   "id": "expired-technician",
   "metadata": {},
   "outputs": [],
   "source": [
    "%autoawait\n",
    "import time\n",
    "import asyncio\n",
    "from aries_basic_controller.aries_controller import AriesAgentController\n",
    "    \n",
    "WEBHOOK_HOST = \"0.0.0.0\"\n",
    "WEBHOOK_BASE = \"\"\n",
    "\n",
    "WEBHOOK_PORT = 8022\n",
    "ADMIN_URL = \"http://basewallet-agent:8021\"\n",
    "\n",
    "# Based on the aca-py agent you wish to control\n",
    "agent_controller = AriesAgentController(webhook_host=WEBHOOK_HOST, webhook_port=WEBHOOK_PORT,\n",
    "                                       webhook_base=WEBHOOK_BASE, admin_url=ADMIN_URL, multitenant=True, api_key=\"password\")"
   ]
  },
  {
   "cell_type": "markdown",
   "id": "limiting-peace",
   "metadata": {},
   "source": [
    "### Check for subwallet on the agent\n",
    "\n",
    "This should yield an mepty result, but not error. That means we successfully asked the basewallet holder multitenant agent about subwallets."
   ]
  },
  {
   "cell_type": "code",
   "execution_count": null,
   "id": "closing-montana",
   "metadata": {},
   "outputs": [],
   "source": [
    "response = await agent_controller.multitenant.query_subwallets()\n",
    "print(response)\n"
   ]
  },
  {
   "cell_type": "markdown",
   "id": "powered-store",
   "metadata": {},
   "source": [
    "### Let's create a subwallet\n",
    "\n"
   ]
  },
  {
   "cell_type": "code",
   "execution_count": null,
   "id": "activated-mills",
   "metadata": {},
   "outputs": [],
   "source": [
    "## First let's create the payload\n",
    "\n",
    "payload = {\n",
    "  \"image_url\": \"https://aries.ca/images/sample.png\",\n",
    "  \"key_management_mode\": \"managed\",\n",
    "  \"label\": \"Alice\",\n",
    "  \"wallet_dispatch_type\": \"default\",\n",
    "  \"wallet_key\": \"MySecretKey123\",\n",
    "  \"wallet_name\": \"AlicesWallet\",\n",
    "  \"wallet_type\": \"indy\",\n",
    "  \"wallet_webhook_urls\": [\n",
    "    \"http://localhost:8022/webhooks\"\n",
    "  ]\n",
    "}"
   ]
  },
  {
   "cell_type": "code",
   "execution_count": null,
   "id": "artificial-chain",
   "metadata": {},
   "outputs": [],
   "source": [
    "## Now, we create the wallet on the agent \n",
    "\n",
    "response = await agent_controller.multitenant.create_subwallet(payload)\n",
    "print(response)"
   ]
  },
  {
   "cell_type": "markdown",
   "id": "institutional-turning",
   "metadata": {},
   "source": [
    "### Creating more subwallets\n",
    "\n",
    "head over to [Bob's notebook]() and initiate a subwallet for Bob as well. Note that you will have to create another controller for Bob that accesses the same agent that holds the base wallet but is specific to Bob, another client."
   ]
  },
  {
   "cell_type": "markdown",
   "id": "dimensional-muscle",
   "metadata": {},
   "source": [
    "### Extract the wallet ID"
   ]
  },
  {
   "cell_type": "code",
   "execution_count": null,
   "id": "sudden-paste",
   "metadata": {},
   "outputs": [],
   "source": [
    "wallet_id = response['wallet_id']\n",
    "print(wallet_id)"
   ]
  },
  {
   "cell_type": "markdown",
   "id": "blank-superintendent",
   "metadata": {},
   "source": [
    "### Get a single subwallet by ID"
   ]
  },
  {
   "cell_type": "code",
   "execution_count": null,
   "id": "working-render",
   "metadata": {},
   "outputs": [],
   "source": [
    "response = await agent_controller.multitenant.get_single_subwallet_by_id(wallet_id)\n",
    "print(response)"
   ]
  },
  {
   "cell_type": "markdown",
   "id": "numerous-train",
   "metadata": {},
   "source": [
    "\n",
    "### Update a single subwallet\n",
    "\n"
   ]
  },
  {
   "cell_type": "code",
   "execution_count": null,
   "id": "radio-action",
   "metadata": {},
   "outputs": [],
   "source": [
    "request_body = {\n",
    "  \"image_url\": \"https://aries.ca/images/sample.png\",\n",
    "  \"label\": \"Alice\",\n",
    "  \"wallet_dispatch_type\": \"default\",\n",
    "  \"wallet_webhook_urls\": [\n",
    "    \"http://localhost:8022/webhooks\"\n",
    "  ]\n",
    "}\n",
    "\n",
    "response = await agent_controller.multitenant.update_subwallet_by_id(request_body, wallet_id)\n",
    "print(response)"
   ]
  },
  {
   "cell_type": "markdown",
   "id": "alternate-target",
   "metadata": {},
   "source": [
    "### Get the auth token for a  subwallet"
   ]
  },
  {
   "cell_type": "code",
   "execution_count": null,
   "id": "hazardous-private",
   "metadata": {},
   "outputs": [],
   "source": [
    "response = await agent_controller.multitenant.get_subwallet_authtoken_by_id(wallet_id)\n",
    "print(response)"
   ]
  },
  {
   "cell_type": "markdown",
   "id": "sweet-intersection",
   "metadata": {},
   "source": [
    "### Remove the subwallet from the agent \n",
    "\n",
    "TODO: Determine whether th empty request body should be passed as empty request body or whether this should be handled in the controller class so it can be omitted if empty"
   ]
  },
  {
   "cell_type": "code",
   "execution_count": null,
   "id": "located-forth",
   "metadata": {},
   "outputs": [],
   "source": [
    "response = await agent_controller.multitenant.remove_subwallet_by_id(wallet_id)\n",
    "print(response)\n"
   ]
  },
  {
   "cell_type": "markdown",
   "id": "flying-maria",
   "metadata": {},
   "source": [
    "### Check there is no more wallet for Alice\n",
    "\n",
    "TODO; Handle this gracefully. Now this either will give a result which is Bob's wallet from the other notebook, if one has followed the instructions and queries for Alice's wallet by ID. Or this will produce a 404 wallet not found error when querying"
   ]
  },
  {
   "cell_type": "code",
   "execution_count": null,
   "id": "introductory-framework",
   "metadata": {},
   "outputs": [],
   "source": [
    "response_all_wallets = await agent_controller.multitenant.query_subwallets()\n",
    "response_single_wallet = await agent_controller.multitenant.get_single_subwallet_by_id(wallet_id)\n",
    "\n",
    "print(response_single_wallet)\n",
    "print(response_all_wallets)"
   ]
  },
  {
   "cell_type": "markdown",
   "id": "variable-meaning",
   "metadata": {},
   "source": [
    "### Terminate the controller"
   ]
  },
  {
   "cell_type": "code",
   "execution_count": null,
   "id": "defensive-petersburg",
   "metadata": {},
   "outputs": [],
   "source": [
    "responsense = await agent_controller.terminate()\n",
    "print(response)"
   ]
  },
  {
   "cell_type": "markdown",
   "id": "powered-crisis",
   "metadata": {},
   "source": [
    "### Head over to [Bob]() and remove the wallet and the controller"
   ]
  }
 ],
 "metadata": {
  "kernelspec": {
   "display_name": "Python 3",
   "language": "python",
   "name": "python3"
  },
  "language_info": {
   "codemirror_mode": {
    "name": "ipython",
    "version": 3
   },
   "file_extension": ".py",
   "mimetype": "text/x-python",
   "name": "python",
   "nbconvert_exporter": "python",
   "pygments_lexer": "ipython3",
   "version": "3.8.5"
  }
 },
 "nbformat": 4,
 "nbformat_minor": 5
}
