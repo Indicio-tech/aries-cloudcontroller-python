{
 "cells": [
  {
   "cell_type": "code",
   "execution_count": null,
   "id": "driven-climate",
   "metadata": {},
   "outputs": [],
   "source": [
    "import nest_asyncio\n",
    "import asyncio as asio\n",
    "\n",
    "nest_asyncio.apply()\n"
   ]
  },
  {
   "cell_type": "markdown",
   "id": "binding-coach",
   "metadata": {},
   "source": [
    "### Server side\n"
   ]
  },
  {
   "cell_type": "code",
   "execution_count": null,
   "id": "moved-suspect",
   "metadata": {},
   "outputs": [],
   "source": [
    "import nest_asyncio as asyncio\n",
    "import os\n",
    "\n",
    "import aiohttp.web\n",
    "\n",
    "HOST = os.getenv('HOST', '127.0.0.1')\n",
    "PORT = int(os.getenv('PORT', 8090))"
   ]
  },
  {
   "cell_type": "markdown",
   "id": "worse-egyptian",
   "metadata": {},
   "source": [
    "### Client 1 - Doing it"
   ]
  },
  {
   "cell_type": "code",
   "execution_count": null,
   "id": "civilian-dairy",
   "metadata": {},
   "outputs": [],
   "source": [
    "import aiohttp\n",
    "\n",
    "\n",
    "URL = f'http://{HOST}:{PORT}/ws'\n",
    "\n",
    "\n",
    "async def main():\n",
    "    session = aiohttp.ClientSession()\n",
    "    async with session.ws_connect(URL) as ws:\n",
    "\n",
    "        await prompt_and_send(ws)\n",
    "        async for msg in ws:\n",
    "            print('Message received from server:', msg)\n",
    "            await prompt_and_send(ws)\n",
    "\n",
    "            if msg.type in (aiohttp.WSMsgType.CLOSED,\n",
    "                            aiohttp.WSMsgType.ERROR):\n",
    "                break\n",
    "\n",
    "\n",
    "async def prompt_and_send(ws):\n",
    "    new_msg_to_send = input('Type a message to send to the server: ')\n",
    "    if new_msg_to_send == 'exit':\n",
    "        print('Exiting!')\n",
    "        raise SystemExit(0)\n",
    "    await ws.send_str(new_msg_to_send)\n",
    "\n",
    "\n",
    "\n",
    "loop_client = asio.get_event_loop()\n",
    "loop_client.run_until_complete(main())"
   ]
  },
  {
   "cell_type": "code",
   "execution_count": null,
   "id": "chinese-turner",
   "metadata": {},
   "outputs": [],
   "source": [
    "loop_client.create_task(main())"
   ]
  },
  {
   "cell_type": "code",
   "execution_count": null,
   "id": "prostate-grain",
   "metadata": {},
   "outputs": [],
   "source": []
  }
 ],
 "metadata": {
  "kernelspec": {
   "display_name": "Python 3",
   "language": "python",
   "name": "python3"
  },
  "language_info": {
   "codemirror_mode": {
    "name": "ipython",
    "version": 3
   },
   "file_extension": ".py",
   "mimetype": "text/x-python",
   "name": "python",
   "nbconvert_exporter": "python",
   "pygments_lexer": "ipython3",
   "version": "3.8.5"
  }
 },
 "nbformat": 4,
 "nbformat_minor": 5
}
