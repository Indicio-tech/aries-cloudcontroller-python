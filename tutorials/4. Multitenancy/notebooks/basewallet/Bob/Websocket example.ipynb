{
 "cells": [
  {
   "cell_type": "code",
   "execution_count": null,
   "id": "descending-sierra",
   "metadata": {},
   "outputs": [],
   "source": [
    "import nest_asyncio\n",
    "import asyncio as asio\n",
    "\n",
    "nest_asyncio.apply()"
   ]
  },
  {
   "cell_type": "markdown",
   "id": "configured-progressive",
   "metadata": {},
   "source": [
    "### Server side\n"
   ]
  },
  {
   "cell_type": "code",
   "execution_count": null,
   "id": "democratic-marble",
   "metadata": {},
   "outputs": [],
   "source": [
    "import nest_asyncio as asyncio\n",
    "import os\n",
    "\n",
    "import aiohttp.web\n",
    "\n",
    "HOST = os.getenv('HOST', '127.0.0.1')\n",
    "PORT = int(os.getenv('PORT', 8090))\n",
    "\n",
    "\n",
    "async def testhandle(request):\n",
    "    return aiohttp.web.Response(text='Test handle')\n",
    "\n",
    "\n",
    "async def websocket_handler(request):\n",
    "    print('Websocket connection starting')\n",
    "    ws = aiohttp.web.WebSocketResponse()\n",
    "    await ws.prepare(request)\n",
    "    print('Websocket connection ready')\n",
    "\n",
    "    async for msg in ws:\n",
    "        print(msg)\n",
    "        if msg.type == aiohttp.WSMsgType.TEXT:\n",
    "            print(msg.data)\n",
    "            if msg.data == 'close':\n",
    "                await ws.close()\n",
    "            else:\n",
    "                await ws.send_str(msg.data + '/answer')\n",
    "\n",
    "    print('Websocket connection closed')\n",
    "    return ws\n",
    "\n",
    "\n",
    "async def socket_server(testhandle, websocket_handler, HOST, PORT):\n",
    "    app = aiohttp.web.Application()\n",
    "    app.router.add_route('GET', '/', testhandle)\n",
    "    app.router.add_route('GET', '/ws', websocket_handler)\n",
    "    runner = aiohttp.web.AppRunner(app)\n",
    "    await runner.setup()\n",
    "    webhook_site = aiohttp.web.run_app(app, host=HOST, port=PORT)\n",
    "    await webhook_site.start()"
   ]
  },
  {
   "cell_type": "markdown",
   "id": "recreational-binding",
   "metadata": {},
   "source": [
    "### Run server loop "
   ]
  },
  {
   "cell_type": "code",
   "execution_count": null,
   "id": "honest-correction",
   "metadata": {},
   "outputs": [],
   "source": [
    "loop_server = asio.get_event_loop()\n",
    "loop_server.create_task(socket_server(testhandle, websocket_handler, HOST, PORT))"
   ]
  },
  {
   "cell_type": "markdown",
   "id": "right-grenada",
   "metadata": {},
   "source": [
    "### Client 1 - background"
   ]
  },
  {
   "cell_type": "code",
   "execution_count": null,
   "id": "presidential-maria",
   "metadata": {},
   "outputs": [],
   "source": [
    "import aiohttp\n",
    "\n",
    "\n",
    "URL = f'http://{HOST}:{PORT}/ws'\n",
    "\n",
    "\n",
    "async def main():\n",
    "    session = aiohttp.ClientSession()\n",
    "    async with session.ws_connect(URL) as ws:\n",
    "\n",
    "        await prompt_and_send(ws)\n",
    "        async for msg in ws:\n",
    "            print('Message received from server:', msg)\n",
    "            await prompt_and_send(ws)\n",
    "\n",
    "            if msg.type in (aiohttp.WSMsgType.CLOSED,\n",
    "                            aiohttp.WSMsgType.ERROR):\n",
    "                break\n",
    "\n",
    "\n",
    "async def prompt_and_send(ws):\n",
    "    new_msg_to_send = input('Type a message to send to the server: ')\n",
    "    if new_msg_to_send == 'exit':\n",
    "        print('Exiting!')\n",
    "        raise SystemExit(0)\n",
    "    await ws.send_str(new_msg_to_send)\n",
    "\n",
    "\n",
    "\n",
    "loop_client = asio.get_event_loop()\n",
    "loop_client.create_task(main())"
   ]
  },
  {
   "cell_type": "markdown",
   "id": "objective-navigator",
   "metadata": {},
   "source": [
    "### Client 2 - background"
   ]
  },
  {
   "cell_type": "code",
   "execution_count": null,
   "id": "reflected-america",
   "metadata": {},
   "outputs": [],
   "source": [
    "# loop_client = asio.get_event_loop()\n",
    "loop_client.create_task(main())"
   ]
  },
  {
   "cell_type": "markdown",
   "id": "comparative-flush",
   "metadata": {},
   "source": [
    "### Client 3 - Doing it"
   ]
  },
  {
   "cell_type": "code",
   "execution_count": null,
   "id": "middle-pledge",
   "metadata": {},
   "outputs": [],
   "source": [
    "## Run this until finished just for getting the output visible. Normally we don't want this to finish like above.\n",
    "\n",
    "# loop_client = asio.get_event_loop()\n",
    "loop_client.run_until_complete(main())"
   ]
  },
  {
   "cell_type": "code",
   "execution_count": null,
   "id": "international-deposit",
   "metadata": {},
   "outputs": [],
   "source": []
  }
 ],
 "metadata": {
  "kernelspec": {
   "display_name": "Python 3",
   "language": "python",
   "name": "python3"
  },
  "language_info": {
   "codemirror_mode": {
    "name": "ipython",
    "version": 3
   },
   "file_extension": ".py",
   "mimetype": "text/x-python",
   "name": "python",
   "nbconvert_exporter": "python",
   "pygments_lexer": "ipython3",
   "version": "3.8.5"
  }
 },
 "nbformat": 4,
 "nbformat_minor": 5
}
