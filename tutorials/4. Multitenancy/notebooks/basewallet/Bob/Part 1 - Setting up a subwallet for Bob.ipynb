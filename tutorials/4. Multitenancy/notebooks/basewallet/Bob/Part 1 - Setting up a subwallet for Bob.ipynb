{
 "cells": [
  {
   "cell_type": "markdown",
   "id": "golden-singer",
   "metadata": {},
   "source": [
    "# Part 1 - Setting up a subwallet for Bob\n"
   ]
  },
  {
   "cell_type": "markdown",
   "id": "neutral-convention",
   "metadata": {},
   "source": [
    "### Creating a subwallet for Bob\n",
    "\n",
    "The Agent controller is not yet present from [Alice's notebook](), so let's create another one. In fact, without that you we have no access to the agent that holds the base wallet and issues our subwallet."
   ]
  },
  {
   "cell_type": "code",
   "execution_count": null,
   "id": "chemical-metallic",
   "metadata": {},
   "outputs": [],
   "source": [
    "%autoawait\n",
    "import time\n",
    "import asyncio\n",
    "from aries_basic_controller.aries_controller import AriesAgentController\n",
    "    \n",
    "WEBHOOK_HOST = \"0.0.0.0\"\n",
    "WEBHOOK_BASE = \"\"\n",
    "\n",
    "WEBHOOK_PORT = 8022\n",
    "ADMIN_URL = \"http://basewallet-agent:8021\"\n",
    "\n",
    "# Based on the aca-py agent you wish to control\n",
    "agent_controller = AriesAgentController(webhook_host=WEBHOOK_HOST, webhook_port=WEBHOOK_PORT,\n",
    "                                       webhook_base=WEBHOOK_BASE, admin_url=ADMIN_URL, multitenant=True, api_key=\"password\")"
   ]
  },
  {
   "cell_type": "code",
   "execution_count": null,
   "id": "sensitive-dynamics",
   "metadata": {},
   "outputs": [],
   "source": [
    "## First let's create the payload\n",
    "\n",
    "payload = {\n",
    "  \"image_url\": \"https://aries.ca/images/sample.png\",\n",
    "  \"key_management_mode\": \"managed\",\n",
    "  \"label\": \"Bob\",\n",
    "  \"wallet_dispatch_type\": \"default\",\n",
    "  \"wallet_key\": \"MySecretKey123\",\n",
    "  \"wallet_name\": \"BobsWallet\",\n",
    "  \"wallet_type\": \"indy\",\n",
    "  \"wallet_webhook_urls\": [\n",
    "    \"http://localhost:8022/webhooks\"\n",
    "  ]\n",
    "}"
   ]
  },
  {
   "cell_type": "code",
   "execution_count": null,
   "id": "excess-customer",
   "metadata": {},
   "outputs": [],
   "source": [
    "## Now, we create the wallet on the agent \n",
    "\n",
    "response = await agent_controller.multitenant.create_subwallet(payload)\n",
    "print(response)"
   ]
  },
  {
   "cell_type": "markdown",
   "id": "shaped-following",
   "metadata": {},
   "source": [
    "### Extract the wallet ID"
   ]
  },
  {
   "cell_type": "code",
   "execution_count": null,
   "id": "ambient-tucson",
   "metadata": {},
   "outputs": [],
   "source": [
    "wallet_id = response['wallet_id']\n",
    "print(wallet_id)"
   ]
  },
  {
   "cell_type": "markdown",
   "id": "domestic-maine",
   "metadata": {},
   "source": [
    "### Head back over to [Alice]() to explore more feature when iinteracting with the basewallet agent."
   ]
  },
  {
   "cell_type": "markdown",
   "id": "blank-conclusion",
   "metadata": {},
   "source": [
    "### Remove the wallet\n",
    "\n",
    "TODO: Determine whether th empty request body should be passed as empty request body or whether this should be handled in the controller class so it can be omitted if empty"
   ]
  },
  {
   "cell_type": "code",
   "execution_count": null,
   "id": "apart-lighter",
   "metadata": {},
   "outputs": [],
   "source": [
    "response = await agent_controller.multitenant.remove_subwallet_by_id(wallet_id)\n",
    "print(response)"
   ]
  },
  {
   "cell_type": "markdown",
   "id": "thermal-bobby",
   "metadata": {},
   "source": [
    "### Check there is no more wallet"
   ]
  },
  {
   "cell_type": "code",
   "execution_count": null,
   "id": "removable-jumping",
   "metadata": {},
   "outputs": [],
   "source": [
    "response = await agent_controller.multitenant.query_subwallets()\n",
    "print(response)"
   ]
  },
  {
   "cell_type": "markdown",
   "id": "intermediate-measurement",
   "metadata": {},
   "source": [
    "### Terminate the controller"
   ]
  },
  {
   "cell_type": "code",
   "execution_count": null,
   "id": "seventh-partition",
   "metadata": {},
   "outputs": [],
   "source": [
    "responsense = await agent_controller.terminate()\n",
    "print(response)"
   ]
  },
  {
   "cell_type": "code",
   "execution_count": null,
   "id": "burning-webster",
   "metadata": {},
   "outputs": [],
   "source": []
  }
 ],
 "metadata": {
  "kernelspec": {
   "display_name": "Python 3",
   "language": "python",
   "name": "python3"
  },
  "language_info": {
   "codemirror_mode": {
    "name": "ipython",
    "version": 3
   },
   "file_extension": ".py",
   "mimetype": "text/x-python",
   "name": "python",
   "nbconvert_exporter": "python",
   "pygments_lexer": "ipython3",
   "version": "3.8.5"
  }
 },
 "nbformat": 4,
 "nbformat_minor": 5
}
