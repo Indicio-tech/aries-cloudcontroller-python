{
 "cells": [
  {
   "cell_type": "markdown",
   "id": "funny-uncle",
   "metadata": {},
   "source": [
    "# Part 1 - Exploring Sub Wallet Management\n",
    "\n",
    "This agent has been initialised using the multitennant flag. This means a single ACA-Py instance can be used to manage multiple subwallets. Each tennant gets their own encrypted data storage for managing their own connections, credentials and interactions etc. \n",
    "\n",
    "A mutli-tennant ACA-Py instance contains a base wallet that is only capable of managing the creation and deletion of subwallets. Subwallets then must authenticate to the ACA-Py agent using a JWT Token generated when the subwallet is created. A tennant agent can do all funcationality of a standard ACA-Py instance.\n",
    "\n",
    "### Useful links\n",
    "\n",
    "* [ACA-Py mult-tennant documentation](https://github.com/hyperledger/aries-cloudagent-python/blob/main/Multitenancy.md)\n",
    "* [What is mult-tennancy](https://whatis.techtarget.com/definition/multi-tenancy)\n",
    "\n",
    "\n",
    "### Tutorial Structure\n",
    "\n",
    "1. Create a subwallet for Alice (this notebook)\n",
    "2. Authenticate as Alice using the JWT_Token and configure a mediator\n",
    "3. Issue Alice a Credential from an External Agent\n",
    "4. Alice Issues a Credential to the External Agent"
   ]
  },
  {
   "cell_type": "markdown",
   "id": "rental-trial",
   "metadata": {},
   "source": [
    "### Initialise the basewallet controller"
   ]
  },
  {
   "cell_type": "code",
   "execution_count": null,
   "id": "connected-scale",
   "metadata": {},
   "outputs": [],
   "source": [
    "%autoawait\n",
    "import time\n",
    "import asyncio\n",
    "import pprint\n",
    "\n",
    "from aries_basic_controller.aries_controller import AriesAgentController\n",
    "    \n",
    "# Create a small utility to print json formatted outout more human-readable    \n",
    "pp = pprint.PrettyPrinter(indent=4)\n",
    "    \n",
    "WEBHOOK_HOST = \"0.0.0.0\"\n",
    "WEBHOOK_BASE = \"\"\n",
    "\n",
    "WEBHOOK_PORT = 8022\n",
    "ADMIN_URL = \"http://basewallet-agent:8021\"\n",
    "\n",
    "# Based on the aca-py agent you wish to control\n",
    "agent_controller = AriesAgentController(webhook_host=WEBHOOK_HOST, webhook_port=WEBHOOK_PORT,\n",
    "                                       webhook_base=WEBHOOK_BASE, admin_url=ADMIN_URL, multitenant=True, api_key=\"password\")"
   ]
  },
  {
   "cell_type": "markdown",
   "id": "seventh-tuner",
   "metadata": {},
   "source": [
    "### Check for subwallets on the agent\n",
    "\n",
    "This should yield an mepty result, but not error. That means we successfully asked the basewallet holder multitenant agent about subwallets."
   ]
  },
  {
   "cell_type": "code",
   "execution_count": null,
   "id": "valuable-salon",
   "metadata": {},
   "outputs": [],
   "source": [
    "response = await agent_controller.multitenant.query_subwallets()\n",
    "pp.pprint(response)\n"
   ]
  },
  {
   "cell_type": "markdown",
   "id": "worthy-silicon",
   "metadata": {},
   "source": [
    "### Let's create a subwallet for Alice\n",
    "\n",
    "Below is an example payload to achieve this."
   ]
  },
  {
   "cell_type": "code",
   "execution_count": null,
   "id": "excessive-illinois",
   "metadata": {},
   "outputs": [],
   "source": [
    "## First let's create the payload\n",
    "\n",
    "payload = {\n",
    "  \"image_url\": \"https://aries.ca/images/sample.png\",\n",
    "  \"key_management_mode\": \"managed\",\n",
    "  \"label\": \"Alice\",\n",
    "  \"wallet_dispatch_type\": \"default\",\n",
    "  \"wallet_key\": \"MySecretKey123\",\n",
    "  \"wallet_name\": \"AlicesWallet\",\n",
    "  \"wallet_type\": \"indy\",\n",
    "  \"wallet_webhook_urls\": [\n",
    "    \"http://localhost:8022/webhooks\"\n",
    "  ]\n",
    "}"
   ]
  },
  {
   "cell_type": "code",
   "execution_count": null,
   "id": "second-politics",
   "metadata": {},
   "outputs": [],
   "source": [
    "## Now, we create the wallet on the agent \n",
    "response_alice = await agent_controller.multitenant.create_subwallet(payload)\n",
    "pp.pprint(response_alice)"
   ]
  },
  {
   "cell_type": "markdown",
   "id": "everyday-repeat",
   "metadata": {},
   "source": [
    "### Let's create another wallet for Joe\n",
    "\n",
    "Note, that here we have changed the `label` and the `wallet_name` values. The `wallet_name` has to be unique. If you were to try and create another subwallet with the same wallet name, you would receive an error, because wallet names are unique identifiers."
   ]
  },
  {
   "cell_type": "code",
   "execution_count": null,
   "id": "cultural-theory",
   "metadata": {},
   "outputs": [],
   "source": [
    "## First let's create the payload\n",
    "\n",
    "payload = {\n",
    "  \"image_url\": \"https://aries.ca/images/sample.png\",\n",
    "  \"key_management_mode\": \"managed\",\n",
    "  \"label\": \"Joe\",\n",
    "  \"wallet_dispatch_type\": \"default\",\n",
    "  \"wallet_key\": \"MySecretKey123\",\n",
    "  \"wallet_name\": \"JoesWallet\",\n",
    "  \"wallet_type\": \"indy\",\n",
    "  \"wallet_webhook_urls\": [\n",
    "    \"http://localhost:8022/webhooks/joe\"\n",
    "  ]\n",
    "}"
   ]
  },
  {
   "cell_type": "code",
   "execution_count": null,
   "id": "meaningful-minnesota",
   "metadata": {},
   "outputs": [],
   "source": [
    "## Now, we create the wallet on the agent \n",
    "\n",
    "response_joe = await agent_controller.multitenant.create_subwallet(payload)\n",
    "pp.pprint(response_joe)"
   ]
  },
  {
   "cell_type": "markdown",
   "id": "preceding-genetics",
   "metadata": {},
   "source": [
    "### Extract the wallet ID"
   ]
  },
  {
   "cell_type": "code",
   "execution_count": null,
   "id": "associate-explanation",
   "metadata": {},
   "outputs": [],
   "source": [
    "wallet_id_alice = response_alice['wallet_id']\n",
    "wallet_id_joe = response_joe['wallet_id']\n",
    "\n",
    "print(\"Alice's ID: \" + wallet_id_alice)\n",
    "print(\"Joe's ID: \"  + wallet_id_joe)"
   ]
  },
  {
   "cell_type": "markdown",
   "id": "acoustic-norfolk",
   "metadata": {},
   "source": [
    "\n",
    "### Update a single subwallet\n",
    "\n",
    "Let's update Joe's wallet label to Joeseph via the controller"
   ]
  },
  {
   "cell_type": "code",
   "execution_count": null,
   "id": "minus-disability",
   "metadata": {},
   "outputs": [],
   "source": [
    "request_body = {\n",
    "  \"image_url\": \"https://aries.ca/images/sample.png\",\n",
    "  \"label\": \"Joeseph\",\n",
    "  \"wallet_dispatch_type\": \"default\",\n",
    "  \"wallet_webhook_urls\": [\n",
    "    \"http://localhost:8022/webhooks\"\n",
    "  ]\n",
    "}\n",
    "\n",
    "response = await agent_controller.multitenant.update_subwallet_by_id(request_body, wallet_id_joe)\n",
    "pp.pprint(response)"
   ]
  },
  {
   "cell_type": "markdown",
   "id": "rental-simpson",
   "metadata": {},
   "source": [
    "### Remove the subwallet from the agent \n",
    "\n",
    "We can easily use the controller to remove the subwallets.\n",
    "\n",
    "Let's go ahaead and remove Joe's wallets from the base wallet."
   ]
  },
  {
   "cell_type": "code",
   "execution_count": null,
   "id": "national-oklahoma",
   "metadata": {},
   "outputs": [],
   "source": [
    "response_joe = await agent_controller.multitenant.remove_subwallet_by_id(wallet_id_joe)\n",
    "\n",
    "pp.pprint(response_joe)"
   ]
  },
  {
   "cell_type": "markdown",
   "id": "collectible-breast",
   "metadata": {},
   "source": [
    "### Check Joe's wallet has been removed\n",
    "\n",
    "This should now give a result only containing Alice's wallet"
   ]
  },
  {
   "cell_type": "code",
   "execution_count": null,
   "id": "fifteen-douglas",
   "metadata": {},
   "outputs": [],
   "source": [
    "response_all_wallets = await agent_controller.multitenant.query_subwallets()\n",
    "# response_single_wallet = await agent_controller.multitenant.get_single_subwallet_by_id(wallet_id)\n",
    "\n",
    "# print(response_single_wallet)\n",
    "pp.pprint(response_all_wallets)"
   ]
  },
  {
   "cell_type": "markdown",
   "id": "worse-emperor",
   "metadata": {},
   "source": [
    "### Get the auth token for a  subwallet\n",
    "\n",
    "Subwallets have unique authentication tokens that can be obtained via the controller"
   ]
  },
  {
   "cell_type": "code",
   "execution_count": null,
   "id": "typical-webmaster",
   "metadata": {},
   "outputs": [],
   "source": [
    "response_alice = await agent_controller.multitenant.get_subwallet_authtoken_by_id(wallet_id_alice)\n",
    "\n",
    "pp.pprint(response_alice)"
   ]
  },
  {
   "cell_type": "markdown",
   "id": "minor-throw",
   "metadata": {},
   "source": [
    "## Store Alice's JWT for use in later tutorials\n",
    "\n",
    "The % is a magic method to store variables from a notebook to the jupyter runtime"
   ]
  },
  {
   "cell_type": "code",
   "execution_count": null,
   "id": "occupational-stock",
   "metadata": {},
   "outputs": [],
   "source": [
    "alice_jwt = response_alice[\"token\"]\n",
    "%store alice_jwt"
   ]
  },
  {
   "cell_type": "markdown",
   "id": "aboriginal-baghdad",
   "metadata": {},
   "source": [
    "### Terminate the controller\n",
    "\n",
    "Let's alos terminate the controller."
   ]
  },
  {
   "cell_type": "code",
   "execution_count": null,
   "id": "naughty-venezuela",
   "metadata": {},
   "outputs": [],
   "source": [
    "response = await agent_controller.terminate()\n",
    "print(response)"
   ]
  },
  {
   "cell_type": "markdown",
   "id": "armed-explorer",
   "metadata": {},
   "source": [
    "### Continue to [Part 2](http://localhost:8888/notebooks/Alice/Part%202%20-%20Mediation%20of%20communication%20-%20Alice.ipynb) where you will learn how to interact with the ACA-Py instance as Alice"
   ]
  },
  {
   "cell_type": "code",
   "execution_count": null,
   "id": "reduced-maintenance",
   "metadata": {},
   "outputs": [],
   "source": []
  }
 ],
 "metadata": {
  "kernelspec": {
   "display_name": "Python 3",
   "language": "python",
   "name": "python3"
  },
  "language_info": {
   "codemirror_mode": {
    "name": "ipython",
    "version": 3
   },
   "file_extension": ".py",
   "mimetype": "text/x-python",
   "name": "python",
   "nbconvert_exporter": "python",
   "pygments_lexer": "ipython3",
   "version": "3.8.5"
  }
 },
 "nbformat": 4,
 "nbformat_minor": 5
}
