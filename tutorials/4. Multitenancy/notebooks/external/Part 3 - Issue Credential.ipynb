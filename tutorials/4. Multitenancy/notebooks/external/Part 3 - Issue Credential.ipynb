{
 "cells": [
  {
   "cell_type": "markdown",
   "metadata": {},
   "source": [
    "# Aries Basic Controller - Sovrin Stagingnet Issuer Agent\n",
    "\n",
    "## This notebook walks through how to issue a credential across a newly established connection with a mobile SSI agent. \n",
    "\n",
    "## Before running through this notebook you should run through the following notebook - [Part 2](http://localhost:8888/notebooks/Part%202%20-%20Writing%20a%20Public%20DID%20to%20the%20Sovrin%20StagingNet.ipynb).\n",
    "\n",
    "If unfamiliar with the protocol it is worth reading through the [aries-rfs](https://github.com/hyperledger/aries-rfcs/tree/master/features/0036-issue-credential)\n"
   ]
  },
  {
   "cell_type": "markdown",
   "metadata": {},
   "source": [
    "## 1. Initialise a controller for Issuer"
   ]
  },
  {
   "cell_type": "code",
   "execution_count": 72,
   "metadata": {},
   "outputs": [
    {
     "name": "stdout",
     "output_type": "stream",
     "text": [
      "IPython autoawait is `on`, and set to use `asyncio`\n"
     ]
    }
   ],
   "source": [
    "%autoawait\n",
    "import time\n",
    "import asyncio\n",
    "import pprint\n",
    "import sys\n",
    "from termcolor import colored,cprint\n",
    "from aiohttp import ClientConnectorError, ClientResponseError\n",
    "from asyncio import CancelledError\n",
    "\n",
    "from aries_basic_controller.aries_controller import AriesAgentController\n",
    "   \n",
    "# Create a small utility to print json formatted outout more human-readable    \n",
    "pp = pprint.PrettyPrinter(indent=4)\n",
    "\n",
    "WEBHOOK_HOST = \"0.0.0.0\"\n",
    "WEBHOOK_BASE = \"\"\n",
    "\n",
    "WEBHOOK_PORT = 8052\n",
    "ADMIN_URL = \"http://external-agent:8051\"\n"
   ]
  },
  {
   "cell_type": "code",
   "execution_count": null,
   "metadata": {},
   "outputs": [],
   "source": [
    "# Based on the aca-py agent you wish to control\n",
    "agent_controller = AriesAgentController(webhook_host=WEBHOOK_HOST, webhook_port=WEBHOOK_PORT,\n",
    "                                       webhook_base=WEBHOOK_BASE, admin_url=ADMIN_URL)\n",
    "    "
   ]
  },
  {
   "cell_type": "markdown",
   "metadata": {},
   "source": [
    "## 2. Register Listeners\n",
    "\n",
    "The handler should get called every time the controller receives a webhook with the topic issue_credential, printing out the payload. The agent calls to this webhook every time it receives an issue-credential protocol message from a credential."
   ]
  },
  {
   "cell_type": "code",
   "execution_count": 50,
   "metadata": {},
   "outputs": [],
   "source": [
    "loop = asyncio.get_event_loop()\n",
    "loop.create_task(agent_controller.listen_webhooks())\n",
    "\n",
    "def cred_handler(payload):\n",
    "    print(\"Handle Credentials\")\n",
    "    exchange_id = payload['credential_exchange_id']\n",
    "    state = payload['state']\n",
    "    role = payload['role']\n",
    "    attributes = payload['credential_proposal_dict']['credential_proposal']['attributes']\n",
    "    print(f\"Credential exchange {exchange_id}, role: {role}, state: {state}\")\n",
    "    print(f\"Offering: {attributes}\")\n",
    "    \n",
    "cred_listener = {\n",
    "    \"topic\": \"issue_credential\",\n",
    "    \"handler\": cred_handler\n",
    "}\n",
    "\n",
    "def connections_handler(payload):\n",
    "    global STATE\n",
    "    connection_id = payload[\"connection_id\"]\n",
    "    print(\"Connection message\", payload, connection_id)\n",
    "    STATE = payload['state']\n",
    "    if STATE == 'active':\n",
    "#         print('Connection {0} changed state to active'.format(connection_id))\n",
    "        print(colored(\"Connection {0} changed state to active\".format(connection_id), \"red\", attrs=[\"bold\"]))\n",
    "\n",
    "\n",
    "connection_listener = {\n",
    "    \"handler\": connections_handler,\n",
    "    \"topic\": \"connections\"\n",
    "}\n",
    "\n",
    "agent_controller.register_listeners([cred_listener,connection_listener], defaults=True)\n"
   ]
  },
  {
   "cell_type": "markdown",
   "metadata": {},
   "source": [
    "## 3a. Use a previously written schema"
   ]
  },
  {
   "cell_type": "code",
   "execution_count": 51,
   "metadata": {},
   "outputs": [],
   "source": [
    "schema_id = 'MGgoJXWbeupKsaHDa7s4fW:2:testabc:0.0.1'"
   ]
  },
  {
   "cell_type": "markdown",
   "metadata": {},
   "source": [
    "## 3b. (OPTIONAL) Write a Schema to the Ledger\n",
    "\n",
    "For more details see the [schema-api notebook](http://localhost:8888/notebooks/schema_api.ipynb)\n",
    "\n",
    "**Note: You will only be able to do this once unless you change the schema_name or version. Once you have a schema written to the ledger it can be reused by multiple entities**"
   ]
  },
  {
   "cell_type": "code",
   "execution_count": 52,
   "metadata": {},
   "outputs": [
    {
     "name": "stdout",
     "output_type": "stream",
     "text": [
      "JsL2KAjxCnov3gGxLMB7cN:2:SSI PyDentity Tutorial:0.0.1\n"
     ]
    }
   ],
   "source": [
    "# Define you schema name - must be unique on the ledger\n",
    "schema_name = \"SSI PyDentity Tutorial\"\n",
    "# Can version the schema if you wish to update it\n",
    "schema_version = \"0.0.1\"\n",
    "# Define any list of attributes you wish to include in your schema\n",
    "attributes = [\"fullname\", \"skill\", \"age\"]\n",
    "\n",
    "try:\n",
    "    response = await agent_controller.schema.write_schema(schema_name, attributes, schema_version)\n",
    "    schema_id = response[\"schema_id\"]\n",
    "    print(schema_id)\n",
    "except ClientConnectorError as err:\n",
    "    print(err)\n",
    "except ClientResponseError as err:\n",
    "    print(err)\n"
   ]
  },
  {
   "cell_type": "markdown",
   "metadata": {},
   "source": [
    "## 4. Write a Credential Definition to the Ledger\n",
    "\n",
    "**Note: Again this can only be done once per issuer, per schema_id.**"
   ]
  },
  {
   "cell_type": "code",
   "execution_count": 53,
   "metadata": {},
   "outputs": [
    {
     "name": "stdout",
     "output_type": "stream",
     "text": [
      "JsL2KAjxCnov3gGxLMB7cN:3:CL:195227:default\n"
     ]
    }
   ],
   "source": [
    "try:\n",
    "    response = await agent_controller.definitions.write_cred_def(schema_id)\n",
    "    cred_def_id = response[\"credential_definition_id\"]\n",
    "    print(cred_def_id)\n",
    "except ClientConnectorError as err:\n",
    "    print(err)\n",
    "except ClientResponseError as err:\n",
    "    print(err)"
   ]
  },
  {
   "cell_type": "markdown",
   "metadata": {},
   "source": [
    "**Note: You should be able to see both schema and definition transactions on Sovrin Stagingnet network with [Indyscan](https://indyscan.io/home/SOVRIN_STAGINGNET)**"
   ]
  },
  {
   "cell_type": "markdown",
   "metadata": {},
   "source": [
    "## 5. Populate the Attribues to Issue to Idenity Holder (User)\n",
    "\n",
    "We will issue a credential to the identity holder consisting of the following attributes:\n",
    "\n",
    "credential_attributes = [\n",
    "    {\"name\": \"fullname\", \"value\": name},\n",
    "    {\"name\": \"skill\", \"value\": \"PyDentity SSI Ninja\"},\n",
    "    {\"name\": \"age\", \"value\": age}\n",
    "]\n",
    "\n",
    "The notebook will ask you to input the identity holder's full name and age which will be used to populate the schema above with the identity holders attribute information."
   ]
  },
  {
   "cell_type": "code",
   "execution_count": 79,
   "metadata": {},
   "outputs": [
    {
     "name": "stdin",
     "output_type": "stream",
     "text": [
      "Please enter your name and surname:  vinnie banana\n",
      "Please enter your age:  14\n"
     ]
    },
    {
     "name": "stdout",
     "output_type": "stream",
     "text": [
      "[{'name': 'fullname', 'value': 'vinnie banana'}, {'name': 'skill', 'value': 'PyDentity SSI Ninja'}, {'name': 'age', 'value': '14'}]\n"
     ]
    }
   ],
   "source": [
    "name=input(\"Please enter your name and surname: \")\n",
    "age=input(\"Please enter your age: \")\n",
    "credential_attributes = [\n",
    "    {\"name\": \"fullname\", \"value\": name},\n",
    "    {\"name\": \"skill\", \"value\": \"PyDentity SSI Ninja\"},\n",
    "    {\"name\": \"age\", \"value\": age}\n",
    "]\n",
    "print(credential_attributes)"
   ]
  },
  {
   "cell_type": "markdown",
   "metadata": {},
   "source": [
    "## 7. Download Identity Holder Mobile SSI Wallet\n",
    "Please download a mobile SSI wallet such as [Connect.me](https://connect.me/), [Trinsic](https://trinsic.id/trinsic-wallet/) or any other Aries compatible wallet."
   ]
  },
  {
   "cell_type": "markdown",
   "metadata": {},
   "source": [
    "## 8. Create a connection invitation to connect to Alices subwallet"
   ]
  },
  {
   "cell_type": "markdown",
   "metadata": {},
   "source": [
    "## 8a. Check for any existing connections"
   ]
  },
  {
   "cell_type": "code",
   "execution_count": 56,
   "metadata": {},
   "outputs": [
    {
     "name": "stdout",
     "output_type": "stream",
     "text": [
      "EXISTING CONNECTIONS\n"
     ]
    }
   ],
   "source": [
    "# Check for existing connections\n",
    "try:\n",
    "    connection = await agent_controller.connections.get_connections()\n",
    "    print(\"EXISTING CONNECTIONS\")\n",
    "    for key, value in connection.items():\n",
    "        for item in value:\n",
    "            print('ConnectionID:', item['connection_id'], 'Status:',item['state'])\n",
    "except ClientConnectorError as err:\n",
    "    print(err)\n",
    "    # raise\n",
    "except ClientResponseError as err:\n",
    "    print(err)"
   ]
  },
  {
   "cell_type": "markdown",
   "metadata": {},
   "source": [
    "## 8b. Create an Invitation"
   ]
  },
  {
   "cell_type": "code",
   "execution_count": 88,
   "metadata": {},
   "outputs": [
    {
     "name": "stdout",
     "output_type": "stream",
     "text": [
      "Connection ID 9f8c20bd-3c1c-47f8-8036-287ccc69200c\n",
      "Invitation Message\n",
      "{'@type': 'did:sov:BzCbsNYhMrjHiqZDTUASHg;spec/connections/1.0/invitation', '@id': '40b8c5f8-8cce-4675-9b74-cf56c1012c97', 'recipientKeys': ['H1sM8yU4PFTZDYThpkAjpZJXpjhRrU3ehBhGEUrVcqgZ'], 'serviceEndpoint': 'https://0f62ba86127b.ngrok.io', 'label': 'EXTERNAL'}\n",
      "Connection message {'accept': 'auto', 'created_at': '2021-03-18 12:26:47.737102Z', 'state': 'invitation', 'connection_id': '9f8c20bd-3c1c-47f8-8036-287ccc69200c', 'their_role': 'invitee', 'updated_at': '2021-03-18 12:26:47.737102Z', 'invitation_key': 'H1sM8yU4PFTZDYThpkAjpZJXpjhRrU3ehBhGEUrVcqgZ', 'rfc23_state': 'invitation-sent', 'routing_state': 'none', 'invitation_mode': 'once'} 9f8c20bd-3c1c-47f8-8036-287ccc69200c\n",
      "Connection message {'accept': 'auto', 'created_at': '2021-03-18 12:26:47.737102Z', 'state': 'invitation', 'connection_id': '9f8c20bd-3c1c-47f8-8036-287ccc69200c', 'their_role': 'invitee', 'updated_at': '2021-03-18 12:26:47.737102Z', 'invitation_key': 'H1sM8yU4PFTZDYThpkAjpZJXpjhRrU3ehBhGEUrVcqgZ', 'rfc23_state': 'invitation-sent', 'routing_state': 'none', 'invitation_mode': 'once'} 9f8c20bd-3c1c-47f8-8036-287ccc69200c\n",
      "Connection message {'accept': 'auto', 'their_did': 'CU717dJo56eSXF6sCJRizC', 'created_at': '2021-03-18 12:26:47.737102Z', 'state': 'request', 'connection_id': '9f8c20bd-3c1c-47f8-8036-287ccc69200c', 'their_role': 'invitee', 'updated_at': '2021-03-18 12:28:20.031520Z', 'their_label': 'Alice', 'invitation_key': 'H1sM8yU4PFTZDYThpkAjpZJXpjhRrU3ehBhGEUrVcqgZ', 'rfc23_state': 'request-received', 'routing_state': 'none', 'invitation_mode': 'once'} 9f8c20bd-3c1c-47f8-8036-287ccc69200c\n",
      "Connection message {'accept': 'auto', 'their_did': 'CU717dJo56eSXF6sCJRizC', 'created_at': '2021-03-18 12:26:47.737102Z', 'state': 'request', 'connection_id': '9f8c20bd-3c1c-47f8-8036-287ccc69200c', 'their_role': 'invitee', 'updated_at': '2021-03-18 12:28:20.031520Z', 'their_label': 'Alice', 'invitation_key': 'H1sM8yU4PFTZDYThpkAjpZJXpjhRrU3ehBhGEUrVcqgZ', 'rfc23_state': 'request-received', 'routing_state': 'none', 'invitation_mode': 'once'} 9f8c20bd-3c1c-47f8-8036-287ccc69200c\n",
      "Connection message {'accept': 'auto', 'their_did': 'CU717dJo56eSXF6sCJRizC', 'created_at': '2021-03-18 12:26:47.737102Z', 'state': 'response', 'my_did': '2j8Ds5w971JvGVF99gSy4E', 'connection_id': '9f8c20bd-3c1c-47f8-8036-287ccc69200c', 'their_role': 'invitee', 'updated_at': '2021-03-18 12:28:20.083293Z', 'their_label': 'Alice', 'invitation_key': 'H1sM8yU4PFTZDYThpkAjpZJXpjhRrU3ehBhGEUrVcqgZ', 'rfc23_state': 'response-sent', 'routing_state': 'none', 'invitation_mode': 'once'} 9f8c20bd-3c1c-47f8-8036-287ccc69200c\n",
      "Connection message {'accept': 'auto', 'their_did': 'CU717dJo56eSXF6sCJRizC', 'created_at': '2021-03-18 12:26:47.737102Z', 'state': 'response', 'my_did': '2j8Ds5w971JvGVF99gSy4E', 'connection_id': '9f8c20bd-3c1c-47f8-8036-287ccc69200c', 'their_role': 'invitee', 'updated_at': '2021-03-18 12:28:20.083293Z', 'their_label': 'Alice', 'invitation_key': 'H1sM8yU4PFTZDYThpkAjpZJXpjhRrU3ehBhGEUrVcqgZ', 'rfc23_state': 'response-sent', 'routing_state': 'none', 'invitation_mode': 'once'} 9f8c20bd-3c1c-47f8-8036-287ccc69200c\n",
      "Connection message {'accept': 'auto', 'their_did': 'CU717dJo56eSXF6sCJRizC', 'created_at': '2021-03-18 12:26:47.737102Z', 'state': 'active', 'my_did': '2j8Ds5w971JvGVF99gSy4E', 'connection_id': '9f8c20bd-3c1c-47f8-8036-287ccc69200c', 'their_role': 'invitee', 'updated_at': '2021-03-18 12:28:21.933185Z', 'their_label': 'Alice', 'invitation_key': 'H1sM8yU4PFTZDYThpkAjpZJXpjhRrU3ehBhGEUrVcqgZ', 'rfc23_state': 'completed', 'routing_state': 'none', 'invitation_mode': 'once'} 9f8c20bd-3c1c-47f8-8036-287ccc69200c\n",
      "\u001b[1m\u001b[31mConnection 9f8c20bd-3c1c-47f8-8036-287ccc69200c changed state to active\u001b[0m\n",
      "Connection message {'accept': 'auto', 'their_did': 'CU717dJo56eSXF6sCJRizC', 'created_at': '2021-03-18 12:26:47.737102Z', 'state': 'active', 'my_did': '2j8Ds5w971JvGVF99gSy4E', 'connection_id': '9f8c20bd-3c1c-47f8-8036-287ccc69200c', 'their_role': 'invitee', 'updated_at': '2021-03-18 12:28:21.933185Z', 'their_label': 'Alice', 'invitation_key': 'H1sM8yU4PFTZDYThpkAjpZJXpjhRrU3ehBhGEUrVcqgZ', 'rfc23_state': 'completed', 'routing_state': 'none', 'invitation_mode': 'once'} 9f8c20bd-3c1c-47f8-8036-287ccc69200c\n",
      "\u001b[1m\u001b[31mConnection 9f8c20bd-3c1c-47f8-8036-287ccc69200c changed state to active\u001b[0m\n"
     ]
    }
   ],
   "source": [
    "# Create Invitation\n",
    "try:\n",
    "    invite = await agent_controller.connections.create_invitation()\n",
    "    connection_id = invite[\"connection_id\"]\n",
    "    print(\"Connection ID\", connection_id)\n",
    "    print(\"Invitation Message\")\n",
    "    invite_message = invite['invitation']\n",
    "    print(invite_message)\n",
    "except ClientConnectorError as err:\n",
    "    print(err)\n",
    "    # raise\n",
    "except ClientResponseError as err:\n",
    "    print(err)"
   ]
  },
  {
   "cell_type": "markdown",
   "metadata": {},
   "source": [
    "### Head over to [Alice](http://localhost:8888/lab/tree/Alice/Part%203%20-%20Communicating%20with%20an%20external%20agent.ipynb) again to accept the invitation"
   ]
  },
  {
   "cell_type": "markdown",
   "metadata": {},
   "source": [
    "## 8c. Check if established connection is in active state"
   ]
  },
  {
   "cell_type": "code",
   "execution_count": 89,
   "metadata": {},
   "outputs": [
    {
     "name": "stdout",
     "output_type": "stream",
     "text": [
      "\u001b[1m\u001b[35mCurrent state for ConnectionId 9f8c20bd-3c1c-47f8-8036-287ccc69200c is active\u001b[0m\n",
      "\u001b[1m\u001b[32mConnectionId: 9f8c20bd-3c1c-47f8-8036-287ccc69200c is now active. Continue with notebook\u001b[0m\n"
     ]
    }
   ],
   "source": [
    "import time\n",
    "\n",
    "try:\n",
    "    # print('Current state for ConnectionId {} is {}'.format(connection_id,STATE))\n",
    "    print(colored(\"Current state for ConnectionId {} is {}\".format(connection_id,STATE), \"magenta\", attrs=[\"bold\"]))\n",
    "    while STATE != 'active':\n",
    "    #     print('ConnectionId {0} is not in active state yet'.format(connection_id))\n",
    "        print(colored(\"ConnectionId {0} is not in active state yet\".format(connection_id), \"yellow\", attrs=[\"bold\"]))\n",
    "        trust_ping = await agent_controller.messaging.trust_ping(connection_id,'hello!')\n",
    "    #     print('Trust ping send to ConnectionId {0} to activate connection'.format(trust_ping))\n",
    "        print(colored(\"Trust ping send to ConnectionId {0} to activate connection\".format(trust_ping), \"blue\", attrs=[\"bold\"]))\n",
    "        time.sleep(5)\n",
    "\n",
    "    # print('ConnectionId: {0} is now active. Continue with notebook'.format(connection_id))\n",
    "    print(colored(\"ConnectionId: {0} is now active. Continue with notebook\".format(connection_id), \"green\", attrs=[\"bold\"]))\n",
    "except ClientResponseError as err:\n",
    "    print(err)"
   ]
  },
  {
   "cell_type": "markdown",
   "metadata": {},
   "source": [
    "## 9. Send Credential\n",
    "\n",
    "This sends a credential to a identity holder (User), and automates the rest of the protocol.\n",
    "\n",
    "There are other ways to issue a credential that require multiple api calls.\n",
    "\n",
    "**Arguments**\n",
    "* connection_id: The connection_id of the holder you wish to issue to (MUST be in active state)\n",
    "* schema_id: The id of the schema you wish to issue\n",
    "* cred_def_id: The definition (public key) to sign the credential object. This must refer to the schema_id and be written to the ledger by the same public did that is currently being used by the agent.\n",
    "* attributes: A list of attribute objects as defined above. Must match the schema attributes.\n",
    "* comment (optional): Any string, defaults to \"\"\n",
    "* auto_remove (optional): Boolean, defaults to True. I believe this removes the record of this credential once it has been issued. (TODO: double check)\n",
    "* trace (optional): Boolean, defaults to False. **Not entirely sure about this one, believe its for logging. Also when set to True it throws an error**"
   ]
  },
  {
   "cell_type": "code",
   "execution_count": 90,
   "metadata": {},
   "outputs": [
    {
     "name": "stdout",
     "output_type": "stream",
     "text": [
      "Credential exchange a978eb04-9bfd-45c2-81ba-0159b30c67df, role: issuer, state: offer_sent\n",
      "Handle Credentials\n",
      "Credential exchange a978eb04-9bfd-45c2-81ba-0159b30c67df, role: issuer, state: offer_sent\n",
      "Offering: [{'name': 'fullname', 'value': 'vinnie banana'}, {'name': 'skill', 'value': 'PyDentity SSI Ninja'}, {'name': 'age', 'value': '14'}]\n",
      "Handle Credentials\n",
      "Credential exchange a978eb04-9bfd-45c2-81ba-0159b30c67df, role: issuer, state: offer_sent\n",
      "Offering: [{'name': 'fullname', 'value': 'vinnie banana'}, {'name': 'skill', 'value': 'PyDentity SSI Ninja'}, {'name': 'age', 'value': '14'}]\n",
      "Handle Credentials\n",
      "Credential exchange a978eb04-9bfd-45c2-81ba-0159b30c67df, role: issuer, state: request_received\n",
      "Offering: [{'name': 'fullname', 'value': 'vinnie banana'}, {'name': 'skill', 'value': 'PyDentity SSI Ninja'}, {'name': 'age', 'value': '14'}]\n",
      "Handle Credentials\n",
      "Credential exchange a978eb04-9bfd-45c2-81ba-0159b30c67df, role: issuer, state: request_received\n",
      "Offering: [{'name': 'fullname', 'value': 'vinnie banana'}, {'name': 'skill', 'value': 'PyDentity SSI Ninja'}, {'name': 'age', 'value': '14'}]\n",
      "Handle Credentials\n",
      "Credential exchange a978eb04-9bfd-45c2-81ba-0159b30c67df, role: issuer, state: credential_issued\n",
      "Offering: [{'name': 'fullname', 'value': 'vinnie banana'}, {'name': 'skill', 'value': 'PyDentity SSI Ninja'}, {'name': 'age', 'value': '14'}]\n",
      "Handle Credentials\n",
      "Credential exchange a978eb04-9bfd-45c2-81ba-0159b30c67df, role: issuer, state: credential_issued\n",
      "Offering: [{'name': 'fullname', 'value': 'vinnie banana'}, {'name': 'skill', 'value': 'PyDentity SSI Ninja'}, {'name': 'age', 'value': '14'}]\n",
      "Handle Credentials\n",
      "Credential exchange a978eb04-9bfd-45c2-81ba-0159b30c67df, role: issuer, state: credential_acked\n",
      "Offering: [{'name': 'fullname', 'value': 'vinnie banana'}, {'name': 'skill', 'value': 'PyDentity SSI Ninja'}, {'name': 'age', 'value': '14'}]\n",
      "Handle Credentials\n",
      "Credential exchange a978eb04-9bfd-45c2-81ba-0159b30c67df, role: issuer, state: credential_acked\n",
      "Offering: [{'name': 'fullname', 'value': 'vinnie banana'}, {'name': 'skill', 'value': 'PyDentity SSI Ninja'}, {'name': 'age', 'value': '14'}]\n"
     ]
    }
   ],
   "source": [
    "try:\n",
    "    record = await agent_controller.issuer.send_credential(connection_id, schema_id, cred_def_id, credential_attributes, trace=False)\n",
    "    record_id = record['credential_exchange_id']\n",
    "    state = record['state']\n",
    "    role = record['role']\n",
    "    print(f\"Credential exchange {record_id}, role: {role}, state: {state}\")\n",
    "except CancelledError as err:\n",
    "    print(\"Asyncio CancelledError\")\n",
    "except:\n",
    "    raise"
   ]
  },
  {
   "cell_type": "markdown",
   "metadata": {},
   "source": [
    "## 10. Accept credential in [Alice's subwallet](http://localhost:8888/lab/tree/Alice/Part%203%20-%20Communicating%20with%20an%20external%20agent.ipynb)"
   ]
  },
  {
   "cell_type": "markdown",
   "metadata": {},
   "source": [
    "## 11. End of Tutorial\n",
    "\n",
    "Be sure to terminate the controller so you can run another tutorial."
   ]
  },
  {
   "cell_type": "code",
   "execution_count": 48,
   "metadata": {},
   "outputs": [
    {
     "name": "stdout",
     "output_type": "stream",
     "text": [
      "None\n"
     ]
    }
   ],
   "source": [
    "try:\n",
    "    response = await agent_controller.terminate()\n",
    "    print(response)\n",
    "except:\n",
    "    print(\"Unexpected error:\", sys.exc_info()[0])\n",
    "    raise"
   ]
  }
 ],
 "metadata": {
  "kernelspec": {
   "display_name": "Python 3",
   "language": "python",
   "name": "python3"
  },
  "language_info": {
   "codemirror_mode": {
    "name": "ipython",
    "version": 3
   },
   "file_extension": ".py",
   "mimetype": "text/x-python",
   "name": "python",
   "nbconvert_exporter": "python",
   "pygments_lexer": "ipython3",
   "version": "3.8.5"
  }
 },
 "nbformat": 4,
 "nbformat_minor": 4
}
