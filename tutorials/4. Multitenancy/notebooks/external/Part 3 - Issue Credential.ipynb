{
 "cells": [
  {
   "cell_type": "markdown",
   "metadata": {},
   "source": [
    "# Aries Basic Controller - Sovrin Stagingnet Issuer Agent\n",
    "\n",
    "## This notebook walks through how to issue a credential across a newly established connection with a mobile SSI agent. \n",
    "\n",
    "## Before running through this notebook you should run through the following notebook - [Part 2](http://localhost:8888/lab/tree/Part%202%20-%20Writing%20a%20Public%20DID%20to%20the%20Sovrin%20StagingNet.ipynb).\n",
    "\n",
    "If unfamiliar with the protocol it is worth reading through the [aries-rfs](https://github.com/hyperledger/aries-rfcs/tree/master/features/0036-issue-credential)\n"
   ]
  },
  {
   "cell_type": "markdown",
   "metadata": {},
   "source": [
    "## 1. Initialise a controller for Issuer"
   ]
  },
  {
   "cell_type": "code",
   "execution_count": 1,
   "metadata": {},
   "outputs": [
    {
     "name": "stdout",
     "output_type": "stream",
     "text": [
      "IPython autoawait is `on`, and set to use `asyncio`\n"
     ]
    }
   ],
   "source": [
    "%autoawait\n",
    "import time\n",
    "import asyncio\n",
    "import pprint\n",
    "import sys\n",
    "from termcolor import colored,cprint\n",
    "from aiohttp import ClientConnectorError, ClientResponseError\n",
    "from asyncio import CancelledError\n",
    "\n",
    "from aries_basic_controller.aries_controller import AriesAgentController\n",
    "   \n",
    "# Create a small utility to print json formatted outout more human-readable    \n",
    "pp = pprint.PrettyPrinter(indent=4)\n",
    "\n",
    "WEBHOOK_HOST = \"0.0.0.0\"\n",
    "WEBHOOK_BASE = \"\"\n",
    "\n",
    "WEBHOOK_PORT = 8052\n",
    "ADMIN_URL = \"http://external-agent:8051\"\n"
   ]
  },
  {
   "cell_type": "code",
   "execution_count": 2,
   "metadata": {},
   "outputs": [],
   "source": [
    "# Based on the aca-py agent you wish to control\n",
    "agent_controller = AriesAgentController(webhook_host=WEBHOOK_HOST, webhook_port=WEBHOOK_PORT,\n",
    "                                       webhook_base=WEBHOOK_BASE, admin_url=ADMIN_URL)\n",
    "    "
   ]
  },
  {
   "cell_type": "markdown",
   "metadata": {},
   "source": [
    "## 2. Register Listeners\n",
    "\n",
    "The handler should get called every time the controller receives a webhook with the topic issue_credential, printing out the payload. The agent calls to this webhook every time it receives an issue-credential protocol message from a credential."
   ]
  },
  {
   "cell_type": "code",
   "execution_count": 3,
   "metadata": {},
   "outputs": [],
   "source": [
    "loop = asyncio.get_event_loop()\n",
    "loop.create_task(agent_controller.listen_webhooks())\n",
    "def cred_handler(payload):\n",
    "    print(\"Handle Credentials\")\n",
    "    exchange_id = payload['credential_exchange_id']\n",
    "    state = payload['state']\n",
    "    role = payload['role']\n",
    "    attributes = payload['credential_proposal_dict']['credential_proposal']['attributes']\n",
    "    print(f\"Credential exchange {exchange_id}, role: {role}, state: {state}\")\n",
    "    print(f\"Attributes: {attributes}\")\n",
    "    \n",
    "cred_listener = {\n",
    "    \"topic\": \"issue_credential\",\n",
    "    \"handler\": cred_handler\n",
    "}\n",
    "\n",
    "def connections_handler(payload):\n",
    "    global STATE\n",
    "    connection_id = payload[\"connection_id\"]\n",
    "    print(\"Connection message\", payload, connection_id)\n",
    "    STATE = payload['state']\n",
    "    if STATE == 'active':\n",
    "#         print('Connection {0} changed state to active'.format(connection_id))\n",
    "        print(colored(\"Connection {0} changed state to active\".format(connection_id), \"red\", attrs=[\"bold\"]))\n",
    "\n",
    "\n",
    "connection_listener = {\n",
    "    \"handler\": connections_handler,\n",
    "    \"topic\": \"connections\"\n",
    "}\n",
    "agent_controller.register_listeners([cred_listener, connection_listener], defaults=True)"
   ]
  },
  {
   "cell_type": "markdown",
   "metadata": {},
   "source": [
    "## 3a. Use a previously written schema"
   ]
  },
  {
   "cell_type": "code",
   "execution_count": 4,
   "metadata": {},
   "outputs": [],
   "source": [
    "schema_id = 'MGgoJXWbeupKsaHDa7s4fW:2:testabc:0.0.1'"
   ]
  },
  {
   "cell_type": "markdown",
   "metadata": {},
   "source": [
    "## 3b. (OPTIONAL) Write a Schema to the Ledger\n",
    "\n",
    "For more details see the [schema-api notebook](http://localhost:8888/lab/tree/schema_api.ipynb)\n",
    "\n",
    "**Note: You will only be able to do this once unless you change the schema_name or version. Once you have a schema written to the ledger it can be reused by multiple entities**"
   ]
  },
  {
   "cell_type": "code",
   "execution_count": 8,
   "metadata": {},
   "outputs": [
    {
     "name": "stdout",
     "output_type": "stream",
     "text": [
      "JZVPv8hRpz7d69DyXZzsis:2:SSI PyDentity Tutorial:0.0.1\n"
     ]
    }
   ],
   "source": [
    "# Define you schema name - must be unique on the ledger\n",
    "schema_name = \"SSI PyDentity Tutorial\"\n",
    "# Can version the schema if you wish to update it\n",
    "schema_version = \"0.0.1\"\n",
    "# Define any list of attributes you wish to include in your schema\n",
    "attributes = [\"name\", \"skill\", \"age\"]\n",
    "\n",
    "try:\n",
    "    response = await agent_controller.schema.write_schema(schema_name, attributes, schema_version)\n",
    "    schema_id = response[\"schema_id\"]\n",
    "    print(schema_id)\n",
    "except ClientConnectorError as err:\n",
    "    print(err)\n",
    "except ClientResponseError as err:\n",
    "    print(err)\n"
   ]
  },
  {
   "cell_type": "markdown",
   "metadata": {},
   "source": [
    "## 4. Write a Credential Definition to the Ledger\n",
    "\n",
    "**Note: Again this can only be done once per issuer, per schema_id.**"
   ]
  },
  {
   "cell_type": "code",
   "execution_count": 5,
   "metadata": {},
   "outputs": [
    {
     "name": "stdout",
     "output_type": "stream",
     "text": [
      "KMverLPBYddQkg2so7UFvZ:3:CL:141433:default\n"
     ]
    }
   ],
   "source": [
    "try:\n",
    "    response = await agent_controller.definitions.write_cred_def(schema_id)\n",
    "    cred_def_id = response[\"credential_definition_id\"]\n",
    "    print(cred_def_id)\n",
    "except ClientConnectorError as err:\n",
    "    print(err)\n",
    "except ClientResponseError as err:\n",
    "    print(err)"
   ]
  },
  {
   "cell_type": "markdown",
   "metadata": {},
   "source": [
    "**Note: You should be able to see both schema and definition transactions on Sovrin Stagingnet network with [Indyscan](https://indyscan.io/home/SOVRIN_STAGINGNET)**"
   ]
  },
  {
   "cell_type": "markdown",
   "metadata": {},
   "source": [
    "## 5. Populate the Attributes to Issue to Idenity Holder (User)\n",
    "\n",
    "We will issue a credential to the identity holder consisting of the following attributes:\n",
    "\n",
    "credential_attributes = [\n",
    "    {\"name\": \"full\", \"value\": name},\n",
    "    {\"name\": \"skill\", \"value\": \"PyDentity SSI Ninja\"},\n",
    "    {\"name\": \"age\", \"value\": age}\n",
    "]\n",
    "\n",
    "The notebook will ask you to input the identity holder's full name and age which will be used to populate the schema above with the identity holders attribute information."
   ]
  },
  {
   "cell_type": "code",
   "execution_count": 6,
   "metadata": {},
   "outputs": [
    {
     "name": "stdin",
     "output_type": "stream",
     "text": [
      "Please enter your name and surname:  hshsh\n",
      "Please enter your age:  swd\n"
     ]
    },
    {
     "name": "stdout",
     "output_type": "stream",
     "text": [
      "[{'name': 'name', 'value': 'hshsh'}, {'name': 'skill', 'value': 'PyDentity SSI Ninja'}, {'name': 'age', 'value': 'swd'}]\n"
     ]
    }
   ],
   "source": [
    "name=input(\"Please enter your name and surname: \")\n",
    "age=input(\"Please enter your age: \")\n",
    "credential_attributes = [\n",
    "    {\"name\": \"name\", \"value\": name},\n",
    "    {\"name\": \"skill\", \"value\": \"PyDentity SSI Ninja\"},\n",
    "    {\"name\": \"age\", \"value\": age}\n",
    "]\n",
    "print(credential_attributes)"
   ]
  },
  {
   "cell_type": "markdown",
   "metadata": {},
   "source": [
    "## 6. Create a connection invitation to connect to Alices subwallet"
   ]
  },
  {
   "cell_type": "markdown",
   "metadata": {},
   "source": [
    "## 6a. Check for any existing connections"
   ]
  },
  {
   "cell_type": "code",
   "execution_count": 7,
   "metadata": {},
   "outputs": [
    {
     "name": "stdout",
     "output_type": "stream",
     "text": [
      "EXISTING CONNECTIONS\n"
     ]
    }
   ],
   "source": [
    "# Check for existing connections\n",
    "try:\n",
    "    connection = await agent_controller.connections.get_connections()\n",
    "    print(\"EXISTING CONNECTIONS\")\n",
    "    for key, value in connection.items():\n",
    "        for item in value:\n",
    "            print('ConnectionID:', item['connection_id'], 'Status:',item['state'])\n",
    "except ClientConnectorError as err:\n",
    "    print(err)\n",
    "    # raise\n",
    "except ClientResponseError as err:\n",
    "    print(err)"
   ]
  },
  {
   "cell_type": "markdown",
   "metadata": {},
   "source": [
    "## 6b. Create an Invitation"
   ]
  },
  {
   "cell_type": "code",
   "execution_count": 8,
   "metadata": {},
   "outputs": [
    {
     "name": "stdout",
     "output_type": "stream",
     "text": [
      "Connection message {'accept': 'auto', 'state': 'invitation', 'updated_at': '2021-03-18 20:45:13.952155Z', 'invitation_key': '3Di6dTwxns5rcJ288LkBvT14Nu4hP5phQUmNhKas6ht3', 'created_at': '2021-03-18 20:45:13.952155Z', 'their_role': 'invitee', 'rfc23_state': 'invitation-sent', 'routing_state': 'none', 'connection_id': '49db04bb-4246-4cd6-b4e6-30a0b08bd0e1', 'invitation_mode': 'once'} 49db04bb-4246-4cd6-b4e6-30a0b08bd0e1\n",
      "Connection message {'accept': 'auto', 'state': 'invitation', 'updated_at': '2021-03-18 20:45:13.952155Z', 'invitation_key': '3Di6dTwxns5rcJ288LkBvT14Nu4hP5phQUmNhKas6ht3', 'created_at': '2021-03-18 20:45:13.952155Z', 'their_role': 'invitee', 'rfc23_state': 'invitation-sent', 'routing_state': 'none', 'connection_id': '49db04bb-4246-4cd6-b4e6-30a0b08bd0e1', 'invitation_mode': 'once'} 49db04bb-4246-4cd6-b4e6-30a0b08bd0e1\n",
      "Connection ID 49db04bb-4246-4cd6-b4e6-30a0b08bd0e1\n",
      "Invitation Message\n",
      "{'@type': 'did:sov:BzCbsNYhMrjHiqZDTUASHg;spec/connections/1.0/invitation', '@id': '1c2455e2-0da8-4da9-91f3-7ea7997562aa', 'label': 'EXTERNAL', 'serviceEndpoint': 'https://f429a2362f78.ngrok.io', 'recipientKeys': ['3Di6dTwxns5rcJ288LkBvT14Nu4hP5phQUmNhKas6ht3']}\n",
      "Connection message {'accept': 'auto', 'state': 'request', 'updated_at': '2021-03-18 20:45:44.168027Z', 'their_label': 'Alice', 'invitation_key': '3Di6dTwxns5rcJ288LkBvT14Nu4hP5phQUmNhKas6ht3', 'created_at': '2021-03-18 20:45:13.952155Z', 'their_role': 'invitee', 'their_did': 'L7MgvmVT3cYs4KUaaA32Pi', 'rfc23_state': 'request-received', 'routing_state': 'none', 'connection_id': '49db04bb-4246-4cd6-b4e6-30a0b08bd0e1', 'invitation_mode': 'once'} 49db04bb-4246-4cd6-b4e6-30a0b08bd0e1\n",
      "Connection message {'accept': 'auto', 'state': 'request', 'updated_at': '2021-03-18 20:45:44.168027Z', 'their_label': 'Alice', 'invitation_key': '3Di6dTwxns5rcJ288LkBvT14Nu4hP5phQUmNhKas6ht3', 'created_at': '2021-03-18 20:45:13.952155Z', 'their_role': 'invitee', 'their_did': 'L7MgvmVT3cYs4KUaaA32Pi', 'rfc23_state': 'request-received', 'routing_state': 'none', 'connection_id': '49db04bb-4246-4cd6-b4e6-30a0b08bd0e1', 'invitation_mode': 'once'} 49db04bb-4246-4cd6-b4e6-30a0b08bd0e1\n",
      "Connection message {'accept': 'auto', 'state': 'response', 'updated_at': '2021-03-18 20:45:44.222953Z', 'their_label': 'Alice', 'my_did': 'J7Pu1A2TbJW5Td7AsPVEGQ', 'invitation_key': '3Di6dTwxns5rcJ288LkBvT14Nu4hP5phQUmNhKas6ht3', 'created_at': '2021-03-18 20:45:13.952155Z', 'their_role': 'invitee', 'their_did': 'L7MgvmVT3cYs4KUaaA32Pi', 'rfc23_state': 'response-sent', 'routing_state': 'none', 'connection_id': '49db04bb-4246-4cd6-b4e6-30a0b08bd0e1', 'invitation_mode': 'once'} 49db04bb-4246-4cd6-b4e6-30a0b08bd0e1\n",
      "Connection message {'accept': 'auto', 'state': 'response', 'updated_at': '2021-03-18 20:45:44.222953Z', 'their_label': 'Alice', 'my_did': 'J7Pu1A2TbJW5Td7AsPVEGQ', 'invitation_key': '3Di6dTwxns5rcJ288LkBvT14Nu4hP5phQUmNhKas6ht3', 'created_at': '2021-03-18 20:45:13.952155Z', 'their_role': 'invitee', 'their_did': 'L7MgvmVT3cYs4KUaaA32Pi', 'rfc23_state': 'response-sent', 'routing_state': 'none', 'connection_id': '49db04bb-4246-4cd6-b4e6-30a0b08bd0e1', 'invitation_mode': 'once'} 49db04bb-4246-4cd6-b4e6-30a0b08bd0e1\n",
      "Connection message {'accept': 'auto', 'state': 'active', 'updated_at': '2021-03-18 20:45:45.971854Z', 'their_label': 'Alice', 'my_did': 'J7Pu1A2TbJW5Td7AsPVEGQ', 'invitation_key': '3Di6dTwxns5rcJ288LkBvT14Nu4hP5phQUmNhKas6ht3', 'created_at': '2021-03-18 20:45:13.952155Z', 'their_role': 'invitee', 'their_did': 'L7MgvmVT3cYs4KUaaA32Pi', 'rfc23_state': 'completed', 'routing_state': 'none', 'connection_id': '49db04bb-4246-4cd6-b4e6-30a0b08bd0e1', 'invitation_mode': 'once'} 49db04bb-4246-4cd6-b4e6-30a0b08bd0e1\n",
      "\u001b[1m\u001b[31mConnection 49db04bb-4246-4cd6-b4e6-30a0b08bd0e1 changed state to active\u001b[0m\n",
      "Connection message {'accept': 'auto', 'state': 'active', 'updated_at': '2021-03-18 20:45:45.971854Z', 'their_label': 'Alice', 'my_did': 'J7Pu1A2TbJW5Td7AsPVEGQ', 'invitation_key': '3Di6dTwxns5rcJ288LkBvT14Nu4hP5phQUmNhKas6ht3', 'created_at': '2021-03-18 20:45:13.952155Z', 'their_role': 'invitee', 'their_did': 'L7MgvmVT3cYs4KUaaA32Pi', 'rfc23_state': 'completed', 'routing_state': 'none', 'connection_id': '49db04bb-4246-4cd6-b4e6-30a0b08bd0e1', 'invitation_mode': 'once'} 49db04bb-4246-4cd6-b4e6-30a0b08bd0e1\n",
      "\u001b[1m\u001b[31mConnection 49db04bb-4246-4cd6-b4e6-30a0b08bd0e1 changed state to active\u001b[0m\n"
     ]
    }
   ],
   "source": [
    "# Create Invitation\n",
    "try:\n",
    "    invite = await agent_controller.connections.create_invitation(auto_accept=False)\n",
    "    connection_id = invite[\"connection_id\"]\n",
    "    print(\"Connection ID\", connection_id)\n",
    "    print(\"Invitation Message\")\n",
    "    invite_message = invite['invitation']\n",
    "    print(invite_message)\n",
    "except ClientConnectorError as err:\n",
    "    print(err)\n",
    "    # raise\n",
    "except ClientResponseError as err:\n",
    "    print(err)"
   ]
  },
  {
   "cell_type": "markdown",
   "metadata": {},
   "source": [
    "### Head over to [Alice](http://localhost:8888/lab/tree/Alice/Part%203%20-%20Communicating%20with%20an%20external%20agent.ipynb) again to accept the invitation"
   ]
  },
  {
   "cell_type": "markdown",
   "metadata": {},
   "source": [
    "## 7c. Check if established connection is in active state"
   ]
  },
  {
   "cell_type": "code",
   "execution_count": 9,
   "metadata": {},
   "outputs": [
    {
     "name": "stdout",
     "output_type": "stream",
     "text": [
      "\u001b[1m\u001b[35mCurrent state for ConnectionId 49db04bb-4246-4cd6-b4e6-30a0b08bd0e1 is active\u001b[0m\n",
      "\u001b[1m\u001b[32mConnectionId: 49db04bb-4246-4cd6-b4e6-30a0b08bd0e1 is now active. Continue with notebook\u001b[0m\n"
     ]
    }
   ],
   "source": [
    "import time\n",
    "\n",
    "try:\n",
    "    # print('Current state for ConnectionId {} is {}'.format(connection_id,STATE))\n",
    "    print(colored(\"Current state for ConnectionId {} is {}\".format(connection_id,STATE), \"magenta\", attrs=[\"bold\"]))\n",
    "    while STATE != 'active':\n",
    "    #     print('ConnectionId {0} is not in active state yet'.format(connection_id))\n",
    "        print(colored(\"ConnectionId {0} is not in active state yet\".format(connection_id), \"yellow\", attrs=[\"bold\"]))\n",
    "        trust_ping = await agent_controller.messaging.trust_ping(connection_id,'hello!')\n",
    "    #     print('Trust ping send to ConnectionId {0} to activate connection'.format(trust_ping))\n",
    "        print(colored(\"Trust ping send to ConnectionId {0} to activate connection\".format(trust_ping), \"blue\", attrs=[\"bold\"]))\n",
    "        time.sleep(5)\n",
    "\n",
    "    # print('ConnectionId: {0} is now active. Continue with notebook'.format(connection_id))\n",
    "    print(colored(\"ConnectionId: {0} is now active. Continue with notebook\".format(connection_id), \"green\", attrs=[\"bold\"]))\n",
    "except ClientResponseError as err:\n",
    "    print(err)"
   ]
  },
  {
   "cell_type": "markdown",
   "metadata": {},
   "source": [
    "## 8. Send Credential\n",
    "\n",
    "This sends a credential to a identity holder (User), and automates the rest of the protocol.\n",
    "\n",
    "There are other ways to issue a credential that require multiple api calls.\n",
    "\n",
    "**Arguments**\n",
    "* connection_id: The connection_id of the holder you wish to issue to (MUST be in active state)\n",
    "* schema_id: The id of the schema you wish to issue\n",
    "* cred_def_id: The definition (public key) to sign the credential object. This must refer to the schema_id and be written to the ledger by the same public did that is currently being used by the agent.\n",
    "* attributes: A list of attribute objects as defined above. Must match the schema attributes.\n",
    "* comment (optional): Any string, defaults to \"\"\n",
    "* auto_remove (optional): Boolean, defaults to True. I believe this removes the record of this credential once it has been issued. (TODO: double check)\n",
    "* trace (optional): Boolean, defaults to False. **Not entirely sure about this one, believe its for logging. Also when set to True it throws an error**"
   ]
  },
  {
   "cell_type": "code",
   "execution_count": 10,
   "metadata": {},
   "outputs": [
    {
     "name": "stdout",
     "output_type": "stream",
     "text": [
      "Credential exchange ID: 890b75f3-f30c-4885-a610-460f28234735\n",
      "\n",
      "Credential ID: KMverLPBYddQkg2so7UFvZ:3:CL:141433:default\n",
      "\n",
      "\n",
      "Credential exchange 890b75f3-f30c-4885-a610-460f28234735, role: issuer, state: offer_sent\n",
      "Handle Credentials\n",
      "Credential exchange 890b75f3-f30c-4885-a610-460f28234735, role: issuer, state: offer_sent\n",
      "Attributes: [{'name': 'name', 'value': 'hshsh'}, {'name': 'skill', 'value': 'PyDentity SSI Ninja'}, {'name': 'age', 'value': 'swd'}]\n",
      "Handle Credentials\n",
      "Credential exchange 890b75f3-f30c-4885-a610-460f28234735, role: issuer, state: offer_sent\n",
      "Attributes: [{'name': 'name', 'value': 'hshsh'}, {'name': 'skill', 'value': 'PyDentity SSI Ninja'}, {'name': 'age', 'value': 'swd'}]\n",
      "Handle Credentials\n",
      "Credential exchange 890b75f3-f30c-4885-a610-460f28234735, role: issuer, state: request_received\n",
      "Attributes: [{'name': 'name', 'value': 'hshsh'}, {'name': 'skill', 'value': 'PyDentity SSI Ninja'}, {'name': 'age', 'value': 'swd'}]\n",
      "Handle Credentials\n",
      "Credential exchange 890b75f3-f30c-4885-a610-460f28234735, role: issuer, state: request_received\n",
      "Attributes: [{'name': 'name', 'value': 'hshsh'}, {'name': 'skill', 'value': 'PyDentity SSI Ninja'}, {'name': 'age', 'value': 'swd'}]\n",
      "Handle Credentials\n",
      "Credential exchange 890b75f3-f30c-4885-a610-460f28234735, role: issuer, state: credential_issued\n",
      "Attributes: [{'name': 'name', 'value': 'hshsh'}, {'name': 'skill', 'value': 'PyDentity SSI Ninja'}, {'name': 'age', 'value': 'swd'}]\n",
      "Handle Credentials\n",
      "Credential exchange 890b75f3-f30c-4885-a610-460f28234735, role: issuer, state: credential_issued\n",
      "Attributes: [{'name': 'name', 'value': 'hshsh'}, {'name': 'skill', 'value': 'PyDentity SSI Ninja'}, {'name': 'age', 'value': 'swd'}]\n",
      "Handle Credentials\n",
      "Credential exchange 890b75f3-f30c-4885-a610-460f28234735, role: issuer, state: credential_acked\n",
      "Attributes: [{'name': 'name', 'value': 'hshsh'}, {'name': 'skill', 'value': 'PyDentity SSI Ninja'}, {'name': 'age', 'value': 'swd'}]\n",
      "Handle Credentials\n",
      "Credential exchange 890b75f3-f30c-4885-a610-460f28234735, role: issuer, state: credential_acked\n",
      "Attributes: [{'name': 'name', 'value': 'hshsh'}, {'name': 'skill', 'value': 'PyDentity SSI Ninja'}, {'name': 'age', 'value': 'swd'}]\n"
     ]
    }
   ],
   "source": [
    "try:\n",
    "    record = await agent_controller.issuer.send_credential(connection_id, schema_id, cred_def_id, credential_attributes, trace=False)\n",
    "    record_id = record['credential_exchange_id']\n",
    "    state = record['state']\n",
    "    role = record['role']\n",
    "    credential_ex_id = record['credential_exchange_id']\n",
    "    credential_id = record['credential_definition_id']\n",
    "    print(\"Credential exchange ID: \" + credential_ex_id + \"\\n\")\n",
    "    print(\"Credential ID: \" + credential_id + \"\\n\")\n",
    "    print()\n",
    "    print(f\"Credential exchange {record_id}, role: {role}, state: {state}\")\n",
    "except CancelledError as err:\n",
    "    print(\"Asyncio CancelledError\")\n",
    "except:\n",
    "    raise"
   ]
  },
  {
   "cell_type": "markdown",
   "metadata": {},
   "source": [
    "## 9. Accept credential in [Alice's subwallet](http://localhost:8888/lab/tree/Alice/Part%203%20-%20Communicating%20with%20an%20external%20agent.ipynb)"
   ]
  },
  {
   "cell_type": "markdown",
   "metadata": {},
   "source": [
    "## 10. End of Tutorial\n",
    "\n",
    "Be sure to terminate the controller so you can run another tutorial."
   ]
  },
  {
   "cell_type": "code",
   "execution_count": 15,
   "metadata": {},
   "outputs": [
    {
     "name": "stdout",
     "output_type": "stream",
     "text": [
      "None\n"
     ]
    }
   ],
   "source": [
    "response = await agent_controller.terminate()\n",
    "print(response)"
   ]
  },
  {
   "cell_type": "code",
   "execution_count": null,
   "metadata": {},
   "outputs": [],
   "source": []
  }
 ],
 "metadata": {
  "kernelspec": {
   "display_name": "Python 3",
   "language": "python",
   "name": "python3"
  },
  "language_info": {
   "codemirror_mode": {
    "name": "ipython",
    "version": 3
   },
   "file_extension": ".py",
   "mimetype": "text/x-python",
   "name": "python",
   "nbconvert_exporter": "python",
   "pygments_lexer": "ipython3",
   "version": "3.8.5"
  }
 },
 "nbformat": 4,
 "nbformat_minor": 4
}
