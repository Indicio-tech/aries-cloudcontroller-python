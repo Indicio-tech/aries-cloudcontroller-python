{
 "cells": [
  {
   "cell_type": "markdown",
   "metadata": {},
   "source": [
    "# Action Menu - Bob\n",
    "\n",
    "## Role - Responder\n",
    "\n",
    "In this notebook we'll be going through the Action Menu Protocol. For details on the protocol, please refer to the [RFC](https://github.com/hyperledger/aries-rfcs/tree/master/features/0509-action-menu). Specifically, we'll demonstrate how Bob acts as a Responder to respond to Action Menu related requests from Alice.\n",
    "\n",
    "A requirement for this protocol to work is an active DIDComm communication channel between Alice and Bob. To achieve that, you should have completed the [Establishing a Connection](http://localhost:8888/notebooks/Part%203%20-%20Establishing%20a%20Connection.ipynb) tutorial."
   ]
  },
  {
   "cell_type": "markdown",
   "metadata": {},
   "source": [
    "## 1. Initialise Bob controller\n",
    "\n",
    "We begin by initialising the controller for Bob."
   ]
  },
  {
   "cell_type": "code",
   "execution_count": 2,
   "metadata": {},
   "outputs": [
    {
     "name": "stdout",
     "output_type": "stream",
     "text": [
      "IPython autoawait is `on`, and set to use `asyncio`\n"
     ]
    }
   ],
   "source": [
    "%autoawait\n",
    "import time\n",
    "import asyncio\n",
    "from aries_basic_controller.aries_controller import AriesAgentController\n",
    "    \n",
    "WEBHOOK_HOST = \"0.0.0.0\"\n",
    "WEBHOOK_PORT = 8052\n",
    "WEBHOOK_BASE = \"\"\n",
    "ADMIN_URL = \"http://bob-agent:8051\"\n",
    "\n",
    "agent_controller = AriesAgentController(webhook_host=WEBHOOK_HOST, webhook_port=WEBHOOK_PORT,\n",
    "                                       webhook_base=WEBHOOK_BASE, admin_url=ADMIN_URL)"
   ]
  },
  {
   "cell_type": "markdown",
   "metadata": {},
   "source": [
    "## 2. Listen for webhooks and register default listeners\n",
    "\n",
    "Everytime a webhook is received from the agent, the controller reemits the hook using [PyPubSub](https://pypubsub.readthedocs.io/en/v4.0.3/). The default listeners are used to update state and print logs."
   ]
  },
  {
   "cell_type": "code",
   "execution_count": 4,
   "metadata": {},
   "outputs": [],
   "source": [
    "loop = asyncio.get_event_loop()\n",
    "loop.create_task(agent_controller.listen_webhooks())\n",
    "\n",
    "agent_controller.register_listeners([], defaults=True)"
   ]
  },
  {
   "cell_type": "markdown",
   "metadata": {},
   "source": [
    "## 3. Check the agent has an active connection\n",
    "\n",
    "An active connection between Alice and Bob is required. You can either:\n",
    "\n",
    "- complete the [Establishing a Connection](http://localhost:8888/notebooks/Part%203%20-%20Establishing%20a%20Connection.ipynb) tutorial, or\n",
    "- running the python script `create_connection.py` in the setup folder, or\n",
    "- complete the did-exchange tutorial ([Alice](http://localhost:8888/notebooks/did-exchange-inviter.ipynb) and [Bob](http://localhost:8889/notebooks/did-exchange-invitee.ipynb)) "
   ]
  },
  {
   "cell_type": "code",
   "execution_count": 6,
   "metadata": {},
   "outputs": [
    {
     "name": "stdout",
     "output_type": "stream",
     "text": [
      "Results :  [{'my_did': 'BiqPns43A7xJboeC1GqNbu', 'created_at': '2020-10-22 03:49:47.724508Z', 'routing_state': 'none', 'accept': 'manual', 'connection_id': 'c1d1671a-d9cb-4ec8-bf68-3372c683a6bd', 'initiator': 'external', 'their_did': 'HepVkkvg1azc6PGbEkrdkD', 'invitation_mode': 'once', 'their_label': 'Alice', 'request_id': '1e8933a0-cf93-46b8-afaa-826a6ce8c58a', 'state': 'active', 'invitation_key': '2cVeFAwPbMHbtbM8A6QNyctgyLFchQtRtJ7P81QLG4ki', 'updated_at': '2020-10-22 03:49:52.638657Z'}]\n",
      "Connection : {'my_did': 'BiqPns43A7xJboeC1GqNbu', 'created_at': '2020-10-22 03:49:47.724508Z', 'routing_state': 'none', 'accept': 'manual', 'connection_id': 'c1d1671a-d9cb-4ec8-bf68-3372c683a6bd', 'initiator': 'external', 'their_did': 'HepVkkvg1azc6PGbEkrdkD', 'invitation_mode': 'once', 'their_label': 'Alice', 'request_id': '1e8933a0-cf93-46b8-afaa-826a6ce8c58a', 'state': 'active', 'invitation_key': '2cVeFAwPbMHbtbM8A6QNyctgyLFchQtRtJ7P81QLG4ki', 'updated_at': '2020-10-22 03:49:52.638657Z'}\n",
      "Active Connection ID :  c1d1671a-d9cb-4ec8-bf68-3372c683a6bd\n"
     ]
    }
   ],
   "source": [
    "response = await agent_controller.connections.get_connections()\n",
    "results = response['results']\n",
    "print(\"Results : \", results)\n",
    "if len(results) > 0:\n",
    "    connection = response['results'][0]\n",
    "    print(\"Connection :\", connection)\n",
    "    if connection['state'] == 'active':       \n",
    "        connection_id = connection[\"connection_id\"]\n",
    "        print(\"Active Connection ID : \", connection_id)\n",
    "else:\n",
    "    print(\"You must create a connection\")"
   ]
  },
  {
   "cell_type": "markdown",
   "metadata": {},
   "source": [
    "## 6. Send Action Menu to Alice\n",
    "\n",
    "Bob responds to Alice's request by sending over the action menu that Bob supports."
   ]
  },
  {
   "cell_type": "code",
   "execution_count": 10,
   "metadata": {},
   "outputs": [
    {
     "data": {
      "text/plain": [
       "{}"
      ]
     },
     "execution_count": 10,
     "metadata": {},
     "output_type": "execute_result"
    }
   ],
   "source": [
    "# feel free to edit the menu options.\n",
    "menu_options = [\n",
    "      {\n",
    "        \"name\": \"window_prefs\",\n",
    "        \"title\": \"Window Preferences\",\n",
    "        \"description\": \"Window display preferences\",\n",
    "        \"disabled\": \"False\",\n",
    "        \"form\": {\n",
    "          \"title\": \"Preferences\",\n",
    "          \"description\": \"Window preference settings\",\n",
    "          \"params\": [{\n",
    "              \"name\": \"delay\",\n",
    "              \"title\": \"Delay in seconds\",\n",
    "              \"type\": \"int\",\n",
    "              \"required\": False\n",
    "          }, {\n",
    "              \"name\": \"visibility\",\n",
    "              \"title\": \"Visibility toggle\",\n",
    "              \"type\": \"boolean\",\n",
    "              \"required\": True\n",
    "          }],\n",
    "          \"submit-label\": \"Send\"\n",
    "        }\n",
    "      }\n",
    "    ]\n",
    "\n",
    "await agent_controller.action_menu.send_menu(\n",
    "    connection_id=connection_id,\n",
    "    menu_description=\"User preferences for window settings\",\n",
    "    menu_errormsg=\"Error: item not present\",\n",
    "    menu_title=\"My Menu\",\n",
    "    menu_options=menu_options\n",
    ")"
   ]
  },
  {
   "cell_type": "markdown",
   "metadata": {},
   "source": [
    "## 7. Continue with step 8 of [Alice's notebook](http://localhost:8889/notebooks/Part%208%20-%20Action%20Menu.ipynb)"
   ]
  },
  {
   "cell_type": "markdown",
   "metadata": {},
   "source": [
    "## End of Tutorial\n",
    "\n",
    "Be sure to terminate the controller before running another tutorial."
   ]
  },
  {
   "cell_type": "code",
   "execution_count": 11,
   "metadata": {},
   "outputs": [
    {
     "name": "stdout",
     "output_type": "stream",
     "text": [
      "None\n"
     ]
    }
   ],
   "source": [
    "response = await agent_controller.terminate()\n",
    "print(response)"
   ]
  }
 ],
 "metadata": {
  "kernelspec": {
   "display_name": "Python 3",
   "language": "python",
   "name": "python3"
  },
  "language_info": {
   "codemirror_mode": {
    "name": "ipython",
    "version": 3
   },
   "file_extension": ".py",
   "mimetype": "text/x-python",
   "name": "python",
   "nbconvert_exporter": "python",
   "pygments_lexer": "ipython3",
   "version": "3.7.6"
  }
 },
 "nbformat": 4,
 "nbformat_minor": 4
}
