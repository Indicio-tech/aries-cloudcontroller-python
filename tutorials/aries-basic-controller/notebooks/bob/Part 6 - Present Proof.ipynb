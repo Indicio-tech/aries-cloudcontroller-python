{
 "cells": [
  {
   "cell_type": "markdown",
   "metadata": {},
   "source": [
    "# Present Proof\n",
    "## Role:  Prover\n",
    "\n",
    "## This notebook works through the present proof protocol from the provers's perspective, it should be run alongside the [verifier](http://127.0.0.1:8888/notebooks/Part%206%20-%20Present%20Proof.ipynb) notebook from Alices's perspective. \n",
    "\n",
    "## Before running through these two notebooks you should run through the Issuer/Holder flow found in these two notebooks - [issuer](http://127.0.0.1:8888/notebooks/Part%205%20-%20Issue%20Credential.ipynb) [holder](http://127.0.0.1:8889/notebooks/Part%205%20-%20Issue%20Credential.ipynb).\n",
    "\n",
    "If unfamiliar with the present-proof protocol it is worth reading through the [aries-rfs](https://github.com/hyperledger/aries-rfcs/tree/master/features/0037-present-proof)"
   ]
  },
  {
   "cell_type": "markdown",
   "metadata": {},
   "source": [
    "## Complete steps 1-3 in the [verifier](http://127.0.0.1:8888/notebooks/Part%206%20-%20Present%20Proof.ipynb) notebook first."
   ]
  },
  {
   "cell_type": "markdown",
   "metadata": {},
   "source": [
    "## 4. Instatiate the controller for Bob's Agent"
   ]
  },
  {
   "cell_type": "code",
   "execution_count": null,
   "metadata": {},
   "outputs": [],
   "source": [
    "%autoawait\n",
    "import time\n",
    "import asyncio\n",
    "\n",
    "from aries_basic_controller.aries_controller import AriesAgentController\n",
    "    \n",
    "WEBHOOK_HOST = \"0.0.0.0\"\n",
    "WEBHOOK_PORT = 8052\n",
    "WEBHOOK_BASE = \"\"\n",
    "ADMIN_URL = \"http://bob-agent:8051\"\n",
    "\n",
    "agent_controller = AriesAgentController(webhook_host=WEBHOOK_HOST, webhook_port=WEBHOOK_PORT,\n",
    "                                       webhook_base=WEBHOOK_BASE, admin_url=ADMIN_URL, connections=True)"
   ]
  },
  {
   "cell_type": "markdown",
   "metadata": {},
   "source": [
    "## 5. Verify that Bob has at least one credential in his wallet\n",
    "\n",
    "This uses the credential api, for more details see this [notebook](http://localhost:8889/notebooks/credential-api.ipynb). \n",
    "A credential with the specified credential_id is issued and saved in the issue-credential flow that can be run through  by following the [issuer](http://localhost:8888/notebooks/issuer.ipynb) and [holder](http://localhost:8889/notebooks/holder.ipynb) notebooks. (See step 12. store the credential, in the holder notebook for the credential id)\n",
    "\n",
    "**This step will error out otherwise**"
   ]
  },
  {
   "cell_type": "code",
   "execution_count": null,
   "metadata": {},
   "outputs": [
    {
     "name": "stdout",
     "output_type": "stream",
     "text": [
      "{'referent': 'CUSTOM OM Credential', 'attrs': {'name': 'Bob', 'skill': 'researcher', 'age': '1337'}, 'schema_id': 'PQRXDxdGqQGSZ8z69p4xZP:2:hwrdtm_custom_schema:0.0.1', 'cred_def_id': 'PQRXDxdGqQGSZ8z69p4xZP:3:CL:10:default', 'rev_reg_id': 'PQRXDxdGqQGSZ8z69p4xZP:4:PQRXDxdGqQGSZ8z69p4xZP:3:CL:10:default:CL_ACCUM:0da86dc1-753b-4259-acb9-f4f6de3c2898', 'cred_rev_id': '1'}\n"
     ]
    }
   ],
   "source": [
    "credential_id = \"CUSTOM OM Credential\"\n",
    "credential = await agent_controller.credentials.get_by_id(credential_id)\n",
    "print(credential)\n",
    "\n"
   ]
  },
  {
   "cell_type": "markdown",
   "metadata": {},
   "source": [
    "## 6. Register Listeners\n",
    "\n",
    "The handler should get called every time the controller receives a webhook with the topic present_proof, printing out the payload. The agent calls to this webhook every time it receives a present proof protocol message from another agent. \n",
    "\n",
    "The code for this protocol can be found [here](https://github.com/hyperledger/aries-cloudagent-python/tree/master/aries_cloudagent/protocols/issue_credential)."
   ]
  },
  {
   "cell_type": "code",
   "execution_count": null,
   "metadata": {},
   "outputs": [
    {
     "name": "stdout",
     "output_type": "stream",
     "text": [
      "Handle present proof\n",
      "Role prover, Exchange 7e804117-4ece-4eae-9a3e-6c69f63bf367 in state request_received\n"
     ]
    }
   ],
   "source": [
    "loop = asyncio.get_event_loop()\n",
    "loop.create_task(agent_controller.listen_webhooks())\n",
    "\n",
    "def proof_handler(payload):\n",
    "    print(\"Handle present proof\")\n",
    "    role = payload[\"role\"]\n",
    "    pres_ex_id = payload[\"presentation_exchange_id\"]\n",
    "    state = payload[\"state\"]\n",
    "    print(f\"Role {role}, Exchange {pres_ex_id} in state {state}\")\n",
    "          \n",
    "proof_listener = {\n",
    "    \"topic\": \"present_proof\",\n",
    "    \"handler\": proof_handler\n",
    "}\n",
    "agent_controller.register_listeners([proof_listener], defaults=True)"
   ]
  },
  {
   "cell_type": "markdown",
   "metadata": {},
   "source": [
    "## 7. Continue in the [verifier](http://127.0.0.1:8888/notebooks/Part%206%20-%20Present%20Proof.ipynb) notebook.\n",
    "\n",
    "This sends a proof request to Bob"
   ]
  },
  {
   "cell_type": "markdown",
   "metadata": {},
   "source": [
    "## 8. Fetch the record of the proof request\n",
    "\n",
    "### TODO refactor to use handler."
   ]
  },
  {
   "cell_type": "code",
   "execution_count": null,
   "metadata": {},
   "outputs": [
    {
     "name": "stdout",
     "output_type": "stream",
     "text": [
      "{'results': [{'initiator': 'external', 'state': 'request_received', 'role': 'prover', 'updated_at': '2020-12-01 06:45:03.996659Z', 'thread_id': 'fbf67691-2b75-4bf6-bb52-1997675398c4', 'trace': False, 'presentation_request': {'name': 'Proof of Personal Information', 'version': '1.0', 'requested_attributes': {'0_name_uuid': {'name': 'name', 'restrictions': [{'issuer_did': 'PQRXDxdGqQGSZ8z69p4xZP'}]}, '0_skill_uuid': {'name': 'skill', 'restrictions': [{'issuer_did': 'PQRXDxdGqQGSZ8z69p4xZP'}], 'non_revoked': {'to': 1606805041}}, '0_country_uuid': {'name': 'country'}}, 'requested_predicates': {'0_age_GE_uuid': {'name': 'age', 'p_type': '>=', 'p_value': 21, 'restrictions': [{'issuer_did': 'PQRXDxdGqQGSZ8z69p4xZP'}]}}, 'non_revoked': {'to': 1606805042}, 'nonce': '169094683509506946284602'}, 'presentation_exchange_id': '7e804117-4ece-4eae-9a3e-6c69f63bf367', 'created_at': '2020-12-01 06:45:03.996659Z', 'connection_id': '6ef9082f-6450-4dfa-99d2-d65cf279d0fc'}]}\n",
      "\n",
      "\n",
      "Presentation Exchange ID\n",
      "\n",
      "7e804117-4ece-4eae-9a3e-6c69f63bf367\n",
      "Presentation Request Object\n",
      "\n",
      "{'name': 'Proof of Personal Information', 'version': '1.0', 'requested_attributes': {'0_name_uuid': {'name': 'name', 'restrictions': [{'issuer_did': 'PQRXDxdGqQGSZ8z69p4xZP'}]}, '0_skill_uuid': {'name': 'skill', 'restrictions': [{'issuer_did': 'PQRXDxdGqQGSZ8z69p4xZP'}], 'non_revoked': {'to': 1606805041}}, '0_country_uuid': {'name': 'country'}}, 'requested_predicates': {'0_age_GE_uuid': {'name': 'age', 'p_type': '>=', 'p_value': 21, 'restrictions': [{'issuer_did': 'PQRXDxdGqQGSZ8z69p4xZP'}]}}, 'non_revoked': {'to': 1606805042}, 'nonce': '169094683509506946284602'}\n",
      "Requested Attributes\n",
      "\n",
      "{'0_name_uuid': {'name': 'name', 'restrictions': [{'issuer_did': 'PQRXDxdGqQGSZ8z69p4xZP'}]}, '0_skill_uuid': {'name': 'skill', 'restrictions': [{'issuer_did': 'PQRXDxdGqQGSZ8z69p4xZP'}], 'non_revoked': {'to': 1606805041}}, '0_country_uuid': {'name': 'country'}}\n",
      "Requested Predicates\n",
      "\n",
      "{'0_age_GE_uuid': {'name': 'age', 'p_type': '>=', 'p_value': 21, 'restrictions': [{'issuer_did': 'PQRXDxdGqQGSZ8z69p4xZP'}]}}\n"
     ]
    }
   ],
   "source": [
    "response = await agent_controller.proofs.get_records()\n",
    "print(response)\n",
    "\n",
    "print('\\n')\n",
    "\n",
    "state = response['results'][0][\"state\"]\n",
    "presentation_exchange_id = response['results'][0]['presentation_exchange_id']\n",
    "presentation_request = response['results'][0]['presentation_request']\n",
    "\n",
    "print('Presentation Exchange ID\\n')\n",
    "print(response['results'][0]['presentation_exchange_id'])\n",
    "print('Presentation Request Object\\n')\n",
    "print(response['results'][0]['presentation_request'])\n",
    "print('Requested Attributes\\n')\n",
    "print(response['results'][0]['presentation_request']['requested_attributes'])\n",
    "requested_attribs = response['results'][0]['presentation_request']['requested_attributes']\n",
    "print('Requested Predicates\\n')\n",
    "print(response['results'][0]['presentation_request']['requested_predicates'])\n",
    "requested_predicates = response['results'][0]['presentation_request']['requested_predicates']"
   ]
  },
  {
   "cell_type": "markdown",
   "metadata": {},
   "source": [
    "## 9. Fetch relevant credentials for proof presentation\n",
    "\n",
    "### TODO: Make clearer. Better documentation. Again this is way too complex. We need to think of ways to abstract away this complexity. For now breaking it down and documenting each part in markdown may be helpful."
   ]
  },
  {
   "cell_type": "code",
   "execution_count": null,
   "metadata": {},
   "outputs": [
    {
     "name": "stdout",
     "output_type": "stream",
     "text": [
      "Received Request -> Query for credentials in the wallet that satisfy the proof request\n",
      "[{'cred_info': {'referent': 'CUSTOM OM Credential', 'attrs': {'age': '1337', 'name': 'Bob', 'skill': 'researcher'}, 'schema_id': 'PQRXDxdGqQGSZ8z69p4xZP:2:hwrdtm_custom_schema:0.0.1', 'cred_def_id': 'PQRXDxdGqQGSZ8z69p4xZP:3:CL:10:default', 'rev_reg_id': 'PQRXDxdGqQGSZ8z69p4xZP:4:PQRXDxdGqQGSZ8z69p4xZP:3:CL:10:default:CL_ACCUM:0da86dc1-753b-4259-acb9-f4f6de3c2898', 'cred_rev_id': '1'}, 'interval': {'from': None, 'to': 1606805042}, 'presentation_referents': ['0_skill_uuid', '0_name_uuid', '0_age_GE_uuid']}]\n",
      "\n",
      "Generate the proof\n",
      "{'requested_predicates': {'0_age_GE_uuid': {'cred_id': 'CUSTOM OM Credential', 'timestamp': 1606805049}}, 'requested_attributes': {'0_name_uuid': {'cred_id': 'CUSTOM OM Credential', 'revealed': True, 'timestamp': 1606805049}, '0_skill_uuid': {'cred_id': 'CUSTOM OM Credential', 'revealed': True, 'timestamp': 1606805049}}, 'self_attested_attributes': {'0_country_uuid': 'South Africa'}}\n",
      "\n",
      "XXX\n",
      "\n",
      "predicates:\n",
      "{'0_age_GE_uuid': {'cred_id': 'CUSTOM OM Credential', 'timestamp': 1606805049}}\n",
      "\n",
      "revealed:\n",
      "{'0_name_uuid': {'cred_id': 'CUSTOM OM Credential', 'revealed': True, 'timestamp': 1606805049}, '0_skill_uuid': {'cred_id': 'CUSTOM OM Credential', 'revealed': True, 'timestamp': 1606805049}}\n",
      "\n",
      "self_attested:\n",
      "{'0_country_uuid': 'South Africa'}\n"
     ]
    }
   ],
   "source": [
    "if state == \"request_received\":\n",
    "    print(\n",
    "    \"Received Request -> Query for credentials in the wallet that satisfy the proof request\")\n",
    "\n",
    "revocation = True\n",
    "    \n",
    "# include self-attested attributes (not included in credentials)\n",
    "credentials_by_reft = {}\n",
    "revealed = {}\n",
    "self_attested = {}\n",
    "predicates = {}\n",
    "\n",
    "# select credentials to provide for the proof\n",
    "credentials = await agent_controller.proofs.get_presentation_credentials(presentation_exchange_id)\n",
    "print(credentials)\n",
    "\n",
    "if credentials:\n",
    "    for row in sorted(\n",
    "        credentials,\n",
    "        key=lambda c: dict(c[\"cred_info\"][\"attrs\"]),\n",
    "        reverse=True,\n",
    "    ):\n",
    "        for referent in row[\"presentation_referents\"]:\n",
    "            if referent not in credentials_by_reft:\n",
    "                credentials_by_reft[referent] = row\n",
    "\n",
    "for referent in presentation_request[\"requested_attributes\"]:\n",
    "    if referent in credentials_by_reft:\n",
    "        revealed[referent] = {\n",
    "            \"cred_id\": credentials_by_reft[referent][\"cred_info\"][\n",
    "                \"referent\"\n",
    "            ],\n",
    "            \"revealed\": True,\n",
    "        }\n",
    "        if revocation:\n",
    "            revealed[referent][\"timestamp\"] = 1606805049\n",
    "    else:\n",
    "        self_attested[referent] = \"South Africa\"\n",
    "\n",
    "for referent in presentation_request[\"requested_predicates\"]:\n",
    "    if referent in credentials_by_reft:\n",
    "        predicates[referent] = {\n",
    "            \"cred_id\": credentials_by_reft[referent][\"cred_info\"][\n",
    "                \"referent\"\n",
    "            ]\n",
    "        }\n",
    "        if revocation:\n",
    "            predicates[referent][\"timestamp\"] = 1606805049\n",
    "        \n",
    "print(\"\\nGenerate the proof\")\n",
    "proof = {\n",
    "    \"requested_predicates\": predicates,\n",
    "    \"requested_attributes\": revealed,\n",
    "    \"self_attested_attributes\": self_attested,\n",
    "}\n",
    "print(proof)\n",
    "print(\"\\nXXX\")\n",
    "print(\"\\npredicates:\\n{}\".format(predicates))\n",
    "print(\"\\nrevealed:\\n{}\".format(revealed))\n",
    "print(\"\\nself_attested:\\n{}\".format(self_attested))"
   ]
  },
  {
   "cell_type": "code",
   "execution_count": 26,
   "metadata": {},
   "outputs": [
    {
     "data": {
      "text/plain": [
       "{'revoked': False}"
      ]
     },
     "execution_count": 26,
     "metadata": {},
     "output_type": "execute_result"
    }
   ],
   "source": [
    "await agent_controller.connections.admin_GET(f\"/credential/revoked/CUSTOM OM Credential\")\n"
   ]
  },
  {
   "cell_type": "markdown",
   "metadata": {},
   "source": [
    "## 10. Send Proof back to Alice"
   ]
  },
  {
   "cell_type": "code",
   "execution_count": null,
   "metadata": {},
   "outputs": [
    {
     "ename": "ClientResponseError",
     "evalue": "400, message='Error when constructing revocation state: Error: Invalid structure. Caused by: UrsaCryptoError: Invalid len of bytes representation for PoingG2. CommonInvalidStructure.', url=URL('http://bob-agent:8051/present-proof/records/7e804117-4ece-4eae-9a3e-6c69f63bf367/send-presentation')",
     "output_type": "error",
     "traceback": [
      "\u001b[0;31m---------------------------------------------------------------------------\u001b[0m",
      "\u001b[0;31mClientResponseError\u001b[0m                       Traceback (most recent call last)",
      "\u001b[0;32m<ipython-input-27-9f190ea0a838>\u001b[0m in \u001b[0;36masync-def-wrapper\u001b[0;34m()\u001b[0m\n\u001b[1;32m      2\u001b[0m \u001b[0mprint\u001b[0m\u001b[0;34m(\u001b[0m\u001b[0mresponse\u001b[0m\u001b[0;34m)\u001b[0m\u001b[0;34m\u001b[0m\u001b[0;34m\u001b[0m\u001b[0m\n",
      "\u001b[0;32m/aries_basic_controller/controllers/proof.py\u001b[0m in \u001b[0;36msend_presentation\u001b[0;34m(self, pres_ex_id, presentation)\u001b[0m\n\u001b[1;32m     73\u001b[0m     \u001b[0;32masync\u001b[0m \u001b[0;32mdef\u001b[0m \u001b[0msend_presentation\u001b[0m\u001b[0;34m(\u001b[0m\u001b[0mself\u001b[0m\u001b[0;34m,\u001b[0m \u001b[0mpres_ex_id\u001b[0m\u001b[0;34m,\u001b[0m \u001b[0mpresentation\u001b[0m\u001b[0;34m)\u001b[0m\u001b[0;34m:\u001b[0m\u001b[0;34m\u001b[0m\u001b[0;34m\u001b[0m\u001b[0m\n\u001b[1;32m     74\u001b[0m \u001b[0;34m\u001b[0m\u001b[0m\n\u001b[0;32m---> 75\u001b[0;31m         \u001b[0;32mreturn\u001b[0m \u001b[0;32mawait\u001b[0m \u001b[0mself\u001b[0m\u001b[0;34m.\u001b[0m\u001b[0madmin_POST\u001b[0m\u001b[0;34m(\u001b[0m\u001b[0;34mf\"{self.base_url}/records/{pres_ex_id}/send-presentation\"\u001b[0m\u001b[0;34m,\u001b[0m \u001b[0mjson_data\u001b[0m\u001b[0;34m=\u001b[0m\u001b[0mpresentation\u001b[0m\u001b[0;34m)\u001b[0m\u001b[0;34m\u001b[0m\u001b[0;34m\u001b[0m\u001b[0m\n\u001b[0m\u001b[1;32m     76\u001b[0m \u001b[0;34m\u001b[0m\u001b[0m\n\u001b[1;32m     77\u001b[0m     \u001b[0;31m# Verify a received presentation\u001b[0m\u001b[0;34m\u001b[0m\u001b[0;34m\u001b[0m\u001b[0;34m\u001b[0m\u001b[0m\n",
      "\u001b[0;32m/aries_basic_controller/controllers/base.py\u001b[0m in \u001b[0;36madmin_POST\u001b[0;34m(self, path, json_data, text, params, data)\u001b[0m\n\u001b[1;32m     93\u001b[0m                 \u001b[0;34m(\u001b[0m\u001b[0;34m\" with data: \\n{}\"\u001b[0m\u001b[0;34m.\u001b[0m\u001b[0mformat\u001b[0m\u001b[0;34m(\u001b[0m\u001b[0mrepr_json\u001b[0m\u001b[0;34m(\u001b[0m\u001b[0mjson_data\u001b[0m\u001b[0;34m)\u001b[0m\u001b[0;34m)\u001b[0m \u001b[0;32mif\u001b[0m \u001b[0mjson_data\u001b[0m \u001b[0;32melse\u001b[0m \u001b[0;34m\"\"\u001b[0m\u001b[0;34m)\u001b[0m\u001b[0;34m,\u001b[0m\u001b[0;34m\u001b[0m\u001b[0;34m\u001b[0m\u001b[0m\n\u001b[1;32m     94\u001b[0m             )\n\u001b[0;32m---> 95\u001b[0;31m             \u001b[0mresponse\u001b[0m \u001b[0;34m=\u001b[0m \u001b[0;32mawait\u001b[0m \u001b[0mself\u001b[0m\u001b[0;34m.\u001b[0m\u001b[0madmin_request\u001b[0m\u001b[0;34m(\u001b[0m\u001b[0;34m\"POST\"\u001b[0m\u001b[0;34m,\u001b[0m \u001b[0mpath\u001b[0m\u001b[0;34m,\u001b[0m \u001b[0mjson_data\u001b[0m\u001b[0;34m,\u001b[0m \u001b[0mtext\u001b[0m\u001b[0;34m,\u001b[0m \u001b[0mparams\u001b[0m\u001b[0;34m,\u001b[0m \u001b[0mdata\u001b[0m\u001b[0;34m)\u001b[0m\u001b[0;34m\u001b[0m\u001b[0;34m\u001b[0m\u001b[0m\n\u001b[0m\u001b[1;32m     96\u001b[0m             EVENT_LOGGER.debug(\n\u001b[1;32m     97\u001b[0m                 \u001b[0;34m\"Response from POST %s received: \\n%s\"\u001b[0m\u001b[0;34m,\u001b[0m\u001b[0;34m\u001b[0m\u001b[0;34m\u001b[0m\u001b[0m\n",
      "\u001b[0;32m/aries_basic_controller/controllers/base.py\u001b[0m in \u001b[0;36madmin_request\u001b[0;34m(self, method, path, json_data, text, params, data)\u001b[0m\n\u001b[1;32m     61\u001b[0m             \u001b[0mmethod\u001b[0m\u001b[0;34m,\u001b[0m \u001b[0mself\u001b[0m\u001b[0;34m.\u001b[0m\u001b[0madmin_url\u001b[0m \u001b[0;34m+\u001b[0m \u001b[0mpath\u001b[0m\u001b[0;34m,\u001b[0m \u001b[0mjson\u001b[0m\u001b[0;34m=\u001b[0m\u001b[0mjson_data\u001b[0m\u001b[0;34m,\u001b[0m \u001b[0mparams\u001b[0m\u001b[0;34m=\u001b[0m\u001b[0mparams\u001b[0m\u001b[0;34m,\u001b[0m \u001b[0mdata\u001b[0m\u001b[0;34m=\u001b[0m\u001b[0mdata\u001b[0m\u001b[0;34m\u001b[0m\u001b[0;34m\u001b[0m\u001b[0m\n\u001b[1;32m     62\u001b[0m         ) as resp:\n\u001b[0;32m---> 63\u001b[0;31m             \u001b[0mresp\u001b[0m\u001b[0;34m.\u001b[0m\u001b[0mraise_for_status\u001b[0m\u001b[0;34m(\u001b[0m\u001b[0;34m)\u001b[0m\u001b[0;34m\u001b[0m\u001b[0;34m\u001b[0m\u001b[0m\n\u001b[0m\u001b[1;32m     64\u001b[0m             \u001b[0mresp_text\u001b[0m \u001b[0;34m=\u001b[0m \u001b[0;32mawait\u001b[0m \u001b[0mresp\u001b[0m\u001b[0;34m.\u001b[0m\u001b[0mtext\u001b[0m\u001b[0;34m(\u001b[0m\u001b[0;34m)\u001b[0m\u001b[0;34m\u001b[0m\u001b[0;34m\u001b[0m\u001b[0m\n\u001b[1;32m     65\u001b[0m             \u001b[0;32mif\u001b[0m \u001b[0;32mnot\u001b[0m \u001b[0mresp_text\u001b[0m \u001b[0;32mand\u001b[0m \u001b[0;32mnot\u001b[0m \u001b[0mtext\u001b[0m\u001b[0;34m:\u001b[0m\u001b[0;34m\u001b[0m\u001b[0;34m\u001b[0m\u001b[0m\n",
      "\u001b[0;32m/opt/conda/lib/python3.7/site-packages/aiohttp/client_reqrep.py\u001b[0m in \u001b[0;36mraise_for_status\u001b[0;34m(self)\u001b[0m\n\u001b[1;32m    944\u001b[0m                 \u001b[0mstatus\u001b[0m\u001b[0;34m=\u001b[0m\u001b[0mself\u001b[0m\u001b[0;34m.\u001b[0m\u001b[0mstatus\u001b[0m\u001b[0;34m,\u001b[0m\u001b[0;34m\u001b[0m\u001b[0;34m\u001b[0m\u001b[0m\n\u001b[1;32m    945\u001b[0m                 \u001b[0mmessage\u001b[0m\u001b[0;34m=\u001b[0m\u001b[0mself\u001b[0m\u001b[0;34m.\u001b[0m\u001b[0mreason\u001b[0m\u001b[0;34m,\u001b[0m\u001b[0;34m\u001b[0m\u001b[0;34m\u001b[0m\u001b[0m\n\u001b[0;32m--> 946\u001b[0;31m                 headers=self.headers)\n\u001b[0m\u001b[1;32m    947\u001b[0m \u001b[0;34m\u001b[0m\u001b[0m\n\u001b[1;32m    948\u001b[0m     \u001b[0;32mdef\u001b[0m \u001b[0m_cleanup_writer\u001b[0m\u001b[0;34m(\u001b[0m\u001b[0mself\u001b[0m\u001b[0;34m)\u001b[0m \u001b[0;34m->\u001b[0m \u001b[0;32mNone\u001b[0m\u001b[0;34m:\u001b[0m\u001b[0;34m\u001b[0m\u001b[0;34m\u001b[0m\u001b[0m\n",
      "\u001b[0;31mClientResponseError\u001b[0m: 400, message='Error when constructing revocation state: Error: Invalid structure. Caused by: UrsaCryptoError: Invalid len of bytes representation for PoingG2. CommonInvalidStructure.', url=URL('http://bob-agent:8051/present-proof/records/7e804117-4ece-4eae-9a3e-6c69f63bf367/send-presentation')"
     ]
    },
    {
     "name": "stdout",
     "output_type": "stream",
     "text": [
      "\u001b[0m\u001b[?7h\u001b[0;34mError during POST /present-proof/records/7e804117-4ece-4eae-9a3e-6c69f63bf367/send-presentation: 400, message='Error when constructing revocation state: Error: Invalid structure. Caused by: UrsaCryptoError: Invalid len of bytes representation for PoingG2. CommonInvalidStructure.', url=URL('http://bob-agent:8051/present-proof/records/7e804117-4ece-4eae-9a3e-6c69f63bf367/send-presentation')\u001b[0m\r\n",
      "\u001b[0m"
     ]
    }
   ],
   "source": [
    "response = await agent_controller.proofs.send_presentation(presentation_exchange_id, proof)\n",
    "print(response)"
   ]
  },
  {
   "cell_type": "markdown",
   "metadata": {},
   "source": [
    "## 11. Continue in the verifier notebook\n",
    "\n",
    "The verifier needs to check the proof send by Bob is verifiable."
   ]
  },
  {
   "cell_type": "markdown",
   "metadata": {},
   "source": [
    "## End of Tutorial\n",
    "\n",
    "Be sure to terminate the controller."
   ]
  },
  {
   "cell_type": "code",
   "execution_count": null,
   "metadata": {},
   "outputs": [],
   "source": [
    "response = await agent_controller.terminate()"
   ]
  },
  {
   "cell_type": "code",
   "execution_count": null,
   "metadata": {},
   "outputs": [],
   "source": []
  }
 ],
 "metadata": {
  "kernelspec": {
   "display_name": "Python 3",
   "language": "python",
   "name": "python3"
  },
  "language_info": {
   "codemirror_mode": {
    "name": "ipython",
    "version": 3
   },
   "file_extension": ".py",
   "mimetype": "text/x-python",
   "name": "python",
   "nbconvert_exporter": "python",
   "pygments_lexer": "ipython3",
   "version": "3.7.6"
  }
 },
 "nbformat": 4,
 "nbformat_minor": 4
}
