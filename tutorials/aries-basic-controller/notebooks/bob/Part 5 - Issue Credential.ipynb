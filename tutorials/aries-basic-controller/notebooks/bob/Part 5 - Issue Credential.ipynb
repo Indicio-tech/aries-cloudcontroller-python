{
 "cells": [
  {
   "cell_type": "markdown",
   "metadata": {},
   "source": [
    "# Issue Credential - Bob\n",
    "## Role: Holder\n",
    "\n",
    "### This tutorial runs through the issuer-api from the perspective of a holder. It should be run alongside the [issuer notebook](http://localhost:8888/notebooks/Part%205%20-%20Issue%20Credential.ipynb) from Alice's perspective. \n",
    "\n",
    "\n",
    "If unfamiliar with the protocol it is worth reading through the [aries-rfs](https://github.com/hyperledger/aries-rfcs/tree/master/features/0036-issue-credential)"
   ]
  },
  {
   "cell_type": "markdown",
   "metadata": {},
   "source": [
    "## First complete steps 1-6 in the issuer notebook."
   ]
  },
  {
   "cell_type": "markdown",
   "metadata": {},
   "source": [
    "## 7. Initialise the Controller"
   ]
  },
  {
   "cell_type": "code",
   "execution_count": null,
   "metadata": {},
   "outputs": [],
   "source": [
    "%autoawait\n",
    "import time\n",
    "import asyncio\n",
    "\n",
    "from aries_basic_controller.aries_controller import AriesAgentController\n",
    "    \n",
    "WEBHOOK_HOST = \"0.0.0.0\"\n",
    "WEBHOOK_PORT = 8052\n",
    "WEBHOOK_BASE = \"\"\n",
    "ADMIN_URL = \"http://bob-agent:8051\"\n",
    "\n",
    "agent_controller = AriesAgentController(webhook_host=WEBHOOK_HOST, webhook_port=WEBHOOK_PORT,\n",
    "                                       webhook_base=WEBHOOK_BASE, admin_url=ADMIN_URL, connections=True)"
   ]
  },
  {
   "cell_type": "markdown",
   "metadata": {},
   "source": [
    "## 8. Register listeners\n",
    "\n",
    "The handler should get called every time the controller receives a webhook with the topic issue_credential, printing out the payload. The agent calls to this webhook every time it receives an issue-credential protocol message from a credential."
   ]
  },
  {
   "cell_type": "code",
   "execution_count": null,
   "metadata": {},
   "outputs": [],
   "source": [
    "loop = asyncio.get_event_loop()\n",
    "loop.create_task(agent_controller.listen_webhooks())\n",
    "def cred_handler(payload):\n",
    "    print(\"Handle Credentials\")\n",
    "    exchange_id = payload['credential_exchange_id']\n",
    "    state = payload['state']\n",
    "    role = payload['role']\n",
    "    attributes = payload['credential_proposal_dict']['credential_proposal']['attributes']\n",
    "    print(f\"Credential exchange {exchange_id}, role: {role}, state: {state}\")\n",
    "    print(f\"Attributes: {attributes}\")\n",
    "    \n",
    "cred_listener = {\n",
    "    \"topic\": \"issue_credential\",\n",
    "    \"handler\": cred_handler\n",
    "}\n",
    "agent_controller.register_listeners([cred_listener], defaults=True)"
   ]
  },
  {
   "cell_type": "markdown",
   "metadata": {},
   "source": [
    "## 9. Continue in the [Issuer](http://localhost:8888/notebooks/issuer.ipynb) Notebook\n",
    "\n",
    "This sends the credential to the holder Bob and should be recognisable through the print statements from the above handler."
   ]
  },
  {
   "cell_type": "markdown",
   "metadata": {},
   "source": [
    "## 10. Check Credential Exchange Records\n",
    "\n",
    "The agent will have at least one record if you have run through the issuer notebook up until send credential."
   ]
  },
  {
   "cell_type": "code",
   "execution_count": null,
   "metadata": {},
   "outputs": [
    {
     "data": {
      "text/plain": [
       "[{'state': 'offer_received',\n",
       "  'credential_exchange_id': 'aa0f675e-a5ba-4bab-8e64-a1729798df3c',\n",
       "  'updated_at': '2020-12-01 06:36:50.113438Z',\n",
       "  'thread_id': '4e49e299-5c51-43e5-83ea-ba9089e98428',\n",
       "  'auto_remove': True,\n",
       "  'trace': True,\n",
       "  'credential_proposal_dict': {'@type': 'did:sov:BzCbsNYhMrjHiqZDTUASHg;spec/issue-credential/1.0/propose-credential',\n",
       "   '@id': 'b6222a36-f182-4bc0-bc12-e831dbc5eb89',\n",
       "   'cred_def_id': 'PQRXDxdGqQGSZ8z69p4xZP:3:CL:10:default',\n",
       "   'credential_proposal': {'@type': 'did:sov:BzCbsNYhMrjHiqZDTUASHg;spec/issue-credential/1.0/credential-preview',\n",
       "    'attributes': [{'name': 'name', 'value': 'Bob'},\n",
       "     {'name': 'skill', 'value': 'researcher'},\n",
       "     {'name': 'age', 'value': '1337'}]},\n",
       "   'schema_id': 'PQRXDxdGqQGSZ8z69p4xZP:2:hwrdtm_custom_schema:0.0.1',\n",
       "   'comment': 'create automated credential exchange'},\n",
       "  'role': 'holder',\n",
       "  'schema_id': 'PQRXDxdGqQGSZ8z69p4xZP:2:hwrdtm_custom_schema:0.0.1',\n",
       "  'connection_id': '6ef9082f-6450-4dfa-99d2-d65cf279d0fc',\n",
       "  'credential_definition_id': 'PQRXDxdGqQGSZ8z69p4xZP:3:CL:10:default',\n",
       "  'initiator': 'external',\n",
       "  'credential_offer': {'schema_id': 'PQRXDxdGqQGSZ8z69p4xZP:2:hwrdtm_custom_schema:0.0.1',\n",
       "   'cred_def_id': 'PQRXDxdGqQGSZ8z69p4xZP:3:CL:10:default',\n",
       "   'key_correctness_proof': {'c': '102217937624658051061363705342346060583052779618760053013386581635249542005720',\n",
       "    'xz_cap': '547484573007744286870229470721583173532738781187267214211859392743417283433884733694580934958126203959824342481611903971443234012229075043965574956241498009979812279280395347925364229385555329112864716860549794378998431282950918159281452741196843829137537051388002056178529373620191703781599698541858189839699543892034697279769985202190766112185513150692202264545798455741778624181413617677473247362295773090364103940862455942442499048834127087530057256840224632303543372180384879899082749178067029928292184112423144066357735487679628475280765290703352026070826344381555982112316540992045453028460257042432061562621452899292087350190854352586628364279616010267536787395902512084384157067186581',\n",
       "    'xr_cap': [['skill',\n",
       "      '886184287902581728861152685893435720258166371756962300292278069076804856767392594271222614317885763467979558652180718121566949378297595171062193462626024284780217902568859854161824565955404118806710173061099462021155822329574256875692812527921353339826135553977010165629697838623558044997310414261737256708581937796788515564503175090762422101533069452247333134793355638204457553917949856726656883610304280877218248917967632942114479370747720158796505683043303778687739273361700067993630476451326886613764263462669791886193497433338469319260282107378415207367805407531089185123118968969361128245556791887546991008542203299797220900213307330955667176126067378394430556752913872196362825423257475'],\n",
       "     ['age',\n",
       "      '1653789518897319496358010091259825645457265008725101428111915481322300781778541914242916214748697717233509867752537563127550560274572982934728087777517520850163500467235520866923575087673334900058417154279448329564984331548739750388052543038257824368196014443169663575847468604989898333240743399700729273580100575253426100780575616558809892268908774221857682012502637760972528729825066244454507423157744122424089187555016777256464995934178443595665287224367777797116881247590562139345169578277444130903201002348387024076249181749633504235678730395441856309896952124241122730842914451573894187597348259245060616833938897762793548968738486679947871965582835776181399116744554678694352272361384325'],\n",
       "     ['name',\n",
       "      '1633680034591755961276547172853552016558044003760712902140590162844986768345387533527839381061654092034361002952679807937431459130448066153552079490585852419916130985263489202917446519386194623445789132614784801662812448571164730599255856527527047294862390249844544725392444574429603739444481683967027899609763011325247096439868113549218103834833241706357849385731670800008907915284778541032126382091126948559755500962470132418370361399674013701374095276992732813380880824917860071036059118449363687252843599690457328779381394099640997776874710434974844369891410993244698813291054874292301672531678466522361029299825763589884111737765915121296525690785817678905536491786469951554286773513786154'],\n",
       "     ['master_secret',\n",
       "      '755766041077880263794907063583999048619539589471464431789597636812621875345720378700220408401793381901185557858114177608019919644695205434328911321255017829295420107701102594123408650748046124077995692599708393691411363827730322096343612470432686070274246964746716930048448698448350041931035702179488055880528990401490236549400117689159432734526028098921811166943804070402307387891004892592152436651980347526327550629217637024431217660668479939581436281746400582259984290350704596719177034671322756038516313568231923101568849001942426206825580121591459947619261893394715815223447941987986783232601439408737648652893158496577719085256629247892865013839752310430038396934983677569197453881423858']]},\n",
       "   'nonce': '389083438712121081992794'},\n",
       "  'auto_offer': False,\n",
       "  'auto_issue': False,\n",
       "  'created_at': '2020-12-01 06:36:50.113438Z'}]"
      ]
     },
     "execution_count": 12,
     "metadata": {},
     "output_type": "execute_result"
    }
   ],
   "source": [
    "response[\"results\"]"
   ]
  },
  {
   "cell_type": "code",
   "execution_count": 10,
   "metadata": {},
   "outputs": [
    {
     "name": "stdout",
     "output_type": "stream",
     "text": [
      "1\n",
      "Credential exchange aa0f675e-a5ba-4bab-8e64-a1729798df3c, role: holder, state: offer_received\n",
      "Being offered: [{'name': 'name', 'value': 'Bob'}, {'name': 'skill', 'value': 'researcher'}, {'name': 'age', 'value': '1337'}]\n"
     ]
    }
   ],
   "source": [
    "response = await agent_controller.issuer.get_records()\n",
    "results = response[\"results\"]\n",
    "print(len(results))\n",
    "if len(results) == 0:\n",
    "    print(\"You need to first send a credential from the issuer notebook (Alice)\")\n",
    "else:\n",
    "    cred_record = results[0]\n",
    "    cred_ex_id = cred_record['credential_exchange_id']\n",
    "    state = cred_record['state']\n",
    "    role = cred_record['role']\n",
    "    attributes = results[0]['credential_proposal_dict']['credential_proposal']['attributes']\n",
    "    print(f\"Credential exchange {cred_ex_id}, role: {role}, state: {state}\")\n",
    "    print(f\"Being offered: {attributes}\")\n"
   ]
  },
  {
   "cell_type": "markdown",
   "metadata": {},
   "source": [
    "## 11. Request Credential from Issuer\n",
    "\n",
    "If happy with the attributes being offered in the credential, then the holder requests the credential from the issuer to proceed with the issuance.\n",
    "\n",
    "It is only possible to request a credential from an exchange when it is in the offer_received state"
   ]
  },
  {
   "cell_type": "code",
   "execution_count": null,
   "metadata": {},
   "outputs": [
    {
     "name": "stdout",
     "output_type": "stream",
     "text": [
      "Credential exchange aa0f675e-a5ba-4bab-8e64-a1729798df3c, role: holder, state: request_sent\n",
      "Handle Credentials\n",
      "Credential exchange aa0f675e-a5ba-4bab-8e64-a1729798df3c, role: holder, state: request_sent\n",
      "Attributes: [{'name': 'name', 'value': 'Bob'}, {'name': 'skill', 'value': 'researcher'}, {'name': 'age', 'value': '1337'}]\n",
      "Handle Credentials\n",
      "Credential exchange aa0f675e-a5ba-4bab-8e64-a1729798df3c, role: holder, state: credential_received\n",
      "Attributes: [{'name': 'name', 'value': 'Bob'}, {'name': 'skill', 'value': 'researcher'}, {'name': 'age', 'value': '1337'}]\n"
     ]
    }
   ],
   "source": [
    "record = await agent_controller.issuer.send_request_for_record(cred_ex_id)\n",
    "state = record['state']\n",
    "role = record['role']\n",
    "print(f\"Credential exchange {cred_ex_id}, role: {role}, state: {state}\")"
   ]
  },
  {
   "cell_type": "markdown",
   "metadata": {},
   "source": [
    "## 12. Store the credential\n",
    "\n",
    "Once the issuer has responded to a request by sending the credential, the holder needs to store it to save the credential for later.\n",
    "\n",
    "First check that the credential record is in the credential_received state"
   ]
  },
  {
   "cell_type": "code",
   "execution_count": null,
   "metadata": {},
   "outputs": [
    {
     "name": "stdout",
     "output_type": "stream",
     "text": [
      "Credential exchange aa0f675e-a5ba-4bab-8e64-a1729798df3c, role: holder, state: credential_received\n"
     ]
    }
   ],
   "source": [
    "record = await agent_controller.issuer.get_record_by_id(cred_ex_id)\n",
    "state = record['state']\n",
    "role = record['role']\n",
    "print(f\"Credential exchange {cred_ex_id}, role: {role}, state: {state}\")"
   ]
  },
  {
   "cell_type": "code",
   "execution_count": null,
   "metadata": {},
   "outputs": [
    {
     "name": "stdout",
     "output_type": "stream",
     "text": [
      "Credential exchange aa0f675e-a5ba-4bab-8e64-a1729798df3c, role: holder, state: credential_acked\n",
      "Handle Credentials\n",
      "Credential exchange aa0f675e-a5ba-4bab-8e64-a1729798df3c, role: holder, state: credential_acked\n",
      "Attributes: [{'name': 'name', 'value': 'Bob'}, {'name': 'skill', 'value': 'researcher'}, {'name': 'age', 'value': '1337'}]\n"
     ]
    }
   ],
   "source": [
    "response = await agent_controller.issuer.store_credential(cred_ex_id, \"CUSTOM OM Credential\")\n",
    "state = response['state']\n",
    "role = response['role']\n",
    "print(f\"Credential exchange {cred_ex_id}, role: {role}, state: {state}\")"
   ]
  },
  {
   "cell_type": "markdown",
   "metadata": {},
   "source": [
    "## Not Included\n",
    "\n",
    "* Propose Credential: Allows holder to propose an alternative credential that it wishes the issuer to issue. Most likely used when negotiating the values within the credential or if the holder spots an error in current issued credential. **Note: this generates a new credential exchange id.**\n",
    "\n"
   ]
  },
  {
   "cell_type": "markdown",
   "metadata": {},
   "source": [
    "## End of Tutorial\n",
    "\n",
    "Be sure to terminate the controller so you can run another tutorial."
   ]
  },
  {
   "cell_type": "code",
   "execution_count": null,
   "metadata": {},
   "outputs": [],
   "source": [
    "response = await agent_controller.terminate()\n"
   ]
  },
  {
   "cell_type": "code",
   "execution_count": 15,
   "metadata": {},
   "outputs": [
    {
     "data": {
      "text/plain": [
       "'a2536881-8e4d-4c06-a91d-28a2a6439528'"
      ]
     },
     "execution_count": 15,
     "metadata": {},
     "output_type": "execute_result"
    }
   ],
   "source": [
    "cred_ex_id"
   ]
  },
  {
   "cell_type": "code",
   "execution_count": null,
   "metadata": {},
   "outputs": [],
   "source": []
  }
 ],
 "metadata": {
  "kernelspec": {
   "display_name": "Python 3",
   "language": "python",
   "name": "python3"
  },
  "language_info": {
   "codemirror_mode": {
    "name": "ipython",
    "version": 3
   },
   "file_extension": ".py",
   "mimetype": "text/x-python",
   "name": "python",
   "nbconvert_exporter": "python",
   "pygments_lexer": "ipython3",
   "version": "3.7.6"
  }
 },
 "nbformat": 4,
 "nbformat_minor": 4
}
