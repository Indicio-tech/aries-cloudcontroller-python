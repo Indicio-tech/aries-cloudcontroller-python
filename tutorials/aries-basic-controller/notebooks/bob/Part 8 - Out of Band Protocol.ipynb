{
 "cells": [
  {
   "cell_type": "markdown",
   "metadata": {},
   "source": [
    "# Out of Band Protocol - Receiver\n",
    "\n",
    "The out of band protocol allows agents to exchange messages without requiring a DIDComm channel. This can be used to establish a connection, request a presentation or issue a credential. \n",
    "\n",
    "The RFC is described [here](https://github.com/hyperledger/aries-rfcs/tree/master/features/0434-outofband)\n",
    "\n",
    "Begin in the [sender notebook](http://localhost:8888/notebooks/Part%208%20-%20Out%20of%20Band%20Protocol.ipynb)."
   ]
  },
  {
   "cell_type": "markdown",
   "metadata": {},
   "source": [
    "## 5. Initialise the Controller"
   ]
  },
  {
   "cell_type": "code",
   "execution_count": 1,
   "metadata": {},
   "outputs": [
    {
     "name": "stdout",
     "output_type": "stream",
     "text": [
      "IPython autoawait is `on`, and set to use `asyncio`\n"
     ]
    }
   ],
   "source": [
    "%autoawait\n",
    "import time\n",
    "import asyncio\n",
    "\n",
    "from aries_basic_controller.aries_controller import AriesAgentController\n",
    "    \n",
    "WEBHOOK_HOST = \"0.0.0.0\"\n",
    "WEBHOOK_PORT = 8052\n",
    "WEBHOOK_BASE = \"\"\n",
    "ADMIN_URL = \"http://bob-agent:8051\"\n",
    "\n",
    "agent_controller = AriesAgentController(webhook_host=WEBHOOK_HOST, webhook_port=WEBHOOK_PORT,\n",
    "                                       webhook_base=WEBHOOK_BASE, admin_url=ADMIN_URL, connections=True)"
   ]
  },
  {
   "cell_type": "markdown",
   "metadata": {},
   "source": [
    "## 6. Configure Connection Listeners"
   ]
  },
  {
   "cell_type": "code",
   "execution_count": 2,
   "metadata": {},
   "outputs": [],
   "source": [
    "loop = asyncio.get_event_loop()\n",
    "loop.create_task(agent_controller.listen_webhooks())\n",
    "\n",
    "def connections_handler(payload):\n",
    "    print(\"Connection Webhook : \", payload)\n",
    "    \n",
    "connections_listener = {\n",
    "    \"topic\": \"connections\",\n",
    "    \"handler\": connections_handler\n",
    "}\n",
    "\n",
    "\n",
    "agent_controller.register_listeners([connections_listener], defaults=True)"
   ]
  },
  {
   "cell_type": "markdown",
   "metadata": {},
   "source": [
    "## 7. Receive Out of Band Invitation\n",
    "\n",
    "**You should have copied this from the Sender notebook (Step 3)**"
   ]
  },
  {
   "cell_type": "code",
   "execution_count": 3,
   "metadata": {},
   "outputs": [
    {
     "name": "stdout",
     "output_type": "stream",
     "text": [
      "Connection Webhook :  {'connection_id': '4f47cb7e-be35-4a34-8c4c-f0d987aec3aa', 'created_at': '2020-10-30 12:50:49.322105Z', 'routing_state': 'none', 'invitation_key': '8egq2Lysck4b9HpLKez4bZcDnwZqgVNFMeuSUBaGdLW1', 'state': 'invitation', 'accept': 'auto', 'initiator': 'external', 'invitation_mode': 'once', 'updated_at': '2020-10-30 12:50:49.322105Z', 'their_label': 'Alice'}\n",
      "Connection Webhook :  {'connection_id': '4f47cb7e-be35-4a34-8c4c-f0d987aec3aa', 'created_at': '2020-10-30 12:50:49.322105Z', 'routing_state': 'none', 'invitation_key': '8egq2Lysck4b9HpLKez4bZcDnwZqgVNFMeuSUBaGdLW1', 'state': 'request', 'accept': 'auto', 'initiator': 'external', 'invitation_mode': 'once', 'request_id': 'db6d03a3-04ca-4ed3-9da6-36fc31f3ad95', 'updated_at': '2020-10-30 12:50:49.333258Z', 'my_did': '3oyc4duyVFbKq6wKLhqfv5', 'their_label': 'Alice'}\n",
      "{'connection_id': '4f47cb7e-be35-4a34-8c4c-f0d987aec3aa', 'created_at': '2020-10-30 12:50:49.322105Z', 'routing_state': 'none', 'invitation_key': '8egq2Lysck4b9HpLKez4bZcDnwZqgVNFMeuSUBaGdLW1', 'state': 'request', 'accept': 'auto', 'initiator': 'external', 'invitation_mode': 'once', 'request_id': 'db6d03a3-04ca-4ed3-9da6-36fc31f3ad95', 'updated_at': '2020-10-30 12:50:49.333258Z', 'my_did': '3oyc4duyVFbKq6wKLhqfv5', 'their_label': 'Alice'}\n",
      "Connection Webhook :  {'connection_id': '4f47cb7e-be35-4a34-8c4c-f0d987aec3aa', 'created_at': '2020-10-30 12:50:49.322105Z', 'their_did': '6RoJMQnJikyY2Em2pz7p8Q', 'routing_state': 'none', 'invitation_key': '8egq2Lysck4b9HpLKez4bZcDnwZqgVNFMeuSUBaGdLW1', 'state': 'response', 'accept': 'auto', 'initiator': 'external', 'invitation_mode': 'once', 'request_id': 'db6d03a3-04ca-4ed3-9da6-36fc31f3ad95', 'updated_at': '2020-10-30 12:50:49.421094Z', 'my_did': '3oyc4duyVFbKq6wKLhqfv5', 'their_label': 'Alice'}\n"
     ]
    }
   ],
   "source": [
    "import json\n",
    "oob_invite = {'@type': 'did:sov:BzCbsNYhMrjHiqZDTUASHg;spec/out-of-band/1.0/invitation', '@id': 'e536ed97-2e32-4133-bf20-7ce998739267', 'label': 'Alice', 'handshake_protocols': ['https://didcomm.org/connections/1.0/invitation', 'did:sov:BzCbsNYhMrjHiqZDTUASHg;spec/connections/1.0/invitation'], 'request~attach': [], 'service': [{'id': '#inline', 'type': 'did-communication', 'recipientKeys': ['did:key:z6Mkn6wscbEJxHZ4Fnf31DwuSfADcWqh6Ncc3fpNJTYHYZHP'], 'routingKeys': [], 'serviceEndpoint': 'http://172.17.0.1:8020'}]}\n",
    "response = await agent_controller.oob.receive_invitation(oob_invite)\n",
    "print(response)"
   ]
  },
  {
   "cell_type": "markdown",
   "metadata": {},
   "source": [
    "## 8. Get Connection"
   ]
  },
  {
   "cell_type": "code",
   "execution_count": 4,
   "metadata": {},
   "outputs": [
    {
     "name": "stdout",
     "output_type": "stream",
     "text": [
      "4f47cb7e-be35-4a34-8c4c-f0d987aec3aa\n",
      "{'connection_id': '4f47cb7e-be35-4a34-8c4c-f0d987aec3aa', 'created_at': '2020-10-30 12:50:49.322105Z', 'their_did': '6RoJMQnJikyY2Em2pz7p8Q', 'routing_state': 'none', 'invitation_key': '8egq2Lysck4b9HpLKez4bZcDnwZqgVNFMeuSUBaGdLW1', 'state': 'response', 'accept': 'auto', 'initiator': 'external', 'invitation_mode': 'once', 'request_id': 'db6d03a3-04ca-4ed3-9da6-36fc31f3ad95', 'updated_at': '2020-10-30 12:50:49.421094Z', 'my_did': '3oyc4duyVFbKq6wKLhqfv5', 'their_label': 'Alice'}\n",
      "Connection State :  response\n"
     ]
    }
   ],
   "source": [
    "connection_id = response[\"connection_id\"]\n",
    "print(connection_id)\n",
    "\n",
    "connection = await agent_controller.connections.get_connection(connection_id)\n",
    "\n",
    "print(connection)\n",
    "print(\"Connection State : \", connection[\"state\"])"
   ]
  },
  {
   "cell_type": "markdown",
   "metadata": {},
   "source": [
    "## 9. Send Trust Ping\n",
    "\n",
    "This moves the connection to the active state"
   ]
  },
  {
   "cell_type": "code",
   "execution_count": 6,
   "metadata": {},
   "outputs": [
    {
     "data": {
      "text/plain": [
       "{'thread_id': '85e649b0-0fea-4691-a5ae-61dfc51e643c'}"
      ]
     },
     "execution_count": 6,
     "metadata": {},
     "output_type": "execute_result"
    },
    {
     "name": "stdout",
     "output_type": "stream",
     "text": [
      "Connection Webhook :  {'connection_id': '4f47cb7e-be35-4a34-8c4c-f0d987aec3aa', 'created_at': '2020-10-30 12:50:49.322105Z', 'their_did': '6RoJMQnJikyY2Em2pz7p8Q', 'routing_state': 'none', 'invitation_key': '8egq2Lysck4b9HpLKez4bZcDnwZqgVNFMeuSUBaGdLW1', 'state': 'active', 'accept': 'auto', 'initiator': 'external', 'invitation_mode': 'once', 'request_id': 'db6d03a3-04ca-4ed3-9da6-36fc31f3ad95', 'updated_at': '2020-10-30 12:52:25.954656Z', 'my_did': '3oyc4duyVFbKq6wKLhqfv5', 'their_label': 'Alice'}\n"
     ]
    }
   ],
   "source": [
    "await agent_controller.messaging.trust_ping(connection_id, \"active\")"
   ]
  },
  {
   "cell_type": "markdown",
   "metadata": {},
   "source": [
    "## End Tutorial\n"
   ]
  },
  {
   "cell_type": "code",
   "execution_count": 7,
   "metadata": {},
   "outputs": [],
   "source": [
    "await agent_controller.terminate()"
   ]
  },
  {
   "cell_type": "code",
   "execution_count": null,
   "metadata": {},
   "outputs": [],
   "source": []
  }
 ],
 "metadata": {
  "kernelspec": {
   "display_name": "Python 3",
   "language": "python",
   "name": "python3"
  },
  "language_info": {
   "codemirror_mode": {
    "name": "ipython",
    "version": 3
   },
   "file_extension": ".py",
   "mimetype": "text/x-python",
   "name": "python",
   "nbconvert_exporter": "python",
   "pygments_lexer": "ipython3",
   "version": "3.7.6"
  }
 },
 "nbformat": 4,
 "nbformat_minor": 4
}
