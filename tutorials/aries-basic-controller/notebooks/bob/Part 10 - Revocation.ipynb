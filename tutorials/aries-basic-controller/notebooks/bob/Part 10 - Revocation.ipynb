{
 "cells": [
  {
   "cell_type": "markdown",
   "metadata": {},
   "source": [
    "# Revocation - Bob\n",
    "\n",
    "## Role: Holder\n",
    "\n",
    "In this notebook Bob will first be issued a revocable credential from Alice. He will then present it while it is unrevoked. Then Alice will revoke the credential and Bob will attempt to present the revoked credential, which should fail."
   ]
  },
  {
   "cell_type": "markdown",
   "metadata": {},
   "source": [
    "## Complete steps 1-6 in the [Alice's revocation notebook](http://127.0.0.1:8888/notebooks/Part%2010%20-%20Revocation.ipynb)"
   ]
  },
  {
   "cell_type": "markdown",
   "metadata": {},
   "source": [
    "## 7. Initialise Bob's Controller"
   ]
  },
  {
   "cell_type": "code",
   "execution_count": 1,
   "metadata": {},
   "outputs": [
    {
     "name": "stdout",
     "output_type": "stream",
     "text": [
      "IPython autoawait is `on`, and set to use `asyncio`\n"
     ]
    }
   ],
   "source": [
    "%autoawait\n",
    "import time\n",
    "import asyncio\n",
    "\n",
    "from aries_basic_controller.aries_controller import AriesAgentController\n",
    "    \n",
    "WEBHOOK_HOST = \"0.0.0.0\"\n",
    "WEBHOOK_PORT = 8052\n",
    "WEBHOOK_BASE = \"\"\n",
    "ADMIN_URL = \"http://bob-agent:8051\"\n",
    "\n",
    "agent_controller = AriesAgentController(webhook_host=WEBHOOK_HOST, webhook_port=WEBHOOK_PORT,\n",
    "                                       webhook_base=WEBHOOK_BASE, admin_url=ADMIN_URL, connections=True)"
   ]
  },
  {
   "cell_type": "markdown",
   "metadata": {},
   "source": [
    "## 8. Register listeners\n",
    "\n",
    "The handler should get called every time the controller receives a webhook with the topic issue_credential, printing out the payload. The agent calls to this webhook every time it receives an issue-credential protocol message from a credential."
   ]
  },
  {
   "cell_type": "code",
   "execution_count": 2,
   "metadata": {},
   "outputs": [
    {
     "name": "stdout",
     "output_type": "stream",
     "text": [
      "Handle Credentials\n",
      "Credential exchange 93a50281-2722-47ed-b211-7fc9427c0a91, role: holder, state: offer_received\n",
      "Offering: [{'name': 'name', 'value': 'Bob'}, {'name': 'skill', 'value': 'revocation'}, {'name': 'age', 'value': '1337'}]\n"
     ]
    }
   ],
   "source": [
    "loop = asyncio.get_event_loop()\n",
    "loop.create_task(agent_controller.listen_webhooks())\n",
    "\n",
    "def cred_handler(payload):\n",
    "    print(\"Handle Credentials\")\n",
    "    global connection_id\n",
    "    connection_id = payload['connection_id']\n",
    "    exchange_id = payload['credential_exchange_id']\n",
    "    state = payload['state']\n",
    "    role = payload['role']\n",
    "    attributes = payload['credential_proposal_dict']['credential_proposal']['attributes']\n",
    "    print(f\"Credential exchange {exchange_id}, role: {role}, state: {state}\")\n",
    "    print(f\"Offering: {attributes}\")\n",
    "    \n",
    "cred_listener = {\n",
    "    \"topic\": \"issue_credential\",\n",
    "    \"handler\": cred_handler\n",
    "}\n",
    "\n",
    "def proof_handler(payload):\n",
    "    print(\"Handle present proof\")\n",
    "    role = payload[\"role\"]\n",
    "    global pres_ex_id\n",
    "    pres_ex_id = payload[\"presentation_exchange_id\"]\n",
    "    state = payload[\"state\"]\n",
    "    print(f\"Role {role}, Exchange {pres_ex_id} in state {state}\")\n",
    "\n",
    "proof_listener = {\n",
    "    \"topic\": \"present_proof\",\n",
    "    \"handler\": proof_handler\n",
    "}\n",
    "\n",
    "agent_controller.register_listeners([cred_listener, proof_listener], defaults=True)"
   ]
  },
  {
   "cell_type": "markdown",
   "metadata": {},
   "source": [
    "## 9. Continue to [Alice's Notebook](http://127.0.0.1:8888/notebooks/Part%2010%20-%20Revocation.ipynb) to issue a revocable credential."
   ]
  },
  {
   "cell_type": "markdown",
   "metadata": {},
   "source": [
    "## 10 Check your credential records\n",
    "\n",
    "You should have one recording the credential offer from Alice. This should also have shown up as as a print statement from the handler function."
   ]
  },
  {
   "cell_type": "code",
   "execution_count": 3,
   "metadata": {},
   "outputs": [
    {
     "name": "stdout",
     "output_type": "stream",
     "text": [
      "1\n",
      "Credential exchange 93a50281-2722-47ed-b211-7fc9427c0a91, role: holder, state: offer_received\n",
      "Being offered: [{'name': 'name', 'value': 'Bob'}, {'name': 'skill', 'value': 'revocation'}, {'name': 'age', 'value': '1337'}]\n"
     ]
    }
   ],
   "source": [
    "response = await agent_controller.issuer.get_records()\n",
    "results = response[\"results\"]\n",
    "print(len(results))\n",
    "if len(results) == 0:\n",
    "    print(\"You need to first send a credential from the issuer notebook (Alice)\")\n",
    "else:\n",
    "    cred_record = results[0]\n",
    "    cred_ex_id = cred_record['credential_exchange_id']\n",
    "    state = cred_record['state']\n",
    "    role = cred_record['role']\n",
    "    attributes = results[0]['credential_proposal_dict']['credential_proposal']['attributes']\n",
    "    print(f\"Credential exchange {cred_ex_id}, role: {role}, state: {state}\")\n",
    "    print(f\"Being offered: {attributes}\")\n"
   ]
  },
  {
   "cell_type": "markdown",
   "metadata": {},
   "source": [
    "## 11. Request Credential from Alice"
   ]
  },
  {
   "cell_type": "code",
   "execution_count": 4,
   "metadata": {},
   "outputs": [
    {
     "name": "stdout",
     "output_type": "stream",
     "text": [
      "Handle Credentials\n",
      "Credential exchange 93a50281-2722-47ed-b211-7fc9427c0a91, role: holder, state: request_sent\n",
      "Offering: [{'name': 'name', 'value': 'Bob'}, {'name': 'skill', 'value': 'revocation'}, {'name': 'age', 'value': '1337'}]\n",
      "Credential exchange 93a50281-2722-47ed-b211-7fc9427c0a91, role: holder, state: request_sent\n",
      "Handle Credentials\n",
      "Credential exchange 93a50281-2722-47ed-b211-7fc9427c0a91, role: holder, state: credential_received\n",
      "Offering: [{'name': 'name', 'value': 'Bob'}, {'name': 'skill', 'value': 'revocation'}, {'name': 'age', 'value': '1337'}]\n"
     ]
    }
   ],
   "source": [
    "record = await agent_controller.issuer.send_request_for_record(cred_ex_id)\n",
    "state = record['state']\n",
    "role = record['role']\n",
    "print(f\"Credential exchange {cred_ex_id}, role: {role}, state: {state}\")"
   ]
  },
  {
   "cell_type": "markdown",
   "metadata": {},
   "source": [
    "## 12. Store the Credential"
   ]
  },
  {
   "cell_type": "code",
   "execution_count": 5,
   "metadata": {},
   "outputs": [
    {
     "name": "stdout",
     "output_type": "stream",
     "text": [
      "Handle Credentials\n",
      "Credential exchange 93a50281-2722-47ed-b211-7fc9427c0a91, role: holder, state: credential_acked\n",
      "Offering: [{'name': 'name', 'value': 'Bob'}, {'name': 'skill', 'value': 'revocation'}, {'name': 'age', 'value': '1337'}]\n",
      "Credential exchange 93a50281-2722-47ed-b211-7fc9427c0a91, role: holder, state: credential_acked\n"
     ]
    }
   ],
   "source": [
    "credential_id = \"Revocable Credential\"\n",
    "response = await agent_controller.issuer.store_credential(cred_ex_id, credential_id)\n",
    "state = response['state']\n",
    "role = response['role']\n",
    "print(f\"Credential exchange {cred_ex_id}, role: {role}, state: {state}\")"
   ]
  },
  {
   "cell_type": "markdown",
   "metadata": {},
   "source": [
    "## 13. Check if the revocation status of the credential\n",
    "\n",
    "It should not be revoked."
   ]
  },
  {
   "cell_type": "code",
   "execution_count": 6,
   "metadata": {},
   "outputs": [
    {
     "data": {
      "text/plain": [
       "{'revoked': False}"
      ]
     },
     "execution_count": 6,
     "metadata": {},
     "output_type": "execute_result"
    },
    {
     "name": "stdout",
     "output_type": "stream",
     "text": [
      "Handle present proof\n",
      "Role prover, Exchange 2c094bd6-5750-4b43-a44b-7a8937955730 in state request_received\n"
     ]
    }
   ],
   "source": [
    "response = await agent_controller.credentials.is_revoked(credential_id)\n",
    "response"
   ]
  },
  {
   "cell_type": "markdown",
   "metadata": {},
   "source": [
    "## Continue in Alices Notebook \n",
    "\n",
    "Send a presentation request for a non revoked credential proof.\n"
   ]
  },
  {
   "cell_type": "markdown",
   "metadata": {},
   "source": [
    "## 15. Fetch Credentials for presentation\n",
    "\n",
    "Note pres_ex_id is set in the proofs handler."
   ]
  },
  {
   "cell_type": "code",
   "execution_count": 16,
   "metadata": {},
   "outputs": [
    {
     "data": {
      "text/plain": [
       "{'name': 'Proof of Personal Information',\n",
       " 'version': '1.0',\n",
       " 'requested_attributes': {'0_skill_uuid': {'name': 'skill',\n",
       "   'restrictions': [{'issuer_did': 'PQRXDxdGqQGSZ8z69p4xZP'}],\n",
       "   'non_revoked': {'to': 1607535945}}},\n",
       " 'requested_predicates': {},\n",
       " 'non_revoked': {'to': 1607535946},\n",
       " 'nonce': '40299591669938516410815'}"
      ]
     },
     "execution_count": 16,
     "metadata": {},
     "output_type": "execute_result"
    }
   ],
   "source": [
    "pres_ex_id\n",
    "response = await agent_controller.proofs.get_record_by_id(pres_ex_id)\n",
    "presentation_request = response['presentation_request']\n",
    "presentation_request"
   ]
  },
  {
   "cell_type": "code",
   "execution_count": 17,
   "metadata": {},
   "outputs": [
    {
     "name": "stdout",
     "output_type": "stream",
     "text": [
      "[{'cred_info': {'referent': 'Revocable Credential', 'attrs': {'name': 'Bob', 'age': '1337', 'skill': 'revocation'}, 'schema_id': 'PQRXDxdGqQGSZ8z69p4xZP:2:test_revocable_schema:0.0.1', 'cred_def_id': 'PQRXDxdGqQGSZ8z69p4xZP:3:CL:10:default', 'rev_reg_id': 'PQRXDxdGqQGSZ8z69p4xZP:4:PQRXDxdGqQGSZ8z69p4xZP:3:CL:10:default:CL_ACCUM:60dd0fff-44f9-4971-802a-bf5114cc379b', 'cred_rev_id': '1'}, 'interval': {'from': None, 'to': 1607535945}, 'presentation_referents': ['0_skill_uuid']}]\n",
      "\n",
      "Generate the proof\n",
      "{'requested_predicates': {}, 'requested_attributes': {'0_skill_uuid': {'cred_id': 'Revocable Credential', 'revealed': True}}, 'self_attested_attributes': {}}\n",
      "\n",
      "XXX\n",
      "\n",
      "predicates:\n",
      "{}\n",
      "\n",
      "revealed:\n",
      "{'0_skill_uuid': {'cred_id': 'Revocable Credential', 'revealed': True}}\n",
      "\n",
      "self_attested:\n",
      "{}\n"
     ]
    }
   ],
   "source": [
    "if state == \"request_received\":\n",
    "    print(\n",
    "    \"Received Request -> Query for credentials in the wallet that satisfy the proof request\")\n",
    "    \n",
    "if presentation_request != None:\n",
    "    \n",
    "    revocation = True\n",
    "\n",
    "    # include self-attested attributes (not included in credentials)\n",
    "    credentials_by_reft = {}\n",
    "    revealed = {}\n",
    "    self_attested = {}\n",
    "    predicates = {}\n",
    "\n",
    "    # select credentials to provide for the proof\n",
    "    credentials = await agent_controller.proofs.get_presentation_credentials(pres_ex_id)\n",
    "    print(credentials)\n",
    "\n",
    "    if credentials:\n",
    "        for row in sorted(\n",
    "            credentials,\n",
    "            key=lambda c: dict(c[\"cred_info\"][\"attrs\"]),\n",
    "            reverse=True,\n",
    "        ):\n",
    "            for referent in row[\"presentation_referents\"]:\n",
    "                if referent not in credentials_by_reft:\n",
    "                    credentials_by_reft[referent] = row\n",
    "\n",
    "    for referent in presentation_request[\"requested_attributes\"]:\n",
    "        if referent in credentials_by_reft:\n",
    "            revealed[referent] = {\n",
    "                \"cred_id\": credentials_by_reft[referent][\"cred_info\"][\n",
    "                    \"referent\"\n",
    "                ],\n",
    "                \"revealed\": True,\n",
    "            }\n",
    "\n",
    "        else:\n",
    "            self_attested[referent] = \"South Africa\"\n",
    "\n",
    "    for referent in presentation_request[\"requested_predicates\"]:\n",
    "        if referent in credentials_by_reft:\n",
    "            predicates[referent] = {\n",
    "                \"cred_id\": credentials_by_reft[referent][\"cred_info\"][\n",
    "                    \"referent\"\n",
    "                ]\n",
    "            }\n",
    "\n",
    "    print(\"\\nGenerate the proof\")\n",
    "    proof = {\n",
    "        \"requested_predicates\": predicates,\n",
    "        \"requested_attributes\": revealed,\n",
    "        \"self_attested_attributes\": self_attested,\n",
    "    }\n",
    "    print(proof)\n",
    "    print(\"\\nXXX\")\n",
    "    print(\"\\npredicates:\\n{}\".format(predicates))\n",
    "    print(\"\\nrevealed:\\n{}\".format(revealed))\n",
    "    print(\"\\nself_attested:\\n{}\".format(self_attested))\n",
    "    \n",
    "else: \n",
    "    print(\"No presenation record identifier\")"
   ]
  },
  {
   "cell_type": "markdown",
   "metadata": {},
   "source": [
    "## 17. Send Presentation"
   ]
  },
  {
   "cell_type": "code",
   "execution_count": 18,
   "metadata": {},
   "outputs": [
    {
     "name": "stdout",
     "output_type": "stream",
     "text": [
      "{'trace': False, 'initiator': 'external', 'presentation_request': {'name': 'Proof of Personal Information', 'version': '1.0', 'requested_attributes': {'0_skill_uuid': {'name': 'skill', 'restrictions': [{'issuer_did': 'PQRXDxdGqQGSZ8z69p4xZP'}], 'non_revoked': {'to': 1607535945}}}, 'requested_predicates': {}, 'non_revoked': {'to': 1607535946}, 'nonce': '40299591669938516410815'}, 'presentation': {'proof': {'proofs': [{'primary_proof': {'eq_proof': {'revealed_attrs': {'skill': '19103812416116328689927865197653066156753396496702429306936491003610437194429'}, 'a_prime': '38194201194730698998754305428345332633432369413309882044942147962318691296861423114244413385962020131977709621933399207701131794850708960181701961796880241465568211526422475765356376371292622606126162731247972347530209197594690458094376612444398148698565707624697970866609371727041465313699796435326276991207790007239234627284007480897203857692430110188524813181911008760002886498579461268985113291964547789194919351923487867052049831341334914982941137836056464169344023572406720937806882812186474226250145299091847667319679127003456545858382001429821870811449510303285910692593282768327817989509154543229376638057601', 'e': '76216979096288355439439276742020347119693788908366294289992417356901820157931847970188400450660530346462040408935314927934793014103282575', 'v': '952232290028460454886449736813337669220204815680333244046897231601298910413930627449566841515265793094917341181711213510113225461106384131319011783808951494150637997361942697835796773443569528360439888405779373413895175547091120279638119542967141411458572952999218686534856998960808283898435644717590175612283884846968770534537463257160064217942501951803939446439590435072963561027477745918984823561083266075453671757267627732691113449588616601161529010603867235523760224142177144261173581985443659040349109336271614115767413543167623901802192926206684744501163389432560067531328846850946153635057524795155175131362496300692843884859117396074293524878514134959496765610313565477011345901545006178144215584341710280873492865168664412909423411431257161534123374726725510173128093487222643687064326092867847225685693223687703669231863717254018387800198664670642962129913399864984616935802158414124512935950285669116552431237', 'm': {'master_secret': '15440502202142851619477766761445881013843746763163659073070702578151118676585970330784223134676216031495712503597845468397149611189515656544761186468014441973550032593383415354295', 'name': '2152080424979663668819835996868319706824512975609652592487994548808406019137034705505456341050718711710402532227998323724174528632835278709089880017422929313116138851973595383186', 'age': '6579023482479639899013730551482978569524211538747163573405431847124772712796852658604848706736953414193763792056525512317824387487662391059579411741964674703384375575065090889181'}, 'm2': '9942432172851058263204209388359680152793276625284794259612288209035503121641049279957902794672727982345981919202259780066097469327844990135413955115717952'}, 'ge_proofs': []}, 'non_revoc_proof': {'x_list': {'rho': '12CDE34A767FAEB93EDF7CB8D60E5DD42093C1458548102BBD9938A0E3195EE7', 'r': '0F930191012AC2B9F24A09ABFB81580E84217F2FFF8DDBCC59A23044E3EA1921', 'r_prime': '170BB7F137051CD610BABC56BD86FD1EB9F9C83039D8F7E106CBB336B65A8A53', 'r_prime_prime': '01E95AB51A7B992F0EEE2E3CEADC88F7CB6088DB55CFDBE432C3CC4A8A600324', 'r_prime_prime_prime': '0C7D3CF2CEF53B3E9EA6DB797A8D324AEABB176CD7C04E67A550160EBAB3266D', 'o': '075787D22E0CE86E810BC22C62DABBBE44453FD45D8F6383A04A2FD87F413BF2', 'o_prime': '1B3588802CF7F702A25C1B4F23ECF123007790402CDD7ADEC730D1FF2D8B15BE', 'm': '21CFD54EB6FE0D3AB1164688D10A5C45C39CAED92848FEC571094AB1C87F4251', 'm_prime': '208F47E34BF4B789B9D93F4ACC4951CAC96889319AC99D8363910B0E765064B5', 't': '160D1A4461A6EA0FBE4FBC0424DC811242E714C2CE247EC0CC9F0E9C8374A2D3', 't_prime': '08F83074258098CAA873FB99A84B7ECDE56BB36F1428E560F61206000C3F62D2', 'm2': '205253B9FC8D5448094D988E9333D36209A84C447FFE38E997862A83428CDE9A', 's': '1D1980846F97EEEB5AFF9A8CF72BE60F28ACFAB5340D1BF468B6EFD628068013', 'c': '05EB3B0206187223C19928BA66A72210858A755A4EE5E1AB591605D98A7632DF'}, 'c_list': {'e': '6 5416D1C607B2CF1D50D52FD2DCC99DD5E97DB2F1421D421F39B6E7EF706D4406 4 098280B55FE328B40C4A874C8005F196CAAA5D52F2235BA44323B5B76D74F7C7 4 3B957AB16EC1593B3E28AE1AE3AEB35384183EE6F527764F420F4F4A633A1F40', 'd': '6 3B4469E8AB5B4D32DF5D13506CA7D91CD6A2B4E0C12AB980C1DDEB162B609DAF 4 32CFA776C9EC2823F88E37393178DBE849E4E0416FD79C4CB7BBCFFAE8B098FF 4 1DC9FC4CD2639B29BA21E5985866247DA713662FF9BE859C6DC58B4FD2F016A6', 'a': '6 4B1C6AE05E4353F1DAAAADA8B34F1174892373B2A8FA5F28A5AA8A100CDEAA91 4 3248DE74E1E75306B5C9B2287ABC1FAC68ECAD004FE5CF3B97CCEA6F6A68D757 4 24BD8833F7F286B594D1C6B1D6699A197F9D9A62E6E2C27BDF9C8523CEBAF069', 'g': '6 5858D876CD0521D351391D9EDA95F7A997FD0A483033CFB0E9B47F37DF6A975C 4 1835A3312E094DDECAEAA0BA69FAF82F09189B813BC52644D86B4123720EE050 4 16D22DAAC5FAFCDAD311858AA02A020065D3C09E9A3922927B14C9F4693F22DC', 'w': '21 124A9CF0E66797FFEF43DC535718BBFFA936FFDA1FF981D236604AC7D5F83BE7E 21 12FF442CFFB098797C59C56ED7933838082F0433C5DE52F498A1EEF7A80667727 6 908D367A5365015A262281104C5AE000092EBFED7CE5EE91C72D1FD6E377893C 4 1CD461FD617B9878CFFE3FBA4B5D293993802C61003E6E3EBCD1ABE3BEE4A4AB 6 717A91CF09F863A549A9D8322FFF518E5042F3DEBF12E45712A39190C4AEE935 4 13747843733E2D95EC3A1BDB3417FCE6FF3BCEDBBBF70436D9F47EBE3DBD268D', 's': '21 1441F70B05ACAD82C15CCA0E815188B80E26E11AE30C23597EDE2D5FD30A9B23E 21 10A7CDB314A2618B6589C8E3036434267C46FC426CDE7AF363F49B5309BF2AC23 6 818A3D4BB9255D1715893D40459C4198B603CC42BA0938087433E6BE104797BE 4 2AD6A6A0D354912BDC400B6CBDD9FF246B4FB45653524A38E2B2557F53386C65 6 6B170722E1E3FE70B64ABFE1CA2BB8966C81A24FA645336AADAB98260C9C0270 4 1E2967D69D668576A2DF148ACA9510E1DF34C6F33648B4D225CD0A5E105BBA93', 'u': '21 10E86D2724B921566D95570204E52DE4C88106BD30BD548F9C39B0526AFDF66CE 21 132C2AC594528FA0E5C4CE87A131BEA0D291C8DD3549C3844500C5E76FAB6397D 6 7CBEC0656F788E565D318F5F464B327C4C03800E0C468575EFF8402F5C4A5AC0 4 2060BA35218E834F97E929F584704DE153280CC02DA6E19A355D2BD0B47B5845 6 7AFE10738AEC72FC688C743A267DBADCF2C4EC44C502954542AD89F76C231504 4 423F7C2A9317EEEE88B26E4F105A8AE71012AB5FB90C5253AF02FB54ACB63CDF'}}}], 'aggregated_proof': {'c_hash': '104824560998109189001697004318749526211486966945893020381073852389838054176290', 'c_list': [[4, 20, 125, 86, 83, 63, 152, 105, 91, 240, 172, 73, 164, 72, 116, 163, 142, 51, 50, 224, 106, 64, 151, 188, 164, 96, 198, 172, 242, 180, 133, 88, 144, 12, 226, 251, 236, 150, 40, 90, 129, 191, 93, 78, 60, 131, 103, 20, 170, 248, 165, 105, 200, 74, 218, 112, 42, 170, 231, 67, 228, 183, 124, 217, 208, 0, 0, 0, 0, 0, 0, 0, 0, 0, 0, 0, 0, 0, 0, 0, 0, 0, 0, 0, 0, 0, 0, 0, 0, 0, 0, 0, 0, 0, 0, 0, 0, 0, 0, 0, 0, 0, 0, 0, 0, 0, 0, 0, 0, 0, 0, 0, 0, 0, 0, 0, 0, 0, 0, 0, 0, 0, 0, 0, 0, 0, 0, 0], [4, 26, 52, 62, 231, 161, 123, 3, 76, 199, 13, 208, 66, 88, 32, 222, 138, 5, 248, 154, 251, 26, 80, 82, 207, 38, 42, 75, 133, 182, 34, 93, 74, 3, 219, 15, 186, 163, 127, 215, 251, 78, 217, 207, 61, 23, 139, 154, 219, 43, 224, 191, 209, 64, 100, 119, 166, 199, 73, 193, 190, 211, 210, 23, 209, 0, 0, 0, 0, 0, 0, 0, 0, 0, 0, 0, 0, 0, 0, 0, 0, 0, 0, 0, 0, 0, 0, 0, 0, 0, 0, 0, 0, 0, 0, 0, 0, 0, 0, 0, 0, 0, 0, 0, 0, 0, 0, 0, 0, 0, 0, 0, 0, 0, 0, 0, 0, 0, 0, 0, 0, 0, 0, 0, 0, 0, 0, 0], [4, 9, 43, 143, 167, 238, 99, 36, 171, 96, 156, 195, 149, 126, 247, 79, 54, 121, 106, 168, 99, 78, 2, 96, 239, 119, 91, 53, 37, 96, 202, 193, 57, 14, 82, 20, 238, 232, 230, 171, 169, 160, 197, 200, 67, 192, 7, 108, 238, 184, 145, 215, 27, 223, 139, 64, 10, 31, 116, 116, 26, 187, 12, 24, 184, 0, 0, 0, 0, 0, 0, 0, 0, 0, 0, 0, 0, 0, 0, 0, 0, 0, 0, 0, 0, 0, 0, 0, 0, 0, 0, 0, 0, 0, 0, 0, 0, 0, 0, 0, 0, 0, 0, 0, 0, 0, 0, 0, 0, 0, 0, 0, 0, 0, 0, 0, 0, 0, 0, 0, 0, 0, 0, 0, 0, 0, 0, 0], [4, 13, 67, 235, 97, 72, 185, 173, 201, 158, 145, 118, 252, 134, 247, 148, 119, 231, 12, 161, 71, 160, 28, 36, 179, 59, 3, 90, 231, 4, 101, 99, 162, 23, 158, 7, 220, 105, 160, 113, 138, 142, 111, 38, 198, 133, 139, 134, 44, 209, 8, 169, 46, 97, 111, 164, 216, 236, 129, 243, 235, 209, 163, 106, 123, 0, 0, 0, 0, 0, 0, 0, 0, 0, 0, 0, 0, 0, 0, 0, 0, 0, 0, 0, 0, 0, 0, 0, 0, 0, 0, 0, 0, 0, 0, 0, 0, 0, 0, 0, 0, 0, 0, 0, 0, 0, 0, 0, 0, 0, 0, 0, 0, 0, 0, 0, 0, 0, 0, 0, 0, 0, 0, 0, 0, 0, 0, 0], [26, 195, 76, 132, 214, 244, 28, 181, 226, 192, 9, 30, 244, 181, 81, 143, 85, 213, 17, 96, 176, 147, 42, 223, 27, 240, 67, 18, 69, 126, 110, 161, 15, 180, 154, 71, 230, 27, 130, 12, 121, 164, 193, 46, 16, 58, 75, 54, 13, 231, 215, 59, 60, 232, 46, 252, 55, 101, 14, 219, 42, 71, 213, 77, 34, 105, 72, 110, 235, 33, 72, 97, 201, 92, 37, 42, 96, 180, 211, 151, 127, 11, 198, 223, 18, 141, 28, 222, 176, 195, 192, 175, 31, 61, 47, 86, 1, 71, 187, 118, 237, 33, 223, 45, 156, 107, 227, 207, 188, 176, 233, 248, 251, 100, 81, 75, 18, 200, 5, 85, 103, 62, 121, 215, 104, 178, 7, 60], [19, 188, 27, 73, 229, 121, 14, 59, 197, 111, 250, 221, 20, 143, 124, 234, 0, 153, 49, 230, 0, 234, 62, 176, 176, 92, 54, 207, 141, 198, 208, 253, 4, 232, 104, 5, 112, 155, 122, 155, 144, 46, 255, 91, 159, 41, 71, 8, 225, 173, 249, 20, 140, 47, 63, 85, 18, 4, 102, 84, 150, 111, 33, 131, 21, 245, 180, 239, 188, 40, 159, 40, 79, 61, 221, 177, 47, 183, 158, 44, 216, 16, 25, 171, 49, 12, 228, 162, 164, 202, 236, 241, 187, 155, 183, 237, 25, 164, 30, 67, 181, 110, 187, 222, 235, 129, 104, 100, 19, 62, 56, 83, 194, 203, 26, 38, 251, 35, 39, 191, 24, 108, 21, 25, 117, 203, 217, 63], [28, 239, 211, 214, 16, 193, 38, 219, 121, 24, 131, 129, 120, 218, 62, 244, 175, 171, 141, 4, 70, 80, 101, 147, 189, 144, 183, 135, 182, 112, 42, 130, 35, 203, 212, 197, 243, 85, 155, 47, 224, 163, 241, 244, 247, 132, 185, 3, 164, 49, 128, 92, 105, 16, 60, 92, 164, 62, 20, 6, 241, 86, 208, 32, 6, 131, 23, 247, 201, 235, 80, 21, 55, 178, 254, 4, 33, 206, 213, 245, 100, 209, 183, 8, 26, 66, 198, 16, 62, 121, 182, 22, 112, 70, 25, 67, 5, 30, 108, 0, 151, 157, 88, 194, 162, 142, 97, 207, 150, 201, 57, 95, 238, 224, 120, 30, 81, 241, 219, 134, 253, 168, 9, 80, 101, 203, 186, 204], [1, 46, 142, 109, 43, 36, 248, 201, 122, 132, 39, 240, 111, 39, 114, 149, 194, 195, 205, 32, 204, 129, 132, 186, 218, 70, 3, 31, 105, 142, 16, 137, 252, 66, 61, 250, 15, 81, 237, 240, 148, 57, 17, 89, 201, 140, 194, 77, 201, 78, 93, 164, 135, 167, 0, 201, 238, 51, 241, 245, 70, 55, 5, 204, 46, 78, 120, 156, 234, 83, 16, 106, 49, 132, 54, 109, 154, 178, 116, 53, 245, 163, 31, 140, 11, 132, 70, 129, 91, 74, 103, 161, 108, 169, 99, 21, 154, 208, 72, 201, 100, 192, 75, 212, 231, 151, 43, 114, 153, 107, 105, 34, 148, 82, 101, 20, 40, 62, 0, 155, 22, 65, 176, 119, 76, 89, 44, 237, 110, 118, 113, 17, 157, 173, 222, 152, 61, 155, 111, 240, 189, 250, 136, 12, 245, 130, 15, 46, 252, 134, 21, 30, 178, 181, 36, 52, 163, 42, 3, 1, 70, 116, 163, 119, 158, 179, 252, 15, 92, 40, 152, 169, 155, 172, 192, 50, 117, 201, 169, 254, 191, 231, 90, 37, 248, 152, 143, 231, 21, 56, 117, 94, 85, 244, 20, 20, 234, 72, 188, 199, 174, 0, 86, 201, 105, 18, 20, 50, 237, 125, 222, 141, 255, 167, 143, 162, 125, 153, 32, 155, 86, 225, 51, 156, 240, 211, 117, 179, 90, 69, 72, 184, 126, 73, 161, 174, 107, 45, 189, 169, 206, 141, 33, 243, 149, 0, 166, 68, 236, 116, 10, 249, 122, 229, 89, 124, 129]]}}, 'requested_proof': {'revealed_attrs': {'0_skill_uuid': {'sub_proof_index': 0, 'raw': 'revocation', 'encoded': '19103812416116328689927865197653066156753396496702429306936491003610437194429'}}, 'self_attested_attrs': {}, 'unrevealed_attrs': {}, 'predicates': {}}, 'identifiers': [{'schema_id': 'PQRXDxdGqQGSZ8z69p4xZP:2:test_revocable_schema:0.0.1', 'cred_def_id': 'PQRXDxdGqQGSZ8z69p4xZP:3:CL:10:default', 'rev_reg_id': 'PQRXDxdGqQGSZ8z69p4xZP:4:PQRXDxdGqQGSZ8z69p4xZP:3:CL:10:default:CL_ACCUM:60dd0fff-44f9-4971-802a-bf5114cc379b', 'timestamp': 1607535893}]}, 'created_at': '2020-12-09 17:45:46.996944Z', 'updated_at': '2020-12-09 17:50:10.174768Z', 'presentation_exchange_id': '2c094bd6-5750-4b43-a44b-7a8937955730', 'role': 'prover', 'thread_id': 'e16c2be3-7ae1-4df6-b25c-bbcbce108396', 'state': 'presentation_sent', 'connection_id': '1fc6c444-9a27-4776-88ca-faa5bbdd3200'}\n"
     ]
    },
    {
     "name": "stdout",
     "output_type": "stream",
     "text": [
      "Handle present proof\n",
      "Role prover, Exchange 2c094bd6-5750-4b43-a44b-7a8937955730 in state presentation_sent\n",
      "Handle present proof\n",
      "Role prover, Exchange 2c094bd6-5750-4b43-a44b-7a8937955730 in state presentation_acked\n"
     ]
    }
   ],
   "source": [
    "response = await agent_controller.proofs.send_presentation(pres_ex_id, proof)\n",
    "print(response)"
   ]
  },
  {
   "cell_type": "code",
   "execution_count": null,
   "metadata": {},
   "outputs": [],
   "source": []
  }
 ],
 "metadata": {
  "kernelspec": {
   "display_name": "Python 3",
   "language": "python",
   "name": "python3"
  },
  "language_info": {
   "codemirror_mode": {
    "name": "ipython",
    "version": 3
   },
   "file_extension": ".py",
   "mimetype": "text/x-python",
   "name": "python",
   "nbconvert_exporter": "python",
   "pygments_lexer": "ipython3",
   "version": "3.7.6"
  }
 },
 "nbformat": 4,
 "nbformat_minor": 4
}
