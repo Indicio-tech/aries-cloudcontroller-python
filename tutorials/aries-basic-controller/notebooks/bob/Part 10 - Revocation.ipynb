{
 "cells": [
  {
   "cell_type": "markdown",
   "metadata": {},
   "source": [
    "# Revocation - Bob\n",
    "\n",
    "## Role: Credential Holder\n",
    "\n",
    "There will be two parts to this notebook:\n",
    "\n",
    "- Part 1: Alice issues a revocable credential to [Bob](http://127.0.0.1:8889/notebooks/Part%2010%20-%20Revocation.ipynb). Bob will store this credential and present proof of it back to Alice while it is not revoked, and Alice will verify the presentation.\n",
    "- Part 2: Alice then revokes the credential issued to Bob in Part 1 and requests another proof from Bob. This second presentation from Bob will fail to verify.\n",
    "\n",
    "For details on how revocation works on Hyperledger Indy, you can read more [here](https://github.com/hyperledger/indy-hipe/tree/master/text/0011-cred-revocation)."
   ]
  },
  {
   "cell_type": "markdown",
   "metadata": {},
   "source": [
    "# Part 1 - Issuing & Proving Non-Revoked Credential\n",
    "\n",
    "## Complete steps 1-6 in [Alice's revocation notebook](http://127.0.0.1:8888/notebooks/Part%2010%20-%20Revocation.ipynb)"
   ]
  },
  {
   "cell_type": "markdown",
   "metadata": {},
   "source": [
    "## 7. Initialise Bob's controller"
   ]
  },
  {
   "cell_type": "code",
   "execution_count": 1,
   "metadata": {},
   "outputs": [
    {
     "name": "stdout",
     "output_type": "stream",
     "text": [
      "IPython autoawait is `on`, and set to use `asyncio`\n"
     ]
    }
   ],
   "source": [
    "%autoawait\n",
    "import time\n",
    "import asyncio\n",
    "\n",
    "from aries_basic_controller.aries_controller import AriesAgentController\n",
    "    \n",
    "WEBHOOK_HOST = \"0.0.0.0\"\n",
    "WEBHOOK_PORT = 8052\n",
    "WEBHOOK_BASE = \"\"\n",
    "ADMIN_URL = \"http://bob-agent:8051\"\n",
    "\n",
    "agent_controller = AriesAgentController(webhook_host=WEBHOOK_HOST, webhook_port=WEBHOOK_PORT,\n",
    "                                       webhook_base=WEBHOOK_BASE, admin_url=ADMIN_URL, connections=True)"
   ]
  },
  {
   "cell_type": "markdown",
   "metadata": {},
   "source": [
    "## 8. Register listeners\n",
    "\n",
    "The handler should get called every time the controller receives a webhook with the topic `issue_credential` and `present_proof`, printing out the payload. The agent calls to this webhook every time it receives protocol messages for these topics from a credential."
   ]
  },
  {
   "cell_type": "code",
   "execution_count": 2,
   "metadata": {},
   "outputs": [
    {
     "data": {
      "text/plain": [
       "<Task pending coro=<AriesAgentController.listen_webhooks() running at /aries_basic_controller/aries_controller.py:99>>"
      ]
     },
     "execution_count": 2,
     "metadata": {},
     "output_type": "execute_result"
    }
   ],
   "source": [
    "loop = asyncio.get_event_loop()\n",
    "loop.create_task(agent_controller.listen_webhooks())"
   ]
  },
  {
   "cell_type": "code",
   "execution_count": 3,
   "metadata": {},
   "outputs": [],
   "source": [
    "def cred_handler(payload):\n",
    "    print(\"Handle Credentials\")\n",
    "    global connection_id\n",
    "    connection_id = payload['connection_id']\n",
    "    exchange_id = payload['credential_exchange_id']\n",
    "    state = payload['state']\n",
    "    role = payload['role']\n",
    "    attributes = payload['credential_proposal_dict']['credential_proposal']['attributes']\n",
    "    print(f\"Credential exchange {exchange_id}, role: {role}, state: {state}\")\n",
    "    print(f\"Offering: {attributes}\")\n",
    "    \n",
    "cred_listener = {\n",
    "    \"topic\": \"issue_credential\",\n",
    "    \"handler\": cred_handler\n",
    "}\n",
    "\n",
    "def proof_handler(payload):\n",
    "    print(\"Handle present proof\")\n",
    "    role = payload[\"role\"]\n",
    "    global pres_ex_id\n",
    "    pres_ex_id = payload[\"presentation_exchange_id\"]\n",
    "    state = payload[\"state\"]\n",
    "    print(f\"Role {role}, Exchange {pres_ex_id} in state {state}\")\n",
    "\n",
    "proof_listener = {\n",
    "    \"topic\": \"present_proof\",\n",
    "    \"handler\": proof_handler\n",
    "}\n",
    "\n",
    "agent_controller.register_listeners([cred_listener, proof_listener], defaults=True)"
   ]
  },
  {
   "cell_type": "markdown",
   "metadata": {},
   "source": [
    "## 9. Continue to [Alice's Notebook](http://127.0.0.1:8888/notebooks/Part%2010%20-%20Revocation.ipynb)\n",
    "\n",
    "Alice will issue Bob a revocable credential."
   ]
  },
  {
   "cell_type": "markdown",
   "metadata": {},
   "source": [
    "## 10. Check your credential records\n",
    "\n",
    "You should have one recording the credential offer from Alice. This should also have shown up as as a print statement from the handler function."
   ]
  },
  {
   "cell_type": "code",
   "execution_count": 7,
   "metadata": {},
   "outputs": [
    {
     "name": "stdout",
     "output_type": "stream",
     "text": [
      "1\n",
      "Credential exchange 43351187-50b6-468f-a3d1-e6d5ce8a6cc2, role: holder, state: offer_received\n",
      "Being offered: [{'name': 'name', 'value': 'Bob'}, {'name': 'skill', 'value': 'researcher'}, {'name': 'age', 'value': '21'}]\n"
     ]
    }
   ],
   "source": [
    "response = await agent_controller.issuer.get_records()\n",
    "results = response[\"results\"]\n",
    "print(len(results))\n",
    "if len(results) == 0:\n",
    "    print(\"You need to first send a credential from the issuer notebook (Alice)\")\n",
    "else:\n",
    "    cred_record = results[0]\n",
    "    cred_ex_id = cred_record['credential_exchange_id']\n",
    "    state = cred_record['state']\n",
    "    role = cred_record['role']\n",
    "    attributes = results[0]['credential_proposal_dict']['credential_proposal']['attributes']\n",
    "    print(f\"Credential exchange {cred_ex_id}, role: {role}, state: {state}\")\n",
    "    print(f\"Being offered: {attributes}\")"
   ]
  },
  {
   "cell_type": "markdown",
   "metadata": {},
   "source": [
    "## 11. Request credential from Alice\n",
    "\n",
    "If happy with the attributes being offered in the credential, then the holder requests the credential from the issuer to proceed with the issuance.\n",
    "\n",
    "It is only possible to request a credential from an exchange when it is in the `offer_received` state."
   ]
  },
  {
   "cell_type": "code",
   "execution_count": 8,
   "metadata": {},
   "outputs": [
    {
     "name": "stdout",
     "output_type": "stream",
     "text": [
      "Handle Credentials\n",
      "Credential exchange 43351187-50b6-468f-a3d1-e6d5ce8a6cc2, role: holder, state: request_sent\n",
      "Offering: [{'name': 'name', 'value': 'Bob'}, {'name': 'skill', 'value': 'researcher'}, {'name': 'age', 'value': '21'}]\n",
      "Credential exchange 43351187-50b6-468f-a3d1-e6d5ce8a6cc2, role: holder, state: request_sent\n",
      "Handle Credentials\n",
      "Credential exchange 43351187-50b6-468f-a3d1-e6d5ce8a6cc2, role: holder, state: credential_received\n",
      "Offering: [{'name': 'name', 'value': 'Bob'}, {'name': 'skill', 'value': 'researcher'}, {'name': 'age', 'value': '21'}]\n"
     ]
    }
   ],
   "source": [
    "record = await agent_controller.issuer.send_request_for_record(cred_ex_id)\n",
    "state = record['state']\n",
    "role = record['role']\n",
    "print(f\"Credential exchange {cred_ex_id}, role: {role}, state: {state}\")"
   ]
  },
  {
   "cell_type": "markdown",
   "metadata": {},
   "source": [
    "## 12. Store the redential\n",
    "\n",
    "Once the issuer has responded to a request by sending the credential, the holder needs to store it to save the credential for later.\n",
    "\n",
    "First check that the credential record is in the `credential_received` state."
   ]
  },
  {
   "cell_type": "code",
   "execution_count": 9,
   "metadata": {},
   "outputs": [],
   "source": [
    "# This can be anything you want. You will use it later to fetch this credential from the agent storage.\n",
    "credential_id = \"My Revocable Credential\""
   ]
  },
  {
   "cell_type": "code",
   "execution_count": 10,
   "metadata": {},
   "outputs": [
    {
     "name": "stdout",
     "output_type": "stream",
     "text": [
      "Handle Credentials\n",
      "Credential exchange 43351187-50b6-468f-a3d1-e6d5ce8a6cc2, role: holder, state: credential_acked\n",
      "Offering: [{'name': 'name', 'value': 'Bob'}, {'name': 'skill', 'value': 'researcher'}, {'name': 'age', 'value': '21'}]\n",
      "Credential exchange 43351187-50b6-468f-a3d1-e6d5ce8a6cc2, role: holder, state: credential_acked\n"
     ]
    }
   ],
   "source": [
    "response = await agent_controller.issuer.store_credential(cred_ex_id, credential_id)\n",
    "state = response['state']\n",
    "role = response['role']\n",
    "print(f\"Credential exchange {cred_ex_id}, role: {role}, state: {state}\")"
   ]
  },
  {
   "cell_type": "markdown",
   "metadata": {},
   "source": [
    "## 13. Check revocation status of the credential\n",
    "\n",
    "It should not be revoked."
   ]
  },
  {
   "cell_type": "code",
   "execution_count": 11,
   "metadata": {},
   "outputs": [
    {
     "data": {
      "text/plain": [
       "{'revoked': False}"
      ]
     },
     "execution_count": 11,
     "metadata": {},
     "output_type": "execute_result"
    },
    {
     "name": "stdout",
     "output_type": "stream",
     "text": [
      "Handle present proof\n",
      "Role prover, Exchange 70cb7f2c-1f13-40da-b7db-98af060475fb in state request_received\n"
     ]
    }
   ],
   "source": [
    "response = await agent_controller.credentials.is_revoked(credential_id)\n",
    "response"
   ]
  },
  {
   "cell_type": "markdown",
   "metadata": {},
   "source": [
    "## 14. Continue in [Alice's Notebook](http://127.0.0.1:8888/notebooks/Part%2010%20-%20Revocation.ipynb)\n",
    "\n",
    "Send a presentation request for a non revoked credential proof.\n"
   ]
  },
  {
   "cell_type": "markdown",
   "metadata": {},
   "source": [
    "## 15. Fetch redentials for presentation\n",
    "\n",
    "Note `pres_ex_id` is set in the proofs handler.\n",
    "\n",
    "TODO: make these steps clearer."
   ]
  },
  {
   "cell_type": "code",
   "execution_count": 12,
   "metadata": {},
   "outputs": [
    {
     "data": {
      "text/plain": [
       "{'name': 'Proof of Personal Information',\n",
       " 'version': '1.0',\n",
       " 'requested_attributes': {'0_skill_uuid': {'name': 'skill',\n",
       "   'restrictions': [{'issuer_did': 'PQRXDxdGqQGSZ8z69p4xZP'}],\n",
       "   'non_revoked': {'to': 1613574656}}},\n",
       " 'requested_predicates': {},\n",
       " 'non_revoked': {'to': 1613574657},\n",
       " 'nonce': '462511616678832761243428'}"
      ]
     },
     "execution_count": 12,
     "metadata": {},
     "output_type": "execute_result"
    }
   ],
   "source": [
    "pres_ex_id\n",
    "response = await agent_controller.proofs.get_record_by_id(pres_ex_id)\n",
    "presentation_request = response['presentation_request']\n",
    "presentation_request"
   ]
  },
  {
   "cell_type": "code",
   "execution_count": 13,
   "metadata": {},
   "outputs": [
    {
     "name": "stdout",
     "output_type": "stream",
     "text": [
      "[{'cred_info': {'referent': 'My Revocable Credential', 'attrs': {'name': 'Bob', 'age': '21', 'skill': 'researcher'}, 'schema_id': 'PQRXDxdGqQGSZ8z69p4xZP:2:test_revocable_schema1:0.0.1', 'cred_def_id': 'PQRXDxdGqQGSZ8z69p4xZP:3:CL:20:default', 'rev_reg_id': 'PQRXDxdGqQGSZ8z69p4xZP:4:PQRXDxdGqQGSZ8z69p4xZP:3:CL:20:default:CL_ACCUM:4ddffe20-a587-4b16-b709-eef50566526c', 'cred_rev_id': '1'}, 'interval': {'from': None, 'to': 1613574656}, 'presentation_referents': ['0_skill_uuid']}]\n",
      "\n",
      "Generate the proof\n",
      "{'requested_predicates': {}, 'requested_attributes': {'0_skill_uuid': {'cred_id': 'My Revocable Credential', 'revealed': True}}, 'self_attested_attributes': {}}\n",
      "\n",
      "XXX\n",
      "\n",
      "predicates:\n",
      "{}\n",
      "\n",
      "revealed:\n",
      "{'0_skill_uuid': {'cred_id': 'My Revocable Credential', 'revealed': True}}\n",
      "\n",
      "self_attested:\n",
      "{}\n"
     ]
    }
   ],
   "source": [
    "if state == \"request_received\":\n",
    "    print(\n",
    "    \"Received Request -> Query for credentials in the wallet that satisfy the proof request\")\n",
    "    \n",
    "if presentation_request != None:\n",
    "    # include self-attested attributes (not included in credentials)\n",
    "    credentials_by_reft = {}\n",
    "    revealed = {}\n",
    "    self_attested = {}\n",
    "    predicates = {}\n",
    "\n",
    "    # select credentials to provide for the proof\n",
    "    credentials = await agent_controller.proofs.get_presentation_credentials(pres_ex_id)\n",
    "    print(credentials)\n",
    "\n",
    "    if credentials:\n",
    "        for row in sorted(\n",
    "            credentials,\n",
    "            key=lambda c: dict(c[\"cred_info\"][\"attrs\"]),\n",
    "            reverse=True,\n",
    "        ):\n",
    "            for referent in row[\"presentation_referents\"]:\n",
    "                if referent not in credentials_by_reft:\n",
    "                    credentials_by_reft[referent] = row\n",
    "\n",
    "    for referent in presentation_request[\"requested_attributes\"]:\n",
    "        if referent in credentials_by_reft:\n",
    "            revealed[referent] = {\n",
    "                \"cred_id\": credentials_by_reft[referent][\"cred_info\"][\n",
    "                    \"referent\"\n",
    "                ],\n",
    "                \"revealed\": True,\n",
    "            }\n",
    "\n",
    "        else:\n",
    "            self_attested[referent] = \"South Africa\"\n",
    "\n",
    "    for referent in presentation_request[\"requested_predicates\"]:\n",
    "        if referent in credentials_by_reft:\n",
    "            predicates[referent] = {\n",
    "                \"cred_id\": credentials_by_reft[referent][\"cred_info\"][\n",
    "                    \"referent\"\n",
    "                ]\n",
    "            }\n",
    "\n",
    "    print(\"\\nGenerate the proof\")\n",
    "    proof = {\n",
    "        \"requested_predicates\": predicates,\n",
    "        \"requested_attributes\": revealed,\n",
    "        \"self_attested_attributes\": self_attested,\n",
    "    }\n",
    "    print(proof)\n",
    "    print(\"\\nXXX\")\n",
    "    print(\"\\npredicates:\\n{}\".format(predicates))\n",
    "    print(\"\\nrevealed:\\n{}\".format(revealed))\n",
    "    print(\"\\nself_attested:\\n{}\".format(self_attested))\n",
    "    \n",
    "else: \n",
    "    print(\"No presenation record identifier\")"
   ]
  },
  {
   "cell_type": "markdown",
   "metadata": {},
   "source": [
    "## 16. Send presentation\n",
    "\n",
    "Bob sends the proof presentation to Alice for verification."
   ]
  },
  {
   "cell_type": "code",
   "execution_count": 14,
   "metadata": {},
   "outputs": [
    {
     "name": "stdout",
     "output_type": "stream",
     "text": [
      "Handle present proof\n",
      "Role prover, Exchange 70cb7f2c-1f13-40da-b7db-98af060475fb in state presentation_sent\n",
      "{'created_at': '2021-02-17 15:10:57.515849Z', 'state': 'presentation_sent', 'role': 'prover', 'presentation_request': {'name': 'Proof of Personal Information', 'version': '1.0', 'requested_attributes': {'0_skill_uuid': {'name': 'skill', 'restrictions': [{'issuer_did': 'PQRXDxdGqQGSZ8z69p4xZP'}], 'non_revoked': {'to': 1613574656}}}, 'requested_predicates': {}, 'non_revoked': {'to': 1613574657}, 'nonce': '462511616678832761243428'}, 'updated_at': '2021-02-17 15:11:07.534339Z', 'thread_id': '0e0959f8-8fe0-41d4-a18a-18c860e3dc45', 'initiator': 'external', 'connection_id': '4e5bc337-5f97-437c-a829-252fea9dbf65', 'trace': False, 'presentation_exchange_id': '70cb7f2c-1f13-40da-b7db-98af060475fb', 'presentation': {'proof': {'proofs': [{'primary_proof': {'eq_proof': {'revealed_attrs': {'skill': '24214165878429772374367858032287880675266648921286067519661391650938186682695'}, 'a_prime': '55589670136519748211634867668374217157818348787129212804827319741962526010443341191638399049821680568548801301015006782257730529061322617738818662602483779533038323421101216836247821440666490403974444968214496684394882126966217684808718295777438613739895673744013980646875735093002789540221464124868229177902247734757710822019177439808251004259658703413908603380403082344601847822591931052517057443167067217187065715179857107527908082524380682173062902158480017021771619583275209218978311868786461638112982981561968410140378857594263933368588838001009341055950868053620785248529510937514111473290094410011047803467444', 'e': '109281467504023325262470242470051041490728952991252060311605516279140508361302321841630368163046976994485442120828412357910528463179756763', 'v': '966213055304750661405074447635381501231743837919306720927337395710802002912682766968369833345719627671729957272267621541118607414463738216975520256276383898432010298057895500197582018288365094364254764437066513066924830462734566533545088886571928521821021067703020316425157985433801970869845361099405897462493783405436048587765496679569893524118658736242648300381996593093134388419860351389974123381946705907997796441096817187408259962002082336671255082641934719739229052025046357767797796784585603435094173741330334367636392262174197283770945766082895519886814516935989927183425835069313593832137998766040577755540457948760185190153740686148891119182658939673649924096398930065143815792638872937743739927478373437988148544067903388781182112371246740651334621024342692237394085052619303396620339232475932016970796627585440764029824705990014401674101401223013587042405121454740115823491665835165309758948601697222656000079', 'm': {'master_secret': '1223589615110764263017011801115036699941660629023962906716587242354809226621305583583080370371604293567863833027110515105578199977427468017680847584199682076505420802400965481093', 'age': '9626022830315551850921764137333228649851262361082400022506448631429823539438819251669268677226849810070115246111029136165867339555964313058857891188791489157195711564205705345401', 'name': '2481627511015557792468849839219043770162944414564755471107553302686473305611153009747177261878120343109619134533927413005833925169063511695597545898493737066577481469532062556514'}, 'm2': '984895092789354408367321113521566391171970575247422864821534047664648319501341659672027888817794686061236718408582332187759580055573450464178651032310670'}, 'ge_proofs': []}, 'non_revoc_proof': {'x_list': {'rho': '1475BDA5290C737DF8E20BE1693569B2C83841F13041110DB48806C96757A851', 'r': '08E74D673ED3C1887700C0691DAE34D2AD5BF95F5A6E10668260B41CC8CD89A9', 'r_prime': '13E7D454706655129EC1E392D2784B0F16BF30433B35742F425E762D5BC6150E', 'r_prime_prime': '1E422619ADF69ABF671367F2BB3754BD151266F8881E1FC95AA7B1606693E0C1', 'r_prime_prime_prime': '245FD9562428F330523A0385180DD5C027FB191F5F4BB58802F419456E17BC00', 'o': '08F19606B5BF543B83DF792A73180E15FF20036DA7B4955947BF73E042049264', 'o_prime': '2314983F9176F3A6252328AA84CC80BA2D46854A3110636C791DB243576722E5', 'm': '21A45A851FDD109A5E4F2B0D806A1EF55FA56B2E60A9E27E798A33A7927733CE', 'm_prime': '018AF7CE9294B1ACBF8F2186A1588DBDC682BDCFA0A2A2C56A9DF1BC184EFE70', 't': '0595AAB8C5CA6D82B168BEE2CF13B6ED202E679A48B93A6A1A80BE3485F15A92', 't_prime': '13498DD63BFD6A64ED35570FAAD6021E828539EFAE20234CA9FEB99E02C246C2', 'm2': '01958C19D32363EC08FE7E07D788A3AC123AA4F5F53EB4CF504B2CAE64B70487', 's': '200019925FEDE8116D264859997647D4E81693065CA9D4B2B964B8C1930DBE92', 'c': '0841EAA49A54846984D07E5B3579798F185F68B055A9A32A5154460E3BEA0B60'}, 'c_list': {'e': '6 4F59644309186780495F2F2E6BFAF3861F70D112ACE8B890AB2660B4497486E7 4 1D921F66115F94F2A575D9BD22D9E0F80A726185B92F7A3F8BE4E62F6CCDFDCA 4 2E9761EAC47479501A0BACF32CA166F1AA8C3FAC96FFA4B2EE42D8231AA19B48', 'd': '6 451B3ADCFACDDB6C3B3660E67E0A55148EEC8D38102A0441D4A832217AB950FD 4 179AA2B34A9B5D471F81F28CA482CA1449DCABE184CED6A1CFBABFE5DA9FEB62 4 18EDEB69A4246544B149EDC3C78956CEDD4F3F7ED3A95E7DC95A94804C34281E', 'a': '6 47AD9DD65817F9FF7CE746C89E239318A6D56B5E2BF23FCA8760E4C248CFE160 4 0B260AE3B399D0F688A8DBE6BA1AA0A4B7C28E2621901F558F42464B75478C78 4 30BFD0535C88FB931518FB38945492CFE5C2FA005B5E819AA67454E1E9297D18', 'g': '6 56DAF3B02767166756E61C9A6BFA18526E348532861A94F464D16EEFD98F4BA7 4 2E00F67CD347D55900B3ABEBAABC1A9CC57004D678CE3862179CDA9C0A27AE67 4 2B63DBCD3552652E82DA2F06F568686CB5941298AB03EE7B100A6594E8E9FFF8', 'w': '21 1305A1650017282405BBBF45149F1FE51E4B299C8E6FF186ED348AEE7F844BEB4 21 124173F9E0986779F495C3043832B9A5D71ED65EE087897D50197DF60B9C6B246 6 7257CABA55CC2A4C54DB8D16CBA7A2C1C3956CE9FB64B04943253011B276DB59 4 0A0EE4231283A7A2A7684A17911A677D33582E65C07BDEB16AA6E55BDEFC974E 6 7E04CF73C5DF627321199FDE64FAEE4172275E088F11AA95983A2833F0FE8F34 4 48FA4666062BFA79980AC7ECB488429B5C3B2E93D3E42BB6BAFE9C698C6984DD', 's': '21 11B0440AC3174B03FB530F2D0B3E4865B7B00C41B8CD015705B20233B7F14205E 21 110CECF572C385FA58D76AB6A1FA88CCAFD210B1F03588C2F1FAC2EF358E0B5A6 6 5E71532D01559B2553B0876121AF1D5C6CD6F724F125D74CBDE1F575F3F4DE87 4 3013B518E300C6DF00979B5565FA19291DACFF1649CB0CF39F201138FCF302B4 6 85C9BBEF23EECCDFE5D7BA1351BF5B4A8035BD1D579993442D32B187ADCC2D71 4 349A6358BB2E317950D80A7A8C2549DE5042DE9D64131FAA197AA153651ECABF', 'u': '21 1348221F43FECE23E67F073D7D8EC260D3D7B189F844116CF3EE66019CD251558 21 1272E19789D7C6A26B025208FC48478451604FA4E129C6FCCBF4C1DC8421F58C3 6 575646BE0979862D64FF1F634E0FE75F0F03543A55120618D968ECF58C122ABA 4 1E12C260CF6DFACBE46C8CE64D243FF6C9AB832FFD5EF32A1EF6120EF70900B2 6 69F148C3CBD9AED7F9516747C67EA13B2BCBE3FDCE97CE9067E5765246A813C4 4 39F9433EE028895B8EC6366A8269B1DC5D63497CD64EBB5C6E50A3B1D7A2BFA4'}}}], 'aggregated_proof': {'c_hash': '30785389713127798173733394265139096959942777851090611704725131568195184073999', 'c_list': [[4, 2, 105, 117, 195, 170, 248, 79, 164, 16, 238, 67, 47, 62, 0, 10, 5, 246, 172, 66, 1, 68, 189, 196, 92, 9, 47, 72, 204, 58, 187, 3, 9, 5, 203, 126, 12, 9, 171, 137, 103, 223, 216, 239, 67, 160, 223, 2, 254, 44, 50, 227, 84, 79, 35, 150, 170, 244, 72, 218, 219, 191, 148, 201, 225, 0, 0, 0, 0, 0, 0, 0, 0, 0, 0, 0, 0, 0, 0, 0, 0, 0, 0, 0, 0, 0, 0, 0, 0, 0, 0, 0, 0, 0, 0, 0, 0, 0, 0, 0, 0, 0, 0, 0, 0, 0, 0, 0, 0, 0, 0, 0, 0, 0, 0, 0, 0, 0, 0, 0, 0, 0, 0, 0, 0, 0, 0, 0], [4, 7, 204, 48, 169, 183, 114, 76, 49, 128, 219, 131, 24, 73, 199, 96, 232, 192, 230, 31, 65, 87, 229, 150, 191, 6, 201, 104, 23, 169, 244, 233, 111, 33, 132, 228, 23, 26, 17, 91, 91, 72, 112, 115, 189, 254, 107, 33, 140, 217, 11, 77, 180, 180, 133, 220, 169, 225, 47, 121, 189, 157, 25, 152, 177, 0, 0, 0, 0, 0, 0, 0, 0, 0, 0, 0, 0, 0, 0, 0, 0, 0, 0, 0, 0, 0, 0, 0, 0, 0, 0, 0, 0, 0, 0, 0, 0, 0, 0, 0, 0, 0, 0, 0, 0, 0, 0, 0, 0, 0, 0, 0, 0, 0, 0, 0, 0, 0, 0, 0, 0, 0, 0, 0, 0, 0, 0, 0], [4, 37, 13, 97, 44, 77, 56, 75, 156, 223, 34, 62, 123, 146, 34, 101, 59, 203, 62, 92, 15, 160, 210, 44, 173, 180, 119, 95, 242, 224, 45, 222, 205, 8, 236, 48, 82, 37, 233, 52, 140, 0, 64, 227, 45, 45, 6, 31, 209, 90, 39, 118, 91, 138, 57, 52, 66, 152, 7, 121, 208, 148, 196, 215, 43, 0, 0, 0, 0, 0, 0, 0, 0, 0, 0, 0, 0, 0, 0, 0, 0, 0, 0, 0, 0, 0, 0, 0, 0, 0, 0, 0, 0, 0, 0, 0, 0, 0, 0, 0, 0, 0, 0, 0, 0, 0, 0, 0, 0, 0, 0, 0, 0, 0, 0, 0, 0, 0, 0, 0, 0, 0, 0, 0, 0, 0, 0, 0], [4, 10, 140, 51, 117, 135, 227, 115, 238, 0, 123, 172, 49, 167, 130, 17, 7, 33, 74, 239, 198, 204, 23, 156, 97, 74, 204, 145, 15, 188, 170, 101, 129, 26, 63, 20, 132, 44, 56, 190, 77, 84, 153, 8, 71, 126, 52, 61, 92, 133, 5, 174, 255, 222, 196, 198, 85, 104, 119, 31, 96, 28, 42, 32, 248, 0, 0, 0, 0, 0, 0, 0, 0, 0, 0, 0, 0, 0, 0, 0, 0, 0, 0, 0, 0, 0, 0, 0, 0, 0, 0, 0, 0, 0, 0, 0, 0, 0, 0, 0, 0, 0, 0, 0, 0, 0, 0, 0, 0, 0, 0, 0, 0, 0, 0, 0, 0, 0, 0, 0, 0, 0, 0, 0, 0, 0, 0, 0], [23, 53, 157, 215, 165, 233, 30, 10, 223, 18, 138, 14, 250, 42, 149, 108, 114, 242, 236, 7, 165, 77, 3, 100, 193, 135, 226, 184, 138, 97, 67, 163, 31, 112, 42, 30, 54, 43, 168, 231, 64, 147, 138, 108, 37, 190, 248, 69, 58, 212, 39, 245, 134, 159, 41, 18, 5, 114, 153, 40, 147, 171, 169, 113, 33, 15, 245, 172, 9, 159, 229, 62, 201, 6, 248, 82, 85, 114, 203, 126, 100, 242, 146, 165, 60, 39, 165, 110, 18, 31, 169, 139, 160, 92, 7, 56, 33, 111, 129, 144, 118, 56, 104, 189, 77, 195, 240, 175, 81, 238, 18, 125, 172, 120, 221, 202, 248, 101, 143, 181, 53, 182, 148, 83, 75, 75, 235, 142], [23, 90, 4, 17, 220, 227, 138, 82, 184, 150, 154, 194, 137, 74, 249, 24, 164, 50, 185, 156, 118, 162, 33, 84, 38, 18, 65, 222, 233, 7, 249, 53, 20, 57, 134, 20, 84, 216, 197, 223, 117, 244, 82, 157, 237, 219, 26, 247, 24, 44, 105, 82, 232, 175, 141, 214, 110, 128, 42, 0, 80, 68, 47, 247, 24, 68, 167, 126, 218, 19, 128, 235, 3, 132, 58, 138, 35, 214, 84, 228, 50, 221, 104, 234, 195, 168, 93, 141, 109, 163, 105, 130, 173, 10, 62, 202, 30, 147, 240, 211, 250, 33, 55, 116, 38, 26, 28, 135, 236, 97, 37, 72, 242, 121, 150, 11, 118, 31, 246, 172, 136, 25, 199, 3, 58, 78, 0, 12], [18, 175, 162, 31, 36, 139, 171, 110, 34, 71, 216, 112, 8, 157, 138, 121, 127, 121, 199, 178, 246, 16, 55, 67, 149, 31, 161, 31, 216, 44, 220, 135, 17, 181, 34, 0, 150, 88, 130, 14, 125, 25, 173, 54, 93, 142, 62, 136, 43, 75, 142, 93, 6, 91, 207, 69, 59, 152, 73, 242, 197, 31, 156, 58, 22, 36, 230, 143, 240, 137, 227, 190, 34, 219, 174, 159, 252, 131, 210, 140, 152, 248, 137, 169, 128, 155, 235, 240, 12, 23, 248, 124, 16, 236, 22, 110, 24, 42, 132, 177, 3, 63, 103, 156, 174, 15, 66, 159, 133, 63, 32, 154, 217, 18, 4, 207, 157, 148, 84, 65, 194, 104, 78, 101, 67, 8, 167, 239], [1, 184, 90, 225, 251, 133, 72, 196, 50, 118, 22, 28, 40, 181, 240, 206, 97, 231, 39, 250, 247, 174, 61, 37, 70, 64, 139, 25, 163, 35, 204, 200, 87, 108, 27, 172, 133, 187, 43, 10, 115, 10, 199, 56, 57, 231, 216, 28, 144, 132, 147, 66, 161, 91, 14, 212, 62, 199, 252, 160, 122, 196, 211, 233, 70, 135, 206, 136, 112, 182, 60, 176, 60, 113, 73, 152, 219, 54, 144, 68, 132, 67, 148, 182, 161, 108, 16, 112, 29, 42, 163, 205, 146, 99, 225, 0, 227, 177, 217, 210, 33, 252, 130, 13, 59, 250, 112, 63, 95, 42, 95, 172, 74, 164, 211, 26, 132, 33, 225, 30, 242, 106, 38, 225, 94, 8, 147, 149, 147, 27, 224, 1, 52, 27, 44, 231, 214, 118, 133, 198, 149, 13, 208, 200, 92, 120, 202, 203, 216, 13, 228, 200, 82, 21, 48, 157, 58, 252, 2, 192, 70, 217, 36, 133, 197, 44, 62, 101, 62, 3, 24, 44, 21, 82, 58, 140, 206, 199, 250, 95, 251, 131, 124, 43, 75, 247, 114, 213, 245, 197, 236, 219, 123, 199, 4, 250, 191, 41, 30, 246, 64, 27, 247, 149, 132, 82, 154, 125, 14, 14, 179, 155, 191, 245, 153, 235, 227, 73, 66, 127, 21, 93, 221, 229, 67, 241, 11, 100, 155, 244, 129, 108, 13, 158, 207, 208, 194, 242, 112, 106, 83, 134, 69, 71, 116, 62, 164, 107, 139, 68, 106, 220, 195, 99, 71, 182, 180]]}}, 'requested_proof': {'revealed_attrs': {'0_skill_uuid': {'sub_proof_index': 0, 'raw': 'researcher', 'encoded': '24214165878429772374367858032287880675266648921286067519661391650938186682695'}}, 'self_attested_attrs': {}, 'unrevealed_attrs': {}, 'predicates': {}}, 'identifiers': [{'schema_id': 'PQRXDxdGqQGSZ8z69p4xZP:2:test_revocable_schema1:0.0.1', 'cred_def_id': 'PQRXDxdGqQGSZ8z69p4xZP:3:CL:20:default', 'rev_reg_id': 'PQRXDxdGqQGSZ8z69p4xZP:4:PQRXDxdGqQGSZ8z69p4xZP:3:CL:20:default:CL_ACCUM:4ddffe20-a587-4b16-b709-eef50566526c', 'timestamp': 1613574598}]}}\n"
     ]
    },
    {
     "name": "stdout",
     "output_type": "stream",
     "text": [
      "Handle present proof\n",
      "Role prover, Exchange 70cb7f2c-1f13-40da-b7db-98af060475fb in state presentation_acked\n"
     ]
    }
   ],
   "source": [
    "response = await agent_controller.proofs.send_presentation(pres_ex_id, proof)\n",
    "print(response)"
   ]
  },
  {
   "cell_type": "markdown",
   "metadata": {},
   "source": [
    "## 17. Continue in [Alice's Notebook](http://127.0.0.1:8888/notebooks/Part%2010%20-%20Revocation.ipynb)\n",
    "\n",
    "Alice will verify the non-revoked credential to be OK."
   ]
  },
  {
   "cell_type": "markdown",
   "metadata": {},
   "source": [
    "# Part 2 - Revoking the credential"
   ]
  },
  {
   "cell_type": "markdown",
   "metadata": {},
   "source": [
    "## 19. Check credential\n",
    "\n",
    "Bob will check his credential now to find that it is revoked."
   ]
  },
  {
   "cell_type": "code",
   "execution_count": null,
   "metadata": {},
   "outputs": [],
   "source": [
    "response = await agent_controller.credentials.is_revoked(credential_id)\n",
    "response"
   ]
  },
  {
   "cell_type": "markdown",
   "metadata": {},
   "source": [
    "## 20. Continue in [Alice's Notebook](http://127.0.0.1:8888/notebooks/Part%2010%20-%20Revocation.ipynb)\n",
    "\n",
    "Alice will request for a credential proof once again."
   ]
  },
  {
   "cell_type": "markdown",
   "metadata": {},
   "source": [
    "## 21. Fetch credentials for presentation proof\n",
    "\n",
    "Note `pres_ex_id` is set in the proofs handler."
   ]
  },
  {
   "cell_type": "code",
   "execution_count": null,
   "metadata": {},
   "outputs": [],
   "source": [
    "# fetch credentials for presenting proof\n",
    "pres_ex_id\n",
    "response = await agent_controller.proofs.get_record_by_id(pres_ex_id)\n",
    "presentation_request = response['presentation_request']\n",
    "presentation_request"
   ]
  },
  {
   "cell_type": "code",
   "execution_count": null,
   "metadata": {},
   "outputs": [],
   "source": [
    "if state == \"request_received\":\n",
    "    print(\n",
    "    \"Received Request -> Query for credentials in the wallet that satisfy the proof request\")\n",
    "    \n",
    "if presentation_request != None:\n",
    "    # include self-attested attributes (not included in credentials)\n",
    "    credentials_by_reft = {}\n",
    "    revealed = {}\n",
    "    self_attested = {}\n",
    "    predicates = {}\n",
    "\n",
    "    # select credentials to provide for the proof\n",
    "    credentials = await agent_controller.proofs.get_presentation_credentials(pres_ex_id)\n",
    "    print(credentials)\n",
    "\n",
    "    if credentials:\n",
    "        for row in sorted(\n",
    "            credentials,\n",
    "            key=lambda c: dict(c[\"cred_info\"][\"attrs\"]),\n",
    "            reverse=True,\n",
    "        ):\n",
    "            for referent in row[\"presentation_referents\"]:\n",
    "                if referent not in credentials_by_reft:\n",
    "                    credentials_by_reft[referent] = row\n",
    "\n",
    "    for referent in presentation_request[\"requested_attributes\"]:\n",
    "        if referent in credentials_by_reft:\n",
    "            revealed[referent] = {\n",
    "                \"cred_id\": credentials_by_reft[referent][\"cred_info\"][\n",
    "                    \"referent\"\n",
    "                ],\n",
    "                \"revealed\": True,\n",
    "            }\n",
    "\n",
    "        else:\n",
    "            self_attested[referent] = \"South Africa\"\n",
    "\n",
    "    for referent in presentation_request[\"requested_predicates\"]:\n",
    "        if referent in credentials_by_reft:\n",
    "            predicates[referent] = {\n",
    "                \"cred_id\": credentials_by_reft[referent][\"cred_info\"][\n",
    "                    \"referent\"\n",
    "                ]\n",
    "            }\n",
    "\n",
    "    print(\"\\nGenerate the proof\")\n",
    "    proof = {\n",
    "        \"requested_predicates\": predicates,\n",
    "        \"requested_attributes\": revealed,\n",
    "        \"self_attested_attributes\": self_attested,\n",
    "    }\n",
    "    print(proof)\n",
    "    print(\"\\nXXX\")\n",
    "    print(\"\\npredicates:\\n{}\".format(predicates))\n",
    "    print(\"\\nrevealed:\\n{}\".format(revealed))\n",
    "    print(\"\\nself_attested:\\n{}\".format(self_attested))\n",
    "    \n",
    "else: \n",
    "    print(\"No presenation record identifier\")"
   ]
  },
  {
   "cell_type": "markdown",
   "metadata": {},
   "source": [
    "## 22. Send presentation\n",
    "\n",
    "Bob sends the proof presentation to Alice for verification."
   ]
  },
  {
   "cell_type": "code",
   "execution_count": null,
   "metadata": {},
   "outputs": [],
   "source": [
    "response = await agent_controller.proofs.send_presentation(pres_ex_id, proof)\n",
    "print(response)"
   ]
  },
  {
   "cell_type": "markdown",
   "metadata": {},
   "source": [
    "## 23. Continue in [Alice's Notebook](http://127.0.0.1:8888/notebooks/Part%2010%20-%20Revocation.ipynb)\n",
    "\n",
    "Alice will verify the now revoked credential to be NOT OK."
   ]
  },
  {
   "cell_type": "markdown",
   "metadata": {},
   "source": [
    "## End of Tutorial\n",
    "\n",
    "Be sure to terminate the controller."
   ]
  },
  {
   "cell_type": "code",
   "execution_count": null,
   "metadata": {},
   "outputs": [],
   "source": [
    "response = await agent_controller.terminate()\n",
    "print(response)"
   ]
  },
  {
   "cell_type": "code",
   "execution_count": null,
   "metadata": {},
   "outputs": [],
   "source": []
  }
 ],
 "metadata": {
  "kernelspec": {
   "display_name": "Python 3",
   "language": "python",
   "name": "python3"
  },
  "language_info": {
   "codemirror_mode": {
    "name": "ipython",
    "version": 3
   },
   "file_extension": ".py",
   "mimetype": "text/x-python",
   "name": "python",
   "nbconvert_exporter": "python",
   "pygments_lexer": "ipython3",
   "version": "3.7.6"
  }
 },
 "nbformat": 4,
 "nbformat_minor": 4
}
