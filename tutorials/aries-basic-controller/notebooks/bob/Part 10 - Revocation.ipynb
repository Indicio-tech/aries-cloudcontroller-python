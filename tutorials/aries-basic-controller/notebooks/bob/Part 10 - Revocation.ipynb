{
 "cells": [
  {
   "cell_type": "markdown",
   "metadata": {},
   "source": [
    "# Revocation - Bob\n",
    "\n",
    "## Role: Credential Holder\n",
    "\n",
    "There will be two parts to this notebook:\n",
    "\n",
    "- Part 1: Alice issues a revocable credential to [Bob](http://127.0.0.1:8889/notebooks/Part%2010%20-%20Revocation.ipynb). Bob will store this credential and present proof of it back to Alice while it is not revoked, and Alice will verify the presentation.\n",
    "- Part 2: Alice then revokes the credential issued to Bob in Part 1 and requests another proof from Bob. This second presentation from Bob will fail to verify.\n",
    "\n",
    "For details on how revocation works on Hyperledger Indy, you can read more [here](https://github.com/hyperledger/indy-hipe/tree/master/text/0011-cred-revocation)."
   ]
  },
  {
   "cell_type": "markdown",
   "metadata": {},
   "source": [
    "# Part 1 - Issuing & Proving Non-Revoked Credential\n",
    "\n",
    "## Complete steps 1-6 in [Alice's revocation notebook](http://127.0.0.1:8888/notebooks/Part%2010%20-%20Revocation.ipynb)"
   ]
  },
  {
   "cell_type": "markdown",
   "metadata": {},
   "source": [
    "## 7. Initialise Bob's controller"
   ]
  },
  {
   "cell_type": "code",
   "execution_count": 1,
   "metadata": {},
   "outputs": [
    {
     "name": "stdout",
     "output_type": "stream",
     "text": [
      "IPython autoawait is `on`, and set to use `asyncio`\n"
     ]
    }
   ],
   "source": [
    "%autoawait\n",
    "import time\n",
    "import asyncio\n",
    "\n",
    "from aries_basic_controller.aries_controller import AriesAgentController\n",
    "    \n",
    "WEBHOOK_HOST = \"0.0.0.0\"\n",
    "WEBHOOK_PORT = 8052\n",
    "WEBHOOK_BASE = \"\"\n",
    "ADMIN_URL = \"http://bob-agent:8051\"\n",
    "\n",
    "agent_controller = AriesAgentController(webhook_host=WEBHOOK_HOST, webhook_port=WEBHOOK_PORT,\n",
    "                                       webhook_base=WEBHOOK_BASE, admin_url=ADMIN_URL, connections=True)"
   ]
  },
  {
   "cell_type": "markdown",
   "metadata": {},
   "source": [
    "## 8. Register listeners\n",
    "\n",
    "The handler should get called every time the controller receives a webhook with the topic `issue_credential` and `present_proof`, printing out the payload. The agent calls to this webhook every time it receives protocol messages for these topics from a credential."
   ]
  },
  {
   "cell_type": "code",
   "execution_count": 2,
   "metadata": {},
   "outputs": [
    {
     "data": {
      "text/plain": [
       "<Task pending coro=<AriesAgentController.listen_webhooks() running at /aries_basic_controller/aries_controller.py:98>>"
      ]
     },
     "execution_count": 2,
     "metadata": {},
     "output_type": "execute_result"
    }
   ],
   "source": [
    "loop = asyncio.get_event_loop()\n",
    "loop.create_task(agent_controller.listen_webhooks())"
   ]
  },
  {
   "cell_type": "code",
   "execution_count": 3,
   "metadata": {},
   "outputs": [
    {
     "name": "stdout",
     "output_type": "stream",
     "text": [
      "Handle Credentials\n",
      "Credential exchange 2b93329e-5197-4257-865e-d236ebc753ad, role: holder, state: offer_received\n",
      "Offering: [{'name': 'name', 'value': 'Bob'}, {'name': 'skill', 'value': 'researcher'}, {'name': 'age', 'value': '21'}]\n"
     ]
    }
   ],
   "source": [
    "def cred_handler(payload):\n",
    "    print(\"Handle Credentials\")\n",
    "    global connection_id\n",
    "    connection_id = payload['connection_id']\n",
    "    exchange_id = payload['credential_exchange_id']\n",
    "    state = payload['state']\n",
    "    role = payload['role']\n",
    "    attributes = payload['credential_proposal_dict']['credential_proposal']['attributes']\n",
    "    print(f\"Credential exchange {exchange_id}, role: {role}, state: {state}\")\n",
    "    print(f\"Offering: {attributes}\")\n",
    "    \n",
    "cred_listener = {\n",
    "    \"topic\": \"issue_credential\",\n",
    "    \"handler\": cred_handler\n",
    "}\n",
    "\n",
    "def proof_handler(payload):\n",
    "    print(\"Handle present proof\")\n",
    "    role = payload[\"role\"]\n",
    "    global pres_ex_id\n",
    "    pres_ex_id = payload[\"presentation_exchange_id\"]\n",
    "    state = payload[\"state\"]\n",
    "    print(f\"Role {role}, Exchange {pres_ex_id} in state {state}\")\n",
    "\n",
    "proof_listener = {\n",
    "    \"topic\": \"present_proof\",\n",
    "    \"handler\": proof_handler\n",
    "}\n",
    "\n",
    "agent_controller.register_listeners([cred_listener, proof_listener], defaults=True)"
   ]
  },
  {
   "cell_type": "markdown",
   "metadata": {},
   "source": [
    "## 9. Continue to [Alice's Notebook](http://127.0.0.1:8888/notebooks/Part%2010%20-%20Revocation.ipynb)\n",
    "\n",
    "Alice will issue Bob a revocable credential."
   ]
  },
  {
   "cell_type": "markdown",
   "metadata": {},
   "source": [
    "## 10. Check your credential records\n",
    "\n",
    "You should have one recording the credential offer from Alice. This should also have shown up as as a print statement from the handler function."
   ]
  },
  {
   "cell_type": "code",
   "execution_count": 4,
   "metadata": {},
   "outputs": [
    {
     "name": "stdout",
     "output_type": "stream",
     "text": [
      "1\n",
      "Credential exchange 2b93329e-5197-4257-865e-d236ebc753ad, role: holder, state: offer_received\n",
      "Being offered: [{'name': 'name', 'value': 'Bob'}, {'name': 'skill', 'value': 'researcher'}, {'name': 'age', 'value': '21'}]\n"
     ]
    }
   ],
   "source": [
    "response = await agent_controller.issuer.get_records()\n",
    "results = response[\"results\"]\n",
    "print(len(results))\n",
    "if len(results) == 0:\n",
    "    print(\"You need to first send a credential from the issuer notebook (Alice)\")\n",
    "else:\n",
    "    cred_record = results[0]\n",
    "    cred_ex_id = cred_record['credential_exchange_id']\n",
    "    state = cred_record['state']\n",
    "    role = cred_record['role']\n",
    "    attributes = results[0]['credential_proposal_dict']['credential_proposal']['attributes']\n",
    "    print(f\"Credential exchange {cred_ex_id}, role: {role}, state: {state}\")\n",
    "    print(f\"Being offered: {attributes}\")"
   ]
  },
  {
   "cell_type": "markdown",
   "metadata": {},
   "source": [
    "## 11. Request credential from Alice\n",
    "\n",
    "If happy with the attributes being offered in the credential, then the holder requests the credential from the issuer to proceed with the issuance.\n",
    "\n",
    "It is only possible to request a credential from an exchange when it is in the `offer_received` state."
   ]
  },
  {
   "cell_type": "code",
   "execution_count": 5,
   "metadata": {},
   "outputs": [
    {
     "name": "stdout",
     "output_type": "stream",
     "text": [
      "Handle Credentials\n",
      "Credential exchange 2b93329e-5197-4257-865e-d236ebc753ad, role: holder, state: request_sent\n",
      "Offering: [{'name': 'name', 'value': 'Bob'}, {'name': 'skill', 'value': 'researcher'}, {'name': 'age', 'value': '21'}]\n",
      "Credential exchange 2b93329e-5197-4257-865e-d236ebc753ad, role: holder, state: request_sent\n",
      "Handle Credentials\n",
      "Credential exchange 2b93329e-5197-4257-865e-d236ebc753ad, role: holder, state: credential_received\n",
      "Offering: [{'name': 'name', 'value': 'Bob'}, {'name': 'skill', 'value': 'researcher'}, {'name': 'age', 'value': '21'}]\n"
     ]
    }
   ],
   "source": [
    "record = await agent_controller.issuer.send_request_for_record(cred_ex_id)\n",
    "state = record['state']\n",
    "role = record['role']\n",
    "print(f\"Credential exchange {cred_ex_id}, role: {role}, state: {state}\")"
   ]
  },
  {
   "cell_type": "markdown",
   "metadata": {},
   "source": [
    "## 12. Store the redential\n",
    "\n",
    "Once the issuer has responded to a request by sending the credential, the holder needs to store it to save the credential for later.\n",
    "\n",
    "First check that the credential record is in the `credential_received` state."
   ]
  },
  {
   "cell_type": "code",
   "execution_count": 6,
   "metadata": {},
   "outputs": [],
   "source": [
    "# This can be anything you want. You will use it later to fetch this credential from the agent storage.\n",
    "credential_id = \"My Revocable Credential\""
   ]
  },
  {
   "cell_type": "code",
   "execution_count": 7,
   "metadata": {},
   "outputs": [
    {
     "name": "stdout",
     "output_type": "stream",
     "text": [
      "Handle Credentials\n",
      "Credential exchange 2b93329e-5197-4257-865e-d236ebc753ad, role: holder, state: credential_acked\n",
      "Offering: [{'name': 'name', 'value': 'Bob'}, {'name': 'skill', 'value': 'researcher'}, {'name': 'age', 'value': '21'}]\n",
      "Credential exchange 2b93329e-5197-4257-865e-d236ebc753ad, role: holder, state: credential_acked\n"
     ]
    }
   ],
   "source": [
    "response = await agent_controller.issuer.store_credential(cred_ex_id, credential_id)\n",
    "state = response['state']\n",
    "role = response['role']\n",
    "print(f\"Credential exchange {cred_ex_id}, role: {role}, state: {state}\")"
   ]
  },
  {
   "cell_type": "markdown",
   "metadata": {},
   "source": [
    "## 13. Check revocation status of the credential\n",
    "\n",
    "It should not be revoked."
   ]
  },
  {
   "cell_type": "code",
   "execution_count": 8,
   "metadata": {},
   "outputs": [
    {
     "data": {
      "text/plain": [
       "{'revoked': False}"
      ]
     },
     "execution_count": 8,
     "metadata": {},
     "output_type": "execute_result"
    },
    {
     "name": "stdout",
     "output_type": "stream",
     "text": [
      "Handle present proof\n",
      "Role prover, Exchange 949ff847-10ad-45af-9bbd-0d41fc5f78bd in state request_received\n"
     ]
    }
   ],
   "source": [
    "response = await agent_controller.credentials.is_revoked(credential_id)\n",
    "response"
   ]
  },
  {
   "cell_type": "markdown",
   "metadata": {},
   "source": [
    "## 14. Continue in [Alice's Notebook](http://127.0.0.1:8888/notebooks/Part%2010%20-%20Revocation.ipynb)\n",
    "\n",
    "Send a presentation request for a non revoked credential proof.\n"
   ]
  },
  {
   "cell_type": "markdown",
   "metadata": {},
   "source": [
    "## 15. Fetch redentials for presentation\n",
    "\n",
    "Note `pres_ex_id` is set in the proofs handler.\n",
    "\n",
    "TODO: make these steps clearer."
   ]
  },
  {
   "cell_type": "code",
   "execution_count": 9,
   "metadata": {},
   "outputs": [
    {
     "data": {
      "text/plain": [
       "{'name': 'Proof of Personal Information',\n",
       " 'version': '1.0',\n",
       " 'requested_attributes': {'0_skill_uuid': {'name': 'skill',\n",
       "   'restrictions': [{'issuer_did': 'PQRXDxdGqQGSZ8z69p4xZP'}],\n",
       "   'non_revoked': {'to': 1609949580}}},\n",
       " 'requested_predicates': {},\n",
       " 'non_revoked': {'to': 1609949581},\n",
       " 'nonce': '320470152930602887185694'}"
      ]
     },
     "execution_count": 9,
     "metadata": {},
     "output_type": "execute_result"
    }
   ],
   "source": [
    "pres_ex_id\n",
    "response = await agent_controller.proofs.get_record_by_id(pres_ex_id)\n",
    "presentation_request = response['presentation_request']\n",
    "presentation_request"
   ]
  },
  {
   "cell_type": "code",
   "execution_count": 10,
   "metadata": {},
   "outputs": [
    {
     "name": "stdout",
     "output_type": "stream",
     "text": [
      "[{'cred_info': {'referent': 'My Revocable Credential', 'attrs': {'name': 'Bob', 'skill': 'researcher', 'age': '21'}, 'schema_id': 'PQRXDxdGqQGSZ8z69p4xZP:2:test_revocable_schema:0.0.1', 'cred_def_id': 'PQRXDxdGqQGSZ8z69p4xZP:3:CL:10:default', 'rev_reg_id': 'PQRXDxdGqQGSZ8z69p4xZP:4:PQRXDxdGqQGSZ8z69p4xZP:3:CL:10:default:CL_ACCUM:4df26d09-f517-4033-a52f-ca545b9082b3', 'cred_rev_id': '1'}, 'interval': {'from': None, 'to': 1609949580}, 'presentation_referents': ['0_skill_uuid']}]\n",
      "\n",
      "Generate the proof\n",
      "{'requested_predicates': {}, 'requested_attributes': {'0_skill_uuid': {'cred_id': 'My Revocable Credential', 'revealed': True}}, 'self_attested_attributes': {}}\n",
      "\n",
      "XXX\n",
      "\n",
      "predicates:\n",
      "{}\n",
      "\n",
      "revealed:\n",
      "{'0_skill_uuid': {'cred_id': 'My Revocable Credential', 'revealed': True}}\n",
      "\n",
      "self_attested:\n",
      "{}\n"
     ]
    }
   ],
   "source": [
    "if state == \"request_received\":\n",
    "    print(\n",
    "    \"Received Request -> Query for credentials in the wallet that satisfy the proof request\")\n",
    "    \n",
    "if presentation_request != None:\n",
    "    # include self-attested attributes (not included in credentials)\n",
    "    credentials_by_reft = {}\n",
    "    revealed = {}\n",
    "    self_attested = {}\n",
    "    predicates = {}\n",
    "\n",
    "    # select credentials to provide for the proof\n",
    "    credentials = await agent_controller.proofs.get_presentation_credentials(pres_ex_id)\n",
    "    print(credentials)\n",
    "\n",
    "    if credentials:\n",
    "        for row in sorted(\n",
    "            credentials,\n",
    "            key=lambda c: dict(c[\"cred_info\"][\"attrs\"]),\n",
    "            reverse=True,\n",
    "        ):\n",
    "            for referent in row[\"presentation_referents\"]:\n",
    "                if referent not in credentials_by_reft:\n",
    "                    credentials_by_reft[referent] = row\n",
    "\n",
    "    for referent in presentation_request[\"requested_attributes\"]:\n",
    "        if referent in credentials_by_reft:\n",
    "            revealed[referent] = {\n",
    "                \"cred_id\": credentials_by_reft[referent][\"cred_info\"][\n",
    "                    \"referent\"\n",
    "                ],\n",
    "                \"revealed\": True,\n",
    "            }\n",
    "\n",
    "        else:\n",
    "            self_attested[referent] = \"South Africa\"\n",
    "\n",
    "    for referent in presentation_request[\"requested_predicates\"]:\n",
    "        if referent in credentials_by_reft:\n",
    "            predicates[referent] = {\n",
    "                \"cred_id\": credentials_by_reft[referent][\"cred_info\"][\n",
    "                    \"referent\"\n",
    "                ]\n",
    "            }\n",
    "\n",
    "    print(\"\\nGenerate the proof\")\n",
    "    proof = {\n",
    "        \"requested_predicates\": predicates,\n",
    "        \"requested_attributes\": revealed,\n",
    "        \"self_attested_attributes\": self_attested,\n",
    "    }\n",
    "    print(proof)\n",
    "    print(\"\\nXXX\")\n",
    "    print(\"\\npredicates:\\n{}\".format(predicates))\n",
    "    print(\"\\nrevealed:\\n{}\".format(revealed))\n",
    "    print(\"\\nself_attested:\\n{}\".format(self_attested))\n",
    "    \n",
    "else: \n",
    "    print(\"No presenation record identifier\")"
   ]
  },
  {
   "cell_type": "markdown",
   "metadata": {},
   "source": [
    "## 16. Send presentation\n",
    "\n",
    "Bob sends the proof presentation to Alice for verification."
   ]
  },
  {
   "cell_type": "code",
   "execution_count": 11,
   "metadata": {},
   "outputs": [
    {
     "name": "stdout",
     "output_type": "stream",
     "text": [
      "{'presentation_exchange_id': '949ff847-10ad-45af-9bbd-0d41fc5f78bd', 'presentation': {'proof': {'proofs': [{'primary_proof': {'eq_proof': {'revealed_attrs': {'skill': '24214165878429772374367858032287880675266648921286067519661391650938186682695'}, 'a_prime': '54983037763240015109173480340440884486183126767870275833537707020067559599249365570029595363987274353273341618618272187737385627458909880023440083865568093885337082639401577411997053177445788484601610955542587301251048297570365585153302915148072164865771039331663067917860409305021787753346091792958965893361695899586474121176659153337629782490099179292784354302715333893621954400296724760615557450988515080933827458101229013693435163501896535153968816079537024837255146812669105967485682854386126279373269585547115641271724211401401410035253556300061751314394401534939196433175809773705102317410643077170215493216949', 'e': '73197406319770472061853449902401888496312162477492713604044524574703806668335407371007170030643827385184752890101717995389905533616087322', 'v': '150543635866666529728260184097452157243219120499732155071499130106900662011151377761212968751086057693719385874037544033193712006220252196325076979697125656836609397132193736086320325464514394183159964791021179748898486460362880847130919005832389849395036760476559436430359354007002202869093662285688558795609284144719619324739310150544857472601660434679068367959700310075465964011485150688826042086492100220755116248464421424527228145222133225810634841221571348856790579673582024282444584955776298180812638385280463849584250476357857848298104863551028556498200616147003791121113361893933352574952396039209002028066739568434725345277348137629452818771936244259217156423289256028013370882079905644974084318579683691646464661908987764206981395175295546420319170397357274769001686559472999069931055457572545890795855848789666513111686489878081876519094703535002889977846633617562964524386537594435501446149211682153325241279', 'm': {'age': '9761926207723642552157354315515612423941079218507378862179429423263272810314816658407519537736261606241265013858687962251043318924445424341825396863605904101554063989838920744821', 'master_secret': '7349756649047911832189546613776793127758702787065964178089633980502533325909567525575901700553278083181824800499143603105096139937028598786415847701743226304048952338521037279274', 'name': '7383059992758276661400327599747269914581775350136528430029425221557617455227150698253871578485224431033336214752542101135234421241663371411390655078289533518862295879049862256179'}, 'm2': '4910291411456327827523005194427485739248001981410532552503394825019815022067120728415358405982772714323349699172076295965210338822878284194541733085768281'}, 'ge_proofs': []}, 'non_revoc_proof': {'x_list': {'rho': '110009BCBADFE7CC168428623A45D3CEEFFFDCB05ACF54A1BAE8AE6DCA75B692', 'r': '1918BAC427D4117724C3C650E3019F0235638F3FFF24ADBB2C01DE011529072A', 'r_prime': '061CB8A48F1FEB3211CCD71EE52816C30E7BE28AE9E33571F47F496F9E5F3EBC', 'r_prime_prime': '06EC32CEA31AB7E52546D72AEECCD4E2D2A61FD30B7DD95F226922847BE87E7D', 'r_prime_prime_prime': '0205C2312072EDE3A809436E966F6BD99A9B4D6C955FEDF760AA8E48B4EC4AE8', 'o': '12902DE8BAB85AA6ECD8A305F5C30E45D78FFC302FE92699698FD2667CEA8540', 'o_prime': '1FE4F5F90BB93C3BEAA96062D5E073765C4C6FFF96DBB71DC0FFA39D742FD232', 'm': '112F96576910268D6109888503997E4D06215394504F4EB24375C79D4C04310A', 'm_prime': '183C5C3778774A098BCF5D59C16AA57BCBC0B24C93D138CBE7E1C1FECAEABC18', 't': '12E0FA5443DD35602E5770E172210AC9690C5ADA07370206BA333B994042216D', 't_prime': '06F7EEF1EAA5A3415B2C34DBBB21CCA7CA7AC7B508BAEE8B8AD09EFD2E16EFCD', 'm2': '0FCF6003A1503D0F3E87CC62E2F4E1D580419569D00A74B5BE81021B3057DF3D', 's': '1E9645FFA28C1E4B9873F5A58E58C976E77591D07B52C7243B3FEF521E458414', 'c': '105CD7D8EF1800C0440233F386BF441459584F57D77D85BE36EBE5C9EEBD6218'}, 'c_list': {'e': '6 6256742A72C2CA7F21F84EB225A8AEDBB36491BA291695114CB40FCA0A469C28 4 17532F55779D99BF485F9F1F838061F72909A598F14C0F6A60F7B9DABC9BDA4B 4 3439F44BF80486DE301612A48CCA72F08FE90359B54B3B35A3B807DB23A594E5', 'd': '6 5D0E4CC0571EEEEF16EBC5E7C7845AF460766AA47A0367B68486D66BD450853B 4 0E958B531F6AD9D11F4E3DC3526B9B0E4DE961DEE7F8D745E95F912FBD05DA93 4 3E529E9108F7E324A526F242D772CFC7C969D8882C4CC1B1337112E182598D40', 'a': '6 2D47C5B07724744D2F373C88E93BA40633BE92EA7C4C4C7FFB9D90B3BF481487 4 2452946D6B5449F284A192528AB2056C604D386A0CB318B815FE25DAB7FF0017 4 17870285C52828057B351229AA6C746F916874C9CAF69781DF072DC67744362D', 'g': '6 3ED6B2F908D51B8FB3D26C46E8364DFA5849201F5B5726DD131B7D722005B4F1 4 283D02FC9BE1EB6D509D2CF8749CD8AE5580A97FC342F8BAE2788EC6AF831BC4 4 19CB4648076DF4CB88FC8EB14BF5F5C0B81497136C12C713C9000DABFF45A614', 'w': '21 11ACBF2C71EBAB42A3547FC657AC6759A27044DA5C31DFD24C5B067DC88B124BA 21 13A7A4092D3D6B9939D4C0FA66D54C4B8A4BC96F772F77CDE6847301DFBEED5AA 6 7C017FF8CE9FEDCB94073C18D4223ED69E9286F0A1393C2B8904944C64528F53 4 25EEFDEDC3001C643B8D4A1060391E2EF4D05577BB22A778BB2559079030372C 6 6309528AFF4BC973713809E7B5034C40681D807BEF3FC57EAFDBCAB62EFD31B6 4 1ED7F5BEFFAC32BDDCA7562C237A9A45234131E2762709B58B42BEEAF036440E', 's': '21 1363873C87A10B7364D53F69B79E3BE63A12BF8D3B11235E2FF975BC0AA42D154 21 136708B7E66D1990E44640FC11BDC05B1AAFB9F70F0D415EC2676A2FA24FD313A 6 6F2625858CF2D9CEEFF773514CB12043A3A974495E6EEB0AC66F6CA981AFFE5F 4 01774E77116640EA10751F747349794F6F5A09D96047CC4B5248A70F3718B7AC 6 820E8BAB76C42960DF4C6E9B305EDB6D5F244079ED81CD3F50656995663F77CA 4 2B2D8D25AB762F7B6053DA958AB1EEF51BCF7FE15C0438A2921866A08AAA156E', 'u': '21 139DE13033CF764F666834FF1D13A142AE0A355EF0D53574AA09C906FAF13D47E 21 1410156EB3A69A55F9A1AC1B62F9C452DC158F82A634902EE159D9FE7EFF3EF78 6 680B339C0C82B34977089999A7868B4E89D4BEAA16A748EB5DBB3B69A0B876DE 4 1CEEEC37888FF8A888BFBA1E2D44ACCAA8939E801077AB5A57450FF5367BBB81 6 931BCF3D9AE063783E06514B7ECF185EC0FCBC48D2ED3962806A559703C046E9 4 3838AB2A1800E34FDDD0A09BC14FCDE95D5A66FEF90D8A8E5F14E448C4C19CD7'}}}], 'aggregated_proof': {'c_hash': '42634527308322116713431770659519377236411651665622174979759247269809265612681', 'c_list': [[4, 10, 49, 26, 3, 72, 228, 90, 34, 140, 98, 210, 7, 15, 79, 56, 231, 74, 199, 215, 48, 176, 107, 83, 226, 232, 224, 49, 64, 215, 67, 112, 169, 23, 73, 238, 55, 176, 61, 75, 249, 178, 86, 8, 59, 137, 27, 193, 167, 47, 185, 239, 2, 191, 13, 95, 208, 246, 226, 182, 180, 5, 106, 93, 131, 0, 0, 0, 0, 0, 0, 0, 0, 0, 0, 0, 0, 0, 0, 0, 0, 0, 0, 0, 0, 0, 0, 0, 0, 0, 0, 0, 0, 0, 0, 0, 0, 0, 0, 0, 0, 0, 0, 0, 0, 0, 0, 0, 0, 0, 0, 0, 0, 0, 0, 0, 0, 0, 0, 0, 0, 0, 0, 0, 0, 0, 0, 0], [4, 1, 138, 74, 238, 154, 236, 74, 87, 129, 231, 221, 214, 251, 44, 235, 62, 9, 164, 239, 63, 64, 227, 69, 160, 92, 45, 0, 71, 30, 102, 106, 208, 2, 172, 137, 97, 175, 128, 115, 34, 159, 9, 34, 22, 35, 202, 76, 13, 86, 17, 183, 29, 245, 58, 47, 35, 20, 53, 125, 104, 3, 63, 47, 21, 0, 0, 0, 0, 0, 0, 0, 0, 0, 0, 0, 0, 0, 0, 0, 0, 0, 0, 0, 0, 0, 0, 0, 0, 0, 0, 0, 0, 0, 0, 0, 0, 0, 0, 0, 0, 0, 0, 0, 0, 0, 0, 0, 0, 0, 0, 0, 0, 0, 0, 0, 0, 0, 0, 0, 0, 0, 0, 0, 0, 0, 0, 0], [4, 28, 69, 198, 200, 192, 11, 178, 130, 253, 143, 182, 241, 87, 43, 18, 208, 235, 35, 240, 66, 44, 119, 44, 44, 160, 103, 124, 141, 130, 207, 56, 227, 34, 181, 162, 197, 53, 207, 242, 112, 69, 175, 149, 231, 166, 26, 96, 168, 244, 135, 225, 60, 137, 82, 215, 87, 82, 171, 122, 57, 3, 226, 18, 232, 0, 0, 0, 0, 0, 0, 0, 0, 0, 0, 0, 0, 0, 0, 0, 0, 0, 0, 0, 0, 0, 0, 0, 0, 0, 0, 0, 0, 0, 0, 0, 0, 0, 0, 0, 0, 0, 0, 0, 0, 0, 0, 0, 0, 0, 0, 0, 0, 0, 0, 0, 0, 0, 0, 0, 0, 0, 0, 0, 0, 0, 0, 0], [4, 1, 237, 76, 209, 7, 176, 67, 236, 28, 208, 173, 22, 187, 174, 231, 247, 103, 198, 195, 190, 193, 138, 210, 72, 246, 51, 208, 145, 53, 80, 28, 152, 36, 204, 128, 140, 185, 212, 211, 93, 101, 228, 228, 115, 235, 36, 188, 58, 18, 35, 109, 94, 81, 144, 86, 5, 238, 20, 152, 55, 148, 80, 246, 123, 0, 0, 0, 0, 0, 0, 0, 0, 0, 0, 0, 0, 0, 0, 0, 0, 0, 0, 0, 0, 0, 0, 0, 0, 0, 0, 0, 0, 0, 0, 0, 0, 0, 0, 0, 0, 0, 0, 0, 0, 0, 0, 0, 0, 0, 0, 0, 0, 0, 0, 0, 0, 0, 0, 0, 0, 0, 0, 0, 0, 0, 0, 0], [35, 249, 64, 124, 177, 96, 205, 70, 170, 8, 241, 30, 122, 120, 180, 213, 44, 18, 63, 180, 114, 69, 88, 73, 37, 64, 187, 44, 154, 239, 53, 183, 6, 16, 199, 233, 85, 6, 242, 123, 119, 117, 27, 125, 115, 216, 161, 175, 91, 30, 151, 167, 37, 51, 121, 155, 132, 165, 55, 75, 200, 91, 93, 136, 3, 251, 21, 136, 163, 210, 207, 205, 82, 172, 243, 93, 122, 198, 205, 189, 87, 160, 114, 237, 64, 101, 81, 211, 249, 159, 74, 215, 241, 146, 56, 32, 25, 44, 35, 229, 167, 182, 247, 13, 207, 251, 155, 23, 33, 90, 164, 133, 188, 110, 78, 8, 216, 208, 182, 182, 173, 228, 92, 188, 49, 155, 143, 216], [26, 111, 155, 247, 100, 77, 51, 50, 44, 218, 240, 211, 103, 221, 38, 11, 103, 213, 215, 245, 177, 87, 4, 186, 237, 216, 208, 2, 224, 93, 38, 253, 32, 186, 130, 153, 215, 7, 138, 55, 134, 102, 192, 206, 215, 234, 47, 42, 248, 246, 155, 248, 226, 93, 242, 131, 235, 240, 204, 76, 181, 165, 241, 80, 0, 180, 106, 158, 60, 198, 175, 154, 198, 185, 13, 18, 215, 2, 48, 125, 123, 123, 35, 253, 28, 49, 171, 117, 74, 148, 200, 253, 236, 245, 195, 91, 12, 156, 178, 25, 61, 198, 36, 104, 123, 206, 37, 90, 195, 131, 22, 7, 253, 86, 40, 105, 161, 95, 66, 132, 3, 252, 66, 44, 181, 217, 94, 107], [7, 75, 150, 69, 219, 76, 44, 53, 194, 182, 15, 170, 223, 52, 229, 217, 29, 41, 114, 244, 2, 173, 31, 41, 129, 22, 93, 178, 8, 228, 192, 31, 19, 57, 212, 2, 145, 45, 104, 129, 156, 212, 159, 141, 129, 40, 13, 71, 137, 204, 177, 94, 130, 114, 148, 130, 24, 209, 247, 224, 129, 226, 255, 242, 3, 161, 197, 75, 128, 11, 23, 43, 129, 201, 140, 94, 250, 94, 196, 250, 25, 170, 59, 61, 184, 207, 15, 85, 8, 176, 72, 75, 220, 133, 164, 37, 13, 79, 54, 253, 46, 94, 133, 70, 88, 169, 38, 126, 231, 39, 237, 120, 47, 75, 187, 52, 86, 15, 232, 211, 42, 191, 126, 250, 81, 114, 173, 43], [1, 179, 140, 175, 191, 5, 253, 204, 220, 99, 190, 232, 74, 196, 99, 91, 156, 112, 84, 250, 143, 124, 29, 167, 209, 10, 8, 160, 133, 51, 223, 6, 54, 199, 77, 135, 124, 81, 138, 143, 13, 165, 87, 8, 195, 244, 231, 179, 228, 218, 214, 232, 124, 26, 75, 233, 23, 169, 202, 141, 141, 248, 44, 112, 22, 130, 130, 132, 72, 89, 224, 106, 234, 234, 155, 235, 151, 155, 208, 136, 49, 128, 58, 45, 195, 20, 152, 8, 150, 167, 253, 74, 79, 134, 135, 172, 36, 245, 196, 104, 119, 198, 37, 228, 95, 50, 18, 74, 108, 247, 13, 193, 168, 45, 110, 84, 189, 86, 45, 106, 234, 255, 219, 53, 62, 182, 125, 222, 185, 24, 3, 66, 87, 87, 244, 185, 37, 75, 193, 108, 201, 97, 81, 176, 143, 159, 193, 145, 14, 224, 98, 9, 204, 70, 242, 76, 189, 107, 252, 124, 224, 138, 217, 104, 160, 85, 211, 86, 39, 81, 199, 94, 255, 65, 148, 176, 96, 251, 135, 236, 187, 65, 166, 82, 232, 48, 91, 42, 9, 21, 24, 233, 134, 73, 134, 67, 222, 1, 63, 15, 46, 76, 99, 20, 19, 13, 42, 246, 21, 188, 250, 109, 217, 43, 97, 73, 189, 248, 233, 34, 23, 126, 110, 5, 178, 125, 5, 88, 141, 4, 168, 97, 123, 105, 55, 114, 111, 148, 153, 24, 41, 140, 208, 171, 54, 49, 43, 38, 28, 143, 103, 62, 235, 251, 34, 170, 181]]}}, 'requested_proof': {'revealed_attrs': {'0_skill_uuid': {'sub_proof_index': 0, 'raw': 'researcher', 'encoded': '24214165878429772374367858032287880675266648921286067519661391650938186682695'}}, 'self_attested_attrs': {}, 'unrevealed_attrs': {}, 'predicates': {}}, 'identifiers': [{'schema_id': 'PQRXDxdGqQGSZ8z69p4xZP:2:test_revocable_schema:0.0.1', 'cred_def_id': 'PQRXDxdGqQGSZ8z69p4xZP:3:CL:10:default', 'rev_reg_id': 'PQRXDxdGqQGSZ8z69p4xZP:4:PQRXDxdGqQGSZ8z69p4xZP:3:CL:10:default:CL_ACCUM:4df26d09-f517-4033-a52f-ca545b9082b3', 'timestamp': 1609949456}]}, 'state': 'presentation_sent', 'thread_id': '57fbdc16-0191-49c5-80cf-3a429102b90c', 'role': 'prover', 'connection_id': '84f3d0ee-bb7d-4625-ad1e-9d0992c6ce88', 'updated_at': '2021-01-06 16:13:46.966318Z', 'initiator': 'external', 'presentation_request': {'name': 'Proof of Personal Information', 'version': '1.0', 'requested_attributes': {'0_skill_uuid': {'name': 'skill', 'restrictions': [{'issuer_did': 'PQRXDxdGqQGSZ8z69p4xZP'}], 'non_revoked': {'to': 1609949580}}}, 'requested_predicates': {}, 'non_revoked': {'to': 1609949581}, 'nonce': '320470152930602887185694'}, 'trace': False, 'created_at': '2021-01-06 16:13:01.292300Z'}\n"
     ]
    },
    {
     "name": "stdout",
     "output_type": "stream",
     "text": [
      "Handle present proof\n",
      "Role prover, Exchange 949ff847-10ad-45af-9bbd-0d41fc5f78bd in state presentation_sent\n",
      "Handle present proof\n",
      "Role prover, Exchange 949ff847-10ad-45af-9bbd-0d41fc5f78bd in state presentation_acked\n"
     ]
    }
   ],
   "source": [
    "response = await agent_controller.proofs.send_presentation(pres_ex_id, proof)\n",
    "print(response)"
   ]
  },
  {
   "cell_type": "markdown",
   "metadata": {},
   "source": [
    "## 17. Continue in [Alice's Notebook](http://127.0.0.1:8888/notebooks/Part%2010%20-%20Revocation.ipynb)\n",
    "\n",
    "Alice will verify the non-revoked credential to be OK."
   ]
  },
  {
   "cell_type": "markdown",
   "metadata": {},
   "source": [
    "# Part 2 - Revoking the credential"
   ]
  },
  {
   "cell_type": "markdown",
   "metadata": {},
   "source": [
    "## 19. Check credential\n",
    "\n",
    "Bob will check his credential now to find that it is revoked."
   ]
  },
  {
   "cell_type": "code",
   "execution_count": 12,
   "metadata": {},
   "outputs": [
    {
     "data": {
      "text/plain": [
       "{'revoked': True}"
      ]
     },
     "execution_count": 12,
     "metadata": {},
     "output_type": "execute_result"
    },
    {
     "name": "stdout",
     "output_type": "stream",
     "text": [
      "Handle present proof\n",
      "Role prover, Exchange d8d98b64-690d-480d-ad1e-8d5bc6470453 in state request_received\n"
     ]
    }
   ],
   "source": [
    "response = await agent_controller.credentials.is_revoked(credential_id)\n",
    "response"
   ]
  },
  {
   "cell_type": "markdown",
   "metadata": {},
   "source": [
    "## 20. Continue in [Alice's Notebook](http://127.0.0.1:8888/notebooks/Part%2010%20-%20Revocation.ipynb)\n",
    "\n",
    "Alice will request for a credential proof once again."
   ]
  },
  {
   "cell_type": "markdown",
   "metadata": {},
   "source": [
    "## 21. Fetch credentials for presentation proof\n",
    "\n",
    "Note `pres_ex_id` is set in the proofs handler."
   ]
  },
  {
   "cell_type": "code",
   "execution_count": 13,
   "metadata": {},
   "outputs": [
    {
     "data": {
      "text/plain": [
       "{'name': 'Proof of Personal Information',\n",
       " 'version': '1.0',\n",
       " 'requested_attributes': {'0_skill_uuid': {'name': 'skill',\n",
       "   'restrictions': [{'issuer_did': 'PQRXDxdGqQGSZ8z69p4xZP'}],\n",
       "   'non_revoked': {'to': 1609949705}}},\n",
       " 'requested_predicates': {},\n",
       " 'non_revoked': {'to': 1609949706},\n",
       " 'nonce': '714708092518710934372484'}"
      ]
     },
     "execution_count": 13,
     "metadata": {},
     "output_type": "execute_result"
    }
   ],
   "source": [
    "# fetch credentials for presenting proof\n",
    "pres_ex_id\n",
    "response = await agent_controller.proofs.get_record_by_id(pres_ex_id)\n",
    "presentation_request = response['presentation_request']\n",
    "presentation_request"
   ]
  },
  {
   "cell_type": "code",
   "execution_count": 14,
   "metadata": {},
   "outputs": [
    {
     "name": "stdout",
     "output_type": "stream",
     "text": [
      "[{'cred_info': {'referent': 'My Revocable Credential', 'attrs': {'name': 'Bob', 'skill': 'researcher', 'age': '21'}, 'schema_id': 'PQRXDxdGqQGSZ8z69p4xZP:2:test_revocable_schema:0.0.1', 'cred_def_id': 'PQRXDxdGqQGSZ8z69p4xZP:3:CL:10:default', 'rev_reg_id': 'PQRXDxdGqQGSZ8z69p4xZP:4:PQRXDxdGqQGSZ8z69p4xZP:3:CL:10:default:CL_ACCUM:4df26d09-f517-4033-a52f-ca545b9082b3', 'cred_rev_id': '1'}, 'interval': {'from': None, 'to': 1609949705}, 'presentation_referents': ['0_skill_uuid']}]\n",
      "\n",
      "Generate the proof\n",
      "{'requested_predicates': {}, 'requested_attributes': {'0_skill_uuid': {'cred_id': 'My Revocable Credential', 'revealed': True}}, 'self_attested_attributes': {}}\n",
      "\n",
      "XXX\n",
      "\n",
      "predicates:\n",
      "{}\n",
      "\n",
      "revealed:\n",
      "{'0_skill_uuid': {'cred_id': 'My Revocable Credential', 'revealed': True}}\n",
      "\n",
      "self_attested:\n",
      "{}\n"
     ]
    }
   ],
   "source": [
    "if state == \"request_received\":\n",
    "    print(\n",
    "    \"Received Request -> Query for credentials in the wallet that satisfy the proof request\")\n",
    "    \n",
    "if presentation_request != None:\n",
    "    # include self-attested attributes (not included in credentials)\n",
    "    credentials_by_reft = {}\n",
    "    revealed = {}\n",
    "    self_attested = {}\n",
    "    predicates = {}\n",
    "\n",
    "    # select credentials to provide for the proof\n",
    "    credentials = await agent_controller.proofs.get_presentation_credentials(pres_ex_id)\n",
    "    print(credentials)\n",
    "\n",
    "    if credentials:\n",
    "        for row in sorted(\n",
    "            credentials,\n",
    "            key=lambda c: dict(c[\"cred_info\"][\"attrs\"]),\n",
    "            reverse=True,\n",
    "        ):\n",
    "            for referent in row[\"presentation_referents\"]:\n",
    "                if referent not in credentials_by_reft:\n",
    "                    credentials_by_reft[referent] = row\n",
    "\n",
    "    for referent in presentation_request[\"requested_attributes\"]:\n",
    "        if referent in credentials_by_reft:\n",
    "            revealed[referent] = {\n",
    "                \"cred_id\": credentials_by_reft[referent][\"cred_info\"][\n",
    "                    \"referent\"\n",
    "                ],\n",
    "                \"revealed\": True,\n",
    "            }\n",
    "\n",
    "        else:\n",
    "            self_attested[referent] = \"South Africa\"\n",
    "\n",
    "    for referent in presentation_request[\"requested_predicates\"]:\n",
    "        if referent in credentials_by_reft:\n",
    "            predicates[referent] = {\n",
    "                \"cred_id\": credentials_by_reft[referent][\"cred_info\"][\n",
    "                    \"referent\"\n",
    "                ]\n",
    "            }\n",
    "\n",
    "    print(\"\\nGenerate the proof\")\n",
    "    proof = {\n",
    "        \"requested_predicates\": predicates,\n",
    "        \"requested_attributes\": revealed,\n",
    "        \"self_attested_attributes\": self_attested,\n",
    "    }\n",
    "    print(proof)\n",
    "    print(\"\\nXXX\")\n",
    "    print(\"\\npredicates:\\n{}\".format(predicates))\n",
    "    print(\"\\nrevealed:\\n{}\".format(revealed))\n",
    "    print(\"\\nself_attested:\\n{}\".format(self_attested))\n",
    "    \n",
    "else: \n",
    "    print(\"No presenation record identifier\")"
   ]
  },
  {
   "cell_type": "markdown",
   "metadata": {},
   "source": [
    "## 22. Send presentation\n",
    "\n",
    "Bob sends the proof presentation to Alice for verification."
   ]
  },
  {
   "cell_type": "code",
   "execution_count": 15,
   "metadata": {},
   "outputs": [
    {
     "name": "stdout",
     "output_type": "stream",
     "text": [
      "{'presentation_exchange_id': 'd8d98b64-690d-480d-ad1e-8d5bc6470453', 'presentation': {'proof': {'proofs': [{'primary_proof': {'eq_proof': {'revealed_attrs': {'skill': '24214165878429772374367858032287880675266648921286067519661391650938186682695'}, 'a_prime': '75832767533944430921040650558001002566293763366725659023861160961464313787612907826354361589543604831848702439617797974347354598118482576327042650181393101025629552520760211933523781694847530595035216377080758008777044854372152718615572516472187175883477040130911167731948080394027232014494581911887353545213285448856086776923724705656170762349423754937886349069555698503872339493536942744687164145352805316459258250097038956045990529900118367803303464509120110388827779724304557816144346842789519895415571462968875285968081140783812282296797865863124288954867313619081346765221166855508234020246259261155064658134649', 'e': '66863441126845964068603707085386192147709547452718771813053867868059488518178037062632322439922320426573278275142561275371697685828229799', 'v': '1067781922433350352244796523044218328399788025952877729902625471711830498978950349490090033676926798416574169738458867760127509210925921371611494838045115677942011271492004161955822365626754687182485057668927185654284836841557004473932355857256187792140721731637628012244671594929520206001669355370104074279238366104719114779996463284130894914393487254818217642520869747201878171332804682096358724645837384282423375401614517705162187855654928422957392972738892969598516710619542619089192643392337378055466769596157744683298126426386207946874607365615075989271478389566835806524621077194600228915734959111512712137580240448043167200695413424099775096242267853767965783984947926059004351761557118963233916406369890004412630170401068392804534881998828455069549930383265977487359595106805141613897574238319605997913778406783034813449047816396176901524362886497819299967307599908787723722087819113015776734698442375370101259059', 'm': {'age': '1653278322922129720647658971611883101031328211574604749563820129767506303681343183367783477619698987719538458617919745592221637562163126077966799432055188682915906271699569077675', 'master_secret': '4812920004625939050044530050774176143822592036128918091346861380864935318822247071374090593767203492225225814503267793229516948352086860205551885834232011050228070554774430166444', 'name': '6878214349662517955545615821546687836230389532682756227534144400720023280731677330860318087771478423964506028156602145127152581520414020133355412839941331061775431848885979054597'}, 'm2': '12538385314462431923344876682316717628898082651438024286332330314914752365813243918105575625396971423067901238673143035067944795846343969654306860809333983'}, 'ge_proofs': []}, 'non_revoc_proof': {'x_list': {'rho': '08C5EB5F1F03BC6E6C9C3A547D7A17C4C906743C5847C170B38031149515A504', 'r': '06C34F3D51028EA3BD6F2AC203E3AB9CFA8536BB394B3A5AD22FBA471EE4ED49', 'r_prime': '0AB2EFA2DCEE0C6AF76E1DF32C738536B31F6D2FF040F76765F8B3AB79F222B7', 'r_prime_prime': '1CA48CABF3C12FAB9CABBC91FAF2BA3EBC7C8F19C057AA32EA7261637F0E74AC', 'r_prime_prime_prime': '00ABCE78F8A9E1AF939C01201C79A065D9AD3BC2F43CC57EE95BF924512EA14E', 'o': '0B9656D86B478F57F99F415D114BD40E03DBB54DE750C8F3914EA1297EFB65E2', 'o_prime': '11B862823D39853EC9AE197E1FAB77A6E6699E2046DC0FE3BB07280DB560FDBE', 'm': '14C1E53E07DA2D0E58635C2DD5B6F3875731669FA812534ACA0D248A7538D1A0', 'm_prime': '1AA9CDF3C8A28EECF334E44690E4763A846578B3E0C65F77929085E26C64FFB7', 't': '0FE6E2DBF2198CFA98176066F4DA323BE58C609AC56CDCED06265F7CD0FD30F6', 't_prime': '1C6538FCF79D52F42A7B49A732EE2C44C18862E9C7727516DA541B5E79BF0836', 'm2': '0F7E08ECD83737FD250A7CDB9D917FC5FE0ED48E68DEF2C0627B84F87B68267A', 's': '03AB3610552BC18118245B8B57DDF13FE8F53E6680AB603D89AAEEEA6B525497', 'c': '064034F6C5B36034ACB6F6765FA1D6201385C0C8FBED16880510DBC369B95EA2'}, 'c_list': {'e': '6 5E67B032DB7E48D76C83337AE5A75ABCA50C8CFDC963A2428888245A465EF2FC 4 27491A2A4CB86086F072C83EDB54D4815DBDE3D7403CC6D0141CE2AAF754609F 4 2E15071A4B4E7B39A8E016A144EC108B42B7C6CCD0161145347794671B3D7069', 'd': '6 431476B0B7E8BE0238452B3A21CE9DB5372EC74A6EB0ADDABF60BBB4430BCF08 4 1CD9F9B8CC1B892C037AECD3EEB106EDEFC1291A3717A6EDDFC718E2D17F0BF2 4 31A7B6AA10ECF17E22936D0FA06F77496A77C0D0FA076BCA921212047E8A7857', 'a': '6 44E9AA4070C0877F7FB445455B695ED405FCBDD0E8F28B7985AFFD098A3083B1 4 344BA0E69374F503E5DDA16810F96B8D918F450D185602071F0840A78CB8F99C 4 14321FAAA0FC7E6EB949BD634D52C3A0C11E1A4B2A6A81B5C38A2233319D0E89', 'g': '6 38B5C076BA4E85269F27AB93527EB3F58474EB28F1517070449F9780495273F2 4 1F5C81336E3FBACF6E3BE49EC80166D35ED866E20384D1FD3E9EE1D5BA822067 4 089D6281DB4930BD5B7954971FE3EDFC82238D177E2F3684FE987F725BFB4A4E', 'w': '21 13D9AA30C8D24109C0499F29A1629122DB3E166C2E648D0ADD7B6BDCE88801C78 21 131E89C62E471C3EFD95CB6CE5FB60A3B08887E4D780DF8B9DE080B7FD2494E9A 6 6133EFB9BBF645484D3F6162E03A9D641DC7793551D3E37E016A09200E5F5740 4 1ECB988D2C776213F4C558C28C7F50F5CCED076804D7267F108E7E7D5F495E39 6 7118A68C31557E47F3A756DC9581C947B0DB1DD1DACC843F28D97B72DCE21448 4 1C1660458D20DBD0ED91CD8EF0E90C1EC5FD21778BC402C818950EB889299C38', 's': '21 11584654035DB97C3EDDEB8EA2E4536F792AB56DE7668D0C86E1B7FF190EF800B 21 10A658924FC4F7416B96B392DE4FED504B2DDAD7CC902925A76DA982126982E22 6 862FCEE56896D785CBBACEB1A2D09ADC90ADEE01C30592E84509AF92ECD09F34 4 1CE5A19AFA95852B738573C8BD18B449F69E3F578FB761B3321C58455BD15036 6 7AB19F7BC96F67CE575EF883C41AC7EFB9B40169206A8B2A5001B8D944175D60 4 2BFCCDE759F2566AD6AB5790E8BF9B9C46DA166A60BBD4E87A1D9D80BEC2BE5B', 'u': '21 1316C950145F1B5002265221A1E160F72A38A840E8FE1907506732824E5FF2719 21 132EB3631CC26A34491D4B3352275477FF5B0998884BF97868109D9E090A771CF 6 4FCE6669FBFF3A60550C3B3A8B78CB96BCC952D9DF884559D58D9A23D9E20767 4 2F368F14ABC044F80AC2FD33F777B9FD940B3DA25557779B2CEAEED885DA48FA 6 83AE6FAB0EE228E26F67BDDE74020C55270DFA916FF344924DDBD208D8C69FF9 4 34B587B3018FAF45579C22DB95EFF772E9BFBF0369B776F37C0883038176F76F'}}}], 'aggregated_proof': {'c_hash': '108866885139341998914276139168308898267932556297486249529913193240476367137676', 'c_list': [[4, 17, 64, 44, 231, 56, 77, 11, 205, 124, 147, 3, 93, 106, 135, 227, 233, 178, 8, 68, 29, 68, 39, 140, 135, 27, 175, 34, 122, 158, 207, 8, 57, 30, 209, 22, 25, 47, 131, 169, 208, 228, 32, 233, 39, 152, 217, 159, 145, 185, 173, 234, 201, 248, 64, 66, 31, 119, 40, 234, 40, 174, 47, 19, 165, 0, 0, 0, 0, 0, 0, 0, 0, 0, 0, 0, 0, 0, 0, 0, 0, 0, 0, 0, 0, 0, 0, 0, 0, 0, 0, 0, 0, 0, 0, 0, 0, 0, 0, 0, 0, 0, 0, 0, 0, 0, 0, 0, 0, 0, 0, 0, 0, 0, 0, 0, 0, 0, 0, 0, 0, 0, 0, 0, 0, 0, 0, 0], [4, 3, 119, 156, 252, 42, 104, 155, 46, 210, 249, 233, 127, 221, 79, 108, 151, 124, 203, 210, 190, 2, 2, 250, 223, 81, 89, 236, 210, 71, 214, 59, 125, 30, 84, 26, 132, 3, 19, 194, 156, 107, 28, 140, 136, 217, 189, 49, 109, 62, 43, 177, 91, 41, 51, 2, 35, 31, 3, 138, 71, 29, 165, 186, 9, 0, 0, 0, 0, 0, 0, 0, 0, 0, 0, 0, 0, 0, 0, 0, 0, 0, 0, 0, 0, 0, 0, 0, 0, 0, 0, 0, 0, 0, 0, 0, 0, 0, 0, 0, 0, 0, 0, 0, 0, 0, 0, 0, 0, 0, 0, 0, 0, 0, 0, 0, 0, 0, 0, 0, 0, 0, 0, 0, 0, 0, 0, 0], [4, 30, 44, 92, 148, 102, 226, 143, 183, 58, 146, 227, 155, 17, 81, 169, 145, 65, 183, 156, 105, 66, 82, 7, 170, 250, 73, 30, 47, 137, 23, 77, 50, 16, 248, 193, 42, 108, 44, 101, 53, 10, 139, 151, 229, 217, 176, 238, 217, 94, 169, 232, 176, 62, 113, 37, 153, 128, 6, 245, 246, 249, 2, 119, 37, 0, 0, 0, 0, 0, 0, 0, 0, 0, 0, 0, 0, 0, 0, 0, 0, 0, 0, 0, 0, 0, 0, 0, 0, 0, 0, 0, 0, 0, 0, 0, 0, 0, 0, 0, 0, 0, 0, 0, 0, 0, 0, 0, 0, 0, 0, 0, 0, 0, 0, 0, 0, 0, 0, 0, 0, 0, 0, 0, 0, 0, 0, 0], [4, 13, 4, 211, 74, 141, 20, 53, 48, 141, 137, 70, 196, 124, 14, 6, 124, 111, 175, 58, 124, 151, 183, 249, 221, 168, 194, 224, 103, 249, 234, 238, 191, 16, 236, 219, 47, 101, 131, 80, 9, 174, 147, 32, 100, 149, 172, 122, 11, 142, 18, 60, 9, 42, 212, 181, 196, 9, 253, 18, 78, 157, 252, 96, 71, 0, 0, 0, 0, 0, 0, 0, 0, 0, 0, 0, 0, 0, 0, 0, 0, 0, 0, 0, 0, 0, 0, 0, 0, 0, 0, 0, 0, 0, 0, 0, 0, 0, 0, 0, 0, 0, 0, 0, 0, 0, 0, 0, 0, 0, 0, 0, 0, 0, 0, 0, 0, 0, 0, 0, 0, 0, 0, 0, 0, 0, 0, 0], [21, 170, 120, 119, 155, 65, 125, 44, 23, 144, 143, 189, 247, 62, 95, 83, 41, 235, 199, 6, 239, 21, 34, 199, 14, 57, 155, 124, 124, 243, 177, 86, 31, 214, 9, 57, 4, 105, 125, 103, 85, 244, 21, 115, 244, 204, 3, 86, 36, 211, 59, 31, 140, 1, 88, 37, 59, 19, 236, 120, 30, 211, 0, 223, 35, 46, 145, 221, 76, 233, 255, 72, 64, 138, 222, 233, 35, 40, 128, 91, 245, 116, 104, 116, 190, 1, 229, 142, 173, 19, 156, 170, 76, 255, 77, 154, 32, 5, 187, 200, 50, 105, 184, 53, 179, 59, 249, 194, 134, 47, 112, 174, 20, 83, 177, 68, 225, 221, 125, 55, 27, 136, 137, 180, 53, 195, 56, 254], [11, 220, 166, 47, 29, 13, 226, 83, 48, 134, 220, 203, 98, 248, 205, 37, 176, 57, 128, 214, 251, 22, 245, 247, 155, 103, 174, 180, 210, 88, 134, 193, 3, 119, 79, 16, 7, 36, 167, 242, 11, 24, 211, 121, 168, 202, 14, 120, 77, 124, 155, 211, 233, 203, 240, 152, 214, 49, 99, 0, 147, 241, 118, 118, 12, 84, 15, 51, 237, 217, 28, 174, 37, 91, 116, 57, 35, 85, 51, 3, 199, 6, 74, 188, 101, 226, 144, 23, 252, 168, 99, 156, 94, 233, 244, 129, 29, 93, 48, 195, 233, 81, 248, 95, 238, 241, 245, 240, 85, 245, 40, 144, 147, 63, 72, 131, 50, 155, 238, 101, 147, 46, 181, 5, 235, 1, 92, 195], [10, 139, 29, 213, 210, 18, 53, 46, 234, 42, 36, 127, 29, 180, 123, 209, 8, 85, 190, 76, 239, 130, 158, 79, 126, 6, 66, 119, 233, 41, 112, 22, 6, 6, 241, 28, 165, 226, 178, 72, 214, 216, 93, 134, 170, 62, 178, 118, 165, 184, 165, 134, 88, 224, 94, 82, 136, 225, 217, 50, 80, 159, 113, 151, 10, 186, 16, 41, 108, 118, 234, 203, 28, 254, 118, 174, 197, 6, 4, 225, 97, 218, 71, 28, 54, 175, 137, 251, 123, 163, 231, 214, 180, 16, 154, 90, 15, 170, 250, 171, 44, 80, 179, 239, 15, 210, 12, 115, 108, 10, 20, 181, 111, 242, 82, 251, 112, 44, 49, 1, 31, 235, 66, 72, 230, 21, 67, 62], [2, 88, 182, 19, 54, 150, 147, 117, 148, 143, 23, 40, 44, 30, 41, 163, 134, 143, 165, 127, 0, 191, 2, 179, 166, 104, 189, 5, 96, 139, 94, 196, 246, 205, 69, 110, 8, 140, 172, 195, 8, 129, 65, 89, 15, 117, 161, 142, 204, 197, 239, 232, 94, 126, 187, 243, 251, 195, 228, 122, 240, 185, 212, 151, 156, 227, 20, 20, 226, 155, 35, 217, 175, 252, 220, 207, 254, 169, 176, 122, 242, 98, 41, 85, 245, 25, 245, 204, 250, 222, 200, 123, 187, 108, 13, 31, 77, 152, 21, 22, 153, 23, 151, 157, 114, 113, 102, 10, 219, 73, 111, 21, 130, 251, 49, 156, 188, 128, 6, 222, 33, 254, 35, 93, 134, 43, 146, 44, 16, 7, 178, 110, 190, 244, 137, 243, 10, 181, 61, 153, 128, 14, 102, 224, 242, 51, 38, 47, 143, 252, 247, 10, 18, 127, 3, 252, 101, 135, 184, 169, 43, 68, 97, 61, 58, 176, 249, 66, 189, 164, 190, 134, 159, 191, 217, 200, 123, 88, 135, 222, 253, 221, 158, 50, 150, 32, 160, 184, 152, 135, 18, 17, 128, 118, 220, 23, 191, 77, 137, 248, 71, 253, 215, 74, 204, 56, 206, 230, 235, 13, 156, 217, 125, 165, 49, 227, 188, 90, 186, 193, 181, 56, 211, 10, 224, 32, 149, 155, 199, 249, 13, 145, 142, 189, 141, 48, 226, 102, 204, 167, 30, 52, 5, 9, 247, 98, 74, 255, 217, 242, 138, 109, 101, 184, 42, 6, 121]]}}, 'requested_proof': {'revealed_attrs': {'0_skill_uuid': {'sub_proof_index': 0, 'raw': 'researcher', 'encoded': '24214165878429772374367858032287880675266648921286067519661391650938186682695'}}, 'self_attested_attrs': {}, 'unrevealed_attrs': {}, 'predicates': {}}, 'identifiers': [{'schema_id': 'PQRXDxdGqQGSZ8z69p4xZP:2:test_revocable_schema:0.0.1', 'cred_def_id': 'PQRXDxdGqQGSZ8z69p4xZP:3:CL:10:default', 'rev_reg_id': 'PQRXDxdGqQGSZ8z69p4xZP:4:PQRXDxdGqQGSZ8z69p4xZP:3:CL:10:default:CL_ACCUM:4df26d09-f517-4033-a52f-ca545b9082b3', 'timestamp': 1609949691}]}, 'state': 'presentation_sent', 'thread_id': '9a3e2b43-8f92-4e5c-8a3f-32a9d359e85e', 'role': 'prover', 'connection_id': '84f3d0ee-bb7d-4625-ad1e-9d0992c6ce88', 'updated_at': '2021-01-06 16:15:22.466636Z', 'initiator': 'external', 'presentation_request': {'name': 'Proof of Personal Information', 'version': '1.0', 'requested_attributes': {'0_skill_uuid': {'name': 'skill', 'restrictions': [{'issuer_did': 'PQRXDxdGqQGSZ8z69p4xZP'}], 'non_revoked': {'to': 1609949705}}}, 'requested_predicates': {}, 'non_revoked': {'to': 1609949706}, 'nonce': '714708092518710934372484'}, 'trace': False, 'created_at': '2021-01-06 16:15:06.529221Z'}\n"
     ]
    },
    {
     "name": "stdout",
     "output_type": "stream",
     "text": [
      "Handle present proof\n",
      "Role prover, Exchange d8d98b64-690d-480d-ad1e-8d5bc6470453 in state presentation_sent\n",
      "Handle present proof\n",
      "Role prover, Exchange d8d98b64-690d-480d-ad1e-8d5bc6470453 in state presentation_acked\n"
     ]
    }
   ],
   "source": [
    "response = await agent_controller.proofs.send_presentation(pres_ex_id, proof)\n",
    "print(response)"
   ]
  },
  {
   "cell_type": "markdown",
   "metadata": {},
   "source": [
    "## 23. Continue in [Alice's Notebook](http://127.0.0.1:8888/notebooks/Part%2010%20-%20Revocation.ipynb)\n",
    "\n",
    "Alice will verify the now revoked credential to be NOT OK."
   ]
  },
  {
   "cell_type": "markdown",
   "metadata": {},
   "source": [
    "## End of Tutorial\n",
    "\n",
    "Be sure to terminate the controller."
   ]
  },
  {
   "cell_type": "code",
   "execution_count": null,
   "metadata": {},
   "outputs": [],
   "source": [
    "response = await agent_controller.terminate()\n",
    "print(response)"
   ]
  }
 ],
 "metadata": {
  "kernelspec": {
   "display_name": "Python 3",
   "language": "python",
   "name": "python3"
  },
  "language_info": {
   "codemirror_mode": {
    "name": "ipython",
    "version": 3
   },
   "file_extension": ".py",
   "mimetype": "text/x-python",
   "name": "python",
   "nbconvert_exporter": "python",
   "pygments_lexer": "ipython3",
   "version": "3.7.6"
  }
 },
 "nbformat": 4,
 "nbformat_minor": 4
}
