{
 "cells": [
  {
   "cell_type": "markdown",
   "metadata": {},
   "source": [
    "# Action Menu - Alice\n",
    "\n",
    "## Role - Requester\n",
    "\n",
    "In this notebook we'll be going through the Action Menu Protocol. For details on the protocol, please refer to the [RFC](https://github.com/hyperledger/aries-rfcs/tree/master/features/0509-action-menu).\n",
    "\n",
    "A requirement for this protocol to work is an active DIDComm communication channel between Alice and Bob. To achieve that, you should have completed the [Establishing a Connection](http://localhost:8888/notebooks/Part%203%20-%20Establishing%20a%20Connection.ipynb) tutorial."
   ]
  },
  {
   "cell_type": "markdown",
   "metadata": {},
   "source": [
    "## 1. Initialise Alice controller\n",
    "\n",
    "We begin by initializing the controller for the Alice agent."
   ]
  },
  {
   "cell_type": "code",
   "execution_count": 20,
   "metadata": {},
   "outputs": [
    {
     "name": "stdout",
     "output_type": "stream",
     "text": [
      "IPython autoawait is `on`, and set to use `asyncio`\n"
     ]
    }
   ],
   "source": [
    "%autoawait\n",
    "import time\n",
    "import asyncio\n",
    "from aries_basic_controller.aries_controller import AriesAgentController\n",
    "    \n",
    "WEBHOOK_HOST = \"0.0.0.0\"\n",
    "WEBHOOK_PORT = 8022\n",
    "WEBHOOK_BASE = \"\"\n",
    "ADMIN_URL = \"http://alice-agent:8021\"\n",
    "\n",
    "# WARNING: You should use environment variables for this\n",
    "# TODO: Make env variables accessible through juypter notebooks\n",
    "API_KEY = \"alice_api_123456789\"\n",
    "\n",
    "# Based on the aca-py agent you wish to control\n",
    "agent_controller = AriesAgentController(webhook_host=WEBHOOK_HOST, webhook_port=WEBHOOK_PORT,\n",
    "                                       webhook_base=WEBHOOK_BASE, admin_url=ADMIN_URL, api_key=API_KEY)\n",
    "    "
   ]
  },
  {
   "cell_type": "markdown",
   "metadata": {},
   "source": [
    "## 2. Listen for webhooks and register default listeners\n",
    "\n",
    "Everytime a webhook is received from the agent, the controller reemits the hook using [PyPubSub](https://pypubsub.readthedocs.io/en/v4.0.3/). The default listeners are used to update state and print logs."
   ]
  },
  {
   "cell_type": "code",
   "execution_count": 3,
   "metadata": {},
   "outputs": [],
   "source": [
    "loop = asyncio.get_event_loop()\n",
    "loop.create_task(agent_controller.listen_webhooks())\n",
    "\n",
    "agent_controller.register_listeners([], defaults=True)"
   ]
  },
  {
   "cell_type": "markdown",
   "metadata": {},
   "source": [
    "## 3. Check the agent has an active connection\n",
    "\n",
    "An active connection between Alice and Bob is required. You can either:\n",
    "\n",
    "- complete the [Establishing a Connection](http://localhost:8888/notebooks/Part%203%20-%20Establishing%20a%20Connection.ipynb) tutorial, or\n",
    "- running the python script `create_connection.py` in the setup folder, or\n",
    "- complete the did-exchange tutorial ([Alice](http://localhost:8888/notebooks/did-exchange-inviter.ipynb) and [Bob](http://localhost:8889/notebooks/did-exchange-invitee.ipynb)) "
   ]
  },
  {
   "cell_type": "code",
   "execution_count": 5,
   "metadata": {},
   "outputs": [
    {
     "name": "stdout",
     "output_type": "stream",
     "text": [
      "Results :  [{'connection_id': '73230d9c-403a-457c-8211-34c9cd7acfad', 'created_at': '2020-10-22 03:49:36.705035Z', 'invitation_key': '2cVeFAwPbMHbtbM8A6QNyctgyLFchQtRtJ7P81QLG4ki', 'updated_at': '2020-10-22 03:49:52.677758Z', 'initiator': 'self', 'routing_state': 'none', 'their_label': 'Bob', 'invitation_mode': 'once', 'my_did': 'HepVkkvg1azc6PGbEkrdkD', 'state': 'active', 'their_did': 'BiqPns43A7xJboeC1GqNbu', 'accept': 'manual'}]\n",
      "Connection : {'connection_id': '73230d9c-403a-457c-8211-34c9cd7acfad', 'created_at': '2020-10-22 03:49:36.705035Z', 'invitation_key': '2cVeFAwPbMHbtbM8A6QNyctgyLFchQtRtJ7P81QLG4ki', 'updated_at': '2020-10-22 03:49:52.677758Z', 'initiator': 'self', 'routing_state': 'none', 'their_label': 'Bob', 'invitation_mode': 'once', 'my_did': 'HepVkkvg1azc6PGbEkrdkD', 'state': 'active', 'their_did': 'BiqPns43A7xJboeC1GqNbu', 'accept': 'manual'}\n",
      "Active Connection ID :  73230d9c-403a-457c-8211-34c9cd7acfad\n"
     ]
    }
   ],
   "source": [
    "response = await agent_controller.connections.get_connections()\n",
    "results = response['results']\n",
    "print(\"Results : \", results)\n",
    "if len(results) > 0:\n",
    "    connection = response['results'][0]\n",
    "    print(\"Connection :\", connection)\n",
    "    if connection['state'] == 'active':       \n",
    "        connection_id = connection[\"connection_id\"]\n",
    "        print(\"Active Connection ID : \", connection_id)\n",
    "else:\n",
    "    print(\"You must create a connection\")"
   ]
  },
  {
   "cell_type": "markdown",
   "metadata": {},
   "source": [
    "## 4. Request Action Menu from Bob\n",
    "\n",
    "Alice begins by making a request for the action menu from Bob."
   ]
  },
  {
   "cell_type": "code",
   "execution_count": 6,
   "metadata": {},
   "outputs": [
    {
     "data": {
      "text/plain": [
       "{}"
      ]
     },
     "execution_count": 6,
     "metadata": {},
     "output_type": "execute_result"
    }
   ],
   "source": [
    "await agent_controller.action_menu.request_active_menu(connection_id)"
   ]
  },
  {
   "cell_type": "markdown",
   "metadata": {},
   "source": [
    "## 5. Continue with step 6 of [Bob's notebook](http://localhost:8889/notebooks/Part%208%20-%20Action%20Menu.ipynb)"
   ]
  },
  {
   "cell_type": "markdown",
   "metadata": {},
   "source": [
    "## 8. Perform action upon receiving action menu\n",
    "\n",
    "Upon receiving the action menu from Bob, Alice can now perform an action."
   ]
  },
  {
   "cell_type": "code",
   "execution_count": 11,
   "metadata": {},
   "outputs": [],
   "source": [
    "# retrieve the menu options sent from Bob\n",
    "menu = await agent_controller.action_menu.get_active_menu(connection_id)"
   ]
  },
  {
   "cell_type": "code",
   "execution_count": 17,
   "metadata": {},
   "outputs": [
    {
     "data": {
      "text/plain": [
       "[{'name': 'window_prefs',\n",
       "  'title': 'Window Preferences',\n",
       "  'description': 'Window display preferences',\n",
       "  'disabled': False,\n",
       "  'form': {'title': 'Preferences',\n",
       "   'description': 'Window preference settings',\n",
       "   'params': [{'name': 'delay',\n",
       "     'title': 'Delay in seconds',\n",
       "     'type': 'int',\n",
       "     'required': False},\n",
       "    {'name': 'visibility',\n",
       "     'title': 'Visibility toggle',\n",
       "     'type': 'boolean',\n",
       "     'required': True}],\n",
       "   'submit-label': 'Send'}}]"
      ]
     },
     "execution_count": 17,
     "metadata": {},
     "output_type": "execute_result"
    }
   ],
   "source": [
    "menu_options = menu[\"result\"][\"options\"]\n",
    "menu_options"
   ]
  },
  {
   "cell_type": "code",
   "execution_count": 19,
   "metadata": {},
   "outputs": [
    {
     "data": {
      "text/plain": [
       "{}"
      ]
     },
     "execution_count": 19,
     "metadata": {},
     "output_type": "execute_result"
    }
   ],
   "source": [
    "# as an example, we work with the first menu option\n",
    "menu_params = {\n",
    "    \"delay\": \"5\",\n",
    "    \"visibility\": \"True\"\n",
    "}\n",
    "\n",
    "await agent_controller.action_menu.perform(\n",
    "    connection_id=connection_id,\n",
    "    menu_params=menu_params,\n",
    "    menu_option_name=menu_options[0][\"name\"]\n",
    ")"
   ]
  },
  {
   "cell_type": "markdown",
   "metadata": {},
   "source": [
    "## End of Tutorial\n",
    "\n",
    "Be sure to terminate the controller before running another tutorial."
   ]
  },
  {
   "cell_type": "code",
   "execution_count": 21,
   "metadata": {},
   "outputs": [
    {
     "name": "stdout",
     "output_type": "stream",
     "text": [
      "None\n"
     ]
    }
   ],
   "source": [
    "response = await agent_controller.terminate()\n",
    "print(response)"
   ]
  }
 ],
 "metadata": {
  "kernelspec": {
   "display_name": "Python 3",
   "language": "python",
   "name": "python3"
  },
  "language_info": {
   "codemirror_mode": {
    "name": "ipython",
    "version": 3
   },
   "file_extension": ".py",
   "mimetype": "text/x-python",
   "name": "python",
   "nbconvert_exporter": "python",
   "pygments_lexer": "ipython3",
   "version": "3.7.6"
  }
 },
 "nbformat": 4,
 "nbformat_minor": 4
}
