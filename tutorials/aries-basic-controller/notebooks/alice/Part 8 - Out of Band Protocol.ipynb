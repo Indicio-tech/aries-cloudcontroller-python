{
 "cells": [
  {
   "cell_type": "code",
   "execution_count": 6,
   "metadata": {},
   "outputs": [
    {
     "name": "stdout",
     "output_type": "stream",
     "text": [
      "IPython autoawait is `on`, and set to use `asyncio`\n"
     ]
    }
   ],
   "source": [
    "%autoawait\n",
    "import time\n",
    "import asyncio\n",
    "import json"
   ]
  },
  {
   "cell_type": "code",
   "execution_count": 2,
   "metadata": {},
   "outputs": [],
   "source": [
    "from aries_basic_controller.aries_controller import AriesAgentController\n",
    "    \n",
    "WEBHOOK_HOST = \"0.0.0.0\"\n",
    "WEBHOOK_PORT = 8022\n",
    "WEBHOOK_BASE = \"\"\n",
    "ADMIN_URL = \"http://alice-agent:8021\"\n",
    "\n",
    "# WARNING: You should use environment variables for this\n",
    "# TODO: Make env variables accessible through juypter notebooks\n",
    "API_KEY = \"alice_api_123456789\"\n",
    "\n",
    "# Based on the aca-py agent you wish to control\n",
    "agent_controller = AriesAgentController(webhook_host=WEBHOOK_HOST, webhook_port=WEBHOOK_PORT,\n",
    "                                       webhook_base=WEBHOOK_BASE, admin_url=ADMIN_URL, api_key=API_KEY)\n"
   ]
  },
  {
   "cell_type": "code",
   "execution_count": 4,
   "metadata": {},
   "outputs": [],
   "source": [
    "\n",
    "loop = asyncio.get_event_loop()\n",
    "loop.create_task(agent_controller.listen_webhooks())\n",
    "\n",
    "agent_controller.register_listeners([], defaults=True)"
   ]
  },
  {
   "cell_type": "markdown",
   "metadata": {},
   "source": [
    "## 4a. Use the controller to create an out of band connection invitation"
   ]
  },
  {
   "cell_type": "code",
   "execution_count": 12,
   "metadata": {},
   "outputs": [
    {
     "name": "stdout",
     "output_type": "stream",
     "text": [
      "{\"include_handshake\": true, \"use_public_did\": false}\n",
      "{\"state\": \"initial\", \"invitation\": {\"@type\": \"did:sov:BzCbsNYhMrjHiqZDTUASHg;spec/out-of-band/1.0/invitation\", \"@id\": \"40ea3b1e-4589-477d-84ae-c28e9fa490ac\", \"label\": \"Alice\", \"request~attach\": [], \"handshake_protocols\": [\"https://didcomm.org/connections/1.0/invitation\", \"did:sov:BzCbsNYhMrjHiqZDTUASHg;spec/connections/1.0/invitation\"], \"service\": [{\"id\": \"#inline\", \"type\": \"did-communication\", \"recipientKeys\": [\"did:key:z6Mkjh4wVVG9PN3tkRxhw9yLqjfxWEeHoqbnxcEhciPHHq9w\"], \"routingKeys\": [], \"serviceEndpoint\": \"http://192.168.65.3:8020\"}]}, \"created_at\": \"2020-10-30 11:32:45.079505Z\", \"invitation_id\": \"722c4c0e-0d29-4bff-a910-dd4d7d922c18\", \"updated_at\": \"2020-10-30 11:32:45.079505Z\", \"trace\": false}\n",
      "\n",
      "\n",
      "{\n",
      "  \"state\": \"initial\",\n",
      "  \"invitation\": {\n",
      "    \"@type\": \"did:sov:BzCbsNYhMrjHiqZDTUASHg;spec/out-of-band/1.0/invitation\",\n",
      "    \"@id\": \"40ea3b1e-4589-477d-84ae-c28e9fa490ac\",\n",
      "    \"label\": \"Alice\",\n",
      "    \"request~attach\": [],\n",
      "    \"handshake_protocols\": [\n",
      "      \"https://didcomm.org/connections/1.0/invitation\",\n",
      "      \"did:sov:BzCbsNYhMrjHiqZDTUASHg;spec/connections/1.0/invitation\"\n",
      "    ],\n",
      "    \"service\": [\n",
      "      {\n",
      "        \"id\": \"#inline\",\n",
      "        \"type\": \"did-communication\",\n",
      "        \"recipientKeys\": [\n",
      "          \"did:key:z6Mkjh4wVVG9PN3tkRxhw9yLqjfxWEeHoqbnxcEhciPHHq9w\"\n",
      "        ],\n",
      "        \"routingKeys\": [],\n",
      "        \"serviceEndpoint\": \"http://192.168.65.3:8020\"\n",
      "      }\n",
      "    ]\n",
      "  },\n",
      "  \"created_at\": \"2020-10-30 11:32:45.079505Z\",\n",
      "  \"invitation_id\": \"722c4c0e-0d29-4bff-a910-dd4d7d922c18\",\n",
      "  \"updated_at\": \"2020-10-30 11:32:45.079505Z\",\n",
      "  \"trace\": false\n",
      "}\n"
     ]
    }
   ],
   "source": [
    "payload = {\n",
    "  \"include_handshake\": True,\n",
    "  \"use_public_did\": False\n",
    "}\n",
    "print(json.dumps(payload))\n",
    "\n",
    "# Create an out of band Invitation\n",
    "oob_invite = await agent_controller.oob.create_invitation(json.dumps(payload))\n",
    "print(json.dumps(oob_invite))\n",
    "print('\\n')\n",
    "print(json.dumps(oob_invite, indent=2))"
   ]
  },
  {
   "cell_type": "code",
   "execution_count": null,
   "metadata": {},
   "outputs": [],
   "source": []
  }
 ],
 "metadata": {
  "kernelspec": {
   "display_name": "Python 3",
   "language": "python",
   "name": "python3"
  },
  "language_info": {
   "codemirror_mode": {
    "name": "ipython",
    "version": 3
   },
   "file_extension": ".py",
   "mimetype": "text/x-python",
   "name": "python",
   "nbconvert_exporter": "python",
   "pygments_lexer": "ipython3",
   "version": "3.7.6"
  }
 },
 "nbformat": 4,
 "nbformat_minor": 4
}
