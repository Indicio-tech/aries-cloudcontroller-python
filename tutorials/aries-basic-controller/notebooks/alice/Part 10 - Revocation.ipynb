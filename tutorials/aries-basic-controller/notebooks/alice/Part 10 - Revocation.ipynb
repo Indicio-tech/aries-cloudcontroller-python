{
 "cells": [
  {
   "cell_type": "markdown",
   "metadata": {},
   "source": [
    "# Revocation - Alice\n",
    "\n",
    "## Role: Issuer & Verifier\n",
    "\n",
    "In this notebook you will issue a revocable credential to [Bob](http://127.0.0.1:8889/notebooks/Part%2010%20-%20Revocation.ipynb). Bob will store this credential and present proof of it back to Alice, where she will verify the presentation. Alice will then revoke the credential and request another presentation of the credential from Bob. This presentation will not verify."
   ]
  },
  {
   "cell_type": "markdown",
   "metadata": {},
   "source": [
    "## How Revocation Works\n",
    "\n",
    "Revocation is quite complex in the Hyperledger stack. This is because to protect the privacy of credential holders they have chosen a cryptographic solution that allows issuers to publish revocations such that holders can prove non-revocation without a verifier needing to communicate with the issuer. \n",
    "\n",
    "An easy way to achieve this would be to include an index for each credential, then publish the list of revoked credential indexes. However, such an index is equivalent to a correlatable identifiers for that credential. \n",
    "\n",
    "Tails File. ...\n"
   ]
  },
  {
   "cell_type": "markdown",
   "metadata": {},
   "source": [
    "## 1. Initiate the controller for Alice"
   ]
  },
  {
   "cell_type": "code",
   "execution_count": 1,
   "metadata": {},
   "outputs": [
    {
     "name": "stdout",
     "output_type": "stream",
     "text": [
      "IPython autoawait is `on`, and set to use `asyncio`\n"
     ]
    }
   ],
   "source": [
    "%autoawait\n",
    "import time\n",
    "import asyncio\n",
    "from aries_basic_controller.aries_controller import AriesAgentController\n",
    "    \n",
    "WEBHOOK_HOST = \"0.0.0.0\"\n",
    "WEBHOOK_PORT = 8022\n",
    "WEBHOOK_BASE = \"\"\n",
    "ADMIN_URL = \"http://alice-agent:8021\"\n",
    "\n",
    "# WARNING: You should use environment variables for this\n",
    "# TODO: Make env variables accessible through juypter notebooks\n",
    "API_KEY = \"alice_api_123456789\"\n",
    "\n",
    "# Based on the aca-py agent you wish to control\n",
    "agent_controller = AriesAgentController(webhook_host=WEBHOOK_HOST, webhook_port=WEBHOOK_PORT,\n",
    "                                       webhook_base=WEBHOOK_BASE, admin_url=ADMIN_URL, api_key=API_KEY)"
   ]
  },
  {
   "cell_type": "markdown",
   "metadata": {},
   "source": [
    "## 2. Register Listeners"
   ]
  },
  {
   "cell_type": "code",
   "execution_count": 2,
   "metadata": {},
   "outputs": [],
   "source": [
    "loop = asyncio.get_event_loop()\n",
    "loop.create_task(agent_controller.listen_webhooks())\n",
    "\n",
    "def cred_handler(payload):\n",
    "    print(\"Handle Credentials\")\n",
    "    exchange_id = payload['credential_exchange_id']\n",
    "    state = payload['state']\n",
    "    role = payload['role']\n",
    "    attributes = payload['credential_proposal_dict']['credential_proposal']['attributes']\n",
    "    print(f\"Credential exchange {exchange_id}, role: {role}, state: {state}\")\n",
    "    print(f\"Offering: {attributes}\")\n",
    "    \n",
    "cred_listener = {\n",
    "    \"topic\": \"issue_credential\",\n",
    "    \"handler\": cred_handler\n",
    "}\n",
    "\n",
    "def proof_handler(payload):\n",
    "    print(\"Handle present proof\")\n",
    "    role = payload[\"role\"]\n",
    "    pres_ex_id = payload[\"presentation_exchange_id\"]\n",
    "    state = payload[\"state\"]\n",
    "    print(f\"Role {role}, Exchange {pres_ex_id} in state {state}\")\n",
    "\n",
    "proof_listener = {\n",
    "    \"topic\": \"present_proof\",\n",
    "    \"handler\": proof_handler\n",
    "}\n",
    "\n",
    "agent_controller.register_listeners([cred_listener, proof_listener], defaults=True)"
   ]
  },
  {
   "cell_type": "markdown",
   "metadata": {},
   "source": [
    "## 3. Check the agent has an active connection\n",
    "\n",
    "**Note: An active connection is required, this should have been established on start up through the python script create_connection.py in the setup folder. If not it is possible to run through the did-exchange tutorial to create one between Alice and Bob**\n",
    "\n",
    "* [Alice](http://127.0.0.1:8888/notebooks/Part%203%20-%20Establishing%20a%20Connection.ipynb)\n",
    "* [Bob](http://127.0.0.1:8889/notebooks/Part%203%20-%20Establishing%20a%20Connection.ipynb)"
   ]
  },
  {
   "cell_type": "code",
   "execution_count": 3,
   "metadata": {},
   "outputs": [
    {
     "name": "stdout",
     "output_type": "stream",
     "text": [
      "Results :  [{'my_did': '26e44fuEpzT4UPQLqpsckm', 'invitation_key': 'CVC3TbN5soQdwq5idwmWxqFJadSMz5KeN3aXujW9QVR6', 'invitation_mode': 'once', 'state': 'active', 'their_label': 'Bob', 'request_id': 'f78440d6-4f07-42e6-b6a2-dbd24e3ed7f4', 'their_did': 'FCMbQ4KnMWo1AEXTXZnUt9', 'routing_state': 'none', 'accept': 'manual', 'initiator': 'external', 'updated_at': '2020-12-09 17:40:52.619502Z', 'connection_id': 'dc7a71b8-41d3-4720-b36e-cd6856f61bc3', 'created_at': '2020-12-09 17:40:32.408030Z'}]\n",
      "Connection : {'my_did': '26e44fuEpzT4UPQLqpsckm', 'invitation_key': 'CVC3TbN5soQdwq5idwmWxqFJadSMz5KeN3aXujW9QVR6', 'invitation_mode': 'once', 'state': 'active', 'their_label': 'Bob', 'request_id': 'f78440d6-4f07-42e6-b6a2-dbd24e3ed7f4', 'their_did': 'FCMbQ4KnMWo1AEXTXZnUt9', 'routing_state': 'none', 'accept': 'manual', 'initiator': 'external', 'updated_at': '2020-12-09 17:40:52.619502Z', 'connection_id': 'dc7a71b8-41d3-4720-b36e-cd6856f61bc3', 'created_at': '2020-12-09 17:40:32.408030Z'}\n",
      "Active Connection ID :  dc7a71b8-41d3-4720-b36e-cd6856f61bc3\n"
     ]
    }
   ],
   "source": [
    "response = await agent_controller.connections.get_connections()\n",
    "results = response['results']\n",
    "print(\"Results : \", results)\n",
    "if len(results) > 0:\n",
    "    connection = response['results'][0]\n",
    "    print(\"Connection :\", connection)\n",
    "    if connection['state'] == 'active':       \n",
    "        connection_id = connection[\"connection_id\"]\n",
    "        print(\"Active Connection ID : \", connection_id)\n",
    "else:\n",
    "    print(\"You must create a connection\")\n",
    "    "
   ]
  },
  {
   "cell_type": "markdown",
   "metadata": {},
   "source": [
    "## 4. Write a Schema to the Ledger\n",
    "\n",
    "**Note: You will only be able to do this once unless you change the schema_name or version. Or tear down the current ledger using ./manage down**"
   ]
  },
  {
   "cell_type": "code",
   "execution_count": 4,
   "metadata": {},
   "outputs": [
    {
     "name": "stdout",
     "output_type": "stream",
     "text": [
      "PQRXDxdGqQGSZ8z69p4xZP:2:test_revocable_schema:0.0.1\n"
     ]
    }
   ],
   "source": [
    "# Define you schema name - must be unique on the ledger\n",
    "schema_name = \"test_revocable_schema\"\n",
    "# Can version the schema if you wish to update it\n",
    "schema_version = \"0.0.1\"\n",
    "# Define any list of attributes you wish to include in your schema\n",
    "attributes = [\"name\", \"skill\", \"age\"]\n",
    "\n",
    "response = await agent_controller.schema.write_schema(schema_name, attributes, schema_version)\n",
    "schema_id = response[\"schema_id\"]\n",
    "print(schema_id)\n"
   ]
  },
  {
   "cell_type": "markdown",
   "metadata": {},
   "source": [
    "## 5. Write a Revocable Credential Definition to the Ledger\n",
    "\n",
    "By adding the support_revocation flag, the ACA-Py agent under the hood knows to create some additional structures to support revocation of all credentials issued under this cred_def.\n",
    "\n",
    "Specifically the agent creates what is known as a revocation registry, and writes this to the public ledger. You should be able to see these transactions in the ledger explorer at [localhost:9000](http://localhost:9000/browse/domain).\n",
    "\n",
    "It also add's a tails file to the tail server that needs to be accessible by those creating and verifying proofs of non-revocation."
   ]
  },
  {
   "cell_type": "code",
   "execution_count": 5,
   "metadata": {},
   "outputs": [
    {
     "name": "stdout",
     "output_type": "stream",
     "text": [
      "PQRXDxdGqQGSZ8z69p4xZP:3:CL:10:default\n"
     ]
    }
   ],
   "source": [
    "response = await agent_controller.definitions.write_cred_def(schema_id, support_revocation=True)\n",
    "\n",
    "cred_def_id = response[\"credential_definition_id\"]\n",
    "print(cred_def_id)"
   ]
  },
  {
   "cell_type": "markdown",
   "metadata": {},
   "source": [
    "## 6. Populate the Attribues to Issue to Bob"
   ]
  },
  {
   "cell_type": "code",
   "execution_count": 6,
   "metadata": {},
   "outputs": [
    {
     "name": "stdout",
     "output_type": "stream",
     "text": [
      "[{'name': 'name', 'value': 'Bob'}, {'name': 'skill', 'value': 'revocation'}, {'name': 'age', 'value': '1337'}]\n"
     ]
    }
   ],
   "source": [
    "credential_attributes = [\n",
    "    {\"name\": \"name\", \"value\": \"Bob\"},\n",
    "    {\"name\": \"skill\", \"value\": \"revocation\"},\n",
    "    {\"name\": \"age\", \"value\": \"1337\"}\n",
    "]\n",
    "print(credential_attributes)"
   ]
  },
  {
   "cell_type": "markdown",
   "metadata": {},
   "source": [
    "## 7. Continue in [Bob's Notebook](http://127.0.0.1:8889/notebooks/Part%2010%20-%20Revocation.ipynb)\n",
    "\n",
    "You need to initialise the controller and listen to webhooks so you can track the messages Bob's agent receives."
   ]
  },
  {
   "cell_type": "markdown",
   "metadata": {},
   "source": [
    "## 9. Issue Revocable Credential\n",
    "\n",
    "Note: It is exactly the same as issuing a unrevocable credential. Revocable credentials are those issued under cred_defs (public keys) that have been appropriately set up to support the revocation cryptography."
   ]
  },
  {
   "cell_type": "code",
   "execution_count": 7,
   "metadata": {},
   "outputs": [
    {
     "name": "stdout",
     "output_type": "stream",
     "text": [
      "Handle Credentials\n",
      "Credential exchange 6b4993c9-a553-4672-915d-df9d07b5dffa, role: issuer, state: offer_sent\n",
      "Offering: [{'name': 'name', 'value': 'Bob'}, {'name': 'skill', 'value': 'revocation'}, {'name': 'age', 'value': '1337'}]\n",
      "Credential exchange 6b4993c9-a553-4672-915d-df9d07b5dffa, role: issuer, state: offer_sent\n",
      "Handle Credentials\n",
      "Credential exchange 6b4993c9-a553-4672-915d-df9d07b5dffa, role: issuer, state: request_received\n",
      "Offering: [{'name': 'name', 'value': 'Bob'}, {'name': 'skill', 'value': 'revocation'}, {'name': 'age', 'value': '1337'}]\n",
      "Handle Credentials\n",
      "Credential exchange 6b4993c9-a553-4672-915d-df9d07b5dffa, role: issuer, state: credential_issued\n",
      "Offering: [{'name': 'name', 'value': 'Bob'}, {'name': 'skill', 'value': 'revocation'}, {'name': 'age', 'value': '1337'}]\n",
      "Handle Credentials\n",
      "Credential exchange 6b4993c9-a553-4672-915d-df9d07b5dffa, role: issuer, state: credential_acked\n",
      "Offering: [{'name': 'name', 'value': 'Bob'}, {'name': 'skill', 'value': 'revocation'}, {'name': 'age', 'value': '1337'}]\n"
     ]
    }
   ],
   "source": [
    "record = await agent_controller.issuer.send_credential(connection_id, schema_id, cred_def_id, credential_attributes, auto_remove=False, trace=True)\n",
    "record_id = record['credential_exchange_id']\n",
    "state = record['state']\n",
    "role = record['role']\n",
    "print(f\"Credential exchange {record_id}, role: {role}, state: {state}\")"
   ]
  },
  {
   "cell_type": "markdown",
   "metadata": {},
   "source": [
    "## Continue in [Bob's Notebook ](http://127.0.0.1:8889/notebooks/Part%2010%20-%20Revocation.ipynb)\n",
    "\n",
    "Here you will request, store and then present the credential."
   ]
  },
  {
   "cell_type": "markdown",
   "metadata": {},
   "source": [
    "## 14. Send Request in referencing received proposal"
   ]
  },
  {
   "cell_type": "code",
   "execution_count": 8,
   "metadata": {},
   "outputs": [
    {
     "name": "stdout",
     "output_type": "stream",
     "text": [
      "{'result': {'did': 'PQRXDxdGqQGSZ8z69p4xZP', 'verkey': 'DDEKJtBjzaXAJtpwetdPiXH5s4rNUEzG18V15QoLRcZZ', 'posture': 'public'}}\n",
      "Request proof of Skill from Bob\n",
      "{'state': 'request_sent', 'presentation_request_dict': {'@type': 'did:sov:BzCbsNYhMrjHiqZDTUASHg;spec/present-proof/1.0/request-presentation', '@id': 'e16c2be3-7ae1-4df6-b25c-bbcbce108396', 'request_presentations~attach': [{'@id': 'libindy-request-presentation-0', 'mime-type': 'application/json', 'data': {'base64': 'eyJuYW1lIjogIlByb29mIG9mIFBlcnNvbmFsIEluZm9ybWF0aW9uIiwgInZlcnNpb24iOiAiMS4wIiwgInJlcXVlc3RlZF9hdHRyaWJ1dGVzIjogeyIwX3NraWxsX3V1aWQiOiB7Im5hbWUiOiAic2tpbGwiLCAicmVzdHJpY3Rpb25zIjogW3siaXNzdWVyX2RpZCI6ICJQUVJYRHhkR3FRR1NaOHo2OXA0eFpQIn1dLCAibm9uX3Jldm9rZWQiOiB7InRvIjogMTYwNzUzNTk0NX19fSwgInJlcXVlc3RlZF9wcmVkaWNhdGVzIjoge30sICJub25fcmV2b2tlZCI6IHsidG8iOiAxNjA3NTM1OTQ2fSwgIm5vbmNlIjogIjQwMjk5NTkxNjY5OTM4NTE2NDEwODE1In0='}}]}, 'presentation_exchange_id': 'ef73a9b3-c8bf-4110-80d5-4eda25c37fed', 'auto_present': False, 'trace': False, 'presentation_request': {'name': 'Proof of Personal Information', 'version': '1.0', 'requested_attributes': {'0_skill_uuid': {'name': 'skill', 'restrictions': [{'issuer_did': 'PQRXDxdGqQGSZ8z69p4xZP'}], 'non_revoked': {'to': 1607535945}}}, 'requested_predicates': {}, 'non_revoked': {'to': 1607535946}, 'nonce': '40299591669938516410815'}, 'initiator': 'self', 'role': 'verifier', 'updated_at': '2020-12-09 17:45:46.974376Z', 'connection_id': 'dc7a71b8-41d3-4720-b36e-cd6856f61bc3', 'thread_id': 'e16c2be3-7ae1-4df6-b25c-bbcbce108396', 'created_at': '2020-12-09 17:45:46.974376Z'}\n",
      "\n",
      "\n",
      "ef73a9b3-c8bf-4110-80d5-4eda25c37fed\n",
      "Handle present proof\n",
      "Role verifier, Exchange ef73a9b3-c8bf-4110-80d5-4eda25c37fed in state request_sent\n",
      "Handle present proof\n",
      "Role verifier, Exchange ef73a9b3-c8bf-4110-80d5-4eda25c37fed in state presentation_received\n"
     ]
    }
   ],
   "source": [
    "response = await agent_controller.wallet.get_public_did()\n",
    "print(response)\n",
    "issuer_did = response[\"result\"][\"did\"]\n",
    "\n",
    "print(\"Request proof of Skill from Bob\")\n",
    "#Set some variables\n",
    "\n",
    "SELF_ATTESTED = True\n",
    "exchange_tracing = False\n",
    "\n",
    "# Either the attribute can be specified to be non revoked\n",
    "req_attrs = [\n",
    "    {\n",
    "        \"name\": \"skill\",\n",
    "        \"restrictions\": [{\"issuer_did\": issuer_did}],\n",
    "        \"non_revoked\": {\"to\": int(time.time() - 1)},\n",
    "    }\n",
    "]\n",
    "\n",
    "\n",
    "\n",
    "indy_proof_request = {\n",
    "    \"name\": \"Proof of Personal Information\",\n",
    "    \"version\": \"1.0\",\n",
    "    \"requested_attributes\": {\n",
    "        f\"0_{req_attr['name']}_uuid\":\n",
    "        req_attr for req_attr in req_attrs\n",
    "    },\n",
    "    \"requested_predicates\": {\n",
    "    },\n",
    "}\n",
    "\n",
    "\n",
    "## Or the overall request itself\n",
    "indy_proof_request[\"non_revoked\"] = {\"to\": int(time.time())}\n",
    "\n",
    "#proof_request = indy_proof_request\n",
    "exchange_tracing_id = exchange_tracing\n",
    "proof_request = {\n",
    "    \"connection_id\": connection_id,\n",
    "    \"proof_request\": indy_proof_request,\n",
    "    \"trace\": exchange_tracing,\n",
    "}\n",
    "\n",
    "response = await agent_controller.proofs.send_request(proof_request)\n",
    "print(response)\n",
    "presentation_exchange_id = response['presentation_exchange_id']\n",
    "print(\"\\n\")\n",
    "print(presentation_exchange_id)"
   ]
  },
  {
   "cell_type": "markdown",
   "metadata": {},
   "source": [
    "## Continue in Bob's notebook to respond to the presentation request"
   ]
  },
  {
   "cell_type": "markdown",
   "metadata": {},
   "source": [
    "## 17. Verify the Presentation"
   ]
  },
  {
   "cell_type": "code",
   "execution_count": 9,
   "metadata": {},
   "outputs": [
    {
     "name": "stdout",
     "output_type": "stream",
     "text": [
      "Handle present proof\n",
      "Role verifier, Exchange ef73a9b3-c8bf-4110-80d5-4eda25c37fed in state verified\n",
      "True\n",
      "0_skill_uuid : revocation\n"
     ]
    }
   ],
   "source": [
    "verify = await agent_controller.proofs.verify_presentation(presentation_exchange_id)\n",
    "print(verify['state'] == 'verified')\n",
    "for (name, val) in verify['presentation']['requested_proof']['revealed_attrs'].items():\n",
    "    ## This is the actual data that you want. It's a little hidden\n",
    "    print(name + \" : \" + val['raw'])"
   ]
  },
  {
   "cell_type": "markdown",
   "metadata": {},
   "source": [
    "## 18. Revoke the Credential"
   ]
  },
  {
   "cell_type": "code",
   "execution_count": 16,
   "metadata": {},
   "outputs": [
    {
     "data": {
      "text/plain": [
       "{'result': {'max_cred_num': 1000,\n",
       "  'issuer_did': 'PQRXDxdGqQGSZ8z69p4xZP',\n",
       "  'tails_public_uri': 'https://a5e208692130.ngrok.io/PQRXDxdGqQGSZ8z69p4xZP:4:PQRXDxdGqQGSZ8z69p4xZP:3:CL:10:default:CL_ACCUM:60dd0fff-44f9-4971-802a-bf5114cc379b',\n",
       "  'state': 'active',\n",
       "  'revoc_reg_id': 'PQRXDxdGqQGSZ8z69p4xZP:4:PQRXDxdGqQGSZ8z69p4xZP:3:CL:10:default:CL_ACCUM:60dd0fff-44f9-4971-802a-bf5114cc379b',\n",
       "  'revoc_def_type': 'CL_ACCUM',\n",
       "  'pending_pub': [],\n",
       "  'record_id': '60dd0fff-44f9-4971-802a-bf5114cc379b',\n",
       "  'revoc_reg_entry': {'ver': '1.0',\n",
       "   'value': {'accum': '21 110C86416DB2D469C83A52FD12496F95051B9F97085D955D712D5A00BECB4B481 21 13FD510CFEB72AD96DBD7E18894190224B09FABF5F839313920320B54C057FCCC 6 74839E0ED76F95F6EFDB4CB670D919F557D1EA51FB27049B6BAEF29DCF7F0D92 4 451E848F716BE55FAD77B2ADD693C90102358CEA41DA0B113593460F0B727D39 6 65E1E7ED9BA5B340A43B2006B976A18BD5D3E5E599A33CEE305E54F8EF24BAC1 4 14B5560549D93ED83DC996AF8DC57D25A7F99164A5B78AD3915094C9A9B829DF'}},\n",
       "  'tails_hash': '8jZjLAjoZGqbNmPm4hVj3vGHiVN9B27x6G5LYHR8m2aZ',\n",
       "  'cred_def_id': 'PQRXDxdGqQGSZ8z69p4xZP:3:CL:10:default',\n",
       "  'revoc_reg_def': {'ver': '1.0',\n",
       "   'id': 'PQRXDxdGqQGSZ8z69p4xZP:4:PQRXDxdGqQGSZ8z69p4xZP:3:CL:10:default:CL_ACCUM:60dd0fff-44f9-4971-802a-bf5114cc379b',\n",
       "   'revocDefType': 'CL_ACCUM',\n",
       "   'tag': '60dd0fff-44f9-4971-802a-bf5114cc379b',\n",
       "   'credDefId': 'PQRXDxdGqQGSZ8z69p4xZP:3:CL:10:default',\n",
       "   'value': {'issuanceType': 'ISSUANCE_BY_DEFAULT',\n",
       "    'maxCredNum': 1000,\n",
       "    'publicKeys': {'accumKey': {'z': '1 0340EBEC942531BCCA98CF13F9C695D5F3153093019F751D4197AC2FB00557AE 1 0E7B58D2F49305C47D83DF5278C13FB5A54E8C8C9D377C8CBAC5E695572B5611 1 1CF4BD0A1D4AB4CBAAD960B320C46790AA940B22A217B5F3F338E6E5275D7DB1 1 13371DE89CA4969A823645803196F92ACDE64D7C8E3493FE194A84F14C505D9E 1 0091FE1AB4AB09DE8720A92EA3D86C5E18E77A25182DA9A7502FDA34446099C2 1 2098DBFA4B7B3BC6909F07AE7C728DB746B2E5FC63FF71A34EF5C46918BAE03F 1 180FD382A187BAA748C77C61C09B91FCAE83183153AE8710243CC0701D988FF0 1 25112A1CB60045AF34AB3ACCC623B553A8AA3D1FD60E9603415C6AA353D76BEA 1 223D28B55236B315A4B1489782092B28E642656A1DE947D267EE7DD1E3B9569E 1 2292E7C035BEA9568A9E141D2B80DF31FADAD033009B2455648DF4463527F7E6 1 0278593DE8EC9C1D6A54CB2C5D32CF9BE8C2341332820E4801668F5039BB137C 1 02202FFDDCD2125AF48B30183BFDE5EB0F6C13F3C1A56160B224F4513400330A'}},\n",
       "    'tailsHash': '8jZjLAjoZGqbNmPm4hVj3vGHiVN9B27x6G5LYHR8m2aZ',\n",
       "    'tailsLocation': 'https://a5e208692130.ngrok.io/PQRXDxdGqQGSZ8z69p4xZP:4:PQRXDxdGqQGSZ8z69p4xZP:3:CL:10:default:CL_ACCUM:60dd0fff-44f9-4971-802a-bf5114cc379b'}},\n",
       "  'tag': '60dd0fff-44f9-4971-802a-bf5114cc379b',\n",
       "  'tails_local_path': '/home/indy/.indy_client/tails/PQRXDxdGqQGSZ8z69p4xZP:4:PQRXDxdGqQGSZ8z69p4xZP:3:CL:10:default:CL_ACCUM:60dd0fff-44f9-4971-802a-bf5114cc379b/8jZjLAjoZGqbNmPm4hVj3vGHiVN9B27x6G5LYHR8m2aZ',\n",
       "  'updated_at': '2020-12-09 17:44:53.858709Z',\n",
       "  'created_at': '2020-12-09 17:44:47.833935Z'}}"
      ]
     },
     "execution_count": 16,
     "metadata": {},
     "output_type": "execute_result"
    }
   ],
   "source": [
    "active_rev_reg = await agent_controller.revocations.get_active_revocation_registry_by_cred_def(cred_def_id)\n",
    "rev_reg_id = active_rev_reg[\"result\"][\"revoc_reg_def\"][\"id\"]\n",
    "rev_reg_id\n",
    "active_rev_reg"
   ]
  },
  {
   "cell_type": "code",
   "execution_count": 13,
   "metadata": {},
   "outputs": [
    {
     "ename": "ClientResponseError",
     "evalue": "422, message='Unprocessable Entity', url=URL('http://alice-agent:8021/revocation/revoke')",
     "output_type": "error",
     "traceback": [
      "\u001b[0;31m---------------------------------------------------------------------------\u001b[0m",
      "\u001b[0;31mClientResponseError\u001b[0m                       Traceback (most recent call last)",
      "\u001b[0;32m<ipython-input-13-9467aed5d31f>\u001b[0m in \u001b[0;36masync-def-wrapper\u001b[0;34m()\u001b[0m\n",
      "\u001b[0;32m/aries_basic_controller/controllers/revocation.py\u001b[0m in \u001b[0;36mrevoke_credential\u001b[0;34m(self, cred_ex_id, cred_rev_id, rev_reg_id, publish)\u001b[0m\n\u001b[1;32m     31\u001b[0m         }\n\u001b[1;32m     32\u001b[0m \u001b[0;34m\u001b[0m\u001b[0m\n\u001b[0;32m---> 33\u001b[0;31m         \u001b[0;32mreturn\u001b[0m \u001b[0;32mawait\u001b[0m \u001b[0mself\u001b[0m\u001b[0;34m.\u001b[0m\u001b[0madmin_POST\u001b[0m\u001b[0;34m(\u001b[0m\u001b[0;34mf\"{self.base_url}/revoke\"\u001b[0m\u001b[0;34m,\u001b[0m \u001b[0mjson_data\u001b[0m\u001b[0;34m=\u001b[0m\u001b[0mreq_body\u001b[0m\u001b[0;34m)\u001b[0m\u001b[0;34m\u001b[0m\u001b[0;34m\u001b[0m\u001b[0m\n\u001b[0m\u001b[1;32m     34\u001b[0m \u001b[0;34m\u001b[0m\u001b[0m\n\u001b[1;32m     35\u001b[0m     \u001b[0;32masync\u001b[0m \u001b[0;32mdef\u001b[0m \u001b[0mpublish_pending_revocations\u001b[0m\u001b[0;34m(\u001b[0m\u001b[0mself\u001b[0m\u001b[0;34m,\u001b[0m \u001b[0mpending_revs\u001b[0m\u001b[0;34m)\u001b[0m\u001b[0;34m:\u001b[0m\u001b[0;34m\u001b[0m\u001b[0;34m\u001b[0m\u001b[0m\n",
      "\u001b[0;32m/aries_basic_controller/controllers/base.py\u001b[0m in \u001b[0;36madmin_POST\u001b[0;34m(self, path, json_data, text, params, data)\u001b[0m\n\u001b[1;32m     93\u001b[0m                 \u001b[0;34m(\u001b[0m\u001b[0;34m\" with data: \\n{}\"\u001b[0m\u001b[0;34m.\u001b[0m\u001b[0mformat\u001b[0m\u001b[0;34m(\u001b[0m\u001b[0mrepr_json\u001b[0m\u001b[0;34m(\u001b[0m\u001b[0mjson_data\u001b[0m\u001b[0;34m)\u001b[0m\u001b[0;34m)\u001b[0m \u001b[0;32mif\u001b[0m \u001b[0mjson_data\u001b[0m \u001b[0;32melse\u001b[0m \u001b[0;34m\"\"\u001b[0m\u001b[0;34m)\u001b[0m\u001b[0;34m,\u001b[0m\u001b[0;34m\u001b[0m\u001b[0;34m\u001b[0m\u001b[0m\n\u001b[1;32m     94\u001b[0m             )\n\u001b[0;32m---> 95\u001b[0;31m             \u001b[0mresponse\u001b[0m \u001b[0;34m=\u001b[0m \u001b[0;32mawait\u001b[0m \u001b[0mself\u001b[0m\u001b[0;34m.\u001b[0m\u001b[0madmin_request\u001b[0m\u001b[0;34m(\u001b[0m\u001b[0;34m\"POST\"\u001b[0m\u001b[0;34m,\u001b[0m \u001b[0mpath\u001b[0m\u001b[0;34m,\u001b[0m \u001b[0mjson_data\u001b[0m\u001b[0;34m,\u001b[0m \u001b[0mtext\u001b[0m\u001b[0;34m,\u001b[0m \u001b[0mparams\u001b[0m\u001b[0;34m,\u001b[0m \u001b[0mdata\u001b[0m\u001b[0;34m)\u001b[0m\u001b[0;34m\u001b[0m\u001b[0;34m\u001b[0m\u001b[0m\n\u001b[0m\u001b[1;32m     96\u001b[0m             EVENT_LOGGER.debug(\n\u001b[1;32m     97\u001b[0m                 \u001b[0;34m\"Response from POST %s received: \\n%s\"\u001b[0m\u001b[0;34m,\u001b[0m\u001b[0;34m\u001b[0m\u001b[0;34m\u001b[0m\u001b[0m\n",
      "\u001b[0;32m/aries_basic_controller/controllers/base.py\u001b[0m in \u001b[0;36madmin_request\u001b[0;34m(self, method, path, json_data, text, params, data)\u001b[0m\n\u001b[1;32m     61\u001b[0m             \u001b[0mmethod\u001b[0m\u001b[0;34m,\u001b[0m \u001b[0mself\u001b[0m\u001b[0;34m.\u001b[0m\u001b[0madmin_url\u001b[0m \u001b[0;34m+\u001b[0m \u001b[0mpath\u001b[0m\u001b[0;34m,\u001b[0m \u001b[0mjson\u001b[0m\u001b[0;34m=\u001b[0m\u001b[0mjson_data\u001b[0m\u001b[0;34m,\u001b[0m \u001b[0mparams\u001b[0m\u001b[0;34m=\u001b[0m\u001b[0mparams\u001b[0m\u001b[0;34m,\u001b[0m \u001b[0mdata\u001b[0m\u001b[0;34m=\u001b[0m\u001b[0mdata\u001b[0m\u001b[0;34m\u001b[0m\u001b[0;34m\u001b[0m\u001b[0m\n\u001b[1;32m     62\u001b[0m         ) as resp:\n\u001b[0;32m---> 63\u001b[0;31m             \u001b[0mresp\u001b[0m\u001b[0;34m.\u001b[0m\u001b[0mraise_for_status\u001b[0m\u001b[0;34m(\u001b[0m\u001b[0;34m)\u001b[0m\u001b[0;34m\u001b[0m\u001b[0;34m\u001b[0m\u001b[0m\n\u001b[0m\u001b[1;32m     64\u001b[0m             \u001b[0mresp_text\u001b[0m \u001b[0;34m=\u001b[0m \u001b[0;32mawait\u001b[0m \u001b[0mresp\u001b[0m\u001b[0;34m.\u001b[0m\u001b[0mtext\u001b[0m\u001b[0;34m(\u001b[0m\u001b[0;34m)\u001b[0m\u001b[0;34m\u001b[0m\u001b[0;34m\u001b[0m\u001b[0m\n\u001b[1;32m     65\u001b[0m             \u001b[0;32mif\u001b[0m \u001b[0;32mnot\u001b[0m \u001b[0mresp_text\u001b[0m \u001b[0;32mand\u001b[0m \u001b[0;32mnot\u001b[0m \u001b[0mtext\u001b[0m\u001b[0;34m:\u001b[0m\u001b[0;34m\u001b[0m\u001b[0;34m\u001b[0m\u001b[0m\n",
      "\u001b[0;32m/opt/conda/lib/python3.7/site-packages/aiohttp/client_reqrep.py\u001b[0m in \u001b[0;36mraise_for_status\u001b[0;34m(self)\u001b[0m\n\u001b[1;32m    944\u001b[0m                 \u001b[0mstatus\u001b[0m\u001b[0;34m=\u001b[0m\u001b[0mself\u001b[0m\u001b[0;34m.\u001b[0m\u001b[0mstatus\u001b[0m\u001b[0;34m,\u001b[0m\u001b[0;34m\u001b[0m\u001b[0;34m\u001b[0m\u001b[0m\n\u001b[1;32m    945\u001b[0m                 \u001b[0mmessage\u001b[0m\u001b[0;34m=\u001b[0m\u001b[0mself\u001b[0m\u001b[0;34m.\u001b[0m\u001b[0mreason\u001b[0m\u001b[0;34m,\u001b[0m\u001b[0;34m\u001b[0m\u001b[0;34m\u001b[0m\u001b[0m\n\u001b[0;32m--> 946\u001b[0;31m                 headers=self.headers)\n\u001b[0m\u001b[1;32m    947\u001b[0m \u001b[0;34m\u001b[0m\u001b[0m\n\u001b[1;32m    948\u001b[0m     \u001b[0;32mdef\u001b[0m \u001b[0m_cleanup_writer\u001b[0m\u001b[0;34m(\u001b[0m\u001b[0mself\u001b[0m\u001b[0;34m)\u001b[0m \u001b[0;34m->\u001b[0m \u001b[0;32mNone\u001b[0m\u001b[0;34m:\u001b[0m\u001b[0;34m\u001b[0m\u001b[0;34m\u001b[0m\u001b[0m\n",
      "\u001b[0;31mClientResponseError\u001b[0m: 422, message='Unprocessable Entity', url=URL('http://alice-agent:8021/revocation/revoke')"
     ]
    },
    {
     "name": "stdout",
     "output_type": "stream",
     "text": [
      "\u001b[0m\u001b[?7h\u001b[0;34mError during POST /revocation/revoke: 422, message='Unprocessable Entity', url=URL('http://alice-agent:8021/revocation/revoke')\u001b[0m\r\n",
      "\u001b[0m"
     ]
    }
   ],
   "source": [
    "response = await agent_controller.revocations.revoke_credential(record_id, \"1\", rev_reg_id, publish=True)"
   ]
  },
  {
   "cell_type": "code",
   "execution_count": null,
   "metadata": {},
   "outputs": [],
   "source": []
  }
 ],
 "metadata": {
  "kernelspec": {
   "display_name": "Python 3",
   "language": "python",
   "name": "python3"
  },
  "language_info": {
   "codemirror_mode": {
    "name": "ipython",
    "version": 3
   },
   "file_extension": ".py",
   "mimetype": "text/x-python",
   "name": "python",
   "nbconvert_exporter": "python",
   "pygments_lexer": "ipython3",
   "version": "3.7.6"
  }
 },
 "nbformat": 4,
 "nbformat_minor": 4
}
