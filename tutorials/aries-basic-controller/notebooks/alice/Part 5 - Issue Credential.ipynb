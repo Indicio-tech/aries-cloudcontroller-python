{
 "cells": [
  {
   "cell_type": "markdown",
   "metadata": {
    "collapsed": true
   },
   "source": [
    "# Issue Credential - Alice\n",
    "## Role: Issuer\n",
    "\n",
    "### This notebook walks through how to issue a credential across a previously established connection. It should be run in parallel with the [Holder notebook](http://127.0.0.1:8889/notebooks/Part%205%20-%20Issue%20Credential.ipynb) controlling the agent receiving the credential.\n",
    "\n",
    "If unfamiliar with the protocol it is worth reading through the [aries-rfs](https://github.com/hyperledger/aries-rfcs/tree/master/features/0036-issue-credential)\n"
   ]
  },
  {
   "cell_type": "markdown",
   "metadata": {},
   "source": [
    "## 1. Initialise a controller for Alice"
   ]
  },
  {
   "cell_type": "code",
   "execution_count": null,
   "metadata": {},
   "outputs": [],
   "source": [
    "%autoawait\n",
    "import time\n",
    "import asyncio\n",
    "from aries_basic_controller.aries_controller import AriesAgentController\n",
    "    \n",
    "WEBHOOK_HOST = \"0.0.0.0\"\n",
    "WEBHOOK_PORT = 8022\n",
    "WEBHOOK_BASE = \"\"\n",
    "ADMIN_URL = \"http://alice-agent:8021\"\n",
    "\n",
    "# WARNING: You should use environment variables for this\n",
    "# TODO: Make env variables accessible through juypter notebooks\n",
    "API_KEY = \"alice_api_123456789\"\n",
    "\n",
    "# Based on the aca-py agent you wish to control\n",
    "agent_controller = AriesAgentController(webhook_host=WEBHOOK_HOST, webhook_port=WEBHOOK_PORT,\n",
    "                                       webhook_base=WEBHOOK_BASE, admin_url=ADMIN_URL, api_key=API_KEY)\n",
    "    "
   ]
  },
  {
   "cell_type": "markdown",
   "metadata": {},
   "source": [
    "## 2. Register Listeners\n",
    "\n",
    "The handler should get called every time the controller receives a webhook with the topic issue_credential, printing out the payload. The agent calls to this webhook every time it receives an issue-credential protocol message from a credential."
   ]
  },
  {
   "cell_type": "code",
   "execution_count": null,
   "metadata": {},
   "outputs": [],
   "source": [
    "loop = asyncio.get_event_loop()\n",
    "loop.create_task(agent_controller.listen_webhooks())\n",
    "\n",
    "def cred_handler(payload):\n",
    "    print(\"Handle Credentials\")\n",
    "    exchange_id = payload['credential_exchange_id']\n",
    "    state = payload['state']\n",
    "    role = payload['role']\n",
    "    attributes = payload['credential_proposal_dict']['credential_proposal']['attributes']\n",
    "    print(f\"Credential exchange {exchange_id}, role: {role}, state: {state}\")\n",
    "    print(f\"Offering: {attributes}\")\n",
    "    \n",
    "cred_listener = {\n",
    "    \"topic\": \"issue_credential\",\n",
    "    \"handler\": cred_handler\n",
    "}\n",
    "agent_controller.register_listeners([cred_listener], defaults=True)\n"
   ]
  },
  {
   "cell_type": "markdown",
   "metadata": {},
   "source": [
    "## 3. Check the agent has an active connection\n",
    "\n",
    "**Note: An active connection is required, this should have been established on start up through the python script create_connection.py in the setup folder. If not it is possible to run through the did-exchange tutorial to create one between Alice and Bob**\n",
    "\n",
    "* [Alice](http://localhost:8888/notebooks/did-exchange-inviter.ipynb)\n",
    "* [Bob](http://localhost:8889/notebooks/did-exchange-invitee.ipynb)"
   ]
  },
  {
   "cell_type": "code",
   "execution_count": null,
   "metadata": {},
   "outputs": [],
   "source": [
    "response = await agent_controller.connections.get_connections()\n",
    "results = response['results']\n",
    "print(\"Results : \", results)\n",
    "if len(results) > 0:\n",
    "    connection = response['results'][0]\n",
    "    print(\"Connection :\", connection)\n",
    "    if connection['state'] == 'active':       \n",
    "        connection_id = connection[\"connection_id\"]\n",
    "        print(\"Active Connection ID : \", connection_id)\n",
    "else:\n",
    "    print(\"You must create a connection\")\n",
    "    \n"
   ]
  },
  {
   "cell_type": "markdown",
   "metadata": {},
   "source": [
    "## 4. Write a Schema to the Ledger\n",
    "\n",
    "For more details see the [schema-api notebook](http://localhost:8888/notebooks/schema_api.ipynb)\n",
    "\n",
    "**Note: You will only be able to do this once unless you change the schema_name or version. Or tear down the current ledger using ./manage down**"
   ]
  },
  {
   "cell_type": "code",
   "execution_count": null,
   "metadata": {},
   "outputs": [
    {
     "name": "stdout",
     "output_type": "stream",
     "text": [
      "PQRXDxdGqQGSZ8z69p4xZP:2:hwrdtm_custom_schema:0.0.1\n"
     ]
    }
   ],
   "source": [
    "# Define you schema name - must be unique on the ledger\n",
    "schema_name = \"hwrdtm_custom_schema\"\n",
    "# Can version the schema if you wish to update it\n",
    "schema_version = \"0.0.1\"\n",
    "# Define any list of attributes you wish to include in your schema\n",
    "attributes = [\"name\", \"skill\", \"age\"]\n",
    "\n",
    "response = await agent_controller.schema.write_schema(schema_name, attributes, schema_version)\n",
    "schema_id = response[\"schema_id\"]\n",
    "print(schema_id)\n"
   ]
  },
  {
   "cell_type": "markdown",
   "metadata": {},
   "source": [
    "## 5. Write a Credential Definition to the Ledger\n",
    "\n",
    "More details in the [definitions notebook](http://localhost:8888/notebooks/definitions_api.ipynb)\n",
    "\n",
    "**Note: Again this can only be done once per issuer, per schema_id.**"
   ]
  },
  {
   "cell_type": "code",
   "execution_count": null,
   "metadata": {},
   "outputs": [
    {
     "name": "stdout",
     "output_type": "stream",
     "text": [
      "PQRXDxdGqQGSZ8z69p4xZP:3:CL:10:default\n"
     ]
    }
   ],
   "source": [
    "response = await agent_controller.definitions.write_cred_def(schema_id, support_revocation=True)\n",
    "\n",
    "cred_def_id = response[\"credential_definition_id\"]\n",
    "print(cred_def_id)"
   ]
  },
  {
   "cell_type": "markdown",
   "metadata": {},
   "source": [
    "**Note: You should be able to see both schema and definition transactions on the local network [here](http://localhost:9000)**"
   ]
  },
  {
   "cell_type": "markdown",
   "metadata": {},
   "source": [
    "## 6. Populate the Attribues to Issue to Bob\n",
    "\n",
    "The schema defines two attributes: name and skill. Both must be populated with attribute values that Alice wishes to issue in a credential to Bob. To do this a list of objects must be created, each object containing the name of the attribute and it's value at a minimum. You can set the values to anything you wish.\n",
    "\n",
    "TODO: Some additional fields such as mime-type can be defined."
   ]
  },
  {
   "cell_type": "code",
   "execution_count": null,
   "metadata": {},
   "outputs": [
    {
     "name": "stdout",
     "output_type": "stream",
     "text": [
      "[{'name': 'name', 'value': 'Bob'}, {'name': 'skill', 'value': 'researcher'}, {'name': 'age', 'value': '1337'}]\n"
     ]
    }
   ],
   "source": [
    "credential_attributes = [\n",
    "    {\"name\": \"name\", \"value\": \"Bob\"},\n",
    "    {\"name\": \"skill\", \"value\": \"researcher\"},\n",
    "    {\"name\": \"age\", \"value\": \"1337\"}\n",
    "]\n",
    "print(credential_attributes)"
   ]
  },
  {
   "cell_type": "markdown",
   "metadata": {},
   "source": [
    "## 7. Continue to the [Holder Notebook](http://localhost:8889/notebooks/holder.ipynb)\n",
    "\n",
    "It works best if this notebook is already initialised and has listeners registered.\n"
   ]
  },
  {
   "cell_type": "markdown",
   "metadata": {},
   "source": [
    "## 9. Send Credential\n",
    "\n",
    "This sends a credential to a holder (Bob), and automates the rest of the protocol.\n",
    "\n",
    "There are other ways to issue a credential that require multiple api calls.\n",
    "\n",
    "**Arguments**\n",
    "* connection_id: The connection_id of the holder you wish to issue to (MUST be in active state)\n",
    "* schema_id: The id of the schema you wish to issue\n",
    "* cred_def_id: The definition (public key) to sign the credential object. This must refer to the schema_id and be written to the ledger by the same public did that is currently being used by the agent.\n",
    "* attributes: A list of attribute objects as defined above. Must match the schema attributes.\n",
    "* comment (optional): Any string, defaults to \"\"\n",
    "* auto_remove (optional): Boolean, defaults to True. I believe this removes the record of this credential once it has been issued. (TODO: double check)\n",
    "* trace (optional): Boolean, defaults to False."
   ]
  },
  {
   "cell_type": "code",
   "execution_count": null,
   "metadata": {},
   "outputs": [],
   "source": [
    "record = await agent_controller.issuer.send_credential(connection_id, schema_id, cred_def_id, credential_attributes, auto_remove=False, trace=True)\n",
    "record_id = record['credential_exchange_id']\n",
    "state = record['state']\n",
    "role = record['role']\n",
    "print(f\"Credential exchange {record_id}, role: {role}, state: {state}\")\n"
   ]
  },
  {
   "cell_type": "code",
   "execution_count": 18,
   "metadata": {},
   "outputs": [
    {
     "data": {
      "text/plain": [
       "{'auto_issue': True,\n",
       " 'credential_exchange_id': '48e966ba-aa16-45e4-91e4-fff5bd64e13b',\n",
       " 'auto_remove': False,\n",
       " 'role': 'issuer',\n",
       " 'connection_id': 'a6f018df-8dd2-4044-b27c-001d3fabb1e5',\n",
       " 'updated_at': '2020-12-01 06:36:50.034986Z',\n",
       " 'auto_offer': False,\n",
       " 'credential_proposal_dict': {'@type': 'did:sov:BzCbsNYhMrjHiqZDTUASHg;spec/issue-credential/1.0/propose-credential',\n",
       "  '@id': '955c7ad2-40d7-4f55-9b92-f03970043bd7',\n",
       "  '~trace': {'target': 'log', 'full_thread': True, 'trace_reports': []},\n",
       "  'schema_name': 'hwrdtm_custom_schema',\n",
       "  'schema_issuer_did': 'PQRXDxdGqQGSZ8z69p4xZP',\n",
       "  'cred_def_id': 'PQRXDxdGqQGSZ8z69p4xZP:3:CL:10:default',\n",
       "  'comment': '',\n",
       "  'credential_proposal': {'@type': 'did:sov:BzCbsNYhMrjHiqZDTUASHg;spec/issue-credential/1.0/credential-preview',\n",
       "   'attributes': [{'name': 'name', 'value': 'Bob'},\n",
       "    {'name': 'skill', 'value': 'researcher'},\n",
       "    {'name': 'age', 'value': '1337'}]},\n",
       "  'issuer_did': 'PQRXDxdGqQGSZ8z69p4xZP',\n",
       "  'schema_id': 'PQRXDxdGqQGSZ8z69p4xZP:2:hwrdtm_custom_schema:0.0.1',\n",
       "  'schema_version': '0.0.1'},\n",
       " 'created_at': '2020-12-01 06:36:50.034986Z',\n",
       " 'state': 'offer_sent',\n",
       " 'thread_id': '4e49e299-5c51-43e5-83ea-ba9089e98428',\n",
       " 'credential_offer_dict': {'@type': 'did:sov:BzCbsNYhMrjHiqZDTUASHg;spec/issue-credential/1.0/offer-credential',\n",
       "  '@id': '4e49e299-5c51-43e5-83ea-ba9089e98428',\n",
       "  '~thread': {},\n",
       "  '~trace': {'target': 'log', 'full_thread': True, 'trace_reports': []},\n",
       "  'offers~attach': [{'@id': 'libindy-cred-offer-0',\n",
       "    'mime-type': 'application/json',\n",
       "    'data': {'base64': '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'}}],\n",
       "  'credential_preview': {'@type': 'did:sov:BzCbsNYhMrjHiqZDTUASHg;spec/issue-credential/1.0/credential-preview',\n",
       "   'attributes': [{'name': 'name', 'value': 'Bob'},\n",
       "    {'name': 'skill', 'value': 'researcher'},\n",
       "    {'name': 'age', 'value': '1337'}]},\n",
       "  'comment': 'create automated credential exchange'},\n",
       " 'initiator': 'self',\n",
       " 'trace': True,\n",
       " 'credential_offer': {'schema_id': 'PQRXDxdGqQGSZ8z69p4xZP:2:hwrdtm_custom_schema:0.0.1',\n",
       "  'cred_def_id': 'PQRXDxdGqQGSZ8z69p4xZP:3:CL:10:default',\n",
       "  'key_correctness_proof': {'c': '102217937624658051061363705342346060583052779618760053013386581635249542005720',\n",
       "   'xz_cap': '547484573007744286870229470721583173532738781187267214211859392743417283433884733694580934958126203959824342481611903971443234012229075043965574956241498009979812279280395347925364229385555329112864716860549794378998431282950918159281452741196843829137537051388002056178529373620191703781599698541858189839699543892034697279769985202190766112185513150692202264545798455741778624181413617677473247362295773090364103940862455942442499048834127087530057256840224632303543372180384879899082749178067029928292184112423144066357735487679628475280765290703352026070826344381555982112316540992045453028460257042432061562621452899292087350190854352586628364279616010267536787395902512084384157067186581',\n",
       "   'xr_cap': [['skill',\n",
       "     '886184287902581728861152685893435720258166371756962300292278069076804856767392594271222614317885763467979558652180718121566949378297595171062193462626024284780217902568859854161824565955404118806710173061099462021155822329574256875692812527921353339826135553977010165629697838623558044997310414261737256708581937796788515564503175090762422101533069452247333134793355638204457553917949856726656883610304280877218248917967632942114479370747720158796505683043303778687739273361700067993630476451326886613764263462669791886193497433338469319260282107378415207367805407531089185123118968969361128245556791887546991008542203299797220900213307330955667176126067378394430556752913872196362825423257475'],\n",
       "    ['age',\n",
       "     '1653789518897319496358010091259825645457265008725101428111915481322300781778541914242916214748697717233509867752537563127550560274572982934728087777517520850163500467235520866923575087673334900058417154279448329564984331548739750388052543038257824368196014443169663575847468604989898333240743399700729273580100575253426100780575616558809892268908774221857682012502637760972528729825066244454507423157744122424089187555016777256464995934178443595665287224367777797116881247590562139345169578277444130903201002348387024076249181749633504235678730395441856309896952124241122730842914451573894187597348259245060616833938897762793548968738486679947871965582835776181399116744554678694352272361384325'],\n",
       "    ['name',\n",
       "     '1633680034591755961276547172853552016558044003760712902140590162844986768345387533527839381061654092034361002952679807937431459130448066153552079490585852419916130985263489202917446519386194623445789132614784801662812448571164730599255856527527047294862390249844544725392444574429603739444481683967027899609763011325247096439868113549218103834833241706357849385731670800008907915284778541032126382091126948559755500962470132418370361399674013701374095276992732813380880824917860071036059118449363687252843599690457328779381394099640997776874710434974844369891410993244698813291054874292301672531678466522361029299825763589884111737765915121296525690785817678905536491786469951554286773513786154'],\n",
       "    ['master_secret',\n",
       "     '755766041077880263794907063583999048619539589471464431789597636812621875345720378700220408401793381901185557858114177608019919644695205434328911321255017829295420107701102594123408650748046124077995692599708393691411363827730322096343612470432686070274246964746716930048448698448350041931035702179488055880528990401490236549400117689159432734526028098921811166943804070402307387891004892592152436651980347526327550629217637024431217660668479939581436281746400582259984290350704596719177034671322756038516313568231923101568849001942426206825580121591459947619261893394715815223447941987986783232601439408737648652893158496577719085256629247892865013839752310430038396934983677569197453881423858']]},\n",
       "  'nonce': '389083438712121081992794'},\n",
       " 'schema_id': 'PQRXDxdGqQGSZ8z69p4xZP:2:hwrdtm_custom_schema:0.0.1',\n",
       " 'credential_definition_id': 'PQRXDxdGqQGSZ8z69p4xZP:3:CL:10:default'}"
      ]
     },
     "execution_count": 18,
     "metadata": {},
     "output_type": "execute_result"
    },
    {
     "name": "stdout",
     "output_type": "stream",
     "text": [
      "Handle Credentials\n",
      "Credential exchange 48e966ba-aa16-45e4-91e4-fff5bd64e13b, role: issuer, state: request_received\n",
      "Offering: [{'name': 'name', 'value': 'Bob'}, {'name': 'skill', 'value': 'researcher'}, {'name': 'age', 'value': '1337'}]\n",
      "Handle Credentials\n",
      "Credential exchange 48e966ba-aa16-45e4-91e4-fff5bd64e13b, role: issuer, state: credential_issued\n",
      "Offering: [{'name': 'name', 'value': 'Bob'}, {'name': 'skill', 'value': 'researcher'}, {'name': 'age', 'value': '1337'}]\n",
      "Handle Credentials\n",
      "Credential exchange 48e966ba-aa16-45e4-91e4-fff5bd64e13b, role: issuer, state: credential_acked\n",
      "Offering: [{'name': 'name', 'value': 'Bob'}, {'name': 'skill', 'value': 'researcher'}, {'name': 'age', 'value': '1337'}]\n"
     ]
    }
   ],
   "source": [
    "record"
   ]
  },
  {
   "cell_type": "markdown",
   "metadata": {},
   "source": [
    "## 10. Continue on Holder Notebook\n",
    "\n"
   ]
  },
  {
   "cell_type": "markdown",
   "metadata": {},
   "source": [
    "## Misc Api Calls (Optional)"
   ]
  },
  {
   "cell_type": "markdown",
   "metadata": {},
   "source": [
    "## Get Credential Exchange Records\n",
    "\n",
    "The state of the protocol is stored in an object called a Credential Exchange. These can be retrieved from the agent either individually by ID or the full list.\n",
    "\n",
    "Each record has a state, representing the stage of the protocol the record is at and a role. Either issuer or holder."
   ]
  },
  {
   "cell_type": "code",
   "execution_count": null,
   "metadata": {},
   "outputs": [],
   "source": [
    "response = await agent_controller.issuer.get_records()\n",
    "print(response['results'])"
   ]
  },
  {
   "cell_type": "code",
   "execution_count": null,
   "metadata": {},
   "outputs": [],
   "source": [
    "cred_record = await agent_controller.issuer.get_record_by_id(record_id)\n",
    "state = cred_record['state']\n",
    "role = cred_record['role']\n",
    "print(f\"Credential exchange {record_id}, role: {role}, state: {state}\")"
   ]
  },
  {
   "cell_type": "markdown",
   "metadata": {},
   "source": [
    "## Remove Credential Exchange\n",
    "\n",
    "It is possible to remove stored credential exchanges from an agent. Typically when you are not interested in the credential being offered, or the credential offer that you have sent has become stale (been ignored?). \n",
    "\n",
    "**Note: For some usecases keeping these exchange records may be very important. E.g. For audit purposes.**"
   ]
  },
  {
   "cell_type": "code",
   "execution_count": null,
   "metadata": {},
   "outputs": [],
   "source": [
    "response = await agent_controller.issuer.remove_record(record_id)\n",
    "print(response)"
   ]
  },
  {
   "cell_type": "code",
   "execution_count": null,
   "metadata": {},
   "outputs": [],
   "source": [
    "response = await agent_controller.issuer.get_records()\n",
    "print(response)"
   ]
  },
  {
   "cell_type": "markdown",
   "metadata": {},
   "source": [
    "### TODO: Document the api calls not used. \n",
    "\n",
    "* Send_offer\n",
    "* send_offer_for_record\n",
    "* issue_credential - If rather than send_credential the notebook used send_offer then the entity controlling the agent (you with this notebook and agent_controller api) would have to explicitly issue the credential to once Bob requested it. With send_credential this part is automated."
   ]
  },
  {
   "cell_type": "markdown",
   "metadata": {},
   "source": [
    "## End of Tutorial\n",
    "\n",
    "Be sure to terminate the controller so you can run another tutorial.\n",
    "\n",
    "There are a few api calls not covered in this tutorial so far. Mostly around credential revocation."
   ]
  },
  {
   "cell_type": "code",
   "execution_count": null,
   "metadata": {},
   "outputs": [],
   "source": [
    "response = await agent_controller.terminate()\n",
    "print(response)"
   ]
  },
  {
   "cell_type": "code",
   "execution_count": null,
   "metadata": {},
   "outputs": [],
   "source": []
  },
  {
   "cell_type": "code",
   "execution_count": null,
   "metadata": {},
   "outputs": [],
   "source": []
  },
  {
   "cell_type": "code",
   "execution_count": 1,
   "metadata": {},
   "outputs": [],
   "source": []
  },
  {
   "cell_type": "code",
   "execution_count": 155,
   "metadata": {},
   "outputs": [
    {
     "data": {
      "text/plain": [
       "{'rev_reg_ids': []}"
      ]
     },
     "execution_count": 155,
     "metadata": {},
     "output_type": "execute_result"
    }
   ],
   "source": [
    "await agent_controller.revocations.get_created_revocation_registries(cred_def_id, \"init\")"
   ]
  },
  {
   "cell_type": "code",
   "execution_count": 6,
   "metadata": {},
   "outputs": [
    {
     "data": {
      "text/plain": [
       "True"
      ]
     },
     "execution_count": 6,
     "metadata": {},
     "output_type": "execute_result"
    }
   ],
   "source": [
    "\"init\" in agent_controller.revocations.revocation_states"
   ]
  },
  {
   "cell_type": "code",
   "execution_count": 143,
   "metadata": {},
   "outputs": [],
   "source": [
    "response = await agent_controller.revocations.create_revocation_registry(cred_def_id, 10)\n",
    "\n",
    "# at this point,  revocation registry has 'active' state."
   ]
  },
  {
   "cell_type": "code",
   "execution_count": 149,
   "metadata": {},
   "outputs": [
    {
     "data": {
      "text/plain": [
       "'PQRXDxdGqQGSZ8z69p4xZP:4:PQRXDxdGqQGSZ8z69p4xZP:3:CL:26:default:CL_ACCUM:debe8f69-f64f-4631-a0bf-895108497d97'"
      ]
     },
     "execution_count": 149,
     "metadata": {},
     "output_type": "execute_result"
    }
   ],
   "source": [
    "rev_reg_id = response[\"result\"][\"revoc_reg_def\"][\"id\"]\n",
    "rev_reg_id"
   ]
  },
  {
   "cell_type": "code",
   "execution_count": 156,
   "metadata": {},
   "outputs": [
    {
     "data": {
      "text/plain": [
       "'PQRXDxdGqQGSZ8z69p4xZP:4:PQRXDxdGqQGSZ8z69p4xZP:3:CL:26:default:CL_ACCUM:2aa7516c-4b40-4310-a4ae-86f3b8d190c1'"
      ]
     },
     "execution_count": 156,
     "metadata": {},
     "output_type": "execute_result"
    }
   ],
   "source": [
    "active_rev_reg = await agent_controller.revocations.get_active_revocation_registry_by_cred_def(cred_def_id)\n",
    "active_rev_reg[\"result\"][\"revoc_reg_def\"][\"id\"]"
   ]
  },
  {
   "cell_type": "code",
   "execution_count": null,
   "metadata": {
    "scrolled": true
   },
   "outputs": [],
   "source": [
    "# TODO: grab from payload above.\n",
    "rev_reg_id = \"PQRXDxdGqQGSZ8z69p4xZP:4:PQRXDxdGqQGSZ8z69p4xZP:3:CL:12:default:CL_ACCUM:3e6cbffc-dd82-46c7-91da-a24e47f0f49a\"\n",
    "await agent_controller.revocations.get_revocation_registry_tails_file(rev_reg_id)"
   ]
  },
  {
   "cell_type": "code",
   "execution_count": 107,
   "metadata": {},
   "outputs": [
    {
     "name": "stdout",
     "output_type": "stream",
     "text": [
      "http://alice-agent:8021/revocation/registry/PQRXDxdGqQGSZ8z69p4xZP:4:PQRXDxdGqQGSZ8z69p4xZP:3:CL:12:default:CL_ACCUM:3e6cbffc-dd82-46c7-91da-a24e47f0f49a/tails-file\n",
      "<CIMultiDictProxy('Content-Type': 'application/octet-stream', 'Last-Modified': 'Mon, 30 Nov 2020 01:32:21 GMT', 'Content-Length': '2690', 'Accept-Ranges': 'bytes', 'Date': 'Mon, 30 Nov 2020 02:47:07 GMT', 'Server': 'Python/3.6 aiohttp/3.6.2')>\n"
     ]
    }
   ],
   "source": [
    "async def thing():\n",
    "    print(f\"{ADMIN_URL}/revocation/registry/{rev_reg_id}/tails-file\")\n",
    "    async with agent_controller.client_session.request(\"GET\", f\"{ADMIN_URL}/revocation/registry/{rev_reg_id}/tails-file\") as resp:\n",
    "        resp.raise_for_status()\n",
    "        b = await resp.read()\n",
    "        print(resp.headers)\n",
    "        return b\n",
    "        \n",
    "bytesArr = await thing()"
   ]
  },
  {
   "cell_type": "raw",
   "metadata": {},
   "source": [
    "print(int(bytesArr,16))"
   ]
  },
  {
   "cell_type": "code",
   "execution_count": 132,
   "metadata": {},
   "outputs": [],
   "source": [
    "cred_ex_id = \"64e451d6-2ef9-47bd-a6f8-28d2dad0ed65\"\n"
   ]
  },
  {
   "cell_type": "code",
   "execution_count": 138,
   "metadata": {},
   "outputs": [],
   "source": [
    "rev_reg_id = \"PQRXDxdGqQGSZ8z69p4xZP:4:PQRXDxdGqQGSZ8z69p4xZP:3:CL:26:default:CL_ACCUM:3909a173-f4bd-4844-bc76-896df52390e3\""
   ]
  },
  {
   "cell_type": "code",
   "execution_count": 139,
   "metadata": {},
   "outputs": [
    {
     "ename": "ClientResponseError",
     "evalue": "422, message='Unprocessable Entity', url=URL('http://alice-agent:8021/revocation/revoke')",
     "output_type": "error",
     "traceback": [
      "\u001b[0;31m---------------------------------------------------------------------------\u001b[0m",
      "\u001b[0;31mClientResponseError\u001b[0m                       Traceback (most recent call last)",
      "\u001b[0;32m<ipython-input-139-b5d4cd0da690>\u001b[0m in \u001b[0;36masync-def-wrapper\u001b[0;34m()\u001b[0m\n",
      "\u001b[0;32m/aries_basic_controller/controllers/revocation.py\u001b[0m in \u001b[0;36mrevoke_credential\u001b[0;34m(self, cred_ex_id, cred_rev_id, rev_reg_id, publish)\u001b[0m\n\u001b[1;32m     31\u001b[0m         }\n\u001b[1;32m     32\u001b[0m \u001b[0;34m\u001b[0m\u001b[0m\n\u001b[0;32m---> 33\u001b[0;31m         \u001b[0;32mreturn\u001b[0m \u001b[0;32mawait\u001b[0m \u001b[0mself\u001b[0m\u001b[0;34m.\u001b[0m\u001b[0madmin_POST\u001b[0m\u001b[0;34m(\u001b[0m\u001b[0;34mf\"{self.base_url}/revoke\"\u001b[0m\u001b[0;34m,\u001b[0m \u001b[0mjson_data\u001b[0m\u001b[0;34m=\u001b[0m\u001b[0mreq_body\u001b[0m\u001b[0;34m)\u001b[0m\u001b[0;34m\u001b[0m\u001b[0;34m\u001b[0m\u001b[0m\n\u001b[0m\u001b[1;32m     34\u001b[0m \u001b[0;34m\u001b[0m\u001b[0m\n\u001b[1;32m     35\u001b[0m     \u001b[0;32masync\u001b[0m \u001b[0;32mdef\u001b[0m \u001b[0mpublish_pending_revocations\u001b[0m\u001b[0;34m(\u001b[0m\u001b[0mself\u001b[0m\u001b[0;34m,\u001b[0m \u001b[0mpending_revs\u001b[0m\u001b[0;34m)\u001b[0m\u001b[0;34m:\u001b[0m\u001b[0;34m\u001b[0m\u001b[0;34m\u001b[0m\u001b[0m\n",
      "\u001b[0;32m/aries_basic_controller/controllers/base.py\u001b[0m in \u001b[0;36madmin_POST\u001b[0;34m(self, path, json_data, text, params, data)\u001b[0m\n\u001b[1;32m     93\u001b[0m                 \u001b[0;34m(\u001b[0m\u001b[0;34m\" with data: \\n{}\"\u001b[0m\u001b[0;34m.\u001b[0m\u001b[0mformat\u001b[0m\u001b[0;34m(\u001b[0m\u001b[0mrepr_json\u001b[0m\u001b[0;34m(\u001b[0m\u001b[0mjson_data\u001b[0m\u001b[0;34m)\u001b[0m\u001b[0;34m)\u001b[0m \u001b[0;32mif\u001b[0m \u001b[0mjson_data\u001b[0m \u001b[0;32melse\u001b[0m \u001b[0;34m\"\"\u001b[0m\u001b[0;34m)\u001b[0m\u001b[0;34m,\u001b[0m\u001b[0;34m\u001b[0m\u001b[0;34m\u001b[0m\u001b[0m\n\u001b[1;32m     94\u001b[0m             )\n\u001b[0;32m---> 95\u001b[0;31m             \u001b[0mresponse\u001b[0m \u001b[0;34m=\u001b[0m \u001b[0;32mawait\u001b[0m \u001b[0mself\u001b[0m\u001b[0;34m.\u001b[0m\u001b[0madmin_request\u001b[0m\u001b[0;34m(\u001b[0m\u001b[0;34m\"POST\"\u001b[0m\u001b[0;34m,\u001b[0m \u001b[0mpath\u001b[0m\u001b[0;34m,\u001b[0m \u001b[0mjson_data\u001b[0m\u001b[0;34m,\u001b[0m \u001b[0mtext\u001b[0m\u001b[0;34m,\u001b[0m \u001b[0mparams\u001b[0m\u001b[0;34m,\u001b[0m \u001b[0mdata\u001b[0m\u001b[0;34m)\u001b[0m\u001b[0;34m\u001b[0m\u001b[0;34m\u001b[0m\u001b[0m\n\u001b[0m\u001b[1;32m     96\u001b[0m             EVENT_LOGGER.debug(\n\u001b[1;32m     97\u001b[0m                 \u001b[0;34m\"Response from POST %s received: \\n%s\"\u001b[0m\u001b[0;34m,\u001b[0m\u001b[0;34m\u001b[0m\u001b[0;34m\u001b[0m\u001b[0m\n",
      "\u001b[0;32m/aries_basic_controller/controllers/base.py\u001b[0m in \u001b[0;36madmin_request\u001b[0;34m(self, method, path, json_data, text, params, data)\u001b[0m\n\u001b[1;32m     61\u001b[0m             \u001b[0mmethod\u001b[0m\u001b[0;34m,\u001b[0m \u001b[0mself\u001b[0m\u001b[0;34m.\u001b[0m\u001b[0madmin_url\u001b[0m \u001b[0;34m+\u001b[0m \u001b[0mpath\u001b[0m\u001b[0;34m,\u001b[0m \u001b[0mjson\u001b[0m\u001b[0;34m=\u001b[0m\u001b[0mjson_data\u001b[0m\u001b[0;34m,\u001b[0m \u001b[0mparams\u001b[0m\u001b[0;34m=\u001b[0m\u001b[0mparams\u001b[0m\u001b[0;34m,\u001b[0m \u001b[0mdata\u001b[0m\u001b[0;34m=\u001b[0m\u001b[0mdata\u001b[0m\u001b[0;34m\u001b[0m\u001b[0;34m\u001b[0m\u001b[0m\n\u001b[1;32m     62\u001b[0m         ) as resp:\n\u001b[0;32m---> 63\u001b[0;31m             \u001b[0mresp\u001b[0m\u001b[0;34m.\u001b[0m\u001b[0mraise_for_status\u001b[0m\u001b[0;34m(\u001b[0m\u001b[0;34m)\u001b[0m\u001b[0;34m\u001b[0m\u001b[0;34m\u001b[0m\u001b[0m\n\u001b[0m\u001b[1;32m     64\u001b[0m             \u001b[0mresp_text\u001b[0m \u001b[0;34m=\u001b[0m \u001b[0;32mawait\u001b[0m \u001b[0mresp\u001b[0m\u001b[0;34m.\u001b[0m\u001b[0mtext\u001b[0m\u001b[0;34m(\u001b[0m\u001b[0;34m)\u001b[0m\u001b[0;34m\u001b[0m\u001b[0;34m\u001b[0m\u001b[0m\n\u001b[1;32m     65\u001b[0m             \u001b[0;32mif\u001b[0m \u001b[0;32mnot\u001b[0m \u001b[0mresp_text\u001b[0m \u001b[0;32mand\u001b[0m \u001b[0;32mnot\u001b[0m \u001b[0mtext\u001b[0m\u001b[0;34m:\u001b[0m\u001b[0;34m\u001b[0m\u001b[0;34m\u001b[0m\u001b[0m\n",
      "\u001b[0;32m/opt/conda/lib/python3.7/site-packages/aiohttp/client_reqrep.py\u001b[0m in \u001b[0;36mraise_for_status\u001b[0;34m(self)\u001b[0m\n\u001b[1;32m    944\u001b[0m                 \u001b[0mstatus\u001b[0m\u001b[0;34m=\u001b[0m\u001b[0mself\u001b[0m\u001b[0;34m.\u001b[0m\u001b[0mstatus\u001b[0m\u001b[0;34m,\u001b[0m\u001b[0;34m\u001b[0m\u001b[0;34m\u001b[0m\u001b[0m\n\u001b[1;32m    945\u001b[0m                 \u001b[0mmessage\u001b[0m\u001b[0;34m=\u001b[0m\u001b[0mself\u001b[0m\u001b[0;34m.\u001b[0m\u001b[0mreason\u001b[0m\u001b[0;34m,\u001b[0m\u001b[0;34m\u001b[0m\u001b[0;34m\u001b[0m\u001b[0m\n\u001b[0;32m--> 946\u001b[0;31m                 headers=self.headers)\n\u001b[0m\u001b[1;32m    947\u001b[0m \u001b[0;34m\u001b[0m\u001b[0m\n\u001b[1;32m    948\u001b[0m     \u001b[0;32mdef\u001b[0m \u001b[0m_cleanup_writer\u001b[0m\u001b[0;34m(\u001b[0m\u001b[0mself\u001b[0m\u001b[0;34m)\u001b[0m \u001b[0;34m->\u001b[0m \u001b[0;32mNone\u001b[0m\u001b[0;34m:\u001b[0m\u001b[0;34m\u001b[0m\u001b[0;34m\u001b[0m\u001b[0m\n",
      "\u001b[0;31mClientResponseError\u001b[0m: 422, message='Unprocessable Entity', url=URL('http://alice-agent:8021/revocation/revoke')"
     ]
    },
    {
     "name": "stdout",
     "output_type": "stream",
     "text": [
      "\u001b[0m\u001b[?7h\u001b[0;34mError during POST /revocation/revoke: 422, message='Unprocessable Entity', url=URL('http://alice-agent:8021/revocation/revoke')\u001b[0m\r\n",
      "\u001b[0m"
     ]
    }
   ],
   "source": [
    "await agent_controller.revocations.revoke_credential(cred_ex_id, \"12345\", rev_reg_id)"
   ]
  },
  {
   "cell_type": "code",
   "execution_count": 140,
   "metadata": {},
   "outputs": [
    {
     "data": {
      "text/plain": [
       "'PQRXDxdGqQGSZ8z69p4xZP:4:PQRXDxdGqQGSZ8z69p4xZP:3:CL:26:default:CL_ACCUM:3909a173-f4bd-4844-bc76-896df52390e3'"
      ]
     },
     "execution_count": 140,
     "metadata": {},
     "output_type": "execute_result"
    }
   ],
   "source": [
    "rev_reg_id"
   ]
  },
  {
   "cell_type": "code",
   "execution_count": 141,
   "metadata": {},
   "outputs": [
    {
     "ename": "ClientResponseError",
     "evalue": "422, message='Unprocessable Entity', url=URL('http://alice-agent:8021/revocation/revoke')",
     "output_type": "error",
     "traceback": [
      "\u001b[0;31m---------------------------------------------------------------------------\u001b[0m",
      "\u001b[0;31mClientResponseError\u001b[0m                       Traceback (most recent call last)",
      "\u001b[0;32m<ipython-input-141-133e37dbf926>\u001b[0m in \u001b[0;36masync-def-wrapper\u001b[0;34m()\u001b[0m\n",
      "\u001b[0;32m/aries_basic_controller/controllers/base.py\u001b[0m in \u001b[0;36madmin_POST\u001b[0;34m(self, path, json_data, text, params, data)\u001b[0m\n\u001b[1;32m     93\u001b[0m                 \u001b[0;34m(\u001b[0m\u001b[0;34m\" with data: \\n{}\"\u001b[0m\u001b[0;34m.\u001b[0m\u001b[0mformat\u001b[0m\u001b[0;34m(\u001b[0m\u001b[0mrepr_json\u001b[0m\u001b[0;34m(\u001b[0m\u001b[0mjson_data\u001b[0m\u001b[0;34m)\u001b[0m\u001b[0;34m)\u001b[0m \u001b[0;32mif\u001b[0m \u001b[0mjson_data\u001b[0m \u001b[0;32melse\u001b[0m \u001b[0;34m\"\"\u001b[0m\u001b[0;34m)\u001b[0m\u001b[0;34m,\u001b[0m\u001b[0;34m\u001b[0m\u001b[0;34m\u001b[0m\u001b[0m\n\u001b[1;32m     94\u001b[0m             )\n\u001b[0;32m---> 95\u001b[0;31m             \u001b[0mresponse\u001b[0m \u001b[0;34m=\u001b[0m \u001b[0;32mawait\u001b[0m \u001b[0mself\u001b[0m\u001b[0;34m.\u001b[0m\u001b[0madmin_request\u001b[0m\u001b[0;34m(\u001b[0m\u001b[0;34m\"POST\"\u001b[0m\u001b[0;34m,\u001b[0m \u001b[0mpath\u001b[0m\u001b[0;34m,\u001b[0m \u001b[0mjson_data\u001b[0m\u001b[0;34m,\u001b[0m \u001b[0mtext\u001b[0m\u001b[0;34m,\u001b[0m \u001b[0mparams\u001b[0m\u001b[0;34m,\u001b[0m \u001b[0mdata\u001b[0m\u001b[0;34m)\u001b[0m\u001b[0;34m\u001b[0m\u001b[0;34m\u001b[0m\u001b[0m\n\u001b[0m\u001b[1;32m     96\u001b[0m             EVENT_LOGGER.debug(\n\u001b[1;32m     97\u001b[0m                 \u001b[0;34m\"Response from POST %s received: \\n%s\"\u001b[0m\u001b[0;34m,\u001b[0m\u001b[0;34m\u001b[0m\u001b[0;34m\u001b[0m\u001b[0m\n",
      "\u001b[0;32m/aries_basic_controller/controllers/base.py\u001b[0m in \u001b[0;36madmin_request\u001b[0;34m(self, method, path, json_data, text, params, data)\u001b[0m\n\u001b[1;32m     61\u001b[0m             \u001b[0mmethod\u001b[0m\u001b[0;34m,\u001b[0m \u001b[0mself\u001b[0m\u001b[0;34m.\u001b[0m\u001b[0madmin_url\u001b[0m \u001b[0;34m+\u001b[0m \u001b[0mpath\u001b[0m\u001b[0;34m,\u001b[0m \u001b[0mjson\u001b[0m\u001b[0;34m=\u001b[0m\u001b[0mjson_data\u001b[0m\u001b[0;34m,\u001b[0m \u001b[0mparams\u001b[0m\u001b[0;34m=\u001b[0m\u001b[0mparams\u001b[0m\u001b[0;34m,\u001b[0m \u001b[0mdata\u001b[0m\u001b[0;34m=\u001b[0m\u001b[0mdata\u001b[0m\u001b[0;34m\u001b[0m\u001b[0;34m\u001b[0m\u001b[0m\n\u001b[1;32m     62\u001b[0m         ) as resp:\n\u001b[0;32m---> 63\u001b[0;31m             \u001b[0mresp\u001b[0m\u001b[0;34m.\u001b[0m\u001b[0mraise_for_status\u001b[0m\u001b[0;34m(\u001b[0m\u001b[0;34m)\u001b[0m\u001b[0;34m\u001b[0m\u001b[0;34m\u001b[0m\u001b[0m\n\u001b[0m\u001b[1;32m     64\u001b[0m             \u001b[0mresp_text\u001b[0m \u001b[0;34m=\u001b[0m \u001b[0;32mawait\u001b[0m \u001b[0mresp\u001b[0m\u001b[0;34m.\u001b[0m\u001b[0mtext\u001b[0m\u001b[0;34m(\u001b[0m\u001b[0;34m)\u001b[0m\u001b[0;34m\u001b[0m\u001b[0;34m\u001b[0m\u001b[0m\n\u001b[1;32m     65\u001b[0m             \u001b[0;32mif\u001b[0m \u001b[0;32mnot\u001b[0m \u001b[0mresp_text\u001b[0m \u001b[0;32mand\u001b[0m \u001b[0;32mnot\u001b[0m \u001b[0mtext\u001b[0m\u001b[0;34m:\u001b[0m\u001b[0;34m\u001b[0m\u001b[0;34m\u001b[0m\u001b[0m\n",
      "\u001b[0;32m/opt/conda/lib/python3.7/site-packages/aiohttp/client_reqrep.py\u001b[0m in \u001b[0;36mraise_for_status\u001b[0;34m(self)\u001b[0m\n\u001b[1;32m    944\u001b[0m                 \u001b[0mstatus\u001b[0m\u001b[0;34m=\u001b[0m\u001b[0mself\u001b[0m\u001b[0;34m.\u001b[0m\u001b[0mstatus\u001b[0m\u001b[0;34m,\u001b[0m\u001b[0;34m\u001b[0m\u001b[0;34m\u001b[0m\u001b[0m\n\u001b[1;32m    945\u001b[0m                 \u001b[0mmessage\u001b[0m\u001b[0;34m=\u001b[0m\u001b[0mself\u001b[0m\u001b[0;34m.\u001b[0m\u001b[0mreason\u001b[0m\u001b[0;34m,\u001b[0m\u001b[0;34m\u001b[0m\u001b[0;34m\u001b[0m\u001b[0m\n\u001b[0;32m--> 946\u001b[0;31m                 headers=self.headers)\n\u001b[0m\u001b[1;32m    947\u001b[0m \u001b[0;34m\u001b[0m\u001b[0m\n\u001b[1;32m    948\u001b[0m     \u001b[0;32mdef\u001b[0m \u001b[0m_cleanup_writer\u001b[0m\u001b[0;34m(\u001b[0m\u001b[0mself\u001b[0m\u001b[0;34m)\u001b[0m \u001b[0;34m->\u001b[0m \u001b[0;32mNone\u001b[0m\u001b[0;34m:\u001b[0m\u001b[0;34m\u001b[0m\u001b[0;34m\u001b[0m\u001b[0m\n",
      "\u001b[0;31mClientResponseError\u001b[0m: 422, message='Unprocessable Entity', url=URL('http://alice-agent:8021/revocation/revoke')"
     ]
    },
    {
     "name": "stdout",
     "output_type": "stream",
     "text": [
      "\u001b[0m\u001b[?7h\u001b[0;34mError during POST /revocation/revoke: 422, message='Unprocessable Entity', url=URL('http://alice-agent:8021/revocation/revoke')\u001b[0m\r\n",
      "\u001b[0m"
     ]
    }
   ],
   "source": [
    "req_body = {\n",
    "    \"cred_ex_id\": cred_ex_id,\n",
    "    \"cred_rev_id\": \"123456\",\n",
    "    \"publish\": True,\n",
    "    \"rev_reg_id\": rev_reg_id\n",
    "}\n",
    "await agent_controller.connections.admin_POST(\"/revocation/revoke\",)"
   ]
  },
  {
   "cell_type": "code",
   "execution_count": null,
   "metadata": {},
   "outputs": [],
   "source": []
  }
 ],
 "metadata": {
  "kernelspec": {
   "display_name": "Python 3",
   "language": "python",
   "name": "python3"
  },
  "language_info": {
   "codemirror_mode": {
    "name": "ipython",
    "version": 3
   },
   "file_extension": ".py",
   "mimetype": "text/x-python",
   "name": "python",
   "nbconvert_exporter": "python",
   "pygments_lexer": "ipython3",
   "version": "3.7.6"
  }
 },
 "nbformat": 4,
 "nbformat_minor": 1
}
