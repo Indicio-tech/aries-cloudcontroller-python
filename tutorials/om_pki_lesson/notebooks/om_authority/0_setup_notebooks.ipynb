{
 "cells": [
  {
   "cell_type": "code",
   "execution_count": 1,
   "id": "reserved-healing",
   "metadata": {},
   "outputs": [],
   "source": [
    "# Import the AriesAgentController class from the library\n",
    "from aries_basic_controller.aries_controller import AriesAgentController\n",
    "\n",
    "# Define the parameters, these should be the same ones uses to initalise the ACA-Py Agent\n",
    "\n",
    "# The location the controller spins up a service and listens for webhooks from the agent\n",
    "WEBHOOK_HOST = \"0.0.0.0\"\n",
    "WEBHOOK_PORT = 8022\n",
    "WEBHOOK_BASE = \"\"\n",
    "# Configures the controller with the correct endpoint to send api requests too\n",
    "ADMIN_URL = \"http://om-authority-agent:8021\"\n",
    "\n",
    "\n",
    "\n",
    "# Instantiate the AriesAgentController using the correct parameters\n",
    "agent_controller = AriesAgentController(webhook_host=WEBHOOK_HOST, webhook_port=WEBHOOK_PORT,\n",
    "                                       webhook_base=WEBHOOK_BASE, admin_url=ADMIN_URL)"
   ]
  },
  {
   "cell_type": "code",
   "execution_count": null,
   "id": "monthly-ranch",
   "metadata": {},
   "outputs": [],
   "source": []
  }
 ],
 "metadata": {
  "kernelspec": {
   "display_name": "Python 3",
   "language": "python",
   "name": "python3"
  },
  "language_info": {
   "codemirror_mode": {
    "name": "ipython",
    "version": 3
   },
   "file_extension": ".py",
   "mimetype": "text/x-python",
   "name": "python",
   "nbconvert_exporter": "python",
   "pygments_lexer": "ipython3",
   "version": "3.8.5"
  }
 },
 "nbformat": 4,
 "nbformat_minor": 5
}
