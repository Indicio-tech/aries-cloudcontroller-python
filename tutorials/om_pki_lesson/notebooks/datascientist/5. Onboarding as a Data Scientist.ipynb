{
 "cells": [
  {
   "cell_type": "markdown",
   "id": "saved-inside",
   "metadata": {},
   "source": [
    "# Onboarding as a Data Scientist\n",
    "\n",
    "This notebook is the Data Scientist view of part 5. You should have already run through steps 1-7 in the OM Authority notebook 5. If you have not done so proceed to port 8888 (either localhost or aws) and complete the steps in notebook `5. Onboarding a Data Scientist` first.\n",
    "\n"
   ]
  },
  {
   "cell_type": "markdown",
   "id": "relevant-century",
   "metadata": {},
   "source": [
    "## 8. Initialising the Data Scientist Controller\n",
    "\n",
    "This is very similar to the code used for the OM Authority accept the arguments used to configure the AriesAgentController are different.\n",
    "\n",
    "The point to the ports and webhook location used when starting the data-scientist-agent ACA-Py instance. You can see these arguments in the `manage` script line 145.\n"
   ]
  },
  {
   "cell_type": "code",
   "execution_count": 1,
   "id": "delayed-street",
   "metadata": {},
   "outputs": [
    {
     "name": "stdout",
     "output_type": "stream",
     "text": [
      "IPython autoawait is `on`, and set to use `asyncio`\n"
     ]
    }
   ],
   "source": [
    "%autoawait\n",
    "import time\n",
    "import asyncio\n",
    "from termcolor import colored,cprint\n",
    "\n",
    "from aries_basic_controller.aries_controller import AriesAgentController\n",
    "    \n",
    "WEBHOOK_HOST = \"0.0.0.0\"\n",
    "WEBHOOK_PORT = 8062\n",
    "WEBHOOK_BASE = \"\"\n",
    "ADMIN_URL = \"http://datascientist-agent:8061\"\n",
    "\n",
    "# Based on the aca-py agent you wish to control\n",
    "agent_controller = AriesAgentController(webhook_host=WEBHOOK_HOST, webhook_port=WEBHOOK_PORT,\n",
    "                                       webhook_base=WEBHOOK_BASE, admin_url=ADMIN_URL)"
   ]
  },
  {
   "cell_type": "markdown",
   "id": "available-reach",
   "metadata": {},
   "source": [
    "## 9. Start Webhook Server and Register Listeners\n",
    "\n",
    "We register listeners for the connections and issue-credential topic as before. However, the output will be slightly different because the Data Scientist is on the other side of the protocol to the OM Authority. We could not see any webhooks from this side before because they were managed by the mobile application you used."
   ]
  },
  {
   "cell_type": "code",
   "execution_count": 2,
   "id": "retained-webster",
   "metadata": {},
   "outputs": [],
   "source": [
    "loop = asyncio.get_event_loop()\n",
    "loop.create_task(agent_controller.listen_webhooks())\n",
    "\n",
    "\n",
    "def cred_handler(payload):\n",
    "    print(\"Handle Credential Webhook Payload\")\n",
    "    exchange_id = payload['credential_exchange_id']\n",
    "    state = payload['state']\n",
    "    role = payload['role']\n",
    "    attributes = payload['credential_proposal_dict']['credential_proposal']['attributes']\n",
    "    print(f\"Credential exchange ID {exchange_id}\")\n",
    "    print(\"Agent Protocol Role\", role)\n",
    "    print(\"Protocol State \", state )\n",
    "    if state == \"offer_recieved\" and role == \"holder\":\n",
    "        print(f\"You are being offered a credential with the following: {attributes}\")\n",
    "    if state == \"credential_acked\":\n",
    "        print(\"Your agent has stored the credential in it's wallet\")\n",
    "    \n",
    "cred_listener = {\n",
    "    \"topic\": \"issue_credential\",\n",
    "    \"handler\": cred_handler\n",
    "}\n",
    "\n",
    "def connections_handler(payload):\n",
    "    print(\"Handle Connection Webhook Payload\")\n",
    "    connection_id = payload[\"connection_id\"]\n",
    "    print(\"Connection ID\", connection_id)\n",
    "\n",
    "    state = payload['state']\n",
    "    print(\"State\", state)\n",
    "    if state == 'active':\n",
    "#         print('Connection {0} changed state to active'.format(connection_id))\n",
    "        print(colored(\"Connection {0} changed state to active\".format(connection_id), \"red\", attrs=[\"bold\"]))\n",
    "\n",
    "\n",
    "connection_listener = {\n",
    "    \"handler\": connections_handler,\n",
    "    \"topic\": \"connections\"\n",
    "}\n",
    "\n",
    "agent_controller.register_listeners([cred_listener,connection_listener], defaults=True)"
   ]
  },
  {
   "cell_type": "markdown",
   "id": "destroyed-louisville",
   "metadata": {},
   "source": [
    "## 10. Copy Invitation from OM Authority\n",
    "\n",
    "You should have **copied** the invitation object output from step 7. in the OM Authority notebook. **First** paste that over the example object shown below, **then** run the cell."
   ]
  },
  {
   "cell_type": "code",
   "execution_count": 3,
   "id": "conservative-marriage",
   "metadata": {},
   "outputs": [],
   "source": [
    "invitation = {'@type': 'did:sov:BzCbsNYhMrjHiqZDTUASHg;spec/connections/1.0/invitation', '@id': '89defcbb-fc28-4c5d-8557-6bd0bce9f3e9', 'recipientKeys': ['GDtyqAt3gPr8a57Tp1GRY698v4Xvhyq95AUhhDye3ASY'], 'serviceEndpoint': 'http://3361a1a6b77f.ngrok.io', 'label': 'OM_AUTHORITY'}"
   ]
  },
  {
   "cell_type": "markdown",
   "id": "unsigned-standing",
   "metadata": {},
   "source": [
    "## 11. Accept the Connection\n",
    "\n",
    "Pay attention to the webhook messages that get output as the datascientist-agent exchanges messages with the om-authority. First messages are from the connections topic handler and then the issue-credential handler.\n",
    "\n",
    "In this instance the Data Scientist agent is configured to accept any credentials it gets offered through a flag passed into the `aca-py start` command.\n",
    "\n",
    "The flags set on all agents in this notebook series can be found at `PyDentity/configuration/aries-args-advanced.yaml`\n",
    "\n",
    "They are:\n",
    "\n",
    "* auto-accept-requests: true\n",
    "* auto-respond-credential-proposal: true\n",
    "* auto-respond-credential-offer: true\n",
    "* auto-respond-credential-request: true\n",
    "* auto-store-credential: true\n",
    "* auto-respond-presentation-proposal: true\n",
    "* auto-respond-presentation-request: true\n",
    "* preserve-exchange-records: true\n",
    "* debug-connections: true\n",
    "* debug-credentials: true\n",
    "* debug-presentations: true\n",
    "* enable-undelivered-queue: true\n"
   ]
  },
  {
   "cell_type": "code",
   "execution_count": 4,
   "id": "human-complement",
   "metadata": {},
   "outputs": [
    {
     "name": "stdout",
     "output_type": "stream",
     "text": [
      "Handle Connection Webhook Payload\n",
      "Connection ID d213bd28-56ca-4693-aafc-fd8813c2fd16\n",
      "State invitation\n",
      "Handle Connection Webhook Payload\n",
      "Connection ID d213bd28-56ca-4693-aafc-fd8813c2fd16\n",
      "State request\n"
     ]
    },
    {
     "data": {
      "text/plain": [
       "{'my_did': 'RKji5snQXeoS1nW9f6uzKw',\n",
       " 'accept': 'manual',\n",
       " 'their_label': 'OM_AUTHORITY',\n",
       " 'connection_id': 'd213bd28-56ca-4693-aafc-fd8813c2fd16',\n",
       " 'request_id': 'e06da8dc-597f-4328-8834-04297a0f34a2',\n",
       " 'invitation_key': 'GDtyqAt3gPr8a57Tp1GRY698v4Xvhyq95AUhhDye3ASY',\n",
       " 'routing_state': 'none',\n",
       " 'invitation_mode': 'once',\n",
       " 'state': 'request',\n",
       " 'created_at': '2021-02-26 18:40:30.770544Z',\n",
       " 'initiator': 'external',\n",
       " 'updated_at': '2021-02-26 18:40:30.859938Z'}"
      ]
     },
     "execution_count": 4,
     "metadata": {},
     "output_type": "execute_result"
    },
    {
     "name": "stdout",
     "output_type": "stream",
     "text": [
      "Handle Connection Webhook Payload\n",
      "Connection ID d213bd28-56ca-4693-aafc-fd8813c2fd16\n",
      "State response\n",
      "Handle Connection Webhook Payload\n",
      "Connection ID d213bd28-56ca-4693-aafc-fd8813c2fd16\n",
      "State active\n",
      "\u001b[1m\u001b[31mConnection d213bd28-56ca-4693-aafc-fd8813c2fd16 changed state to active\u001b[0m\n",
      "Handle Credential Webhook Payload\n",
      "Credential exchange ID 41269735-e7c7-40db-9800-f9f8a506b358\n",
      "Agent Protocol Role holder\n",
      "Protocol State  offer_received\n",
      "Handle Credential Webhook Payload\n",
      "Credential exchange ID 41269735-e7c7-40db-9800-f9f8a506b358\n",
      "Agent Protocol Role holder\n",
      "Protocol State  request_sent\n",
      "Handle Credential Webhook Payload\n",
      "Credential exchange ID 41269735-e7c7-40db-9800-f9f8a506b358\n",
      "Agent Protocol Role holder\n",
      "Protocol State  credential_received\n",
      "Handle Credential Webhook Payload\n",
      "Credential exchange ID 41269735-e7c7-40db-9800-f9f8a506b358\n",
      "Agent Protocol Role holder\n",
      "Protocol State  credential_acked\n",
      "Your agent has stored the credential in it's wallet\n"
     ]
    }
   ],
   "source": [
    "await agent_controller.connections.accept_connection(invitation)"
   ]
  },
  {
   "cell_type": "markdown",
   "id": "aerial-chosen",
   "metadata": {},
   "source": [
    "## 12. Review the output from the webhook listeners in the OM Authority notebook\n",
    "\n",
    "The state from the issue-credential webhook payloads should be slightly different.\n",
    "\n",
    "Don't forget to terminate the AriesAgentController in this tutorial"
   ]
  },
  {
   "cell_type": "code",
   "execution_count": 5,
   "id": "dependent-strap",
   "metadata": {},
   "outputs": [],
   "source": [
    "await agent_controller.terminate()"
   ]
  },
  {
   "cell_type": "markdown",
   "id": "dietary-status",
   "metadata": {},
   "source": [
    "## Continue to Notebook 6.\n",
    "\n",
    "Remember to start in the OM Authority jupyter notebook. We will not be interacting with the data scientist for this set of notebooks."
   ]
  },
  {
   "cell_type": "code",
   "execution_count": null,
   "id": "sufficient-colors",
   "metadata": {},
   "outputs": [],
   "source": []
  }
 ],
 "metadata": {
  "kernelspec": {
   "display_name": "Python 3",
   "language": "python",
   "name": "python3"
  },
  "language_info": {
   "codemirror_mode": {
    "name": "ipython",
    "version": 3
   },
   "file_extension": ".py",
   "mimetype": "text/x-python",
   "name": "python",
   "nbconvert_exporter": "python",
   "pygments_lexer": "ipython3",
   "version": "3.7.6"
  }
 },
 "nbformat": 4,
 "nbformat_minor": 5
}
