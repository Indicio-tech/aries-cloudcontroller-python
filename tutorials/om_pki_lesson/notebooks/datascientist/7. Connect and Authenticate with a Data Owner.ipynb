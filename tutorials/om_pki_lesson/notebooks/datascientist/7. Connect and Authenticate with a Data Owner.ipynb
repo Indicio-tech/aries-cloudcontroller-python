{
 "cells": [
  {
   "cell_type": "markdown",
   "id": "composed-douglas",
   "metadata": {},
   "source": [
    "# Connect and Authenticate with a Data Owner\n",
    "\n",
    "As a Data Scientist, you want to be able to connect with data owners and verify that they actually have the data that you are looking for before engaging in any privacy-preserving machine learning flows.\n",
    "\n",
    "In this notebook you will learn how to do that, requesting the data owner proves that they have a Data Owner credential issued from the OM Authority.\n",
    "\n",
    "**You Should have started with the Data Owner. Port 8889**"
   ]
  },
  {
   "cell_type": "markdown",
   "id": "buried-industry",
   "metadata": {},
   "source": [
    "## 5. Initialise the Data Scientist Controller\n",
    "\n",
    "We will just use the basic controller on it's own in this notebook so this code should feel quite familiar. We will not be managing a list of trusted connections in this notebook, instead we will be focusing on the present-proof protocol in detail."
   ]
  },
  {
   "cell_type": "code",
   "execution_count": 1,
   "id": "damaged-symbol",
   "metadata": {},
   "outputs": [
    {
     "name": "stdout",
     "output_type": "stream",
     "text": [
      "IPython autoawait is `on`, and set to use `asyncio`\n"
     ]
    }
   ],
   "source": [
    "%autoawait\n",
    "import time\n",
    "import asyncio\n",
    "from termcolor import colored,cprint\n",
    "\n",
    "from aries_basic_controller.aries_controller import AriesAgentController\n",
    "    \n",
    "WEBHOOK_HOST = \"0.0.0.0\"\n",
    "WEBHOOK_PORT = 8062\n",
    "WEBHOOK_BASE = \"\"\n",
    "ADMIN_URL = \"http://datascientist-agent:8061\"\n",
    "\n",
    "# Based on the aca-py agent you wish to control\n",
    "agent_controller = AriesAgentController(webhook_host=WEBHOOK_HOST, webhook_port=WEBHOOK_PORT,\n",
    "                                       webhook_base=WEBHOOK_BASE, admin_url=ADMIN_URL)"
   ]
  },
  {
   "cell_type": "markdown",
   "id": "isolated-screw",
   "metadata": {},
   "source": [
    "## 6. Listen to Webhooks and Register Listeners\n",
    "\n",
    "In these listeners we dig into the messages getting communicated between agents as part of the present-proof protocol. Similar to the issue-credential protocol in part 6."
   ]
  },
  {
   "cell_type": "code",
   "execution_count": 2,
   "id": "super-promotion",
   "metadata": {},
   "outputs": [],
   "source": [
    "loop = asyncio.get_event_loop()\n",
    "loop.create_task(agent_controller.listen_webhooks())\n",
    "\n",
    "\n",
    "def proof_handler(payload):\n",
    "    role = payload[\"role\"]\n",
    "    connection_id = payload[\"connection_id\"]\n",
    "    pres_ex_id = payload[\"presentation_exchange_id\"]\n",
    "    state = payload[\"state\"]\n",
    "    print(\"\\n---------------------------------------------------------------------\\n\")\n",
    "    print(\"Handle present-proof\")\n",
    "    print(\"Connection ID : \", connection_id)\n",
    "    print(\"Presentation Exchange ID : \", pres_ex_id)\n",
    "    print(\"Protocol State : \", state)\n",
    "    print(\"Agent Role : \", role)\n",
    "    print(\"Initiator : \", payload[\"initiator\"])\n",
    "    print(\"\\n---------------------------------------------------------------------\\n\")\n",
    "    \n",
    "\n",
    "    if state == \"request_received\":\n",
    "        presentation_request = payload[\"presentation_request\"]\n",
    "        print(\"Recieved Presentation Object\\n\")\n",
    "        print(presentation_request)\n",
    "        print(\"\\nName : \", presentation_request[\"name\"])\n",
    "        print(\"\\nRequested Attributes - Note the restrictions. These limit the credentials we could respond with\\n\")\n",
    "        print(presentation_request[\"requested_attributes\"])\n",
    "        print(\"\\nThere is also a requested_predicates object, which is empty because we did not request any\")\n",
    "        print(\"\\nAnd as with issue credential we have a nonce, which gives the issuer confidence in the liveness of the presentation\\n\")\n",
    "        print(presentation_request[\"nonce\"])\n",
    "    elif state == \"presentation_sent\":\n",
    "        \n",
    "        print(\"The Presentation object is a bit overwhelming. Let's look at it in detail\\n\")\n",
    "        presentation = payload[\"presentation\"]\n",
    "        \n",
    "        print(\"\\nThe Requested Proof object contains revealed, unrevealed, self-attested and predicate attributes\\n\")\n",
    "        print(presentation[\"requested_proof\"])\n",
    "        print(\"\\nThe revealed attributes contains the raw and encoded version of the scope attribute. As well as an index into the proof object we will look at later.\\n\")\n",
    "        print(presentation[\"requested_proof\"][\"revealed_attrs\"])\n",
    "        \n",
    "        print(\"\\nAll identifiers associated with the presentation\")\n",
    "        print(presentation[\"identifiers\"])\n",
    "        \n",
    "        print(\"\\nThen the Proof object - the crypto bit\\n\")\n",
    "        proof = presentation[\"proof\"]\n",
    "        print(proof)\n",
    "        \n",
    "        print(\"\\nThis contains an array of proofs, one element for each attribute disclosed (I think)\\n\")\n",
    "        print(proof[\"proofs\"])\n",
    "        \n",
    "        print(\"\\nEach proof element contains a primary proof and a proof of non-revocation (which will be empty)\\n\")\n",
    "        proof_elem = proof[\"proofs\"][0]\n",
    "        print(proof_elem)\n",
    "        \n",
    "        print(\"\\nEach primary proof contains an eq_proof, which is where all the numbers are for the crypto proving an attribute disclosed really is equal to the one signed\\n\")\n",
    "        print(proof_elem[\"primary_proof\"][\"eq_proof\"])\n",
    "        \n",
    "        print(\"\\nFinally the proofs are combined into a single aggregated proof object\\n\")\n",
    "        print(proof[\"aggregated_proof\"])\n",
    "        \n",
    "        print(\"\\nNotice again the c_hash, this is the challenge for the non-interactive ZKP proof which is verifying this presentation\\n\")\n",
    "        \n",
    "    \n",
    "        \n",
    "        \n",
    "        \n",
    "    elif state == \"presentation_acked\":\n",
    "        print(\"Presentation has been acknowledged by the Issuer\")\n",
    "    elif state == \"request_sent\":\n",
    "        print(\"Presentation Request\\n\")\n",
    "        print(payload[\"presentation_request\"])\n",
    "        print(\"\\nThe presentation request is encoded in base64 and packaged into a DIDComm Message\\n\")\n",
    "        print(payload[\"presentation_request_dict\"])\n",
    "        print(\"\\nNote the type defines the protocol present-proof and the message request-presentation\\n\")\n",
    "        print(payload[\"presentation_request_dict\"][\"type\"])\n",
    "    else: state == \"presentation_received\":\n",
    "        print(\"Presentation Received\")\n",
    "        print(\"We will not go into detail on this payload as it is comparable to the presentation_sent we looked at in the earlier cell.\")\n",
    "        print(\"This is the full payload\\n\")\n",
    "        print(payload)\n",
    "    else:\n",
    "        print(\"Paload \\n\")\n",
    "        print(payload)\n",
    "    \n",
    "\n",
    "proof_listener = {\n",
    "    \"handler\": proof_handler,\n",
    "    \"topic\": \"present_proof\"\n",
    "}   \n",
    "\n",
    "def connections_handler(payload):\n",
    "    print(\"Handle Connection Webhook Payload\")\n",
    "    connection_id = payload[\"connection_id\"]\n",
    "    print(\"Connection ID\", connection_id)\n",
    "\n",
    "    state = payload['state']\n",
    "    print(\"State\", state)\n",
    "    if state == 'active':\n",
    "#         print('Connection {0} changed state to active'.format(connection_id))\n",
    "        print(colored(\"Connection {0} changed state to active\".format(connection_id), \"red\", attrs=[\"bold\"]))\n",
    "\n",
    "\n",
    "connection_listener = {\n",
    "    \"handler\": connections_handler,\n",
    "    \"topic\": \"connections\"\n",
    "}\n",
    "\n",
    "agent_controller.register_listeners([proof_listener,connection_listener], defaults=True)"
   ]
  },
  {
   "cell_type": "markdown",
   "id": "juvenile-guyana",
   "metadata": {},
   "source": [
    "## 7 Accept Invitation from Data Owner"
   ]
  },
  {
   "cell_type": "code",
   "execution_count": 3,
   "id": "lucky-climb",
   "metadata": {},
   "outputs": [],
   "source": [
    "invite = {\"@type\": \"did:sov:BzCbsNYhMrjHiqZDTUASHg;spec/connections/1.0/invitation\", \"@id\": \"2b89de96-4cf8-47d2-a929-171f4753291a\", \"serviceEndpoint\": \"https://9ea612f68482.ngrok.io\", \"recipientKeys\": [\"HgoytrcWsM54fUtTEzRsmZPN7LCdXWKoi5JksYeKgmAD\"], \"label\": \"DATAOWNER\"}"
   ]
  },
  {
   "cell_type": "markdown",
   "id": "organized-complex",
   "metadata": {},
   "source": [
    "### BE SURE TO SCROLL THROUGH THE OUTPUT TO SEE A BREAKDOWN OF THE AGENT MESSAGES EXCHANGED"
   ]
  },
  {
   "cell_type": "code",
   "execution_count": 4,
   "id": "integral-duplicate",
   "metadata": {},
   "outputs": [
    {
     "name": "stdout",
     "output_type": "stream",
     "text": [
      "Handle Connection Webhook Payload\n",
      "Connection ID 486bb470-49af-4caa-b203-799adc7d51a2\n",
      "State invitation\n",
      "Handle Connection Webhook Payload\n",
      "Connection ID 486bb470-49af-4caa-b203-799adc7d51a2\n",
      "State request\n",
      "Handle Connection Webhook Payload\n",
      "Connection ID 486bb470-49af-4caa-b203-799adc7d51a2\n",
      "State response\n",
      "Handle Connection Webhook Payload\n",
      "Connection ID 486bb470-49af-4caa-b203-799adc7d51a2\n",
      "State active\n",
      "\u001b[1m\u001b[31mConnection 486bb470-49af-4caa-b203-799adc7d51a2 changed state to active\u001b[0m\n",
      "\n",
      "---------------------------------------------------------------------\n",
      "\n",
      "Handle present-proof\n",
      "Connection ID :  486bb470-49af-4caa-b203-799adc7d51a2\n",
      "Presentation Exchange ID :  de30e4fc-1928-4248-8b37-78c7c7bbce51\n",
      "Protocol State :  request_received\n",
      "Agent Role :  prover\n",
      "\n",
      "---------------------------------------------------------------------\n",
      "\n",
      "Recieved Presentation Object\n",
      "\n",
      "{'name': 'Proof of Scientist', 'version': '1.0', 'requested_attributes': {'0_scope_uuid': {'name': 'scope', 'restrictions': [{'schema_id': 'Sgg1wREgfEwbEPCQn9xEuE:2:OM Data Scientist:0.0.1'}]}}, 'requested_predicates': {}, 'nonce': '105120304518125410999488'}\n",
      "\n",
      "Name :  Proof of Scientist\n",
      "\n",
      "Requested Attributes - Note the restrictions. These limit the credentials we could respond with\n",
      "\n",
      "{'0_scope_uuid': {'name': 'scope', 'restrictions': [{'schema_id': 'Sgg1wREgfEwbEPCQn9xEuE:2:OM Data Scientist:0.0.1'}]}}\n",
      "\n",
      "There is also a requested_predicates object, which is empty because we did not request any\n",
      "\n",
      "And as with issue credential we have a nonce, which gives the issuer confidence in the liveness of the presentation\n",
      "\n",
      "105120304518125410999488\n",
      "\n",
      "---------------------------------------------------------------------\n",
      "\n",
      "Handle present-proof\n",
      "Connection ID :  486bb470-49af-4caa-b203-799adc7d51a2\n",
      "Presentation Exchange ID :  de30e4fc-1928-4248-8b37-78c7c7bbce51\n",
      "Protocol State :  presentation_sent\n",
      "Agent Role :  prover\n",
      "\n",
      "---------------------------------------------------------------------\n",
      "\n",
      "The Presentation object is a bit overwhelming. Let's look at it in detail\n",
      "\n",
      "\n",
      "The Requested Proof object contains revealed, unrevealed, self-attested and predicate attributes\n",
      "\n",
      "{'revealed_attrs': {'0_scope_uuid': {'sub_proof_index': 0, 'raw': 'Health', 'encoded': '38689563200842676527059703307142261488144249622422333427516415160904487384964'}}, 'self_attested_attrs': {}, 'unrevealed_attrs': {}, 'predicates': {}}\n",
      "\n",
      "The revealed attributes contains the raw and encoded version of the scope attribute. As well as an index into the proof object we will look at later.\n",
      "\n",
      "{'0_scope_uuid': {'sub_proof_index': 0, 'raw': 'Health', 'encoded': '38689563200842676527059703307142261488144249622422333427516415160904487384964'}}\n",
      "\n",
      "All identifiers associated with the presentation\n",
      "[{'schema_id': 'Sgg1wREgfEwbEPCQn9xEuE:2:OM Data Scientist:0.0.1', 'cred_def_id': 'FfFWVVV23CQKbnofJWXdcD:3:CL:188831:default', 'rev_reg_id': None, 'timestamp': None}]\n",
      "\n",
      "Then the Proof object - the crypto bit\n",
      "\n",
      "{'proofs': [{'primary_proof': {'eq_proof': {'revealed_attrs': {'scope': '38689563200842676527059703307142261488144249622422333427516415160904487384964'}, 'a_prime': '5897871158603533727700453678862959224733314547217837163707827024961944935953741136386693198985591281574215903306308990228768102124297055902737997798093902727277160711588125359507880200793494120330844926045899615605988686921932487737403957537926935798143175467770125600906071515957354559078578453761363445520616999549137456525839676081916938726669641391416513220252272446177632816347608289810593988902942354668512196918012611100067785507427817657094530212331862903891165081182688255712683589553904490517095007719218438409165081312697836039432267367408753945086450258336143374226154262200336394430280873326422438613842', 'e': '61360945100556248107093764211972002980040319720704559894514699409635673085994634339090071048465513945282961564099890700692511318793491508', 'v': '810880261325586922736717431373312605299857150282643016664057415316941206370418631061392822979948589029240134690905698073736113995417727100172213664920338852665608115199932543983956188885895916247618746542702585406773919843167569361141100223826609617903809769336335634008421178383494934385484346785288278658439001076597243688170076392071777737834912568290243699610248322085359548224540175400074662511128303636312038982252965280129935021208304889499401506783960970165368220601602581042978948869538890308465052055947084805971926787894874606105355627367569315497801402552274888189456323878819264332086520619024160240432837223005211718483441779845214022478263521879978544351837232753289708342494973198006851486195940413357376024633628732983521986779247450961738371970314543875761364328295957686716481659709836546594268545829995779715995501823569073434564078115226452789472767224954182514345990306259660955563766319425350612391', 'm': {'master_secret': '224705336745806730156992462813725866372170255453593982845170163507063075148618251487413958262123422581717913716678851942089425202995351649444007629320346145210964918721356894282', 'name': '5839063663998778720467167850492978849801463523950695940099223204441645000637792563429218264423755130843988333820706762654731658118624287462250676910120238196932278748661534993659'}, 'm2': '12976616830195017956801026385206182158801343943022006673357810571133550046537429801850639772813429623372392484375981453008380556727478028065468170642799214450298521825809599927913'}, 'ge_proofs': []}, 'non_revoc_proof': None}], 'aggregated_proof': {'c_hash': '68270183244883595675276268218129439920680105062918322782372852391090990883221', 'c_list': [[46, 184, 91, 8, 3, 117, 119, 133, 112, 70, 113, 40, 170, 6, 227, 254, 224, 227, 220, 142, 188, 97, 42, 44, 242, 110, 203, 12, 48, 175, 109, 107, 23, 129, 15, 7, 87, 138, 227, 58, 161, 187, 201, 247, 41, 68, 1, 226, 230, 180, 38, 123, 242, 66, 240, 245, 188, 88, 187, 108, 171, 92, 90, 222, 127, 188, 3, 0, 91, 104, 102, 181, 228, 163, 0, 97, 98, 229, 176, 172, 87, 115, 211, 170, 50, 117, 163, 11, 226, 34, 229, 41, 202, 110, 249, 180, 142, 95, 122, 213, 22, 95, 215, 189, 213, 214, 194, 248, 44, 32, 47, 191, 10, 255, 109, 83, 39, 59, 225, 240, 55, 176, 224, 199, 60, 107, 77, 209, 45, 65, 245, 183, 220, 180, 188, 120, 247, 90, 50, 31, 76, 181, 215, 208, 107, 224, 236, 116, 36, 82, 110, 64, 82, 111, 234, 11, 10, 129, 128, 60, 186, 214, 179, 106, 82, 121, 101, 45, 126, 58, 187, 8, 68, 74, 236, 81, 86, 167, 164, 80, 129, 124, 254, 106, 9, 98, 15, 176, 216, 122, 58, 40, 164, 90, 126, 197, 205, 228, 196, 15, 29, 30, 157, 148, 182, 33, 15, 235, 141, 133, 14, 64, 158, 125, 159, 234, 113, 208, 18, 135, 117, 137, 175, 202, 68, 143, 144, 201, 176, 58, 118, 35, 69, 143, 23, 191, 152, 200, 165, 32, 59, 12, 104, 231, 212, 231, 195, 160, 135, 19, 170, 36, 94, 138, 147, 82]]}}\n",
      "\n",
      "This contains an array of proofs, one element for each attribute disclosed (I think)\n",
      "\n",
      "[{'primary_proof': {'eq_proof': {'revealed_attrs': {'scope': '38689563200842676527059703307142261488144249622422333427516415160904487384964'}, 'a_prime': '5897871158603533727700453678862959224733314547217837163707827024961944935953741136386693198985591281574215903306308990228768102124297055902737997798093902727277160711588125359507880200793494120330844926045899615605988686921932487737403957537926935798143175467770125600906071515957354559078578453761363445520616999549137456525839676081916938726669641391416513220252272446177632816347608289810593988902942354668512196918012611100067785507427817657094530212331862903891165081182688255712683589553904490517095007719218438409165081312697836039432267367408753945086450258336143374226154262200336394430280873326422438613842', 'e': '61360945100556248107093764211972002980040319720704559894514699409635673085994634339090071048465513945282961564099890700692511318793491508', 'v': '810880261325586922736717431373312605299857150282643016664057415316941206370418631061392822979948589029240134690905698073736113995417727100172213664920338852665608115199932543983956188885895916247618746542702585406773919843167569361141100223826609617903809769336335634008421178383494934385484346785288278658439001076597243688170076392071777737834912568290243699610248322085359548224540175400074662511128303636312038982252965280129935021208304889499401506783960970165368220601602581042978948869538890308465052055947084805971926787894874606105355627367569315497801402552274888189456323878819264332086520619024160240432837223005211718483441779845214022478263521879978544351837232753289708342494973198006851486195940413357376024633628732983521986779247450961738371970314543875761364328295957686716481659709836546594268545829995779715995501823569073434564078115226452789472767224954182514345990306259660955563766319425350612391', 'm': {'master_secret': '224705336745806730156992462813725866372170255453593982845170163507063075148618251487413958262123422581717913716678851942089425202995351649444007629320346145210964918721356894282', 'name': '5839063663998778720467167850492978849801463523950695940099223204441645000637792563429218264423755130843988333820706762654731658118624287462250676910120238196932278748661534993659'}, 'm2': '12976616830195017956801026385206182158801343943022006673357810571133550046537429801850639772813429623372392484375981453008380556727478028065468170642799214450298521825809599927913'}, 'ge_proofs': []}, 'non_revoc_proof': None}]\n",
      "\n",
      "Each proof element contains a primary proof and a proof of non-revocation (which will be empty)\n",
      "\n",
      "{'primary_proof': {'eq_proof': {'revealed_attrs': {'scope': '38689563200842676527059703307142261488144249622422333427516415160904487384964'}, 'a_prime': '5897871158603533727700453678862959224733314547217837163707827024961944935953741136386693198985591281574215903306308990228768102124297055902737997798093902727277160711588125359507880200793494120330844926045899615605988686921932487737403957537926935798143175467770125600906071515957354559078578453761363445520616999549137456525839676081916938726669641391416513220252272446177632816347608289810593988902942354668512196918012611100067785507427817657094530212331862903891165081182688255712683589553904490517095007719218438409165081312697836039432267367408753945086450258336143374226154262200336394430280873326422438613842', 'e': '61360945100556248107093764211972002980040319720704559894514699409635673085994634339090071048465513945282961564099890700692511318793491508', 'v': '810880261325586922736717431373312605299857150282643016664057415316941206370418631061392822979948589029240134690905698073736113995417727100172213664920338852665608115199932543983956188885895916247618746542702585406773919843167569361141100223826609617903809769336335634008421178383494934385484346785288278658439001076597243688170076392071777737834912568290243699610248322085359548224540175400074662511128303636312038982252965280129935021208304889499401506783960970165368220601602581042978948869538890308465052055947084805971926787894874606105355627367569315497801402552274888189456323878819264332086520619024160240432837223005211718483441779845214022478263521879978544351837232753289708342494973198006851486195940413357376024633628732983521986779247450961738371970314543875761364328295957686716481659709836546594268545829995779715995501823569073434564078115226452789472767224954182514345990306259660955563766319425350612391', 'm': {'master_secret': '224705336745806730156992462813725866372170255453593982845170163507063075148618251487413958262123422581717913716678851942089425202995351649444007629320346145210964918721356894282', 'name': '5839063663998778720467167850492978849801463523950695940099223204441645000637792563429218264423755130843988333820706762654731658118624287462250676910120238196932278748661534993659'}, 'm2': '12976616830195017956801026385206182158801343943022006673357810571133550046537429801850639772813429623372392484375981453008380556727478028065468170642799214450298521825809599927913'}, 'ge_proofs': []}, 'non_revoc_proof': None}\n",
      "\n",
      "Each primary proof contains an eq_proof, which is where all the numbers are for the crypto proving an attribute disclosed really is equal to the one signed\n",
      "\n",
      "{'revealed_attrs': {'scope': '38689563200842676527059703307142261488144249622422333427516415160904487384964'}, 'a_prime': '5897871158603533727700453678862959224733314547217837163707827024961944935953741136386693198985591281574215903306308990228768102124297055902737997798093902727277160711588125359507880200793494120330844926045899615605988686921932487737403957537926935798143175467770125600906071515957354559078578453761363445520616999549137456525839676081916938726669641391416513220252272446177632816347608289810593988902942354668512196918012611100067785507427817657094530212331862903891165081182688255712683589553904490517095007719218438409165081312697836039432267367408753945086450258336143374226154262200336394430280873326422438613842', 'e': '61360945100556248107093764211972002980040319720704559894514699409635673085994634339090071048465513945282961564099890700692511318793491508', 'v': '810880261325586922736717431373312605299857150282643016664057415316941206370418631061392822979948589029240134690905698073736113995417727100172213664920338852665608115199932543983956188885895916247618746542702585406773919843167569361141100223826609617903809769336335634008421178383494934385484346785288278658439001076597243688170076392071777737834912568290243699610248322085359548224540175400074662511128303636312038982252965280129935021208304889499401506783960970165368220601602581042978948869538890308465052055947084805971926787894874606105355627367569315497801402552274888189456323878819264332086520619024160240432837223005211718483441779845214022478263521879978544351837232753289708342494973198006851486195940413357376024633628732983521986779247450961738371970314543875761364328295957686716481659709836546594268545829995779715995501823569073434564078115226452789472767224954182514345990306259660955563766319425350612391', 'm': {'master_secret': '224705336745806730156992462813725866372170255453593982845170163507063075148618251487413958262123422581717913716678851942089425202995351649444007629320346145210964918721356894282', 'name': '5839063663998778720467167850492978849801463523950695940099223204441645000637792563429218264423755130843988333820706762654731658118624287462250676910120238196932278748661534993659'}, 'm2': '12976616830195017956801026385206182158801343943022006673357810571133550046537429801850639772813429623372392484375981453008380556727478028065468170642799214450298521825809599927913'}\n",
      "\n",
      "Finally the proofs are combined into a single aggregated proof object\n",
      "\n",
      "{'c_hash': '68270183244883595675276268218129439920680105062918322782372852391090990883221', 'c_list': [[46, 184, 91, 8, 3, 117, 119, 133, 112, 70, 113, 40, 170, 6, 227, 254, 224, 227, 220, 142, 188, 97, 42, 44, 242, 110, 203, 12, 48, 175, 109, 107, 23, 129, 15, 7, 87, 138, 227, 58, 161, 187, 201, 247, 41, 68, 1, 226, 230, 180, 38, 123, 242, 66, 240, 245, 188, 88, 187, 108, 171, 92, 90, 222, 127, 188, 3, 0, 91, 104, 102, 181, 228, 163, 0, 97, 98, 229, 176, 172, 87, 115, 211, 170, 50, 117, 163, 11, 226, 34, 229, 41, 202, 110, 249, 180, 142, 95, 122, 213, 22, 95, 215, 189, 213, 214, 194, 248, 44, 32, 47, 191, 10, 255, 109, 83, 39, 59, 225, 240, 55, 176, 224, 199, 60, 107, 77, 209, 45, 65, 245, 183, 220, 180, 188, 120, 247, 90, 50, 31, 76, 181, 215, 208, 107, 224, 236, 116, 36, 82, 110, 64, 82, 111, 234, 11, 10, 129, 128, 60, 186, 214, 179, 106, 82, 121, 101, 45, 126, 58, 187, 8, 68, 74, 236, 81, 86, 167, 164, 80, 129, 124, 254, 106, 9, 98, 15, 176, 216, 122, 58, 40, 164, 90, 126, 197, 205, 228, 196, 15, 29, 30, 157, 148, 182, 33, 15, 235, 141, 133, 14, 64, 158, 125, 159, 234, 113, 208, 18, 135, 117, 137, 175, 202, 68, 143, 144, 201, 176, 58, 118, 35, 69, 143, 23, 191, 152, 200, 165, 32, 59, 12, 104, 231, 212, 231, 195, 160, 135, 19, 170, 36, 94, 138, 147, 82]]}\n",
      "\n",
      "Notice again the c_hash, this is the challenge for the non-interactive ZKP proof which is verifying this presentation\n",
      "\n"
     ]
    },
    {
     "name": "stdout",
     "output_type": "stream",
     "text": [
      "\n",
      "---------------------------------------------------------------------\n",
      "\n",
      "Handle present-proof\n",
      "Connection ID :  486bb470-49af-4caa-b203-799adc7d51a2\n",
      "Presentation Exchange ID :  de30e4fc-1928-4248-8b37-78c7c7bbce51\n",
      "Protocol State :  presentation_acked\n",
      "Agent Role :  prover\n",
      "\n",
      "---------------------------------------------------------------------\n",
      "\n",
      "Presentation has been acknowledged by the Issuer\n"
     ]
    }
   ],
   "source": [
    "response = await agent_controller.connections.accept_connection(invite)\n",
    "\n",
    "connection_id = response[\"connection_id\"]"
   ]
  },
  {
   "cell_type": "markdown",
   "id": "opponent-conservation",
   "metadata": {},
   "source": [
    "## 8. Review the Output in the Data Owner\n",
    "\n",
    "Then come back here to challenge the data owner to prove that they are indeed a dataowner."
   ]
  },
  {
   "cell_type": "markdown",
   "id": "interior-spirit",
   "metadata": {},
   "source": [
    "## 9. Send Challenge to Data Owner\n",
    "\n",
    "As a Data Scientist you want to have confidence that the Data Owner is who they claim to be, that they have the dataset you are looking for and potentially any other number of verifiable information flows.\n",
    "\n",
    "For this tutorial we will just request proof that they have a Data Owner credential from the OM Authority."
   ]
  },
  {
   "cell_type": "markdown",
   "id": "naval-ethics",
   "metadata": {},
   "source": [
    "### 9.1. Define Trusted Issuer\n",
    "\n",
    "You first need to copy the OM Authority DID you registered on the ledger in Notebook 3. Step 8. and use it in the proof request object below."
   ]
  },
  {
   "cell_type": "code",
   "execution_count": 5,
   "id": "convenient-portland",
   "metadata": {},
   "outputs": [],
   "source": [
    "#####################################################\n",
    "## YOU NEED TO CHANGE THIS TO YOUR OM AUTHORITY DID\n",
    "trusted_issuer_did = \"FfFWVVV23CQKbnofJWXdcD\"\n",
    "#####################################################"
   ]
  },
  {
   "cell_type": "markdown",
   "id": "israeli-block",
   "metadata": {},
   "source": [
    "### 9.2. Define Presentation Request Attributes and Constraints"
   ]
  },
  {
   "cell_type": "code",
   "execution_count": 6,
   "id": "devoted-antique",
   "metadata": {},
   "outputs": [
    {
     "name": "stdout",
     "output_type": "stream",
     "text": [
      "{'name': 'Proof of Data Owner', 'version': '1.0', 'requested_attributes': {'0_scope_uuid': {'name': 'scope', 'restrictions': [{'schema_id': 'Sgg1wREgfEwbEPCQn9xEuE:2:OM Data Owner:0.0.1', 'issuer_did': 'FfFWVVV23CQKbnofJWXdcD'}]}, '0_name_uuid': {'name': 'name', 'restrictions': [{'schema_id': 'Sgg1wREgfEwbEPCQn9xEuE:2:OM Data Owner:0.0.1', 'issuer_did': 'FfFWVVV23CQKbnofJWXdcD'}]}}, 'requested_predicates': {}}\n"
     ]
    }
   ],
   "source": [
    "# We add a constraint that the attribute must originate from this schema\n",
    "schema_id = \"Sgg1wREgfEwbEPCQn9xEuE:2:OM Data Owner:0.0.1\"\n",
    "\n",
    "\n",
    "\n",
    "# You could additionally specify the cred_def id you wish. \n",
    "# You would have to copy this from the OM Authority notebook.\n",
    "# cred_def = \"WfntKNFwXMQfgmU9ofbxPM:3:CL:156569:default\"\n",
    "\n",
    "revocation = False\n",
    "exchange_tracing = False\n",
    "\n",
    "# We are the Data Owner for their name and the domain of the data that they have\n",
    "req_attrs = [\n",
    "    {\"name\": \"domain\", \"restrictions\": [{\"schema_id\": schema_id, \"issuer_did\": trusted_issuer_did}]},#, \"cred_def_id\": cred_def}]},\n",
    "    {\"name\": \"name\", \"restrictions\": [{\"schema_id\": schema_id, \"issuer_did\": trusted_issuer_did}]}\n",
    "]\n",
    "\n",
    "# We could extend this to request the name attribute aswell if we wanted.\n",
    "\n",
    "\n",
    "indy_proof_request = {\n",
    "    \"name\": \"Proof of Data Owner\",\n",
    "    \"version\": \"1.0\",\n",
    "    \"requested_attributes\": {\n",
    "        # They must follow this uuid pattern\n",
    "        # Note that req_attr['name'] gets the attribute name of each object. E.g. domain and name in this case\n",
    "        f\"0_{req_attr['name']}_uuid\":\n",
    "        req_attr for req_attr in req_attrs\n",
    "    },\n",
    "    # Predicates allow us to specify range proofs or set membership on attributes. For example greater than 10.\n",
    "    # We will ignore these for now.\n",
    "    \"requested_predicates\": {\n",
    "#         f\"0_{req_pred['name']}_GE_uuid\":\n",
    "#         req_pred for req_pred in req_preds\n",
    "    },\n",
    "}\n",
    "\n",
    "print(indy_proof_request)\n"
   ]
  },
  {
   "cell_type": "markdown",
   "id": "excessive-soviet",
   "metadata": {},
   "source": [
    "### 9.3. Specify Connection ID and Send Request\n",
    "\n",
    "**AGAIN, MAKE SURE YOU SCROLL THROUGH THE OUTPUT TO SEE THE PRESENTATION PROTOCOL FROM THE VERIFIER SIDE**"
   ]
  },
  {
   "cell_type": "code",
   "execution_count": 7,
   "id": "powerful-shoot",
   "metadata": {},
   "outputs": [
    {
     "name": "stdout",
     "output_type": "stream",
     "text": [
      "\n",
      "---------------------------------------------------------------------\n",
      "\n",
      "Handle present-proof\n",
      "Connection ID :  486bb470-49af-4caa-b203-799adc7d51a2\n",
      "Presentation Exchange ID :  03cc6b8f-1459-4833-b3a2-b22af74b74c7\n",
      "Protocol State :  request_sent\n",
      "Agent Role :  verifier\n",
      "\n",
      "---------------------------------------------------------------------\n",
      "\n",
      "Paload \n",
      "\n",
      "{'role': 'verifier', 'trace': False, 'connection_id': '486bb470-49af-4caa-b203-799adc7d51a2', 'thread_id': 'd8976b68-0518-420b-9596-0bc8c6f6d85c', 'presentation_exchange_id': '03cc6b8f-1459-4833-b3a2-b22af74b74c7', 'auto_present': False, 'presentation_request_dict': {'@type': 'did:sov:BzCbsNYhMrjHiqZDTUASHg;spec/present-proof/1.0/request-presentation', '@id': 'd8976b68-0518-420b-9596-0bc8c6f6d85c', 'request_presentations~attach': [{'@id': 'libindy-request-presentation-0', 'mime-type': 'application/json', 'data': {'base64': 'eyJuYW1lIjogIlByb29mIG9mIERhdGEgT3duZXIiLCAidmVyc2lvbiI6ICIxLjAiLCAicmVxdWVzdGVkX2F0dHJpYnV0ZXMiOiB7IjBfc2NvcGVfdXVpZCI6IHsibmFtZSI6ICJzY29wZSIsICJyZXN0cmljdGlvbnMiOiBbeyJzY2hlbWFfaWQiOiAiU2dnMXdSRWdmRXdiRVBDUW45eEV1RToyOk9NIERhdGEgT3duZXI6MC4wLjEiLCAiaXNzdWVyX2RpZCI6ICJGZkZXVlZWMjNDUUtibm9mSldYZGNEIn1dfSwgIjBfbmFtZV91dWlkIjogeyJuYW1lIjogIm5hbWUiLCAicmVzdHJpY3Rpb25zIjogW3sic2NoZW1hX2lkIjogIlNnZzF3UkVnZkV3YkVQQ1FuOXhFdUU6MjpPTSBEYXRhIE93bmVyOjAuMC4xIiwgImlzc3Vlcl9kaWQiOiAiRmZGV1ZWVjIzQ1FLYm5vZkpXWGRjRCJ9XX19LCAicmVxdWVzdGVkX3ByZWRpY2F0ZXMiOiB7fSwgIm5vbmNlIjogIjc0NTU1MDQ0OTAwODYwMDUxMjI4NDA1In0='}}]}, 'state': 'request_sent', 'presentation_request': {'name': 'Proof of Data Owner', 'version': '1.0', 'requested_attributes': {'0_scope_uuid': {'name': 'scope', 'restrictions': [{'schema_id': 'Sgg1wREgfEwbEPCQn9xEuE:2:OM Data Owner:0.0.1', 'issuer_did': 'FfFWVVV23CQKbnofJWXdcD'}]}, '0_name_uuid': {'name': 'name', 'restrictions': [{'schema_id': 'Sgg1wREgfEwbEPCQn9xEuE:2:OM Data Owner:0.0.1', 'issuer_did': 'FfFWVVV23CQKbnofJWXdcD'}]}}, 'requested_predicates': {}, 'nonce': '74555044900860051228405'}, 'created_at': '2021-02-26 18:44:33.689934Z', 'initiator': 'self', 'updated_at': '2021-02-26 18:44:33.689934Z'}\n",
      "\n",
      "---------------------------------------------------------------------\n",
      "\n",
      "Handle present-proof\n",
      "Connection ID :  486bb470-49af-4caa-b203-799adc7d51a2\n",
      "Presentation Exchange ID :  03cc6b8f-1459-4833-b3a2-b22af74b74c7\n",
      "Protocol State :  presentation_received\n",
      "Agent Role :  verifier\n",
      "\n",
      "---------------------------------------------------------------------\n",
      "\n",
      "Paload \n",
      "\n",
      "{'presentation': {'proof': {'proofs': [{'primary_proof': {'eq_proof': {'revealed_attrs': {'name': '59549971801270289573361438073003509582566720450232075452598086000318549451861'}, 'a_prime': '6320707171260300897841683115371747792522064613680276177603877358677342729802594012122117199241778468614237669503906086927334402830933245102139291435610170508868669162678755060589669442152043473184016197557195397946701442834737111824247530100075594143725583505617481042118210633518022133786261572705198279724173881393021790866973010110185030594276910617286151421292833932641107490056816412627892003856036742708377860983501647222403606883851249094579617626999806045412797085318616508184387356863886295512255849710070507784145512414041037007032987247503461911190532600639232815957399180773076489971142353389057228546271', 'e': '161043352167214632283574071704081998912048590898738029303517154021837412875985310857640205942729133764514253996344475776764169023837861332', 'v': '1322433121478318656843358615088211205334067405523954833340832498600719568533638052926957605714496372408994531146392666768897182055615137450021283060269734934056759778313227149726748038438049522538583148353372032950812808961961244797902289806717000940066678043481564456861703978272720665520835631045140856259143890402984495535624498896562913177933309859780141120418897904217495443771986240587109637746514198029929108224722053608478280373813123761950250122884981097767506062512401503785778197561362319706865226090616838709541851689966333034305101138938761274454257272806973310216890704910130519011485893903113028915877255517126805080833506977703038422203617745918614205791926033445967277723353207908617392401267090572803010302313795526659212766553811029672677991990094699198141778107653959693717977607304948270667969416376868867199561446729296037269994865982692447937865868835669994904114794972748784637780910813830484412151', 'm': {'master_secret': '7179711399500600026213268764127452600632342466991237315540768053492581270162693543704355766110429754926828841891955299929113601679871375356812636059145776428307431422485098702214', 'domain': '8726735497824933822310643956314725708070444633878646552520121914211716007204870611120894172795994438677450253633248736488049222159773055007011973452281722440979007133057670084170'}, 'm2': '9219460135833396677697682519799101253733612944077370215537097664172654166275530793713622479066696501547828328575645869510715247686139297556677858252495840971943798302914521485790'}, 'ge_proofs': []}, 'non_revoc_proof': None}], 'aggregated_proof': {'c_hash': '63663556829243523892197614376180938963496657532317300090029990955061930305126', 'c_list': [[50, 17, 212, 72, 173, 173, 134, 92, 148, 158, 19, 64, 174, 162, 187, 162, 85, 161, 109, 255, 158, 108, 182, 167, 66, 193, 90, 85, 171, 126, 135, 170, 229, 192, 242, 129, 56, 248, 10, 102, 112, 205, 14, 238, 188, 15, 250, 186, 67, 106, 195, 149, 99, 206, 61, 246, 224, 239, 208, 203, 235, 216, 101, 233, 177, 178, 97, 175, 29, 19, 141, 222, 127, 18, 187, 202, 78, 179, 122, 199, 36, 237, 228, 226, 112, 17, 192, 49, 250, 222, 136, 224, 41, 142, 165, 148, 21, 73, 238, 239, 211, 255, 209, 90, 214, 254, 37, 188, 32, 94, 170, 143, 47, 164, 150, 206, 6, 30, 29, 37, 181, 185, 77, 34, 112, 138, 58, 109, 88, 122, 173, 5, 116, 172, 128, 227, 229, 75, 127, 146, 217, 137, 147, 14, 232, 225, 69, 47, 108, 109, 103, 168, 66, 150, 237, 91, 179, 217, 208, 178, 11, 180, 46, 224, 109, 12, 232, 254, 84, 176, 203, 154, 63, 100, 75, 145, 98, 90, 112, 194, 54, 179, 66, 248, 20, 180, 86, 140, 218, 22, 26, 48, 3, 37, 49, 184, 61, 155, 135, 115, 207, 86, 148, 42, 30, 163, 67, 179, 17, 54, 127, 130, 135, 77, 77, 242, 135, 130, 72, 160, 167, 19, 166, 128, 35, 199, 158, 41, 195, 252, 144, 79, 35, 4, 198, 64, 105, 110, 155, 24, 15, 63, 160, 176, 197, 192, 249, 35, 1, 51, 0, 108, 146, 246, 32, 223]]}}, 'requested_proof': {'revealed_attrs': {'0_name_uuid': {'sub_proof_index': 0, 'raw': 'Wip', 'encoded': '59549971801270289573361438073003509582566720450232075452598086000318549451861'}}, 'self_attested_attrs': {}, 'unrevealed_attrs': {}, 'predicates': {}}, 'identifiers': [{'schema_id': 'Sgg1wREgfEwbEPCQn9xEuE:2:OM Data Owner:0.0.1', 'cred_def_id': 'FfFWVVV23CQKbnofJWXdcD:3:CL:188835:default', 'rev_reg_id': None, 'timestamp': None}]}, 'role': 'verifier', 'trace': False, 'connection_id': '486bb470-49af-4caa-b203-799adc7d51a2', 'thread_id': 'd8976b68-0518-420b-9596-0bc8c6f6d85c', 'presentation_exchange_id': '03cc6b8f-1459-4833-b3a2-b22af74b74c7', 'auto_present': False, 'presentation_request_dict': {'@type': 'did:sov:BzCbsNYhMrjHiqZDTUASHg;spec/present-proof/1.0/request-presentation', '@id': 'd8976b68-0518-420b-9596-0bc8c6f6d85c', 'request_presentations~attach': [{'@id': 'libindy-request-presentation-0', 'mime-type': 'application/json', 'data': {'base64': 'eyJuYW1lIjogIlByb29mIG9mIERhdGEgT3duZXIiLCAidmVyc2lvbiI6ICIxLjAiLCAicmVxdWVzdGVkX2F0dHJpYnV0ZXMiOiB7IjBfc2NvcGVfdXVpZCI6IHsibmFtZSI6ICJzY29wZSIsICJyZXN0cmljdGlvbnMiOiBbeyJzY2hlbWFfaWQiOiAiU2dnMXdSRWdmRXdiRVBDUW45eEV1RToyOk9NIERhdGEgT3duZXI6MC4wLjEiLCAiaXNzdWVyX2RpZCI6ICJGZkZXVlZWMjNDUUtibm9mSldYZGNEIn1dfSwgIjBfbmFtZV91dWlkIjogeyJuYW1lIjogIm5hbWUiLCAicmVzdHJpY3Rpb25zIjogW3sic2NoZW1hX2lkIjogIlNnZzF3UkVnZkV3YkVQQ1FuOXhFdUU6MjpPTSBEYXRhIE93bmVyOjAuMC4xIiwgImlzc3Vlcl9kaWQiOiAiRmZGV1ZWVjIzQ1FLYm5vZkpXWGRjRCJ9XX19LCAicmVxdWVzdGVkX3ByZWRpY2F0ZXMiOiB7fSwgIm5vbmNlIjogIjc0NTU1MDQ0OTAwODYwMDUxMjI4NDA1In0='}}]}, 'state': 'presentation_received', 'presentation_request': {'name': 'Proof of Data Owner', 'version': '1.0', 'requested_attributes': {'0_scope_uuid': {'name': 'scope', 'restrictions': [{'schema_id': 'Sgg1wREgfEwbEPCQn9xEuE:2:OM Data Owner:0.0.1', 'issuer_did': 'FfFWVVV23CQKbnofJWXdcD'}]}, '0_name_uuid': {'name': 'name', 'restrictions': [{'schema_id': 'Sgg1wREgfEwbEPCQn9xEuE:2:OM Data Owner:0.0.1', 'issuer_did': 'FfFWVVV23CQKbnofJWXdcD'}]}}, 'requested_predicates': {}, 'nonce': '74555044900860051228405'}, 'created_at': '2021-02-26 18:44:33.689934Z', 'initiator': 'self', 'updated_at': '2021-02-26 18:44:35.375768Z'}\n"
     ]
    }
   ],
   "source": [
    "proof_request_web_request = {\n",
    "    \"connection_id\": connection_id,\n",
    "    \"proof_request\": indy_proof_request,\n",
    "    \"trace\": False\n",
    "}\n",
    "\n",
    "# Send proof request\n",
    "response = await agent_controller.proofs.send_request(proof_request_web_request)"
   ]
  },
  {
   "cell_type": "markdown",
   "id": "tribal-pipeline",
   "metadata": {},
   "source": [
    "## 10. Verify the Presentation\n",
    "\n",
    "Once a presentation has been received you still need to request your agent verify the cryptography to ensure the integrity of the information presented."
   ]
  },
  {
   "cell_type": "code",
   "execution_count": 8,
   "id": "radio-danish",
   "metadata": {},
   "outputs": [
    {
     "name": "stdout",
     "output_type": "stream",
     "text": [
      "\n",
      "---------------------------------------------------------------------\n",
      "\n",
      "Handle present-proof\n",
      "Connection ID :  486bb470-49af-4caa-b203-799adc7d51a2\n",
      "Presentation Exchange ID :  03cc6b8f-1459-4833-b3a2-b22af74b74c7\n",
      "Protocol State :  verified\n",
      "Agent Role :  verifier\n",
      "\n",
      "---------------------------------------------------------------------\n",
      "\n",
      "Paload \n",
      "\n",
      "{'presentation': {'proof': {'proofs': [{'primary_proof': {'eq_proof': {'revealed_attrs': {'name': '59549971801270289573361438073003509582566720450232075452598086000318549451861'}, 'a_prime': '6320707171260300897841683115371747792522064613680276177603877358677342729802594012122117199241778468614237669503906086927334402830933245102139291435610170508868669162678755060589669442152043473184016197557195397946701442834737111824247530100075594143725583505617481042118210633518022133786261572705198279724173881393021790866973010110185030594276910617286151421292833932641107490056816412627892003856036742708377860983501647222403606883851249094579617626999806045412797085318616508184387356863886295512255849710070507784145512414041037007032987247503461911190532600639232815957399180773076489971142353389057228546271', 'e': '161043352167214632283574071704081998912048590898738029303517154021837412875985310857640205942729133764514253996344475776764169023837861332', 'v': '1322433121478318656843358615088211205334067405523954833340832498600719568533638052926957605714496372408994531146392666768897182055615137450021283060269734934056759778313227149726748038438049522538583148353372032950812808961961244797902289806717000940066678043481564456861703978272720665520835631045140856259143890402984495535624498896562913177933309859780141120418897904217495443771986240587109637746514198029929108224722053608478280373813123761950250122884981097767506062512401503785778197561362319706865226090616838709541851689966333034305101138938761274454257272806973310216890704910130519011485893903113028915877255517126805080833506977703038422203617745918614205791926033445967277723353207908617392401267090572803010302313795526659212766553811029672677991990094699198141778107653959693717977607304948270667969416376868867199561446729296037269994865982692447937865868835669994904114794972748784637780910813830484412151', 'm': {'master_secret': '7179711399500600026213268764127452600632342466991237315540768053492581270162693543704355766110429754926828841891955299929113601679871375356812636059145776428307431422485098702214', 'domain': '8726735497824933822310643956314725708070444633878646552520121914211716007204870611120894172795994438677450253633248736488049222159773055007011973452281722440979007133057670084170'}, 'm2': '9219460135833396677697682519799101253733612944077370215537097664172654166275530793713622479066696501547828328575645869510715247686139297556677858252495840971943798302914521485790'}, 'ge_proofs': []}, 'non_revoc_proof': None}], 'aggregated_proof': {'c_hash': '63663556829243523892197614376180938963496657532317300090029990955061930305126', 'c_list': [[50, 17, 212, 72, 173, 173, 134, 92, 148, 158, 19, 64, 174, 162, 187, 162, 85, 161, 109, 255, 158, 108, 182, 167, 66, 193, 90, 85, 171, 126, 135, 170, 229, 192, 242, 129, 56, 248, 10, 102, 112, 205, 14, 238, 188, 15, 250, 186, 67, 106, 195, 149, 99, 206, 61, 246, 224, 239, 208, 203, 235, 216, 101, 233, 177, 178, 97, 175, 29, 19, 141, 222, 127, 18, 187, 202, 78, 179, 122, 199, 36, 237, 228, 226, 112, 17, 192, 49, 250, 222, 136, 224, 41, 142, 165, 148, 21, 73, 238, 239, 211, 255, 209, 90, 214, 254, 37, 188, 32, 94, 170, 143, 47, 164, 150, 206, 6, 30, 29, 37, 181, 185, 77, 34, 112, 138, 58, 109, 88, 122, 173, 5, 116, 172, 128, 227, 229, 75, 127, 146, 217, 137, 147, 14, 232, 225, 69, 47, 108, 109, 103, 168, 66, 150, 237, 91, 179, 217, 208, 178, 11, 180, 46, 224, 109, 12, 232, 254, 84, 176, 203, 154, 63, 100, 75, 145, 98, 90, 112, 194, 54, 179, 66, 248, 20, 180, 86, 140, 218, 22, 26, 48, 3, 37, 49, 184, 61, 155, 135, 115, 207, 86, 148, 42, 30, 163, 67, 179, 17, 54, 127, 130, 135, 77, 77, 242, 135, 130, 72, 160, 167, 19, 166, 128, 35, 199, 158, 41, 195, 252, 144, 79, 35, 4, 198, 64, 105, 110, 155, 24, 15, 63, 160, 176, 197, 192, 249, 35, 1, 51, 0, 108, 146, 246, 32, 223]]}}, 'requested_proof': {'revealed_attrs': {'0_name_uuid': {'sub_proof_index': 0, 'raw': 'Wip', 'encoded': '59549971801270289573361438073003509582566720450232075452598086000318549451861'}}, 'self_attested_attrs': {}, 'unrevealed_attrs': {}, 'predicates': {}}, 'identifiers': [{'schema_id': 'Sgg1wREgfEwbEPCQn9xEuE:2:OM Data Owner:0.0.1', 'cred_def_id': 'FfFWVVV23CQKbnofJWXdcD:3:CL:188835:default', 'rev_reg_id': None, 'timestamp': None}]}, 'role': 'verifier', 'trace': False, 'connection_id': '486bb470-49af-4caa-b203-799adc7d51a2', 'thread_id': 'd8976b68-0518-420b-9596-0bc8c6f6d85c', 'presentation_exchange_id': '03cc6b8f-1459-4833-b3a2-b22af74b74c7', 'auto_present': False, 'verified': 'false', 'presentation_request_dict': {'@type': 'did:sov:BzCbsNYhMrjHiqZDTUASHg;spec/present-proof/1.0/request-presentation', '@id': 'd8976b68-0518-420b-9596-0bc8c6f6d85c', 'request_presentations~attach': [{'@id': 'libindy-request-presentation-0', 'mime-type': 'application/json', 'data': {'base64': 'eyJuYW1lIjogIlByb29mIG9mIERhdGEgT3duZXIiLCAidmVyc2lvbiI6ICIxLjAiLCAicmVxdWVzdGVkX2F0dHJpYnV0ZXMiOiB7IjBfc2NvcGVfdXVpZCI6IHsibmFtZSI6ICJzY29wZSIsICJyZXN0cmljdGlvbnMiOiBbeyJzY2hlbWFfaWQiOiAiU2dnMXdSRWdmRXdiRVBDUW45eEV1RToyOk9NIERhdGEgT3duZXI6MC4wLjEiLCAiaXNzdWVyX2RpZCI6ICJGZkZXVlZWMjNDUUtibm9mSldYZGNEIn1dfSwgIjBfbmFtZV91dWlkIjogeyJuYW1lIjogIm5hbWUiLCAicmVzdHJpY3Rpb25zIjogW3sic2NoZW1hX2lkIjogIlNnZzF3UkVnZkV3YkVQQ1FuOXhFdUU6MjpPTSBEYXRhIE93bmVyOjAuMC4xIiwgImlzc3Vlcl9kaWQiOiAiRmZGV1ZWVjIzQ1FLYm5vZkpXWGRjRCJ9XX19LCAicmVxdWVzdGVkX3ByZWRpY2F0ZXMiOiB7fSwgIm5vbmNlIjogIjc0NTU1MDQ0OTAwODYwMDUxMjI4NDA1In0='}}]}, 'state': 'verified', 'presentation_request': {'name': 'Proof of Data Owner', 'version': '1.0', 'requested_attributes': {'0_scope_uuid': {'name': 'scope', 'restrictions': [{'schema_id': 'Sgg1wREgfEwbEPCQn9xEuE:2:OM Data Owner:0.0.1', 'issuer_did': 'FfFWVVV23CQKbnofJWXdcD'}]}, '0_name_uuid': {'name': 'name', 'restrictions': [{'schema_id': 'Sgg1wREgfEwbEPCQn9xEuE:2:OM Data Owner:0.0.1', 'issuer_did': 'FfFWVVV23CQKbnofJWXdcD'}]}}, 'requested_predicates': {}, 'nonce': '74555044900860051228405'}, 'created_at': '2021-02-26 18:44:33.689934Z', 'initiator': 'self', 'updated_at': '2021-02-26 19:04:32.514839Z'}\n"
     ]
    }
   ],
   "source": [
    "presentation_exchange_id = response[\"presentation_exchange_id\"]\n",
    "\n",
    "verify = await agent_controller.proofs.verify_presentation(presentation_exchange_id)"
   ]
  },
  {
   "cell_type": "markdown",
   "id": "demographic-amazon",
   "metadata": {},
   "source": [
    "## 11. Parse Verified Presentation Object\n",
    "\n",
    "Let's look at how we check the result of the verification and how you can access the revealed attributes. Maybe you need them for your business use case, perhaps they specify the type or quality of data the Data Owner might have. Who knows, it is up to you to define the information flows to meet your needs."
   ]
  },
  {
   "cell_type": "markdown",
   "id": "virtual-nitrogen",
   "metadata": {},
   "source": [
    "### 11.1. WARNING. The state is note an indicator of successful verification.\n",
    "\n",
    "The presentation exchange object is in the verified state. That just means you have requested your agent to verify the cryptography, not that the cryptography is verified."
   ]
  },
  {
   "cell_type": "code",
   "execution_count": 9,
   "id": "artistic-california",
   "metadata": {},
   "outputs": [
    {
     "name": "stdout",
     "output_type": "stream",
     "text": [
      "verified\n"
     ]
    }
   ],
   "source": [
    "print(verify['state'])"
   ]
  },
  {
   "cell_type": "markdown",
   "id": "talented-latitude",
   "metadata": {},
   "source": [
    "### 11.2. Check the Verified property\n",
    "\n",
    "It should be true if the cryptographic presentation is verifiable"
   ]
  },
  {
   "cell_type": "code",
   "execution_count": 10,
   "id": "sensitive-fraud",
   "metadata": {},
   "outputs": [
    {
     "name": "stdout",
     "output_type": "stream",
     "text": [
      "false\n"
     ]
    }
   ],
   "source": [
    "print(verify['verified'])"
   ]
  },
  {
   "cell_type": "markdown",
   "id": "color-score",
   "metadata": {},
   "source": [
    "### 11.3 Lets look at the revealed attributes"
   ]
  },
  {
   "cell_type": "code",
   "execution_count": 12,
   "id": "engaged-cooper",
   "metadata": {},
   "outputs": [
    {
     "name": "stdout",
     "output_type": "stream",
     "text": [
      "Attribute :  {'sub_proof_index': 0, 'raw': 'Wip', 'encoded': '59549971801270289573361438073003509582566720450232075452598086000318549451861'}\n",
      "Raw Value :  Wip\n"
     ]
    }
   ],
   "source": [
    "for (name, val) in verify['presentation']['requested_proof']['revealed_attrs'].items():\n",
    "    ## This is the actual data that you want. It's a little hidden\n",
    "    print(\"Attribute : \", val)\n",
    "    print(\"Raw Value : \", val['raw'])"
   ]
  },
  {
   "cell_type": "markdown",
   "id": "moral-brazilian",
   "metadata": {},
   "source": [
    "## End of Notebook"
   ]
  },
  {
   "cell_type": "code",
   "execution_count": null,
   "id": "ancient-cincinnati",
   "metadata": {},
   "outputs": [],
   "source": [
    "await agent_controller.terminate()"
   ]
  },
  {
   "cell_type": "markdown",
   "id": "logical-housing",
   "metadata": {},
   "source": [
    "## Congratulations Tutorial Series Complete\n",
    "\n",
    "Well done! Make sure you review the output in the Data Owner notebook and terminate the controller.\n",
    "\n",
    "The final aspect of this course will involve the application of what we have learnt in this notebook series to mediate a PySyft Duet Learning flow."
   ]
  }
 ],
 "metadata": {
  "kernelspec": {
   "display_name": "Python 3",
   "language": "python",
   "name": "python3"
  },
  "language_info": {
   "codemirror_mode": {
    "name": "ipython",
    "version": 3
   },
   "file_extension": ".py",
   "mimetype": "text/x-python",
   "name": "python",
   "nbconvert_exporter": "python",
   "pygments_lexer": "ipython3",
   "version": "3.7.6"
  }
 },
 "nbformat": 4,
 "nbformat_minor": 5
}
