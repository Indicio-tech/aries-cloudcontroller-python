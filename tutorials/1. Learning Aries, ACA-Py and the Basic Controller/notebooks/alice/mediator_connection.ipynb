{
 "cells": [
  {
   "cell_type": "code",
   "execution_count": 1,
   "id": "animated-pollution",
   "metadata": {},
   "outputs": [
    {
     "name": "stdout",
     "output_type": "stream",
     "text": [
      "IPython autoawait is `on`, and set to use `asyncio`\n"
     ]
    }
   ],
   "source": [
    "%autoawait\n",
    "import time\n",
    "import asyncio\n",
    "import pprint\n",
    "\n",
    "from aries_basic_controller.aries_controller import AriesAgentController\n",
    "\n",
    "# Create a small utility to print json formatted outout more human-readable    \n",
    "pp = pprint.PrettyPrinter(indent=4)\n",
    "\n",
    "WEBHOOK_HOST = \"0.0.0.0\"\n",
    "WEBHOOK_BASE = \"\"\n",
    "\n",
    "WEBHOOK_PORT = 8022\n",
    "ADMIN_URL = \"http://bob-agent:8021\""
   ]
  },
  {
   "cell_type": "code",
   "execution_count": 2,
   "id": "elegant-apple",
   "metadata": {},
   "outputs": [],
   "source": [
    "# Based on the aca-py agent you wish to control\n",
    "agent_controller = AriesAgentController(webhook_host=WEBHOOK_HOST, webhook_port=WEBHOOK_PORT,\n",
    "                                       webhook_base=WEBHOOK_BASE, admin_url=ADMIN_URL, mediation=True)\n"
   ]
  },
  {
   "cell_type": "code",
   "execution_count": 3,
   "id": "explicit-worth",
   "metadata": {},
   "outputs": [],
   "source": [
    "### Time to create an invitation"
   ]
  },
  {
   "cell_type": "code",
   "execution_count": 4,
   "id": "musical-likelihood",
   "metadata": {},
   "outputs": [],
   "source": [
    "# Create Invitation\n",
    "# unmediated_invite = await agent_controller.connections.create_invitation()"
   ]
  },
  {
   "cell_type": "code",
   "execution_count": null,
   "id": "helpful-trash",
   "metadata": {},
   "outputs": [],
   "source": []
  },
  {
   "cell_type": "code",
   "execution_count": 5,
   "id": "secret-scottish",
   "metadata": {},
   "outputs": [],
   "source": [
    "mediator_invitation = {'@type': 'did:sov:BzCbsNYhMrjHiqZDTUASHg;spec/connections/1.0/invitation', '@id': '90a677dc-c355-4652-9ccd-623716045f56', 'recipientKeys': ['9SqB6GmysNaHDqfLoRSjP49wDsji96eX9DHYpJQu977M'], 'serviceEndpoint': 'https://9ec92737999e.ngrok.io', 'label': 'MEDIATOR1'}"
   ]
  },
  {
   "cell_type": "code",
   "execution_count": 6,
   "id": "welsh-college",
   "metadata": {},
   "outputs": [
    {
     "name": "stdout",
     "output_type": "stream",
     "text": [
      "{   'accept': 'manual',\n",
      "    'connection_id': '1c23d8b3-cbd7-4a6d-a3a9-ce22520e0212',\n",
      "    'created_at': '2021-03-29 12:28:09.708814Z',\n",
      "    'invitation_key': '9SqB6GmysNaHDqfLoRSjP49wDsji96eX9DHYpJQu977M',\n",
      "    'invitation_mode': 'once',\n",
      "    'my_did': 'Ax6GQ9Buxfna5TKubxK7kP',\n",
      "    'request_id': '0053c5bd-a329-44ea-a1e3-c53e2375aeff',\n",
      "    'rfc23_state': 'request-sent',\n",
      "    'routing_state': 'none',\n",
      "    'state': 'request',\n",
      "    'their_label': 'MEDIATOR1',\n",
      "    'their_role': 'inviter',\n",
      "    'updated_at': '2021-03-29 12:28:09.727999Z'}\n"
     ]
    }
   ],
   "source": [
    "response = await agent_controller.connections.accept_connection(mediator_invitation)\n",
    "pp.pprint(response)"
   ]
  },
  {
   "cell_type": "code",
   "execution_count": null,
   "id": "choice-perfume",
   "metadata": {},
   "outputs": [],
   "source": []
  }
 ],
 "metadata": {
  "kernelspec": {
   "display_name": "Python 3",
   "language": "python",
   "name": "python3"
  },
  "language_info": {
   "codemirror_mode": {
    "name": "ipython",
    "version": 3
   },
   "file_extension": ".py",
   "mimetype": "text/x-python",
   "name": "python",
   "nbconvert_exporter": "python",
   "pygments_lexer": "ipython3",
   "version": "3.7.6"
  }
 },
 "nbformat": 4,
 "nbformat_minor": 5
}
